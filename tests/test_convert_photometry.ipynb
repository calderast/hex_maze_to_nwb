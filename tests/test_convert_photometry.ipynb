{
 "cells": [
  {
   "cell_type": "code",
   "execution_count": 1,
   "metadata": {},
   "outputs": [
    {
     "name": "stdout",
     "output_type": "stream",
     "text": [
      "Adding photometry...\n"
     ]
    }
   ],
   "source": [
    "from datetime import datetime\n",
    "from dateutil import tz\n",
    "from pynwb import NWBFile\n",
    "from pynwb import NWBHDF5IO\n",
    "\n",
    "from jdb_to_nwb.convert_photometry import add_photometry\n",
    "\n",
    "def test_convert_photometry():\n",
    "    \"\"\" Test the add_photometry function. \"\"\"\n",
    "\n",
    "    # Test data is copied from T:\\ACh Rats\\80B8CE6 (Ceecee)\\02222024-L\n",
    "    metadata = {}\n",
    "    metadata[\"photometry\"] = {}\n",
    "    metadata[\"photometry\"][\"signals_mat_file_path\"] = 'T:/ACh Rats/80B8CE6_ceecee/02222024-L/signals.mat'\n",
    "\n",
    "    nwbfile = NWBFile(\n",
    "        session_description=\"Mock session\",\n",
    "        session_start_time=datetime.now(tz.tzlocal()),\n",
    "        identifier=\"mock_session\",\n",
    "    )\n",
    "\n",
    "    # Our function doesn't add things to NWB yet, so return here for now so we can check they match\n",
    "    raw_green, raw_reference, gzdFF, rzdFF, visits, z_reference_fitted = add_photometry(nwbfile, metadata)\n",
    "    return raw_green, raw_reference, gzdFF, rzdFF, visits, z_reference_fitted\n",
    "\n",
    "raw_green, raw_reference, gzdFF, rzdFF, visits, z_reference_fitted = test_convert_photometry()"
   ]
  },
  {
   "cell_type": "code",
   "execution_count": 11,
   "metadata": {},
   "outputs": [
    {
     "ename": "NameError",
     "evalue": "name 'nwbfile' is not defined",
     "output_type": "error",
     "traceback": [
      "\u001b[1;31m---------------------------------------------------------------------------\u001b[0m",
      "\u001b[1;31mNameError\u001b[0m                                 Traceback (most recent call last)",
      "Cell \u001b[1;32mIn[11], line 3\u001b[0m\n\u001b[0;32m      1\u001b[0m \u001b[38;5;66;03m# Save the NWBFile as a test\u001b[39;00m\n\u001b[0;32m      2\u001b[0m \u001b[38;5;28;01mwith\u001b[39;00m NWBHDF5IO(\u001b[38;5;124m\"\u001b[39m\u001b[38;5;124mphotometry_test.nwb\u001b[39m\u001b[38;5;124m\"\u001b[39m, \u001b[38;5;124m\"\u001b[39m\u001b[38;5;124mw\u001b[39m\u001b[38;5;124m\"\u001b[39m) \u001b[38;5;28;01mas\u001b[39;00m io:\n\u001b[1;32m----> 3\u001b[0m     io\u001b[38;5;241m.\u001b[39mwrite(\u001b[43mnwbfile\u001b[49m)\n",
      "\u001b[1;31mNameError\u001b[0m: name 'nwbfile' is not defined"
     ]
    },
    {
     "ename": "",
     "evalue": "",
     "output_type": "error",
     "traceback": [
      "\u001b[1;31mThe Kernel crashed while executing code in the current cell or a previous cell. \n",
      "\u001b[1;31mPlease review the code in the cell(s) to identify a possible cause of the failure. \n",
      "\u001b[1;31mClick <a href='https://aka.ms/vscodeJupyterKernelCrash'>here</a> for more info. \n",
      "\u001b[1;31mView Jupyter <a href='command:jupyter.viewOutput'>log</a> for further details."
     ]
    }
   ],
   "source": [
    "# Save the NWBFile as a test\n",
    "with NWBHDF5IO(\"photometry_test.nwb\", \"w\") as io:\n",
    "    io.write(nwbfile)"
   ]
  },
  {
   "cell_type": "code",
   "execution_count": null,
   "metadata": {},
   "outputs": [],
   "source": [
    "from pynwb import NWBHDF5IO\n",
    "\n",
    "# Open the NWB file\n",
    "nwb_file_path = 'photometry_test.nwb'  # Replace with your file path\n",
    "io = NWBHDF5IO(nwb_file_path, 'r')  # 'r' indicates read mode\n",
    "nwbfile = io.read()\n",
    "\n",
    "# Read the photometry data to check it exists! \n",
    "# (It doesn't yet because our add_photometry function doesn't add things to the NWB yet)\n",
    "\n",
    "# Close the file after reading\n",
    "io.close()\n"
   ]
  }
 ],
 "metadata": {
  "kernelspec": {
   "display_name": "myenv",
   "language": "python",
   "name": "python3"
  },
  "language_info": {
   "codemirror_mode": {
    "name": "ipython",
    "version": 3
   },
   "file_extension": ".py",
   "mimetype": "text/x-python",
   "name": "python",
   "nbconvert_exporter": "python",
   "pygments_lexer": "ipython3",
   "version": "3.12.2"
  }
 },
 "nbformat": 4,
 "nbformat_minor": 2
}
