{
 "cells": [
  {
   "cell_type": "code",
   "execution_count": 7,
   "metadata": {},
   "outputs": [],
   "source": [
    "from datetime import datetime\n",
    "from dateutil import tz\n",
    "from pynwb import NWBFile\n",
    "from pynwb import NWBHDF5IO\n",
    "\n",
    "from jdb_to_nwb.convert_photometry import add_photometry\n",
    "\n",
    "def test_convert_photometry():\n",
    "    \"\"\" Test the add_photometry function. \"\"\"\n",
    "\n",
    "    # Test data is copied from T:\\ACh Rats\\80B8CE6 (Ceecee)\\02222024-L\n",
    "    metadata = {}\n",
    "    metadata[\"photometry\"] = {}\n",
    "    metadata[\"photometry\"][\"signals_mat_file_path\"] = 'T:/ACh Rats/80B8CE6 (Ceecee)/02222024-L'\n",
    "\n",
    "    nwbfile = NWBFile(\n",
    "        session_description=\"Mock session\",\n",
    "        session_start_time=datetime.now(tz.tzlocal()),\n",
    "        identifier=\"mock_session\",\n",
    "    )\n",
    "\n",
    "    add_photometry(nwbfile, metadata)"
   ]
  },
  {
   "cell_type": "code",
   "execution_count": null,
   "metadata": {},
   "outputs": [],
   "source": [
    "# Save the NWBFile as a test\n",
    "with NWBHDF5IO(\"photometry_test.nwb\", \"w\") as io:\n",
    "    io.write(nwbfile)"
   ]
  },
  {
   "cell_type": "code",
   "execution_count": null,
   "metadata": {},
   "outputs": [],
   "source": [
    "from pynwb import NWBHDF5IO\n",
    "\n",
    "# Open the NWB file\n",
    "nwb_file_path = 'photometry_test.nwb'  # Replace with your file path\n",
    "io = NWBHDF5IO(nwb_file_path, 'r')  # 'r' indicates read mode\n",
    "nwbfile = io.read()\n",
    "\n",
    "# Read the photometry data to check it exists! \n",
    "# (It doesn't yet because our add_photometry function doesn't add things to the NWB yet)\n",
    "\n",
    "# Close the file after reading\n",
    "io.close()\n"
   ]
  }
 ],
 "metadata": {
  "kernelspec": {
   "display_name": "myenv",
   "language": "python",
   "name": "python3"
  },
  "language_info": {
   "codemirror_mode": {
    "name": "ipython",
    "version": 3
   },
   "file_extension": ".py",
   "mimetype": "text/x-python",
   "name": "python",
   "nbconvert_exporter": "python",
   "pygments_lexer": "ipython3",
   "version": "3.12.2"
  }
 },
 "nbformat": 4,
 "nbformat_minor": 2
}
