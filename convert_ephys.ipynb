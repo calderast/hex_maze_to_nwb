{
 "cells": [
  {
   "cell_type": "code",
   "execution_count": 3,
   "id": "53ef3a4e-8c8d-4757-ac80-d845d6a1cd7c",
   "metadata": {},
   "outputs": [
    {
     "name": "stdout",
     "output_type": "stream",
     "text": [
      "/Volumes/Tim/Ephys/IM-1478/07192022/2022-07-19_13-12-30\n"
     ]
    },
    {
     "name": "stderr",
     "output_type": "stream",
     "text": [
      "/Users/steph/berkelab/jdb_to_nwb/venv/lib/python3.12/site-packages/tqdm/auto.py:21: TqdmWarning: IProgress not found. Please update jupyter and ipywidgets. See https://ipywidgets.readthedocs.io/en/stable/user_install.html\n",
      "  from .autonotebook import tqdm as notebook_tqdm\n"
     ]
    },
    {
     "name": "stdout",
     "output_type": "stream",
     "text": [
      "DeepDict: {'NWBFile': {'session_description': '', 'identifier': '7498d091-3187-499b-a2c3-9bf610190ad9', 'source_script': 'Created using NeuroConv v0.4.11', 'source_script_file_name': '/Users/steph/berkelab/jdb_to_nwb/venv/lib/python3.12/site-packages/neuroconv/basedatainterface.py', 'session_start_time': datetime.datetime(2022, 7, 19, 13, 12, 30)}, 'Ecephys': {'Device': [{'name': 'DeviceEcephys', 'description': 'no description'}], 'ElectrodeGroup': [{'name': 'ElectrodeGroup', 'description': 'no description', 'location': 'unknown', 'device': 'DeviceEcephys'}], 'ElectricalSeries': {'name': 'ElectricalSeries', 'description': 'Acquisition traces for the ElectricalSeries.'}}}\n"
     ]
    }
   ],
   "source": [
    "from datetime import datetime\n",
    "import os\n",
    "\n",
    "from neuroconv.datainterfaces import OpenEphysRecordingInterface\n",
    "\n",
    "def get_open_ephys_path(rat, date, directory='/Volumes/Tim/Ephys'):\n",
    "    '''\n",
    "    Attempt to find OpenEphys recording directory for the given rat and date.\n",
    "    The assumed directory structure is {directory}/{rat}/{date}/etc\n",
    "    Complain if no directory is found. \n",
    "\n",
    "    Args:\n",
    "    rat (string): The ID of the rat\n",
    "    date (string): The date to load, in MMDDYYYY format\n",
    "    directory (string): The base directory to load from\n",
    "\n",
    "    Returns:\n",
    "    string: Path to the OpenEphys recording, or None if not found\n",
    "    '''\n",
    "    # Get the path to all data for this session (rat + date)\n",
    "    ephys_session_path = f\"{directory}/{rat}/{date}\"\n",
    "    # Check if the folder exists for this session\n",
    "    if not os.path.exists(ephys_session_path):\n",
    "        return f\"The folder {ephys_session_path} does not exist.\"\n",
    "    \n",
    "    # Convert date string from MMDDYYYY to YYYY-MM-DD\n",
    "    # because this is what the OpenEphys recording folder starts with\n",
    "    date_string = datetime.strptime(date, \"%m%d%Y\").strftime(\"%Y-%m-%d\")\n",
    "\n",
    "    # Search for the OpenEphys recording folder starting with the date\n",
    "    for folder_name in os.listdir(ephys_session_path):\n",
    "        if folder_name.startswith(date_string):\n",
    "            return f\"{ephys_session_path}/{folder_name}\"\n",
    "\n",
    "rat = 'IM-1478'\n",
    "date = '07192022'\n",
    "open_ephys_folder = get_open_ephys_path(rat, date)\n",
    "print(open_ephys_folder)\n",
    "\n",
    "# Read Open Ephys data for this session\n",
    "interface = OpenEphysRecordingInterface(folder_path=open_ephys_folder)\n",
    "# Extract what metadata we can from the source files\n",
    "metadata = interface.get_metadata()\n",
    "\n",
    "print(metadata)\n"
   ]
  },
  {
   "cell_type": "code",
   "execution_count": 28,
   "id": "31782727-845f-4c4d-93ae-ddc08ef4d76c",
   "metadata": {},
   "outputs": [],
   "source": [
    "# from neuroconv.utils.dict import load_dict_from_file, dict_deep_update\n",
    "# metadata_path = \"my_lab_metadata.yml\"\n",
    "# metadata_from_yaml = load_dict_from_file(file_path=metadata_path)\n",
    "\n",
    "# metadata = interface.get_metadata()\n",
    "# metadata = dict_deep_update(metadata, metadata_from_yaml)"
   ]
  },
  {
   "cell_type": "code",
   "execution_count": 29,
   "id": "abe60dbc-2f8e-4e56-98fb-c25131a452a3",
   "metadata": {},
   "outputs": [
    {
     "name": "stdout",
     "output_type": "stream",
     "text": [
      "{'Ecephys': DeepDict: {'Device': [{'name': 'DeviceEcephys', 'description': 'no description'}, {'name': 'Neuropixels 1.0', 'description': 'My Neuropixels probe'}], 'ElectrodeGroup': [{'name': 'ElectrodeGroup', 'description': 'The whole probe', 'location': 'CA1', 'device': 'Neuropixels 1.0'}], 'ElectricalSeries': {'name': 'ElectricalSeries', 'description': 'Acquisition traces for the ElectricalSeries.'}},\n",
      " 'NWBFile': DeepDict: {'session_description': '', 'identifier': 'fd89b155-d394-4932-b2ca-be7617ea6f13', 'source_script': 'Created using NeuroConv v0.4.11', 'source_script_file_name': '/Users/rly/mambaforge/envs/test/lib/python3.11/site-packages/neuroconv/basedatainterface.py', 'session_start_time': datetime.datetime(2022, 7, 25, 15, 30)},\n",
      " 'experimenter': ['Ryan Ly', 'Stephanie Crater'],\n",
      " 'institution': 'UCSF',\n",
      " 'session_description': 'my session description',\n",
      " 'session_start_time': '2024-07-10T20:20:06'}\n"
     ]
    }
   ],
   "source": [
    "# from pprint import pprint\n",
    "# pprint(dict(metadata))"
   ]
  },
  {
   "cell_type": "code",
   "execution_count": null,
   "id": "617f7199-443c-4f01-a352-3ac8af182ff0",
   "metadata": {},
   "outputs": [],
   "source": [
    "# Choose a path for saving the nwb file and run the conversion\n",
    "nwbfile_path = \"output.nwb\"  # This should be something like: \"./saved_file.nwb\"\n",
    "interface.run_conversion(nwbfile_path=nwbfile_path, metadata=metadata)"
   ]
  },
  {
   "cell_type": "code",
   "execution_count": 43,
   "id": "c51fd9f5-1634-4434-842f-2cef0056dce1",
   "metadata": {},
   "outputs": [],
   "source": [
    "from datetime import datetime\n",
    "from uuid import uuid4\n",
    "\n",
    "import numpy as np\n",
    "from dateutil.tz import tzlocal\n",
    "\n",
    "from pynwb import NWBHDF5IO, NWBFile\n",
    "from pynwb.ecephys import LFP, ElectricalSeries"
   ]
  },
  {
   "cell_type": "code",
   "execution_count": 44,
   "id": "6c237e97-2451-4d9b-898d-322653a11e70",
   "metadata": {},
   "outputs": [],
   "source": [
    "nwbfile = NWBFile(\n",
    "    session_description=\"my first synthetic recording\",\n",
    "    identifier=str(uuid4()),\n",
    "    session_start_time=datetime.now(tzlocal()),\n",
    "    experimenter=[\n",
    "        \"Ryan Ly\",\n",
    "        \"Stephanie Crater\",\n",
    "    ],\n",
    "    lab=\"Bag End Laboratory\",\n",
    "    institution=\"University of Middle Earth at the Shire\",\n",
    "    experiment_description=\"I went on an adventure to reclaim vast treasures.\",\n",
    "    keywords=[\"ecephys\", \"exploration\", \"wanderlust\"],\n",
    "    related_publications=\"doi:10.1016/j.neuron.2016.12.011\",\n",
    ")\n",
    "\n",
    "with NWBHDF5IO(\"output.nwb\", \"w\") as io:\n",
    "    io.write(nwbfile)\n"
   ]
  },
  {
   "cell_type": "code",
   "execution_count": 41,
   "id": "dd4ad97d-64d3-4c1f-9391-9e38e65e7757",
   "metadata": {},
   "outputs": [
    {
     "name": "stdout",
     "output_type": "stream",
     "text": [
      "{'Ecephys': {'Device': [{'description': 'My Neuropixels probe',\n",
      "                         'name': 'Neuropixels 1.0'}],\n",
      "             'ElectrodeGroup': [{'description': 'The whole probe',\n",
      "                                 'device': 'Neuropixels 1.0',\n",
      "                                 'location': 'CA1',\n",
      "                                 'name': 'ElectrodeGroup'}]},\n",
      " 'institution': 'UCSF',\n",
      " 'session_description': 'my session description',\n",
      " 'session_start_time': datetime.datetime(2024, 7, 10, 20, 20, 6)}\n"
     ]
    }
   ],
   "source": [
    "from ruamel.yaml import YAML\n",
    "\n",
    "with open(\"my_lab_metadata.yml\") as f:\n",
    "    y = YAML(typ=\"safe\").load(f)\n",
    "    pprint(y)\n",
    "\n",
    "    if \"experimenter\" not in y:\n",
    "        # warn or provide default value\n",
    "        pass\n",
    "    else:\n",
    "        # ...\n",
    "        pass\n",
    "    "
   ]
  },
  {
   "cell_type": "code",
   "execution_count": null,
   "id": "91027fcf-a750-4ace-a8e9-5d782b0efdce",
   "metadata": {},
   "outputs": [],
   "source": []
  }
 ],
 "metadata": {
  "kernelspec": {
   "display_name": "Python 3 (ipykernel)",
   "language": "python",
   "name": "python3"
  },
  "language_info": {
   "codemirror_mode": {
    "name": "ipython",
    "version": 3
   },
   "file_extension": ".py",
   "mimetype": "text/x-python",
   "name": "python",
   "nbconvert_exporter": "python",
   "pygments_lexer": "ipython3",
   "version": "3.12.3"
  }
 },
 "nbformat": 4,
 "nbformat_minor": 5
}
