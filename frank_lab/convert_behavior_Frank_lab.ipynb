{
 "cells": [
  {
   "cell_type": "markdown",
   "metadata": {},
   "source": [
    "## Usage\n",
    "\n",
    "Provide the path to a Frank Lab nwbfile with statescriptlogs saved as AssociatedFiles objects and behavioral event DIOs in the behavior processing module.\n",
    "\n",
    "Also provide the path to the excel sheet of experimental notes (including maze configurations for each block in column 'barrier location'), and the name of the sheet tab (defaults to 'Daily configs and notes_Bandit+' if not specified.)\n",
    "\n",
    "Specify save_type: `\"pickle\"` or `\"csv\"` to save the trial and block dataframes for each epoch as .pkl or .csv files, `\"nwb\"` to save the trial and block data directly as time intervals in the nwbfile. It is possible to combine save types, e.g. `save_type=\"pickle,nwb\"`.\n",
    "\n",
    "Additional argument `overwrite` specifies if existing block and trials data in the nwbfile should be overwritten. Applies only to `save_type=\"nwb\"`. Keeping `overwrite=False` is a good protection against rewriting the file over and over (it will write to the file the first time if there is no existing trial and block data, then stop and complain.)\n",
    "\n",
    "#### Example\n",
    "```\n",
    "nwb_path = 'data/BraveLu20240519_copy.nwb'\n",
    "excel_path = 'data/BraveLu_experimental_notes.xlsx'\n",
    "sheet_name = 'Daily configs and notes_Bandit+'\n",
    "add_behavioral_data_to_nwb(nwb_path=nwb_path, excel_path=excel_path, sheet_name=sheet_name, save_type=\"nwb\", overwrite=True)\n",
    "```\n",
    "\n",
    "### Deleting block and trials table from the nwb\n",
    "If you need to delete the block and trials table from the nwb, run:\n",
    "```\n",
    "nwb_path = 'data/BraveLu20240519_copy.nwb'\n",
    "delete_blocks_and_trials_from_nwb(nwb_path)\n",
    "```\n",
    "\n",
    "This function deletes block and trials tables (stored as TimeIntervals) from an nwbfile if they exist. \n",
    "This modifies the file in-place. Note that this will not actually reduce the file size due to limitations in the HDF5 format.\n",
    "\n"
   ]
  },
  {
   "cell_type": "code",
   "execution_count": 19,
   "metadata": {},
   "outputs": [],
   "source": [
    "import re\n",
    "import ast\n",
    "import numpy as np\n",
    "import pandas as pd\n",
    "from collections import Counter\n",
    "import h5py\n",
    "from pynwb import NWBFile, NWBHDF5IO\n",
    "\n",
    "pd.set_option('display.float_format', '{:.0f}'.format)\n",
    "\n",
    "# Suppress warning message text after the `warnings.warn` call\n",
    "import warnings\n",
    "warnings.simplefilter(\"always\")\n",
    "warnings.showwarning = lambda message, category, filename, lineno, file=None, line=None: print(f\"{filename}:{lineno}: {category.__name__}: {message}\")\n",
    "\n",
    "poke_in_regex = re.compile(r\"^(\\d+)\\sUP\\s(\\d+)\")  # matches: timestamp UP port_num\n",
    "poke_out_regex = re.compile(r\"^(\\d+)\\sDOWN\\s(\\d+)\")  # matches: timestamp DOWN port_num\n",
    "behavior_data_regex = re.compile(r\"(\\d+)\\s+(contingency|trialThresh|totalPokes|totalRewards|ifDelay|countPokes[1-3]|countRewards[1-3]|portProbs[1-3])\\s*=\\s*(\\d+)\")\n",
    "block_end_regex = re.compile(r\"(\\d+)\\s+This block is over!\")\n",
    "session_end_regex = re.compile(r\"(\\d+)\\s+This session is complete!\")\n",
    "\n",
    "\n",
    "def parse_trial_and_block_data(behavior_data, block_ends):\n",
    "    \"\"\"\n",
    "    Parse behavioral data from the stateScriptLog into dataframes of trial-level and block-level data\n",
    "\n",
    "    Args:\n",
    "    behavior_data: list of dicts of behavioral event data from the statescriptlog\n",
    "    block_ends: list of timestamps of block ends found in the statescriptlog\n",
    "\n",
    "    Returns:\n",
    "    trial_df: Dataframe of trial information for this epoch\n",
    "    block_df: Dataframe of block information for this epoch\n",
    "    \"\"\"\n",
    "    \n",
    "    # Convert our list of block end timestamps to a dictionary of block: timestamp\n",
    "    block_ends_dict = {index + 1: item['timestamp'] for index, item in enumerate(block_ends)}\n",
    "    # Set the default end time as a big number that will definitely be larger than all timestamps in the stateScriptLog.\n",
    "    # This will be used if we don't have a recorded block end time and overwritten by the real timestamp later\n",
    "    default_block_end_time = 100_000_000\n",
    "\n",
    "    # Make sure we have the complete set of information for each trial\n",
    "    variable_counts = Counter(item[\"name\"] for item in behavior_data)\n",
    "    info_rows_per_trial = len(variable_counts)\n",
    "    if len(set(variable_counts.values())) != 1:\n",
    "        raise Exception(f\"Warning: Mismatch in the amount of information for each trial: {variable_counts}\")\n",
    "\n",
    "    # Initialize variables\n",
    "    trial_data = []\n",
    "    block_data = []\n",
    "    current_trial = {}\n",
    "    previous_trial = {}\n",
    "    current_block = {}\n",
    "    previous_block = {}\n",
    "    trial_within_block = 1  # tracks the trials in each block\n",
    "    trial_within_session = 1  # tracks the total trials in this session\n",
    "    block = 1\n",
    "\n",
    "    port_visit_counts = {1: 0, 2: 0, 3: 0}\n",
    "    total_rewards = 0\n",
    "\n",
    "    # Group our behavioral data into trials\n",
    "    for row in range(0, len(behavior_data), info_rows_per_trial):\n",
    "        # Grab the data for this trial\n",
    "        trial_dict = {\n",
    "            item[\"name\"]: {\"timestamp\": item[\"timestamp\"], \"value\": item[\"value\"]}\n",
    "            for item in behavior_data[row : row + info_rows_per_trial]\n",
    "        }\n",
    "\n",
    "        # Start the first block\n",
    "        if trial_within_session == 1:\n",
    "            current_block = {\n",
    "                \"block\": block,\n",
    "                \"pA\": trial_dict[\"portProbs1\"][\"value\"],\n",
    "                \"pB\": trial_dict[\"portProbs2\"][\"value\"],\n",
    "                \"pC\": trial_dict[\"portProbs3\"][\"value\"],\n",
    "                \"statescript_end_timestamp\": block_ends_dict.get(block, default_block_end_time),\n",
    "                \"start_trial\": 1,\n",
    "                \"end_trial\": None,\n",
    "                # This may be updated later if the rat does not complete all trials in this block\n",
    "                \"num_trials\": trial_dict[\"trialThresh\"][\"value\"],\n",
    "            }\n",
    "        # Or move to the next block if it's time\n",
    "        elif trial_dict[\"contingency\"][\"timestamp\"] >= current_block[\"statescript_end_timestamp\"]:\n",
    "            # Update the number of trials in the block because we may not have reached the trial threshold\n",
    "            current_block[\"num_trials\"] = trial_within_block-1\n",
    "            current_block[\"end_trial\"] = current_trial.get(\"trial_within_session\")\n",
    "            # The current block is now the previous block\n",
    "            previous_block = current_block\n",
    "            block_data.append(previous_block)\n",
    "            block += 1\n",
    "            # Set up the new current block\n",
    "            current_block = {\n",
    "                \"block\": block,\n",
    "                \"pA\": trial_dict[\"portProbs1\"][\"value\"],\n",
    "                \"pB\": trial_dict[\"portProbs2\"][\"value\"],\n",
    "                \"pC\": trial_dict[\"portProbs3\"][\"value\"],\n",
    "                \"statescript_end_timestamp\": block_ends_dict.get(block, default_block_end_time),\n",
    "                \"start_trial\": previous_block.get(\"end_trial\")+1,\n",
    "                \"end_trial\": None,\n",
    "                \"num_trials\": trial_dict[\"trialThresh\"][\"value\"],\n",
    "            }\n",
    "            # Reset port visit counts and reward info for the new block\n",
    "            port_visit_counts = {1: 0, 2: 0, 3: 0}\n",
    "            total_rewards = 0\n",
    "            trial_within_block = 1\n",
    "\n",
    "        # Get the end port for this trial by checking which poke count increased\n",
    "        current_port_visit_counts = {port_num: trial_dict[f\"countPokes{port_num}\"][\"value\"] for port_num in [1, 2, 3]}\n",
    "        end_port = next((i for i in [1, 2, 3] if current_port_visit_counts[i] == port_visit_counts[i] + 1), None)\n",
    "        if end_port is None:\n",
    "            raise Exception(f\"Warning: No end port detected for trial: {trial_within_block} in block {current_block.get('block_num')}\")\n",
    "\n",
    "        # Only record the delay value if this was a rewarded trial\n",
    "        reward = 1 if trial_dict[\"totalRewards\"][\"value\"] == total_rewards + 1 else 0\n",
    "\n",
    "        # We may not have delay info for all trial types:\n",
    "        # If trial dict does not include key \"delay\", create a default dict that makes delay value \"N/A\"\n",
    "        delay_dict = trial_dict.get(\"delay\", {\"value\": \"N/A\"})\n",
    "        delay = delay_dict.get(\"value\") if reward else \"N/A\"\n",
    "\n",
    "        # Add the information for this trial\n",
    "        current_trial = {\n",
    "            \"trial_within_block\": trial_within_block,\n",
    "            \"trial_within_session\": trial_within_session,\n",
    "            \"block\": current_block.get(\"block\"),\n",
    "            \"start_port\": previous_trial.get(\"end_port\", -1),\n",
    "            \"end_port\": end_port,\n",
    "            \"reward\": reward,\n",
    "            \"delay\": delay,\n",
    "            \"statescript_reference_timestamp\": trial_dict[\"contingency\"][\"timestamp\"],\n",
    "        }\n",
    "        trial_data.append(current_trial)\n",
    "\n",
    "        # Update for the next trial\n",
    "        previous_trial = current_trial\n",
    "        trial_within_block += 1\n",
    "        trial_within_session += 1\n",
    "        port_visit_counts = current_port_visit_counts\n",
    "        total_rewards = trial_dict[\"totalRewards\"][\"value\"]\n",
    "\n",
    "    # Update the number of trials in the final block because we may not have reached the trial threshold\n",
    "    current_block[\"num_trials\"] = trial_within_block-1\n",
    "    current_block[\"end_trial\"] = current_trial.get(\"trial_within_session\")\n",
    "    # Update the end time of the final block\n",
    "    if current_block[\"statescript_end_timestamp\"] == default_block_end_time:\n",
    "        current_block[\"statescript_end_timestamp\"] = previous_trial.get(\"statescript_reference_timestamp\")\n",
    "    # Append the final block\n",
    "    block_data.append(current_block)\n",
    "\n",
    "    # Sanity check that we got data for the expected number of trials\n",
    "    total_trials = set(variable_counts.values()).pop()\n",
    "    if len(trial_data) != total_trials:\n",
    "        raise Exception(f\"Warning: Expected data for {total_trials} trials, got data for {len(trial_data)}\")\n",
    "    \n",
    "    # Map ports 1, 2, 3 to A, B, C (mapping -1 to \"None\" for the first start_port)\n",
    "    trial_df = pd.DataFrame(trial_data)\n",
    "    trial_df[\"start_port\"] = trial_df[\"start_port\"].map({-1: \"None\", 1: \"A\", 2: \"B\", 3: \"C\"})\n",
    "    trial_df[\"end_port\"] = trial_df[\"end_port\"].map({1: \"A\", 2: \"B\", 3: \"C\"})\n",
    "\n",
    "    return trial_df, pd.DataFrame(block_data)\n",
    "\n",
    "\n",
    "def parse_nosepoke_events(nosepoke_events, nosepoke_DIOs, poke_time_threshold=1):\n",
    "    \"\"\"\n",
    "    Given a all nosepoke events from the statescript and all nosepoke DIOs, \n",
    "    ensure all events are valid and match the statescript and DIO nosepokes.\n",
    "    Return a dataframe including only nosepoke events at a new port.\n",
    "\n",
    "    The rat must stop breaking the beam for at least poke_time_threshold\n",
    "    for that poke to be considered over (multiple consecutive pokes at the same \n",
    "    port in a short period of time are considered one poke).\n",
    "    Instead of recording the poke_out directly following the poke_in at a new port,\n",
    "    we record the last poke_out after which the rat didn't immediately poke back in again\n",
    "    (immediately = poke_out and next poke_in are less than poke_time_threshold apart).\n",
    "\n",
    "    Args:\n",
    "    nosepoke_events: list of dicts, where each dict contains key-value pairs\n",
    "        describing each nosepoke event from the statescriptlog:\n",
    "            'timestamp': statescript timestamp, \n",
    "            'event_name': 'poke_in' or 'poke_out', \n",
    "            'port': 1, 2, or 4 (referring to ports A, B, and C)\n",
    "    nosepoke_DIOs: dict with keys wellA_poke, wellB_poke, and wellC_poke corresponding\n",
    "        to DIO events, and values (data, timestamps) where data is 1/0 DIO high/low\n",
    "        and timestamps are the DIO timestamps of these events\n",
    "\n",
    "    Returns:\n",
    "    Dataframe including only nosepoke events at new ports, with columns\n",
    "    event_name, port, timestamp_DIO, timestamp_statescript\n",
    "    \"\"\"\n",
    "\n",
    "    # Make sure we have the same number of poke_in and poke_out events from the statescriptlog\n",
    "    # NOTE: We later check that each poke_in is followed by a poke_out at the same port, so maybe overkill.\n",
    "    # Keeping for now, probably delete later.\n",
    "    event_counts = Counter(event[\"event_name\"] for event in nosepoke_events)\n",
    "    if event_counts[\"poke_in\"] != event_counts[\"poke_out\"]:\n",
    "        raise Exception(f\"Warning: {event_counts['poke_in']} poke_in events but {event_counts['poke_out']} poke_out events in the statescript!\")\n",
    "\n",
    "    # Convert statescript pokes from list of dicts to a dataframe (mapping DIO 1, 2, 4 to ports A, B, C)\n",
    "    statescript_nosepoke_df = pd.DataFrame(nosepoke_events)\n",
    "    statescript_nosepoke_df[\"port\"] = statescript_nosepoke_df[\"port\"].map({1: \"A\", 2: \"B\", 4: \"C\"})\n",
    "\n",
    "    # Create a dataframe of DIO pokes that matches the dataframe from the statescript\n",
    "    port_map = {'wellA_poke': 'A', 'wellB_poke': 'B', 'wellC_poke': 'C'}\n",
    "    DIO_nosepoke_df = pd.DataFrame([\n",
    "    {'timestamp': ts, 'event_name': 'poke_in' if d == 1 else 'poke_out', 'port': port_map[k]}\n",
    "    for k, (data_list, timestamps) in nosepoke_DIOs.items()\n",
    "    for d, ts in zip(data_list, timestamps)\n",
    "    ])\n",
    "    DIO_nosepoke_df = DIO_nosepoke_df.sort_values(by='timestamp').reset_index(drop=True)\n",
    "\n",
    "    # Print poke info for debugging purposes while this code is still in development\n",
    "    # TODO: When we switch to a formal logging framework, make this a low/debug log level\n",
    "    print(f\"{len(DIO_nosepoke_df)} nosepokes from the DIOs: {DIO_nosepoke_df['port'].value_counts().to_dict()}\")\n",
    "    print(f\"{len(statescript_nosepoke_df)} nosepokes from the statescript: {statescript_nosepoke_df['port'].value_counts().to_dict()}\")\n",
    "\n",
    "    # Make sure each poke_in is followed by a poke_out at the same port (statescript)\n",
    "    for row in range(0, len(statescript_nosepoke_df) - 1, 2):\n",
    "        event1 = statescript_nosepoke_df.iloc[row]\n",
    "        event2 = statescript_nosepoke_df.iloc[row + 1]\n",
    "        if not (event1[\"event_name\"] == \"poke_in\" and event2[\"event_name\"] == \"poke_out\" and event1[\"port\"] == event2[\"port\"]):\n",
    "            raise Exception(f\"Warning: Invalid nosepoke pair from statescript at timestamps {event1['timestamp']} and {event2['timestamp']}!\")\n",
    "      \n",
    "    # Make sure each poke_in is followed by a poke_out at the same port (DIO)\n",
    "    for row in range(0, len(DIO_nosepoke_df) - 1, 2):\n",
    "        event1 = DIO_nosepoke_df.iloc[row]\n",
    "        event2 = DIO_nosepoke_df.iloc[row + 1]\n",
    "        if not (event1[\"event_name\"] == \"poke_in\" and event2[\"event_name\"] == \"poke_out\" and event1[\"port\"] == event2[\"port\"]):\n",
    "            raise Exception(f\"Warning: Invalid nosepoke pair from DIOs at timestamps {event1['timestamp']} and {event2['timestamp']}!\")\n",
    "\n",
    "    # Make sure the number of DIO pokes matches the number of pokes from the statescriptlog.\n",
    "    # Note that the DIO may have more pokes because it keeps recording after the statescript has been stopped (this is ok).\n",
    "    # Warn the user about it anyway for the sake of providing all of the info.\n",
    "    if len(DIO_nosepoke_df) > len(statescript_nosepoke_df):\n",
    "        warnings.warn(f\"Length mismatch: {len(DIO_nosepoke_df)} nosepokes from DIOs, \" \n",
    "                      f\"but only {len(statescript_nosepoke_df)} nosepokes from statescript.\\n\"\n",
    "                      \"The DIO may have more pokes because it keeps recording after the statescript has been stopped (this is ok).\")\n",
    "    # The statescript should never have more pokes than the DIOs - break if this happens so we can figure out why.\n",
    "    elif len(statescript_nosepoke_df) > len(DIO_nosepoke_df):\n",
    "        raise Exception(f\"Length mismatch: {len(statescript_nosepoke_df)} nosepokes from statescript but {len(DIO_nosepoke_df)} nosepokes from DIOs!\")\n",
    "    \n",
    "    # Match statescript and DIO pokes.\n",
    "    # For each event_name and port combination, add an index column enumerating which one it is.\n",
    "    # This will allow us to merge the DIO and statescript dfs while matching the correct instances of each event\n",
    "    DIO_nosepoke_df['index'] = DIO_nosepoke_df.groupby(['event_name', 'port']).cumcount()\n",
    "    statescript_nosepoke_df['index'] = statescript_nosepoke_df.groupby(['event_name', 'port']).cumcount()\n",
    "\n",
    "    # Merge based on matching event_name, port, and index (created above)\n",
    "    merged_nosepokes = pd.merge(DIO_nosepoke_df, statescript_nosepoke_df, on=['event_name', 'port', 'index'], how='inner', suffixes=('_DIO', '_statescript'))\n",
    "\n",
    "    # Also do an outer merge that keeps all rows so we can print info about which rows (if any) do not match.\n",
    "    # This is for info/debugging purposes only.\n",
    "    merged_nosepokes_outer = pd.merge(DIO_nosepoke_df, statescript_nosepoke_df, on=['event_name', 'port', 'index'], how='outer', suffixes=('_DIO', '_statescript'))\n",
    "    DIO_statescript_mismatches = merged_nosepokes_outer[merged_nosepokes_outer[\"timestamp_DIO\"].isna() | merged_nosepokes_outer[\"timestamp_statescript\"].isna()]\n",
    "    \n",
    "    if not DIO_statescript_mismatches.empty:\n",
    "        print(\"Mismatched rows:\")\n",
    "        print(DIO_statescript_mismatches)\n",
    "    else:\n",
    "        print(\"All DIO and statescript nosepokes were matched successfully.\")\n",
    "\n",
    "    # Iterate through pairs of rows in the dataframe, keeping only rows \n",
    "    # that represent poke_in and poke_out events at a new port.\n",
    "    # The rat must stop breaking the beam for at least poke_time_threshold\n",
    "    # for that poke to be considered over (multiple consecutive pokes at the same \n",
    "    # port in a short period of time are considered one poke).\n",
    "    # Instead of recording the poke_out directly following the poke_in at a new port,\n",
    "    # we record the last poke_out after which the rat didn't immediately poke back in again\n",
    "    # (immediately = poke_out and next poke_in are less than poke_time_threshold apart).\n",
    "    nosepokes_at_new_ports = []\n",
    "    current_port = None\n",
    "    potential_poke_out = None\n",
    "\n",
    "    # Iterate through poke_in / poke_out pairs\n",
    "    for row in range(0, len(merged_nosepokes) - 1, 2):\n",
    "        poke_in = merged_nosepokes.iloc[row]\n",
    "        poke_out = merged_nosepokes.iloc[row + 1]\n",
    "        # Sanity check for merged statescript/DIO events: make sure each poke_in is followed by a poke_out at the same port\n",
    "        if not (poke_in[\"event_name\"] == \"poke_in\" and poke_out[\"event_name\"] == \"poke_out\" and poke_in[\"port\"] == poke_out[\"port\"]):\n",
    "            raise Exception(f\"Warning: Invalid nosepoke pair at timestamps {poke_in['timestamp_DIO']} and {poke_out['timestamp_DIO']}!\")\n",
    "        \n",
    "        # If we have a poke_in at a new port, record it!\n",
    "        if poke_in[\"port\"] != current_port:\n",
    "            # Record the last poke_out for the previous port if we haven't already\n",
    "            if potential_poke_out is not None:\n",
    "                nosepokes_at_new_ports.append(potential_poke_out)\n",
    "            # Add the poke_in event\n",
    "            nosepokes_at_new_ports.append(poke_in)\n",
    "            # Save the poke_out as the potential poke end\n",
    "            # This will likely be overwritten by the \"true\" poke_out, defined as the time \n",
    "            # the rat pokes out and then does not immediately poke back in again\n",
    "            potential_poke_out = poke_out\n",
    "            # Update the current port so we can search for the \"true\" poke_out end\n",
    "            current_port = poke_in[\"port\"]\n",
    "\n",
    "        # Or if we have another poke_in at the current port, and we are searching for the \"true\" poke_out,\n",
    "        # check if the poke has already ended or if this is a continuation of the same poke event.\n",
    "        elif potential_poke_out is not None:\n",
    "            # If the poke_in is close enough in time to the previous poke_out, it counts as the same poke\n",
    "            if (poke_in[\"timestamp_DIO\"] - potential_poke_out[\"timestamp_DIO\"]) <= poke_time_threshold:\n",
    "                # Update the poke_out as the potential poke end\n",
    "                potential_poke_out = poke_out\n",
    "            # Otherwise, the poke_in is far enough in time from the previous poke_out, so the poke has ended.\n",
    "            else:\n",
    "                # The previous potential_poke_out is the true poke_out, so record it\n",
    "                nosepokes_at_new_ports.append(potential_poke_out)\n",
    "                # Indicate the poke has ended and we are no longer searching for the poke_out\n",
    "                potential_poke_out = None\n",
    "        \n",
    "         # Otherwise, if we reach here, it means that we have another poke_in at the current port,\n",
    "         # but we have already determined that the poke event has ended. Ignore these pokes.\n",
    "        else:\n",
    "            # NOTE: While this code is still in development, it may be helpful to print how often we reach\n",
    "            # this case. It may also be helpful to print how far the poke_in was from the previous\n",
    "            # poke_out as feedback on if we have chosen a good poke_time_threshold or if it should be adjusted.\n",
    "            continue\n",
    "\n",
    "    # Add the last poke_out if we missed it\n",
    "    if potential_poke_out is not None:\n",
    "        nosepokes_at_new_ports.append(potential_poke_out)\n",
    "\n",
    "    # Return a dataframe of nosepokes including only nosepokes at new ports\n",
    "    return pd.DataFrame(nosepokes_at_new_ports).drop(columns='index')\n",
    "\n",
    "\n",
    "def combine_nosepoke_and_trial_data(nosepoke_df, trial_df, session_end):\n",
    "    \"\"\"\n",
    "    Check that nosepoke data matches trial data and add nosepoke data to the trial dataframe\n",
    "\n",
    "    Args:\n",
    "    nosepoke_df: Dataframe of nosepoke events at new ports with columns event_name, port, timestamp_DIO, timestamp_statescript\n",
    "    trial_df: Dataframe of trial information\n",
    "    session_end: Timestamp of session end (in statescript time), or None if no session_end was recorded in the statescript\n",
    "\n",
    "    Returns:\n",
    "    trial_df: Dataframe of trial information with added columns for poke_in and poke_out times (both DIO time and statescript time)\n",
    "    \"\"\"\n",
    "    \n",
    "\n",
    "    # Check that we have the right lengths for one poke_in and one poke_out per trial\n",
    "    if len(nosepoke_df) != 2 * len(trial_df):\n",
    "        if session_end is None:\n",
    "            raise Exception(f\"Warning: Expected {2*len(trial_df)} nosepokes for {len(trial_df)} trials, got {len(nosepoke_df)}\")\n",
    "        else:\n",
    "            # We may have more nosepoke pairs than trials if the rat kept running after the session end.\n",
    "            # If we have a recorded session_end time, ignore all poke_in after this time.\n",
    "            pokes_before_session_end = nosepoke_df[nosepoke_df[\"timestamp_statescript\"] <= session_end]\n",
    "            \n",
    "            # If the last event before the session end is a poke_in, make sure to keep the poke_out!\n",
    "            # The poke_out likely happened after the session end time was printed \n",
    "            # (as the session end print is triggered by poke_in and not poke_out).\n",
    "            # Get the index of the last poke_in before session end so we can keep its correpsonding poke_out\n",
    "            if pokes_before_session_end.iloc[-1][\"event_name\"] == \"poke_in\":\n",
    "                last_poke_index = pokes_before_session_end.index[-1] + 1\n",
    "            # If the last event before the sesison end is a poke_out, no adjustment needed!\n",
    "            elif pokes_before_session_end.iloc[-1][\"event_name\"] == \"poke_out\":\n",
    "                last_poke_index = pokes_before_session_end.index[-1]\n",
    "\n",
    "            # Filter dataframe to remove all extra pokes\n",
    "            nosepoke_df = nosepoke_df.loc[:last_poke_index]\n",
    "            \n",
    "            # Check again after removing nosepokes after session end\n",
    "            if len(nosepoke_df) != 2 * len(trial_df):\n",
    "                raise Exception(f\"Warning: After removing nosepokes after the session end, \" \n",
    "                                f\"expected {2*len(trial_df)} nosepokes for {len(trial_df)} trials, \"\n",
    "                                f\"got {len(nosepoke_df)}\")\n",
    "    \n",
    "    # Create columns to add poke_in and poke_out data to the trial_df\n",
    "    trial_df[\"poke_in_time_statescript\"] = None\n",
    "    trial_df[\"poke_out_time_statescript\"] = None\n",
    "    trial_df[\"poke_in_time\"] = None # DIO time\n",
    "    trial_df[\"poke_out_time\"] = None # DIO time\n",
    "\n",
    "    # Iterate through the trial df and find corresponding poke_in and poke_out times\n",
    "    for i, trial_row in trial_df.iterrows():\n",
    "        # Find the nosepoke timestamps for the current trial and add them to the trial df\n",
    "        poke_in_row = nosepoke_df.loc[nosepoke_df[\"event_name\"] == \"poke_in\"].iloc[i]\n",
    "        poke_out_row = nosepoke_df.loc[nosepoke_df[\"event_name\"] == \"poke_out\"].iloc[i]\n",
    "        trial_df.at[i, \"poke_in_time_statescript\"] = poke_in_row[\"timestamp_statescript\"]\n",
    "        trial_df.at[i, \"poke_out_time_statescript\"] = poke_out_row[\"timestamp_statescript\"]\n",
    "        trial_df.at[i, \"poke_in_time\"] = poke_in_row[\"timestamp_DIO\"]\n",
    "        trial_df.at[i, \"poke_out_time\"] = poke_out_row[\"timestamp_DIO\"]\n",
    "\n",
    "        # Sanity check that poke_in timestamp is close enough to the time\n",
    "        # the trial info was printed to ensure these are matched correctly.\n",
    "        # NOTE: It seems the trial info is printed after the first poke_out following\n",
    "        # the poke_in (which is not always the recorded poke_out - see parse_nosepoke_events).\n",
    "        # This check worked better in an earlier version of the code where we checked against that poke_out,\n",
    "        # which we no longer record. We probably want to suppress output or set this to a low (debug) \n",
    "        # log level in the future, as even correctly matched pokes can trigger this warning\n",
    "        # if the poke was long (causing trial info to be printed >5s after initial poke_in).\n",
    "        # Keeping it for now - it is still a useful warning as we have not encountered all bug-causing cases.\n",
    "        # if abs(trial_row[\"statescript_reference_timestamp\"] - poke_in_row[\"timestamp_statescript\"]) > 5000:\n",
    "        #    warnings.warn(f\"Poke in at time {poke_in_row['timestamp_statescript']} may not match trial printed at {trial_row['statescript_reference_timestamp']}\")\n",
    "\n",
    "        # Sanity check to ensure the poke in and poke out match the end_port for this trial\n",
    "        if not ((trial_row[\"end_port\"] == poke_in_row[\"port\"]) and (trial_row[\"end_port\"] == poke_out_row[\"port\"])):\n",
    "            raise Exception(\n",
    "                f\"Warning: Trial ending at port {trial_row['end_port']} does not match \"\n",
    "                f\"poke in at port {poke_in_row['port']} and poke out at port {poke_out_row['port']}\")\n",
    "            \n",
    "        # Add start and end times based on DIO poke times (trials are poke_out to poke_out)\n",
    "        trial_df['start_time'] = trial_df['poke_out_time'].shift(1)\n",
    "        trial_df['end_time'] = trial_df['poke_out_time']\n",
    "\n",
    "        # Set the start time of the first trial to 3 seconds before the first poke_in.\n",
    "        # This handles cases where the epoch start button was pressed and then the rat\n",
    "        # was placed in the maze, so using epoch start time would be too early.\n",
    "        # This may be overwritten by the epoch start time later, if the recorded epoch start \n",
    "        # is after this time (which could happen in the case where 2 people were present \n",
    "        # so the epoch start button was pressed at the same time the rat was placed in the maze).\n",
    "        trial_df.at[0, 'start_time'] = trial_df.at[0, 'poke_in_time']-3\n",
    "        \n",
    "        # Add trial duration as a column\n",
    "        trial_df['duration'] = trial_df['end_time'] - trial_df['start_time']\n",
    "\n",
    "    return trial_df\n",
    "\n",
    "\n",
    "def combine_reward_and_trial_data(trial_df, reward_DIOs):\n",
    "    \"\"\"\n",
    "    Check that reward data from the statescript matches reward data \n",
    "    from the DIOs, and add reward DIO times to the trial dataframe.\n",
    "\n",
    "    Args:\n",
    "    trial_df: Dataframe of information for each trial including column 'reward'\n",
    "    reward_DIOs: tuple of (1/0 data, timestamps) for reward DIOs 'wellA_pump', 'wellB_pump', 'wellC_pump'\n",
    "\n",
    "    Returns:\n",
    "    trial_df: Dataframe of information for each trial with added columns 'pump_on_time' and 'pump_off_time'\n",
    "    \"\"\"\n",
    "\n",
    "    # Create a dataframe of reward pump times from the DIO data\n",
    "    reward_pump_times = []\n",
    "    port_map = {'wellA_pump': 'A', 'wellB_pump': 'B', 'wellC_pump': 'C'}\n",
    "    for key, (data, timestamps) in reward_DIOs.items():\n",
    "        for i in range(0, len(data), 2):\n",
    "            # Make sure the data matches structure pump_on, pump_off\n",
    "            assert (data[i] == 1 and data[i + 1] == 0), f\"Data mismatch at index {i} for key {key}: expected [1, 0], got [{data[i]}, {data[i + 1]}]\"\n",
    "            \n",
    "            # Make sure the pump_on and pump_off times are close together (<1s) to check they are matched correctly \n",
    "            assert (abs(timestamps[i] - timestamps[i+1])<1), f\"Expected timestamps to be within 1s, got pump_on_time {timestamps[i]}, pump_off_time {timestamps[i+1]}]\"\n",
    "            \n",
    "            # Combine the pump_on and pump_off events into a single row\n",
    "            reward_pump_times.append({\n",
    "            \"port\": port_map[key],\n",
    "            \"pump_on_time\": timestamps[i],\n",
    "            \"pump_off_time\": timestamps[i + 1]\n",
    "        })\n",
    "    \n",
    "    # Make sure pump events end up in the same order regardless of if we sort by pump_on_time or pump_off_time\n",
    "    reward_pump_df = pd.DataFrame(reward_pump_times).sort_values(by=\"pump_on_time\").reset_index(drop=True)\n",
    "    assert reward_pump_df.equals(pd.DataFrame(reward_pump_times).sort_values(by=\"pump_off_time\").reset_index(drop=True)), \\\n",
    "    \"DataFrames do not match when sorted by pump_on_time vs. pump_off_time\"\n",
    "    \n",
    "    # Make sure each pump_on_time occurs before its corresponding pump_off_time\n",
    "    assert (reward_pump_df[\"pump_on_time\"] < reward_pump_df[\"pump_off_time\"]).all(), \\\n",
    "    \"Timing mismatch: not every pump_on_time is correctly matched to its pump_off_time\"\n",
    "\n",
    "    # Ensure we have one reward pump on/off DIO per rewarded trial\n",
    "    rewarded_trial_df = trial_df[trial_df[\"reward\"] == 1]\n",
    "\n",
    "    if len(reward_pump_df) != len(rewarded_trial_df):\n",
    "        warnings.warn(f\"Expected {len(rewarded_trial_df)} reward DIO events \"\n",
    "                        f\"for {len(rewarded_trial_df)} rewarded trials, \"\n",
    "                        f\"got {len(reward_pump_df)}\")\n",
    "    \n",
    "    # Create columns to add reward pump times to the trial_df\n",
    "    trial_df[\"pump_on_time\"] = \"N/A\"\n",
    "    trial_df[\"pump_off_time\"] = \"N/A\"\n",
    "\n",
    "    # Iterate through the rewarded trials and their corresponding DIO events\n",
    "    for trial_row, DIO_times in zip(rewarded_trial_df.itertuples(index=True), reward_pump_df.itertuples(index=False)):\n",
    "        # The end_port of this rewarded trial must match the reward pump port\n",
    "        assert trial_row.end_port == DIO_times.port, \\\n",
    "        f\"Mismatch: trial end_port {trial_row.end_port} does not match reward pump port {DIO_times.port}\"\n",
    "    \n",
    "        # Ensure the reward pump turns on within a second of the poke\n",
    "        if abs(trial_row.poke_in_time - DIO_times.pump_on_time) > 1:\n",
    "            raise Exception(f\"Warning: Pump on at time {DIO_times.pump_on_time} may not match nosepoke at {trial_row.poke_in_time}\")\n",
    "\n",
    "        # Update the original trial_df with pump_on_time and pump_off_time\n",
    "        trial_df.loc[trial_row.Index, \"pump_on_time\"] = DIO_times.pump_on_time\n",
    "        trial_df.loc[trial_row.Index, \"pump_off_time\"] = DIO_times.pump_off_time\n",
    "\n",
    "    return trial_df\n",
    "\n",
    "\n",
    "def determine_session_type(block_data):\n",
    "    \"\"\"Determine the session type (\"barrier change\" or \"probability change\") based on block data.\"\"\"\n",
    "\n",
    "    # This case is rare/hopefully nonexistent - we always expect to have more than one block per session\n",
    "    if len(block_data) == 1:\n",
    "        return \"single block\"\n",
    "\n",
    "    # Get the reward probabilities at each port for each block in the session\n",
    "    reward_probabilities = []\n",
    "    for _, block in block_data.iterrows():\n",
    "        reward_probabilities.append([block[\"pA\"], block[\"pB\"], block[\"pC\"]])\n",
    "\n",
    "    # If the reward probabilities change with each block, this is a probability change session\n",
    "    if reward_probabilities[0] != reward_probabilities[1]:\n",
    "        return \"probability change\"\n",
    "    # Otherwise, this must be a barrier change session\n",
    "    else:\n",
    "        return \"barrier change\"\n",
    "\n",
    "    \n",
    "def adjust_block_start_trials(trial_data, block_data, DIO_events, excel_data):\n",
    "    '''\n",
    "    Adjust the block start trials based on barrier_shift DIO events (if they exist)\n",
    "    or data from the experimental notes excel sheet\n",
    "    \n",
    "    Args:\n",
    "    trial_data: Dataframe of information for each trial in this epoch\n",
    "    block_data: Dataframe of information for each block in this epoch\n",
    "    DIO_events: dict of event_name: (data, timestamps) for each named DIO event,\n",
    "    including \"barrier_shift\" event if we have data for it\n",
    "    excel_data: Dataframe of info for this epoch, with column \"barrier shift trial ID\"\n",
    "    \n",
    "    Returns:\n",
    "    trial_data: Dataframe of trial info reflecting updated block boundaries\n",
    "    block_data: Dataframe of block info reflecting updated block boundaries\n",
    "    '''\n",
    "\n",
    "    barrier_shift_trials_DIO = None\n",
    "    barrier_shift_trials_excel = None\n",
    "    \n",
    "    # If barrier_shift DIOs exist, use those as the ground truth\n",
    "    if \"barrier_shift\" in DIO_events:\n",
    "        print(\"Adjusting barrier shift times based on barrier_shift DIOs ...\")\n",
    "        \n",
    "        barrier_shift_DIOs = DIO_events.get(\"barrier_shift\")\n",
    "        # The barrier_shift_DIOs are a pair of lists: (1/0 events, timestamps)\n",
    "        # Take every other timestamp to get the times of the \"1\" (DIO button press) events\n",
    "        # (We have already checked each 1 has a corresponding 0 so just taking every other is fine)\n",
    "        barrier_shift_times = barrier_shift_DIOs[1][0::2]\n",
    "\n",
    "        barrier_shift_trials_DIO = []\n",
    "        for barrier_shift_time in barrier_shift_times:\n",
    "            # Find the closest poke_in time just before the barrier shift time\n",
    "            # Barrier shifts happen when the rat is at a port (just after poke_in)\n",
    "            # The next trial (that begins on poke_out) is the first trial of the new block\n",
    "            trials_pre_shift = trial_data.index[trial_data['poke_in_time'] <= barrier_shift_time]\n",
    "            closest_idx = ((trial_data.loc[trials_pre_shift, 'poke_in_time'] - barrier_shift_time).abs()).idxmin()\n",
    "            barrier_shift_trial = trial_data.loc[closest_idx, 'trial_within_session']\n",
    "\n",
    "            # Sanity check: get the time from trial start to barrier shift, and shift to next poke\n",
    "            barrier_shift_time_from_poke = barrier_shift_time - trial_data.loc[closest_idx, 'poke_in_time']\n",
    "            time_to_next_poke = trial_data.loc[closest_idx+1, 'poke_in_time'] - barrier_shift_time\n",
    "            print(f\"Barrier shift DIO pressed {barrier_shift_time_from_poke:.2f}s \"\n",
    "                  f\"after poke_in of trial {barrier_shift_trial}.\")\n",
    "            print(f\"Next poke_in was {time_to_next_poke:.2f}s after barrier shift DIO pressed.\")\n",
    "            print(f\"Trial {barrier_shift_trial+1} is the first trial of the new block.\")\n",
    "  \n",
    "            barrier_shift_trials_DIO.append(barrier_shift_trial)\n",
    "        # Convert to np.int(64) to int\n",
    "        barrier_shift_trials_DIO = [int(x) for x in barrier_shift_trials_DIO]\n",
    "\n",
    "    # If the excel sheet has barrier shift info, use that also\n",
    "    if \"barrier shift trial ID\" in excel_data.columns:\n",
    "        # Read barrier shift trials as a comma-separated string, and convert to a list\n",
    "        barrier_shift_trials_str = excel_data[\"barrier shift trial ID\"].iloc[0]\n",
    "        barrier_shift_trials_excel = list(map(int, barrier_shift_trials_str.split(\", \")))    \n",
    "\n",
    "    # If we have barrier shift info from both DIOs and excel sheet, check if they match\n",
    "    if barrier_shift_trials_DIO is not None and barrier_shift_trials_excel is not None:\n",
    "        # If there is a mismatch between DIO and excel, DIO wins\n",
    "        if barrier_shift_trials_DIO != barrier_shift_trials_excel:\n",
    "            warnings.warn(f\"Mismatch in barrier shift info between barrier_shift DIOs and data from excel sheet!\\n\"\n",
    "                f\"DIO has barrier shift trials {barrier_shift_trials_DIO}, \"\n",
    "                f\"excel sheet has {barrier_shift_trials_excel}!\")\n",
    "        else:\n",
    "            print(f\"Barrier_shift DIOs match data from excel sheet, \"\n",
    "                  f\"with barrier shifts at trials {barrier_shift_trials_DIO}\")\n",
    "        barrier_shift_trials = barrier_shift_trials_DIO\n",
    "    \n",
    "    # If only DIOs, use that\n",
    "    elif barrier_shift_trials_DIO is not None:\n",
    "        barrier_shift_trials = barrier_shift_trials_DIO\n",
    "\n",
    "    # Or if only excel, use that\n",
    "    elif  barrier_shift_trials_excel is not None:\n",
    "        barrier_shift_trials = barrier_shift_trials_excel\n",
    "    \n",
    "    else:\n",
    "        raise ValueError(\"No 'barrier_shift' DIO event or 'barrier shift trial ID' from excel found\\n\"\n",
    "                         \"when trying to adjust block start trials for a barrier change session.\")\n",
    "\n",
    "    # Sanity check: make sure the last barrier shift is before the last trial\n",
    "    last_trial = block_data['end_trial'].iloc[-1]\n",
    "    if barrier_shift_trials[-1] > last_trial:\n",
    "        # This has never happened (and it never should), but DIOs can be odd. \n",
    "        # Complain and break if it does so we can evaluate what caused it and how to handle it then.\n",
    "        raise ValueError(\"Something went wrong! Last barrier shift is after the last trial!\")\n",
    "\n",
    "    # Set up the start and end trials of the blocks based on the barrier shifts\n",
    "    # Add trial 1 as the start of the first block and the last trial as the end of the last block\n",
    "    block_start_trials = [1] + [t + 1 for t in barrier_shift_trials]\n",
    "    block_end_trials = barrier_shift_trials + [int(last_trial)]\n",
    "\n",
    "    # Get pA, pB, pC (same for all blocks because this is a barrier change session)\n",
    "    pA, pB, pC = block_data.iloc[0][['pA', 'pB', 'pC']]\n",
    "\n",
    "    # Create new block dataframe using new block start/end trials\n",
    "    # statescript_end_timestamp is now N/A because statescript timestamps \n",
    "    # no longer correspond to barrier changes\n",
    "    new_block_data = pd.DataFrame({\n",
    "        'block': range(1, len(block_start_trials)+1),\n",
    "        'pA': [pA]*len(block_start_trials), \n",
    "        'pB': [pB]*len(block_start_trials),\n",
    "        'pC': [pC]*len(block_start_trials),\n",
    "        'statescript_end_timestamp': \"N/A\",\n",
    "        'start_trial': block_start_trials,\n",
    "        'end_trial': block_end_trials,\n",
    "        'num_trials': [end-start+1 for end,start in zip(block_end_trials, block_start_trials)],\n",
    "        'task_type': 'barrier change'\n",
    "    })\n",
    "\n",
    "    # Update 'block' and 'trial' columns in trial_data to reflect the updated block boundaries\n",
    "    for _, row in new_block_data.iterrows():\n",
    "        trials_in_block = (trial_data['trial_within_session'] >= row['start_trial']) & (trial_data['trial_within_session'] <= row['end_trial'])\n",
    "        trial_data.loc[trials_in_block, 'block'] = row['block']\n",
    "        trial_data.loc[trials_in_block, 'trial_within_block'] = range(1, trials_in_block.sum() + 1)\n",
    "\n",
    "    return trial_data, new_block_data\n",
    "\n",
    "\n",
    "def add_block_start_end_times(trial_data, block_data):\n",
    "    '''\n",
    "    Add the DIO start and end times to the blocks\n",
    "    \n",
    "    Args:\n",
    "    trial_data: Dataframe of trial information with columns 'start_time' and 'end_time'\n",
    "    block_data: Dataframe of block information\n",
    "\n",
    "    Returns:\n",
    "    block_data: Dataframe of block information with columns 'start_time' and 'end_time' added\n",
    "    '''\n",
    "\n",
    "    # The start time of a block is the start time of the first trial in the block\n",
    "    block_data['start_time'] = block_data['start_trial'].map(lambda x: trial_data.loc[x-1, 'start_time'])\n",
    "    # The end time of a block is the end time of the last trial in the block\n",
    "    block_data['end_time'] = block_data['end_trial'].map(lambda x: trial_data.loc[x-1, 'end_time'])\n",
    "\n",
    "    return block_data\n",
    "\n",
    "\n",
    "def validate_trial_and_block_data(trial_data, block_data):\n",
    "    \"\"\"Run basic tests to check that trial and block data is valid.\"\"\"\n",
    "\n",
    "    # The number of the last trial/block must match the number of trials/blocks\n",
    "    assert len(trial_data) == trial_data[\"trial_within_session\"].max()\n",
    "    assert len(block_data) == block_data[\"block\"].max()\n",
    "\n",
    "    # All trial numbers must be unique and match the range 1 to [num trials in session]\n",
    "    assert set(trial_data[\"trial_within_session\"]) == set(range(1, len(trial_data) + 1))\n",
    "\n",
    "    # All block numbers must be unique and match the range 1 to [num blocks in session]\n",
    "    assert set(block_data[\"block\"]) == set(range(1, len(block_data) + 1))\n",
    "\n",
    "    # There must be a legitimate reward value (1 or 0) for all trials\n",
    "    assert set(trial_data[\"reward\"]).issubset({0, 1})\n",
    "\n",
    "    # There must be a legitimate p(reward) value for each block at ports A, B, and C\n",
    "    assert block_data[[\"pA\", \"pB\", \"pC\"]].applymap(lambda x: 0 <= x <= 100).all().all()\n",
    "\n",
    "    # There must be a not-null maze_configuration for each block\n",
    "    assert not block_data[\"maze_configuration\"].isnull().any(), \"Not all blocks have a maze configuration!\"\n",
    "    \n",
    "    # There must be a valid task type for each block\n",
    "    assert block_data[\"task_type\"].isin([\"probability change\", \"barrier change\"]).all()\n",
    "    # The task type must be the same for all blocks in the epoch\n",
    "    assert block_data[\"task_type\"].nunique() == 1\n",
    "    \n",
    "    # In a probability change session, reward probabilities vary and maze configs do not\n",
    "    if block_data[\"task_type\"].iloc[0] == \"probability change\":\n",
    "        # All maze configs should be the same\n",
    "        assert block_data[\"maze_configuration\"].nunique() == 1\n",
    "        # Reward probabilities should vary\n",
    "        # They may eventually repeat with many blocks, so minimum 1 change is ok\n",
    "        assert block_data[\"pA\"].nunique() > 1\n",
    "        assert block_data[\"pB\"].nunique() > 1\n",
    "        assert block_data[\"pC\"].nunique() > 1\n",
    "    # In a barrier change session, maze configs vary and reward probabilities do not\n",
    "    elif block_data[\"task_type\"].iloc[0] == \"barrier change\":\n",
    "        # All reward probabilities should be the same for all blocks\n",
    "        assert block_data[\"pA\"].nunique() == 1\n",
    "        assert block_data[\"pB\"].nunique() == 1\n",
    "        assert block_data[\"pC\"].nunique() == 1\n",
    "        # Maze configurations should be different for each block\n",
    "        assert block_data[\"maze_configuration\"].nunique() == len(block_data)\n",
    "    \n",
    "    summed_trials = 0\n",
    "    # Check trials within each block\n",
    "    for _, block in block_data.iterrows():\n",
    "        block_trials = trial_data[trial_data[\"block\"] == block[\"block\"]]\n",
    "        trial_numbers = block_trials[\"trial_within_block\"]\n",
    "\n",
    "        # All trial numbers in the block must be unique and match the range 1 to [num trials in block]\n",
    "        num_trials_expected = block[\"num_trials\"]\n",
    "        num_trials_expected_2 = block[\"end_trial\"] - block[\"start_trial\"] + 1\n",
    "        assert len(trial_numbers.unique()) == num_trials_expected == num_trials_expected_2\n",
    "        assert set(trial_numbers) == set(range(1, int(num_trials_expected) + 1))\n",
    "\n",
    "        # Check time alignment between trials and blocks\n",
    "        first_trial = block_trials.loc[block_trials[\"trial_within_block\"].idxmin()]\n",
    "        last_trial = block_trials.loc[block_trials[\"trial_within_block\"].idxmax()]\n",
    "        block_start = block[\"start_time\"]\n",
    "        block_end = block[\"end_time\"]\n",
    "\n",
    "        assert first_trial[\"start_time\"] == block_start, (\n",
    "            f\"First trial start {first_trial['start_time']} does not match block start {block_start}\"\n",
    "        )\n",
    "        assert last_trial[\"end_time\"] == block_end, (\n",
    "            f\"Last trial end {last_trial['end_time']} does not match block end {block_end}\"\n",
    "        )\n",
    "\n",
    "        # Ensure trial times are within block bounds\n",
    "        assert block_trials[\"start_time\"].between(block_start, block_end).all(), (\n",
    "            f\"Some trial start_times are outside block bounds ({block_start} to {block_end})\"\n",
    "        )\n",
    "        assert block_trials[\"end_time\"].between(block_start, block_end).all(), (\n",
    "            f\"Some trial end_times are outside block bounds ({block_start} to {block_end})\"\n",
    "        )\n",
    "\n",
    "        # Ensure poke_in_time and poke_out_time are within trial bounds\n",
    "        assert block_trials[\"poke_in_time\"].between(\n",
    "            block_trials[\"start_time\"], block_trials[\"end_time\"]\n",
    "        ).all(), (\n",
    "            f\"Some poke_in_times are outside trial bounds (start_time to end_time)\"\n",
    "        )\n",
    "        assert (block_trials[\"poke_out_time\"] == block_trials[\"end_time\"]).all(), (\n",
    "            f\"Some poke_out_times do not match the trial end_time\"\n",
    "        )\n",
    "\n",
    "        summed_trials += num_trials_expected\n",
    "\n",
    "    # The summed number of trials in each block must match the total number of trials\n",
    "    assert summed_trials == len(trial_data)\n",
    "\n",
    "\n",
    "def validate_poke_timestamps(trial_data):\n",
    "    \"\"\"\n",
    "    Validate that the DIO poke_in_time and poke_out_time matches the statescript \n",
    "    and poke_in_time and poke_out_time for each trial, after converting units.\n",
    "    \"\"\"\n",
    "    \n",
    "    # Get the time of the first poke_in so we can convert all other timestamps to be relative to this\n",
    "    first_poke_in_DIO = trial_data.loc[0, \"poke_in_time\"]\n",
    "    first_poke_in_statescript = trial_data.loc[0, \"poke_in_time_statescript\"]\n",
    "\n",
    "    # Get relative DIO poke_in and poke_out times, convert to ms to match statescript times\n",
    "    DIO_poke_in_times = (trial_data[\"poke_in_time\"] - first_poke_in_DIO) * 1000\n",
    "    DIO_poke_out_times = (trial_data[\"poke_out_time\"] - first_poke_in_DIO) * 1000\n",
    "\n",
    "    # Get relative statescript poke_in and poke_out times\n",
    "    statescript_poke_in_times = (trial_data[\"poke_in_time_statescript\"] - first_poke_in_statescript)\n",
    "    statescript_poke_out_times = (trial_data[\"poke_out_time_statescript\"] - first_poke_in_statescript)\n",
    "\n",
    "    # Make sure DIO and statescript times are close (enough) together.\n",
    "    \n",
    "    # It is expected for the timestamps to drift apart over the course \n",
    "    # of a session (drifting by roughly 0 to 0.5 ms per trial). \n",
    "    # By the end of a session, the DIO and statescript timestamps may be up to ~70ms apart.\n",
    "    # Reduce warning_tol_ms to a lower value to watch this happen.\n",
    "    # Because of this, warning_tol_ms is currently set to 100ms, which should \n",
    "    # be high enough to only warn about variations larger than this expected drift.\n",
    "    warning_tol_ms = 100\n",
    "\n",
    "    # NOTE: For now, our error tolerance is unreasonably high because we have some weird stuff\n",
    "    # going on in BraveLu20240519 epoch 3 and I want to print about it but not break.\n",
    "    # Apparently trodes crashed during this session. Investigate further.\n",
    "    # Ultimately change this tolerance to something like 1000\n",
    "    error_tol_ms = 100_000\n",
    "    \n",
    "    # Check poke_in times\n",
    "    for i, (DIO_poke, ss_poke) in enumerate(zip(DIO_poke_in_times, statescript_poke_in_times), start=1):\n",
    "        diff = abs(DIO_poke - ss_poke)\n",
    "        if diff > error_tol_ms:\n",
    "            raise ValueError(f\"Trial {i}: DIO poke_in at {DIO_poke:.1f} and statescript poke_in at {ss_poke} are {diff:.1f} ms apart, exceeds error tolerance of {error_tol_ms} ms\")\n",
    "        elif diff > warning_tol_ms:\n",
    "            warnings.warn(f\"Trial {i}: DIO poke_in at {DIO_poke:.1f} and statescript poke_in at {ss_poke} are {diff:.1f} ms apart, exceeds warning tolerance of {warning_tol_ms} ms\")\n",
    "\n",
    "    # Check poke_out times\n",
    "    for i, (DIO_poke, ss_poke) in enumerate(zip(DIO_poke_out_times, statescript_poke_out_times), start=1):\n",
    "        diff = abs(DIO_poke - ss_poke)\n",
    "        if diff > error_tol_ms:\n",
    "            raise ValueError(f\"Trial {i}: DIO poke_out at {DIO_poke:.1f} and statescript poke_out at {ss_poke} are {diff:.1f} ms apart, exceeds error tolerance of {error_tol_ms} ms\")\n",
    "        elif diff > warning_tol_ms:\n",
    "            warnings.warn(f\"Trial {i}: DIO poke_out at {DIO_poke:.1f} and statescript poke_out at {ss_poke} are {diff:.1f} ms apart, exceeds warning tolerance of {warning_tol_ms} ms\")\n",
    "\n",
    "\n",
    "def get_barrier_locations_from_excel(excel_data):\n",
    "    \"\"\"\n",
    "    Load barrier locations from all rows in excel_data,\n",
    "    where each row is a session.\n",
    "\n",
    "    Args:\n",
    "    excel_data: dataframe of info for this experiment\n",
    "    (originally read from the excel sheet of experimental notes)\n",
    "\n",
    "    If there are multiple sessions, return a list of lists of sets:\n",
    "    where the first sub-list is for each run session that day, \n",
    "    second sub-list is for each block of the session.\n",
    "    \n",
    "    If there is a single session, return a lists of sets:\n",
    "    where each set is for each block of the session.\n",
    "    \"\"\"\n",
    "\n",
    "    # Helper to read the sets of barrier locations from the excel sheet\n",
    "    def extract_sets_from_string(value):\n",
    "        if isinstance(value, str):\n",
    "            # Regular expression to find all the sets in the string\n",
    "            sets = re.findall(r'\\{.*?\\}', value)\n",
    "            return [ast.literal_eval(s) for s in sets]\n",
    "        return None\n",
    "\n",
    "    # Get barrier locations as a list of lists of sets\n",
    "    list_of_barrier_sets = excel_data['barrier location'].apply(extract_sets_from_string).tolist()\n",
    "\n",
    "    # If excel_data is for only one session, remove the outer list\n",
    "    if excel_data.shape[0] == 1 and len(list_of_barrier_sets) == 1:\n",
    "        return list_of_barrier_sets[0]\n",
    "    # Else return a list of lists, where each outer list is for a different session\n",
    "    else:\n",
    "        return list_of_barrier_sets\n",
    "\n",
    "\n",
    "def add_barrier_locations_to_block_data(block_data, excel_data, session_type):\n",
    "    \"\"\"\n",
    "    Add \"maze_configuration\" column to block_data.\n",
    "\n",
    "    Args:\n",
    "    block_data: Dataframe of information for each block in this epoch\n",
    "    excel_data: Dataframe of info for this experiment, with column \"barrier_location\"\n",
    "    session_type: \"barrier change\" or \"probability change\"\n",
    "\n",
    "    Returns:\n",
    "    block_data with added \"maze_configuration\" column\n",
    "    \"\"\"\n",
    "    \n",
    "    def barrier_set_to_string(set):\n",
    "        \"\"\"\n",
    "        Helper to convert a set of ints to a sorted, comma-separated string.\n",
    "        Used for going from a set of barrier locations to a string\n",
    "        maze configuration that plays nicely with NWB and spyglass.\n",
    "        \"\"\"\n",
    "        return \",\".join(map(str, sorted(set)))\n",
    "\n",
    "    # Read barrier locations from excel data\n",
    "    maze_configs = get_barrier_locations_from_excel(excel_data)\n",
    "\n",
    "    # Make sure the number of blocks matches the number of loaded maze configurations\n",
    "    if len(block_data) != len(maze_configs):\n",
    "        # If this is a probability change session, we have a single maze configuration\n",
    "        # to be used for all blocks. If so, duplicate it so we have one maze per block.\n",
    "        if len(maze_configs) == 1 and session_type == \"probability change\":\n",
    "            maze_configs = maze_configs * len(block_data)\n",
    "        else:\n",
    "            raise ValueError(\n",
    "                f\"There are {len(block_data)} blocks, but {len(maze_configs)} maze configurations \"\n",
    "                \"From the excel data. There should be exactly one maze configuration per block, \"\n",
    "                \"or a single maze configuration if this is a probability change session.\"\n",
    "            )\n",
    "            \n",
    "    # Convert each maze config from a set to a sorted, comma separated string for compatibility\n",
    "    maze_configs = [barrier_set_to_string(maze) for maze in maze_configs]\n",
    "    \n",
    "    # Add the maze configuration for each block\n",
    "    block_data[\"maze_configuration\"] = maze_configs\n",
    "    return block_data\n",
    "\n",
    "\n",
    "def parse_state_script_log(statescriptlog, DIO_events, excel_data_for_epoch):\n",
    "    \"\"\"\n",
    "    Read and parse the stateScriptLog file and align it to DIO events\n",
    "    for a given behavioral epoch. Get barrier locations and\n",
    "    other info (if needed) from excel data.\n",
    "    \n",
    "    Args:\n",
    "    statescriptlog: tuple where statescriptlog[0] is a big string containing the log,\n",
    "    statescriptlog[1] is the AssociatedFiles object (unused)\n",
    "    DIO_events: dict of event_name: (data, timestamps) for each named DIO event\n",
    "    excel_data_for_epoch: dataframe of info for this epoch\n",
    "    (originally read from the excel sheet of experimental notes)\n",
    "    \n",
    "    Returns:\n",
    "    trial_df: Dataframe of information for each trial in this epoch\n",
    "    block_data: Dataframe of information for each block in this epoch\n",
    "    \"\"\"\n",
    "    nosepoke_events = []\n",
    "    behavior_data = []\n",
    "    block_ends = []\n",
    "    session_end = None\n",
    "\n",
    "    # Read the statescriptlog line by line\n",
    "    for line in str(statescriptlog).splitlines():\n",
    "        # Ignore lines starting with '#'\n",
    "        if line.startswith(\"#\"):\n",
    "            continue\n",
    "\n",
    "        # Find all poke_in and poke_out events\n",
    "        for match in poke_in_regex.finditer(line):\n",
    "            nosepoke_events.append(\n",
    "                {\"timestamp\": int(match.group(1)),\n",
    "                \"event_name\": \"poke_in\",\n",
    "                \"port\": int(match.group(2))})\n",
    "        for match in poke_out_regex.finditer(line):\n",
    "            nosepoke_events.append(\n",
    "                {\"timestamp\": int(match.group(1)),\n",
    "                \"event_name\": \"poke_out\",\n",
    "                \"port\": int(match.group(2))})\n",
    "        # Find behavioral data and reward info\n",
    "        for match in behavior_data_regex.finditer(line):\n",
    "            behavior_data.append(\n",
    "                {\"timestamp\": int(match.group(1)),\n",
    "                \"name\": match.group(2),\n",
    "                \"value\": int(match.group(3))})\n",
    "        # Check for block or session end timestamps\n",
    "        for match in block_end_regex.finditer(line):\n",
    "            block_ends.append({\"timestamp\": int(match.group(1))})\n",
    "        for match in session_end_regex.finditer(line):\n",
    "            session_end = int(match.group(1))\n",
    "\n",
    "    # Create dataframes of trial and block data based on the stateScriptLog\n",
    "    trial_data, block_data = parse_trial_and_block_data(behavior_data, block_ends)\n",
    "\n",
    "    # Align statescript and DIO nosepokes and create nosepoke dataframe including only nosepoke events at a new port\n",
    "    # with both statescript timestamps (trodes time) and DIO timestamps (unix time)\n",
    "    nosepoke_DIOs = {key: value for key, value in DIO_events.items() if key in ['wellA_poke', 'wellB_poke', 'wellC_poke']}\n",
    "    nosepoke_df = parse_nosepoke_events(nosepoke_events, nosepoke_DIOs)\n",
    "\n",
    "    # Add combined nosepoke timestamps (both statescript and DIO) to the trial dataframe\n",
    "    trial_df = combine_nosepoke_and_trial_data(nosepoke_df, trial_data, session_end)\n",
    "\n",
    "    # Add reward pump timestamps from DIOs to the combined dataframe\n",
    "    reward_DIOs =  {key: value for key, value in DIO_events.items() if key in ['wellA_pump', 'wellB_pump', 'wellC_pump']}\n",
    "    trial_df = combine_reward_and_trial_data(trial_df, reward_DIOs)\n",
    "\n",
    "    # Use block data to determine if this is a probability change or barrier change session\n",
    "    session_type = determine_session_type(block_data)\n",
    "    print(f\"This is a {session_type} session.\")\n",
    "    # Add the session type as a column to the block data\n",
    "    block_data['task_type'] = session_type\n",
    "\n",
    "    # If this is a barrier change session, the statescript does not accurately reflect block changes\n",
    "    # Instead, a DIO (\"barrier_shift\") is pressed to mark the trial in which the barrier is shifted\n",
    "    # For early sessions, the \"barrier_shift\" DIO didn't exist yet so this is recorded in the \n",
    "    # \"experimental notes\" excel sheet\n",
    "    if session_type == \"barrier change\":\n",
    "        trial_data, block_data = adjust_block_start_trials(trial_df, block_data, DIO_events, excel_data_for_epoch)\n",
    "\n",
    "    # Now that we have the correct start/end trial for each block, add the block start/end times\n",
    "    block_data = add_block_start_end_times(trial_data, block_data)\n",
    "\n",
    "    # Add maze configs from the excel data to the block dataframe\n",
    "    block_data = add_barrier_locations_to_block_data(block_data, excel_data_for_epoch, session_type)\n",
    "    \n",
    "    # Do even more basic checks to make sure trial and block data seems reasonable\n",
    "    validate_trial_and_block_data(trial_data, block_data)\n",
    "    validate_poke_timestamps(trial_data)\n",
    "\n",
    "    return trial_df, block_data\n",
    "\n",
    "\n",
    "def get_DIO_event_data(nwbfile, behavioral_event_name):\n",
    "    \"\"\"\n",
    "    Get DIO data and timestamps from the nwbfile for a given behavioral event\n",
    "    \n",
    "    Args:\n",
    "    nwbfile: NWB file containing behavioral_event DIOs in the behavioral processing module\n",
    "    behavioral_event_name: named behavioral_event to access\n",
    "\n",
    "    Returns:\n",
    "    data: 1/0 data corresponding to DIO high/low for this event\n",
    "    timestamps: timestamps for each data point (in unix time)\n",
    "    \"\"\"\n",
    "\n",
    "    data = nwbfile.processing[\"behavior\"][\"behavioral_events\"][behavioral_event_name].data[:]\n",
    "    timestamps = nwbfile.processing[\"behavior\"][\"behavioral_events\"][behavioral_event_name].timestamps[:]\n",
    "    return data, timestamps\n",
    "\n",
    "\n",
    "def parse_DIOs(behavioral_event_data):\n",
    "    \"\"\"\n",
    "    Parse behavioral event DIOs and timestamps into DIO pulses for actual events vs epoch starts\n",
    "    \n",
    "    Epoch starts are marked by a shared \"0\" data point and timestamp across all DIO events.\n",
    "    Remove this event and timestamp from all DIOs so the data and timestamps for\n",
    "    each DIO reflects the actual behavioral event of interest.\n",
    "\n",
    "    Args:\n",
    "    behavioral_event_data: dict of event_name: (data, timestamps) for each named DIO event,\n",
    "    including DIO data/timestamps for both \"real\" events and epoch starts\n",
    "\n",
    "    Returns:\n",
    "    behavioral_event_data: dict of DIO_event: (data, timestamps) for that event \n",
    "    (with DIO data/timestamps for epoch starts removed)\n",
    "    epoch_start_timestamps: List of timestamps marking epoch starts\n",
    "    \"\"\"\n",
    "\n",
    "    # Get timestamps shared among all behavioral events (triggered by an epoch start)\n",
    "    epoch_start_timestamps = set.intersection(*[set(ts) for _, ts in behavioral_event_data.values()])\n",
    "\n",
    "    # Remove epoch start data/timestamps so we are left with only DIOs triggered by real behavioral events\n",
    "    behavioral_event_data = {key: \n",
    "                     ([d for d, ts in zip(data, timestamps) if ts not in epoch_start_timestamps],\n",
    "                      [ts for ts in timestamps if ts not in epoch_start_timestamps])\n",
    "                      for key, (data, timestamps) in behavioral_event_data.items()}\n",
    "    \n",
    "    # After removing extra 0s for epoch starts, check that each 1 has a corresponding 0\n",
    "    for key, (data, timestamps) in behavioral_event_data.items():\n",
    "        for i in range(len(data) - 1):\n",
    "            if not ((data[i] == 1 and data[i + 1] == 0) or (data[i] == 0 and data[i + 1] == 1)):\n",
    "                # For now, just warn about it - it may end up being ok\n",
    "                # It may be due to a session timeout that cut off a poke_out - we can deal with that elsewhere\n",
    "                warnings.warn(f\"{key} has mismatched DIO {data[i], data[i+1]} at timestamps {timestamps[i], timestamps[i+1]}\")\n",
    "                \n",
    "    return behavioral_event_data, sorted(epoch_start_timestamps)\n",
    "\n",
    "\n",
    "def get_data_from_excel_sheet(excel_path, date, sheet_name='Daily configs and notes_Bandit+'):\n",
    "    \"\"\" \n",
    "    Read the excel sheet of experimental notes and return a dataframe \n",
    "    of relevant rows for this recording date.\n",
    "    \"\"\"\n",
    "\n",
    "    # Read the excel sheet into a dataframe and filter for run sessions on our target date\n",
    "    df = pd.read_excel(excel_path, sheet_name=sheet_name, skiprows=1)\n",
    "    return df[(df['date'].astype(str) == str(date)) & (df['barrier location'].notna())].reset_index(drop=True)\n",
    "\n",
    "\n",
    "def add_block_and_trial_data_to_nwb(nwbfile: NWBFile, trial_data, block_data, overwrite=False):\n",
    "    \"\"\"\n",
    "    Add trial and block data to the nwbfile as timeintervals.\n",
    "    If \"block\" and \"trials\" already exist in the nwbfile, complain and\n",
    "    return without modifying the nwb unless overwrite=True.\n",
    "    \n",
    "    Args:\n",
    "    nwbfile (NWBFile): The nwbfile\n",
    "    trial_data: Dataframe of trial data for all run epochs in the nwbfile\n",
    "    block_data: Dataframe of block data for all run epochs in the nwbfile\n",
    "    overwrite (bool, optional): If we should overwrite existing trial \n",
    "    and block data in the nwbfile. Defaults to False\n",
    "    \"\"\"\n",
    "\n",
    "    # Check if a block or trials table already exists in the nwbfile\n",
    "    if not overwrite and (\"block\" in nwbfile.intervals or \"trials\" in nwbfile.intervals):\n",
    "        print(\"Stopping. Run again with overwrite=True if you wish to overwrite the original block and trials table.\")\n",
    "        return \n",
    "\n",
    "    def get_opto_condition(delay):\n",
    "        \"\"\"Helper to get opto condition as a string based on delay\"\"\"\n",
    "        return {1: \"delay\", 0: \"no_delay\"}.get(delay, \"None\")\n",
    "\n",
    "    # Add columns for block data to the NWB file\n",
    "    block_table = nwbfile.create_time_intervals(\n",
    "        name=\"block\",\n",
    "        description=\"The block within a session. \"\n",
    "        \"Each block is defined by a maze configuration and set of reward probabilities.\",\n",
    "    )\n",
    "    block_table.add_column(name=\"epoch\", description=\"The epoch (session) this block is in\")\n",
    "    block_table.add_column(name=\"block\", description=\"The block number within the session\")\n",
    "    block_table.add_column(\n",
    "        name=\"maze_configuration\",\n",
    "        description=\"The maze configuration for each block, \"\n",
    "        \"defined by the set of hexes in the maze where barriers are placed.\",\n",
    "    )\n",
    "    block_table.add_column(name=\"pA\", description=\"The probability of reward at port A\")\n",
    "    block_table.add_column(name=\"pB\", description=\"The probability of reward at port B\")\n",
    "    block_table.add_column(name=\"pC\", description=\"The probability of reward at port C\")\n",
    "    block_table.add_column(name=\"start_trial\", description=\"The first trial in this block\")\n",
    "    block_table.add_column(name=\"end_trial\", description=\"The last trial in this block\")\n",
    "    block_table.add_column(name=\"num_trials\", description=\"The number of trials in this block\")\n",
    "    block_table.add_column(name=\"task_type\", description=\"The session type ('barrier change' or 'probability change'\")\n",
    "\n",
    "    # Add columns for trial data to the NWB file\n",
    "    nwbfile.add_trial_column(name=\"epoch\", description=\"The epoch (session) this trial is in\")\n",
    "    nwbfile.add_trial_column(name=\"block\", description=\"The block this trial is in\")\n",
    "    nwbfile.add_trial_column(name=\"trial_within_block\", description=\"The trial number within the block\")\n",
    "    nwbfile.add_trial_column(name=\"trial_within_epoch\", description=\"The trial number within the epoch (session)\")\n",
    "    nwbfile.add_trial_column(name=\"start_port\", description=\"The reward port the rat started at (A, B, or C)\")\n",
    "    nwbfile.add_trial_column(name=\"end_port\", description=\"The reward port the rat ended at (A, B, or C)\")\n",
    "    nwbfile.add_trial_column(name=\"reward\", description=\"If the rat got a reward at the port (1 or 0)\")\n",
    "    nwbfile.add_trial_column(name=\"opto_condition\", description=\"Description of the opto condition, if any\")\n",
    "    nwbfile.add_trial_column(name=\"duration\", description=\"The duration of the trial\")\n",
    "    nwbfile.add_trial_column(name=\"poke_in\", description=\"The time the rat entered the reward port\")\n",
    "    nwbfile.add_trial_column(name=\"poke_out\", description=\"The time the rat exited the reward port\")\n",
    "\n",
    "    # Add each block to the block table in the NWB\n",
    "    for idx, block in block_data.iterrows():\n",
    "        block_table.add_row(\n",
    "            epoch=block[\"epoch\"],\n",
    "            block=block[\"block\"],\n",
    "            maze_configuration=block[\"maze_configuration\"],\n",
    "            pA=block[\"pA\"],\n",
    "            pB=block[\"pB\"],\n",
    "            pC=block[\"pC\"],\n",
    "            start_trial=block[\"start_trial\"],\n",
    "            end_trial=block[\"end_trial\"],\n",
    "            num_trials=block[\"num_trials\"],\n",
    "            task_type=block[\"task_type\"],\n",
    "            start_time=block[\"start_time\"],\n",
    "            stop_time=block[\"end_time\"],\n",
    "        )\n",
    "\n",
    "    # Add each trial to the NWB\n",
    "    for idx, trial in trial_data.iterrows():\n",
    "        nwbfile.add_trial(\n",
    "            epoch=trial[\"epoch\"],\n",
    "            block=trial[\"block\"],\n",
    "            trial_within_block=trial[\"trial_within_block\"],\n",
    "            trial_within_epoch=trial[\"trial_within_session\"],\n",
    "            start_port=trial[\"start_port\"],\n",
    "            end_port=trial[\"end_port\"],\n",
    "            reward=trial[\"reward\"],\n",
    "            opto_condition=get_opto_condition(trial['delay']),\n",
    "            duration=trial[\"duration\"],\n",
    "            poke_in=trial[\"poke_in_time\"],\n",
    "            poke_out=trial[\"poke_out_time\"],\n",
    "            start_time=trial[\"start_time\"],\n",
    "            stop_time=trial[\"end_time\"],\n",
    "        )"
   ]
  },
  {
   "cell_type": "code",
   "execution_count": 20,
   "metadata": {},
   "outputs": [],
   "source": [
    "def add_behavioral_data_to_nwb(nwb_path, excel_path, \n",
    "                                 sheet_name='Daily configs and notes_Bandit+', save_type=None, overwrite=False):\n",
    "    \"\"\"\n",
    "    Given an nwbfile, parse behavioral data in to trial and block \n",
    "    dataframes for each run epoch and save them for future use.\n",
    "    \n",
    "    Args:\n",
    "    nwb_path: Path to a Frank Lab nwbfile with statescriptlogs saved as AssociatedFiles \\\n",
    "    objects and behavioral event DIOs in the behavior processing module\n",
    "    excel_path: Path to an excel sheet of behavioral notes for the experiment, \\\n",
    "    including 'date' and 'barrier location' column\n",
    "    sheet_name: Name of sheet to read from in excel. \\\n",
    "    Defaults to 'Daily configs and notes_Bandit+' if not specified.\n",
    "    save_type: \"nwb\", \"pickle\", or \"csv\". \\\n",
    "    \"nwb\" to save the data as timeintervals in the nwbfile. \\\n",
    "    \"pickle\" or \"csv\" to save the trial and block dataframes as .pkl or .csv files. \" \\\n",
    "    Any combination of save_types is allowed, e.g. save_type=\"pickle,nwb\"\n",
    "    overwrite: If we should overwrite existing trial and block data in the nwbfile, \\\n",
    "    if it exists. Applies only to save_type=\"nwb\". Defaults to False\n",
    "    \"\"\"\n",
    "\n",
    "    # Hack to remove trials and block table if we need to overwrite them\n",
    "    removed_old_data_from_nwb = False\n",
    "    if overwrite and \"nwb\" in save_type:\n",
    "        with h5py.File(nwb_path, \"r+\") as f:\n",
    "            if \"block\" in f[\"intervals\"]:\n",
    "                print(\"A block table already exists in the nwbfile!\")\n",
    "                print(\"The original block table in the nwb will be deleted and overwritten.\")\n",
    "                del f[\"intervals/block\"]\n",
    "            if \"trials\" in f[\"intervals\"]:\n",
    "                print(\"A trials table already exists in the nwbfile!\")\n",
    "                print(\"The original trials table in the nwb will be deleted and overwritten.\")\n",
    "                del f[\"intervals/trials\"]\n",
    "            removed_old_data_from_nwb = True\n",
    "\n",
    "    with NWBHDF5IO(nwb_path, mode=\"r+\") as io:\n",
    "        nwbfile = io.read()\n",
    "        print(f\"Parsing behavior for {nwbfile.session_id} ...\")\n",
    "\n",
    "        # Get session date assuming session ID is in format rat_date\n",
    "        session_date = nwbfile.session_id.split(\"_\")[-1]\n",
    "        # Read rows from excel sheets for run sessions on this date\n",
    "        excel_data = get_data_from_excel_sheet(excel_path, session_date, sheet_name)\n",
    "\n",
    "        # Get epoch table defining session boundaries with columns \"start_time\", \"end_time\", and \"tags\"\n",
    "        epoch_table = nwbfile.intervals[\"epochs\"][:]\n",
    "\n",
    "        # Filter epochs to include only run sessions (should include \"r\" in the tags)\n",
    "        run_epochs = epoch_table[epoch_table[\"tags\"].apply(lambda x: 'r' in x[0])]\n",
    "        # Filtering epochs for run sessions should be the same as taking every other epoch\n",
    "        assert run_epochs.equals(epoch_table.iloc[1::2])\n",
    "\n",
    "        # Get all stateScriptLogs from run sessions (ignoring logs from sleep sessions)\n",
    "        module = nwbfile.get_processing_module(\"associated_files\")\n",
    "        run_statescript_logs = {name: log \n",
    "                                for name, log in module.data_interfaces.items()\n",
    "                                if name.startswith(\"statescript r\")\n",
    "                                }\n",
    "        assert len(run_statescript_logs) == len(run_epochs) == len(excel_data)\n",
    "\n",
    "        # Get behavioral events from the nwbfile as a dict of (data, timestamps) for each named behavioral event \n",
    "        behavioral_events = [\"barrier_shift\", \"wellA_poke\", \"wellA_pump\", \"wellB_poke\", \n",
    "                        \"wellB_pump\", \"wellC_poke\", \"wellC_pump\"]\n",
    "        behavioral_event_data = {event: get_DIO_event_data(nwbfile, event) for event in behavioral_events}\n",
    "\n",
    "        # Separate DIOs into those for actual behavioral events vs epoch starts\n",
    "        behavioral_event_data, epoch_start_timestamps = parse_DIOs(behavioral_event_data)\n",
    "\n",
    "        # Check that we have the expected amount of epoch starts\n",
    "        # NOTE: epoch_start_timestamps from the DIO pulses lag the timestamps in the epoch_table\n",
    "        # by ~1 second to ~1 minute - check where this discrepancy comes from and which one to use!\n",
    "        assert len(epoch_start_timestamps) == len(epoch_table)\n",
    "        \n",
    "        # Set up lists to store block and trial data for each epoch\n",
    "        block_dataframes = []\n",
    "        trial_dataframes = []\n",
    "        \n",
    "        # Parse behavioral data for each epoch using the statescriptlog and align to DIOs\n",
    "        run_session_num = 0\n",
    "        for idx, epoch in run_epochs.iterrows():\n",
    "\n",
    "            print(f\"Parsing statescript for epoch {epoch.name} ...\\n\")\n",
    "            # Get the statescriptlog for this epoch\n",
    "            statescriptlog = list(run_statescript_logs.items())[run_session_num]\n",
    "\n",
    "            # Filter DIOs to only include those in this epoch\n",
    "            # NOTE: maybe replace epoch.start_time and epoch.stop_time with DIO times \n",
    "            # (see above comment for reasoning, and commented line below for how to make this switch)\n",
    "            # So far it does not seem to make a difference in our results, but something to consider.\n",
    "            DIO_events_in_epoch = {\n",
    "                event: (list(filtered_data), list(filtered_timestamps))\n",
    "                for event, (data, timestamps) in behavioral_event_data.items()\n",
    "                if (filtered := [(d, ts) for d, ts in zip(data, timestamps) if epoch.start_time <= ts <= epoch.stop_time])\n",
    "                # if (filtered := [(d, ts) for d, ts in zip(data, timestamps) if epoch_start_timestamps[idx] < ts < epoch_start_timestamps[idx+1]])\n",
    "                for filtered_data, filtered_timestamps in [zip(*filtered)]\n",
    "            }\n",
    "\n",
    "            # Filter excel data for this epoch\n",
    "            excel_data_for_epoch = excel_data.iloc[[run_session_num]]\n",
    "\n",
    "            # Parse statescriptlog and DIO events for this epoch into tables of trial and block data\n",
    "            trial_data, block_data = parse_state_script_log(statescriptlog, DIO_events_in_epoch, excel_data_for_epoch)\n",
    "            \n",
    "            # Adjustment for start time of first trial/block\n",
    "            # If the epoch start is after the start time, set the start time to the epoch start.\n",
    "            if epoch.start_time > trial_data.loc[0, 'start_time']:\n",
    "                print(f\"Setting start time of the first block/trial to epoch start time {epoch.start_time}, was previously {trial_data.loc[0, 'start_time']}\")\n",
    "                trial_data.loc[0, 'start_time'] = epoch.start_time\n",
    "                block_data.loc[0, 'start_time'] = epoch.start_time\n",
    "                trial_data.loc[0, 'duration'] = trial_data.loc[0, 'end_time']-trial_data.loc[0, 'start_time']\n",
    "\n",
    "            # Add epoch column to the dataframes\n",
    "            trial_data['epoch'] = epoch.name\n",
    "            block_data['epoch'] = epoch.name\n",
    "            \n",
    "            # Reorder columns so epoch comes first\n",
    "            trial_data = trial_data[['epoch'] + [col for col in trial_data.columns if col != 'epoch']]\n",
    "            block_data = block_data[['epoch'] + [col for col in block_data.columns if col != 'epoch']]\n",
    "    \n",
    "            # Append the dataframes for this epoch\n",
    "            trial_dataframes.append(trial_data)\n",
    "            block_dataframes.append(block_data)\n",
    "\n",
    "            print(f\"Trial and block data for epoch {epoch.name}:\")\n",
    "            display(trial_data)\n",
    "            display(block_data)\n",
    "            \n",
    "            run_session_num += 1\n",
    "\n",
    "        trial_data_all_epochs = pd.concat(trial_dataframes, ignore_index=True)\n",
    "        block_data_all_epochs = pd.concat(block_dataframes, ignore_index=True)\n",
    "\n",
    "        if \"pickle\" in save_type:\n",
    "            trial_data_all_epochs.to_pickle(f\"{nwbfile.session_id}_trial_data.pkl\")\n",
    "            block_data_all_epochs.to_pickle(f\"{nwbfile.session_id}_block_data.pkl\")\n",
    "        if \"csv\" in save_type:\n",
    "            trial_data_all_epochs.to_csv(f\"{nwbfile.session_id}_trial_data.csv\", index=False)\n",
    "            block_data_all_epochs.to_csv(f\"{nwbfile.session_id}_block_data.csv\", index=False)\n",
    "        if \"nwb\" in save_type:\n",
    "            # Add the trial and block tables to the original nwbfile\n",
    "            add_block_and_trial_data_to_nwb(nwbfile, trial_data_all_epochs, block_data_all_epochs, overwrite)\n",
    "            # Write to the nwb if either overwrite=True, \n",
    "            # or overwrite=False but there was no existing block and trial data (so we are adding not overwriting)\n",
    "            if overwrite or not removed_old_data_from_nwb:\n",
    "                io.write(nwbfile)\n",
    "\n",
    "\n",
    "def delete_blocks_and_trials_from_nwb(nwb_path):\n",
    "    \"\"\"\n",
    "    Delete block and trials tables (stored as TimeIntervals) from an nwbfile if they exist. \n",
    "    Modifies the file in-place. Note that this will not actually reduce the file size \n",
    "    due to limitations in the HDF5 format\n",
    "    \"\"\"\n",
    "    with h5py.File(nwb_path, \"r+\") as f:\n",
    "        if \"block\" in f[\"intervals\"]:\n",
    "            print(\"Deleting block tale from the nwbfile\")\n",
    "            del f[\"intervals/block\"]\n",
    "        else:\n",
    "            print(\"No block table to delete.\")\n",
    "        if \"trials\" in f[\"intervals\"]:\n",
    "            print(\"Deleting trials table from the nwbfile\")\n",
    "            del f[\"intervals/trials\"]\n",
    "        else:\n",
    "            print(\"No trials table to delete.\")\n",
    "\n",
    "# NOTE: Currently this pipeline prints a lot of stuff because it is still in development - \n",
    "# ultimately we will switch to formal logging and save all of the output in a text file instead"
   ]
  },
  {
   "cell_type": "code",
   "execution_count": 21,
   "metadata": {},
   "outputs": [
    {
     "name": "stdout",
     "output_type": "stream",
     "text": [
      "/Users/steph/miniforge3/envs/jdb_to_nwb/lib/python3.12/site-packages/hdmf/backends/hdf5/h5tools.py:663: BrokenLinkWarning: Path to Group altered/broken at /acquisition/e-series\n",
      "/Users/steph/miniforge3/envs/jdb_to_nwb/lib/python3.12/site-packages/hdmf/backends/hdf5/h5tools.py:663: BrokenLinkWarning: Path to Group altered/broken at /processing/analog\n",
      "Parsing behavior for BraveLu_20240519 ...\n",
      "/var/folders/4y/j2yklrvj7z96v7h6ww30_knc0000gp/T/ipykernel_82401/2478407372.py:1020: UserWarning: wellB_poke has mismatched DIO (np.uint8(1), np.uint8(1)) at timestamps (np.float64(1716164336.8958368), np.float64(1716164938.8327982))\n",
      "Parsing statescript for epoch 1 ...\n",
      "\n"
     ]
    },
    {
     "data": {
      "text/plain": [
       "{'contingency': {'timestamp': 75570, 'value': 0},\n",
       " 'trialThresh': {'timestamp': 75571, 'value': 69},\n",
       " 'totalPokes': {'timestamp': 75571, 'value': 1},\n",
       " 'totalRewards': {'timestamp': 75572, 'value': 1},\n",
       " 'ifDelay': {'timestamp': 75572, 'value': 0},\n",
       " 'countPokes1': {'timestamp': 75573, 'value': 0},\n",
       " 'countRewards1': {'timestamp': 75573, 'value': 0},\n",
       " 'portProbs1': {'timestamp': 75573, 'value': 10},\n",
       " 'countPokes2': {'timestamp': 75574, 'value': 1},\n",
       " 'countRewards2': {'timestamp': 75574, 'value': 1},\n",
       " 'portProbs2': {'timestamp': 75575, 'value': 50},\n",
       " 'countPokes3': {'timestamp': 75575, 'value': 0},\n",
       " 'countRewards3': {'timestamp': 75596, 'value': 0},\n",
       " 'portProbs3': {'timestamp': 75597, 'value': 90}}"
      ]
     },
     "metadata": {},
     "output_type": "display_data"
    },
    {
     "data": {
      "text/plain": [
       "{'contingency': {'timestamp': 97335, 'value': 0},\n",
       " 'trialThresh': {'timestamp': 97335, 'value': 69},\n",
       " 'totalPokes': {'timestamp': 97336, 'value': 2},\n",
       " 'totalRewards': {'timestamp': 97336, 'value': 1},\n",
       " 'ifDelay': {'timestamp': 97337, 'value': 1},\n",
       " 'countPokes1': {'timestamp': 97337, 'value': 1},\n",
       " 'countRewards1': {'timestamp': 97338, 'value': 0},\n",
       " 'portProbs1': {'timestamp': 97338, 'value': 10},\n",
       " 'countPokes2': {'timestamp': 97339, 'value': 1},\n",
       " 'countRewards2': {'timestamp': 97339, 'value': 1},\n",
       " 'portProbs2': {'timestamp': 97340, 'value': 50},\n",
       " 'countPokes3': {'timestamp': 97340, 'value': 0},\n",
       " 'countRewards3': {'timestamp': 97361, 'value': 0},\n",
       " 'portProbs3': {'timestamp': 97362, 'value': 90}}"
      ]
     },
     "metadata": {},
     "output_type": "display_data"
    },
    {
     "data": {
      "text/plain": [
       "{'contingency': {'timestamp': 115265, 'value': 0},\n",
       " 'trialThresh': {'timestamp': 115265, 'value': 69},\n",
       " 'totalPokes': {'timestamp': 115266, 'value': 3},\n",
       " 'totalRewards': {'timestamp': 115266, 'value': 2},\n",
       " 'ifDelay': {'timestamp': 115267, 'value': 1},\n",
       " 'countPokes1': {'timestamp': 115267, 'value': 1},\n",
       " 'countRewards1': {'timestamp': 115268, 'value': 0},\n",
       " 'portProbs1': {'timestamp': 115268, 'value': 10},\n",
       " 'countPokes2': {'timestamp': 115269, 'value': 2},\n",
       " 'countRewards2': {'timestamp': 115269, 'value': 2},\n",
       " 'portProbs2': {'timestamp': 115269, 'value': 50},\n",
       " 'countPokes3': {'timestamp': 115290, 'value': 0},\n",
       " 'countRewards3': {'timestamp': 115290, 'value': 0},\n",
       " 'portProbs3': {'timestamp': 115291, 'value': 90}}"
      ]
     },
     "metadata": {},
     "output_type": "display_data"
    },
    {
     "data": {
      "text/plain": [
       "{'contingency': {'timestamp': 136308, 'value': 0},\n",
       " 'trialThresh': {'timestamp': 136309, 'value': 69},\n",
       " 'totalPokes': {'timestamp': 136309, 'value': 4},\n",
       " 'totalRewards': {'timestamp': 136310, 'value': 3},\n",
       " 'ifDelay': {'timestamp': 136310, 'value': 1},\n",
       " 'countPokes1': {'timestamp': 136311, 'value': 2},\n",
       " 'countRewards1': {'timestamp': 136311, 'value': 1},\n",
       " 'portProbs1': {'timestamp': 136312, 'value': 10},\n",
       " 'countPokes2': {'timestamp': 136312, 'value': 2},\n",
       " 'countRewards2': {'timestamp': 136313, 'value': 2},\n",
       " 'portProbs2': {'timestamp': 136313, 'value': 50},\n",
       " 'countPokes3': {'timestamp': 136334, 'value': 0},\n",
       " 'countRewards3': {'timestamp': 136334, 'value': 0},\n",
       " 'portProbs3': {'timestamp': 136335, 'value': 90}}"
      ]
     },
     "metadata": {},
     "output_type": "display_data"
    },
    {
     "data": {
      "text/plain": [
       "{'contingency': {'timestamp': 155731, 'value': 0},\n",
       " 'trialThresh': {'timestamp': 155731, 'value': 69},\n",
       " 'totalPokes': {'timestamp': 155732, 'value': 5},\n",
       " 'totalRewards': {'timestamp': 155732, 'value': 3},\n",
       " 'ifDelay': {'timestamp': 155733, 'value': 1},\n",
       " 'countPokes1': {'timestamp': 155733, 'value': 2},\n",
       " 'countRewards1': {'timestamp': 155734, 'value': 1},\n",
       " 'portProbs1': {'timestamp': 155734, 'value': 10},\n",
       " 'countPokes2': {'timestamp': 155735, 'value': 3},\n",
       " 'countRewards2': {'timestamp': 155735, 'value': 2},\n",
       " 'portProbs2': {'timestamp': 155736, 'value': 50},\n",
       " 'countPokes3': {'timestamp': 155756, 'value': 0},\n",
       " 'countRewards3': {'timestamp': 155757, 'value': 0},\n",
       " 'portProbs3': {'timestamp': 155757, 'value': 90}}"
      ]
     },
     "metadata": {},
     "output_type": "display_data"
    },
    {
     "data": {
      "text/plain": [
       "{'contingency': {'timestamp': 163622, 'value': 0},\n",
       " 'trialThresh': {'timestamp': 163622, 'value': 69},\n",
       " 'totalPokes': {'timestamp': 163623, 'value': 6},\n",
       " 'totalRewards': {'timestamp': 163623, 'value': 3},\n",
       " 'ifDelay': {'timestamp': 163624, 'value': 1},\n",
       " 'countPokes1': {'timestamp': 163624, 'value': 3},\n",
       " 'countRewards1': {'timestamp': 163625, 'value': 1},\n",
       " 'portProbs1': {'timestamp': 163625, 'value': 10},\n",
       " 'countPokes2': {'timestamp': 163626, 'value': 3},\n",
       " 'countRewards2': {'timestamp': 163626, 'value': 2},\n",
       " 'portProbs2': {'timestamp': 163627, 'value': 50},\n",
       " 'countPokes3': {'timestamp': 163647, 'value': 0},\n",
       " 'countRewards3': {'timestamp': 163648, 'value': 0},\n",
       " 'portProbs3': {'timestamp': 163648, 'value': 90}}"
      ]
     },
     "metadata": {},
     "output_type": "display_data"
    },
    {
     "data": {
      "text/plain": [
       "{'contingency': {'timestamp': 173613, 'value': 0},\n",
       " 'trialThresh': {'timestamp': 173613, 'value': 69},\n",
       " 'totalPokes': {'timestamp': 173614, 'value': 7},\n",
       " 'totalRewards': {'timestamp': 173614, 'value': 3},\n",
       " 'ifDelay': {'timestamp': 173614, 'value': 1},\n",
       " 'countPokes1': {'timestamp': 173615, 'value': 3},\n",
       " 'countRewards1': {'timestamp': 173615, 'value': 1},\n",
       " 'portProbs1': {'timestamp': 173616, 'value': 10},\n",
       " 'countPokes2': {'timestamp': 173616, 'value': 4},\n",
       " 'countRewards2': {'timestamp': 173617, 'value': 2},\n",
       " 'portProbs2': {'timestamp': 173617, 'value': 50},\n",
       " 'countPokes3': {'timestamp': 173638, 'value': 0},\n",
       " 'countRewards3': {'timestamp': 173638, 'value': 0},\n",
       " 'portProbs3': {'timestamp': 173639, 'value': 90}}"
      ]
     },
     "metadata": {},
     "output_type": "display_data"
    },
    {
     "data": {
      "text/plain": [
       "{'contingency': {'timestamp': 181533, 'value': 0},\n",
       " 'trialThresh': {'timestamp': 181533, 'value': 69},\n",
       " 'totalPokes': {'timestamp': 181534, 'value': 8},\n",
       " 'totalRewards': {'timestamp': 181534, 'value': 3},\n",
       " 'ifDelay': {'timestamp': 181535, 'value': 1},\n",
       " 'countPokes1': {'timestamp': 181535, 'value': 4},\n",
       " 'countRewards1': {'timestamp': 181536, 'value': 1},\n",
       " 'portProbs1': {'timestamp': 181536, 'value': 10},\n",
       " 'countPokes2': {'timestamp': 181537, 'value': 4},\n",
       " 'countRewards2': {'timestamp': 181537, 'value': 2},\n",
       " 'portProbs2': {'timestamp': 181538, 'value': 50},\n",
       " 'countPokes3': {'timestamp': 181558, 'value': 0},\n",
       " 'countRewards3': {'timestamp': 181559, 'value': 0},\n",
       " 'portProbs3': {'timestamp': 181559, 'value': 90}}"
      ]
     },
     "metadata": {},
     "output_type": "display_data"
    },
    {
     "data": {
      "text/plain": [
       "{'contingency': {'timestamp': 188094, 'value': 0},\n",
       " 'trialThresh': {'timestamp': 188095, 'value': 69},\n",
       " 'totalPokes': {'timestamp': 188095, 'value': 9},\n",
       " 'totalRewards': {'timestamp': 188096, 'value': 4},\n",
       " 'ifDelay': {'timestamp': 188096, 'value': 1},\n",
       " 'countPokes1': {'timestamp': 188097, 'value': 4},\n",
       " 'countRewards1': {'timestamp': 188097, 'value': 1},\n",
       " 'portProbs1': {'timestamp': 188097, 'value': 10},\n",
       " 'countPokes2': {'timestamp': 188098, 'value': 5},\n",
       " 'countRewards2': {'timestamp': 188098, 'value': 3},\n",
       " 'portProbs2': {'timestamp': 188099, 'value': 50},\n",
       " 'countPokes3': {'timestamp': 188119, 'value': 0},\n",
       " 'countRewards3': {'timestamp': 188120, 'value': 0},\n",
       " 'portProbs3': {'timestamp': 188120, 'value': 90}}"
      ]
     },
     "metadata": {},
     "output_type": "display_data"
    },
    {
     "data": {
      "text/plain": [
       "{'contingency': {'timestamp': 206987, 'value': 0},\n",
       " 'trialThresh': {'timestamp': 206988, 'value': 69},\n",
       " 'totalPokes': {'timestamp': 206988, 'value': 10},\n",
       " 'totalRewards': {'timestamp': 206989, 'value': 4},\n",
       " 'ifDelay': {'timestamp': 206989, 'value': 0},\n",
       " 'countPokes1': {'timestamp': 206989, 'value': 5},\n",
       " 'countRewards1': {'timestamp': 206990, 'value': 1},\n",
       " 'portProbs1': {'timestamp': 206990, 'value': 10},\n",
       " 'countPokes2': {'timestamp': 206991, 'value': 5},\n",
       " 'countRewards2': {'timestamp': 206991, 'value': 3},\n",
       " 'portProbs2': {'timestamp': 206992, 'value': 50},\n",
       " 'countPokes3': {'timestamp': 207012, 'value': 0},\n",
       " 'countRewards3': {'timestamp': 207013, 'value': 0},\n",
       " 'portProbs3': {'timestamp': 207013, 'value': 90}}"
      ]
     },
     "metadata": {},
     "output_type": "display_data"
    },
    {
     "data": {
      "text/plain": [
       "{'contingency': {'timestamp': 215217, 'value': 0},\n",
       " 'trialThresh': {'timestamp': 215218, 'value': 69},\n",
       " 'totalPokes': {'timestamp': 215218, 'value': 11},\n",
       " 'totalRewards': {'timestamp': 215219, 'value': 4},\n",
       " 'ifDelay': {'timestamp': 215219, 'value': 0},\n",
       " 'countPokes1': {'timestamp': 215220, 'value': 5},\n",
       " 'countRewards1': {'timestamp': 215220, 'value': 1},\n",
       " 'portProbs1': {'timestamp': 215221, 'value': 10},\n",
       " 'countPokes2': {'timestamp': 215221, 'value': 6},\n",
       " 'countRewards2': {'timestamp': 215222, 'value': 3},\n",
       " 'portProbs2': {'timestamp': 215222, 'value': 50},\n",
       " 'countPokes3': {'timestamp': 215243, 'value': 0},\n",
       " 'countRewards3': {'timestamp': 215243, 'value': 0},\n",
       " 'portProbs3': {'timestamp': 215244, 'value': 90}}"
      ]
     },
     "metadata": {},
     "output_type": "display_data"
    },
    {
     "data": {
      "text/plain": [
       "{'contingency': {'timestamp': 226707, 'value': 0},\n",
       " 'trialThresh': {'timestamp': 226707, 'value': 69},\n",
       " 'totalPokes': {'timestamp': 226708, 'value': 12},\n",
       " 'totalRewards': {'timestamp': 226708, 'value': 4},\n",
       " 'ifDelay': {'timestamp': 226709, 'value': 0},\n",
       " 'countPokes1': {'timestamp': 226709, 'value': 6},\n",
       " 'countRewards1': {'timestamp': 226710, 'value': 1},\n",
       " 'portProbs1': {'timestamp': 226710, 'value': 10},\n",
       " 'countPokes2': {'timestamp': 226711, 'value': 6},\n",
       " 'countRewards2': {'timestamp': 226711, 'value': 3},\n",
       " 'portProbs2': {'timestamp': 226712, 'value': 50},\n",
       " 'countPokes3': {'timestamp': 226732, 'value': 0},\n",
       " 'countRewards3': {'timestamp': 226733, 'value': 0},\n",
       " 'portProbs3': {'timestamp': 226733, 'value': 90}}"
      ]
     },
     "metadata": {},
     "output_type": "display_data"
    },
    {
     "data": {
      "text/plain": [
       "{'contingency': {'timestamp': 233168, 'value': 0},\n",
       " 'trialThresh': {'timestamp': 233168, 'value': 69},\n",
       " 'totalPokes': {'timestamp': 233169, 'value': 13},\n",
       " 'totalRewards': {'timestamp': 233169, 'value': 4},\n",
       " 'ifDelay': {'timestamp': 233170, 'value': 0},\n",
       " 'countPokes1': {'timestamp': 233170, 'value': 6},\n",
       " 'countRewards1': {'timestamp': 233170, 'value': 1},\n",
       " 'portProbs1': {'timestamp': 233171, 'value': 10},\n",
       " 'countPokes2': {'timestamp': 233171, 'value': 7},\n",
       " 'countRewards2': {'timestamp': 233172, 'value': 3},\n",
       " 'portProbs2': {'timestamp': 233172, 'value': 50},\n",
       " 'countPokes3': {'timestamp': 233193, 'value': 0},\n",
       " 'countRewards3': {'timestamp': 233193, 'value': 0},\n",
       " 'portProbs3': {'timestamp': 233194, 'value': 90}}"
      ]
     },
     "metadata": {},
     "output_type": "display_data"
    },
    {
     "data": {
      "text/plain": [
       "{'contingency': {'timestamp': 253031, 'value': 0},\n",
       " 'trialThresh': {'timestamp': 253031, 'value': 69},\n",
       " 'totalPokes': {'timestamp': 253032, 'value': 14},\n",
       " 'totalRewards': {'timestamp': 253032, 'value': 5},\n",
       " 'ifDelay': {'timestamp': 253033, 'value': 0},\n",
       " 'countPokes1': {'timestamp': 253033, 'value': 6},\n",
       " 'countRewards1': {'timestamp': 253034, 'value': 1},\n",
       " 'portProbs1': {'timestamp': 253034, 'value': 10},\n",
       " 'countPokes2': {'timestamp': 253035, 'value': 7},\n",
       " 'countRewards2': {'timestamp': 253035, 'value': 3},\n",
       " 'portProbs2': {'timestamp': 253036, 'value': 50},\n",
       " 'countPokes3': {'timestamp': 253056, 'value': 1},\n",
       " 'countRewards3': {'timestamp': 253057, 'value': 1},\n",
       " 'portProbs3': {'timestamp': 253057, 'value': 90}}"
      ]
     },
     "metadata": {},
     "output_type": "display_data"
    },
    {
     "data": {
      "text/plain": [
       "{'contingency': {'timestamp': 276236, 'value': 0},\n",
       " 'trialThresh': {'timestamp': 276237, 'value': 69},\n",
       " 'totalPokes': {'timestamp': 276237, 'value': 15},\n",
       " 'totalRewards': {'timestamp': 276238, 'value': 5},\n",
       " 'ifDelay': {'timestamp': 276238, 'value': 0},\n",
       " 'countPokes1': {'timestamp': 276239, 'value': 7},\n",
       " 'countRewards1': {'timestamp': 276239, 'value': 1},\n",
       " 'portProbs1': {'timestamp': 276239, 'value': 10},\n",
       " 'countPokes2': {'timestamp': 276240, 'value': 7},\n",
       " 'countRewards2': {'timestamp': 276240, 'value': 3},\n",
       " 'portProbs2': {'timestamp': 276241, 'value': 50},\n",
       " 'countPokes3': {'timestamp': 276262, 'value': 1},\n",
       " 'countRewards3': {'timestamp': 276262, 'value': 1},\n",
       " 'portProbs3': {'timestamp': 276262, 'value': 90}}"
      ]
     },
     "metadata": {},
     "output_type": "display_data"
    },
    {
     "data": {
      "text/plain": [
       "{'contingency': {'timestamp': 287608, 'value': 0},\n",
       " 'trialThresh': {'timestamp': 287608, 'value': 69},\n",
       " 'totalPokes': {'timestamp': 287608, 'value': 16},\n",
       " 'totalRewards': {'timestamp': 287609, 'value': 5},\n",
       " 'ifDelay': {'timestamp': 287609, 'value': 0},\n",
       " 'countPokes1': {'timestamp': 287610, 'value': 7},\n",
       " 'countRewards1': {'timestamp': 287610, 'value': 1},\n",
       " 'portProbs1': {'timestamp': 287611, 'value': 10},\n",
       " 'countPokes2': {'timestamp': 287611, 'value': 8},\n",
       " 'countRewards2': {'timestamp': 287612, 'value': 3},\n",
       " 'portProbs2': {'timestamp': 287612, 'value': 50},\n",
       " 'countPokes3': {'timestamp': 287633, 'value': 1},\n",
       " 'countRewards3': {'timestamp': 287633, 'value': 1},\n",
       " 'portProbs3': {'timestamp': 287634, 'value': 90}}"
      ]
     },
     "metadata": {},
     "output_type": "display_data"
    },
    {
     "data": {
      "text/plain": [
       "{'contingency': {'timestamp': 294896, 'value': 0},\n",
       " 'trialThresh': {'timestamp': 294896, 'value': 69},\n",
       " 'totalPokes': {'timestamp': 294897, 'value': 17},\n",
       " 'totalRewards': {'timestamp': 294897, 'value': 5},\n",
       " 'ifDelay': {'timestamp': 294898, 'value': 0},\n",
       " 'countPokes1': {'timestamp': 294898, 'value': 8},\n",
       " 'countRewards1': {'timestamp': 294899, 'value': 1},\n",
       " 'portProbs1': {'timestamp': 294899, 'value': 10},\n",
       " 'countPokes2': {'timestamp': 294900, 'value': 8},\n",
       " 'countRewards2': {'timestamp': 294900, 'value': 3},\n",
       " 'portProbs2': {'timestamp': 294901, 'value': 50},\n",
       " 'countPokes3': {'timestamp': 294921, 'value': 1},\n",
       " 'countRewards3': {'timestamp': 294922, 'value': 1},\n",
       " 'portProbs3': {'timestamp': 294922, 'value': 90}}"
      ]
     },
     "metadata": {},
     "output_type": "display_data"
    },
    {
     "data": {
      "text/plain": [
       "{'contingency': {'timestamp': 301448, 'value': 0},\n",
       " 'trialThresh': {'timestamp': 301448, 'value': 69},\n",
       " 'totalPokes': {'timestamp': 301449, 'value': 18},\n",
       " 'totalRewards': {'timestamp': 301449, 'value': 5},\n",
       " 'ifDelay': {'timestamp': 301450, 'value': 0},\n",
       " 'countPokes1': {'timestamp': 301450, 'value': 8},\n",
       " 'countRewards1': {'timestamp': 301451, 'value': 1},\n",
       " 'portProbs1': {'timestamp': 301451, 'value': 10},\n",
       " 'countPokes2': {'timestamp': 301451, 'value': 9},\n",
       " 'countRewards2': {'timestamp': 301452, 'value': 3},\n",
       " 'portProbs2': {'timestamp': 301452, 'value': 50},\n",
       " 'countPokes3': {'timestamp': 301473, 'value': 1},\n",
       " 'countRewards3': {'timestamp': 301474, 'value': 1},\n",
       " 'portProbs3': {'timestamp': 301474, 'value': 90}}"
      ]
     },
     "metadata": {},
     "output_type": "display_data"
    },
    {
     "data": {
      "text/plain": [
       "{'contingency': {'timestamp': 321264, 'value': 0},\n",
       " 'trialThresh': {'timestamp': 321264, 'value': 69},\n",
       " 'totalPokes': {'timestamp': 321265, 'value': 19},\n",
       " 'totalRewards': {'timestamp': 321265, 'value': 6},\n",
       " 'ifDelay': {'timestamp': 321266, 'value': 0},\n",
       " 'countPokes1': {'timestamp': 321266, 'value': 8},\n",
       " 'countRewards1': {'timestamp': 321267, 'value': 1},\n",
       " 'portProbs1': {'timestamp': 321267, 'value': 10},\n",
       " 'countPokes2': {'timestamp': 321268, 'value': 9},\n",
       " 'countRewards2': {'timestamp': 321268, 'value': 3},\n",
       " 'portProbs2': {'timestamp': 321269, 'value': 50},\n",
       " 'countPokes3': {'timestamp': 321289, 'value': 2},\n",
       " 'countRewards3': {'timestamp': 321290, 'value': 2},\n",
       " 'portProbs3': {'timestamp': 321290, 'value': 90}}"
      ]
     },
     "metadata": {},
     "output_type": "display_data"
    },
    {
     "data": {
      "text/plain": [
       "{'contingency': {'timestamp': 338595, 'value': 0},\n",
       " 'trialThresh': {'timestamp': 338596, 'value': 69},\n",
       " 'totalPokes': {'timestamp': 338596, 'value': 20},\n",
       " 'totalRewards': {'timestamp': 338597, 'value': 6},\n",
       " 'ifDelay': {'timestamp': 338597, 'value': 0},\n",
       " 'countPokes1': {'timestamp': 338598, 'value': 9},\n",
       " 'countRewards1': {'timestamp': 338598, 'value': 1},\n",
       " 'portProbs1': {'timestamp': 338598, 'value': 10},\n",
       " 'countPokes2': {'timestamp': 338599, 'value': 9},\n",
       " 'countRewards2': {'timestamp': 338599, 'value': 3},\n",
       " 'portProbs2': {'timestamp': 338600, 'value': 50},\n",
       " 'countPokes3': {'timestamp': 338621, 'value': 2},\n",
       " 'countRewards3': {'timestamp': 338621, 'value': 2},\n",
       " 'portProbs3': {'timestamp': 338621, 'value': 90}}"
      ]
     },
     "metadata": {},
     "output_type": "display_data"
    },
    {
     "data": {
      "text/plain": [
       "{'contingency': {'timestamp': 345725, 'value': 0},\n",
       " 'trialThresh': {'timestamp': 345725, 'value': 69},\n",
       " 'totalPokes': {'timestamp': 345726, 'value': 21},\n",
       " 'totalRewards': {'timestamp': 345726, 'value': 6},\n",
       " 'ifDelay': {'timestamp': 345727, 'value': 0},\n",
       " 'countPokes1': {'timestamp': 345727, 'value': 9},\n",
       " 'countRewards1': {'timestamp': 345728, 'value': 1},\n",
       " 'portProbs1': {'timestamp': 345728, 'value': 10},\n",
       " 'countPokes2': {'timestamp': 345729, 'value': 10},\n",
       " 'countRewards2': {'timestamp': 345729, 'value': 3},\n",
       " 'portProbs2': {'timestamp': 345730, 'value': 50},\n",
       " 'countPokes3': {'timestamp': 345751, 'value': 2},\n",
       " 'countRewards3': {'timestamp': 345751, 'value': 2},\n",
       " 'portProbs3': {'timestamp': 345751, 'value': 90}}"
      ]
     },
     "metadata": {},
     "output_type": "display_data"
    },
    {
     "data": {
      "text/plain": [
       "{'contingency': {'timestamp': 354715, 'value': 0},\n",
       " 'trialThresh': {'timestamp': 354716, 'value': 69},\n",
       " 'totalPokes': {'timestamp': 354716, 'value': 22},\n",
       " 'totalRewards': {'timestamp': 354717, 'value': 7},\n",
       " 'ifDelay': {'timestamp': 354717, 'value': 0},\n",
       " 'countPokes1': {'timestamp': 354718, 'value': 9},\n",
       " 'countRewards1': {'timestamp': 354718, 'value': 1},\n",
       " 'portProbs1': {'timestamp': 354719, 'value': 10},\n",
       " 'countPokes2': {'timestamp': 354719, 'value': 10},\n",
       " 'countRewards2': {'timestamp': 354720, 'value': 3},\n",
       " 'portProbs2': {'timestamp': 354720, 'value': 50},\n",
       " 'countPokes3': {'timestamp': 354741, 'value': 3},\n",
       " 'countRewards3': {'timestamp': 354741, 'value': 3},\n",
       " 'portProbs3': {'timestamp': 354742, 'value': 90}}"
      ]
     },
     "metadata": {},
     "output_type": "display_data"
    },
    {
     "data": {
      "text/plain": [
       "{'contingency': {'timestamp': 382242, 'value': 0},\n",
       " 'trialThresh': {'timestamp': 382242, 'value': 69},\n",
       " 'totalPokes': {'timestamp': 382243, 'value': 23},\n",
       " 'totalRewards': {'timestamp': 382243, 'value': 7},\n",
       " 'ifDelay': {'timestamp': 382244, 'value': 1},\n",
       " 'countPokes1': {'timestamp': 382244, 'value': 10},\n",
       " 'countRewards1': {'timestamp': 382245, 'value': 1},\n",
       " 'portProbs1': {'timestamp': 382245, 'value': 10},\n",
       " 'countPokes2': {'timestamp': 382246, 'value': 10},\n",
       " 'countRewards2': {'timestamp': 382246, 'value': 3},\n",
       " 'portProbs2': {'timestamp': 382247, 'value': 50},\n",
       " 'countPokes3': {'timestamp': 382268, 'value': 3},\n",
       " 'countRewards3': {'timestamp': 382268, 'value': 3},\n",
       " 'portProbs3': {'timestamp': 382269, 'value': 90}}"
      ]
     },
     "metadata": {},
     "output_type": "display_data"
    },
    {
     "data": {
      "text/plain": [
       "{'contingency': {'timestamp': 390292, 'value': 0},\n",
       " 'trialThresh': {'timestamp': 390292, 'value': 69},\n",
       " 'totalPokes': {'timestamp': 390293, 'value': 24},\n",
       " 'totalRewards': {'timestamp': 390293, 'value': 7},\n",
       " 'ifDelay': {'timestamp': 390294, 'value': 1},\n",
       " 'countPokes1': {'timestamp': 390294, 'value': 10},\n",
       " 'countRewards1': {'timestamp': 390295, 'value': 1},\n",
       " 'portProbs1': {'timestamp': 390295, 'value': 10},\n",
       " 'countPokes2': {'timestamp': 390296, 'value': 11},\n",
       " 'countRewards2': {'timestamp': 390296, 'value': 3},\n",
       " 'portProbs2': {'timestamp': 390297, 'value': 50},\n",
       " 'countPokes3': {'timestamp': 390318, 'value': 3},\n",
       " 'countRewards3': {'timestamp': 390318, 'value': 3},\n",
       " 'portProbs3': {'timestamp': 390319, 'value': 90}}"
      ]
     },
     "metadata": {},
     "output_type": "display_data"
    },
    {
     "data": {
      "text/plain": [
       "{'contingency': {'timestamp': 400411, 'value': 0},\n",
       " 'trialThresh': {'timestamp': 400412, 'value': 69},\n",
       " 'totalPokes': {'timestamp': 400412, 'value': 25},\n",
       " 'totalRewards': {'timestamp': 400413, 'value': 7},\n",
       " 'ifDelay': {'timestamp': 400413, 'value': 1},\n",
       " 'countPokes1': {'timestamp': 400414, 'value': 10},\n",
       " 'countRewards1': {'timestamp': 400414, 'value': 1},\n",
       " 'portProbs1': {'timestamp': 400415, 'value': 10},\n",
       " 'countPokes2': {'timestamp': 400415, 'value': 11},\n",
       " 'countRewards2': {'timestamp': 400416, 'value': 3},\n",
       " 'portProbs2': {'timestamp': 400416, 'value': 50},\n",
       " 'countPokes3': {'timestamp': 400437, 'value': 4},\n",
       " 'countRewards3': {'timestamp': 400438, 'value': 3},\n",
       " 'portProbs3': {'timestamp': 400438, 'value': 90}}"
      ]
     },
     "metadata": {},
     "output_type": "display_data"
    },
    {
     "data": {
      "text/plain": [
       "{'contingency': {'timestamp': 408372, 'value': 0},\n",
       " 'trialThresh': {'timestamp': 408373, 'value': 69},\n",
       " 'totalPokes': {'timestamp': 408373, 'value': 26},\n",
       " 'totalRewards': {'timestamp': 408373, 'value': 7},\n",
       " 'ifDelay': {'timestamp': 408374, 'value': 1},\n",
       " 'countPokes1': {'timestamp': 408374, 'value': 11},\n",
       " 'countRewards1': {'timestamp': 408375, 'value': 1},\n",
       " 'portProbs1': {'timestamp': 408375, 'value': 10},\n",
       " 'countPokes2': {'timestamp': 408376, 'value': 11},\n",
       " 'countRewards2': {'timestamp': 408376, 'value': 3},\n",
       " 'portProbs2': {'timestamp': 408377, 'value': 50},\n",
       " 'countPokes3': {'timestamp': 408398, 'value': 4},\n",
       " 'countRewards3': {'timestamp': 408398, 'value': 3},\n",
       " 'portProbs3': {'timestamp': 408399, 'value': 90}}"
      ]
     },
     "metadata": {},
     "output_type": "display_data"
    },
    {
     "data": {
      "text/plain": [
       "{'contingency': {'timestamp': 415322, 'value': 0},\n",
       " 'trialThresh': {'timestamp': 415322, 'value': 69},\n",
       " 'totalPokes': {'timestamp': 415323, 'value': 27},\n",
       " 'totalRewards': {'timestamp': 415323, 'value': 8},\n",
       " 'ifDelay': {'timestamp': 415324, 'value': 1},\n",
       " 'countPokes1': {'timestamp': 415324, 'value': 11},\n",
       " 'countRewards1': {'timestamp': 415325, 'value': 1},\n",
       " 'portProbs1': {'timestamp': 415325, 'value': 10},\n",
       " 'countPokes2': {'timestamp': 415326, 'value': 12},\n",
       " 'countRewards2': {'timestamp': 415326, 'value': 4},\n",
       " 'portProbs2': {'timestamp': 415327, 'value': 50},\n",
       " 'countPokes3': {'timestamp': 415347, 'value': 4},\n",
       " 'countRewards3': {'timestamp': 415348, 'value': 3},\n",
       " 'portProbs3': {'timestamp': 415348, 'value': 90}}"
      ]
     },
     "metadata": {},
     "output_type": "display_data"
    },
    {
     "data": {
      "text/plain": [
       "{'contingency': {'timestamp': 440966, 'value': 0},\n",
       " 'trialThresh': {'timestamp': 440967, 'value': 69},\n",
       " 'totalPokes': {'timestamp': 440967, 'value': 28},\n",
       " 'totalRewards': {'timestamp': 440968, 'value': 9},\n",
       " 'ifDelay': {'timestamp': 440968, 'value': 0},\n",
       " 'countPokes1': {'timestamp': 440969, 'value': 11},\n",
       " 'countRewards1': {'timestamp': 440969, 'value': 1},\n",
       " 'portProbs1': {'timestamp': 440970, 'value': 10},\n",
       " 'countPokes2': {'timestamp': 440970, 'value': 12},\n",
       " 'countRewards2': {'timestamp': 440971, 'value': 4},\n",
       " 'portProbs2': {'timestamp': 440971, 'value': 50},\n",
       " 'countPokes3': {'timestamp': 440992, 'value': 5},\n",
       " 'countRewards3': {'timestamp': 440992, 'value': 4},\n",
       " 'portProbs3': {'timestamp': 440993, 'value': 90}}"
      ]
     },
     "metadata": {},
     "output_type": "display_data"
    },
    {
     "data": {
      "text/plain": [
       "{'contingency': {'timestamp': 456896, 'value': 0},\n",
       " 'trialThresh': {'timestamp': 456896, 'value': 69},\n",
       " 'totalPokes': {'timestamp': 456897, 'value': 29},\n",
       " 'totalRewards': {'timestamp': 456897, 'value': 9},\n",
       " 'ifDelay': {'timestamp': 456898, 'value': 1},\n",
       " 'countPokes1': {'timestamp': 456898, 'value': 12},\n",
       " 'countRewards1': {'timestamp': 456899, 'value': 1},\n",
       " 'portProbs1': {'timestamp': 456899, 'value': 10},\n",
       " 'countPokes2': {'timestamp': 456900, 'value': 12},\n",
       " 'countRewards2': {'timestamp': 456900, 'value': 4},\n",
       " 'portProbs2': {'timestamp': 456901, 'value': 50},\n",
       " 'countPokes3': {'timestamp': 456922, 'value': 5},\n",
       " 'countRewards3': {'timestamp': 456922, 'value': 4},\n",
       " 'portProbs3': {'timestamp': 456923, 'value': 90}}"
      ]
     },
     "metadata": {},
     "output_type": "display_data"
    },
    {
     "data": {
      "text/plain": [
       "{'contingency': {'timestamp': 464775, 'value': 0},\n",
       " 'trialThresh': {'timestamp': 464776, 'value': 69},\n",
       " 'totalPokes': {'timestamp': 464776, 'value': 30},\n",
       " 'totalRewards': {'timestamp': 464777, 'value': 10},\n",
       " 'ifDelay': {'timestamp': 464777, 'value': 1},\n",
       " 'countPokes1': {'timestamp': 464778, 'value': 12},\n",
       " 'countRewards1': {'timestamp': 464778, 'value': 1},\n",
       " 'portProbs1': {'timestamp': 464779, 'value': 10},\n",
       " 'countPokes2': {'timestamp': 464779, 'value': 13},\n",
       " 'countRewards2': {'timestamp': 464780, 'value': 5},\n",
       " 'portProbs2': {'timestamp': 464780, 'value': 50},\n",
       " 'countPokes3': {'timestamp': 464801, 'value': 5},\n",
       " 'countRewards3': {'timestamp': 464802, 'value': 4},\n",
       " 'portProbs3': {'timestamp': 464802, 'value': 90}}"
      ]
     },
     "metadata": {},
     "output_type": "display_data"
    },
    {
     "data": {
      "text/plain": [
       "{'contingency': {'timestamp': 490832, 'value': 0},\n",
       " 'trialThresh': {'timestamp': 490833, 'value': 69},\n",
       " 'totalPokes': {'timestamp': 490833, 'value': 31},\n",
       " 'totalRewards': {'timestamp': 490833, 'value': 11},\n",
       " 'ifDelay': {'timestamp': 490834, 'value': 0},\n",
       " 'countPokes1': {'timestamp': 490834, 'value': 12},\n",
       " 'countRewards1': {'timestamp': 490835, 'value': 1},\n",
       " 'portProbs1': {'timestamp': 490835, 'value': 10},\n",
       " 'countPokes2': {'timestamp': 490836, 'value': 13},\n",
       " 'countRewards2': {'timestamp': 490836, 'value': 5},\n",
       " 'portProbs2': {'timestamp': 490837, 'value': 50},\n",
       " 'countPokes3': {'timestamp': 490858, 'value': 6},\n",
       " 'countRewards3': {'timestamp': 490858, 'value': 5},\n",
       " 'portProbs3': {'timestamp': 490859, 'value': 90}}"
      ]
     },
     "metadata": {},
     "output_type": "display_data"
    },
    {
     "data": {
      "text/plain": [
       "{'contingency': {'timestamp': 509065, 'value': 0},\n",
       " 'trialThresh': {'timestamp': 509065, 'value': 69},\n",
       " 'totalPokes': {'timestamp': 509066, 'value': 32},\n",
       " 'totalRewards': {'timestamp': 509066, 'value': 11},\n",
       " 'ifDelay': {'timestamp': 509067, 'value': 1},\n",
       " 'countPokes1': {'timestamp': 509067, 'value': 12},\n",
       " 'countRewards1': {'timestamp': 509068, 'value': 1},\n",
       " 'portProbs1': {'timestamp': 509068, 'value': 10},\n",
       " 'countPokes2': {'timestamp': 509069, 'value': 14},\n",
       " 'countRewards2': {'timestamp': 509069, 'value': 5},\n",
       " 'portProbs2': {'timestamp': 509070, 'value': 50},\n",
       " 'countPokes3': {'timestamp': 509091, 'value': 6},\n",
       " 'countRewards3': {'timestamp': 509091, 'value': 5},\n",
       " 'portProbs3': {'timestamp': 509092, 'value': 90}}"
      ]
     },
     "metadata": {},
     "output_type": "display_data"
    },
    {
     "data": {
      "text/plain": [
       "{'contingency': {'timestamp': 518854, 'value': 0},\n",
       " 'trialThresh': {'timestamp': 518855, 'value': 69},\n",
       " 'totalPokes': {'timestamp': 518855, 'value': 33},\n",
       " 'totalRewards': {'timestamp': 518856, 'value': 12},\n",
       " 'ifDelay': {'timestamp': 518856, 'value': 1},\n",
       " 'countPokes1': {'timestamp': 518857, 'value': 12},\n",
       " 'countRewards1': {'timestamp': 518857, 'value': 1},\n",
       " 'portProbs1': {'timestamp': 518857, 'value': 10},\n",
       " 'countPokes2': {'timestamp': 518858, 'value': 14},\n",
       " 'countRewards2': {'timestamp': 518858, 'value': 5},\n",
       " 'portProbs2': {'timestamp': 518879, 'value': 50},\n",
       " 'countPokes3': {'timestamp': 518880, 'value': 7},\n",
       " 'countRewards3': {'timestamp': 518880, 'value': 6},\n",
       " 'portProbs3': {'timestamp': 518881, 'value': 90}}"
      ]
     },
     "metadata": {},
     "output_type": "display_data"
    },
    {
     "data": {
      "text/plain": [
       "{'contingency': {'timestamp': 537998, 'value': 0},\n",
       " 'trialThresh': {'timestamp': 537999, 'value': 69},\n",
       " 'totalPokes': {'timestamp': 537999, 'value': 34},\n",
       " 'totalRewards': {'timestamp': 538000, 'value': 12},\n",
       " 'ifDelay': {'timestamp': 538000, 'value': 0},\n",
       " 'countPokes1': {'timestamp': 538001, 'value': 13},\n",
       " 'countRewards1': {'timestamp': 538001, 'value': 1},\n",
       " 'portProbs1': {'timestamp': 538002, 'value': 10},\n",
       " 'countPokes2': {'timestamp': 538002, 'value': 14},\n",
       " 'countRewards2': {'timestamp': 538003, 'value': 5},\n",
       " 'portProbs2': {'timestamp': 538003, 'value': 50},\n",
       " 'countPokes3': {'timestamp': 538024, 'value': 7},\n",
       " 'countRewards3': {'timestamp': 538025, 'value': 6},\n",
       " 'portProbs3': {'timestamp': 538025, 'value': 90}}"
      ]
     },
     "metadata": {},
     "output_type": "display_data"
    },
    {
     "data": {
      "text/plain": [
       "{'contingency': {'timestamp': 546270, 'value': 0},\n",
       " 'trialThresh': {'timestamp': 546271, 'value': 69},\n",
       " 'totalPokes': {'timestamp': 546271, 'value': 35},\n",
       " 'totalRewards': {'timestamp': 546272, 'value': 12},\n",
       " 'ifDelay': {'timestamp': 546272, 'value': 0},\n",
       " 'countPokes1': {'timestamp': 546273, 'value': 13},\n",
       " 'countRewards1': {'timestamp': 546273, 'value': 1},\n",
       " 'portProbs1': {'timestamp': 546274, 'value': 10},\n",
       " 'countPokes2': {'timestamp': 546274, 'value': 15},\n",
       " 'countRewards2': {'timestamp': 546275, 'value': 5},\n",
       " 'portProbs2': {'timestamp': 546275, 'value': 50},\n",
       " 'countPokes3': {'timestamp': 546296, 'value': 7},\n",
       " 'countRewards3': {'timestamp': 546296, 'value': 6},\n",
       " 'portProbs3': {'timestamp': 546297, 'value': 90}}"
      ]
     },
     "metadata": {},
     "output_type": "display_data"
    },
    {
     "data": {
      "text/plain": [
       "{'contingency': {'timestamp': 570356, 'value': 0},\n",
       " 'trialThresh': {'timestamp': 570356, 'value': 69},\n",
       " 'totalPokes': {'timestamp': 570357, 'value': 36},\n",
       " 'totalRewards': {'timestamp': 570357, 'value': 13},\n",
       " 'ifDelay': {'timestamp': 570358, 'value': 0},\n",
       " 'countPokes1': {'timestamp': 570358, 'value': 13},\n",
       " 'countRewards1': {'timestamp': 570359, 'value': 1},\n",
       " 'portProbs1': {'timestamp': 570359, 'value': 10},\n",
       " 'countPokes2': {'timestamp': 570360, 'value': 15},\n",
       " 'countRewards2': {'timestamp': 570360, 'value': 5},\n",
       " 'portProbs2': {'timestamp': 570361, 'value': 50},\n",
       " 'countPokes3': {'timestamp': 570381, 'value': 8},\n",
       " 'countRewards3': {'timestamp': 570382, 'value': 7},\n",
       " 'portProbs3': {'timestamp': 570382, 'value': 90}}"
      ]
     },
     "metadata": {},
     "output_type": "display_data"
    },
    {
     "data": {
      "text/plain": [
       "{'contingency': {'timestamp': 580252, 'value': 0},\n",
       " 'trialThresh': {'timestamp': 580252, 'value': 69},\n",
       " 'totalPokes': {'timestamp': 580253, 'value': 37},\n",
       " 'totalRewards': {'timestamp': 580253, 'value': 14},\n",
       " 'ifDelay': {'timestamp': 580254, 'value': 0},\n",
       " 'countPokes1': {'timestamp': 580254, 'value': 14},\n",
       " 'countRewards1': {'timestamp': 580255, 'value': 2},\n",
       " 'portProbs1': {'timestamp': 580255, 'value': 10},\n",
       " 'countPokes2': {'timestamp': 580256, 'value': 15},\n",
       " 'countRewards2': {'timestamp': 580256, 'value': 5},\n",
       " 'portProbs2': {'timestamp': 580256, 'value': 50},\n",
       " 'countPokes3': {'timestamp': 580277, 'value': 8},\n",
       " 'countRewards3': {'timestamp': 580278, 'value': 7},\n",
       " 'portProbs3': {'timestamp': 580278, 'value': 90}}"
      ]
     },
     "metadata": {},
     "output_type": "display_data"
    },
    {
     "data": {
      "text/plain": [
       "{'contingency': {'timestamp': 601230, 'value': 0},\n",
       " 'trialThresh': {'timestamp': 601231, 'value': 69},\n",
       " 'totalPokes': {'timestamp': 601231, 'value': 38},\n",
       " 'totalRewards': {'timestamp': 601232, 'value': 15},\n",
       " 'ifDelay': {'timestamp': 601232, 'value': 0},\n",
       " 'countPokes1': {'timestamp': 601233, 'value': 14},\n",
       " 'countRewards1': {'timestamp': 601233, 'value': 2},\n",
       " 'portProbs1': {'timestamp': 601234, 'value': 10},\n",
       " 'countPokes2': {'timestamp': 601234, 'value': 16},\n",
       " 'countRewards2': {'timestamp': 601234, 'value': 6},\n",
       " 'portProbs2': {'timestamp': 601256, 'value': 50},\n",
       " 'countPokes3': {'timestamp': 601256, 'value': 8},\n",
       " 'countRewards3': {'timestamp': 601257, 'value': 7},\n",
       " 'portProbs3': {'timestamp': 601257, 'value': 90}}"
      ]
     },
     "metadata": {},
     "output_type": "display_data"
    },
    {
     "data": {
      "text/plain": [
       "{'contingency': {'timestamp': 615506, 'value': 0},\n",
       " 'trialThresh': {'timestamp': 615507, 'value': 69},\n",
       " 'totalPokes': {'timestamp': 615507, 'value': 39},\n",
       " 'totalRewards': {'timestamp': 615508, 'value': 15},\n",
       " 'ifDelay': {'timestamp': 615508, 'value': 0},\n",
       " 'countPokes1': {'timestamp': 615509, 'value': 15},\n",
       " 'countRewards1': {'timestamp': 615509, 'value': 2},\n",
       " 'portProbs1': {'timestamp': 615510, 'value': 10},\n",
       " 'countPokes2': {'timestamp': 615510, 'value': 16},\n",
       " 'countRewards2': {'timestamp': 615510, 'value': 6},\n",
       " 'portProbs2': {'timestamp': 615511, 'value': 50},\n",
       " 'countPokes3': {'timestamp': 615532, 'value': 8},\n",
       " 'countRewards3': {'timestamp': 615532, 'value': 7},\n",
       " 'portProbs3': {'timestamp': 615533, 'value': 90}}"
      ]
     },
     "metadata": {},
     "output_type": "display_data"
    },
    {
     "data": {
      "text/plain": [
       "{'contingency': {'timestamp': 622966, 'value': 0},\n",
       " 'trialThresh': {'timestamp': 622966, 'value': 69},\n",
       " 'totalPokes': {'timestamp': 622967, 'value': 40},\n",
       " 'totalRewards': {'timestamp': 622967, 'value': 15},\n",
       " 'ifDelay': {'timestamp': 622968, 'value': 0},\n",
       " 'countPokes1': {'timestamp': 622968, 'value': 15},\n",
       " 'countRewards1': {'timestamp': 622969, 'value': 2},\n",
       " 'portProbs1': {'timestamp': 622969, 'value': 10},\n",
       " 'countPokes2': {'timestamp': 622970, 'value': 17},\n",
       " 'countRewards2': {'timestamp': 622970, 'value': 6},\n",
       " 'portProbs2': {'timestamp': 622971, 'value': 50},\n",
       " 'countPokes3': {'timestamp': 622992, 'value': 8},\n",
       " 'countRewards3': {'timestamp': 622992, 'value': 7},\n",
       " 'portProbs3': {'timestamp': 622993, 'value': 90}}"
      ]
     },
     "metadata": {},
     "output_type": "display_data"
    },
    {
     "data": {
      "text/plain": [
       "{'contingency': {'timestamp': 631237, 'value': 0},\n",
       " 'trialThresh': {'timestamp': 631237, 'value': 69},\n",
       " 'totalPokes': {'timestamp': 631238, 'value': 41},\n",
       " 'totalRewards': {'timestamp': 631238, 'value': 15},\n",
       " 'ifDelay': {'timestamp': 631239, 'value': 0},\n",
       " 'countPokes1': {'timestamp': 631239, 'value': 16},\n",
       " 'countRewards1': {'timestamp': 631240, 'value': 2},\n",
       " 'portProbs1': {'timestamp': 631240, 'value': 10},\n",
       " 'countPokes2': {'timestamp': 631241, 'value': 17},\n",
       " 'countRewards2': {'timestamp': 631241, 'value': 6},\n",
       " 'portProbs2': {'timestamp': 631242, 'value': 50},\n",
       " 'countPokes3': {'timestamp': 631262, 'value': 8},\n",
       " 'countRewards3': {'timestamp': 631263, 'value': 7},\n",
       " 'portProbs3': {'timestamp': 631263, 'value': 90}}"
      ]
     },
     "metadata": {},
     "output_type": "display_data"
    },
    {
     "data": {
      "text/plain": [
       "{'contingency': {'timestamp': 637952, 'value': 0},\n",
       " 'trialThresh': {'timestamp': 637952, 'value': 69},\n",
       " 'totalPokes': {'timestamp': 637953, 'value': 42},\n",
       " 'totalRewards': {'timestamp': 637953, 'value': 16},\n",
       " 'ifDelay': {'timestamp': 637954, 'value': 0},\n",
       " 'countPokes1': {'timestamp': 637954, 'value': 16},\n",
       " 'countRewards1': {'timestamp': 637954, 'value': 2},\n",
       " 'portProbs1': {'timestamp': 637955, 'value': 10},\n",
       " 'countPokes2': {'timestamp': 637955, 'value': 18},\n",
       " 'countRewards2': {'timestamp': 637956, 'value': 7},\n",
       " 'portProbs2': {'timestamp': 637956, 'value': 50},\n",
       " 'countPokes3': {'timestamp': 637977, 'value': 8},\n",
       " 'countRewards3': {'timestamp': 637978, 'value': 7},\n",
       " 'portProbs3': {'timestamp': 637978, 'value': 90}}"
      ]
     },
     "metadata": {},
     "output_type": "display_data"
    },
    {
     "data": {
      "text/plain": [
       "{'contingency': {'timestamp': 669793, 'value': 0},\n",
       " 'trialThresh': {'timestamp': 669794, 'value': 69},\n",
       " 'totalPokes': {'timestamp': 669794, 'value': 43},\n",
       " 'totalRewards': {'timestamp': 669795, 'value': 17},\n",
       " 'ifDelay': {'timestamp': 669795, 'value': 1},\n",
       " 'countPokes1': {'timestamp': 669796, 'value': 16},\n",
       " 'countRewards1': {'timestamp': 669796, 'value': 2},\n",
       " 'portProbs1': {'timestamp': 669797, 'value': 10},\n",
       " 'countPokes2': {'timestamp': 669797, 'value': 18},\n",
       " 'countRewards2': {'timestamp': 669798, 'value': 7},\n",
       " 'portProbs2': {'timestamp': 669798, 'value': 50},\n",
       " 'countPokes3': {'timestamp': 669819, 'value': 9},\n",
       " 'countRewards3': {'timestamp': 669819, 'value': 8},\n",
       " 'portProbs3': {'timestamp': 669820, 'value': 90}}"
      ]
     },
     "metadata": {},
     "output_type": "display_data"
    },
    {
     "data": {
      "text/plain": [
       "{'contingency': {'timestamp': 677852, 'value': 0},\n",
       " 'trialThresh': {'timestamp': 677853, 'value': 69},\n",
       " 'totalPokes': {'timestamp': 677853, 'value': 44},\n",
       " 'totalRewards': {'timestamp': 677854, 'value': 17},\n",
       " 'ifDelay': {'timestamp': 677854, 'value': 1},\n",
       " 'countPokes1': {'timestamp': 677855, 'value': 17},\n",
       " 'countRewards1': {'timestamp': 677855, 'value': 2},\n",
       " 'portProbs1': {'timestamp': 677856, 'value': 10},\n",
       " 'countPokes2': {'timestamp': 677856, 'value': 18},\n",
       " 'countRewards2': {'timestamp': 677856, 'value': 7},\n",
       " 'portProbs2': {'timestamp': 677857, 'value': 50},\n",
       " 'countPokes3': {'timestamp': 677878, 'value': 9},\n",
       " 'countRewards3': {'timestamp': 677878, 'value': 8},\n",
       " 'portProbs3': {'timestamp': 677879, 'value': 90}}"
      ]
     },
     "metadata": {},
     "output_type": "display_data"
    },
    {
     "data": {
      "text/plain": [
       "{'contingency': {'timestamp': 684302, 'value': 0},\n",
       " 'trialThresh': {'timestamp': 684303, 'value': 69},\n",
       " 'totalPokes': {'timestamp': 684303, 'value': 45},\n",
       " 'totalRewards': {'timestamp': 684303, 'value': 17},\n",
       " 'ifDelay': {'timestamp': 684304, 'value': 1},\n",
       " 'countPokes1': {'timestamp': 684304, 'value': 17},\n",
       " 'countRewards1': {'timestamp': 684305, 'value': 2},\n",
       " 'portProbs1': {'timestamp': 684305, 'value': 10},\n",
       " 'countPokes2': {'timestamp': 684306, 'value': 19},\n",
       " 'countRewards2': {'timestamp': 684306, 'value': 7},\n",
       " 'portProbs2': {'timestamp': 684307, 'value': 50},\n",
       " 'countPokes3': {'timestamp': 684328, 'value': 9},\n",
       " 'countRewards3': {'timestamp': 684328, 'value': 8},\n",
       " 'portProbs3': {'timestamp': 684329, 'value': 90}}"
      ]
     },
     "metadata": {},
     "output_type": "display_data"
    },
    {
     "data": {
      "text/plain": [
       "{'contingency': {'timestamp': 695043, 'value': 0},\n",
       " 'trialThresh': {'timestamp': 695043, 'value': 69},\n",
       " 'totalPokes': {'timestamp': 695043, 'value': 46},\n",
       " 'totalRewards': {'timestamp': 695044, 'value': 18},\n",
       " 'ifDelay': {'timestamp': 695044, 'value': 1},\n",
       " 'countPokes1': {'timestamp': 695045, 'value': 17},\n",
       " 'countRewards1': {'timestamp': 695045, 'value': 2},\n",
       " 'portProbs1': {'timestamp': 695046, 'value': 10},\n",
       " 'countPokes2': {'timestamp': 695046, 'value': 19},\n",
       " 'countRewards2': {'timestamp': 695047, 'value': 7},\n",
       " 'portProbs2': {'timestamp': 695068, 'value': 50},\n",
       " 'countPokes3': {'timestamp': 695068, 'value': 10},\n",
       " 'countRewards3': {'timestamp': 695069, 'value': 9},\n",
       " 'portProbs3': {'timestamp': 695069, 'value': 90}}"
      ]
     },
     "metadata": {},
     "output_type": "display_data"
    },
    {
     "data": {
      "text/plain": [
       "{'contingency': {'timestamp': 719449, 'value': 0},\n",
       " 'trialThresh': {'timestamp': 719449, 'value': 69},\n",
       " 'totalPokes': {'timestamp': 719450, 'value': 47},\n",
       " 'totalRewards': {'timestamp': 719450, 'value': 18},\n",
       " 'ifDelay': {'timestamp': 719451, 'value': 0},\n",
       " 'countPokes1': {'timestamp': 719451, 'value': 18},\n",
       " 'countRewards1': {'timestamp': 719452, 'value': 2},\n",
       " 'portProbs1': {'timestamp': 719452, 'value': 10},\n",
       " 'countPokes2': {'timestamp': 719453, 'value': 19},\n",
       " 'countRewards2': {'timestamp': 719453, 'value': 7},\n",
       " 'portProbs2': {'timestamp': 719454, 'value': 50},\n",
       " 'countPokes3': {'timestamp': 719475, 'value': 10},\n",
       " 'countRewards3': {'timestamp': 719475, 'value': 9},\n",
       " 'portProbs3': {'timestamp': 719476, 'value': 90}}"
      ]
     },
     "metadata": {},
     "output_type": "display_data"
    },
    {
     "data": {
      "text/plain": [
       "{'contingency': {'timestamp': 728890, 'value': 0},\n",
       " 'trialThresh': {'timestamp': 728890, 'value': 69},\n",
       " 'totalPokes': {'timestamp': 728891, 'value': 48},\n",
       " 'totalRewards': {'timestamp': 728891, 'value': 18},\n",
       " 'ifDelay': {'timestamp': 728892, 'value': 0},\n",
       " 'countPokes1': {'timestamp': 728892, 'value': 18},\n",
       " 'countRewards1': {'timestamp': 728893, 'value': 2},\n",
       " 'portProbs1': {'timestamp': 728893, 'value': 10},\n",
       " 'countPokes2': {'timestamp': 728894, 'value': 20},\n",
       " 'countRewards2': {'timestamp': 728894, 'value': 7},\n",
       " 'portProbs2': {'timestamp': 728895, 'value': 50},\n",
       " 'countPokes3': {'timestamp': 728915, 'value': 10},\n",
       " 'countRewards3': {'timestamp': 728916, 'value': 9},\n",
       " 'portProbs3': {'timestamp': 728916, 'value': 90}}"
      ]
     },
     "metadata": {},
     "output_type": "display_data"
    },
    {
     "data": {
      "text/plain": [
       "{'contingency': {'timestamp': 736611, 'value': 0},\n",
       " 'trialThresh': {'timestamp': 736611, 'value': 69},\n",
       " 'totalPokes': {'timestamp': 736612, 'value': 49},\n",
       " 'totalRewards': {'timestamp': 736612, 'value': 18},\n",
       " 'ifDelay': {'timestamp': 736613, 'value': 0},\n",
       " 'countPokes1': {'timestamp': 736613, 'value': 19},\n",
       " 'countRewards1': {'timestamp': 736614, 'value': 2},\n",
       " 'portProbs1': {'timestamp': 736614, 'value': 10},\n",
       " 'countPokes2': {'timestamp': 736615, 'value': 20},\n",
       " 'countRewards2': {'timestamp': 736615, 'value': 7},\n",
       " 'portProbs2': {'timestamp': 736616, 'value': 50},\n",
       " 'countPokes3': {'timestamp': 736637, 'value': 10},\n",
       " 'countRewards3': {'timestamp': 736637, 'value': 9},\n",
       " 'portProbs3': {'timestamp': 736637, 'value': 90}}"
      ]
     },
     "metadata": {},
     "output_type": "display_data"
    },
    {
     "data": {
      "text/plain": [
       "{'contingency': {'timestamp': 743859, 'value': 0},\n",
       " 'trialThresh': {'timestamp': 743859, 'value': 69},\n",
       " 'totalPokes': {'timestamp': 743860, 'value': 50},\n",
       " 'totalRewards': {'timestamp': 743860, 'value': 18},\n",
       " 'ifDelay': {'timestamp': 743861, 'value': 0},\n",
       " 'countPokes1': {'timestamp': 743861, 'value': 19},\n",
       " 'countRewards1': {'timestamp': 743862, 'value': 2},\n",
       " 'portProbs1': {'timestamp': 743862, 'value': 10},\n",
       " 'countPokes2': {'timestamp': 743863, 'value': 21},\n",
       " 'countRewards2': {'timestamp': 743863, 'value': 7},\n",
       " 'portProbs2': {'timestamp': 743864, 'value': 50},\n",
       " 'countPokes3': {'timestamp': 743885, 'value': 10},\n",
       " 'countRewards3': {'timestamp': 743885, 'value': 9},\n",
       " 'portProbs3': {'timestamp': 743886, 'value': 90}}"
      ]
     },
     "metadata": {},
     "output_type": "display_data"
    },
    {
     "data": {
      "text/plain": [
       "{'contingency': {'timestamp': 753182, 'value': 0},\n",
       " 'trialThresh': {'timestamp': 753182, 'value': 69},\n",
       " 'totalPokes': {'timestamp': 753183, 'value': 51},\n",
       " 'totalRewards': {'timestamp': 753183, 'value': 19},\n",
       " 'ifDelay': {'timestamp': 753184, 'value': 0},\n",
       " 'countPokes1': {'timestamp': 753184, 'value': 19},\n",
       " 'countRewards1': {'timestamp': 753185, 'value': 2},\n",
       " 'portProbs1': {'timestamp': 753185, 'value': 10},\n",
       " 'countPokes2': {'timestamp': 753186, 'value': 21},\n",
       " 'countRewards2': {'timestamp': 753186, 'value': 7},\n",
       " 'portProbs2': {'timestamp': 753187, 'value': 50},\n",
       " 'countPokes3': {'timestamp': 753208, 'value': 11},\n",
       " 'countRewards3': {'timestamp': 753208, 'value': 10},\n",
       " 'portProbs3': {'timestamp': 753209, 'value': 90}}"
      ]
     },
     "metadata": {},
     "output_type": "display_data"
    },
    {
     "data": {
      "text/plain": [
       "{'contingency': {'timestamp': 776237, 'value': 0},\n",
       " 'trialThresh': {'timestamp': 776237, 'value': 69},\n",
       " 'totalPokes': {'timestamp': 776238, 'value': 52},\n",
       " 'totalRewards': {'timestamp': 776238, 'value': 19},\n",
       " 'ifDelay': {'timestamp': 776239, 'value': 0},\n",
       " 'countPokes1': {'timestamp': 776239, 'value': 20},\n",
       " 'countRewards1': {'timestamp': 776240, 'value': 2},\n",
       " 'portProbs1': {'timestamp': 776240, 'value': 10},\n",
       " 'countPokes2': {'timestamp': 776241, 'value': 21},\n",
       " 'countRewards2': {'timestamp': 776241, 'value': 7},\n",
       " 'portProbs2': {'timestamp': 776242, 'value': 50},\n",
       " 'countPokes3': {'timestamp': 776262, 'value': 11},\n",
       " 'countRewards3': {'timestamp': 776263, 'value': 10},\n",
       " 'portProbs3': {'timestamp': 776263, 'value': 90}}"
      ]
     },
     "metadata": {},
     "output_type": "display_data"
    },
    {
     "data": {
      "text/plain": [
       "{'contingency': {'timestamp': 785077, 'value': 0},\n",
       " 'trialThresh': {'timestamp': 785078, 'value': 69},\n",
       " 'totalPokes': {'timestamp': 785078, 'value': 53},\n",
       " 'totalRewards': {'timestamp': 785079, 'value': 20},\n",
       " 'ifDelay': {'timestamp': 785079, 'value': 0},\n",
       " 'countPokes1': {'timestamp': 785080, 'value': 20},\n",
       " 'countRewards1': {'timestamp': 785080, 'value': 2},\n",
       " 'portProbs1': {'timestamp': 785081, 'value': 10},\n",
       " 'countPokes2': {'timestamp': 785081, 'value': 22},\n",
       " 'countRewards2': {'timestamp': 785082, 'value': 8},\n",
       " 'portProbs2': {'timestamp': 785082, 'value': 50},\n",
       " 'countPokes3': {'timestamp': 785103, 'value': 11},\n",
       " 'countRewards3': {'timestamp': 785103, 'value': 10},\n",
       " 'portProbs3': {'timestamp': 785104, 'value': 90}}"
      ]
     },
     "metadata": {},
     "output_type": "display_data"
    },
    {
     "data": {
      "text/plain": [
       "{'contingency': {'timestamp': 808485, 'value': 0},\n",
       " 'trialThresh': {'timestamp': 808485, 'value': 69},\n",
       " 'totalPokes': {'timestamp': 808486, 'value': 54},\n",
       " 'totalRewards': {'timestamp': 808486, 'value': 21},\n",
       " 'ifDelay': {'timestamp': 808487, 'value': 0},\n",
       " 'countPokes1': {'timestamp': 808487, 'value': 20},\n",
       " 'countRewards1': {'timestamp': 808488, 'value': 2},\n",
       " 'portProbs1': {'timestamp': 808488, 'value': 10},\n",
       " 'countPokes2': {'timestamp': 808489, 'value': 22},\n",
       " 'countRewards2': {'timestamp': 808489, 'value': 8},\n",
       " 'portProbs2': {'timestamp': 808490, 'value': 50},\n",
       " 'countPokes3': {'timestamp': 808511, 'value': 12},\n",
       " 'countRewards3': {'timestamp': 808511, 'value': 11},\n",
       " 'portProbs3': {'timestamp': 808512, 'value': 90}}"
      ]
     },
     "metadata": {},
     "output_type": "display_data"
    },
    {
     "data": {
      "text/plain": [
       "{'contingency': {'timestamp': 827405, 'value': 0},\n",
       " 'trialThresh': {'timestamp': 827406, 'value': 69},\n",
       " 'totalPokes': {'timestamp': 827406, 'value': 55},\n",
       " 'totalRewards': {'timestamp': 827407, 'value': 21},\n",
       " 'ifDelay': {'timestamp': 827407, 'value': 1},\n",
       " 'countPokes1': {'timestamp': 827408, 'value': 20},\n",
       " 'countRewards1': {'timestamp': 827408, 'value': 2},\n",
       " 'portProbs1': {'timestamp': 827409, 'value': 10},\n",
       " 'countPokes2': {'timestamp': 827409, 'value': 23},\n",
       " 'countRewards2': {'timestamp': 827410, 'value': 8},\n",
       " 'portProbs2': {'timestamp': 827410, 'value': 50},\n",
       " 'countPokes3': {'timestamp': 827431, 'value': 12},\n",
       " 'countRewards3': {'timestamp': 827432, 'value': 11},\n",
       " 'portProbs3': {'timestamp': 827432, 'value': 90}}"
      ]
     },
     "metadata": {},
     "output_type": "display_data"
    },
    {
     "data": {
      "text/plain": [
       "{'contingency': {'timestamp': 838834, 'value': 0},\n",
       " 'trialThresh': {'timestamp': 838834, 'value': 69},\n",
       " 'totalPokes': {'timestamp': 838835, 'value': 56},\n",
       " 'totalRewards': {'timestamp': 838835, 'value': 21},\n",
       " 'ifDelay': {'timestamp': 838836, 'value': 1},\n",
       " 'countPokes1': {'timestamp': 838836, 'value': 21},\n",
       " 'countRewards1': {'timestamp': 838836, 'value': 2},\n",
       " 'portProbs1': {'timestamp': 838837, 'value': 10},\n",
       " 'countPokes2': {'timestamp': 838837, 'value': 23},\n",
       " 'countRewards2': {'timestamp': 838838, 'value': 8},\n",
       " 'portProbs2': {'timestamp': 838838, 'value': 50},\n",
       " 'countPokes3': {'timestamp': 838859, 'value': 12},\n",
       " 'countRewards3': {'timestamp': 838860, 'value': 11},\n",
       " 'portProbs3': {'timestamp': 838860, 'value': 90}}"
      ]
     },
     "metadata": {},
     "output_type": "display_data"
    },
    {
     "data": {
      "text/plain": [
       "{'contingency': {'timestamp': 847225, 'value': 0},\n",
       " 'trialThresh': {'timestamp': 847225, 'value': 69},\n",
       " 'totalPokes': {'timestamp': 847226, 'value': 57},\n",
       " 'totalRewards': {'timestamp': 847226, 'value': 21},\n",
       " 'ifDelay': {'timestamp': 847227, 'value': 1},\n",
       " 'countPokes1': {'timestamp': 847227, 'value': 21},\n",
       " 'countRewards1': {'timestamp': 847228, 'value': 2},\n",
       " 'portProbs1': {'timestamp': 847228, 'value': 10},\n",
       " 'countPokes2': {'timestamp': 847229, 'value': 24},\n",
       " 'countRewards2': {'timestamp': 847229, 'value': 8},\n",
       " 'portProbs2': {'timestamp': 847250, 'value': 50},\n",
       " 'countPokes3': {'timestamp': 847251, 'value': 12},\n",
       " 'countRewards3': {'timestamp': 847251, 'value': 11},\n",
       " 'portProbs3': {'timestamp': 847252, 'value': 90}}"
      ]
     },
     "metadata": {},
     "output_type": "display_data"
    },
    {
     "data": {
      "text/plain": [
       "{'contingency': {'timestamp': 869884, 'value': 0},\n",
       " 'trialThresh': {'timestamp': 869885, 'value': 69},\n",
       " 'totalPokes': {'timestamp': 869885, 'value': 58},\n",
       " 'totalRewards': {'timestamp': 869886, 'value': 22},\n",
       " 'ifDelay': {'timestamp': 869886, 'value': 1},\n",
       " 'countPokes1': {'timestamp': 869887, 'value': 21},\n",
       " 'countRewards1': {'timestamp': 869887, 'value': 2},\n",
       " 'portProbs1': {'timestamp': 869888, 'value': 10},\n",
       " 'countPokes2': {'timestamp': 869888, 'value': 24},\n",
       " 'countRewards2': {'timestamp': 869889, 'value': 8},\n",
       " 'portProbs2': {'timestamp': 869889, 'value': 50},\n",
       " 'countPokes3': {'timestamp': 869910, 'value': 13},\n",
       " 'countRewards3': {'timestamp': 869910, 'value': 12},\n",
       " 'portProbs3': {'timestamp': 869911, 'value': 90}}"
      ]
     },
     "metadata": {},
     "output_type": "display_data"
    },
    {
     "data": {
      "text/plain": [
       "{'contingency': {'timestamp': 879706, 'value': 0},\n",
       " 'trialThresh': {'timestamp': 879707, 'value': 69},\n",
       " 'totalPokes': {'timestamp': 879707, 'value': 59},\n",
       " 'totalRewards': {'timestamp': 879708, 'value': 22},\n",
       " 'ifDelay': {'timestamp': 879708, 'value': 0},\n",
       " 'countPokes1': {'timestamp': 879709, 'value': 22},\n",
       " 'countRewards1': {'timestamp': 879709, 'value': 2},\n",
       " 'portProbs1': {'timestamp': 879710, 'value': 10},\n",
       " 'countPokes2': {'timestamp': 879710, 'value': 24},\n",
       " 'countRewards2': {'timestamp': 879711, 'value': 8},\n",
       " 'portProbs2': {'timestamp': 879711, 'value': 50},\n",
       " 'countPokes3': {'timestamp': 879732, 'value': 13},\n",
       " 'countRewards3': {'timestamp': 879733, 'value': 12},\n",
       " 'portProbs3': {'timestamp': 879733, 'value': 90}}"
      ]
     },
     "metadata": {},
     "output_type": "display_data"
    },
    {
     "data": {
      "text/plain": [
       "{'contingency': {'timestamp': 886296, 'value': 0},\n",
       " 'trialThresh': {'timestamp': 886297, 'value': 69},\n",
       " 'totalPokes': {'timestamp': 886297, 'value': 60},\n",
       " 'totalRewards': {'timestamp': 886298, 'value': 22},\n",
       " 'ifDelay': {'timestamp': 886298, 'value': 0},\n",
       " 'countPokes1': {'timestamp': 886299, 'value': 22},\n",
       " 'countRewards1': {'timestamp': 886299, 'value': 2},\n",
       " 'portProbs1': {'timestamp': 886300, 'value': 10},\n",
       " 'countPokes2': {'timestamp': 886300, 'value': 25},\n",
       " 'countRewards2': {'timestamp': 886301, 'value': 8},\n",
       " 'portProbs2': {'timestamp': 886301, 'value': 50},\n",
       " 'countPokes3': {'timestamp': 886322, 'value': 13},\n",
       " 'countRewards3': {'timestamp': 886323, 'value': 12},\n",
       " 'portProbs3': {'timestamp': 886323, 'value': 90}}"
      ]
     },
     "metadata": {},
     "output_type": "display_data"
    },
    {
     "data": {
      "text/plain": [
       "{'contingency': {'timestamp': 900345, 'value': 0},\n",
       " 'trialThresh': {'timestamp': 900346, 'value': 69},\n",
       " 'totalPokes': {'timestamp': 900346, 'value': 61},\n",
       " 'totalRewards': {'timestamp': 900347, 'value': 23},\n",
       " 'ifDelay': {'timestamp': 900347, 'value': 0},\n",
       " 'countPokes1': {'timestamp': 900348, 'value': 22},\n",
       " 'countRewards1': {'timestamp': 900348, 'value': 2},\n",
       " 'portProbs1': {'timestamp': 900349, 'value': 10},\n",
       " 'countPokes2': {'timestamp': 900349, 'value': 25},\n",
       " 'countRewards2': {'timestamp': 900350, 'value': 8},\n",
       " 'portProbs2': {'timestamp': 900350, 'value': 50},\n",
       " 'countPokes3': {'timestamp': 900371, 'value': 14},\n",
       " 'countRewards3': {'timestamp': 900372, 'value': 13},\n",
       " 'portProbs3': {'timestamp': 900372, 'value': 90}}"
      ]
     },
     "metadata": {},
     "output_type": "display_data"
    },
    {
     "data": {
      "text/plain": [
       "{'contingency': {'timestamp': 920160, 'value': 0},\n",
       " 'trialThresh': {'timestamp': 920161, 'value': 69},\n",
       " 'totalPokes': {'timestamp': 920161, 'value': 62},\n",
       " 'totalRewards': {'timestamp': 920162, 'value': 23},\n",
       " 'ifDelay': {'timestamp': 920162, 'value': 0},\n",
       " 'countPokes1': {'timestamp': 920162, 'value': 22},\n",
       " 'countRewards1': {'timestamp': 920163, 'value': 2},\n",
       " 'portProbs1': {'timestamp': 920163, 'value': 10},\n",
       " 'countPokes2': {'timestamp': 920164, 'value': 26},\n",
       " 'countRewards2': {'timestamp': 920164, 'value': 8},\n",
       " 'portProbs2': {'timestamp': 920165, 'value': 50},\n",
       " 'countPokes3': {'timestamp': 920186, 'value': 14},\n",
       " 'countRewards3': {'timestamp': 920186, 'value': 13},\n",
       " 'portProbs3': {'timestamp': 920187, 'value': 90}}"
      ]
     },
     "metadata": {},
     "output_type": "display_data"
    },
    {
     "data": {
      "text/plain": [
       "{'contingency': {'timestamp': 928221, 'value': 0},\n",
       " 'trialThresh': {'timestamp': 928221, 'value': 69},\n",
       " 'totalPokes': {'timestamp': 928222, 'value': 63},\n",
       " 'totalRewards': {'timestamp': 928222, 'value': 23},\n",
       " 'ifDelay': {'timestamp': 928223, 'value': 0},\n",
       " 'countPokes1': {'timestamp': 928223, 'value': 23},\n",
       " 'countRewards1': {'timestamp': 928224, 'value': 2},\n",
       " 'portProbs1': {'timestamp': 928224, 'value': 10},\n",
       " 'countPokes2': {'timestamp': 928225, 'value': 26},\n",
       " 'countRewards2': {'timestamp': 928225, 'value': 8},\n",
       " 'portProbs2': {'timestamp': 928226, 'value': 50},\n",
       " 'countPokes3': {'timestamp': 928247, 'value': 14},\n",
       " 'countRewards3': {'timestamp': 928247, 'value': 13},\n",
       " 'portProbs3': {'timestamp': 928248, 'value': 90}}"
      ]
     },
     "metadata": {},
     "output_type": "display_data"
    },
    {
     "data": {
      "text/plain": [
       "{'contingency': {'timestamp': 936346, 'value': 0},\n",
       " 'trialThresh': {'timestamp': 936346, 'value': 69},\n",
       " 'totalPokes': {'timestamp': 936347, 'value': 64},\n",
       " 'totalRewards': {'timestamp': 936347, 'value': 24},\n",
       " 'ifDelay': {'timestamp': 936348, 'value': 0},\n",
       " 'countPokes1': {'timestamp': 936348, 'value': 23},\n",
       " 'countRewards1': {'timestamp': 936348, 'value': 2},\n",
       " 'portProbs1': {'timestamp': 936349, 'value': 10},\n",
       " 'countPokes2': {'timestamp': 936349, 'value': 27},\n",
       " 'countRewards2': {'timestamp': 936371, 'value': 9},\n",
       " 'portProbs2': {'timestamp': 936371, 'value': 50},\n",
       " 'countPokes3': {'timestamp': 936372, 'value': 14},\n",
       " 'countRewards3': {'timestamp': 936372, 'value': 13},\n",
       " 'portProbs3': {'timestamp': 936373, 'value': 90}}"
      ]
     },
     "metadata": {},
     "output_type": "display_data"
    },
    {
     "data": {
      "text/plain": [
       "{'contingency': {'timestamp': 960152, 'value': 0},\n",
       " 'trialThresh': {'timestamp': 960152, 'value': 69},\n",
       " 'totalPokes': {'timestamp': 960153, 'value': 65},\n",
       " 'totalRewards': {'timestamp': 960153, 'value': 25},\n",
       " 'ifDelay': {'timestamp': 960154, 'value': 1},\n",
       " 'countPokes1': {'timestamp': 960154, 'value': 23},\n",
       " 'countRewards1': {'timestamp': 960155, 'value': 2},\n",
       " 'portProbs1': {'timestamp': 960155, 'value': 10},\n",
       " 'countPokes2': {'timestamp': 960156, 'value': 27},\n",
       " 'countRewards2': {'timestamp': 960156, 'value': 9},\n",
       " 'portProbs2': {'timestamp': 960157, 'value': 50},\n",
       " 'countPokes3': {'timestamp': 960178, 'value': 15},\n",
       " 'countRewards3': {'timestamp': 960178, 'value': 14},\n",
       " 'portProbs3': {'timestamp': 960179, 'value': 90}}"
      ]
     },
     "metadata": {},
     "output_type": "display_data"
    },
    {
     "data": {
      "text/plain": [
       "{'contingency': {'timestamp': 994824, 'value': 0},\n",
       " 'trialThresh': {'timestamp': 994824, 'value': 69},\n",
       " 'totalPokes': {'timestamp': 994825, 'value': 66},\n",
       " 'totalRewards': {'timestamp': 994825, 'value': 26},\n",
       " 'ifDelay': {'timestamp': 994826, 'value': 0},\n",
       " 'countPokes1': {'timestamp': 994826, 'value': 23},\n",
       " 'countRewards1': {'timestamp': 994827, 'value': 2},\n",
       " 'portProbs1': {'timestamp': 994827, 'value': 10},\n",
       " 'countPokes2': {'timestamp': 994828, 'value': 28},\n",
       " 'countRewards2': {'timestamp': 994828, 'value': 10},\n",
       " 'portProbs2': {'timestamp': 994849, 'value': 50},\n",
       " 'countPokes3': {'timestamp': 994850, 'value': 15},\n",
       " 'countRewards3': {'timestamp': 994850, 'value': 14},\n",
       " 'portProbs3': {'timestamp': 994851, 'value': 90}}"
      ]
     },
     "metadata": {},
     "output_type": "display_data"
    },
    {
     "data": {
      "text/plain": [
       "{'contingency': {'timestamp': 1030572, 'value': 0},\n",
       " 'trialThresh': {'timestamp': 1030572, 'value': 69},\n",
       " 'totalPokes': {'timestamp': 1030573, 'value': 67},\n",
       " 'totalRewards': {'timestamp': 1030573, 'value': 27},\n",
       " 'ifDelay': {'timestamp': 1030574, 'value': 0},\n",
       " 'countPokes1': {'timestamp': 1030574, 'value': 23},\n",
       " 'countRewards1': {'timestamp': 1030575, 'value': 2},\n",
       " 'portProbs1': {'timestamp': 1030575, 'value': 10},\n",
       " 'countPokes2': {'timestamp': 1030576, 'value': 28},\n",
       " 'countRewards2': {'timestamp': 1030576, 'value': 10},\n",
       " 'portProbs2': {'timestamp': 1030577, 'value': 50},\n",
       " 'countPokes3': {'timestamp': 1030598, 'value': 16},\n",
       " 'countRewards3': {'timestamp': 1030598, 'value': 15},\n",
       " 'portProbs3': {'timestamp': 1030599, 'value': 90}}"
      ]
     },
     "metadata": {},
     "output_type": "display_data"
    },
    {
     "data": {
      "text/plain": [
       "{'contingency': {'timestamp': 1043313, 'value': 0},\n",
       " 'trialThresh': {'timestamp': 1043314, 'value': 69},\n",
       " 'totalPokes': {'timestamp': 1043314, 'value': 68},\n",
       " 'totalRewards': {'timestamp': 1043315, 'value': 27},\n",
       " 'ifDelay': {'timestamp': 1043315, 'value': 0},\n",
       " 'countPokes1': {'timestamp': 1043316, 'value': 24},\n",
       " 'countRewards1': {'timestamp': 1043316, 'value': 2},\n",
       " 'portProbs1': {'timestamp': 1043317, 'value': 10},\n",
       " 'countPokes2': {'timestamp': 1043317, 'value': 28},\n",
       " 'countRewards2': {'timestamp': 1043318, 'value': 10},\n",
       " 'portProbs2': {'timestamp': 1043318, 'value': 50},\n",
       " 'countPokes3': {'timestamp': 1043339, 'value': 16},\n",
       " 'countRewards3': {'timestamp': 1043340, 'value': 15},\n",
       " 'portProbs3': {'timestamp': 1043340, 'value': 90}}"
      ]
     },
     "metadata": {},
     "output_type": "display_data"
    },
    {
     "data": {
      "text/plain": [
       "{'contingency': {'timestamp': 1059601, 'value': 0},\n",
       " 'trialThresh': {'timestamp': 1059601, 'value': 69},\n",
       " 'totalPokes': {'timestamp': 1059602, 'value': 69},\n",
       " 'totalRewards': {'timestamp': 1059602, 'value': 28},\n",
       " 'ifDelay': {'timestamp': 1059603, 'value': 0},\n",
       " 'countPokes1': {'timestamp': 1059603, 'value': 24},\n",
       " 'countRewards1': {'timestamp': 1059604, 'value': 2},\n",
       " 'portProbs1': {'timestamp': 1059604, 'value': 10},\n",
       " 'countPokes2': {'timestamp': 1059605, 'value': 29},\n",
       " 'countRewards2': {'timestamp': 1059605, 'value': 11},\n",
       " 'portProbs2': {'timestamp': 1059606, 'value': 50},\n",
       " 'countPokes3': {'timestamp': 1059627, 'value': 16},\n",
       " 'countRewards3': {'timestamp': 1059627, 'value': 15},\n",
       " 'portProbs3': {'timestamp': 1059628, 'value': 90}}"
      ]
     },
     "metadata": {},
     "output_type": "display_data"
    },
    {
     "data": {
      "text/plain": [
       "{'contingency': {'timestamp': 1073717, 'value': 1},\n",
       " 'trialThresh': {'timestamp': 1073717, 'value': 69},\n",
       " 'totalPokes': {'timestamp': 1073718, 'value': 1},\n",
       " 'totalRewards': {'timestamp': 1073718, 'value': 0},\n",
       " 'ifDelay': {'timestamp': 1073719, 'value': 1},\n",
       " 'countPokes1': {'timestamp': 1073719, 'value': 0},\n",
       " 'countRewards1': {'timestamp': 1073719, 'value': 0},\n",
       " 'portProbs1': {'timestamp': 1073720, 'value': 90},\n",
       " 'countPokes2': {'timestamp': 1073720, 'value': 0},\n",
       " 'countRewards2': {'timestamp': 1073721, 'value': 0},\n",
       " 'portProbs2': {'timestamp': 1073721, 'value': 10},\n",
       " 'countPokes3': {'timestamp': 1073742, 'value': 1},\n",
       " 'countRewards3': {'timestamp': 1073743, 'value': 0},\n",
       " 'portProbs3': {'timestamp': 1073743, 'value': 50}}"
      ]
     },
     "metadata": {},
     "output_type": "display_data"
    },
    {
     "data": {
      "text/plain": [
       "{'contingency': {'timestamp': 1081947, 'value': 1},\n",
       " 'trialThresh': {'timestamp': 1081948, 'value': 69},\n",
       " 'totalPokes': {'timestamp': 1081948, 'value': 2},\n",
       " 'totalRewards': {'timestamp': 1081949, 'value': 1},\n",
       " 'ifDelay': {'timestamp': 1081949, 'value': 1},\n",
       " 'countPokes1': {'timestamp': 1081950, 'value': 1},\n",
       " 'countRewards1': {'timestamp': 1081950, 'value': 1},\n",
       " 'portProbs1': {'timestamp': 1081951, 'value': 90},\n",
       " 'countPokes2': {'timestamp': 1081951, 'value': 0},\n",
       " 'countRewards2': {'timestamp': 1081952, 'value': 0},\n",
       " 'portProbs2': {'timestamp': 1081952, 'value': 10},\n",
       " 'countPokes3': {'timestamp': 1081973, 'value': 1},\n",
       " 'countRewards3': {'timestamp': 1081973, 'value': 0},\n",
       " 'portProbs3': {'timestamp': 1081974, 'value': 50}}"
      ]
     },
     "metadata": {},
     "output_type": "display_data"
    },
    {
     "data": {
      "text/plain": [
       "{'contingency': {'timestamp': 1102521, 'value': 1},\n",
       " 'trialThresh': {'timestamp': 1102521, 'value': 69},\n",
       " 'totalPokes': {'timestamp': 1102522, 'value': 3},\n",
       " 'totalRewards': {'timestamp': 1102522, 'value': 1},\n",
       " 'ifDelay': {'timestamp': 1102523, 'value': 0},\n",
       " 'countPokes1': {'timestamp': 1102523, 'value': 1},\n",
       " 'countRewards1': {'timestamp': 1102524, 'value': 1},\n",
       " 'portProbs1': {'timestamp': 1102524, 'value': 90},\n",
       " 'countPokes2': {'timestamp': 1102525, 'value': 1},\n",
       " 'countRewards2': {'timestamp': 1102525, 'value': 0},\n",
       " 'portProbs2': {'timestamp': 1102546, 'value': 10},\n",
       " 'countPokes3': {'timestamp': 1102546, 'value': 1},\n",
       " 'countRewards3': {'timestamp': 1102547, 'value': 0},\n",
       " 'portProbs3': {'timestamp': 1102547, 'value': 50}}"
      ]
     },
     "metadata": {},
     "output_type": "display_data"
    },
    {
     "data": {
      "text/plain": [
       "{'contingency': {'timestamp': 1111203, 'value': 1},\n",
       " 'trialThresh': {'timestamp': 1111203, 'value': 69},\n",
       " 'totalPokes': {'timestamp': 1111204, 'value': 4},\n",
       " 'totalRewards': {'timestamp': 1111204, 'value': 1},\n",
       " 'ifDelay': {'timestamp': 1111205, 'value': 0},\n",
       " 'countPokes1': {'timestamp': 1111205, 'value': 2},\n",
       " 'countRewards1': {'timestamp': 1111206, 'value': 1},\n",
       " 'portProbs1': {'timestamp': 1111206, 'value': 90},\n",
       " 'countPokes2': {'timestamp': 1111207, 'value': 1},\n",
       " 'countRewards2': {'timestamp': 1111207, 'value': 0},\n",
       " 'portProbs2': {'timestamp': 1111207, 'value': 10},\n",
       " 'countPokes3': {'timestamp': 1111228, 'value': 1},\n",
       " 'countRewards3': {'timestamp': 1111229, 'value': 0},\n",
       " 'portProbs3': {'timestamp': 1111229, 'value': 50}}"
      ]
     },
     "metadata": {},
     "output_type": "display_data"
    },
    {
     "data": {
      "text/plain": [
       "{'contingency': {'timestamp': 1119023, 'value': 1},\n",
       " 'trialThresh': {'timestamp': 1119023, 'value': 69},\n",
       " 'totalPokes': {'timestamp': 1119024, 'value': 5},\n",
       " 'totalRewards': {'timestamp': 1119024, 'value': 1},\n",
       " 'ifDelay': {'timestamp': 1119025, 'value': 0},\n",
       " 'countPokes1': {'timestamp': 1119025, 'value': 2},\n",
       " 'countRewards1': {'timestamp': 1119025, 'value': 1},\n",
       " 'portProbs1': {'timestamp': 1119026, 'value': 90},\n",
       " 'countPokes2': {'timestamp': 1119026, 'value': 2},\n",
       " 'countRewards2': {'timestamp': 1119027, 'value': 0},\n",
       " 'portProbs2': {'timestamp': 1119027, 'value': 10},\n",
       " 'countPokes3': {'timestamp': 1119048, 'value': 1},\n",
       " 'countRewards3': {'timestamp': 1119049, 'value': 0},\n",
       " 'portProbs3': {'timestamp': 1119049, 'value': 50}}"
      ]
     },
     "metadata": {},
     "output_type": "display_data"
    },
    {
     "data": {
      "text/plain": [
       "{'contingency': {'timestamp': 1128843, 'value': 1},\n",
       " 'trialThresh': {'timestamp': 1128843, 'value': 69},\n",
       " 'totalPokes': {'timestamp': 1128844, 'value': 6},\n",
       " 'totalRewards': {'timestamp': 1128844, 'value': 1},\n",
       " 'ifDelay': {'timestamp': 1128845, 'value': 0},\n",
       " 'countPokes1': {'timestamp': 1128845, 'value': 2},\n",
       " 'countRewards1': {'timestamp': 1128845, 'value': 1},\n",
       " 'portProbs1': {'timestamp': 1128846, 'value': 90},\n",
       " 'countPokes2': {'timestamp': 1128846, 'value': 2},\n",
       " 'countRewards2': {'timestamp': 1128847, 'value': 0},\n",
       " 'portProbs2': {'timestamp': 1128847, 'value': 10},\n",
       " 'countPokes3': {'timestamp': 1128868, 'value': 2},\n",
       " 'countRewards3': {'timestamp': 1128869, 'value': 0},\n",
       " 'portProbs3': {'timestamp': 1128869, 'value': 50}}"
      ]
     },
     "metadata": {},
     "output_type": "display_data"
    },
    {
     "data": {
      "text/plain": [
       "{'contingency': {'timestamp': 1137266, 'value': 1},\n",
       " 'trialThresh': {'timestamp': 1137266, 'value': 69},\n",
       " 'totalPokes': {'timestamp': 1137267, 'value': 7},\n",
       " 'totalRewards': {'timestamp': 1137267, 'value': 2},\n",
       " 'ifDelay': {'timestamp': 1137268, 'value': 0},\n",
       " 'countPokes1': {'timestamp': 1137268, 'value': 3},\n",
       " 'countRewards1': {'timestamp': 1137269, 'value': 2},\n",
       " 'portProbs1': {'timestamp': 1137269, 'value': 90},\n",
       " 'countPokes2': {'timestamp': 1137270, 'value': 2},\n",
       " 'countRewards2': {'timestamp': 1137270, 'value': 0},\n",
       " 'portProbs2': {'timestamp': 1137271, 'value': 10},\n",
       " 'countPokes3': {'timestamp': 1137291, 'value': 2},\n",
       " 'countRewards3': {'timestamp': 1137292, 'value': 0},\n",
       " 'portProbs3': {'timestamp': 1137292, 'value': 50}}"
      ]
     },
     "metadata": {},
     "output_type": "display_data"
    },
    {
     "data": {
      "text/plain": [
       "{'contingency': {'timestamp': 1158767, 'value': 1},\n",
       " 'trialThresh': {'timestamp': 1158767, 'value': 69},\n",
       " 'totalPokes': {'timestamp': 1158768, 'value': 8},\n",
       " 'totalRewards': {'timestamp': 1158768, 'value': 2},\n",
       " 'ifDelay': {'timestamp': 1158769, 'value': 0},\n",
       " 'countPokes1': {'timestamp': 1158769, 'value': 3},\n",
       " 'countRewards1': {'timestamp': 1158770, 'value': 2},\n",
       " 'portProbs1': {'timestamp': 1158770, 'value': 90},\n",
       " 'countPokes2': {'timestamp': 1158771, 'value': 3},\n",
       " 'countRewards2': {'timestamp': 1158771, 'value': 0},\n",
       " 'portProbs2': {'timestamp': 1158772, 'value': 10},\n",
       " 'countPokes3': {'timestamp': 1158792, 'value': 2},\n",
       " 'countRewards3': {'timestamp': 1158793, 'value': 0},\n",
       " 'portProbs3': {'timestamp': 1158793, 'value': 50}}"
      ]
     },
     "metadata": {},
     "output_type": "display_data"
    },
    {
     "data": {
      "text/plain": [
       "{'contingency': {'timestamp': 1165477, 'value': 1},\n",
       " 'trialThresh': {'timestamp': 1165477, 'value': 69},\n",
       " 'totalPokes': {'timestamp': 1165478, 'value': 9},\n",
       " 'totalRewards': {'timestamp': 1165478, 'value': 3},\n",
       " 'ifDelay': {'timestamp': 1165479, 'value': 0},\n",
       " 'countPokes1': {'timestamp': 1165479, 'value': 4},\n",
       " 'countRewards1': {'timestamp': 1165479, 'value': 3},\n",
       " 'portProbs1': {'timestamp': 1165480, 'value': 90},\n",
       " 'countPokes2': {'timestamp': 1165480, 'value': 3},\n",
       " 'countRewards2': {'timestamp': 1165481, 'value': 0},\n",
       " 'portProbs2': {'timestamp': 1165481, 'value': 10},\n",
       " 'countPokes3': {'timestamp': 1165502, 'value': 2},\n",
       " 'countRewards3': {'timestamp': 1165503, 'value': 0},\n",
       " 'portProbs3': {'timestamp': 1165503, 'value': 50}}"
      ]
     },
     "metadata": {},
     "output_type": "display_data"
    },
    {
     "data": {
      "text/plain": [
       "{'contingency': {'timestamp': 1188289, 'value': 1},\n",
       " 'trialThresh': {'timestamp': 1188289, 'value': 69},\n",
       " 'totalPokes': {'timestamp': 1188290, 'value': 10},\n",
       " 'totalRewards': {'timestamp': 1188290, 'value': 3},\n",
       " 'ifDelay': {'timestamp': 1188291, 'value': 0},\n",
       " 'countPokes1': {'timestamp': 1188291, 'value': 4},\n",
       " 'countRewards1': {'timestamp': 1188292, 'value': 3},\n",
       " 'portProbs1': {'timestamp': 1188292, 'value': 90},\n",
       " 'countPokes2': {'timestamp': 1188292, 'value': 4},\n",
       " 'countRewards2': {'timestamp': 1188293, 'value': 0},\n",
       " 'portProbs2': {'timestamp': 1188293, 'value': 10},\n",
       " 'countPokes3': {'timestamp': 1188314, 'value': 2},\n",
       " 'countRewards3': {'timestamp': 1188315, 'value': 0},\n",
       " 'portProbs3': {'timestamp': 1188315, 'value': 50}}"
      ]
     },
     "metadata": {},
     "output_type": "display_data"
    },
    {
     "data": {
      "text/plain": [
       "{'contingency': {'timestamp': 1194701, 'value': 1},\n",
       " 'trialThresh': {'timestamp': 1194702, 'value': 69},\n",
       " 'totalPokes': {'timestamp': 1194702, 'value': 11},\n",
       " 'totalRewards': {'timestamp': 1194703, 'value': 4},\n",
       " 'ifDelay': {'timestamp': 1194703, 'value': 0},\n",
       " 'countPokes1': {'timestamp': 1194704, 'value': 5},\n",
       " 'countRewards1': {'timestamp': 1194704, 'value': 4},\n",
       " 'portProbs1': {'timestamp': 1194705, 'value': 90},\n",
       " 'countPokes2': {'timestamp': 1194705, 'value': 4},\n",
       " 'countRewards2': {'timestamp': 1194706, 'value': 0},\n",
       " 'portProbs2': {'timestamp': 1194706, 'value': 10},\n",
       " 'countPokes3': {'timestamp': 1194727, 'value': 2},\n",
       " 'countRewards3': {'timestamp': 1194727, 'value': 0},\n",
       " 'portProbs3': {'timestamp': 1194728, 'value': 50}}"
      ]
     },
     "metadata": {},
     "output_type": "display_data"
    },
    {
     "data": {
      "text/plain": [
       "{'contingency': {'timestamp': 1214651, 'value': 1},\n",
       " 'trialThresh': {'timestamp': 1214652, 'value': 69},\n",
       " 'totalPokes': {'timestamp': 1214652, 'value': 12},\n",
       " 'totalRewards': {'timestamp': 1214653, 'value': 4},\n",
       " 'ifDelay': {'timestamp': 1214653, 'value': 1},\n",
       " 'countPokes1': {'timestamp': 1214654, 'value': 5},\n",
       " 'countRewards1': {'timestamp': 1214654, 'value': 4},\n",
       " 'portProbs1': {'timestamp': 1214655, 'value': 90},\n",
       " 'countPokes2': {'timestamp': 1214655, 'value': 5},\n",
       " 'countRewards2': {'timestamp': 1214656, 'value': 0},\n",
       " 'portProbs2': {'timestamp': 1214656, 'value': 10},\n",
       " 'countPokes3': {'timestamp': 1214677, 'value': 2},\n",
       " 'countRewards3': {'timestamp': 1214677, 'value': 0},\n",
       " 'portProbs3': {'timestamp': 1214678, 'value': 50}}"
      ]
     },
     "metadata": {},
     "output_type": "display_data"
    },
    {
     "data": {
      "text/plain": [
       "{'contingency': {'timestamp': 1221302, 'value': 1},\n",
       " 'trialThresh': {'timestamp': 1221303, 'value': 69},\n",
       " 'totalPokes': {'timestamp': 1221303, 'value': 13},\n",
       " 'totalRewards': {'timestamp': 1221304, 'value': 5},\n",
       " 'ifDelay': {'timestamp': 1221304, 'value': 1},\n",
       " 'countPokes1': {'timestamp': 1221304, 'value': 6},\n",
       " 'countRewards1': {'timestamp': 1221305, 'value': 5},\n",
       " 'portProbs1': {'timestamp': 1221305, 'value': 90},\n",
       " 'countPokes2': {'timestamp': 1221306, 'value': 5},\n",
       " 'countRewards2': {'timestamp': 1221306, 'value': 0},\n",
       " 'portProbs2': {'timestamp': 1221307, 'value': 10},\n",
       " 'countPokes3': {'timestamp': 1221328, 'value': 2},\n",
       " 'countRewards3': {'timestamp': 1221328, 'value': 0},\n",
       " 'portProbs3': {'timestamp': 1221329, 'value': 50}}"
      ]
     },
     "metadata": {},
     "output_type": "display_data"
    },
    {
     "data": {
      "text/plain": [
       "{'contingency': {'timestamp': 1243203, 'value': 1},\n",
       " 'trialThresh': {'timestamp': 1243204, 'value': 69},\n",
       " 'totalPokes': {'timestamp': 1243204, 'value': 14},\n",
       " 'totalRewards': {'timestamp': 1243205, 'value': 5},\n",
       " 'ifDelay': {'timestamp': 1243205, 'value': 1},\n",
       " 'countPokes1': {'timestamp': 1243206, 'value': 6},\n",
       " 'countRewards1': {'timestamp': 1243206, 'value': 5},\n",
       " 'portProbs1': {'timestamp': 1243207, 'value': 90},\n",
       " 'countPokes2': {'timestamp': 1243207, 'value': 6},\n",
       " 'countRewards2': {'timestamp': 1243208, 'value': 0},\n",
       " 'portProbs2': {'timestamp': 1243208, 'value': 10},\n",
       " 'countPokes3': {'timestamp': 1243229, 'value': 2},\n",
       " 'countRewards3': {'timestamp': 1243230, 'value': 0},\n",
       " 'portProbs3': {'timestamp': 1243230, 'value': 50}}"
      ]
     },
     "metadata": {},
     "output_type": "display_data"
    },
    {
     "data": {
      "text/plain": [
       "{'contingency': {'timestamp': 1249824, 'value': 1},\n",
       " 'trialThresh': {'timestamp': 1249825, 'value': 69},\n",
       " 'totalPokes': {'timestamp': 1249825, 'value': 15},\n",
       " 'totalRewards': {'timestamp': 1249826, 'value': 6},\n",
       " 'ifDelay': {'timestamp': 1249826, 'value': 1},\n",
       " 'countPokes1': {'timestamp': 1249827, 'value': 7},\n",
       " 'countRewards1': {'timestamp': 1249827, 'value': 6},\n",
       " 'portProbs1': {'timestamp': 1249828, 'value': 90},\n",
       " 'countPokes2': {'timestamp': 1249828, 'value': 6},\n",
       " 'countRewards2': {'timestamp': 1249829, 'value': 0},\n",
       " 'portProbs2': {'timestamp': 1249829, 'value': 10},\n",
       " 'countPokes3': {'timestamp': 1249850, 'value': 2},\n",
       " 'countRewards3': {'timestamp': 1249850, 'value': 0},\n",
       " 'portProbs3': {'timestamp': 1249851, 'value': 50}}"
      ]
     },
     "metadata": {},
     "output_type": "display_data"
    },
    {
     "data": {
      "text/plain": [
       "{'contingency': {'timestamp': 1273166, 'value': 1},\n",
       " 'trialThresh': {'timestamp': 1273167, 'value': 69},\n",
       " 'totalPokes': {'timestamp': 1273167, 'value': 16},\n",
       " 'totalRewards': {'timestamp': 1273168, 'value': 6},\n",
       " 'ifDelay': {'timestamp': 1273168, 'value': 0},\n",
       " 'countPokes1': {'timestamp': 1273169, 'value': 7},\n",
       " 'countRewards1': {'timestamp': 1273169, 'value': 6},\n",
       " 'portProbs1': {'timestamp': 1273170, 'value': 90},\n",
       " 'countPokes2': {'timestamp': 1273170, 'value': 7},\n",
       " 'countRewards2': {'timestamp': 1273171, 'value': 0},\n",
       " 'portProbs2': {'timestamp': 1273171, 'value': 10},\n",
       " 'countPokes3': {'timestamp': 1273192, 'value': 2},\n",
       " 'countRewards3': {'timestamp': 1273192, 'value': 0},\n",
       " 'portProbs3': {'timestamp': 1273193, 'value': 50}}"
      ]
     },
     "metadata": {},
     "output_type": "display_data"
    },
    {
     "data": {
      "text/plain": [
       "{'contingency': {'timestamp': 1279815, 'value': 1},\n",
       " 'trialThresh': {'timestamp': 1279815, 'value': 69},\n",
       " 'totalPokes': {'timestamp': 1279816, 'value': 17},\n",
       " 'totalRewards': {'timestamp': 1279816, 'value': 7},\n",
       " 'ifDelay': {'timestamp': 1279816, 'value': 0},\n",
       " 'countPokes1': {'timestamp': 1279817, 'value': 8},\n",
       " 'countRewards1': {'timestamp': 1279817, 'value': 7},\n",
       " 'portProbs1': {'timestamp': 1279818, 'value': 90},\n",
       " 'countPokes2': {'timestamp': 1279818, 'value': 7},\n",
       " 'countRewards2': {'timestamp': 1279819, 'value': 0},\n",
       " 'portProbs2': {'timestamp': 1279819, 'value': 10},\n",
       " 'countPokes3': {'timestamp': 1279840, 'value': 2},\n",
       " 'countRewards3': {'timestamp': 1279841, 'value': 0},\n",
       " 'portProbs3': {'timestamp': 1279841, 'value': 50}}"
      ]
     },
     "metadata": {},
     "output_type": "display_data"
    },
    {
     "data": {
      "text/plain": [
       "{'contingency': {'timestamp': 1302534, 'value': 1},\n",
       " 'trialThresh': {'timestamp': 1302534, 'value': 69},\n",
       " 'totalPokes': {'timestamp': 1302535, 'value': 18},\n",
       " 'totalRewards': {'timestamp': 1302535, 'value': 7},\n",
       " 'ifDelay': {'timestamp': 1302536, 'value': 1},\n",
       " 'countPokes1': {'timestamp': 1302536, 'value': 8},\n",
       " 'countRewards1': {'timestamp': 1302537, 'value': 7},\n",
       " 'portProbs1': {'timestamp': 1302537, 'value': 90},\n",
       " 'countPokes2': {'timestamp': 1302538, 'value': 8},\n",
       " 'countRewards2': {'timestamp': 1302538, 'value': 0},\n",
       " 'portProbs2': {'timestamp': 1302539, 'value': 10},\n",
       " 'countPokes3': {'timestamp': 1302560, 'value': 2},\n",
       " 'countRewards3': {'timestamp': 1302560, 'value': 0},\n",
       " 'portProbs3': {'timestamp': 1302561, 'value': 50}}"
      ]
     },
     "metadata": {},
     "output_type": "display_data"
    },
    {
     "data": {
      "text/plain": [
       "{'contingency': {'timestamp': 1309458, 'value': 1},\n",
       " 'trialThresh': {'timestamp': 1309459, 'value': 69},\n",
       " 'totalPokes': {'timestamp': 1309459, 'value': 19},\n",
       " 'totalRewards': {'timestamp': 1309460, 'value': 8},\n",
       " 'ifDelay': {'timestamp': 1309460, 'value': 1},\n",
       " 'countPokes1': {'timestamp': 1309461, 'value': 9},\n",
       " 'countRewards1': {'timestamp': 1309461, 'value': 8},\n",
       " 'portProbs1': {'timestamp': 1309462, 'value': 90},\n",
       " 'countPokes2': {'timestamp': 1309462, 'value': 8},\n",
       " 'countRewards2': {'timestamp': 1309463, 'value': 0},\n",
       " 'portProbs2': {'timestamp': 1309463, 'value': 10},\n",
       " 'countPokes3': {'timestamp': 1309484, 'value': 2},\n",
       " 'countRewards3': {'timestamp': 1309484, 'value': 0},\n",
       " 'portProbs3': {'timestamp': 1309485, 'value': 50}}"
      ]
     },
     "metadata": {},
     "output_type": "display_data"
    },
    {
     "data": {
      "text/plain": [
       "{'contingency': {'timestamp': 1338509, 'value': 1},\n",
       " 'trialThresh': {'timestamp': 1338510, 'value': 69},\n",
       " 'totalPokes': {'timestamp': 1338510, 'value': 20},\n",
       " 'totalRewards': {'timestamp': 1338511, 'value': 8},\n",
       " 'ifDelay': {'timestamp': 1338511, 'value': 1},\n",
       " 'countPokes1': {'timestamp': 1338512, 'value': 9},\n",
       " 'countRewards1': {'timestamp': 1338512, 'value': 8},\n",
       " 'portProbs1': {'timestamp': 1338512, 'value': 90},\n",
       " 'countPokes2': {'timestamp': 1338513, 'value': 9},\n",
       " 'countRewards2': {'timestamp': 1338513, 'value': 0},\n",
       " 'portProbs2': {'timestamp': 1338514, 'value': 10},\n",
       " 'countPokes3': {'timestamp': 1338535, 'value': 2},\n",
       " 'countRewards3': {'timestamp': 1338535, 'value': 0},\n",
       " 'portProbs3': {'timestamp': 1338536, 'value': 50}}"
      ]
     },
     "metadata": {},
     "output_type": "display_data"
    },
    {
     "data": {
      "text/plain": [
       "{'contingency': {'timestamp': 1345329, 'value': 1},\n",
       " 'trialThresh': {'timestamp': 1345329, 'value': 69},\n",
       " 'totalPokes': {'timestamp': 1345330, 'value': 21},\n",
       " 'totalRewards': {'timestamp': 1345330, 'value': 9},\n",
       " 'ifDelay': {'timestamp': 1345331, 'value': 1},\n",
       " 'countPokes1': {'timestamp': 1345331, 'value': 10},\n",
       " 'countRewards1': {'timestamp': 1345332, 'value': 9},\n",
       " 'portProbs1': {'timestamp': 1345332, 'value': 90},\n",
       " 'countPokes2': {'timestamp': 1345333, 'value': 9},\n",
       " 'countRewards2': {'timestamp': 1345333, 'value': 0},\n",
       " 'portProbs2': {'timestamp': 1345334, 'value': 10},\n",
       " 'countPokes3': {'timestamp': 1345355, 'value': 2},\n",
       " 'countRewards3': {'timestamp': 1345355, 'value': 0},\n",
       " 'portProbs3': {'timestamp': 1345356, 'value': 50}}"
      ]
     },
     "metadata": {},
     "output_type": "display_data"
    },
    {
     "data": {
      "text/plain": [
       "{'contingency': {'timestamp': 1369516, 'value': 1},\n",
       " 'trialThresh': {'timestamp': 1369517, 'value': 69},\n",
       " 'totalPokes': {'timestamp': 1369517, 'value': 22},\n",
       " 'totalRewards': {'timestamp': 1369518, 'value': 9},\n",
       " 'ifDelay': {'timestamp': 1369518, 'value': 1},\n",
       " 'countPokes1': {'timestamp': 1369519, 'value': 10},\n",
       " 'countRewards1': {'timestamp': 1369519, 'value': 9},\n",
       " 'portProbs1': {'timestamp': 1369520, 'value': 90},\n",
       " 'countPokes2': {'timestamp': 1369520, 'value': 10},\n",
       " 'countRewards2': {'timestamp': 1369520, 'value': 0},\n",
       " 'portProbs2': {'timestamp': 1369521, 'value': 10},\n",
       " 'countPokes3': {'timestamp': 1369542, 'value': 2},\n",
       " 'countRewards3': {'timestamp': 1369542, 'value': 0},\n",
       " 'portProbs3': {'timestamp': 1369543, 'value': 50}}"
      ]
     },
     "metadata": {},
     "output_type": "display_data"
    },
    {
     "data": {
      "text/plain": [
       "{'contingency': {'timestamp': 1378128, 'value': 1},\n",
       " 'trialThresh': {'timestamp': 1378129, 'value': 69},\n",
       " 'totalPokes': {'timestamp': 1378129, 'value': 23},\n",
       " 'totalRewards': {'timestamp': 1378130, 'value': 10},\n",
       " 'ifDelay': {'timestamp': 1378130, 'value': 1},\n",
       " 'countPokes1': {'timestamp': 1378131, 'value': 11},\n",
       " 'countRewards1': {'timestamp': 1378131, 'value': 10},\n",
       " 'portProbs1': {'timestamp': 1378132, 'value': 90},\n",
       " 'countPokes2': {'timestamp': 1378132, 'value': 10},\n",
       " 'countRewards2': {'timestamp': 1378133, 'value': 0},\n",
       " 'portProbs2': {'timestamp': 1378133, 'value': 10},\n",
       " 'countPokes3': {'timestamp': 1378154, 'value': 2},\n",
       " 'countRewards3': {'timestamp': 1378155, 'value': 0},\n",
       " 'portProbs3': {'timestamp': 1378155, 'value': 50}}"
      ]
     },
     "metadata": {},
     "output_type": "display_data"
    },
    {
     "data": {
      "text/plain": [
       "{'contingency': {'timestamp': 1400638, 'value': 1},\n",
       " 'trialThresh': {'timestamp': 1400639, 'value': 69},\n",
       " 'totalPokes': {'timestamp': 1400639, 'value': 24},\n",
       " 'totalRewards': {'timestamp': 1400640, 'value': 10},\n",
       " 'ifDelay': {'timestamp': 1400640, 'value': 0},\n",
       " 'countPokes1': {'timestamp': 1400640, 'value': 11},\n",
       " 'countRewards1': {'timestamp': 1400641, 'value': 10},\n",
       " 'portProbs1': {'timestamp': 1400641, 'value': 90},\n",
       " 'countPokes2': {'timestamp': 1400642, 'value': 11},\n",
       " 'countRewards2': {'timestamp': 1400642, 'value': 0},\n",
       " 'portProbs2': {'timestamp': 1400643, 'value': 10},\n",
       " 'countPokes3': {'timestamp': 1400664, 'value': 2},\n",
       " 'countRewards3': {'timestamp': 1400665, 'value': 0},\n",
       " 'portProbs3': {'timestamp': 1400665, 'value': 50}}"
      ]
     },
     "metadata": {},
     "output_type": "display_data"
    },
    {
     "data": {
      "text/plain": [
       "{'contingency': {'timestamp': 1408900, 'value': 1},\n",
       " 'trialThresh': {'timestamp': 1408900, 'value': 69},\n",
       " 'totalPokes': {'timestamp': 1408901, 'value': 25},\n",
       " 'totalRewards': {'timestamp': 1408901, 'value': 11},\n",
       " 'ifDelay': {'timestamp': 1408902, 'value': 0},\n",
       " 'countPokes1': {'timestamp': 1408902, 'value': 12},\n",
       " 'countRewards1': {'timestamp': 1408903, 'value': 11},\n",
       " 'portProbs1': {'timestamp': 1408903, 'value': 90},\n",
       " 'countPokes2': {'timestamp': 1408904, 'value': 11},\n",
       " 'countRewards2': {'timestamp': 1408904, 'value': 0},\n",
       " 'portProbs2': {'timestamp': 1408905, 'value': 10},\n",
       " 'countPokes3': {'timestamp': 1408926, 'value': 2},\n",
       " 'countRewards3': {'timestamp': 1408926, 'value': 0},\n",
       " 'portProbs3': {'timestamp': 1408927, 'value': 50}}"
      ]
     },
     "metadata": {},
     "output_type": "display_data"
    },
    {
     "data": {
      "text/plain": [
       "{'contingency': {'timestamp': 1434607, 'value': 1},\n",
       " 'trialThresh': {'timestamp': 1434608, 'value': 69},\n",
       " 'totalPokes': {'timestamp': 1434608, 'value': 26},\n",
       " 'totalRewards': {'timestamp': 1434609, 'value': 11},\n",
       " 'ifDelay': {'timestamp': 1434609, 'value': 0},\n",
       " 'countPokes1': {'timestamp': 1434610, 'value': 12},\n",
       " 'countRewards1': {'timestamp': 1434610, 'value': 11},\n",
       " 'portProbs1': {'timestamp': 1434611, 'value': 90},\n",
       " 'countPokes2': {'timestamp': 1434611, 'value': 12},\n",
       " 'countRewards2': {'timestamp': 1434612, 'value': 0},\n",
       " 'portProbs2': {'timestamp': 1434612, 'value': 10},\n",
       " 'countPokes3': {'timestamp': 1434633, 'value': 2},\n",
       " 'countRewards3': {'timestamp': 1434634, 'value': 0},\n",
       " 'portProbs3': {'timestamp': 1434634, 'value': 50}}"
      ]
     },
     "metadata": {},
     "output_type": "display_data"
    },
    {
     "data": {
      "text/plain": [
       "{'contingency': {'timestamp': 1441560, 'value': 1},\n",
       " 'trialThresh': {'timestamp': 1441561, 'value': 69},\n",
       " 'totalPokes': {'timestamp': 1441561, 'value': 27},\n",
       " 'totalRewards': {'timestamp': 1441562, 'value': 12},\n",
       " 'ifDelay': {'timestamp': 1441562, 'value': 0},\n",
       " 'countPokes1': {'timestamp': 1441563, 'value': 13},\n",
       " 'countRewards1': {'timestamp': 1441563, 'value': 12},\n",
       " 'portProbs1': {'timestamp': 1441564, 'value': 90},\n",
       " 'countPokes2': {'timestamp': 1441564, 'value': 12},\n",
       " 'countRewards2': {'timestamp': 1441565, 'value': 0},\n",
       " 'portProbs2': {'timestamp': 1441565, 'value': 10},\n",
       " 'countPokes3': {'timestamp': 1441586, 'value': 2},\n",
       " 'countRewards3': {'timestamp': 1441587, 'value': 0},\n",
       " 'portProbs3': {'timestamp': 1441587, 'value': 50}}"
      ]
     },
     "metadata": {},
     "output_type": "display_data"
    },
    {
     "data": {
      "text/plain": [
       "{'contingency': {'timestamp': 1462721, 'value': 1},\n",
       " 'trialThresh': {'timestamp': 1462722, 'value': 69},\n",
       " 'totalPokes': {'timestamp': 1462722, 'value': 28},\n",
       " 'totalRewards': {'timestamp': 1462723, 'value': 12},\n",
       " 'ifDelay': {'timestamp': 1462723, 'value': 0},\n",
       " 'countPokes1': {'timestamp': 1462724, 'value': 13},\n",
       " 'countRewards1': {'timestamp': 1462724, 'value': 12},\n",
       " 'portProbs1': {'timestamp': 1462725, 'value': 90},\n",
       " 'countPokes2': {'timestamp': 1462725, 'value': 13},\n",
       " 'countRewards2': {'timestamp': 1462726, 'value': 0},\n",
       " 'portProbs2': {'timestamp': 1462726, 'value': 10},\n",
       " 'countPokes3': {'timestamp': 1462747, 'value': 2},\n",
       " 'countRewards3': {'timestamp': 1462748, 'value': 0},\n",
       " 'portProbs3': {'timestamp': 1462748, 'value': 50}}"
      ]
     },
     "metadata": {},
     "output_type": "display_data"
    },
    {
     "data": {
      "text/plain": [
       "{'contingency': {'timestamp': 1471171, 'value': 1},\n",
       " 'trialThresh': {'timestamp': 1471172, 'value': 69},\n",
       " 'totalPokes': {'timestamp': 1471172, 'value': 29},\n",
       " 'totalRewards': {'timestamp': 1471173, 'value': 13},\n",
       " 'ifDelay': {'timestamp': 1471173, 'value': 0},\n",
       " 'countPokes1': {'timestamp': 1471173, 'value': 14},\n",
       " 'countRewards1': {'timestamp': 1471174, 'value': 13},\n",
       " 'portProbs1': {'timestamp': 1471174, 'value': 90},\n",
       " 'countPokes2': {'timestamp': 1471175, 'value': 13},\n",
       " 'countRewards2': {'timestamp': 1471175, 'value': 0},\n",
       " 'portProbs2': {'timestamp': 1471176, 'value': 10},\n",
       " 'countPokes3': {'timestamp': 1471197, 'value': 2},\n",
       " 'countRewards3': {'timestamp': 1471198, 'value': 0},\n",
       " 'portProbs3': {'timestamp': 1471198, 'value': 50}}"
      ]
     },
     "metadata": {},
     "output_type": "display_data"
    },
    {
     "data": {
      "text/plain": [
       "{'contingency': {'timestamp': 1494552, 'value': 1},\n",
       " 'trialThresh': {'timestamp': 1494553, 'value': 69},\n",
       " 'totalPokes': {'timestamp': 1494553, 'value': 30},\n",
       " 'totalRewards': {'timestamp': 1494554, 'value': 13},\n",
       " 'ifDelay': {'timestamp': 1494554, 'value': 1},\n",
       " 'countPokes1': {'timestamp': 1494555, 'value': 14},\n",
       " 'countRewards1': {'timestamp': 1494555, 'value': 13},\n",
       " 'portProbs1': {'timestamp': 1494556, 'value': 90},\n",
       " 'countPokes2': {'timestamp': 1494556, 'value': 14},\n",
       " 'countRewards2': {'timestamp': 1494557, 'value': 0},\n",
       " 'portProbs2': {'timestamp': 1494557, 'value': 10},\n",
       " 'countPokes3': {'timestamp': 1494579, 'value': 2},\n",
       " 'countRewards3': {'timestamp': 1494579, 'value': 0},\n",
       " 'portProbs3': {'timestamp': 1494580, 'value': 50}}"
      ]
     },
     "metadata": {},
     "output_type": "display_data"
    },
    {
     "data": {
      "text/plain": [
       "{'contingency': {'timestamp': 1501619, 'value': 1},\n",
       " 'trialThresh': {'timestamp': 1501620, 'value': 69},\n",
       " 'totalPokes': {'timestamp': 1501620, 'value': 31},\n",
       " 'totalRewards': {'timestamp': 1501621, 'value': 14},\n",
       " 'ifDelay': {'timestamp': 1501621, 'value': 1},\n",
       " 'countPokes1': {'timestamp': 1501622, 'value': 15},\n",
       " 'countRewards1': {'timestamp': 1501622, 'value': 14},\n",
       " 'portProbs1': {'timestamp': 1501623, 'value': 90},\n",
       " 'countPokes2': {'timestamp': 1501623, 'value': 14},\n",
       " 'countRewards2': {'timestamp': 1501624, 'value': 0},\n",
       " 'portProbs2': {'timestamp': 1501624, 'value': 10},\n",
       " 'countPokes3': {'timestamp': 1501646, 'value': 2},\n",
       " 'countRewards3': {'timestamp': 1501646, 'value': 0},\n",
       " 'portProbs3': {'timestamp': 1501647, 'value': 50}}"
      ]
     },
     "metadata": {},
     "output_type": "display_data"
    },
    {
     "data": {
      "text/plain": [
       "{'contingency': {'timestamp': 1532501, 'value': 1},\n",
       " 'trialThresh': {'timestamp': 1532501, 'value': 69},\n",
       " 'totalPokes': {'timestamp': 1532502, 'value': 32},\n",
       " 'totalRewards': {'timestamp': 1532502, 'value': 14},\n",
       " 'ifDelay': {'timestamp': 1532503, 'value': 0},\n",
       " 'countPokes1': {'timestamp': 1532503, 'value': 15},\n",
       " 'countRewards1': {'timestamp': 1532504, 'value': 14},\n",
       " 'portProbs1': {'timestamp': 1532504, 'value': 90},\n",
       " 'countPokes2': {'timestamp': 1532505, 'value': 15},\n",
       " 'countRewards2': {'timestamp': 1532505, 'value': 0},\n",
       " 'portProbs2': {'timestamp': 1532506, 'value': 10},\n",
       " 'countPokes3': {'timestamp': 1532527, 'value': 2},\n",
       " 'countRewards3': {'timestamp': 1532527, 'value': 0},\n",
       " 'portProbs3': {'timestamp': 1532528, 'value': 50}}"
      ]
     },
     "metadata": {},
     "output_type": "display_data"
    },
    {
     "data": {
      "text/plain": [
       "{'contingency': {'timestamp': 1539680, 'value': 1},\n",
       " 'trialThresh': {'timestamp': 1539681, 'value': 69},\n",
       " 'totalPokes': {'timestamp': 1539681, 'value': 33},\n",
       " 'totalRewards': {'timestamp': 1539682, 'value': 15},\n",
       " 'ifDelay': {'timestamp': 1539682, 'value': 0},\n",
       " 'countPokes1': {'timestamp': 1539683, 'value': 16},\n",
       " 'countRewards1': {'timestamp': 1539683, 'value': 15},\n",
       " 'portProbs1': {'timestamp': 1539684, 'value': 90},\n",
       " 'countPokes2': {'timestamp': 1539684, 'value': 15},\n",
       " 'countRewards2': {'timestamp': 1539685, 'value': 0},\n",
       " 'portProbs2': {'timestamp': 1539685, 'value': 10},\n",
       " 'countPokes3': {'timestamp': 1539707, 'value': 2},\n",
       " 'countRewards3': {'timestamp': 1539707, 'value': 0},\n",
       " 'portProbs3': {'timestamp': 1539707, 'value': 50}}"
      ]
     },
     "metadata": {},
     "output_type": "display_data"
    },
    {
     "data": {
      "text/plain": [
       "{'contingency': {'timestamp': 1562132, 'value': 1},\n",
       " 'trialThresh': {'timestamp': 1562132, 'value': 69},\n",
       " 'totalPokes': {'timestamp': 1562133, 'value': 34},\n",
       " 'totalRewards': {'timestamp': 1562133, 'value': 15},\n",
       " 'ifDelay': {'timestamp': 1562134, 'value': 0},\n",
       " 'countPokes1': {'timestamp': 1562134, 'value': 16},\n",
       " 'countRewards1': {'timestamp': 1562135, 'value': 15},\n",
       " 'portProbs1': {'timestamp': 1562135, 'value': 90},\n",
       " 'countPokes2': {'timestamp': 1562136, 'value': 16},\n",
       " 'countRewards2': {'timestamp': 1562136, 'value': 0},\n",
       " 'portProbs2': {'timestamp': 1562137, 'value': 10},\n",
       " 'countPokes3': {'timestamp': 1562158, 'value': 2},\n",
       " 'countRewards3': {'timestamp': 1562159, 'value': 0},\n",
       " 'portProbs3': {'timestamp': 1562159, 'value': 50}}"
      ]
     },
     "metadata": {},
     "output_type": "display_data"
    },
    {
     "data": {
      "text/plain": [
       "{'contingency': {'timestamp': 1569273, 'value': 1},\n",
       " 'trialThresh': {'timestamp': 1569274, 'value': 69},\n",
       " 'totalPokes': {'timestamp': 1569274, 'value': 35},\n",
       " 'totalRewards': {'timestamp': 1569275, 'value': 16},\n",
       " 'ifDelay': {'timestamp': 1569275, 'value': 0},\n",
       " 'countPokes1': {'timestamp': 1569276, 'value': 17},\n",
       " 'countRewards1': {'timestamp': 1569276, 'value': 16},\n",
       " 'portProbs1': {'timestamp': 1569277, 'value': 90},\n",
       " 'countPokes2': {'timestamp': 1569277, 'value': 16},\n",
       " 'countRewards2': {'timestamp': 1569278, 'value': 0},\n",
       " 'portProbs2': {'timestamp': 1569278, 'value': 10},\n",
       " 'countPokes3': {'timestamp': 1569300, 'value': 2},\n",
       " 'countRewards3': {'timestamp': 1569300, 'value': 0},\n",
       " 'portProbs3': {'timestamp': 1569301, 'value': 50}}"
      ]
     },
     "metadata": {},
     "output_type": "display_data"
    },
    {
     "data": {
      "text/plain": [
       "{'contingency': {'timestamp': 1596737, 'value': 1},\n",
       " 'trialThresh': {'timestamp': 1596738, 'value': 69},\n",
       " 'totalPokes': {'timestamp': 1596738, 'value': 36},\n",
       " 'totalRewards': {'timestamp': 1596739, 'value': 16},\n",
       " 'ifDelay': {'timestamp': 1596739, 'value': 0},\n",
       " 'countPokes1': {'timestamp': 1596740, 'value': 17},\n",
       " 'countRewards1': {'timestamp': 1596740, 'value': 16},\n",
       " 'portProbs1': {'timestamp': 1596741, 'value': 90},\n",
       " 'countPokes2': {'timestamp': 1596741, 'value': 17},\n",
       " 'countRewards2': {'timestamp': 1596742, 'value': 0},\n",
       " 'portProbs2': {'timestamp': 1596742, 'value': 10},\n",
       " 'countPokes3': {'timestamp': 1596763, 'value': 2},\n",
       " 'countRewards3': {'timestamp': 1596764, 'value': 0},\n",
       " 'portProbs3': {'timestamp': 1596764, 'value': 50}}"
      ]
     },
     "metadata": {},
     "output_type": "display_data"
    },
    {
     "data": {
      "text/plain": [
       "{'contingency': {'timestamp': 1603610, 'value': 1},\n",
       " 'trialThresh': {'timestamp': 1603610, 'value': 69},\n",
       " 'totalPokes': {'timestamp': 1603611, 'value': 37},\n",
       " 'totalRewards': {'timestamp': 1603611, 'value': 17},\n",
       " 'ifDelay': {'timestamp': 1603612, 'value': 0},\n",
       " 'countPokes1': {'timestamp': 1603612, 'value': 18},\n",
       " 'countRewards1': {'timestamp': 1603613, 'value': 17},\n",
       " 'portProbs1': {'timestamp': 1603613, 'value': 90},\n",
       " 'countPokes2': {'timestamp': 1603614, 'value': 17},\n",
       " 'countRewards2': {'timestamp': 1603614, 'value': 0},\n",
       " 'portProbs2': {'timestamp': 1603615, 'value': 10},\n",
       " 'countPokes3': {'timestamp': 1603636, 'value': 2},\n",
       " 'countRewards3': {'timestamp': 1603636, 'value': 0},\n",
       " 'portProbs3': {'timestamp': 1603637, 'value': 50}}"
      ]
     },
     "metadata": {},
     "output_type": "display_data"
    },
    {
     "data": {
      "text/plain": [
       "{'contingency': {'timestamp': 1626235, 'value': 1},\n",
       " 'trialThresh': {'timestamp': 1626235, 'value': 69},\n",
       " 'totalPokes': {'timestamp': 1626235, 'value': 38},\n",
       " 'totalRewards': {'timestamp': 1626236, 'value': 17},\n",
       " 'ifDelay': {'timestamp': 1626236, 'value': 1},\n",
       " 'countPokes1': {'timestamp': 1626237, 'value': 18},\n",
       " 'countRewards1': {'timestamp': 1626237, 'value': 17},\n",
       " 'portProbs1': {'timestamp': 1626238, 'value': 90},\n",
       " 'countPokes2': {'timestamp': 1626238, 'value': 18},\n",
       " 'countRewards2': {'timestamp': 1626239, 'value': 0},\n",
       " 'portProbs2': {'timestamp': 1626239, 'value': 10},\n",
       " 'countPokes3': {'timestamp': 1626261, 'value': 2},\n",
       " 'countRewards3': {'timestamp': 1626261, 'value': 0},\n",
       " 'portProbs3': {'timestamp': 1626262, 'value': 50}}"
      ]
     },
     "metadata": {},
     "output_type": "display_data"
    },
    {
     "data": {
      "text/plain": [
       "{'contingency': {'timestamp': 1633238, 'value': 1},\n",
       " 'trialThresh': {'timestamp': 1633238, 'value': 69},\n",
       " 'totalPokes': {'timestamp': 1633239, 'value': 39},\n",
       " 'totalRewards': {'timestamp': 1633239, 'value': 18},\n",
       " 'ifDelay': {'timestamp': 1633240, 'value': 1},\n",
       " 'countPokes1': {'timestamp': 1633240, 'value': 19},\n",
       " 'countRewards1': {'timestamp': 1633241, 'value': 18},\n",
       " 'portProbs1': {'timestamp': 1633241, 'value': 90},\n",
       " 'countPokes2': {'timestamp': 1633242, 'value': 18},\n",
       " 'countRewards2': {'timestamp': 1633242, 'value': 0},\n",
       " 'portProbs2': {'timestamp': 1633243, 'value': 10},\n",
       " 'countPokes3': {'timestamp': 1633264, 'value': 2},\n",
       " 'countRewards3': {'timestamp': 1633265, 'value': 0},\n",
       " 'portProbs3': {'timestamp': 1633265, 'value': 50}}"
      ]
     },
     "metadata": {},
     "output_type": "display_data"
    },
    {
     "data": {
      "text/plain": [
       "{'contingency': {'timestamp': 1657010, 'value': 1},\n",
       " 'trialThresh': {'timestamp': 1657010, 'value': 69},\n",
       " 'totalPokes': {'timestamp': 1657011, 'value': 40},\n",
       " 'totalRewards': {'timestamp': 1657011, 'value': 18},\n",
       " 'ifDelay': {'timestamp': 1657012, 'value': 0},\n",
       " 'countPokes1': {'timestamp': 1657012, 'value': 19},\n",
       " 'countRewards1': {'timestamp': 1657013, 'value': 18},\n",
       " 'portProbs1': {'timestamp': 1657013, 'value': 90},\n",
       " 'countPokes2': {'timestamp': 1657014, 'value': 19},\n",
       " 'countRewards2': {'timestamp': 1657014, 'value': 0},\n",
       " 'portProbs2': {'timestamp': 1657015, 'value': 10},\n",
       " 'countPokes3': {'timestamp': 1657036, 'value': 2},\n",
       " 'countRewards3': {'timestamp': 1657036, 'value': 0},\n",
       " 'portProbs3': {'timestamp': 1657037, 'value': 50}}"
      ]
     },
     "metadata": {},
     "output_type": "display_data"
    },
    {
     "data": {
      "text/plain": [
       "{'contingency': {'timestamp': 1663990, 'value': 1},\n",
       " 'trialThresh': {'timestamp': 1663991, 'value': 69},\n",
       " 'totalPokes': {'timestamp': 1663991, 'value': 41},\n",
       " 'totalRewards': {'timestamp': 1663992, 'value': 19},\n",
       " 'ifDelay': {'timestamp': 1663992, 'value': 0},\n",
       " 'countPokes1': {'timestamp': 1663993, 'value': 20},\n",
       " 'countRewards1': {'timestamp': 1663993, 'value': 19},\n",
       " 'portProbs1': {'timestamp': 1663993, 'value': 90},\n",
       " 'countPokes2': {'timestamp': 1663994, 'value': 19},\n",
       " 'countRewards2': {'timestamp': 1663994, 'value': 0},\n",
       " 'portProbs2': {'timestamp': 1663995, 'value': 10},\n",
       " 'countPokes3': {'timestamp': 1664016, 'value': 2},\n",
       " 'countRewards3': {'timestamp': 1664017, 'value': 0},\n",
       " 'portProbs3': {'timestamp': 1664017, 'value': 50}}"
      ]
     },
     "metadata": {},
     "output_type": "display_data"
    },
    {
     "data": {
      "text/plain": [
       "{'contingency': {'timestamp': 1691223, 'value': 1},\n",
       " 'trialThresh': {'timestamp': 1691224, 'value': 69},\n",
       " 'totalPokes': {'timestamp': 1691224, 'value': 42},\n",
       " 'totalRewards': {'timestamp': 1691225, 'value': 19},\n",
       " 'ifDelay': {'timestamp': 1691225, 'value': 1},\n",
       " 'countPokes1': {'timestamp': 1691226, 'value': 20},\n",
       " 'countRewards1': {'timestamp': 1691226, 'value': 19},\n",
       " 'portProbs1': {'timestamp': 1691227, 'value': 90},\n",
       " 'countPokes2': {'timestamp': 1691227, 'value': 20},\n",
       " 'countRewards2': {'timestamp': 1691228, 'value': 0},\n",
       " 'portProbs2': {'timestamp': 1691228, 'value': 10},\n",
       " 'countPokes3': {'timestamp': 1691249, 'value': 2},\n",
       " 'countRewards3': {'timestamp': 1691250, 'value': 0},\n",
       " 'portProbs3': {'timestamp': 1691250, 'value': 50}}"
      ]
     },
     "metadata": {},
     "output_type": "display_data"
    },
    {
     "data": {
      "text/plain": [
       "{'contingency': {'timestamp': 1698443, 'value': 1},\n",
       " 'trialThresh': {'timestamp': 1698444, 'value': 69},\n",
       " 'totalPokes': {'timestamp': 1698444, 'value': 43},\n",
       " 'totalRewards': {'timestamp': 1698445, 'value': 20},\n",
       " 'ifDelay': {'timestamp': 1698445, 'value': 1},\n",
       " 'countPokes1': {'timestamp': 1698446, 'value': 21},\n",
       " 'countRewards1': {'timestamp': 1698446, 'value': 20},\n",
       " 'portProbs1': {'timestamp': 1698447, 'value': 90},\n",
       " 'countPokes2': {'timestamp': 1698447, 'value': 20},\n",
       " 'countRewards2': {'timestamp': 1698448, 'value': 0},\n",
       " 'portProbs2': {'timestamp': 1698448, 'value': 10},\n",
       " 'countPokes3': {'timestamp': 1698470, 'value': 2},\n",
       " 'countRewards3': {'timestamp': 1698470, 'value': 0},\n",
       " 'portProbs3': {'timestamp': 1698470, 'value': 50}}"
      ]
     },
     "metadata": {},
     "output_type": "display_data"
    },
    {
     "data": {
      "text/plain": [
       "{'contingency': {'timestamp': 1723468, 'value': 1},\n",
       " 'trialThresh': {'timestamp': 1723468, 'value': 69},\n",
       " 'totalPokes': {'timestamp': 1723469, 'value': 44},\n",
       " 'totalRewards': {'timestamp': 1723469, 'value': 20},\n",
       " 'ifDelay': {'timestamp': 1723470, 'value': 0},\n",
       " 'countPokes1': {'timestamp': 1723470, 'value': 21},\n",
       " 'countRewards1': {'timestamp': 1723471, 'value': 20},\n",
       " 'portProbs1': {'timestamp': 1723471, 'value': 90},\n",
       " 'countPokes2': {'timestamp': 1723472, 'value': 21},\n",
       " 'countRewards2': {'timestamp': 1723472, 'value': 0},\n",
       " 'portProbs2': {'timestamp': 1723473, 'value': 10},\n",
       " 'countPokes3': {'timestamp': 1723494, 'value': 2},\n",
       " 'countRewards3': {'timestamp': 1723494, 'value': 0},\n",
       " 'portProbs3': {'timestamp': 1723495, 'value': 50}}"
      ]
     },
     "metadata": {},
     "output_type": "display_data"
    },
    {
     "data": {
      "text/plain": [
       "{'contingency': {'timestamp': 1732450, 'value': 1},\n",
       " 'trialThresh': {'timestamp': 1732451, 'value': 69},\n",
       " 'totalPokes': {'timestamp': 1732451, 'value': 45},\n",
       " 'totalRewards': {'timestamp': 1732452, 'value': 21},\n",
       " 'ifDelay': {'timestamp': 1732452, 'value': 0},\n",
       " 'countPokes1': {'timestamp': 1732453, 'value': 22},\n",
       " 'countRewards1': {'timestamp': 1732453, 'value': 21},\n",
       " 'portProbs1': {'timestamp': 1732454, 'value': 90},\n",
       " 'countPokes2': {'timestamp': 1732454, 'value': 21},\n",
       " 'countRewards2': {'timestamp': 1732455, 'value': 0},\n",
       " 'portProbs2': {'timestamp': 1732476, 'value': 10},\n",
       " 'countPokes3': {'timestamp': 1732476, 'value': 2},\n",
       " 'countRewards3': {'timestamp': 1732477, 'value': 0},\n",
       " 'portProbs3': {'timestamp': 1732477, 'value': 50}}"
      ]
     },
     "metadata": {},
     "output_type": "display_data"
    },
    {
     "data": {
      "text/plain": [
       "{'contingency': {'timestamp': 1756302, 'value': 1},\n",
       " 'trialThresh': {'timestamp': 1756303, 'value': 69},\n",
       " 'totalPokes': {'timestamp': 1756303, 'value': 46},\n",
       " 'totalRewards': {'timestamp': 1756304, 'value': 21},\n",
       " 'ifDelay': {'timestamp': 1756304, 'value': 0},\n",
       " 'countPokes1': {'timestamp': 1756305, 'value': 22},\n",
       " 'countRewards1': {'timestamp': 1756305, 'value': 21},\n",
       " 'portProbs1': {'timestamp': 1756306, 'value': 90},\n",
       " 'countPokes2': {'timestamp': 1756306, 'value': 22},\n",
       " 'countRewards2': {'timestamp': 1756307, 'value': 0},\n",
       " 'portProbs2': {'timestamp': 1756307, 'value': 10},\n",
       " 'countPokes3': {'timestamp': 1756328, 'value': 2},\n",
       " 'countRewards3': {'timestamp': 1756329, 'value': 0},\n",
       " 'portProbs3': {'timestamp': 1756329, 'value': 50}}"
      ]
     },
     "metadata": {},
     "output_type": "display_data"
    },
    {
     "data": {
      "text/plain": [
       "{'contingency': {'timestamp': 1764150, 'value': 1},\n",
       " 'trialThresh': {'timestamp': 1764151, 'value': 69},\n",
       " 'totalPokes': {'timestamp': 1764151, 'value': 47},\n",
       " 'totalRewards': {'timestamp': 1764152, 'value': 22},\n",
       " 'ifDelay': {'timestamp': 1764152, 'value': 0},\n",
       " 'countPokes1': {'timestamp': 1764153, 'value': 23},\n",
       " 'countRewards1': {'timestamp': 1764153, 'value': 22},\n",
       " 'portProbs1': {'timestamp': 1764154, 'value': 90},\n",
       " 'countPokes2': {'timestamp': 1764154, 'value': 22},\n",
       " 'countRewards2': {'timestamp': 1764155, 'value': 0},\n",
       " 'portProbs2': {'timestamp': 1764155, 'value': 10},\n",
       " 'countPokes3': {'timestamp': 1764176, 'value': 2},\n",
       " 'countRewards3': {'timestamp': 1764177, 'value': 0},\n",
       " 'portProbs3': {'timestamp': 1764177, 'value': 50}}"
      ]
     },
     "metadata": {},
     "output_type": "display_data"
    },
    {
     "data": {
      "text/plain": [
       "{'contingency': {'timestamp': 1788413, 'value': 1},\n",
       " 'trialThresh': {'timestamp': 1788414, 'value': 69},\n",
       " 'totalPokes': {'timestamp': 1788414, 'value': 48},\n",
       " 'totalRewards': {'timestamp': 1788415, 'value': 22},\n",
       " 'ifDelay': {'timestamp': 1788415, 'value': 0},\n",
       " 'countPokes1': {'timestamp': 1788416, 'value': 23},\n",
       " 'countRewards1': {'timestamp': 1788416, 'value': 22},\n",
       " 'portProbs1': {'timestamp': 1788417, 'value': 90},\n",
       " 'countPokes2': {'timestamp': 1788417, 'value': 23},\n",
       " 'countRewards2': {'timestamp': 1788418, 'value': 0},\n",
       " 'portProbs2': {'timestamp': 1788418, 'value': 10},\n",
       " 'countPokes3': {'timestamp': 1788440, 'value': 2},\n",
       " 'countRewards3': {'timestamp': 1788440, 'value': 0},\n",
       " 'portProbs3': {'timestamp': 1788441, 'value': 50}}"
      ]
     },
     "metadata": {},
     "output_type": "display_data"
    },
    {
     "data": {
      "text/plain": [
       "{'contingency': {'timestamp': 1795716, 'value': 1},\n",
       " 'trialThresh': {'timestamp': 1795717, 'value': 69},\n",
       " 'totalPokes': {'timestamp': 1795717, 'value': 49},\n",
       " 'totalRewards': {'timestamp': 1795718, 'value': 23},\n",
       " 'ifDelay': {'timestamp': 1795718, 'value': 0},\n",
       " 'countPokes1': {'timestamp': 1795719, 'value': 24},\n",
       " 'countRewards1': {'timestamp': 1795719, 'value': 23},\n",
       " 'portProbs1': {'timestamp': 1795720, 'value': 90},\n",
       " 'countPokes2': {'timestamp': 1795720, 'value': 23},\n",
       " 'countRewards2': {'timestamp': 1795721, 'value': 0},\n",
       " 'portProbs2': {'timestamp': 1795742, 'value': 10},\n",
       " 'countPokes3': {'timestamp': 1795742, 'value': 2},\n",
       " 'countRewards3': {'timestamp': 1795743, 'value': 0},\n",
       " 'portProbs3': {'timestamp': 1795743, 'value': 50}}"
      ]
     },
     "metadata": {},
     "output_type": "display_data"
    },
    {
     "data": {
      "text/plain": [
       "{'contingency': {'timestamp': 1825581, 'value': 1},\n",
       " 'trialThresh': {'timestamp': 1825582, 'value': 69},\n",
       " 'totalPokes': {'timestamp': 1825582, 'value': 50},\n",
       " 'totalRewards': {'timestamp': 1825583, 'value': 23},\n",
       " 'ifDelay': {'timestamp': 1825583, 'value': 1},\n",
       " 'countPokes1': {'timestamp': 1825584, 'value': 24},\n",
       " 'countRewards1': {'timestamp': 1825584, 'value': 23},\n",
       " 'portProbs1': {'timestamp': 1825584, 'value': 90},\n",
       " 'countPokes2': {'timestamp': 1825585, 'value': 24},\n",
       " 'countRewards2': {'timestamp': 1825585, 'value': 0},\n",
       " 'portProbs2': {'timestamp': 1825586, 'value': 10},\n",
       " 'countPokes3': {'timestamp': 1825607, 'value': 2},\n",
       " 'countRewards3': {'timestamp': 1825608, 'value': 0},\n",
       " 'portProbs3': {'timestamp': 1825608, 'value': 50}}"
      ]
     },
     "metadata": {},
     "output_type": "display_data"
    },
    {
     "data": {
      "text/plain": [
       "{'contingency': {'timestamp': 1833356, 'value': 1},\n",
       " 'trialThresh': {'timestamp': 1833357, 'value': 69},\n",
       " 'totalPokes': {'timestamp': 1833357, 'value': 51},\n",
       " 'totalRewards': {'timestamp': 1833357, 'value': 24},\n",
       " 'ifDelay': {'timestamp': 1833358, 'value': 1},\n",
       " 'countPokes1': {'timestamp': 1833358, 'value': 25},\n",
       " 'countRewards1': {'timestamp': 1833359, 'value': 24},\n",
       " 'portProbs1': {'timestamp': 1833359, 'value': 90},\n",
       " 'countPokes2': {'timestamp': 1833360, 'value': 24},\n",
       " 'countRewards2': {'timestamp': 1833360, 'value': 0},\n",
       " 'portProbs2': {'timestamp': 1833381, 'value': 10},\n",
       " 'countPokes3': {'timestamp': 1833382, 'value': 2},\n",
       " 'countRewards3': {'timestamp': 1833382, 'value': 0},\n",
       " 'portProbs3': {'timestamp': 1833383, 'value': 50}}"
      ]
     },
     "metadata": {},
     "output_type": "display_data"
    },
    {
     "data": {
      "text/plain": [
       "{'contingency': {'timestamp': 1863323, 'value': 1},\n",
       " 'trialThresh': {'timestamp': 1863324, 'value': 69},\n",
       " 'totalPokes': {'timestamp': 1863324, 'value': 52},\n",
       " 'totalRewards': {'timestamp': 1863325, 'value': 24},\n",
       " 'ifDelay': {'timestamp': 1863325, 'value': 0},\n",
       " 'countPokes1': {'timestamp': 1863326, 'value': 25},\n",
       " 'countRewards1': {'timestamp': 1863326, 'value': 24},\n",
       " 'portProbs1': {'timestamp': 1863327, 'value': 90},\n",
       " 'countPokes2': {'timestamp': 1863327, 'value': 25},\n",
       " 'countRewards2': {'timestamp': 1863328, 'value': 0},\n",
       " 'portProbs2': {'timestamp': 1863328, 'value': 10},\n",
       " 'countPokes3': {'timestamp': 1863349, 'value': 2},\n",
       " 'countRewards3': {'timestamp': 1863350, 'value': 0},\n",
       " 'portProbs3': {'timestamp': 1863350, 'value': 50}}"
      ]
     },
     "metadata": {},
     "output_type": "display_data"
    },
    {
     "data": {
      "text/plain": [
       "{'contingency': {'timestamp': 1870646, 'value': 1},\n",
       " 'trialThresh': {'timestamp': 1870647, 'value': 69},\n",
       " 'totalPokes': {'timestamp': 1870647, 'value': 53},\n",
       " 'totalRewards': {'timestamp': 1870648, 'value': 25},\n",
       " 'ifDelay': {'timestamp': 1870648, 'value': 0},\n",
       " 'countPokes1': {'timestamp': 1870649, 'value': 26},\n",
       " 'countRewards1': {'timestamp': 1870649, 'value': 25},\n",
       " 'portProbs1': {'timestamp': 1870650, 'value': 90},\n",
       " 'countPokes2': {'timestamp': 1870650, 'value': 25},\n",
       " 'countRewards2': {'timestamp': 1870651, 'value': 0},\n",
       " 'portProbs2': {'timestamp': 1870651, 'value': 10},\n",
       " 'countPokes3': {'timestamp': 1870672, 'value': 2},\n",
       " 'countRewards3': {'timestamp': 1870673, 'value': 0},\n",
       " 'portProbs3': {'timestamp': 1870673, 'value': 50}}"
      ]
     },
     "metadata": {},
     "output_type": "display_data"
    },
    {
     "data": {
      "text/plain": [
       "{'contingency': {'timestamp': 1899937, 'value': 1},\n",
       " 'trialThresh': {'timestamp': 1899937, 'value': 69},\n",
       " 'totalPokes': {'timestamp': 1899938, 'value': 54},\n",
       " 'totalRewards': {'timestamp': 1899938, 'value': 25},\n",
       " 'ifDelay': {'timestamp': 1899939, 'value': 0},\n",
       " 'countPokes1': {'timestamp': 1899939, 'value': 26},\n",
       " 'countRewards1': {'timestamp': 1899940, 'value': 25},\n",
       " 'portProbs1': {'timestamp': 1899940, 'value': 90},\n",
       " 'countPokes2': {'timestamp': 1899941, 'value': 26},\n",
       " 'countRewards2': {'timestamp': 1899941, 'value': 0},\n",
       " 'portProbs2': {'timestamp': 1899942, 'value': 10},\n",
       " 'countPokes3': {'timestamp': 1899963, 'value': 2},\n",
       " 'countRewards3': {'timestamp': 1899964, 'value': 0},\n",
       " 'portProbs3': {'timestamp': 1899964, 'value': 50}}"
      ]
     },
     "metadata": {},
     "output_type": "display_data"
    },
    {
     "data": {
      "text/plain": [
       "{'contingency': {'timestamp': 1907878, 'value': 1},\n",
       " 'trialThresh': {'timestamp': 1907878, 'value': 69},\n",
       " 'totalPokes': {'timestamp': 1907879, 'value': 55},\n",
       " 'totalRewards': {'timestamp': 1907879, 'value': 26},\n",
       " 'ifDelay': {'timestamp': 1907880, 'value': 0},\n",
       " 'countPokes1': {'timestamp': 1907880, 'value': 27},\n",
       " 'countRewards1': {'timestamp': 1907881, 'value': 26},\n",
       " 'portProbs1': {'timestamp': 1907881, 'value': 90},\n",
       " 'countPokes2': {'timestamp': 1907882, 'value': 26},\n",
       " 'countRewards2': {'timestamp': 1907882, 'value': 0},\n",
       " 'portProbs2': {'timestamp': 1907883, 'value': 10},\n",
       " 'countPokes3': {'timestamp': 1907904, 'value': 2},\n",
       " 'countRewards3': {'timestamp': 1907905, 'value': 0},\n",
       " 'portProbs3': {'timestamp': 1907905, 'value': 50}}"
      ]
     },
     "metadata": {},
     "output_type": "display_data"
    },
    {
     "data": {
      "text/plain": [
       "{'contingency': {'timestamp': 1934341, 'value': 1},\n",
       " 'trialThresh': {'timestamp': 1934342, 'value': 69},\n",
       " 'totalPokes': {'timestamp': 1934342, 'value': 56},\n",
       " 'totalRewards': {'timestamp': 1934343, 'value': 26},\n",
       " 'ifDelay': {'timestamp': 1934343, 'value': 0},\n",
       " 'countPokes1': {'timestamp': 1934344, 'value': 27},\n",
       " 'countRewards1': {'timestamp': 1934344, 'value': 26},\n",
       " 'portProbs1': {'timestamp': 1934345, 'value': 90},\n",
       " 'countPokes2': {'timestamp': 1934345, 'value': 27},\n",
       " 'countRewards2': {'timestamp': 1934346, 'value': 0},\n",
       " 'portProbs2': {'timestamp': 1934346, 'value': 10},\n",
       " 'countPokes3': {'timestamp': 1934367, 'value': 2},\n",
       " 'countRewards3': {'timestamp': 1934368, 'value': 0},\n",
       " 'portProbs3': {'timestamp': 1934368, 'value': 50}}"
      ]
     },
     "metadata": {},
     "output_type": "display_data"
    },
    {
     "data": {
      "text/plain": [
       "{'contingency': {'timestamp': 1941330, 'value': 1},\n",
       " 'trialThresh': {'timestamp': 1941331, 'value': 69},\n",
       " 'totalPokes': {'timestamp': 1941331, 'value': 57},\n",
       " 'totalRewards': {'timestamp': 1941331, 'value': 27},\n",
       " 'ifDelay': {'timestamp': 1941332, 'value': 0},\n",
       " 'countPokes1': {'timestamp': 1941332, 'value': 28},\n",
       " 'countRewards1': {'timestamp': 1941333, 'value': 27},\n",
       " 'portProbs1': {'timestamp': 1941333, 'value': 90},\n",
       " 'countPokes2': {'timestamp': 1941334, 'value': 27},\n",
       " 'countRewards2': {'timestamp': 1941334, 'value': 0},\n",
       " 'portProbs2': {'timestamp': 1941355, 'value': 10},\n",
       " 'countPokes3': {'timestamp': 1941356, 'value': 2},\n",
       " 'countRewards3': {'timestamp': 1941356, 'value': 0},\n",
       " 'portProbs3': {'timestamp': 1941357, 'value': 50}}"
      ]
     },
     "metadata": {},
     "output_type": "display_data"
    },
    {
     "data": {
      "text/plain": [
       "{'contingency': {'timestamp': 1966097, 'value': 1},\n",
       " 'trialThresh': {'timestamp': 1966097, 'value': 69},\n",
       " 'totalPokes': {'timestamp': 1966098, 'value': 58},\n",
       " 'totalRewards': {'timestamp': 1966098, 'value': 27},\n",
       " 'ifDelay': {'timestamp': 1966099, 'value': 0},\n",
       " 'countPokes1': {'timestamp': 1966099, 'value': 28},\n",
       " 'countRewards1': {'timestamp': 1966100, 'value': 27},\n",
       " 'portProbs1': {'timestamp': 1966100, 'value': 90},\n",
       " 'countPokes2': {'timestamp': 1966101, 'value': 28},\n",
       " 'countRewards2': {'timestamp': 1966101, 'value': 0},\n",
       " 'portProbs2': {'timestamp': 1966102, 'value': 10},\n",
       " 'countPokes3': {'timestamp': 1966123, 'value': 2},\n",
       " 'countRewards3': {'timestamp': 1966123, 'value': 0},\n",
       " 'portProbs3': {'timestamp': 1966124, 'value': 50}}"
      ]
     },
     "metadata": {},
     "output_type": "display_data"
    },
    {
     "data": {
      "text/plain": [
       "{'contingency': {'timestamp': 1973687, 'value': 1},\n",
       " 'trialThresh': {'timestamp': 1973687, 'value': 69},\n",
       " 'totalPokes': {'timestamp': 1973688, 'value': 59},\n",
       " 'totalRewards': {'timestamp': 1973688, 'value': 28},\n",
       " 'ifDelay': {'timestamp': 1973689, 'value': 0},\n",
       " 'countPokes1': {'timestamp': 1973689, 'value': 29},\n",
       " 'countRewards1': {'timestamp': 1973690, 'value': 28},\n",
       " 'portProbs1': {'timestamp': 1973690, 'value': 90},\n",
       " 'countPokes2': {'timestamp': 1973691, 'value': 28},\n",
       " 'countRewards2': {'timestamp': 1973691, 'value': 0},\n",
       " 'portProbs2': {'timestamp': 1973692, 'value': 10},\n",
       " 'countPokes3': {'timestamp': 1973713, 'value': 2},\n",
       " 'countRewards3': {'timestamp': 1973714, 'value': 0},\n",
       " 'portProbs3': {'timestamp': 1973714, 'value': 50}}"
      ]
     },
     "metadata": {},
     "output_type": "display_data"
    },
    {
     "data": {
      "text/plain": [
       "{'contingency': {'timestamp': 1999546, 'value': 1},\n",
       " 'trialThresh': {'timestamp': 1999546, 'value': 69},\n",
       " 'totalPokes': {'timestamp': 1999547, 'value': 60},\n",
       " 'totalRewards': {'timestamp': 1999547, 'value': 28},\n",
       " 'ifDelay': {'timestamp': 1999548, 'value': 0},\n",
       " 'countPokes1': {'timestamp': 1999548, 'value': 29},\n",
       " 'countRewards1': {'timestamp': 1999549, 'value': 28},\n",
       " 'portProbs1': {'timestamp': 1999549, 'value': 90},\n",
       " 'countPokes2': {'timestamp': 1999550, 'value': 29},\n",
       " 'countRewards2': {'timestamp': 1999550, 'value': 0},\n",
       " 'portProbs2': {'timestamp': 1999551, 'value': 10},\n",
       " 'countPokes3': {'timestamp': 1999572, 'value': 2},\n",
       " 'countRewards3': {'timestamp': 1999573, 'value': 0},\n",
       " 'portProbs3': {'timestamp': 1999573, 'value': 50}}"
      ]
     },
     "metadata": {},
     "output_type": "display_data"
    },
    {
     "data": {
      "text/plain": [
       "{'contingency': {'timestamp': 2008095, 'value': 1},\n",
       " 'trialThresh': {'timestamp': 2008095, 'value': 69},\n",
       " 'totalPokes': {'timestamp': 2008096, 'value': 61},\n",
       " 'totalRewards': {'timestamp': 2008096, 'value': 28},\n",
       " 'ifDelay': {'timestamp': 2008097, 'value': 0},\n",
       " 'countPokes1': {'timestamp': 2008097, 'value': 30},\n",
       " 'countRewards1': {'timestamp': 2008098, 'value': 28},\n",
       " 'portProbs1': {'timestamp': 2008098, 'value': 90},\n",
       " 'countPokes2': {'timestamp': 2008099, 'value': 29},\n",
       " 'countRewards2': {'timestamp': 2008099, 'value': 0},\n",
       " 'portProbs2': {'timestamp': 2008100, 'value': 10},\n",
       " 'countPokes3': {'timestamp': 2008121, 'value': 2},\n",
       " 'countRewards3': {'timestamp': 2008121, 'value': 0},\n",
       " 'portProbs3': {'timestamp': 2008122, 'value': 50}}"
      ]
     },
     "metadata": {},
     "output_type": "display_data"
    },
    {
     "data": {
      "text/plain": [
       "{'contingency': {'timestamp': 2018265, 'value': 1},\n",
       " 'trialThresh': {'timestamp': 2018266, 'value': 69},\n",
       " 'totalPokes': {'timestamp': 2018266, 'value': 62},\n",
       " 'totalRewards': {'timestamp': 2018267, 'value': 28},\n",
       " 'ifDelay': {'timestamp': 2018267, 'value': 0},\n",
       " 'countPokes1': {'timestamp': 2018268, 'value': 30},\n",
       " 'countRewards1': {'timestamp': 2018268, 'value': 28},\n",
       " 'portProbs1': {'timestamp': 2018269, 'value': 90},\n",
       " 'countPokes2': {'timestamp': 2018269, 'value': 30},\n",
       " 'countRewards2': {'timestamp': 2018270, 'value': 0},\n",
       " 'portProbs2': {'timestamp': 2018270, 'value': 10},\n",
       " 'countPokes3': {'timestamp': 2018291, 'value': 2},\n",
       " 'countRewards3': {'timestamp': 2018292, 'value': 0},\n",
       " 'portProbs3': {'timestamp': 2018292, 'value': 50}}"
      ]
     },
     "metadata": {},
     "output_type": "display_data"
    },
    {
     "data": {
      "text/plain": [
       "{'contingency': {'timestamp': 2035370, 'value': 1},\n",
       " 'trialThresh': {'timestamp': 2035371, 'value': 69},\n",
       " 'totalPokes': {'timestamp': 2035371, 'value': 63},\n",
       " 'totalRewards': {'timestamp': 2035372, 'value': 29},\n",
       " 'ifDelay': {'timestamp': 2035372, 'value': 0},\n",
       " 'countPokes1': {'timestamp': 2035373, 'value': 31},\n",
       " 'countRewards1': {'timestamp': 2035373, 'value': 29},\n",
       " 'portProbs1': {'timestamp': 2035374, 'value': 90},\n",
       " 'countPokes2': {'timestamp': 2035374, 'value': 30},\n",
       " 'countRewards2': {'timestamp': 2035375, 'value': 0},\n",
       " 'portProbs2': {'timestamp': 2035375, 'value': 10},\n",
       " 'countPokes3': {'timestamp': 2035396, 'value': 2},\n",
       " 'countRewards3': {'timestamp': 2035397, 'value': 0},\n",
       " 'portProbs3': {'timestamp': 2035397, 'value': 50}}"
      ]
     },
     "metadata": {},
     "output_type": "display_data"
    },
    {
     "data": {
      "text/plain": [
       "{'contingency': {'timestamp': 2102566, 'value': 1},\n",
       " 'trialThresh': {'timestamp': 2102567, 'value': 69},\n",
       " 'totalPokes': {'timestamp': 2102567, 'value': 64},\n",
       " 'totalRewards': {'timestamp': 2102568, 'value': 30},\n",
       " 'ifDelay': {'timestamp': 2102568, 'value': 1},\n",
       " 'countPokes1': {'timestamp': 2102569, 'value': 31},\n",
       " 'countRewards1': {'timestamp': 2102569, 'value': 29},\n",
       " 'portProbs1': {'timestamp': 2102570, 'value': 90},\n",
       " 'countPokes2': {'timestamp': 2102570, 'value': 30},\n",
       " 'countRewards2': {'timestamp': 2102571, 'value': 0},\n",
       " 'portProbs2': {'timestamp': 2102571, 'value': 10},\n",
       " 'countPokes3': {'timestamp': 2102592, 'value': 3},\n",
       " 'countRewards3': {'timestamp': 2102593, 'value': 1},\n",
       " 'portProbs3': {'timestamp': 2102593, 'value': 50}}"
      ]
     },
     "metadata": {},
     "output_type": "display_data"
    },
    {
     "data": {
      "text/plain": [
       "{'contingency': {'timestamp': 2112626, 'value': 1},\n",
       " 'trialThresh': {'timestamp': 2112626, 'value': 69},\n",
       " 'totalPokes': {'timestamp': 2112627, 'value': 65},\n",
       " 'totalRewards': {'timestamp': 2112627, 'value': 31},\n",
       " 'ifDelay': {'timestamp': 2112628, 'value': 1},\n",
       " 'countPokes1': {'timestamp': 2112628, 'value': 32},\n",
       " 'countRewards1': {'timestamp': 2112629, 'value': 30},\n",
       " 'portProbs1': {'timestamp': 2112629, 'value': 90},\n",
       " 'countPokes2': {'timestamp': 2112630, 'value': 30},\n",
       " 'countRewards2': {'timestamp': 2112630, 'value': 0},\n",
       " 'portProbs2': {'timestamp': 2112631, 'value': 10},\n",
       " 'countPokes3': {'timestamp': 2112652, 'value': 3},\n",
       " 'countRewards3': {'timestamp': 2112652, 'value': 1},\n",
       " 'portProbs3': {'timestamp': 2112653, 'value': 50}}"
      ]
     },
     "metadata": {},
     "output_type": "display_data"
    },
    {
     "data": {
      "text/plain": [
       "{'contingency': {'timestamp': 2138987, 'value': 1},\n",
       " 'trialThresh': {'timestamp': 2138987, 'value': 69},\n",
       " 'totalPokes': {'timestamp': 2138988, 'value': 66},\n",
       " 'totalRewards': {'timestamp': 2138988, 'value': 31},\n",
       " 'ifDelay': {'timestamp': 2138989, 'value': 0},\n",
       " 'countPokes1': {'timestamp': 2138989, 'value': 32},\n",
       " 'countRewards1': {'timestamp': 2138990, 'value': 30},\n",
       " 'portProbs1': {'timestamp': 2138990, 'value': 90},\n",
       " 'countPokes2': {'timestamp': 2138991, 'value': 30},\n",
       " 'countRewards2': {'timestamp': 2138991, 'value': 0},\n",
       " 'portProbs2': {'timestamp': 2138992, 'value': 10},\n",
       " 'countPokes3': {'timestamp': 2139013, 'value': 4},\n",
       " 'countRewards3': {'timestamp': 2139014, 'value': 1},\n",
       " 'portProbs3': {'timestamp': 2139014, 'value': 50}}"
      ]
     },
     "metadata": {},
     "output_type": "display_data"
    },
    {
     "data": {
      "text/plain": [
       "{'contingency': {'timestamp': 2146648, 'value': 1},\n",
       " 'trialThresh': {'timestamp': 2146649, 'value': 69},\n",
       " 'totalPokes': {'timestamp': 2146649, 'value': 67},\n",
       " 'totalRewards': {'timestamp': 2146650, 'value': 32},\n",
       " 'ifDelay': {'timestamp': 2146650, 'value': 0},\n",
       " 'countPokes1': {'timestamp': 2146651, 'value': 33},\n",
       " 'countRewards1': {'timestamp': 2146651, 'value': 31},\n",
       " 'portProbs1': {'timestamp': 2146652, 'value': 90},\n",
       " 'countPokes2': {'timestamp': 2146652, 'value': 30},\n",
       " 'countRewards2': {'timestamp': 2146653, 'value': 0},\n",
       " 'portProbs2': {'timestamp': 2146653, 'value': 10},\n",
       " 'countPokes3': {'timestamp': 2146674, 'value': 4},\n",
       " 'countRewards3': {'timestamp': 2146675, 'value': 1},\n",
       " 'portProbs3': {'timestamp': 2146675, 'value': 50}}"
      ]
     },
     "metadata": {},
     "output_type": "display_data"
    },
    {
     "data": {
      "text/plain": [
       "{'contingency': {'timestamp': 2184772, 'value': 1},\n",
       " 'trialThresh': {'timestamp': 2184773, 'value': 69},\n",
       " 'totalPokes': {'timestamp': 2184773, 'value': 68},\n",
       " 'totalRewards': {'timestamp': 2184774, 'value': 33},\n",
       " 'ifDelay': {'timestamp': 2184774, 'value': 1},\n",
       " 'countPokes1': {'timestamp': 2184775, 'value': 33},\n",
       " 'countRewards1': {'timestamp': 2184775, 'value': 31},\n",
       " 'portProbs1': {'timestamp': 2184776, 'value': 90},\n",
       " 'countPokes2': {'timestamp': 2184776, 'value': 30},\n",
       " 'countRewards2': {'timestamp': 2184777, 'value': 0},\n",
       " 'portProbs2': {'timestamp': 2184777, 'value': 10},\n",
       " 'countPokes3': {'timestamp': 2184798, 'value': 5},\n",
       " 'countRewards3': {'timestamp': 2184799, 'value': 2},\n",
       " 'portProbs3': {'timestamp': 2184799, 'value': 50}}"
      ]
     },
     "metadata": {},
     "output_type": "display_data"
    },
    {
     "data": {
      "text/plain": [
       "{'contingency': {'timestamp': 2193532, 'value': 1},\n",
       " 'trialThresh': {'timestamp': 2193532, 'value': 69},\n",
       " 'totalPokes': {'timestamp': 2193533, 'value': 69},\n",
       " 'totalRewards': {'timestamp': 2193533, 'value': 34},\n",
       " 'ifDelay': {'timestamp': 2193534, 'value': 1},\n",
       " 'countPokes1': {'timestamp': 2193534, 'value': 34},\n",
       " 'countRewards1': {'timestamp': 2193535, 'value': 32},\n",
       " 'portProbs1': {'timestamp': 2193535, 'value': 90},\n",
       " 'countPokes2': {'timestamp': 2193536, 'value': 30},\n",
       " 'countRewards2': {'timestamp': 2193536, 'value': 0},\n",
       " 'portProbs2': {'timestamp': 2193537, 'value': 10},\n",
       " 'countPokes3': {'timestamp': 2193558, 'value': 5},\n",
       " 'countRewards3': {'timestamp': 2193558, 'value': 2},\n",
       " 'portProbs3': {'timestamp': 2193559, 'value': 50}}"
      ]
     },
     "metadata": {},
     "output_type": "display_data"
    },
    {
     "data": {
      "text/plain": [
       "{'contingency': {'timestamp': 2237725, 'value': 2},\n",
       " 'trialThresh': {'timestamp': 2237725, 'value': 69},\n",
       " 'totalPokes': {'timestamp': 2237726, 'value': 1},\n",
       " 'totalRewards': {'timestamp': 2237726, 'value': 1},\n",
       " 'ifDelay': {'timestamp': 2237727, 'value': 0},\n",
       " 'countPokes1': {'timestamp': 2237727, 'value': 0},\n",
       " 'countRewards1': {'timestamp': 2237727, 'value': 0},\n",
       " 'portProbs1': {'timestamp': 2237728, 'value': 10},\n",
       " 'countPokes2': {'timestamp': 2237728, 'value': 0},\n",
       " 'countRewards2': {'timestamp': 2237729, 'value': 0},\n",
       " 'portProbs2': {'timestamp': 2237729, 'value': 90},\n",
       " 'countPokes3': {'timestamp': 2237750, 'value': 1},\n",
       " 'countRewards3': {'timestamp': 2237751, 'value': 1},\n",
       " 'portProbs3': {'timestamp': 2237751, 'value': 50}}"
      ]
     },
     "metadata": {},
     "output_type": "display_data"
    },
    {
     "data": {
      "text/plain": [
       "{'contingency': {'timestamp': 2246423, 'value': 2},\n",
       " 'trialThresh': {'timestamp': 2246423, 'value': 69},\n",
       " 'totalPokes': {'timestamp': 2246424, 'value': 2},\n",
       " 'totalRewards': {'timestamp': 2246424, 'value': 1},\n",
       " 'ifDelay': {'timestamp': 2246425, 'value': 0},\n",
       " 'countPokes1': {'timestamp': 2246425, 'value': 1},\n",
       " 'countRewards1': {'timestamp': 2246426, 'value': 0},\n",
       " 'portProbs1': {'timestamp': 2246426, 'value': 10},\n",
       " 'countPokes2': {'timestamp': 2246427, 'value': 0},\n",
       " 'countRewards2': {'timestamp': 2246427, 'value': 0},\n",
       " 'portProbs2': {'timestamp': 2246428, 'value': 90},\n",
       " 'countPokes3': {'timestamp': 2246448, 'value': 1},\n",
       " 'countRewards3': {'timestamp': 2246449, 'value': 1},\n",
       " 'portProbs3': {'timestamp': 2246449, 'value': 50}}"
      ]
     },
     "metadata": {},
     "output_type": "display_data"
    },
    {
     "data": {
      "text/plain": [
       "{'contingency': {'timestamp': 2255350, 'value': 2},\n",
       " 'trialThresh': {'timestamp': 2255350, 'value': 69},\n",
       " 'totalPokes': {'timestamp': 2255351, 'value': 3},\n",
       " 'totalRewards': {'timestamp': 2255351, 'value': 1},\n",
       " 'ifDelay': {'timestamp': 2255352, 'value': 0},\n",
       " 'countPokes1': {'timestamp': 2255352, 'value': 1},\n",
       " 'countRewards1': {'timestamp': 2255352, 'value': 0},\n",
       " 'portProbs1': {'timestamp': 2255353, 'value': 10},\n",
       " 'countPokes2': {'timestamp': 2255353, 'value': 0},\n",
       " 'countRewards2': {'timestamp': 2255354, 'value': 0},\n",
       " 'portProbs2': {'timestamp': 2255354, 'value': 90},\n",
       " 'countPokes3': {'timestamp': 2255375, 'value': 2},\n",
       " 'countRewards3': {'timestamp': 2255376, 'value': 1},\n",
       " 'portProbs3': {'timestamp': 2255376, 'value': 50}}"
      ]
     },
     "metadata": {},
     "output_type": "display_data"
    },
    {
     "data": {
      "text/plain": [
       "{'contingency': {'timestamp': 2263379, 'value': 2},\n",
       " 'trialThresh': {'timestamp': 2263380, 'value': 69},\n",
       " 'totalPokes': {'timestamp': 2263380, 'value': 4},\n",
       " 'totalRewards': {'timestamp': 2263381, 'value': 1},\n",
       " 'ifDelay': {'timestamp': 2263381, 'value': 0},\n",
       " 'countPokes1': {'timestamp': 2263382, 'value': 2},\n",
       " 'countRewards1': {'timestamp': 2263382, 'value': 0},\n",
       " 'portProbs1': {'timestamp': 2263383, 'value': 10},\n",
       " 'countPokes2': {'timestamp': 2263383, 'value': 0},\n",
       " 'countRewards2': {'timestamp': 2263384, 'value': 0},\n",
       " 'portProbs2': {'timestamp': 2263384, 'value': 90},\n",
       " 'countPokes3': {'timestamp': 2263405, 'value': 2},\n",
       " 'countRewards3': {'timestamp': 2263405, 'value': 1},\n",
       " 'portProbs3': {'timestamp': 2263406, 'value': 50}}"
      ]
     },
     "metadata": {},
     "output_type": "display_data"
    },
    {
     "data": {
      "text/plain": [
       "{'contingency': {'timestamp': 2272519, 'value': 2},\n",
       " 'trialThresh': {'timestamp': 2272519, 'value': 69},\n",
       " 'totalPokes': {'timestamp': 2272520, 'value': 5},\n",
       " 'totalRewards': {'timestamp': 2272520, 'value': 1},\n",
       " 'ifDelay': {'timestamp': 2272521, 'value': 0},\n",
       " 'countPokes1': {'timestamp': 2272521, 'value': 2},\n",
       " 'countRewards1': {'timestamp': 2272522, 'value': 0},\n",
       " 'portProbs1': {'timestamp': 2272522, 'value': 10},\n",
       " 'countPokes2': {'timestamp': 2272523, 'value': 0},\n",
       " 'countRewards2': {'timestamp': 2272523, 'value': 0},\n",
       " 'portProbs2': {'timestamp': 2272524, 'value': 90},\n",
       " 'countPokes3': {'timestamp': 2272545, 'value': 3},\n",
       " 'countRewards3': {'timestamp': 2272545, 'value': 1},\n",
       " 'portProbs3': {'timestamp': 2272546, 'value': 50}}"
      ]
     },
     "metadata": {},
     "output_type": "display_data"
    },
    {
     "data": {
      "text/plain": [
       "{'contingency': {'timestamp': 2280569, 'value': 2},\n",
       " 'trialThresh': {'timestamp': 2280569, 'value': 69},\n",
       " 'totalPokes': {'timestamp': 2280570, 'value': 6},\n",
       " 'totalRewards': {'timestamp': 2280570, 'value': 1},\n",
       " 'ifDelay': {'timestamp': 2280571, 'value': 0},\n",
       " 'countPokes1': {'timestamp': 2280571, 'value': 3},\n",
       " 'countRewards1': {'timestamp': 2280572, 'value': 0},\n",
       " 'portProbs1': {'timestamp': 2280572, 'value': 10},\n",
       " 'countPokes2': {'timestamp': 2280573, 'value': 0},\n",
       " 'countRewards2': {'timestamp': 2280573, 'value': 0},\n",
       " 'portProbs2': {'timestamp': 2280574, 'value': 90},\n",
       " 'countPokes3': {'timestamp': 2280595, 'value': 3},\n",
       " 'countRewards3': {'timestamp': 2280595, 'value': 1},\n",
       " 'portProbs3': {'timestamp': 2280596, 'value': 50}}"
      ]
     },
     "metadata": {},
     "output_type": "display_data"
    },
    {
     "data": {
      "text/plain": [
       "{'contingency': {'timestamp': 2301147, 'value': 2},\n",
       " 'trialThresh': {'timestamp': 2301148, 'value': 69},\n",
       " 'totalPokes': {'timestamp': 2301148, 'value': 7},\n",
       " 'totalRewards': {'timestamp': 2301149, 'value': 2},\n",
       " 'ifDelay': {'timestamp': 2301149, 'value': 0},\n",
       " 'countPokes1': {'timestamp': 2301150, 'value': 3},\n",
       " 'countRewards1': {'timestamp': 2301150, 'value': 0},\n",
       " 'portProbs1': {'timestamp': 2301151, 'value': 10},\n",
       " 'countPokes2': {'timestamp': 2301151, 'value': 1},\n",
       " 'countRewards2': {'timestamp': 2301152, 'value': 1},\n",
       " 'portProbs2': {'timestamp': 2301152, 'value': 90},\n",
       " 'countPokes3': {'timestamp': 2301173, 'value': 3},\n",
       " 'countRewards3': {'timestamp': 2301174, 'value': 1},\n",
       " 'portProbs3': {'timestamp': 2301174, 'value': 50}}"
      ]
     },
     "metadata": {},
     "output_type": "display_data"
    },
    {
     "data": {
      "text/plain": [
       "{'contingency': {'timestamp': 2310788, 'value': 2},\n",
       " 'trialThresh': {'timestamp': 2310788, 'value': 69},\n",
       " 'totalPokes': {'timestamp': 2310789, 'value': 8},\n",
       " 'totalRewards': {'timestamp': 2310789, 'value': 2},\n",
       " 'ifDelay': {'timestamp': 2310790, 'value': 1},\n",
       " 'countPokes1': {'timestamp': 2310790, 'value': 4},\n",
       " 'countRewards1': {'timestamp': 2310791, 'value': 0},\n",
       " 'portProbs1': {'timestamp': 2310791, 'value': 10},\n",
       " 'countPokes2': {'timestamp': 2310792, 'value': 1},\n",
       " 'countRewards2': {'timestamp': 2310792, 'value': 1},\n",
       " 'portProbs2': {'timestamp': 2310792, 'value': 90},\n",
       " 'countPokes3': {'timestamp': 2310813, 'value': 3},\n",
       " 'countRewards3': {'timestamp': 2310814, 'value': 1},\n",
       " 'portProbs3': {'timestamp': 2310814, 'value': 50}}"
      ]
     },
     "metadata": {},
     "output_type": "display_data"
    },
    {
     "data": {
      "text/plain": [
       "{'contingency': {'timestamp': 2319858, 'value': 2},\n",
       " 'trialThresh': {'timestamp': 2319858, 'value': 69},\n",
       " 'totalPokes': {'timestamp': 2319859, 'value': 9},\n",
       " 'totalRewards': {'timestamp': 2319859, 'value': 2},\n",
       " 'ifDelay': {'timestamp': 2319860, 'value': 1},\n",
       " 'countPokes1': {'timestamp': 2319860, 'value': 4},\n",
       " 'countRewards1': {'timestamp': 2319860, 'value': 0},\n",
       " 'portProbs1': {'timestamp': 2319861, 'value': 10},\n",
       " 'countPokes2': {'timestamp': 2319861, 'value': 1},\n",
       " 'countRewards2': {'timestamp': 2319862, 'value': 1},\n",
       " 'portProbs2': {'timestamp': 2319862, 'value': 90},\n",
       " 'countPokes3': {'timestamp': 2319883, 'value': 4},\n",
       " 'countRewards3': {'timestamp': 2319884, 'value': 1},\n",
       " 'portProbs3': {'timestamp': 2319884, 'value': 50}}"
      ]
     },
     "metadata": {},
     "output_type": "display_data"
    },
    {
     "data": {
      "text/plain": [
       "{'contingency': {'timestamp': 2327728, 'value': 2},\n",
       " 'trialThresh': {'timestamp': 2327728, 'value': 69},\n",
       " 'totalPokes': {'timestamp': 2327729, 'value': 10},\n",
       " 'totalRewards': {'timestamp': 2327729, 'value': 2},\n",
       " 'ifDelay': {'timestamp': 2327730, 'value': 1},\n",
       " 'countPokes1': {'timestamp': 2327730, 'value': 5},\n",
       " 'countRewards1': {'timestamp': 2327730, 'value': 0},\n",
       " 'portProbs1': {'timestamp': 2327731, 'value': 10},\n",
       " 'countPokes2': {'timestamp': 2327731, 'value': 1},\n",
       " 'countRewards2': {'timestamp': 2327732, 'value': 1},\n",
       " 'portProbs2': {'timestamp': 2327732, 'value': 90},\n",
       " 'countPokes3': {'timestamp': 2327753, 'value': 4},\n",
       " 'countRewards3': {'timestamp': 2327754, 'value': 1},\n",
       " 'portProbs3': {'timestamp': 2327754, 'value': 50}}"
      ]
     },
     "metadata": {},
     "output_type": "display_data"
    },
    {
     "data": {
      "text/plain": [
       "{'contingency': {'timestamp': 2335497, 'value': 2},\n",
       " 'trialThresh': {'timestamp': 2335498, 'value': 69},\n",
       " 'totalPokes': {'timestamp': 2335498, 'value': 11},\n",
       " 'totalRewards': {'timestamp': 2335499, 'value': 3},\n",
       " 'ifDelay': {'timestamp': 2335499, 'value': 1},\n",
       " 'countPokes1': {'timestamp': 2335500, 'value': 5},\n",
       " 'countRewards1': {'timestamp': 2335500, 'value': 0},\n",
       " 'portProbs1': {'timestamp': 2335501, 'value': 10},\n",
       " 'countPokes2': {'timestamp': 2335501, 'value': 2},\n",
       " 'countRewards2': {'timestamp': 2335502, 'value': 2},\n",
       " 'portProbs2': {'timestamp': 2335502, 'value': 90},\n",
       " 'countPokes3': {'timestamp': 2335523, 'value': 4},\n",
       " 'countRewards3': {'timestamp': 2335524, 'value': 1},\n",
       " 'portProbs3': {'timestamp': 2335524, 'value': 50}}"
      ]
     },
     "metadata": {},
     "output_type": "display_data"
    },
    {
     "data": {
      "text/plain": [
       "{'contingency': {'timestamp': 2361924, 'value': 2},\n",
       " 'trialThresh': {'timestamp': 2361925, 'value': 69},\n",
       " 'totalPokes': {'timestamp': 2361925, 'value': 12},\n",
       " 'totalRewards': {'timestamp': 2361926, 'value': 3},\n",
       " 'ifDelay': {'timestamp': 2361926, 'value': 0},\n",
       " 'countPokes1': {'timestamp': 2361927, 'value': 6},\n",
       " 'countRewards1': {'timestamp': 2361927, 'value': 0},\n",
       " 'portProbs1': {'timestamp': 2361928, 'value': 10},\n",
       " 'countPokes2': {'timestamp': 2361928, 'value': 2},\n",
       " 'countRewards2': {'timestamp': 2361928, 'value': 2},\n",
       " 'portProbs2': {'timestamp': 2361929, 'value': 90},\n",
       " 'countPokes3': {'timestamp': 2361950, 'value': 4},\n",
       " 'countRewards3': {'timestamp': 2361950, 'value': 1},\n",
       " 'portProbs3': {'timestamp': 2361951, 'value': 50}}"
      ]
     },
     "metadata": {},
     "output_type": "display_data"
    },
    {
     "data": {
      "text/plain": [
       "{'contingency': {'timestamp': 2370027, 'value': 2},\n",
       " 'trialThresh': {'timestamp': 2370027, 'value': 69},\n",
       " 'totalPokes': {'timestamp': 2370028, 'value': 13},\n",
       " 'totalRewards': {'timestamp': 2370028, 'value': 4},\n",
       " 'ifDelay': {'timestamp': 2370029, 'value': 0},\n",
       " 'countPokes1': {'timestamp': 2370029, 'value': 6},\n",
       " 'countRewards1': {'timestamp': 2370030, 'value': 0},\n",
       " 'portProbs1': {'timestamp': 2370030, 'value': 10},\n",
       " 'countPokes2': {'timestamp': 2370031, 'value': 3},\n",
       " 'countRewards2': {'timestamp': 2370031, 'value': 3},\n",
       " 'portProbs2': {'timestamp': 2370052, 'value': 90},\n",
       " 'countPokes3': {'timestamp': 2370053, 'value': 4},\n",
       " 'countRewards3': {'timestamp': 2370053, 'value': 1},\n",
       " 'portProbs3': {'timestamp': 2370054, 'value': 50}}"
      ]
     },
     "metadata": {},
     "output_type": "display_data"
    },
    {
     "data": {
      "text/plain": [
       "{'contingency': {'timestamp': 2389500, 'value': 2},\n",
       " 'trialThresh': {'timestamp': 2389501, 'value': 69},\n",
       " 'totalPokes': {'timestamp': 2389501, 'value': 14},\n",
       " 'totalRewards': {'timestamp': 2389502, 'value': 4},\n",
       " 'ifDelay': {'timestamp': 2389502, 'value': 0},\n",
       " 'countPokes1': {'timestamp': 2389503, 'value': 7},\n",
       " 'countRewards1': {'timestamp': 2389503, 'value': 0},\n",
       " 'portProbs1': {'timestamp': 2389504, 'value': 10},\n",
       " 'countPokes2': {'timestamp': 2389504, 'value': 3},\n",
       " 'countRewards2': {'timestamp': 2389505, 'value': 3},\n",
       " 'portProbs2': {'timestamp': 2389505, 'value': 90},\n",
       " 'countPokes3': {'timestamp': 2389526, 'value': 4},\n",
       " 'countRewards3': {'timestamp': 2389526, 'value': 1},\n",
       " 'portProbs3': {'timestamp': 2389527, 'value': 50}}"
      ]
     },
     "metadata": {},
     "output_type": "display_data"
    },
    {
     "data": {
      "text/plain": [
       "{'contingency': {'timestamp': 2398137, 'value': 2},\n",
       " 'trialThresh': {'timestamp': 2398137, 'value': 69},\n",
       " 'totalPokes': {'timestamp': 2398138, 'value': 15},\n",
       " 'totalRewards': {'timestamp': 2398138, 'value': 5},\n",
       " 'ifDelay': {'timestamp': 2398139, 'value': 0},\n",
       " 'countPokes1': {'timestamp': 2398139, 'value': 7},\n",
       " 'countRewards1': {'timestamp': 2398140, 'value': 0},\n",
       " 'portProbs1': {'timestamp': 2398140, 'value': 10},\n",
       " 'countPokes2': {'timestamp': 2398141, 'value': 4},\n",
       " 'countRewards2': {'timestamp': 2398141, 'value': 4},\n",
       " 'portProbs2': {'timestamp': 2398141, 'value': 90},\n",
       " 'countPokes3': {'timestamp': 2398163, 'value': 4},\n",
       " 'countRewards3': {'timestamp': 2398163, 'value': 1},\n",
       " 'portProbs3': {'timestamp': 2398164, 'value': 50}}"
      ]
     },
     "metadata": {},
     "output_type": "display_data"
    },
    {
     "data": {
      "text/plain": [
       "{'contingency': {'timestamp': 2420295, 'value': 2},\n",
       " 'trialThresh': {'timestamp': 2420296, 'value': 69},\n",
       " 'totalPokes': {'timestamp': 2420296, 'value': 16},\n",
       " 'totalRewards': {'timestamp': 2420297, 'value': 5},\n",
       " 'ifDelay': {'timestamp': 2420297, 'value': 1},\n",
       " 'countPokes1': {'timestamp': 2420298, 'value': 8},\n",
       " 'countRewards1': {'timestamp': 2420298, 'value': 0},\n",
       " 'portProbs1': {'timestamp': 2420299, 'value': 10},\n",
       " 'countPokes2': {'timestamp': 2420299, 'value': 4},\n",
       " 'countRewards2': {'timestamp': 2420300, 'value': 4},\n",
       " 'portProbs2': {'timestamp': 2420300, 'value': 90},\n",
       " 'countPokes3': {'timestamp': 2420321, 'value': 4},\n",
       " 'countRewards3': {'timestamp': 2420322, 'value': 1},\n",
       " 'portProbs3': {'timestamp': 2420322, 'value': 50}}"
      ]
     },
     "metadata": {},
     "output_type": "display_data"
    },
    {
     "data": {
      "text/plain": [
       "{'contingency': {'timestamp': 2427286, 'value': 2},\n",
       " 'trialThresh': {'timestamp': 2427286, 'value': 69},\n",
       " 'totalPokes': {'timestamp': 2427287, 'value': 17},\n",
       " 'totalRewards': {'timestamp': 2427287, 'value': 6},\n",
       " 'ifDelay': {'timestamp': 2427287, 'value': 1},\n",
       " 'countPokes1': {'timestamp': 2427288, 'value': 8},\n",
       " 'countRewards1': {'timestamp': 2427288, 'value': 0},\n",
       " 'portProbs1': {'timestamp': 2427289, 'value': 10},\n",
       " 'countPokes2': {'timestamp': 2427289, 'value': 5},\n",
       " 'countRewards2': {'timestamp': 2427290, 'value': 5},\n",
       " 'portProbs2': {'timestamp': 2427290, 'value': 90},\n",
       " 'countPokes3': {'timestamp': 2427311, 'value': 4},\n",
       " 'countRewards3': {'timestamp': 2427312, 'value': 1},\n",
       " 'portProbs3': {'timestamp': 2427312, 'value': 50}}"
      ]
     },
     "metadata": {},
     "output_type": "display_data"
    },
    {
     "data": {
      "text/plain": [
       "{'contingency': {'timestamp': 2449327, 'value': 2},\n",
       " 'trialThresh': {'timestamp': 2449328, 'value': 69},\n",
       " 'totalPokes': {'timestamp': 2449328, 'value': 18},\n",
       " 'totalRewards': {'timestamp': 2449329, 'value': 6},\n",
       " 'ifDelay': {'timestamp': 2449329, 'value': 0},\n",
       " 'countPokes1': {'timestamp': 2449329, 'value': 9},\n",
       " 'countRewards1': {'timestamp': 2449330, 'value': 0},\n",
       " 'portProbs1': {'timestamp': 2449330, 'value': 10},\n",
       " 'countPokes2': {'timestamp': 2449331, 'value': 5},\n",
       " 'countRewards2': {'timestamp': 2449331, 'value': 5},\n",
       " 'portProbs2': {'timestamp': 2449332, 'value': 90},\n",
       " 'countPokes3': {'timestamp': 2449353, 'value': 4},\n",
       " 'countRewards3': {'timestamp': 2449353, 'value': 1},\n",
       " 'portProbs3': {'timestamp': 2449354, 'value': 50}}"
      ]
     },
     "metadata": {},
     "output_type": "display_data"
    },
    {
     "data": {
      "text/plain": [
       "{'contingency': {'timestamp': 2457633, 'value': 2},\n",
       " 'trialThresh': {'timestamp': 2457634, 'value': 69},\n",
       " 'totalPokes': {'timestamp': 2457634, 'value': 19},\n",
       " 'totalRewards': {'timestamp': 2457635, 'value': 7},\n",
       " 'ifDelay': {'timestamp': 2457635, 'value': 0},\n",
       " 'countPokes1': {'timestamp': 2457635, 'value': 9},\n",
       " 'countRewards1': {'timestamp': 2457636, 'value': 0},\n",
       " 'portProbs1': {'timestamp': 2457636, 'value': 10},\n",
       " 'countPokes2': {'timestamp': 2457637, 'value': 6},\n",
       " 'countRewards2': {'timestamp': 2457637, 'value': 6},\n",
       " 'portProbs2': {'timestamp': 2457658, 'value': 90},\n",
       " 'countPokes3': {'timestamp': 2457659, 'value': 4},\n",
       " 'countRewards3': {'timestamp': 2457659, 'value': 1},\n",
       " 'portProbs3': {'timestamp': 2457660, 'value': 50}}"
      ]
     },
     "metadata": {},
     "output_type": "display_data"
    },
    {
     "data": {
      "text/plain": [
       "{'contingency': {'timestamp': 2483718, 'value': 2},\n",
       " 'trialThresh': {'timestamp': 2483718, 'value': 69},\n",
       " 'totalPokes': {'timestamp': 2483719, 'value': 20},\n",
       " 'totalRewards': {'timestamp': 2483719, 'value': 7},\n",
       " 'ifDelay': {'timestamp': 2483720, 'value': 1},\n",
       " 'countPokes1': {'timestamp': 2483720, 'value': 9},\n",
       " 'countRewards1': {'timestamp': 2483721, 'value': 0},\n",
       " 'portProbs1': {'timestamp': 2483721, 'value': 10},\n",
       " 'countPokes2': {'timestamp': 2483722, 'value': 6},\n",
       " 'countRewards2': {'timestamp': 2483722, 'value': 6},\n",
       " 'portProbs2': {'timestamp': 2483743, 'value': 90},\n",
       " 'countPokes3': {'timestamp': 2483744, 'value': 5},\n",
       " 'countRewards3': {'timestamp': 2483744, 'value': 1},\n",
       " 'portProbs3': {'timestamp': 2483745, 'value': 50}}"
      ]
     },
     "metadata": {},
     "output_type": "display_data"
    },
    {
     "data": {
      "text/plain": [
       "{'contingency': {'timestamp': 2493519, 'value': 2},\n",
       " 'trialThresh': {'timestamp': 2493520, 'value': 69},\n",
       " 'totalPokes': {'timestamp': 2493520, 'value': 21},\n",
       " 'totalRewards': {'timestamp': 2493521, 'value': 7},\n",
       " 'ifDelay': {'timestamp': 2493521, 'value': 1},\n",
       " 'countPokes1': {'timestamp': 2493521, 'value': 10},\n",
       " 'countRewards1': {'timestamp': 2493522, 'value': 0},\n",
       " 'portProbs1': {'timestamp': 2493522, 'value': 10},\n",
       " 'countPokes2': {'timestamp': 2493523, 'value': 6},\n",
       " 'countRewards2': {'timestamp': 2493523, 'value': 6},\n",
       " 'portProbs2': {'timestamp': 2493524, 'value': 90},\n",
       " 'countPokes3': {'timestamp': 2493545, 'value': 5},\n",
       " 'countRewards3': {'timestamp': 2493545, 'value': 1},\n",
       " 'portProbs3': {'timestamp': 2493546, 'value': 50}}"
      ]
     },
     "metadata": {},
     "output_type": "display_data"
    },
    {
     "data": {
      "text/plain": [
       "{'contingency': {'timestamp': 2500659, 'value': 2},\n",
       " 'trialThresh': {'timestamp': 2500660, 'value': 69},\n",
       " 'totalPokes': {'timestamp': 2500660, 'value': 22},\n",
       " 'totalRewards': {'timestamp': 2500661, 'value': 8},\n",
       " 'ifDelay': {'timestamp': 2500661, 'value': 1},\n",
       " 'countPokes1': {'timestamp': 2500662, 'value': 10},\n",
       " 'countRewards1': {'timestamp': 2500662, 'value': 0},\n",
       " 'portProbs1': {'timestamp': 2500663, 'value': 10},\n",
       " 'countPokes2': {'timestamp': 2500663, 'value': 7},\n",
       " 'countRewards2': {'timestamp': 2500664, 'value': 7},\n",
       " 'portProbs2': {'timestamp': 2500664, 'value': 90},\n",
       " 'countPokes3': {'timestamp': 2500685, 'value': 5},\n",
       " 'countRewards3': {'timestamp': 2500686, 'value': 1},\n",
       " 'portProbs3': {'timestamp': 2500686, 'value': 50}}"
      ]
     },
     "metadata": {},
     "output_type": "display_data"
    },
    {
     "data": {
      "text/plain": [
       "{'contingency': {'timestamp': 2523731, 'value': 2},\n",
       " 'trialThresh': {'timestamp': 2523732, 'value': 69},\n",
       " 'totalPokes': {'timestamp': 2523732, 'value': 23},\n",
       " 'totalRewards': {'timestamp': 2523733, 'value': 8},\n",
       " 'ifDelay': {'timestamp': 2523733, 'value': 1},\n",
       " 'countPokes1': {'timestamp': 2523734, 'value': 11},\n",
       " 'countRewards1': {'timestamp': 2523734, 'value': 0},\n",
       " 'portProbs1': {'timestamp': 2523735, 'value': 10},\n",
       " 'countPokes2': {'timestamp': 2523735, 'value': 7},\n",
       " 'countRewards2': {'timestamp': 2523736, 'value': 7},\n",
       " 'portProbs2': {'timestamp': 2523736, 'value': 90},\n",
       " 'countPokes3': {'timestamp': 2523757, 'value': 5},\n",
       " 'countRewards3': {'timestamp': 2523758, 'value': 1},\n",
       " 'portProbs3': {'timestamp': 2523758, 'value': 50}}"
      ]
     },
     "metadata": {},
     "output_type": "display_data"
    },
    {
     "data": {
      "text/plain": [
       "{'contingency': {'timestamp': 2531681, 'value': 2},\n",
       " 'trialThresh': {'timestamp': 2531682, 'value': 69},\n",
       " 'totalPokes': {'timestamp': 2531682, 'value': 24},\n",
       " 'totalRewards': {'timestamp': 2531683, 'value': 9},\n",
       " 'ifDelay': {'timestamp': 2531683, 'value': 1},\n",
       " 'countPokes1': {'timestamp': 2531684, 'value': 11},\n",
       " 'countRewards1': {'timestamp': 2531684, 'value': 0},\n",
       " 'portProbs1': {'timestamp': 2531685, 'value': 10},\n",
       " 'countPokes2': {'timestamp': 2531685, 'value': 8},\n",
       " 'countRewards2': {'timestamp': 2531686, 'value': 8},\n",
       " 'portProbs2': {'timestamp': 2531686, 'value': 90},\n",
       " 'countPokes3': {'timestamp': 2531707, 'value': 5},\n",
       " 'countRewards3': {'timestamp': 2531707, 'value': 1},\n",
       " 'portProbs3': {'timestamp': 2531708, 'value': 50}}"
      ]
     },
     "metadata": {},
     "output_type": "display_data"
    },
    {
     "data": {
      "text/plain": [
       "{'contingency': {'timestamp': 2576901, 'value': 2},\n",
       " 'trialThresh': {'timestamp': 2576901, 'value': 69},\n",
       " 'totalPokes': {'timestamp': 2576902, 'value': 25},\n",
       " 'totalRewards': {'timestamp': 2576902, 'value': 10},\n",
       " 'ifDelay': {'timestamp': 2576903, 'value': 0},\n",
       " 'countPokes1': {'timestamp': 2576903, 'value': 11},\n",
       " 'countRewards1': {'timestamp': 2576904, 'value': 0},\n",
       " 'portProbs1': {'timestamp': 2576904, 'value': 10},\n",
       " 'countPokes2': {'timestamp': 2576905, 'value': 8},\n",
       " 'countRewards2': {'timestamp': 2576905, 'value': 8},\n",
       " 'portProbs2': {'timestamp': 2576906, 'value': 90},\n",
       " 'countPokes3': {'timestamp': 2576927, 'value': 6},\n",
       " 'countRewards3': {'timestamp': 2576927, 'value': 2},\n",
       " 'portProbs3': {'timestamp': 2576928, 'value': 50}}"
      ]
     },
     "metadata": {},
     "output_type": "display_data"
    },
    {
     "data": {
      "text/plain": [
       "{'contingency': {'timestamp': 2586378, 'value': 2},\n",
       " 'trialThresh': {'timestamp': 2586379, 'value': 69},\n",
       " 'totalPokes': {'timestamp': 2586379, 'value': 26},\n",
       " 'totalRewards': {'timestamp': 2586380, 'value': 10},\n",
       " 'ifDelay': {'timestamp': 2586380, 'value': 1},\n",
       " 'countPokes1': {'timestamp': 2586381, 'value': 12},\n",
       " 'countRewards1': {'timestamp': 2586381, 'value': 0},\n",
       " 'portProbs1': {'timestamp': 2586382, 'value': 10},\n",
       " 'countPokes2': {'timestamp': 2586382, 'value': 8},\n",
       " 'countRewards2': {'timestamp': 2586383, 'value': 8},\n",
       " 'portProbs2': {'timestamp': 2586383, 'value': 90},\n",
       " 'countPokes3': {'timestamp': 2586404, 'value': 6},\n",
       " 'countRewards3': {'timestamp': 2586405, 'value': 2},\n",
       " 'portProbs3': {'timestamp': 2586405, 'value': 50}}"
      ]
     },
     "metadata": {},
     "output_type": "display_data"
    },
    {
     "data": {
      "text/plain": [
       "{'contingency': {'timestamp': 2594189, 'value': 2},\n",
       " 'trialThresh': {'timestamp': 2594190, 'value': 69},\n",
       " 'totalPokes': {'timestamp': 2594190, 'value': 27},\n",
       " 'totalRewards': {'timestamp': 2594191, 'value': 10},\n",
       " 'ifDelay': {'timestamp': 2594191, 'value': 1},\n",
       " 'countPokes1': {'timestamp': 2594192, 'value': 12},\n",
       " 'countRewards1': {'timestamp': 2594192, 'value': 0},\n",
       " 'portProbs1': {'timestamp': 2594193, 'value': 10},\n",
       " 'countPokes2': {'timestamp': 2594193, 'value': 9},\n",
       " 'countRewards2': {'timestamp': 2594194, 'value': 8},\n",
       " 'portProbs2': {'timestamp': 2594194, 'value': 90},\n",
       " 'countPokes3': {'timestamp': 2594215, 'value': 6},\n",
       " 'countRewards3': {'timestamp': 2594216, 'value': 2},\n",
       " 'portProbs3': {'timestamp': 2594216, 'value': 50}}"
      ]
     },
     "metadata": {},
     "output_type": "display_data"
    },
    {
     "data": {
      "text/plain": [
       "{'contingency': {'timestamp': 2602050, 'value': 2},\n",
       " 'trialThresh': {'timestamp': 2602051, 'value': 69},\n",
       " 'totalPokes': {'timestamp': 2602051, 'value': 28},\n",
       " 'totalRewards': {'timestamp': 2602052, 'value': 10},\n",
       " 'ifDelay': {'timestamp': 2602052, 'value': 1},\n",
       " 'countPokes1': {'timestamp': 2602053, 'value': 13},\n",
       " 'countRewards1': {'timestamp': 2602053, 'value': 0},\n",
       " 'portProbs1': {'timestamp': 2602054, 'value': 10},\n",
       " 'countPokes2': {'timestamp': 2602054, 'value': 9},\n",
       " 'countRewards2': {'timestamp': 2602055, 'value': 8},\n",
       " 'portProbs2': {'timestamp': 2602055, 'value': 90},\n",
       " 'countPokes3': {'timestamp': 2602076, 'value': 6},\n",
       " 'countRewards3': {'timestamp': 2602077, 'value': 2},\n",
       " 'portProbs3': {'timestamp': 2602077, 'value': 50}}"
      ]
     },
     "metadata": {},
     "output_type": "display_data"
    },
    {
     "data": {
      "text/plain": [
       "{'contingency': {'timestamp': 2610181, 'value': 2},\n",
       " 'trialThresh': {'timestamp': 2610182, 'value': 69},\n",
       " 'totalPokes': {'timestamp': 2610182, 'value': 29},\n",
       " 'totalRewards': {'timestamp': 2610183, 'value': 11},\n",
       " 'ifDelay': {'timestamp': 2610183, 'value': 1},\n",
       " 'countPokes1': {'timestamp': 2610184, 'value': 13},\n",
       " 'countRewards1': {'timestamp': 2610184, 'value': 0},\n",
       " 'portProbs1': {'timestamp': 2610185, 'value': 10},\n",
       " 'countPokes2': {'timestamp': 2610185, 'value': 10},\n",
       " 'countRewards2': {'timestamp': 2610186, 'value': 9},\n",
       " 'portProbs2': {'timestamp': 2610186, 'value': 90},\n",
       " 'countPokes3': {'timestamp': 2610207, 'value': 6},\n",
       " 'countRewards3': {'timestamp': 2610208, 'value': 2},\n",
       " 'portProbs3': {'timestamp': 2610208, 'value': 50}}"
      ]
     },
     "metadata": {},
     "output_type": "display_data"
    },
    {
     "data": {
      "text/plain": [
       "{'contingency': {'timestamp': 2635327, 'value': 2},\n",
       " 'trialThresh': {'timestamp': 2635328, 'value': 69},\n",
       " 'totalPokes': {'timestamp': 2635328, 'value': 30},\n",
       " 'totalRewards': {'timestamp': 2635329, 'value': 11},\n",
       " 'ifDelay': {'timestamp': 2635329, 'value': 1},\n",
       " 'countPokes1': {'timestamp': 2635330, 'value': 14},\n",
       " 'countRewards1': {'timestamp': 2635330, 'value': 0},\n",
       " 'portProbs1': {'timestamp': 2635331, 'value': 10},\n",
       " 'countPokes2': {'timestamp': 2635331, 'value': 10},\n",
       " 'countRewards2': {'timestamp': 2635331, 'value': 9},\n",
       " 'portProbs2': {'timestamp': 2635332, 'value': 90},\n",
       " 'countPokes3': {'timestamp': 2635353, 'value': 6},\n",
       " 'countRewards3': {'timestamp': 2635354, 'value': 2},\n",
       " 'portProbs3': {'timestamp': 2635354, 'value': 50}}"
      ]
     },
     "metadata": {},
     "output_type": "display_data"
    },
    {
     "data": {
      "text/plain": [
       "{'contingency': {'timestamp': 2643477, 'value': 2},\n",
       " 'trialThresh': {'timestamp': 2643477, 'value': 69},\n",
       " 'totalPokes': {'timestamp': 2643478, 'value': 31},\n",
       " 'totalRewards': {'timestamp': 2643478, 'value': 12},\n",
       " 'ifDelay': {'timestamp': 2643479, 'value': 1},\n",
       " 'countPokes1': {'timestamp': 2643479, 'value': 14},\n",
       " 'countRewards1': {'timestamp': 2643480, 'value': 0},\n",
       " 'portProbs1': {'timestamp': 2643480, 'value': 10},\n",
       " 'countPokes2': {'timestamp': 2643481, 'value': 11},\n",
       " 'countRewards2': {'timestamp': 2643481, 'value': 10},\n",
       " 'portProbs2': {'timestamp': 2643482, 'value': 90},\n",
       " 'countPokes3': {'timestamp': 2643503, 'value': 6},\n",
       " 'countRewards3': {'timestamp': 2643504, 'value': 2},\n",
       " 'portProbs3': {'timestamp': 2643504, 'value': 50}}"
      ]
     },
     "metadata": {},
     "output_type": "display_data"
    },
    {
     "data": {
      "text/plain": [
       "{'contingency': {'timestamp': 2665484, 'value': 2},\n",
       " 'trialThresh': {'timestamp': 2665484, 'value': 69},\n",
       " 'totalPokes': {'timestamp': 2665485, 'value': 32},\n",
       " 'totalRewards': {'timestamp': 2665485, 'value': 12},\n",
       " 'ifDelay': {'timestamp': 2665486, 'value': 0},\n",
       " 'countPokes1': {'timestamp': 2665486, 'value': 15},\n",
       " 'countRewards1': {'timestamp': 2665487, 'value': 0},\n",
       " 'portProbs1': {'timestamp': 2665487, 'value': 10},\n",
       " 'countPokes2': {'timestamp': 2665488, 'value': 11},\n",
       " 'countRewards2': {'timestamp': 2665488, 'value': 10},\n",
       " 'portProbs2': {'timestamp': 2665489, 'value': 90},\n",
       " 'countPokes3': {'timestamp': 2665510, 'value': 6},\n",
       " 'countRewards3': {'timestamp': 2665510, 'value': 2},\n",
       " 'portProbs3': {'timestamp': 2665511, 'value': 50}}"
      ]
     },
     "metadata": {},
     "output_type": "display_data"
    },
    {
     "data": {
      "text/plain": [
       "{'contingency': {'timestamp': 2674648, 'value': 2},\n",
       " 'trialThresh': {'timestamp': 2674649, 'value': 69},\n",
       " 'totalPokes': {'timestamp': 2674649, 'value': 33},\n",
       " 'totalRewards': {'timestamp': 2674650, 'value': 13},\n",
       " 'ifDelay': {'timestamp': 2674650, 'value': 0},\n",
       " 'countPokes1': {'timestamp': 2674651, 'value': 15},\n",
       " 'countRewards1': {'timestamp': 2674651, 'value': 0},\n",
       " 'portProbs1': {'timestamp': 2674652, 'value': 10},\n",
       " 'countPokes2': {'timestamp': 2674652, 'value': 12},\n",
       " 'countRewards2': {'timestamp': 2674653, 'value': 11},\n",
       " 'portProbs2': {'timestamp': 2674674, 'value': 90},\n",
       " 'countPokes3': {'timestamp': 2674674, 'value': 6},\n",
       " 'countRewards3': {'timestamp': 2674675, 'value': 2},\n",
       " 'portProbs3': {'timestamp': 2674675, 'value': 50}}"
      ]
     },
     "metadata": {},
     "output_type": "display_data"
    },
    {
     "data": {
      "text/plain": [
       "{'contingency': {'timestamp': 2701294, 'value': 2},\n",
       " 'trialThresh': {'timestamp': 2701295, 'value': 69},\n",
       " 'totalPokes': {'timestamp': 2701295, 'value': 34},\n",
       " 'totalRewards': {'timestamp': 2701296, 'value': 13},\n",
       " 'ifDelay': {'timestamp': 2701296, 'value': 0},\n",
       " 'countPokes1': {'timestamp': 2701296, 'value': 15},\n",
       " 'countRewards1': {'timestamp': 2701297, 'value': 0},\n",
       " 'portProbs1': {'timestamp': 2701297, 'value': 10},\n",
       " 'countPokes2': {'timestamp': 2701298, 'value': 12},\n",
       " 'countRewards2': {'timestamp': 2701298, 'value': 11},\n",
       " 'portProbs2': {'timestamp': 2701299, 'value': 90},\n",
       " 'countPokes3': {'timestamp': 2701320, 'value': 7},\n",
       " 'countRewards3': {'timestamp': 2701321, 'value': 2},\n",
       " 'portProbs3': {'timestamp': 2701321, 'value': 50}}"
      ]
     },
     "metadata": {},
     "output_type": "display_data"
    },
    {
     "data": {
      "text/plain": [
       "{'contingency': {'timestamp': 2710315, 'value': 2},\n",
       " 'trialThresh': {'timestamp': 2710315, 'value': 69},\n",
       " 'totalPokes': {'timestamp': 2710316, 'value': 35},\n",
       " 'totalRewards': {'timestamp': 2710316, 'value': 13},\n",
       " 'ifDelay': {'timestamp': 2710317, 'value': 0},\n",
       " 'countPokes1': {'timestamp': 2710317, 'value': 16},\n",
       " 'countRewards1': {'timestamp': 2710318, 'value': 0},\n",
       " 'portProbs1': {'timestamp': 2710318, 'value': 10},\n",
       " 'countPokes2': {'timestamp': 2710319, 'value': 12},\n",
       " 'countRewards2': {'timestamp': 2710319, 'value': 11},\n",
       " 'portProbs2': {'timestamp': 2710320, 'value': 90},\n",
       " 'countPokes3': {'timestamp': 2710341, 'value': 7},\n",
       " 'countRewards3': {'timestamp': 2710341, 'value': 2},\n",
       " 'portProbs3': {'timestamp': 2710342, 'value': 50}}"
      ]
     },
     "metadata": {},
     "output_type": "display_data"
    },
    {
     "data": {
      "text/plain": [
       "{'contingency': {'timestamp': 2717469, 'value': 2},\n",
       " 'trialThresh': {'timestamp': 2717469, 'value': 69},\n",
       " 'totalPokes': {'timestamp': 2717469, 'value': 36},\n",
       " 'totalRewards': {'timestamp': 2717470, 'value': 14},\n",
       " 'ifDelay': {'timestamp': 2717470, 'value': 0},\n",
       " 'countPokes1': {'timestamp': 2717471, 'value': 16},\n",
       " 'countRewards1': {'timestamp': 2717471, 'value': 0},\n",
       " 'portProbs1': {'timestamp': 2717472, 'value': 10},\n",
       " 'countPokes2': {'timestamp': 2717472, 'value': 13},\n",
       " 'countRewards2': {'timestamp': 2717473, 'value': 12},\n",
       " 'portProbs2': {'timestamp': 2717494, 'value': 90},\n",
       " 'countPokes3': {'timestamp': 2717494, 'value': 7},\n",
       " 'countRewards3': {'timestamp': 2717495, 'value': 2},\n",
       " 'portProbs3': {'timestamp': 2717495, 'value': 50}}"
      ]
     },
     "metadata": {},
     "output_type": "display_data"
    },
    {
     "data": {
      "text/plain": [
       "{'contingency': {'timestamp': 2761430, 'value': 2},\n",
       " 'trialThresh': {'timestamp': 2761430, 'value': 69},\n",
       " 'totalPokes': {'timestamp': 2761431, 'value': 37},\n",
       " 'totalRewards': {'timestamp': 2761431, 'value': 15},\n",
       " 'ifDelay': {'timestamp': 2761432, 'value': 1},\n",
       " 'countPokes1': {'timestamp': 2761432, 'value': 16},\n",
       " 'countRewards1': {'timestamp': 2761433, 'value': 0},\n",
       " 'portProbs1': {'timestamp': 2761433, 'value': 10},\n",
       " 'countPokes2': {'timestamp': 2761434, 'value': 13},\n",
       " 'countRewards2': {'timestamp': 2761434, 'value': 12},\n",
       " 'portProbs2': {'timestamp': 2761435, 'value': 90},\n",
       " 'countPokes3': {'timestamp': 2761456, 'value': 8},\n",
       " 'countRewards3': {'timestamp': 2761457, 'value': 3},\n",
       " 'portProbs3': {'timestamp': 2761457, 'value': 50}}"
      ]
     },
     "metadata": {},
     "output_type": "display_data"
    },
    {
     "data": {
      "text/plain": [
       "{'contingency': {'timestamp': 2774283, 'value': 2},\n",
       " 'trialThresh': {'timestamp': 2774284, 'value': 69},\n",
       " 'totalPokes': {'timestamp': 2774284, 'value': 38},\n",
       " 'totalRewards': {'timestamp': 2774285, 'value': 15},\n",
       " 'ifDelay': {'timestamp': 2774285, 'value': 1},\n",
       " 'countPokes1': {'timestamp': 2774286, 'value': 17},\n",
       " 'countRewards1': {'timestamp': 2774286, 'value': 0},\n",
       " 'portProbs1': {'timestamp': 2774287, 'value': 10},\n",
       " 'countPokes2': {'timestamp': 2774287, 'value': 13},\n",
       " 'countRewards2': {'timestamp': 2774288, 'value': 12},\n",
       " 'portProbs2': {'timestamp': 2774288, 'value': 90},\n",
       " 'countPokes3': {'timestamp': 2774310, 'value': 8},\n",
       " 'countRewards3': {'timestamp': 2774310, 'value': 3},\n",
       " 'portProbs3': {'timestamp': 2774311, 'value': 50}}"
      ]
     },
     "metadata": {},
     "output_type": "display_data"
    },
    {
     "data": {
      "text/plain": [
       "{'contingency': {'timestamp': 2783096, 'value': 2},\n",
       " 'trialThresh': {'timestamp': 2783096, 'value': 69},\n",
       " 'totalPokes': {'timestamp': 2783097, 'value': 39},\n",
       " 'totalRewards': {'timestamp': 2783097, 'value': 16},\n",
       " 'ifDelay': {'timestamp': 2783098, 'value': 1},\n",
       " 'countPokes1': {'timestamp': 2783098, 'value': 17},\n",
       " 'countRewards1': {'timestamp': 2783099, 'value': 0},\n",
       " 'portProbs1': {'timestamp': 2783099, 'value': 10},\n",
       " 'countPokes2': {'timestamp': 2783100, 'value': 14},\n",
       " 'countRewards2': {'timestamp': 2783100, 'value': 13},\n",
       " 'portProbs2': {'timestamp': 2783101, 'value': 90},\n",
       " 'countPokes3': {'timestamp': 2783122, 'value': 8},\n",
       " 'countRewards3': {'timestamp': 2783122, 'value': 3},\n",
       " 'portProbs3': {'timestamp': 2783123, 'value': 50}}"
      ]
     },
     "metadata": {},
     "output_type": "display_data"
    },
    {
     "data": {
      "text/plain": [
       "{'contingency': {'timestamp': 2807541, 'value': 2},\n",
       " 'trialThresh': {'timestamp': 2807542, 'value': 69},\n",
       " 'totalPokes': {'timestamp': 2807542, 'value': 40},\n",
       " 'totalRewards': {'timestamp': 2807543, 'value': 16},\n",
       " 'ifDelay': {'timestamp': 2807543, 'value': 1},\n",
       " 'countPokes1': {'timestamp': 2807544, 'value': 18},\n",
       " 'countRewards1': {'timestamp': 2807544, 'value': 0},\n",
       " 'portProbs1': {'timestamp': 2807545, 'value': 10},\n",
       " 'countPokes2': {'timestamp': 2807545, 'value': 14},\n",
       " 'countRewards2': {'timestamp': 2807546, 'value': 13},\n",
       " 'portProbs2': {'timestamp': 2807546, 'value': 90},\n",
       " 'countPokes3': {'timestamp': 2807567, 'value': 8},\n",
       " 'countRewards3': {'timestamp': 2807568, 'value': 3},\n",
       " 'portProbs3': {'timestamp': 2807568, 'value': 50}}"
      ]
     },
     "metadata": {},
     "output_type": "display_data"
    },
    {
     "data": {
      "text/plain": [
       "{'contingency': {'timestamp': 2817392, 'value': 2},\n",
       " 'trialThresh': {'timestamp': 2817392, 'value': 69},\n",
       " 'totalPokes': {'timestamp': 2817393, 'value': 41},\n",
       " 'totalRewards': {'timestamp': 2817393, 'value': 17},\n",
       " 'ifDelay': {'timestamp': 2817394, 'value': 1},\n",
       " 'countPokes1': {'timestamp': 2817394, 'value': 18},\n",
       " 'countRewards1': {'timestamp': 2817395, 'value': 0},\n",
       " 'portProbs1': {'timestamp': 2817395, 'value': 10},\n",
       " 'countPokes2': {'timestamp': 2817396, 'value': 15},\n",
       " 'countRewards2': {'timestamp': 2817396, 'value': 14},\n",
       " 'portProbs2': {'timestamp': 2817397, 'value': 90},\n",
       " 'countPokes3': {'timestamp': 2817418, 'value': 8},\n",
       " 'countRewards3': {'timestamp': 2817419, 'value': 3},\n",
       " 'portProbs3': {'timestamp': 2817419, 'value': 50}}"
      ]
     },
     "metadata": {},
     "output_type": "display_data"
    },
    {
     "data": {
      "text/plain": [
       "{'contingency': {'timestamp': 2849993, 'value': 2},\n",
       " 'trialThresh': {'timestamp': 2849994, 'value': 69},\n",
       " 'totalPokes': {'timestamp': 2849994, 'value': 42},\n",
       " 'totalRewards': {'timestamp': 2849995, 'value': 17},\n",
       " 'ifDelay': {'timestamp': 2849995, 'value': 1},\n",
       " 'countPokes1': {'timestamp': 2849996, 'value': 18},\n",
       " 'countRewards1': {'timestamp': 2849996, 'value': 0},\n",
       " 'portProbs1': {'timestamp': 2849997, 'value': 10},\n",
       " 'countPokes2': {'timestamp': 2849997, 'value': 15},\n",
       " 'countRewards2': {'timestamp': 2849998, 'value': 14},\n",
       " 'portProbs2': {'timestamp': 2849998, 'value': 90},\n",
       " 'countPokes3': {'timestamp': 2850020, 'value': 9},\n",
       " 'countRewards3': {'timestamp': 2850020, 'value': 3},\n",
       " 'portProbs3': {'timestamp': 2850020, 'value': 50}}"
      ]
     },
     "metadata": {},
     "output_type": "display_data"
    },
    {
     "data": {
      "text/plain": [
       "{'contingency': {'timestamp': 2859105, 'value': 2},\n",
       " 'trialThresh': {'timestamp': 2859105, 'value': 69},\n",
       " 'totalPokes': {'timestamp': 2859106, 'value': 43},\n",
       " 'totalRewards': {'timestamp': 2859106, 'value': 18},\n",
       " 'ifDelay': {'timestamp': 2859107, 'value': 1},\n",
       " 'countPokes1': {'timestamp': 2859107, 'value': 19},\n",
       " 'countRewards1': {'timestamp': 2859108, 'value': 1},\n",
       " 'portProbs1': {'timestamp': 2859108, 'value': 10},\n",
       " 'countPokes2': {'timestamp': 2859109, 'value': 15},\n",
       " 'countRewards2': {'timestamp': 2859109, 'value': 14},\n",
       " 'portProbs2': {'timestamp': 2859110, 'value': 90},\n",
       " 'countPokes3': {'timestamp': 2859131, 'value': 9},\n",
       " 'countRewards3': {'timestamp': 2859131, 'value': 3},\n",
       " 'portProbs3': {'timestamp': 2859132, 'value': 50}}"
      ]
     },
     "metadata": {},
     "output_type": "display_data"
    },
    {
     "data": {
      "text/plain": [
       "{'contingency': {'timestamp': 2879635, 'value': 2},\n",
       " 'trialThresh': {'timestamp': 2879637, 'value': 69},\n",
       " 'totalPokes': {'timestamp': 2879637, 'value': 44},\n",
       " 'totalRewards': {'timestamp': 2879637, 'value': 19},\n",
       " 'ifDelay': {'timestamp': 2879637, 'value': 1},\n",
       " 'countPokes1': {'timestamp': 2879638, 'value': 19},\n",
       " 'countRewards1': {'timestamp': 2879638, 'value': 1},\n",
       " 'portProbs1': {'timestamp': 2879639, 'value': 10},\n",
       " 'countPokes2': {'timestamp': 2879639, 'value': 16},\n",
       " 'countRewards2': {'timestamp': 2879640, 'value': 15},\n",
       " 'portProbs2': {'timestamp': 2879640, 'value': 90},\n",
       " 'countPokes3': {'timestamp': 2879661, 'value': 9},\n",
       " 'countRewards3': {'timestamp': 2879662, 'value': 3},\n",
       " 'portProbs3': {'timestamp': 2879662, 'value': 50}}"
      ]
     },
     "metadata": {},
     "output_type": "display_data"
    },
    {
     "data": {
      "text/plain": [
       "{'contingency': {'timestamp': 2909261, 'value': 2},\n",
       " 'trialThresh': {'timestamp': 2909261, 'value': 69},\n",
       " 'totalPokes': {'timestamp': 2909262, 'value': 45},\n",
       " 'totalRewards': {'timestamp': 2909262, 'value': 19},\n",
       " 'ifDelay': {'timestamp': 2909263, 'value': 1},\n",
       " 'countPokes1': {'timestamp': 2909263, 'value': 20},\n",
       " 'countRewards1': {'timestamp': 2909264, 'value': 1},\n",
       " 'portProbs1': {'timestamp': 2909264, 'value': 10},\n",
       " 'countPokes2': {'timestamp': 2909265, 'value': 16},\n",
       " 'countRewards2': {'timestamp': 2909265, 'value': 15},\n",
       " 'portProbs2': {'timestamp': 2909266, 'value': 90},\n",
       " 'countPokes3': {'timestamp': 2909287, 'value': 9},\n",
       " 'countRewards3': {'timestamp': 2909287, 'value': 3},\n",
       " 'portProbs3': {'timestamp': 2909288, 'value': 50}}"
      ]
     },
     "metadata": {},
     "output_type": "display_data"
    },
    {
     "data": {
      "text/plain": [
       "{'contingency': {'timestamp': 2919350, 'value': 2},\n",
       " 'trialThresh': {'timestamp': 2919351, 'value': 69},\n",
       " 'totalPokes': {'timestamp': 2919351, 'value': 46},\n",
       " 'totalRewards': {'timestamp': 2919352, 'value': 20},\n",
       " 'ifDelay': {'timestamp': 2919352, 'value': 1},\n",
       " 'countPokes1': {'timestamp': 2919353, 'value': 20},\n",
       " 'countRewards1': {'timestamp': 2919353, 'value': 1},\n",
       " 'portProbs1': {'timestamp': 2919354, 'value': 10},\n",
       " 'countPokes2': {'timestamp': 2919354, 'value': 17},\n",
       " 'countRewards2': {'timestamp': 2919355, 'value': 16},\n",
       " 'portProbs2': {'timestamp': 2919355, 'value': 90},\n",
       " 'countPokes3': {'timestamp': 2919376, 'value': 9},\n",
       " 'countRewards3': {'timestamp': 2919377, 'value': 3},\n",
       " 'portProbs3': {'timestamp': 2919377, 'value': 50}}"
      ]
     },
     "metadata": {},
     "output_type": "display_data"
    },
    {
     "data": {
      "text/plain": [
       "{'contingency': {'timestamp': 2942383, 'value': 2},\n",
       " 'trialThresh': {'timestamp': 2942384, 'value': 69},\n",
       " 'totalPokes': {'timestamp': 2942384, 'value': 47},\n",
       " 'totalRewards': {'timestamp': 2942385, 'value': 20},\n",
       " 'ifDelay': {'timestamp': 2942385, 'value': 1},\n",
       " 'countPokes1': {'timestamp': 2942386, 'value': 21},\n",
       " 'countRewards1': {'timestamp': 2942386, 'value': 1},\n",
       " 'portProbs1': {'timestamp': 2942387, 'value': 10},\n",
       " 'countPokes2': {'timestamp': 2942387, 'value': 17},\n",
       " 'countRewards2': {'timestamp': 2942388, 'value': 16},\n",
       " 'portProbs2': {'timestamp': 2942388, 'value': 90},\n",
       " 'countPokes3': {'timestamp': 2942409, 'value': 9},\n",
       " 'countRewards3': {'timestamp': 2942410, 'value': 3},\n",
       " 'portProbs3': {'timestamp': 2942410, 'value': 50}}"
      ]
     },
     "metadata": {},
     "output_type": "display_data"
    },
    {
     "data": {
      "text/plain": [
       "{'contingency': {'timestamp': 2950783, 'value': 2},\n",
       " 'trialThresh': {'timestamp': 2950784, 'value': 69},\n",
       " 'totalPokes': {'timestamp': 2950784, 'value': 48},\n",
       " 'totalRewards': {'timestamp': 2950785, 'value': 21},\n",
       " 'ifDelay': {'timestamp': 2950785, 'value': 1},\n",
       " 'countPokes1': {'timestamp': 2950786, 'value': 21},\n",
       " 'countRewards1': {'timestamp': 2950786, 'value': 1},\n",
       " 'portProbs1': {'timestamp': 2950787, 'value': 10},\n",
       " 'countPokes2': {'timestamp': 2950787, 'value': 18},\n",
       " 'countRewards2': {'timestamp': 2950788, 'value': 17},\n",
       " 'portProbs2': {'timestamp': 2950788, 'value': 90},\n",
       " 'countPokes3': {'timestamp': 2950809, 'value': 9},\n",
       " 'countRewards3': {'timestamp': 2950810, 'value': 3},\n",
       " 'portProbs3': {'timestamp': 2950810, 'value': 50}}"
      ]
     },
     "metadata": {},
     "output_type": "display_data"
    },
    {
     "data": {
      "text/plain": [
       "{'contingency': {'timestamp': 2973472, 'value': 2},\n",
       " 'trialThresh': {'timestamp': 2973472, 'value': 69},\n",
       " 'totalPokes': {'timestamp': 2973473, 'value': 49},\n",
       " 'totalRewards': {'timestamp': 2973473, 'value': 21},\n",
       " 'ifDelay': {'timestamp': 2973474, 'value': 0},\n",
       " 'countPokes1': {'timestamp': 2973474, 'value': 22},\n",
       " 'countRewards1': {'timestamp': 2973475, 'value': 1},\n",
       " 'portProbs1': {'timestamp': 2973475, 'value': 10},\n",
       " 'countPokes2': {'timestamp': 2973476, 'value': 18},\n",
       " 'countRewards2': {'timestamp': 2973476, 'value': 17},\n",
       " 'portProbs2': {'timestamp': 2973477, 'value': 90},\n",
       " 'countPokes3': {'timestamp': 2973498, 'value': 9},\n",
       " 'countRewards3': {'timestamp': 2973498, 'value': 3},\n",
       " 'portProbs3': {'timestamp': 2973499, 'value': 50}}"
      ]
     },
     "metadata": {},
     "output_type": "display_data"
    },
    {
     "data": {
      "text/plain": [
       "{'contingency': {'timestamp': 2981813, 'value': 2},\n",
       " 'trialThresh': {'timestamp': 2981813, 'value': 69},\n",
       " 'totalPokes': {'timestamp': 2981814, 'value': 50},\n",
       " 'totalRewards': {'timestamp': 2981814, 'value': 22},\n",
       " 'ifDelay': {'timestamp': 2981815, 'value': 0},\n",
       " 'countPokes1': {'timestamp': 2981815, 'value': 22},\n",
       " 'countRewards1': {'timestamp': 2981816, 'value': 1},\n",
       " 'portProbs1': {'timestamp': 2981816, 'value': 10},\n",
       " 'countPokes2': {'timestamp': 2981817, 'value': 19},\n",
       " 'countRewards2': {'timestamp': 2981817, 'value': 18},\n",
       " 'portProbs2': {'timestamp': 2981838, 'value': 90},\n",
       " 'countPokes3': {'timestamp': 2981839, 'value': 9},\n",
       " 'countRewards3': {'timestamp': 2981839, 'value': 3},\n",
       " 'portProbs3': {'timestamp': 2981840, 'value': 50}}"
      ]
     },
     "metadata": {},
     "output_type": "display_data"
    },
    {
     "data": {
      "text/plain": [
       "{'contingency': {'timestamp': 3011102, 'value': 2},\n",
       " 'trialThresh': {'timestamp': 3011102, 'value': 69},\n",
       " 'totalPokes': {'timestamp': 3011103, 'value': 51},\n",
       " 'totalRewards': {'timestamp': 3011103, 'value': 22},\n",
       " 'ifDelay': {'timestamp': 3011104, 'value': 0},\n",
       " 'countPokes1': {'timestamp': 3011104, 'value': 23},\n",
       " 'countRewards1': {'timestamp': 3011105, 'value': 1},\n",
       " 'portProbs1': {'timestamp': 3011105, 'value': 10},\n",
       " 'countPokes2': {'timestamp': 3011106, 'value': 19},\n",
       " 'countRewards2': {'timestamp': 3011106, 'value': 18},\n",
       " 'portProbs2': {'timestamp': 3011107, 'value': 90},\n",
       " 'countPokes3': {'timestamp': 3011128, 'value': 9},\n",
       " 'countRewards3': {'timestamp': 3011129, 'value': 3},\n",
       " 'portProbs3': {'timestamp': 3011129, 'value': 50}}"
      ]
     },
     "metadata": {},
     "output_type": "display_data"
    },
    {
     "data": {
      "text/plain": [
       "{'contingency': {'timestamp': 3019003, 'value': 2},\n",
       " 'trialThresh': {'timestamp': 3019004, 'value': 69},\n",
       " 'totalPokes': {'timestamp': 3019004, 'value': 52},\n",
       " 'totalRewards': {'timestamp': 3019005, 'value': 23},\n",
       " 'ifDelay': {'timestamp': 3019005, 'value': 0},\n",
       " 'countPokes1': {'timestamp': 3019006, 'value': 23},\n",
       " 'countRewards1': {'timestamp': 3019006, 'value': 1},\n",
       " 'portProbs1': {'timestamp': 3019007, 'value': 10},\n",
       " 'countPokes2': {'timestamp': 3019007, 'value': 20},\n",
       " 'countRewards2': {'timestamp': 3019007, 'value': 19},\n",
       " 'portProbs2': {'timestamp': 3019008, 'value': 90},\n",
       " 'countPokes3': {'timestamp': 3019029, 'value': 9},\n",
       " 'countRewards3': {'timestamp': 3019030, 'value': 3},\n",
       " 'portProbs3': {'timestamp': 3019030, 'value': 50}}"
      ]
     },
     "metadata": {},
     "output_type": "display_data"
    },
    {
     "data": {
      "text/plain": [
       "{'contingency': {'timestamp': 3044955, 'value': 2},\n",
       " 'trialThresh': {'timestamp': 3044955, 'value': 69},\n",
       " 'totalPokes': {'timestamp': 3044956, 'value': 53},\n",
       " 'totalRewards': {'timestamp': 3044956, 'value': 23},\n",
       " 'ifDelay': {'timestamp': 3044957, 'value': 1},\n",
       " 'countPokes1': {'timestamp': 3044957, 'value': 24},\n",
       " 'countRewards1': {'timestamp': 3044958, 'value': 1},\n",
       " 'portProbs1': {'timestamp': 3044958, 'value': 10},\n",
       " 'countPokes2': {'timestamp': 3044959, 'value': 20},\n",
       " 'countRewards2': {'timestamp': 3044959, 'value': 19},\n",
       " 'portProbs2': {'timestamp': 3044959, 'value': 90},\n",
       " 'countPokes3': {'timestamp': 3044981, 'value': 9},\n",
       " 'countRewards3': {'timestamp': 3044981, 'value': 3},\n",
       " 'portProbs3': {'timestamp': 3044982, 'value': 50}}"
      ]
     },
     "metadata": {},
     "output_type": "display_data"
    },
    {
     "data": {
      "text/plain": [
       "{'contingency': {'timestamp': 3053665, 'value': 2},\n",
       " 'trialThresh': {'timestamp': 3053665, 'value': 69},\n",
       " 'totalPokes': {'timestamp': 3053666, 'value': 54},\n",
       " 'totalRewards': {'timestamp': 3053666, 'value': 24},\n",
       " 'ifDelay': {'timestamp': 3053667, 'value': 1},\n",
       " 'countPokes1': {'timestamp': 3053667, 'value': 24},\n",
       " 'countRewards1': {'timestamp': 3053668, 'value': 1},\n",
       " 'portProbs1': {'timestamp': 3053668, 'value': 10},\n",
       " 'countPokes2': {'timestamp': 3053669, 'value': 21},\n",
       " 'countRewards2': {'timestamp': 3053669, 'value': 20},\n",
       " 'portProbs2': {'timestamp': 3053670, 'value': 90},\n",
       " 'countPokes3': {'timestamp': 3053691, 'value': 9},\n",
       " 'countRewards3': {'timestamp': 3053691, 'value': 3},\n",
       " 'portProbs3': {'timestamp': 3053692, 'value': 50}}"
      ]
     },
     "metadata": {},
     "output_type": "display_data"
    },
    {
     "data": {
      "text/plain": [
       "{'contingency': {'timestamp': 3078539, 'value': 2},\n",
       " 'trialThresh': {'timestamp': 3078539, 'value': 69},\n",
       " 'totalPokes': {'timestamp': 3078540, 'value': 55},\n",
       " 'totalRewards': {'timestamp': 3078540, 'value': 24},\n",
       " 'ifDelay': {'timestamp': 3078541, 'value': 1},\n",
       " 'countPokes1': {'timestamp': 3078541, 'value': 25},\n",
       " 'countRewards1': {'timestamp': 3078542, 'value': 1},\n",
       " 'portProbs1': {'timestamp': 3078542, 'value': 10},\n",
       " 'countPokes2': {'timestamp': 3078543, 'value': 21},\n",
       " 'countRewards2': {'timestamp': 3078543, 'value': 20},\n",
       " 'portProbs2': {'timestamp': 3078544, 'value': 90},\n",
       " 'countPokes3': {'timestamp': 3078565, 'value': 9},\n",
       " 'countRewards3': {'timestamp': 3078565, 'value': 3},\n",
       " 'portProbs3': {'timestamp': 3078566, 'value': 50}}"
      ]
     },
     "metadata": {},
     "output_type": "display_data"
    },
    {
     "data": {
      "text/plain": [
       "{'contingency': {'timestamp': 3086498, 'value': 2},\n",
       " 'trialThresh': {'timestamp': 3086499, 'value': 69},\n",
       " 'totalPokes': {'timestamp': 3086499, 'value': 56},\n",
       " 'totalRewards': {'timestamp': 3086500, 'value': 25},\n",
       " 'ifDelay': {'timestamp': 3086500, 'value': 1},\n",
       " 'countPokes1': {'timestamp': 3086501, 'value': 25},\n",
       " 'countRewards1': {'timestamp': 3086501, 'value': 1},\n",
       " 'portProbs1': {'timestamp': 3086502, 'value': 10},\n",
       " 'countPokes2': {'timestamp': 3086502, 'value': 22},\n",
       " 'countRewards2': {'timestamp': 3086503, 'value': 21},\n",
       " 'portProbs2': {'timestamp': 3086503, 'value': 90},\n",
       " 'countPokes3': {'timestamp': 3086524, 'value': 9},\n",
       " 'countRewards3': {'timestamp': 3086525, 'value': 3},\n",
       " 'portProbs3': {'timestamp': 3086525, 'value': 50}}"
      ]
     },
     "metadata": {},
     "output_type": "display_data"
    },
    {
     "data": {
      "text/plain": [
       "{'contingency': {'timestamp': 3117509, 'value': 2},\n",
       " 'trialThresh': {'timestamp': 3117510, 'value': 69},\n",
       " 'totalPokes': {'timestamp': 3117510, 'value': 57},\n",
       " 'totalRewards': {'timestamp': 3117511, 'value': 25},\n",
       " 'ifDelay': {'timestamp': 3117511, 'value': 0},\n",
       " 'countPokes1': {'timestamp': 3117511, 'value': 26},\n",
       " 'countRewards1': {'timestamp': 3117512, 'value': 1},\n",
       " 'portProbs1': {'timestamp': 3117512, 'value': 10},\n",
       " 'countPokes2': {'timestamp': 3117513, 'value': 22},\n",
       " 'countRewards2': {'timestamp': 3117513, 'value': 21},\n",
       " 'portProbs2': {'timestamp': 3117514, 'value': 90},\n",
       " 'countPokes3': {'timestamp': 3117535, 'value': 9},\n",
       " 'countRewards3': {'timestamp': 3117536, 'value': 3},\n",
       " 'portProbs3': {'timestamp': 3117536, 'value': 50}}"
      ]
     },
     "metadata": {},
     "output_type": "display_data"
    },
    {
     "data": {
      "text/plain": [
       "{'contingency': {'timestamp': 3126128, 'value': 2},\n",
       " 'trialThresh': {'timestamp': 3126129, 'value': 69},\n",
       " 'totalPokes': {'timestamp': 3126129, 'value': 58},\n",
       " 'totalRewards': {'timestamp': 3126130, 'value': 26},\n",
       " 'ifDelay': {'timestamp': 3126130, 'value': 0},\n",
       " 'countPokes1': {'timestamp': 3126131, 'value': 26},\n",
       " 'countRewards1': {'timestamp': 3126131, 'value': 1},\n",
       " 'portProbs1': {'timestamp': 3126132, 'value': 10},\n",
       " 'countPokes2': {'timestamp': 3126132, 'value': 23},\n",
       " 'countRewards2': {'timestamp': 3126133, 'value': 22},\n",
       " 'portProbs2': {'timestamp': 3126133, 'value': 90},\n",
       " 'countPokes3': {'timestamp': 3126154, 'value': 9},\n",
       " 'countRewards3': {'timestamp': 3126155, 'value': 3},\n",
       " 'portProbs3': {'timestamp': 3126155, 'value': 50}}"
      ]
     },
     "metadata": {},
     "output_type": "display_data"
    },
    {
     "data": {
      "text/plain": [
       "{'contingency': {'timestamp': 3152807, 'value': 2},\n",
       " 'trialThresh': {'timestamp': 3152808, 'value': 69},\n",
       " 'totalPokes': {'timestamp': 3152808, 'value': 59},\n",
       " 'totalRewards': {'timestamp': 3152809, 'value': 26},\n",
       " 'ifDelay': {'timestamp': 3152809, 'value': 1},\n",
       " 'countPokes1': {'timestamp': 3152810, 'value': 27},\n",
       " 'countRewards1': {'timestamp': 3152810, 'value': 1},\n",
       " 'portProbs1': {'timestamp': 3152811, 'value': 10},\n",
       " 'countPokes2': {'timestamp': 3152811, 'value': 23},\n",
       " 'countRewards2': {'timestamp': 3152812, 'value': 22},\n",
       " 'portProbs2': {'timestamp': 3152812, 'value': 90},\n",
       " 'countPokes3': {'timestamp': 3152833, 'value': 9},\n",
       " 'countRewards3': {'timestamp': 3152834, 'value': 3},\n",
       " 'portProbs3': {'timestamp': 3152834, 'value': 50}}"
      ]
     },
     "metadata": {},
     "output_type": "display_data"
    },
    {
     "data": {
      "text/plain": [
       "{'contingency': {'timestamp': 3163477, 'value': 2},\n",
       " 'trialThresh': {'timestamp': 3163478, 'value': 69},\n",
       " 'totalPokes': {'timestamp': 3163478, 'value': 60},\n",
       " 'totalRewards': {'timestamp': 3163479, 'value': 27},\n",
       " 'ifDelay': {'timestamp': 3163479, 'value': 1},\n",
       " 'countPokes1': {'timestamp': 3163480, 'value': 27},\n",
       " 'countRewards1': {'timestamp': 3163480, 'value': 1},\n",
       " 'portProbs1': {'timestamp': 3163481, 'value': 10},\n",
       " 'countPokes2': {'timestamp': 3163481, 'value': 24},\n",
       " 'countRewards2': {'timestamp': 3163482, 'value': 23},\n",
       " 'portProbs2': {'timestamp': 3163482, 'value': 90},\n",
       " 'countPokes3': {'timestamp': 3163503, 'value': 9},\n",
       " 'countRewards3': {'timestamp': 3163504, 'value': 3},\n",
       " 'portProbs3': {'timestamp': 3163504, 'value': 50}}"
      ]
     },
     "metadata": {},
     "output_type": "display_data"
    },
    {
     "data": {
      "text/plain": [
       "{'contingency': {'timestamp': 3190461, 'value': 2},\n",
       " 'trialThresh': {'timestamp': 3190462, 'value': 69},\n",
       " 'totalPokes': {'timestamp': 3190462, 'value': 61},\n",
       " 'totalRewards': {'timestamp': 3190463, 'value': 27},\n",
       " 'ifDelay': {'timestamp': 3190463, 'value': 1},\n",
       " 'countPokes1': {'timestamp': 3190464, 'value': 28},\n",
       " 'countRewards1': {'timestamp': 3190464, 'value': 1},\n",
       " 'portProbs1': {'timestamp': 3190465, 'value': 10},\n",
       " 'countPokes2': {'timestamp': 3190465, 'value': 24},\n",
       " 'countRewards2': {'timestamp': 3190466, 'value': 23},\n",
       " 'portProbs2': {'timestamp': 3190466, 'value': 90},\n",
       " 'countPokes3': {'timestamp': 3190488, 'value': 9},\n",
       " 'countRewards3': {'timestamp': 3190488, 'value': 3},\n",
       " 'portProbs3': {'timestamp': 3190489, 'value': 50}}"
      ]
     },
     "metadata": {},
     "output_type": "display_data"
    },
    {
     "data": {
      "text/plain": [
       "{'contingency': {'timestamp': 3199513, 'value': 2},\n",
       " 'trialThresh': {'timestamp': 3199513, 'value': 69},\n",
       " 'totalPokes': {'timestamp': 3199514, 'value': 62},\n",
       " 'totalRewards': {'timestamp': 3199514, 'value': 28},\n",
       " 'ifDelay': {'timestamp': 3199515, 'value': 1},\n",
       " 'countPokes1': {'timestamp': 3199515, 'value': 28},\n",
       " 'countRewards1': {'timestamp': 3199516, 'value': 1},\n",
       " 'portProbs1': {'timestamp': 3199516, 'value': 10},\n",
       " 'countPokes2': {'timestamp': 3199517, 'value': 25},\n",
       " 'countRewards2': {'timestamp': 3199517, 'value': 24},\n",
       " 'portProbs2': {'timestamp': 3199518, 'value': 90},\n",
       " 'countPokes3': {'timestamp': 3199539, 'value': 9},\n",
       " 'countRewards3': {'timestamp': 3199539, 'value': 3},\n",
       " 'portProbs3': {'timestamp': 3199540, 'value': 50}}"
      ]
     },
     "metadata": {},
     "output_type": "display_data"
    },
    {
     "data": {
      "text/plain": [
       "{'contingency': {'timestamp': 3229293, 'value': 2},\n",
       " 'trialThresh': {'timestamp': 3229294, 'value': 69},\n",
       " 'totalPokes': {'timestamp': 3229294, 'value': 63},\n",
       " 'totalRewards': {'timestamp': 3229295, 'value': 28},\n",
       " 'ifDelay': {'timestamp': 3229295, 'value': 1},\n",
       " 'countPokes1': {'timestamp': 3229296, 'value': 29},\n",
       " 'countRewards1': {'timestamp': 3229296, 'value': 1},\n",
       " 'portProbs1': {'timestamp': 3229297, 'value': 10},\n",
       " 'countPokes2': {'timestamp': 3229297, 'value': 25},\n",
       " 'countRewards2': {'timestamp': 3229298, 'value': 24},\n",
       " 'portProbs2': {'timestamp': 3229298, 'value': 90},\n",
       " 'countPokes3': {'timestamp': 3229319, 'value': 9},\n",
       " 'countRewards3': {'timestamp': 3229320, 'value': 3},\n",
       " 'portProbs3': {'timestamp': 3229320, 'value': 50}}"
      ]
     },
     "metadata": {},
     "output_type": "display_data"
    },
    {
     "data": {
      "text/plain": [
       "{'contingency': {'timestamp': 3237854, 'value': 2},\n",
       " 'trialThresh': {'timestamp': 3237854, 'value': 69},\n",
       " 'totalPokes': {'timestamp': 3237855, 'value': 64},\n",
       " 'totalRewards': {'timestamp': 3237855, 'value': 29},\n",
       " 'ifDelay': {'timestamp': 3237856, 'value': 1},\n",
       " 'countPokes1': {'timestamp': 3237856, 'value': 29},\n",
       " 'countRewards1': {'timestamp': 3237857, 'value': 1},\n",
       " 'portProbs1': {'timestamp': 3237857, 'value': 10},\n",
       " 'countPokes2': {'timestamp': 3237858, 'value': 26},\n",
       " 'countRewards2': {'timestamp': 3237858, 'value': 25},\n",
       " 'portProbs2': {'timestamp': 3237859, 'value': 90},\n",
       " 'countPokes3': {'timestamp': 3237880, 'value': 9},\n",
       " 'countRewards3': {'timestamp': 3237880, 'value': 3},\n",
       " 'portProbs3': {'timestamp': 3237881, 'value': 50}}"
      ]
     },
     "metadata": {},
     "output_type": "display_data"
    },
    {
     "data": {
      "text/plain": [
       "{'contingency': {'timestamp': 3263628, 'value': 2},\n",
       " 'trialThresh': {'timestamp': 3263629, 'value': 69},\n",
       " 'totalPokes': {'timestamp': 3263629, 'value': 65},\n",
       " 'totalRewards': {'timestamp': 3263630, 'value': 29},\n",
       " 'ifDelay': {'timestamp': 3263630, 'value': 0},\n",
       " 'countPokes1': {'timestamp': 3263631, 'value': 30},\n",
       " 'countRewards1': {'timestamp': 3263631, 'value': 1},\n",
       " 'portProbs1': {'timestamp': 3263632, 'value': 10},\n",
       " 'countPokes2': {'timestamp': 3263632, 'value': 26},\n",
       " 'countRewards2': {'timestamp': 3263633, 'value': 25},\n",
       " 'portProbs2': {'timestamp': 3263633, 'value': 90},\n",
       " 'countPokes3': {'timestamp': 3263654, 'value': 9},\n",
       " 'countRewards3': {'timestamp': 3263655, 'value': 3},\n",
       " 'portProbs3': {'timestamp': 3263655, 'value': 50}}"
      ]
     },
     "metadata": {},
     "output_type": "display_data"
    },
    {
     "data": {
      "text/plain": [
       "{'contingency': {'timestamp': 3272356, 'value': 2},\n",
       " 'trialThresh': {'timestamp': 3272357, 'value': 69},\n",
       " 'totalPokes': {'timestamp': 3272357, 'value': 66},\n",
       " 'totalRewards': {'timestamp': 3272358, 'value': 29},\n",
       " 'ifDelay': {'timestamp': 3272358, 'value': 0},\n",
       " 'countPokes1': {'timestamp': 3272359, 'value': 30},\n",
       " 'countRewards1': {'timestamp': 3272359, 'value': 1},\n",
       " 'portProbs1': {'timestamp': 3272360, 'value': 10},\n",
       " 'countPokes2': {'timestamp': 3272360, 'value': 27},\n",
       " 'countRewards2': {'timestamp': 3272361, 'value': 25},\n",
       " 'portProbs2': {'timestamp': 3272361, 'value': 90},\n",
       " 'countPokes3': {'timestamp': 3272383, 'value': 9},\n",
       " 'countRewards3': {'timestamp': 3272383, 'value': 3},\n",
       " 'portProbs3': {'timestamp': 3272384, 'value': 50}}"
      ]
     },
     "metadata": {},
     "output_type": "display_data"
    },
    {
     "data": {
      "text/plain": [
       "{'contingency': {'timestamp': 3282576, 'value': 2},\n",
       " 'trialThresh': {'timestamp': 3282577, 'value': 69},\n",
       " 'totalPokes': {'timestamp': 3282577, 'value': 67},\n",
       " 'totalRewards': {'timestamp': 3282578, 'value': 29},\n",
       " 'ifDelay': {'timestamp': 3282578, 'value': 0},\n",
       " 'countPokes1': {'timestamp': 3282579, 'value': 31},\n",
       " 'countRewards1': {'timestamp': 3282579, 'value': 1},\n",
       " 'portProbs1': {'timestamp': 3282579, 'value': 10},\n",
       " 'countPokes2': {'timestamp': 3282580, 'value': 27},\n",
       " 'countRewards2': {'timestamp': 3282580, 'value': 25},\n",
       " 'portProbs2': {'timestamp': 3282581, 'value': 90},\n",
       " 'countPokes3': {'timestamp': 3282602, 'value': 9},\n",
       " 'countRewards3': {'timestamp': 3282603, 'value': 3},\n",
       " 'portProbs3': {'timestamp': 3282603, 'value': 50}}"
      ]
     },
     "metadata": {},
     "output_type": "display_data"
    },
    {
     "data": {
      "text/plain": [
       "{'contingency': {'timestamp': 3291477, 'value': 2},\n",
       " 'trialThresh': {'timestamp': 3291478, 'value': 69},\n",
       " 'totalPokes': {'timestamp': 3291478, 'value': 68},\n",
       " 'totalRewards': {'timestamp': 3291479, 'value': 30},\n",
       " 'ifDelay': {'timestamp': 3291479, 'value': 0},\n",
       " 'countPokes1': {'timestamp': 3291480, 'value': 31},\n",
       " 'countRewards1': {'timestamp': 3291480, 'value': 1},\n",
       " 'portProbs1': {'timestamp': 3291481, 'value': 10},\n",
       " 'countPokes2': {'timestamp': 3291481, 'value': 28},\n",
       " 'countRewards2': {'timestamp': 3291481, 'value': 26},\n",
       " 'portProbs2': {'timestamp': 3291482, 'value': 90},\n",
       " 'countPokes3': {'timestamp': 3291503, 'value': 9},\n",
       " 'countRewards3': {'timestamp': 3291504, 'value': 3},\n",
       " 'portProbs3': {'timestamp': 3291504, 'value': 50}}"
      ]
     },
     "metadata": {},
     "output_type": "display_data"
    },
    {
     "data": {
      "text/plain": [
       "{'contingency': {'timestamp': 3314987, 'value': 2},\n",
       " 'trialThresh': {'timestamp': 3314987, 'value': 69},\n",
       " 'totalPokes': {'timestamp': 3314988, 'value': 69},\n",
       " 'totalRewards': {'timestamp': 3314988, 'value': 30},\n",
       " 'ifDelay': {'timestamp': 3314989, 'value': 1},\n",
       " 'countPokes1': {'timestamp': 3314989, 'value': 32},\n",
       " 'countRewards1': {'timestamp': 3314990, 'value': 1},\n",
       " 'portProbs1': {'timestamp': 3314990, 'value': 10},\n",
       " 'countPokes2': {'timestamp': 3314991, 'value': 28},\n",
       " 'countRewards2': {'timestamp': 3314991, 'value': 26},\n",
       " 'portProbs2': {'timestamp': 3314992, 'value': 90},\n",
       " 'countPokes3': {'timestamp': 3315013, 'value': 9},\n",
       " 'countRewards3': {'timestamp': 3315013, 'value': 3},\n",
       " 'portProbs3': {'timestamp': 3315014, 'value': 50}}"
      ]
     },
     "metadata": {},
     "output_type": "display_data"
    },
    {
     "name": "stdout",
     "output_type": "stream",
     "text": [
      "1908 nosepokes from the DIOs: {'A': 840, 'B': 820, 'C': 248}\n",
      "1908 nosepokes from the statescript: {'A': 840, 'B': 820, 'C': 248}\n",
      "All DIO and statescript nosepokes were matched successfully.\n",
      "This is a probability change session.\n",
      "/var/folders/4y/j2yklrvj7z96v7h6ww30_knc0000gp/T/ipykernel_82401/2478407372.py:668: FutureWarning: DataFrame.applymap has been deprecated. Use DataFrame.map instead.\n",
      "Trial and block data for epoch 1:\n"
     ]
    },
    {
     "data": {
      "text/html": [
       "<div>\n",
       "<style scoped>\n",
       "    .dataframe tbody tr th:only-of-type {\n",
       "        vertical-align: middle;\n",
       "    }\n",
       "\n",
       "    .dataframe tbody tr th {\n",
       "        vertical-align: top;\n",
       "    }\n",
       "\n",
       "    .dataframe thead th {\n",
       "        text-align: right;\n",
       "    }\n",
       "</style>\n",
       "<table border=\"1\" class=\"dataframe\">\n",
       "  <thead>\n",
       "    <tr style=\"text-align: right;\">\n",
       "      <th></th>\n",
       "      <th>epoch</th>\n",
       "      <th>trial_within_block</th>\n",
       "      <th>trial_within_session</th>\n",
       "      <th>block</th>\n",
       "      <th>start_port</th>\n",
       "      <th>end_port</th>\n",
       "      <th>reward</th>\n",
       "      <th>delay</th>\n",
       "      <th>statescript_reference_timestamp</th>\n",
       "      <th>poke_in_time_statescript</th>\n",
       "      <th>poke_out_time_statescript</th>\n",
       "      <th>poke_in_time</th>\n",
       "      <th>poke_out_time</th>\n",
       "      <th>start_time</th>\n",
       "      <th>end_time</th>\n",
       "      <th>duration</th>\n",
       "      <th>pump_on_time</th>\n",
       "      <th>pump_off_time</th>\n",
       "    </tr>\n",
       "  </thead>\n",
       "  <tbody>\n",
       "    <tr>\n",
       "      <th>0</th>\n",
       "      <td>1</td>\n",
       "      <td>1</td>\n",
       "      <td>1</td>\n",
       "      <td>1</td>\n",
       "      <td>None</td>\n",
       "      <td>B</td>\n",
       "      <td>1</td>\n",
       "      <td>N/A</td>\n",
       "      <td>75570</td>\n",
       "      <td>75324</td>\n",
       "      <td>83539</td>\n",
       "      <td>1716147462</td>\n",
       "      <td>1716147471</td>\n",
       "      <td>1716147459</td>\n",
       "      <td>1716147471</td>\n",
       "      <td>11</td>\n",
       "      <td>1716147462</td>\n",
       "      <td>1716147463</td>\n",
       "    </tr>\n",
       "    <tr>\n",
       "      <th>1</th>\n",
       "      <td>1</td>\n",
       "      <td>2</td>\n",
       "      <td>2</td>\n",
       "      <td>1</td>\n",
       "      <td>B</td>\n",
       "      <td>A</td>\n",
       "      <td>0</td>\n",
       "      <td>N/A</td>\n",
       "      <td>97335</td>\n",
       "      <td>96993</td>\n",
       "      <td>106012</td>\n",
       "      <td>1716147484</td>\n",
       "      <td>1716147493</td>\n",
       "      <td>1716147471</td>\n",
       "      <td>1716147493</td>\n",
       "      <td>22</td>\n",
       "      <td>N/A</td>\n",
       "      <td>N/A</td>\n",
       "    </tr>\n",
       "    <tr>\n",
       "      <th>2</th>\n",
       "      <td>1</td>\n",
       "      <td>3</td>\n",
       "      <td>3</td>\n",
       "      <td>1</td>\n",
       "      <td>A</td>\n",
       "      <td>B</td>\n",
       "      <td>1</td>\n",
       "      <td>N/A</td>\n",
       "      <td>115265</td>\n",
       "      <td>114951</td>\n",
       "      <td>127177</td>\n",
       "      <td>1716147502</td>\n",
       "      <td>1716147514</td>\n",
       "      <td>1716147493</td>\n",
       "      <td>1716147514</td>\n",
       "      <td>21</td>\n",
       "      <td>1716147502</td>\n",
       "      <td>1716147502</td>\n",
       "    </tr>\n",
       "    <tr>\n",
       "      <th>3</th>\n",
       "      <td>1</td>\n",
       "      <td>4</td>\n",
       "      <td>4</td>\n",
       "      <td>1</td>\n",
       "      <td>B</td>\n",
       "      <td>A</td>\n",
       "      <td>1</td>\n",
       "      <td>N/A</td>\n",
       "      <td>136308</td>\n",
       "      <td>135776</td>\n",
       "      <td>149024</td>\n",
       "      <td>1716147523</td>\n",
       "      <td>1716147536</td>\n",
       "      <td>1716147514</td>\n",
       "      <td>1716147536</td>\n",
       "      <td>22</td>\n",
       "      <td>1716147523</td>\n",
       "      <td>1716147523</td>\n",
       "    </tr>\n",
       "    <tr>\n",
       "      <th>4</th>\n",
       "      <td>1</td>\n",
       "      <td>5</td>\n",
       "      <td>5</td>\n",
       "      <td>1</td>\n",
       "      <td>A</td>\n",
       "      <td>B</td>\n",
       "      <td>0</td>\n",
       "      <td>N/A</td>\n",
       "      <td>155731</td>\n",
       "      <td>155344</td>\n",
       "      <td>156820</td>\n",
       "      <td>1716147542</td>\n",
       "      <td>1716147544</td>\n",
       "      <td>1716147536</td>\n",
       "      <td>1716147544</td>\n",
       "      <td>8</td>\n",
       "      <td>N/A</td>\n",
       "      <td>N/A</td>\n",
       "    </tr>\n",
       "    <tr>\n",
       "      <th>...</th>\n",
       "      <td>...</td>\n",
       "      <td>...</td>\n",
       "      <td>...</td>\n",
       "      <td>...</td>\n",
       "      <td>...</td>\n",
       "      <td>...</td>\n",
       "      <td>...</td>\n",
       "      <td>...</td>\n",
       "      <td>...</td>\n",
       "      <td>...</td>\n",
       "      <td>...</td>\n",
       "      <td>...</td>\n",
       "      <td>...</td>\n",
       "      <td>...</td>\n",
       "      <td>...</td>\n",
       "      <td>...</td>\n",
       "      <td>...</td>\n",
       "      <td>...</td>\n",
       "    </tr>\n",
       "    <tr>\n",
       "      <th>202</th>\n",
       "      <td>1</td>\n",
       "      <td>65</td>\n",
       "      <td>203</td>\n",
       "      <td>3</td>\n",
       "      <td>B</td>\n",
       "      <td>A</td>\n",
       "      <td>0</td>\n",
       "      <td>N/A</td>\n",
       "      <td>3263628</td>\n",
       "      <td>3263508</td>\n",
       "      <td>3264676</td>\n",
       "      <td>1716150651</td>\n",
       "      <td>1716150652</td>\n",
       "      <td>1716150639</td>\n",
       "      <td>1716150652</td>\n",
       "      <td>13</td>\n",
       "      <td>N/A</td>\n",
       "      <td>N/A</td>\n",
       "    </tr>\n",
       "    <tr>\n",
       "      <th>203</th>\n",
       "      <td>1</td>\n",
       "      <td>66</td>\n",
       "      <td>204</td>\n",
       "      <td>3</td>\n",
       "      <td>A</td>\n",
       "      <td>B</td>\n",
       "      <td>0</td>\n",
       "      <td>N/A</td>\n",
       "      <td>3272356</td>\n",
       "      <td>3271929</td>\n",
       "      <td>3273643</td>\n",
       "      <td>1716150659</td>\n",
       "      <td>1716150661</td>\n",
       "      <td>1716150652</td>\n",
       "      <td>1716150661</td>\n",
       "      <td>9</td>\n",
       "      <td>N/A</td>\n",
       "      <td>N/A</td>\n",
       "    </tr>\n",
       "    <tr>\n",
       "      <th>204</th>\n",
       "      <td>1</td>\n",
       "      <td>67</td>\n",
       "      <td>205</td>\n",
       "      <td>3</td>\n",
       "      <td>B</td>\n",
       "      <td>A</td>\n",
       "      <td>0</td>\n",
       "      <td>N/A</td>\n",
       "      <td>3282576</td>\n",
       "      <td>3282434</td>\n",
       "      <td>3283749</td>\n",
       "      <td>1716150670</td>\n",
       "      <td>1716150671</td>\n",
       "      <td>1716150661</td>\n",
       "      <td>1716150671</td>\n",
       "      <td>10</td>\n",
       "      <td>N/A</td>\n",
       "      <td>N/A</td>\n",
       "    </tr>\n",
       "    <tr>\n",
       "      <th>205</th>\n",
       "      <td>1</td>\n",
       "      <td>68</td>\n",
       "      <td>206</td>\n",
       "      <td>3</td>\n",
       "      <td>A</td>\n",
       "      <td>B</td>\n",
       "      <td>1</td>\n",
       "      <td>N/A</td>\n",
       "      <td>3291477</td>\n",
       "      <td>3290981</td>\n",
       "      <td>3305558</td>\n",
       "      <td>1716150678</td>\n",
       "      <td>1716150693</td>\n",
       "      <td>1716150671</td>\n",
       "      <td>1716150693</td>\n",
       "      <td>22</td>\n",
       "      <td>1716150678</td>\n",
       "      <td>1716150678</td>\n",
       "    </tr>\n",
       "    <tr>\n",
       "      <th>206</th>\n",
       "      <td>1</td>\n",
       "      <td>69</td>\n",
       "      <td>207</td>\n",
       "      <td>3</td>\n",
       "      <td>B</td>\n",
       "      <td>A</td>\n",
       "      <td>0</td>\n",
       "      <td>N/A</td>\n",
       "      <td>3314987</td>\n",
       "      <td>3314808</td>\n",
       "      <td>3314964</td>\n",
       "      <td>1716150702</td>\n",
       "      <td>1716150702</td>\n",
       "      <td>1716150693</td>\n",
       "      <td>1716150702</td>\n",
       "      <td>9</td>\n",
       "      <td>N/A</td>\n",
       "      <td>N/A</td>\n",
       "    </tr>\n",
       "  </tbody>\n",
       "</table>\n",
       "<p>207 rows × 18 columns</p>\n",
       "</div>"
      ],
      "text/plain": [
       "     epoch  trial_within_block  trial_within_session  block start_port  \\\n",
       "0        1                   1                     1      1       None   \n",
       "1        1                   2                     2      1          B   \n",
       "2        1                   3                     3      1          A   \n",
       "3        1                   4                     4      1          B   \n",
       "4        1                   5                     5      1          A   \n",
       "..     ...                 ...                   ...    ...        ...   \n",
       "202      1                  65                   203      3          B   \n",
       "203      1                  66                   204      3          A   \n",
       "204      1                  67                   205      3          B   \n",
       "205      1                  68                   206      3          A   \n",
       "206      1                  69                   207      3          B   \n",
       "\n",
       "    end_port  reward delay  statescript_reference_timestamp  \\\n",
       "0          B       1   N/A                            75570   \n",
       "1          A       0   N/A                            97335   \n",
       "2          B       1   N/A                           115265   \n",
       "3          A       1   N/A                           136308   \n",
       "4          B       0   N/A                           155731   \n",
       "..       ...     ...   ...                              ...   \n",
       "202        A       0   N/A                          3263628   \n",
       "203        B       0   N/A                          3272356   \n",
       "204        A       0   N/A                          3282576   \n",
       "205        B       1   N/A                          3291477   \n",
       "206        A       0   N/A                          3314987   \n",
       "\n",
       "    poke_in_time_statescript poke_out_time_statescript poke_in_time  \\\n",
       "0                      75324                     83539   1716147462   \n",
       "1                      96993                    106012   1716147484   \n",
       "2                     114951                    127177   1716147502   \n",
       "3                     135776                    149024   1716147523   \n",
       "4                     155344                    156820   1716147542   \n",
       "..                       ...                       ...          ...   \n",
       "202                  3263508                   3264676   1716150651   \n",
       "203                  3271929                   3273643   1716150659   \n",
       "204                  3282434                   3283749   1716150670   \n",
       "205                  3290981                   3305558   1716150678   \n",
       "206                  3314808                   3314964   1716150702   \n",
       "\n",
       "    poke_out_time start_time   end_time duration pump_on_time pump_off_time  \n",
       "0      1716147471 1716147459 1716147471       11   1716147462    1716147463  \n",
       "1      1716147493 1716147471 1716147493       22          N/A           N/A  \n",
       "2      1716147514 1716147493 1716147514       21   1716147502    1716147502  \n",
       "3      1716147536 1716147514 1716147536       22   1716147523    1716147523  \n",
       "4      1716147544 1716147536 1716147544        8          N/A           N/A  \n",
       "..            ...        ...        ...      ...          ...           ...  \n",
       "202    1716150652 1716150639 1716150652       13          N/A           N/A  \n",
       "203    1716150661 1716150652 1716150661        9          N/A           N/A  \n",
       "204    1716150671 1716150661 1716150671       10          N/A           N/A  \n",
       "205    1716150693 1716150671 1716150693       22   1716150678    1716150678  \n",
       "206    1716150702 1716150693 1716150702        9          N/A           N/A  \n",
       "\n",
       "[207 rows x 18 columns]"
      ]
     },
     "metadata": {},
     "output_type": "display_data"
    },
    {
     "data": {
      "text/html": [
       "<div>\n",
       "<style scoped>\n",
       "    .dataframe tbody tr th:only-of-type {\n",
       "        vertical-align: middle;\n",
       "    }\n",
       "\n",
       "    .dataframe tbody tr th {\n",
       "        vertical-align: top;\n",
       "    }\n",
       "\n",
       "    .dataframe thead th {\n",
       "        text-align: right;\n",
       "    }\n",
       "</style>\n",
       "<table border=\"1\" class=\"dataframe\">\n",
       "  <thead>\n",
       "    <tr style=\"text-align: right;\">\n",
       "      <th></th>\n",
       "      <th>epoch</th>\n",
       "      <th>block</th>\n",
       "      <th>pA</th>\n",
       "      <th>pB</th>\n",
       "      <th>pC</th>\n",
       "      <th>statescript_end_timestamp</th>\n",
       "      <th>start_trial</th>\n",
       "      <th>end_trial</th>\n",
       "      <th>num_trials</th>\n",
       "      <th>task_type</th>\n",
       "      <th>start_time</th>\n",
       "      <th>end_time</th>\n",
       "      <th>maze_configuration</th>\n",
       "    </tr>\n",
       "  </thead>\n",
       "  <tbody>\n",
       "    <tr>\n",
       "      <th>0</th>\n",
       "      <td>1</td>\n",
       "      <td>1</td>\n",
       "      <td>10</td>\n",
       "      <td>50</td>\n",
       "      <td>90</td>\n",
       "      <td>1059629</td>\n",
       "      <td>1</td>\n",
       "      <td>69</td>\n",
       "      <td>69</td>\n",
       "      <td>probability change</td>\n",
       "      <td>1716147459</td>\n",
       "      <td>1716148449</td>\n",
       "      <td>9,10,20,21,23,27,35,37,45</td>\n",
       "    </tr>\n",
       "    <tr>\n",
       "      <th>1</th>\n",
       "      <td>1</td>\n",
       "      <td>2</td>\n",
       "      <td>90</td>\n",
       "      <td>10</td>\n",
       "      <td>50</td>\n",
       "      <td>2193559</td>\n",
       "      <td>70</td>\n",
       "      <td>138</td>\n",
       "      <td>69</td>\n",
       "      <td>probability change</td>\n",
       "      <td>1716148449</td>\n",
       "      <td>1716149597</td>\n",
       "      <td>9,10,20,21,23,27,35,37,45</td>\n",
       "    </tr>\n",
       "    <tr>\n",
       "      <th>2</th>\n",
       "      <td>1</td>\n",
       "      <td>3</td>\n",
       "      <td>10</td>\n",
       "      <td>90</td>\n",
       "      <td>50</td>\n",
       "      <td>3315015</td>\n",
       "      <td>139</td>\n",
       "      <td>207</td>\n",
       "      <td>69</td>\n",
       "      <td>probability change</td>\n",
       "      <td>1716149597</td>\n",
       "      <td>1716150702</td>\n",
       "      <td>9,10,20,21,23,27,35,37,45</td>\n",
       "    </tr>\n",
       "  </tbody>\n",
       "</table>\n",
       "</div>"
      ],
      "text/plain": [
       "   epoch  block  pA  pB  pC  statescript_end_timestamp  start_trial  \\\n",
       "0      1      1  10  50  90                    1059629            1   \n",
       "1      1      2  90  10  50                    2193559           70   \n",
       "2      1      3  10  90  50                    3315015          139   \n",
       "\n",
       "   end_trial  num_trials           task_type  start_time   end_time  \\\n",
       "0         69          69  probability change  1716147459 1716148449   \n",
       "1        138          69  probability change  1716148449 1716149597   \n",
       "2        207          69  probability change  1716149597 1716150702   \n",
       "\n",
       "          maze_configuration  \n",
       "0  9,10,20,21,23,27,35,37,45  \n",
       "1  9,10,20,21,23,27,35,37,45  \n",
       "2  9,10,20,21,23,27,35,37,45  "
      ]
     },
     "metadata": {},
     "output_type": "display_data"
    },
    {
     "name": "stdout",
     "output_type": "stream",
     "text": [
      "Parsing statescript for epoch 3 ...\n",
      "\n"
     ]
    },
    {
     "data": {
      "text/plain": [
       "{'contingency': {'timestamp': 75363, 'value': 0},\n",
       " 'trialThresh': {'timestamp': 75363, 'value': 69},\n",
       " 'totalPokes': {'timestamp': 75364, 'value': 1},\n",
       " 'totalRewards': {'timestamp': 75364, 'value': 0},\n",
       " 'ifDelay': {'timestamp': 75365, 'value': 0},\n",
       " 'countPokes1': {'timestamp': 75365, 'value': 0},\n",
       " 'countRewards1': {'timestamp': 75365, 'value': 0},\n",
       " 'portProbs1': {'timestamp': 75366, 'value': 90},\n",
       " 'countPokes2': {'timestamp': 75366, 'value': 0},\n",
       " 'countRewards2': {'timestamp': 75367, 'value': 0},\n",
       " 'portProbs2': {'timestamp': 75367, 'value': 50},\n",
       " 'countPokes3': {'timestamp': 75368, 'value': 1},\n",
       " 'countRewards3': {'timestamp': 75389, 'value': 0},\n",
       " 'portProbs3': {'timestamp': 75389, 'value': 10}}"
      ]
     },
     "metadata": {},
     "output_type": "display_data"
    },
    {
     "data": {
      "text/plain": [
       "{'contingency': {'timestamp': 85874, 'value': 0},\n",
       " 'trialThresh': {'timestamp': 85875, 'value': 69},\n",
       " 'totalPokes': {'timestamp': 85875, 'value': 2},\n",
       " 'totalRewards': {'timestamp': 85876, 'value': 1},\n",
       " 'ifDelay': {'timestamp': 85876, 'value': 0},\n",
       " 'countPokes1': {'timestamp': 85877, 'value': 0},\n",
       " 'countRewards1': {'timestamp': 85877, 'value': 0},\n",
       " 'portProbs1': {'timestamp': 85878, 'value': 90},\n",
       " 'countPokes2': {'timestamp': 85878, 'value': 1},\n",
       " 'countRewards2': {'timestamp': 85879, 'value': 1},\n",
       " 'portProbs2': {'timestamp': 85879, 'value': 50},\n",
       " 'countPokes3': {'timestamp': 85880, 'value': 1},\n",
       " 'countRewards3': {'timestamp': 85901, 'value': 0},\n",
       " 'portProbs3': {'timestamp': 85901, 'value': 10}}"
      ]
     },
     "metadata": {},
     "output_type": "display_data"
    },
    {
     "data": {
      "text/plain": [
       "{'contingency': {'timestamp': 107835, 'value': 0},\n",
       " 'trialThresh': {'timestamp': 107835, 'value': 69},\n",
       " 'totalPokes': {'timestamp': 107836, 'value': 3},\n",
       " 'totalRewards': {'timestamp': 107836, 'value': 2},\n",
       " 'ifDelay': {'timestamp': 107837, 'value': 1},\n",
       " 'countPokes1': {'timestamp': 107837, 'value': 0},\n",
       " 'countRewards1': {'timestamp': 107838, 'value': 0},\n",
       " 'portProbs1': {'timestamp': 107838, 'value': 90},\n",
       " 'countPokes2': {'timestamp': 107839, 'value': 1},\n",
       " 'countRewards2': {'timestamp': 107839, 'value': 1},\n",
       " 'portProbs2': {'timestamp': 107840, 'value': 50},\n",
       " 'countPokes3': {'timestamp': 107860, 'value': 2},\n",
       " 'countRewards3': {'timestamp': 107861, 'value': 1},\n",
       " 'portProbs3': {'timestamp': 107861, 'value': 10}}"
      ]
     },
     "metadata": {},
     "output_type": "display_data"
    },
    {
     "data": {
      "text/plain": [
       "{'contingency': {'timestamp': 125859, 'value': 0},\n",
       " 'trialThresh': {'timestamp': 125859, 'value': 69},\n",
       " 'totalPokes': {'timestamp': 125860, 'value': 4},\n",
       " 'totalRewards': {'timestamp': 125860, 'value': 2},\n",
       " 'ifDelay': {'timestamp': 125861, 'value': 0},\n",
       " 'countPokes1': {'timestamp': 125861, 'value': 0},\n",
       " 'countRewards1': {'timestamp': 125862, 'value': 0},\n",
       " 'portProbs1': {'timestamp': 125862, 'value': 90},\n",
       " 'countPokes2': {'timestamp': 125863, 'value': 2},\n",
       " 'countRewards2': {'timestamp': 125863, 'value': 1},\n",
       " 'portProbs2': {'timestamp': 125864, 'value': 50},\n",
       " 'countPokes3': {'timestamp': 125884, 'value': 2},\n",
       " 'countRewards3': {'timestamp': 125885, 'value': 1},\n",
       " 'portProbs3': {'timestamp': 125885, 'value': 10}}"
      ]
     },
     "metadata": {},
     "output_type": "display_data"
    },
    {
     "data": {
      "text/plain": [
       "{'contingency': {'timestamp': 134591, 'value': 0},\n",
       " 'trialThresh': {'timestamp': 134592, 'value': 69},\n",
       " 'totalPokes': {'timestamp': 134592, 'value': 5},\n",
       " 'totalRewards': {'timestamp': 134593, 'value': 3},\n",
       " 'ifDelay': {'timestamp': 134593, 'value': 0},\n",
       " 'countPokes1': {'timestamp': 134593, 'value': 1},\n",
       " 'countRewards1': {'timestamp': 134594, 'value': 1},\n",
       " 'portProbs1': {'timestamp': 134594, 'value': 90},\n",
       " 'countPokes2': {'timestamp': 134595, 'value': 2},\n",
       " 'countRewards2': {'timestamp': 134595, 'value': 1},\n",
       " 'portProbs2': {'timestamp': 134616, 'value': 50},\n",
       " 'countPokes3': {'timestamp': 134616, 'value': 2},\n",
       " 'countRewards3': {'timestamp': 134617, 'value': 1},\n",
       " 'portProbs3': {'timestamp': 134617, 'value': 10}}"
      ]
     },
     "metadata": {},
     "output_type": "display_data"
    },
    {
     "data": {
      "text/plain": [
       "{'contingency': {'timestamp': 159041, 'value': 0},\n",
       " 'trialThresh': {'timestamp': 159042, 'value': 69},\n",
       " 'totalPokes': {'timestamp': 159042, 'value': 6},\n",
       " 'totalRewards': {'timestamp': 159043, 'value': 3},\n",
       " 'ifDelay': {'timestamp': 159043, 'value': 1},\n",
       " 'countPokes1': {'timestamp': 159044, 'value': 1},\n",
       " 'countRewards1': {'timestamp': 159044, 'value': 1},\n",
       " 'portProbs1': {'timestamp': 159045, 'value': 90},\n",
       " 'countPokes2': {'timestamp': 159045, 'value': 2},\n",
       " 'countRewards2': {'timestamp': 159046, 'value': 1},\n",
       " 'portProbs2': {'timestamp': 159046, 'value': 50},\n",
       " 'countPokes3': {'timestamp': 159067, 'value': 3},\n",
       " 'countRewards3': {'timestamp': 159067, 'value': 1},\n",
       " 'portProbs3': {'timestamp': 159068, 'value': 10}}"
      ]
     },
     "metadata": {},
     "output_type": "display_data"
    },
    {
     "data": {
      "text/plain": [
       "{'contingency': {'timestamp': 169644, 'value': 0},\n",
       " 'trialThresh': {'timestamp': 169644, 'value': 69},\n",
       " 'totalPokes': {'timestamp': 169645, 'value': 7},\n",
       " 'totalRewards': {'timestamp': 169645, 'value': 4},\n",
       " 'ifDelay': {'timestamp': 169646, 'value': 1},\n",
       " 'countPokes1': {'timestamp': 169646, 'value': 2},\n",
       " 'countRewards1': {'timestamp': 169647, 'value': 2},\n",
       " 'portProbs1': {'timestamp': 169647, 'value': 90},\n",
       " 'countPokes2': {'timestamp': 169648, 'value': 2},\n",
       " 'countRewards2': {'timestamp': 169648, 'value': 1},\n",
       " 'portProbs2': {'timestamp': 169649, 'value': 50},\n",
       " 'countPokes3': {'timestamp': 169669, 'value': 3},\n",
       " 'countRewards3': {'timestamp': 169670, 'value': 1},\n",
       " 'portProbs3': {'timestamp': 169670, 'value': 10}}"
      ]
     },
     "metadata": {},
     "output_type": "display_data"
    },
    {
     "data": {
      "text/plain": [
       "{'contingency': {'timestamp': 196765, 'value': 0},\n",
       " 'trialThresh': {'timestamp': 196765, 'value': 69},\n",
       " 'totalPokes': {'timestamp': 196766, 'value': 8},\n",
       " 'totalRewards': {'timestamp': 196766, 'value': 4},\n",
       " 'ifDelay': {'timestamp': 196767, 'value': 0},\n",
       " 'countPokes1': {'timestamp': 196767, 'value': 2},\n",
       " 'countRewards1': {'timestamp': 196768, 'value': 2},\n",
       " 'portProbs1': {'timestamp': 196768, 'value': 90},\n",
       " 'countPokes2': {'timestamp': 196768, 'value': 3},\n",
       " 'countRewards2': {'timestamp': 196769, 'value': 1},\n",
       " 'portProbs2': {'timestamp': 196769, 'value': 50},\n",
       " 'countPokes3': {'timestamp': 196790, 'value': 3},\n",
       " 'countRewards3': {'timestamp': 196790, 'value': 1},\n",
       " 'portProbs3': {'timestamp': 196791, 'value': 10}}"
      ]
     },
     "metadata": {},
     "output_type": "display_data"
    },
    {
     "data": {
      "text/plain": [
       "{'contingency': {'timestamp': 205385, 'value': 0},\n",
       " 'trialThresh': {'timestamp': 205385, 'value': 69},\n",
       " 'totalPokes': {'timestamp': 205386, 'value': 9},\n",
       " 'totalRewards': {'timestamp': 205386, 'value': 4},\n",
       " 'ifDelay': {'timestamp': 205387, 'value': 0},\n",
       " 'countPokes1': {'timestamp': 205387, 'value': 2},\n",
       " 'countRewards1': {'timestamp': 205388, 'value': 2},\n",
       " 'portProbs1': {'timestamp': 205388, 'value': 90},\n",
       " 'countPokes2': {'timestamp': 205389, 'value': 3},\n",
       " 'countRewards2': {'timestamp': 205389, 'value': 1},\n",
       " 'portProbs2': {'timestamp': 205390, 'value': 50},\n",
       " 'countPokes3': {'timestamp': 205410, 'value': 4},\n",
       " 'countRewards3': {'timestamp': 205411, 'value': 1},\n",
       " 'portProbs3': {'timestamp': 205411, 'value': 10}}"
      ]
     },
     "metadata": {},
     "output_type": "display_data"
    },
    {
     "data": {
      "text/plain": [
       "{'contingency': {'timestamp': 211925, 'value': 0},\n",
       " 'trialThresh': {'timestamp': 211925, 'value': 69},\n",
       " 'totalPokes': {'timestamp': 211926, 'value': 10},\n",
       " 'totalRewards': {'timestamp': 211926, 'value': 5},\n",
       " 'ifDelay': {'timestamp': 211927, 'value': 0},\n",
       " 'countPokes1': {'timestamp': 211927, 'value': 3},\n",
       " 'countRewards1': {'timestamp': 211927, 'value': 3},\n",
       " 'portProbs1': {'timestamp': 211928, 'value': 90},\n",
       " 'countPokes2': {'timestamp': 211928, 'value': 3},\n",
       " 'countRewards2': {'timestamp': 211929, 'value': 1},\n",
       " 'portProbs2': {'timestamp': 211929, 'value': 50},\n",
       " 'countPokes3': {'timestamp': 211950, 'value': 4},\n",
       " 'countRewards3': {'timestamp': 211950, 'value': 1},\n",
       " 'portProbs3': {'timestamp': 211951, 'value': 10}}"
      ]
     },
     "metadata": {},
     "output_type": "display_data"
    },
    {
     "data": {
      "text/plain": [
       "{'contingency': {'timestamp': 233957, 'value': 0},\n",
       " 'trialThresh': {'timestamp': 233957, 'value': 69},\n",
       " 'totalPokes': {'timestamp': 233958, 'value': 11},\n",
       " 'totalRewards': {'timestamp': 233958, 'value': 5},\n",
       " 'ifDelay': {'timestamp': 233959, 'value': 0},\n",
       " 'countPokes1': {'timestamp': 233959, 'value': 3},\n",
       " 'countRewards1': {'timestamp': 233959, 'value': 3},\n",
       " 'portProbs1': {'timestamp': 233960, 'value': 90},\n",
       " 'countPokes2': {'timestamp': 233960, 'value': 4},\n",
       " 'countRewards2': {'timestamp': 233961, 'value': 1},\n",
       " 'portProbs2': {'timestamp': 233961, 'value': 50},\n",
       " 'countPokes3': {'timestamp': 233982, 'value': 4},\n",
       " 'countRewards3': {'timestamp': 233982, 'value': 1},\n",
       " 'portProbs3': {'timestamp': 233983, 'value': 10}}"
      ]
     },
     "metadata": {},
     "output_type": "display_data"
    },
    {
     "data": {
      "text/plain": [
       "{'contingency': {'timestamp': 241528, 'value': 0},\n",
       " 'trialThresh': {'timestamp': 241528, 'value': 69},\n",
       " 'totalPokes': {'timestamp': 241529, 'value': 12},\n",
       " 'totalRewards': {'timestamp': 241529, 'value': 6},\n",
       " 'ifDelay': {'timestamp': 241529, 'value': 0},\n",
       " 'countPokes1': {'timestamp': 241530, 'value': 4},\n",
       " 'countRewards1': {'timestamp': 241530, 'value': 4},\n",
       " 'portProbs1': {'timestamp': 241531, 'value': 90},\n",
       " 'countPokes2': {'timestamp': 241531, 'value': 4},\n",
       " 'countRewards2': {'timestamp': 241532, 'value': 1},\n",
       " 'portProbs2': {'timestamp': 241532, 'value': 50},\n",
       " 'countPokes3': {'timestamp': 241553, 'value': 4},\n",
       " 'countRewards3': {'timestamp': 241553, 'value': 1},\n",
       " 'portProbs3': {'timestamp': 241554, 'value': 10}}"
      ]
     },
     "metadata": {},
     "output_type": "display_data"
    },
    {
     "data": {
      "text/plain": [
       "{'contingency': {'timestamp': 258862, 'value': 0},\n",
       " 'trialThresh': {'timestamp': 258863, 'value': 69},\n",
       " 'totalPokes': {'timestamp': 258863, 'value': 13},\n",
       " 'totalRewards': {'timestamp': 258864, 'value': 6},\n",
       " 'ifDelay': {'timestamp': 258864, 'value': 0},\n",
       " 'countPokes1': {'timestamp': 258865, 'value': 4},\n",
       " 'countRewards1': {'timestamp': 258865, 'value': 4},\n",
       " 'portProbs1': {'timestamp': 258866, 'value': 90},\n",
       " 'countPokes2': {'timestamp': 258866, 'value': 5},\n",
       " 'countRewards2': {'timestamp': 258867, 'value': 1},\n",
       " 'portProbs2': {'timestamp': 258867, 'value': 50},\n",
       " 'countPokes3': {'timestamp': 258888, 'value': 4},\n",
       " 'countRewards3': {'timestamp': 258888, 'value': 1},\n",
       " 'portProbs3': {'timestamp': 258889, 'value': 10}}"
      ]
     },
     "metadata": {},
     "output_type": "display_data"
    },
    {
     "data": {
      "text/plain": [
       "{'contingency': {'timestamp': 266833, 'value': 0},\n",
       " 'trialThresh': {'timestamp': 266834, 'value': 69},\n",
       " 'totalPokes': {'timestamp': 266834, 'value': 14},\n",
       " 'totalRewards': {'timestamp': 266835, 'value': 7},\n",
       " 'ifDelay': {'timestamp': 266835, 'value': 0},\n",
       " 'countPokes1': {'timestamp': 266836, 'value': 5},\n",
       " 'countRewards1': {'timestamp': 266836, 'value': 5},\n",
       " 'portProbs1': {'timestamp': 266837, 'value': 90},\n",
       " 'countPokes2': {'timestamp': 266837, 'value': 5},\n",
       " 'countRewards2': {'timestamp': 266838, 'value': 1},\n",
       " 'portProbs2': {'timestamp': 266838, 'value': 50},\n",
       " 'countPokes3': {'timestamp': 266859, 'value': 4},\n",
       " 'countRewards3': {'timestamp': 266859, 'value': 1},\n",
       " 'portProbs3': {'timestamp': 266860, 'value': 10}}"
      ]
     },
     "metadata": {},
     "output_type": "display_data"
    },
    {
     "data": {
      "text/plain": [
       "{'contingency': {'timestamp': 285743, 'value': 0},\n",
       " 'trialThresh': {'timestamp': 285744, 'value': 69},\n",
       " 'totalPokes': {'timestamp': 285744, 'value': 15},\n",
       " 'totalRewards': {'timestamp': 285745, 'value': 8},\n",
       " 'ifDelay': {'timestamp': 285745, 'value': 0},\n",
       " 'countPokes1': {'timestamp': 285746, 'value': 5},\n",
       " 'countRewards1': {'timestamp': 285746, 'value': 5},\n",
       " 'portProbs1': {'timestamp': 285747, 'value': 90},\n",
       " 'countPokes2': {'timestamp': 285747, 'value': 6},\n",
       " 'countRewards2': {'timestamp': 285748, 'value': 2},\n",
       " 'portProbs2': {'timestamp': 285748, 'value': 50},\n",
       " 'countPokes3': {'timestamp': 285769, 'value': 4},\n",
       " 'countRewards3': {'timestamp': 285769, 'value': 1},\n",
       " 'portProbs3': {'timestamp': 285770, 'value': 10}}"
      ]
     },
     "metadata": {},
     "output_type": "display_data"
    },
    {
     "data": {
      "text/plain": [
       "{'contingency': {'timestamp': 303378, 'value': 0},\n",
       " 'trialThresh': {'timestamp': 303378, 'value': 69},\n",
       " 'totalPokes': {'timestamp': 303379, 'value': 16},\n",
       " 'totalRewards': {'timestamp': 303379, 'value': 8},\n",
       " 'ifDelay': {'timestamp': 303380, 'value': 1},\n",
       " 'countPokes1': {'timestamp': 303380, 'value': 5},\n",
       " 'countRewards1': {'timestamp': 303381, 'value': 5},\n",
       " 'portProbs1': {'timestamp': 303381, 'value': 90},\n",
       " 'countPokes2': {'timestamp': 303382, 'value': 6},\n",
       " 'countRewards2': {'timestamp': 303382, 'value': 2},\n",
       " 'portProbs2': {'timestamp': 303383, 'value': 50},\n",
       " 'countPokes3': {'timestamp': 303403, 'value': 5},\n",
       " 'countRewards3': {'timestamp': 303404, 'value': 1},\n",
       " 'portProbs3': {'timestamp': 303404, 'value': 10}}"
      ]
     },
     "metadata": {},
     "output_type": "display_data"
    },
    {
     "data": {
      "text/plain": [
       "{'contingency': {'timestamp': 310088, 'value': 0},\n",
       " 'trialThresh': {'timestamp': 310088, 'value': 69},\n",
       " 'totalPokes': {'timestamp': 310089, 'value': 17},\n",
       " 'totalRewards': {'timestamp': 310089, 'value': 9},\n",
       " 'ifDelay': {'timestamp': 310090, 'value': 1},\n",
       " 'countPokes1': {'timestamp': 310090, 'value': 6},\n",
       " 'countRewards1': {'timestamp': 310091, 'value': 6},\n",
       " 'portProbs1': {'timestamp': 310091, 'value': 90},\n",
       " 'countPokes2': {'timestamp': 310092, 'value': 6},\n",
       " 'countRewards2': {'timestamp': 310092, 'value': 2},\n",
       " 'portProbs2': {'timestamp': 310093, 'value': 50},\n",
       " 'countPokes3': {'timestamp': 310113, 'value': 5},\n",
       " 'countRewards3': {'timestamp': 310114, 'value': 1},\n",
       " 'portProbs3': {'timestamp': 310114, 'value': 10}}"
      ]
     },
     "metadata": {},
     "output_type": "display_data"
    },
    {
     "data": {
      "text/plain": [
       "{'contingency': {'timestamp': 326539, 'value': 0},\n",
       " 'trialThresh': {'timestamp': 326540, 'value': 69},\n",
       " 'totalPokes': {'timestamp': 326540, 'value': 18},\n",
       " 'totalRewards': {'timestamp': 326541, 'value': 9},\n",
       " 'ifDelay': {'timestamp': 326541, 'value': 0},\n",
       " 'countPokes1': {'timestamp': 326542, 'value': 6},\n",
       " 'countRewards1': {'timestamp': 326542, 'value': 6},\n",
       " 'portProbs1': {'timestamp': 326543, 'value': 90},\n",
       " 'countPokes2': {'timestamp': 326543, 'value': 7},\n",
       " 'countRewards2': {'timestamp': 326544, 'value': 2},\n",
       " 'portProbs2': {'timestamp': 326544, 'value': 50},\n",
       " 'countPokes3': {'timestamp': 326565, 'value': 5},\n",
       " 'countRewards3': {'timestamp': 326565, 'value': 1},\n",
       " 'portProbs3': {'timestamp': 326566, 'value': 10}}"
      ]
     },
     "metadata": {},
     "output_type": "display_data"
    },
    {
     "data": {
      "text/plain": [
       "{'contingency': {'timestamp': 334160, 'value': 0},\n",
       " 'trialThresh': {'timestamp': 334161, 'value': 69},\n",
       " 'totalPokes': {'timestamp': 334161, 'value': 19},\n",
       " 'totalRewards': {'timestamp': 334162, 'value': 10},\n",
       " 'ifDelay': {'timestamp': 334162, 'value': 0},\n",
       " 'countPokes1': {'timestamp': 334163, 'value': 7},\n",
       " 'countRewards1': {'timestamp': 334163, 'value': 7},\n",
       " 'portProbs1': {'timestamp': 334164, 'value': 90},\n",
       " 'countPokes2': {'timestamp': 334164, 'value': 7},\n",
       " 'countRewards2': {'timestamp': 334164, 'value': 2},\n",
       " 'portProbs2': {'timestamp': 334165, 'value': 50},\n",
       " 'countPokes3': {'timestamp': 334186, 'value': 5},\n",
       " 'countRewards3': {'timestamp': 334186, 'value': 1},\n",
       " 'portProbs3': {'timestamp': 334187, 'value': 10}}"
      ]
     },
     "metadata": {},
     "output_type": "display_data"
    },
    {
     "data": {
      "text/plain": [
       "{'contingency': {'timestamp': 354074, 'value': 0},\n",
       " 'trialThresh': {'timestamp': 354074, 'value': 69},\n",
       " 'totalPokes': {'timestamp': 354075, 'value': 20},\n",
       " 'totalRewards': {'timestamp': 354075, 'value': 10},\n",
       " 'ifDelay': {'timestamp': 354076, 'value': 0},\n",
       " 'countPokes1': {'timestamp': 354076, 'value': 7},\n",
       " 'countRewards1': {'timestamp': 354077, 'value': 7},\n",
       " 'portProbs1': {'timestamp': 354077, 'value': 90},\n",
       " 'countPokes2': {'timestamp': 354078, 'value': 7},\n",
       " 'countRewards2': {'timestamp': 354078, 'value': 2},\n",
       " 'portProbs2': {'timestamp': 354079, 'value': 50},\n",
       " 'countPokes3': {'timestamp': 354099, 'value': 6},\n",
       " 'countRewards3': {'timestamp': 354100, 'value': 1},\n",
       " 'portProbs3': {'timestamp': 354100, 'value': 10}}"
      ]
     },
     "metadata": {},
     "output_type": "display_data"
    },
    {
     "data": {
      "text/plain": [
       "{'contingency': {'timestamp': 372577, 'value': 0},\n",
       " 'trialThresh': {'timestamp': 372578, 'value': 69},\n",
       " 'totalPokes': {'timestamp': 372578, 'value': 21},\n",
       " 'totalRewards': {'timestamp': 372579, 'value': 11},\n",
       " 'ifDelay': {'timestamp': 372579, 'value': 0},\n",
       " 'countPokes1': {'timestamp': 372579, 'value': 8},\n",
       " 'countRewards1': {'timestamp': 372580, 'value': 8},\n",
       " 'portProbs1': {'timestamp': 372580, 'value': 90},\n",
       " 'countPokes2': {'timestamp': 372581, 'value': 7},\n",
       " 'countRewards2': {'timestamp': 372581, 'value': 2},\n",
       " 'portProbs2': {'timestamp': 372582, 'value': 50},\n",
       " 'countPokes3': {'timestamp': 372603, 'value': 6},\n",
       " 'countRewards3': {'timestamp': 372603, 'value': 1},\n",
       " 'portProbs3': {'timestamp': 372603, 'value': 10}}"
      ]
     },
     "metadata": {},
     "output_type": "display_data"
    },
    {
     "data": {
      "text/plain": [
       "{'contingency': {'timestamp': 391920, 'value': 0},\n",
       " 'trialThresh': {'timestamp': 391921, 'value': 69},\n",
       " 'totalPokes': {'timestamp': 391921, 'value': 22},\n",
       " 'totalRewards': {'timestamp': 391922, 'value': 12},\n",
       " 'ifDelay': {'timestamp': 391922, 'value': 0},\n",
       " 'countPokes1': {'timestamp': 391923, 'value': 8},\n",
       " 'countRewards1': {'timestamp': 391923, 'value': 8},\n",
       " 'portProbs1': {'timestamp': 391924, 'value': 90},\n",
       " 'countPokes2': {'timestamp': 391924, 'value': 8},\n",
       " 'countRewards2': {'timestamp': 391925, 'value': 3},\n",
       " 'portProbs2': {'timestamp': 391925, 'value': 50},\n",
       " 'countPokes3': {'timestamp': 391946, 'value': 6},\n",
       " 'countRewards3': {'timestamp': 391947, 'value': 1},\n",
       " 'portProbs3': {'timestamp': 391947, 'value': 10}}"
      ]
     },
     "metadata": {},
     "output_type": "display_data"
    },
    {
     "data": {
      "text/plain": [
       "{'contingency': {'timestamp': 409874, 'value': 0},\n",
       " 'trialThresh': {'timestamp': 409875, 'value': 69},\n",
       " 'totalPokes': {'timestamp': 409875, 'value': 23},\n",
       " 'totalRewards': {'timestamp': 409876, 'value': 13},\n",
       " 'ifDelay': {'timestamp': 409876, 'value': 1},\n",
       " 'countPokes1': {'timestamp': 409876, 'value': 9},\n",
       " 'countRewards1': {'timestamp': 409877, 'value': 9},\n",
       " 'portProbs1': {'timestamp': 409877, 'value': 90},\n",
       " 'countPokes2': {'timestamp': 409878, 'value': 8},\n",
       " 'countRewards2': {'timestamp': 409878, 'value': 3},\n",
       " 'portProbs2': {'timestamp': 409900, 'value': 50},\n",
       " 'countPokes3': {'timestamp': 409900, 'value': 6},\n",
       " 'countRewards3': {'timestamp': 409901, 'value': 1},\n",
       " 'portProbs3': {'timestamp': 409901, 'value': 10}}"
      ]
     },
     "metadata": {},
     "output_type": "display_data"
    },
    {
     "data": {
      "text/plain": [
       "{'contingency': {'timestamp': 428190, 'value': 0},\n",
       " 'trialThresh': {'timestamp': 428190, 'value': 69},\n",
       " 'totalPokes': {'timestamp': 428191, 'value': 24},\n",
       " 'totalRewards': {'timestamp': 428191, 'value': 13},\n",
       " 'ifDelay': {'timestamp': 428192, 'value': 0},\n",
       " 'countPokes1': {'timestamp': 428192, 'value': 9},\n",
       " 'countRewards1': {'timestamp': 428193, 'value': 9},\n",
       " 'portProbs1': {'timestamp': 428193, 'value': 90},\n",
       " 'countPokes2': {'timestamp': 428194, 'value': 9},\n",
       " 'countRewards2': {'timestamp': 428194, 'value': 3},\n",
       " 'portProbs2': {'timestamp': 428195, 'value': 50},\n",
       " 'countPokes3': {'timestamp': 428215, 'value': 6},\n",
       " 'countRewards3': {'timestamp': 428216, 'value': 1},\n",
       " 'portProbs3': {'timestamp': 428216, 'value': 10}}"
      ]
     },
     "metadata": {},
     "output_type": "display_data"
    },
    {
     "data": {
      "text/plain": [
       "{'contingency': {'timestamp': 435750, 'value': 0},\n",
       " 'trialThresh': {'timestamp': 435751, 'value': 69},\n",
       " 'totalPokes': {'timestamp': 435751, 'value': 25},\n",
       " 'totalRewards': {'timestamp': 435752, 'value': 13},\n",
       " 'ifDelay': {'timestamp': 435752, 'value': 0},\n",
       " 'countPokes1': {'timestamp': 435753, 'value': 10},\n",
       " 'countRewards1': {'timestamp': 435753, 'value': 9},\n",
       " 'portProbs1': {'timestamp': 435754, 'value': 90},\n",
       " 'countPokes2': {'timestamp': 435754, 'value': 9},\n",
       " 'countRewards2': {'timestamp': 435755, 'value': 3},\n",
       " 'portProbs2': {'timestamp': 435755, 'value': 50},\n",
       " 'countPokes3': {'timestamp': 435776, 'value': 6},\n",
       " 'countRewards3': {'timestamp': 435776, 'value': 1},\n",
       " 'portProbs3': {'timestamp': 435777, 'value': 10}}"
      ]
     },
     "metadata": {},
     "output_type": "display_data"
    },
    {
     "data": {
      "text/plain": [
       "{'contingency': {'timestamp': 443796, 'value': 0},\n",
       " 'trialThresh': {'timestamp': 443797, 'value': 69},\n",
       " 'totalPokes': {'timestamp': 443797, 'value': 26},\n",
       " 'totalRewards': {'timestamp': 443798, 'value': 14},\n",
       " 'ifDelay': {'timestamp': 443798, 'value': 0},\n",
       " 'countPokes1': {'timestamp': 443798, 'value': 10},\n",
       " 'countRewards1': {'timestamp': 443799, 'value': 9},\n",
       " 'portProbs1': {'timestamp': 443799, 'value': 90},\n",
       " 'countPokes2': {'timestamp': 443800, 'value': 10},\n",
       " 'countRewards2': {'timestamp': 443800, 'value': 4},\n",
       " 'portProbs2': {'timestamp': 443801, 'value': 50},\n",
       " 'countPokes3': {'timestamp': 443822, 'value': 6},\n",
       " 'countRewards3': {'timestamp': 443822, 'value': 1},\n",
       " 'portProbs3': {'timestamp': 443823, 'value': 10}}"
      ]
     },
     "metadata": {},
     "output_type": "display_data"
    },
    {
     "data": {
      "text/plain": [
       "{'contingency': {'timestamp': 465561, 'value': 0},\n",
       " 'trialThresh': {'timestamp': 465562, 'value': 69},\n",
       " 'totalPokes': {'timestamp': 465562, 'value': 27},\n",
       " 'totalRewards': {'timestamp': 465563, 'value': 15},\n",
       " 'ifDelay': {'timestamp': 465563, 'value': 0},\n",
       " 'countPokes1': {'timestamp': 465564, 'value': 11},\n",
       " 'countRewards1': {'timestamp': 465564, 'value': 10},\n",
       " 'portProbs1': {'timestamp': 465565, 'value': 90},\n",
       " 'countPokes2': {'timestamp': 465565, 'value': 10},\n",
       " 'countRewards2': {'timestamp': 465566, 'value': 4},\n",
       " 'portProbs2': {'timestamp': 465587, 'value': 50},\n",
       " 'countPokes3': {'timestamp': 465587, 'value': 6},\n",
       " 'countRewards3': {'timestamp': 465588, 'value': 1},\n",
       " 'portProbs3': {'timestamp': 465588, 'value': 10}}"
      ]
     },
     "metadata": {},
     "output_type": "display_data"
    },
    {
     "data": {
      "text/plain": [
       "{'contingency': {'timestamp': 484147, 'value': 0},\n",
       " 'trialThresh': {'timestamp': 484147, 'value': 69},\n",
       " 'totalPokes': {'timestamp': 484148, 'value': 28},\n",
       " 'totalRewards': {'timestamp': 484148, 'value': 16},\n",
       " 'ifDelay': {'timestamp': 484149, 'value': 0},\n",
       " 'countPokes1': {'timestamp': 484149, 'value': 11},\n",
       " 'countRewards1': {'timestamp': 484150, 'value': 10},\n",
       " 'portProbs1': {'timestamp': 484150, 'value': 90},\n",
       " 'countPokes2': {'timestamp': 484151, 'value': 11},\n",
       " 'countRewards2': {'timestamp': 484151, 'value': 5},\n",
       " 'portProbs2': {'timestamp': 484152, 'value': 50},\n",
       " 'countPokes3': {'timestamp': 484173, 'value': 6},\n",
       " 'countRewards3': {'timestamp': 484173, 'value': 1},\n",
       " 'portProbs3': {'timestamp': 484173, 'value': 10}}"
      ]
     },
     "metadata": {},
     "output_type": "display_data"
    },
    {
     "data": {
      "text/plain": [
       "{'contingency': {'timestamp': 503394, 'value': 0},\n",
       " 'trialThresh': {'timestamp': 503395, 'value': 69},\n",
       " 'totalPokes': {'timestamp': 503395, 'value': 29},\n",
       " 'totalRewards': {'timestamp': 503396, 'value': 17},\n",
       " 'ifDelay': {'timestamp': 503396, 'value': 0},\n",
       " 'countPokes1': {'timestamp': 503396, 'value': 12},\n",
       " 'countRewards1': {'timestamp': 503397, 'value': 11},\n",
       " 'portProbs1': {'timestamp': 503397, 'value': 90},\n",
       " 'countPokes2': {'timestamp': 503398, 'value': 11},\n",
       " 'countRewards2': {'timestamp': 503398, 'value': 5},\n",
       " 'portProbs2': {'timestamp': 503399, 'value': 50},\n",
       " 'countPokes3': {'timestamp': 503420, 'value': 6},\n",
       " 'countRewards3': {'timestamp': 503420, 'value': 1},\n",
       " 'portProbs3': {'timestamp': 503421, 'value': 10}}"
      ]
     },
     "metadata": {},
     "output_type": "display_data"
    },
    {
     "data": {
      "text/plain": [
       "{'contingency': {'timestamp': 521178, 'value': 0},\n",
       " 'trialThresh': {'timestamp': 521179, 'value': 69},\n",
       " 'totalPokes': {'timestamp': 521179, 'value': 30},\n",
       " 'totalRewards': {'timestamp': 521180, 'value': 17},\n",
       " 'ifDelay': {'timestamp': 521180, 'value': 1},\n",
       " 'countPokes1': {'timestamp': 521181, 'value': 12},\n",
       " 'countRewards1': {'timestamp': 521181, 'value': 11},\n",
       " 'portProbs1': {'timestamp': 521182, 'value': 90},\n",
       " 'countPokes2': {'timestamp': 521182, 'value': 12},\n",
       " 'countRewards2': {'timestamp': 521183, 'value': 5},\n",
       " 'portProbs2': {'timestamp': 521183, 'value': 50},\n",
       " 'countPokes3': {'timestamp': 521204, 'value': 6},\n",
       " 'countRewards3': {'timestamp': 521205, 'value': 1},\n",
       " 'portProbs3': {'timestamp': 521205, 'value': 10}}"
      ]
     },
     "metadata": {},
     "output_type": "display_data"
    },
    {
     "data": {
      "text/plain": [
       "{'contingency': {'timestamp': 528728, 'value': 0},\n",
       " 'trialThresh': {'timestamp': 528728, 'value': 69},\n",
       " 'totalPokes': {'timestamp': 528729, 'value': 31},\n",
       " 'totalRewards': {'timestamp': 528729, 'value': 18},\n",
       " 'ifDelay': {'timestamp': 528730, 'value': 1},\n",
       " 'countPokes1': {'timestamp': 528730, 'value': 13},\n",
       " 'countRewards1': {'timestamp': 528731, 'value': 12},\n",
       " 'portProbs1': {'timestamp': 528731, 'value': 90},\n",
       " 'countPokes2': {'timestamp': 528732, 'value': 12},\n",
       " 'countRewards2': {'timestamp': 528732, 'value': 5},\n",
       " 'portProbs2': {'timestamp': 528733, 'value': 50},\n",
       " 'countPokes3': {'timestamp': 528754, 'value': 6},\n",
       " 'countRewards3': {'timestamp': 528754, 'value': 1},\n",
       " 'portProbs3': {'timestamp': 528755, 'value': 10}}"
      ]
     },
     "metadata": {},
     "output_type": "display_data"
    },
    {
     "data": {
      "text/plain": [
       "{'contingency': {'timestamp': 548904, 'value': 0},\n",
       " 'trialThresh': {'timestamp': 548905, 'value': 69},\n",
       " 'totalPokes': {'timestamp': 548905, 'value': 32},\n",
       " 'totalRewards': {'timestamp': 548906, 'value': 19},\n",
       " 'ifDelay': {'timestamp': 548906, 'value': 0},\n",
       " 'countPokes1': {'timestamp': 548907, 'value': 13},\n",
       " 'countRewards1': {'timestamp': 548907, 'value': 12},\n",
       " 'portProbs1': {'timestamp': 548908, 'value': 90},\n",
       " 'countPokes2': {'timestamp': 548908, 'value': 13},\n",
       " 'countRewards2': {'timestamp': 548909, 'value': 6},\n",
       " 'portProbs2': {'timestamp': 548909, 'value': 50},\n",
       " 'countPokes3': {'timestamp': 548930, 'value': 6},\n",
       " 'countRewards3': {'timestamp': 548931, 'value': 1},\n",
       " 'portProbs3': {'timestamp': 548931, 'value': 10}}"
      ]
     },
     "metadata": {},
     "output_type": "display_data"
    },
    {
     "data": {
      "text/plain": [
       "{'contingency': {'timestamp': 564404, 'value': 0},\n",
       " 'trialThresh': {'timestamp': 564405, 'value': 69},\n",
       " 'totalPokes': {'timestamp': 564405, 'value': 33},\n",
       " 'totalRewards': {'timestamp': 564406, 'value': 20},\n",
       " 'ifDelay': {'timestamp': 564406, 'value': 1},\n",
       " 'countPokes1': {'timestamp': 564407, 'value': 14},\n",
       " 'countRewards1': {'timestamp': 564407, 'value': 13},\n",
       " 'portProbs1': {'timestamp': 564408, 'value': 90},\n",
       " 'countPokes2': {'timestamp': 564408, 'value': 13},\n",
       " 'countRewards2': {'timestamp': 564409, 'value': 6},\n",
       " 'portProbs2': {'timestamp': 564409, 'value': 50},\n",
       " 'countPokes3': {'timestamp': 564430, 'value': 6},\n",
       " 'countRewards3': {'timestamp': 564431, 'value': 1},\n",
       " 'portProbs3': {'timestamp': 564431, 'value': 10}}"
      ]
     },
     "metadata": {},
     "output_type": "display_data"
    },
    {
     "data": {
      "text/plain": [
       "{'contingency': {'timestamp': 582688, 'value': 0},\n",
       " 'trialThresh': {'timestamp': 582689, 'value': 69},\n",
       " 'totalPokes': {'timestamp': 582689, 'value': 34},\n",
       " 'totalRewards': {'timestamp': 582690, 'value': 20},\n",
       " 'ifDelay': {'timestamp': 582690, 'value': 1},\n",
       " 'countPokes1': {'timestamp': 582691, 'value': 14},\n",
       " 'countRewards1': {'timestamp': 582691, 'value': 13},\n",
       " 'portProbs1': {'timestamp': 582691, 'value': 90},\n",
       " 'countPokes2': {'timestamp': 582692, 'value': 14},\n",
       " 'countRewards2': {'timestamp': 582692, 'value': 6},\n",
       " 'portProbs2': {'timestamp': 582693, 'value': 50},\n",
       " 'countPokes3': {'timestamp': 582714, 'value': 6},\n",
       " 'countRewards3': {'timestamp': 582714, 'value': 1},\n",
       " 'portProbs3': {'timestamp': 582715, 'value': 10}}"
      ]
     },
     "metadata": {},
     "output_type": "display_data"
    },
    {
     "data": {
      "text/plain": [
       "{'contingency': {'timestamp': 590891, 'value': 0},\n",
       " 'trialThresh': {'timestamp': 590892, 'value': 69},\n",
       " 'totalPokes': {'timestamp': 590892, 'value': 35},\n",
       " 'totalRewards': {'timestamp': 590893, 'value': 21},\n",
       " 'ifDelay': {'timestamp': 590893, 'value': 1},\n",
       " 'countPokes1': {'timestamp': 590894, 'value': 15},\n",
       " 'countRewards1': {'timestamp': 590894, 'value': 14},\n",
       " 'portProbs1': {'timestamp': 590895, 'value': 90},\n",
       " 'countPokes2': {'timestamp': 590895, 'value': 14},\n",
       " 'countRewards2': {'timestamp': 590896, 'value': 6},\n",
       " 'portProbs2': {'timestamp': 590916, 'value': 50},\n",
       " 'countPokes3': {'timestamp': 590916, 'value': 6},\n",
       " 'countRewards3': {'timestamp': 590917, 'value': 1},\n",
       " 'portProbs3': {'timestamp': 590917, 'value': 10}}"
      ]
     },
     "metadata": {},
     "output_type": "display_data"
    },
    {
     "data": {
      "text/plain": [
       "{'contingency': {'timestamp': 608269, 'value': 0},\n",
       " 'trialThresh': {'timestamp': 608269, 'value': 69},\n",
       " 'totalPokes': {'timestamp': 608270, 'value': 36},\n",
       " 'totalRewards': {'timestamp': 608270, 'value': 21},\n",
       " 'ifDelay': {'timestamp': 608271, 'value': 0},\n",
       " 'countPokes1': {'timestamp': 608271, 'value': 15},\n",
       " 'countRewards1': {'timestamp': 608272, 'value': 14},\n",
       " 'portProbs1': {'timestamp': 608272, 'value': 90},\n",
       " 'countPokes2': {'timestamp': 608273, 'value': 15},\n",
       " 'countRewards2': {'timestamp': 608273, 'value': 6},\n",
       " 'portProbs2': {'timestamp': 608274, 'value': 50},\n",
       " 'countPokes3': {'timestamp': 608295, 'value': 6},\n",
       " 'countRewards3': {'timestamp': 608295, 'value': 1},\n",
       " 'portProbs3': {'timestamp': 608296, 'value': 10}}"
      ]
     },
     "metadata": {},
     "output_type": "display_data"
    },
    {
     "data": {
      "text/plain": [
       "{'contingency': {'timestamp': 616129, 'value': 0},\n",
       " 'trialThresh': {'timestamp': 616130, 'value': 69},\n",
       " 'totalPokes': {'timestamp': 616130, 'value': 37},\n",
       " 'totalRewards': {'timestamp': 616131, 'value': 21},\n",
       " 'ifDelay': {'timestamp': 616131, 'value': 0},\n",
       " 'countPokes1': {'timestamp': 616132, 'value': 16},\n",
       " 'countRewards1': {'timestamp': 616132, 'value': 14},\n",
       " 'portProbs1': {'timestamp': 616133, 'value': 90},\n",
       " 'countPokes2': {'timestamp': 616133, 'value': 15},\n",
       " 'countRewards2': {'timestamp': 616134, 'value': 6},\n",
       " 'portProbs2': {'timestamp': 616134, 'value': 50},\n",
       " 'countPokes3': {'timestamp': 616155, 'value': 6},\n",
       " 'countRewards3': {'timestamp': 616156, 'value': 1},\n",
       " 'portProbs3': {'timestamp': 616156, 'value': 10}}"
      ]
     },
     "metadata": {},
     "output_type": "display_data"
    },
    {
     "data": {
      "text/plain": [
       "{'contingency': {'timestamp': 623992, 'value': 0},\n",
       " 'trialThresh': {'timestamp': 623992, 'value': 69},\n",
       " 'totalPokes': {'timestamp': 623993, 'value': 38},\n",
       " 'totalRewards': {'timestamp': 623993, 'value': 22},\n",
       " 'ifDelay': {'timestamp': 623994, 'value': 0},\n",
       " 'countPokes1': {'timestamp': 623994, 'value': 16},\n",
       " 'countRewards1': {'timestamp': 623995, 'value': 14},\n",
       " 'portProbs1': {'timestamp': 623995, 'value': 90},\n",
       " 'countPokes2': {'timestamp': 623996, 'value': 16},\n",
       " 'countRewards2': {'timestamp': 623996, 'value': 7},\n",
       " 'portProbs2': {'timestamp': 624017, 'value': 50},\n",
       " 'countPokes3': {'timestamp': 624018, 'value': 6},\n",
       " 'countRewards3': {'timestamp': 624018, 'value': 1},\n",
       " 'portProbs3': {'timestamp': 624019, 'value': 10}}"
      ]
     },
     "metadata": {},
     "output_type": "display_data"
    },
    {
     "data": {
      "text/plain": [
       "{'contingency': {'timestamp': 641972, 'value': 0},\n",
       " 'trialThresh': {'timestamp': 641972, 'value': 69},\n",
       " 'totalPokes': {'timestamp': 641973, 'value': 39},\n",
       " 'totalRewards': {'timestamp': 641973, 'value': 23},\n",
       " 'ifDelay': {'timestamp': 641974, 'value': 0},\n",
       " 'countPokes1': {'timestamp': 641974, 'value': 17},\n",
       " 'countRewards1': {'timestamp': 641975, 'value': 15},\n",
       " 'portProbs1': {'timestamp': 641975, 'value': 90},\n",
       " 'countPokes2': {'timestamp': 641976, 'value': 16},\n",
       " 'countRewards2': {'timestamp': 641976, 'value': 7},\n",
       " 'portProbs2': {'timestamp': 641977, 'value': 50},\n",
       " 'countPokes3': {'timestamp': 641998, 'value': 6},\n",
       " 'countRewards3': {'timestamp': 641998, 'value': 1},\n",
       " 'portProbs3': {'timestamp': 641999, 'value': 10}}"
      ]
     },
     "metadata": {},
     "output_type": "display_data"
    },
    {
     "data": {
      "text/plain": [
       "{'contingency': {'timestamp': 659386, 'value': 0},\n",
       " 'trialThresh': {'timestamp': 659386, 'value': 69},\n",
       " 'totalPokes': {'timestamp': 659387, 'value': 40},\n",
       " 'totalRewards': {'timestamp': 659387, 'value': 23},\n",
       " 'ifDelay': {'timestamp': 659388, 'value': 0},\n",
       " 'countPokes1': {'timestamp': 659388, 'value': 17},\n",
       " 'countRewards1': {'timestamp': 659389, 'value': 15},\n",
       " 'portProbs1': {'timestamp': 659389, 'value': 90},\n",
       " 'countPokes2': {'timestamp': 659390, 'value': 17},\n",
       " 'countRewards2': {'timestamp': 659390, 'value': 7},\n",
       " 'portProbs2': {'timestamp': 659391, 'value': 50},\n",
       " 'countPokes3': {'timestamp': 659412, 'value': 6},\n",
       " 'countRewards3': {'timestamp': 659412, 'value': 1},\n",
       " 'portProbs3': {'timestamp': 659413, 'value': 10}}"
      ]
     },
     "metadata": {},
     "output_type": "display_data"
    },
    {
     "data": {
      "text/plain": [
       "{'contingency': {'timestamp': 666450, 'value': 0},\n",
       " 'trialThresh': {'timestamp': 666450, 'value': 69},\n",
       " 'totalPokes': {'timestamp': 666451, 'value': 41},\n",
       " 'totalRewards': {'timestamp': 666451, 'value': 24},\n",
       " 'ifDelay': {'timestamp': 666452, 'value': 0},\n",
       " 'countPokes1': {'timestamp': 666452, 'value': 18},\n",
       " 'countRewards1': {'timestamp': 666453, 'value': 16},\n",
       " 'portProbs1': {'timestamp': 666453, 'value': 90},\n",
       " 'countPokes2': {'timestamp': 666454, 'value': 17},\n",
       " 'countRewards2': {'timestamp': 666454, 'value': 7},\n",
       " 'portProbs2': {'timestamp': 666475, 'value': 50},\n",
       " 'countPokes3': {'timestamp': 666476, 'value': 6},\n",
       " 'countRewards3': {'timestamp': 666476, 'value': 1},\n",
       " 'portProbs3': {'timestamp': 666477, 'value': 10}}"
      ]
     },
     "metadata": {},
     "output_type": "display_data"
    },
    {
     "data": {
      "text/plain": [
       "{'contingency': {'timestamp': 684295, 'value': 0},\n",
       " 'trialThresh': {'timestamp': 684296, 'value': 69},\n",
       " 'totalPokes': {'timestamp': 684296, 'value': 42},\n",
       " 'totalRewards': {'timestamp': 684297, 'value': 25},\n",
       " 'ifDelay': {'timestamp': 684297, 'value': 0},\n",
       " 'countPokes1': {'timestamp': 684298, 'value': 18},\n",
       " 'countRewards1': {'timestamp': 684298, 'value': 16},\n",
       " 'portProbs1': {'timestamp': 684299, 'value': 90},\n",
       " 'countPokes2': {'timestamp': 684299, 'value': 18},\n",
       " 'countRewards2': {'timestamp': 684300, 'value': 8},\n",
       " 'portProbs2': {'timestamp': 684300, 'value': 50},\n",
       " 'countPokes3': {'timestamp': 684321, 'value': 6},\n",
       " 'countRewards3': {'timestamp': 684322, 'value': 1},\n",
       " 'portProbs3': {'timestamp': 684322, 'value': 10}}"
      ]
     },
     "metadata": {},
     "output_type": "display_data"
    },
    {
     "data": {
      "text/plain": [
       "{'contingency': {'timestamp': 705848, 'value': 0},\n",
       " 'trialThresh': {'timestamp': 705848, 'value': 69},\n",
       " 'totalPokes': {'timestamp': 705849, 'value': 43},\n",
       " 'totalRewards': {'timestamp': 705849, 'value': 26},\n",
       " 'ifDelay': {'timestamp': 705850, 'value': 0},\n",
       " 'countPokes1': {'timestamp': 705850, 'value': 19},\n",
       " 'countRewards1': {'timestamp': 705851, 'value': 17},\n",
       " 'portProbs1': {'timestamp': 705851, 'value': 90},\n",
       " 'countPokes2': {'timestamp': 705852, 'value': 18},\n",
       " 'countRewards2': {'timestamp': 705852, 'value': 8},\n",
       " 'portProbs2': {'timestamp': 705853, 'value': 50},\n",
       " 'countPokes3': {'timestamp': 705874, 'value': 6},\n",
       " 'countRewards3': {'timestamp': 705874, 'value': 1},\n",
       " 'portProbs3': {'timestamp': 705874, 'value': 10}}"
      ]
     },
     "metadata": {},
     "output_type": "display_data"
    },
    {
     "data": {
      "text/plain": [
       "{'contingency': {'timestamp': 724116, 'value': 0},\n",
       " 'trialThresh': {'timestamp': 724116, 'value': 69},\n",
       " 'totalPokes': {'timestamp': 724117, 'value': 44},\n",
       " 'totalRewards': {'timestamp': 724117, 'value': 26},\n",
       " 'ifDelay': {'timestamp': 724118, 'value': 0},\n",
       " 'countPokes1': {'timestamp': 724118, 'value': 19},\n",
       " 'countRewards1': {'timestamp': 724119, 'value': 17},\n",
       " 'portProbs1': {'timestamp': 724119, 'value': 90},\n",
       " 'countPokes2': {'timestamp': 724120, 'value': 19},\n",
       " 'countRewards2': {'timestamp': 724120, 'value': 8},\n",
       " 'portProbs2': {'timestamp': 724121, 'value': 50},\n",
       " 'countPokes3': {'timestamp': 724141, 'value': 6},\n",
       " 'countRewards3': {'timestamp': 724142, 'value': 1},\n",
       " 'portProbs3': {'timestamp': 724142, 'value': 10}}"
      ]
     },
     "metadata": {},
     "output_type": "display_data"
    },
    {
     "data": {
      "text/plain": [
       "{'contingency': {'timestamp': 731356, 'value': 0},\n",
       " 'trialThresh': {'timestamp': 731357, 'value': 69},\n",
       " 'totalPokes': {'timestamp': 731357, 'value': 45},\n",
       " 'totalRewards': {'timestamp': 731358, 'value': 27},\n",
       " 'ifDelay': {'timestamp': 731358, 'value': 0},\n",
       " 'countPokes1': {'timestamp': 731359, 'value': 20},\n",
       " 'countRewards1': {'timestamp': 731359, 'value': 18},\n",
       " 'portProbs1': {'timestamp': 731360, 'value': 90},\n",
       " 'countPokes2': {'timestamp': 731360, 'value': 19},\n",
       " 'countRewards2': {'timestamp': 731361, 'value': 8},\n",
       " 'portProbs2': {'timestamp': 731361, 'value': 50},\n",
       " 'countPokes3': {'timestamp': 731382, 'value': 6},\n",
       " 'countRewards3': {'timestamp': 731383, 'value': 1},\n",
       " 'portProbs3': {'timestamp': 731383, 'value': 10}}"
      ]
     },
     "metadata": {},
     "output_type": "display_data"
    },
    {
     "data": {
      "text/plain": [
       "{'contingency': {'timestamp': 750578, 'value': 0},\n",
       " 'trialThresh': {'timestamp': 750578, 'value': 69},\n",
       " 'totalPokes': {'timestamp': 750579, 'value': 46},\n",
       " 'totalRewards': {'timestamp': 750579, 'value': 27},\n",
       " 'ifDelay': {'timestamp': 750580, 'value': 0},\n",
       " 'countPokes1': {'timestamp': 750580, 'value': 20},\n",
       " 'countRewards1': {'timestamp': 750581, 'value': 18},\n",
       " 'portProbs1': {'timestamp': 750581, 'value': 90},\n",
       " 'countPokes2': {'timestamp': 750582, 'value': 20},\n",
       " 'countRewards2': {'timestamp': 750582, 'value': 8},\n",
       " 'portProbs2': {'timestamp': 750583, 'value': 50},\n",
       " 'countPokes3': {'timestamp': 750604, 'value': 6},\n",
       " 'countRewards3': {'timestamp': 750604, 'value': 1},\n",
       " 'portProbs3': {'timestamp': 750604, 'value': 10}}"
      ]
     },
     "metadata": {},
     "output_type": "display_data"
    },
    {
     "data": {
      "text/plain": [
       "{'contingency': {'timestamp': 759217, 'value': 0},\n",
       " 'trialThresh': {'timestamp': 759218, 'value': 69},\n",
       " 'totalPokes': {'timestamp': 759218, 'value': 47},\n",
       " 'totalRewards': {'timestamp': 759219, 'value': 28},\n",
       " 'ifDelay': {'timestamp': 759219, 'value': 0},\n",
       " 'countPokes1': {'timestamp': 759220, 'value': 21},\n",
       " 'countRewards1': {'timestamp': 759220, 'value': 19},\n",
       " 'portProbs1': {'timestamp': 759221, 'value': 90},\n",
       " 'countPokes2': {'timestamp': 759221, 'value': 20},\n",
       " 'countRewards2': {'timestamp': 759222, 'value': 8},\n",
       " 'portProbs2': {'timestamp': 759222, 'value': 50},\n",
       " 'countPokes3': {'timestamp': 759243, 'value': 6},\n",
       " 'countRewards3': {'timestamp': 759244, 'value': 1},\n",
       " 'portProbs3': {'timestamp': 759244, 'value': 10}}"
      ]
     },
     "metadata": {},
     "output_type": "display_data"
    },
    {
     "data": {
      "text/plain": [
       "{'contingency': {'timestamp': 776132, 'value': 0},\n",
       " 'trialThresh': {'timestamp': 776132, 'value': 69},\n",
       " 'totalPokes': {'timestamp': 776133, 'value': 48},\n",
       " 'totalRewards': {'timestamp': 776133, 'value': 28},\n",
       " 'ifDelay': {'timestamp': 776134, 'value': 0},\n",
       " 'countPokes1': {'timestamp': 776134, 'value': 21},\n",
       " 'countRewards1': {'timestamp': 776135, 'value': 19},\n",
       " 'portProbs1': {'timestamp': 776135, 'value': 90},\n",
       " 'countPokes2': {'timestamp': 776136, 'value': 21},\n",
       " 'countRewards2': {'timestamp': 776136, 'value': 8},\n",
       " 'portProbs2': {'timestamp': 776157, 'value': 50},\n",
       " 'countPokes3': {'timestamp': 776157, 'value': 6},\n",
       " 'countRewards3': {'timestamp': 776158, 'value': 1},\n",
       " 'portProbs3': {'timestamp': 776158, 'value': 10}}"
      ]
     },
     "metadata": {},
     "output_type": "display_data"
    },
    {
     "data": {
      "text/plain": [
       "{'contingency': {'timestamp': 783962, 'value': 0},\n",
       " 'trialThresh': {'timestamp': 783963, 'value': 69},\n",
       " 'totalPokes': {'timestamp': 783963, 'value': 49},\n",
       " 'totalRewards': {'timestamp': 783964, 'value': 29},\n",
       " 'ifDelay': {'timestamp': 783964, 'value': 0},\n",
       " 'countPokes1': {'timestamp': 783965, 'value': 22},\n",
       " 'countRewards1': {'timestamp': 783965, 'value': 20},\n",
       " 'portProbs1': {'timestamp': 783966, 'value': 90},\n",
       " 'countPokes2': {'timestamp': 783966, 'value': 21},\n",
       " 'countRewards2': {'timestamp': 783967, 'value': 8},\n",
       " 'portProbs2': {'timestamp': 783967, 'value': 50},\n",
       " 'countPokes3': {'timestamp': 783988, 'value': 6},\n",
       " 'countRewards3': {'timestamp': 783989, 'value': 1},\n",
       " 'portProbs3': {'timestamp': 783989, 'value': 10}}"
      ]
     },
     "metadata": {},
     "output_type": "display_data"
    },
    {
     "data": {
      "text/plain": [
       "{'contingency': {'timestamp': 802838, 'value': 0},\n",
       " 'trialThresh': {'timestamp': 802839, 'value': 69},\n",
       " 'totalPokes': {'timestamp': 802839, 'value': 50},\n",
       " 'totalRewards': {'timestamp': 802840, 'value': 29},\n",
       " 'ifDelay': {'timestamp': 802840, 'value': 0},\n",
       " 'countPokes1': {'timestamp': 802841, 'value': 22},\n",
       " 'countRewards1': {'timestamp': 802841, 'value': 20},\n",
       " 'portProbs1': {'timestamp': 802842, 'value': 90},\n",
       " 'countPokes2': {'timestamp': 802842, 'value': 22},\n",
       " 'countRewards2': {'timestamp': 802843, 'value': 8},\n",
       " 'portProbs2': {'timestamp': 802843, 'value': 50},\n",
       " 'countPokes3': {'timestamp': 802864, 'value': 6},\n",
       " 'countRewards3': {'timestamp': 802865, 'value': 1},\n",
       " 'portProbs3': {'timestamp': 802865, 'value': 10}}"
      ]
     },
     "metadata": {},
     "output_type": "display_data"
    },
    {
     "data": {
      "text/plain": [
       "{'contingency': {'timestamp': 810807, 'value': 0},\n",
       " 'trialThresh': {'timestamp': 810808, 'value': 69},\n",
       " 'totalPokes': {'timestamp': 810808, 'value': 51},\n",
       " 'totalRewards': {'timestamp': 810809, 'value': 29},\n",
       " 'ifDelay': {'timestamp': 810809, 'value': 0},\n",
       " 'countPokes1': {'timestamp': 810810, 'value': 22},\n",
       " 'countRewards1': {'timestamp': 810810, 'value': 20},\n",
       " 'portProbs1': {'timestamp': 810811, 'value': 90},\n",
       " 'countPokes2': {'timestamp': 810811, 'value': 22},\n",
       " 'countRewards2': {'timestamp': 810812, 'value': 8},\n",
       " 'portProbs2': {'timestamp': 810812, 'value': 50},\n",
       " 'countPokes3': {'timestamp': 810833, 'value': 7},\n",
       " 'countRewards3': {'timestamp': 810834, 'value': 1},\n",
       " 'portProbs3': {'timestamp': 810834, 'value': 10}}"
      ]
     },
     "metadata": {},
     "output_type": "display_data"
    },
    {
     "data": {
      "text/plain": [
       "{'contingency': {'timestamp': 819988, 'value': 0},\n",
       " 'trialThresh': {'timestamp': 819989, 'value': 69},\n",
       " 'totalPokes': {'timestamp': 819989, 'value': 52},\n",
       " 'totalRewards': {'timestamp': 819990, 'value': 30},\n",
       " 'ifDelay': {'timestamp': 819990, 'value': 0},\n",
       " 'countPokes1': {'timestamp': 819991, 'value': 23},\n",
       " 'countRewards1': {'timestamp': 819991, 'value': 21},\n",
       " 'portProbs1': {'timestamp': 819992, 'value': 90},\n",
       " 'countPokes2': {'timestamp': 819992, 'value': 22},\n",
       " 'countRewards2': {'timestamp': 819993, 'value': 8},\n",
       " 'portProbs2': {'timestamp': 819993, 'value': 50},\n",
       " 'countPokes3': {'timestamp': 820014, 'value': 7},\n",
       " 'countRewards3': {'timestamp': 820015, 'value': 1},\n",
       " 'portProbs3': {'timestamp': 820015, 'value': 10}}"
      ]
     },
     "metadata": {},
     "output_type": "display_data"
    },
    {
     "data": {
      "text/plain": [
       "{'contingency': {'timestamp': 837739, 'value': 0},\n",
       " 'trialThresh': {'timestamp': 837739, 'value': 69},\n",
       " 'totalPokes': {'timestamp': 837740, 'value': 53},\n",
       " 'totalRewards': {'timestamp': 837740, 'value': 30},\n",
       " 'ifDelay': {'timestamp': 837741, 'value': 0},\n",
       " 'countPokes1': {'timestamp': 837741, 'value': 23},\n",
       " 'countRewards1': {'timestamp': 837741, 'value': 21},\n",
       " 'portProbs1': {'timestamp': 837742, 'value': 90},\n",
       " 'countPokes2': {'timestamp': 837742, 'value': 23},\n",
       " 'countRewards2': {'timestamp': 837743, 'value': 8},\n",
       " 'portProbs2': {'timestamp': 837743, 'value': 50},\n",
       " 'countPokes3': {'timestamp': 837764, 'value': 7},\n",
       " 'countRewards3': {'timestamp': 837765, 'value': 1},\n",
       " 'portProbs3': {'timestamp': 837765, 'value': 10}}"
      ]
     },
     "metadata": {},
     "output_type": "display_data"
    },
    {
     "data": {
      "text/plain": [
       "{'contingency': {'timestamp': 845481, 'value': 0},\n",
       " 'trialThresh': {'timestamp': 845481, 'value': 69},\n",
       " 'totalPokes': {'timestamp': 845482, 'value': 54},\n",
       " 'totalRewards': {'timestamp': 845482, 'value': 31},\n",
       " 'ifDelay': {'timestamp': 845483, 'value': 0},\n",
       " 'countPokes1': {'timestamp': 845483, 'value': 24},\n",
       " 'countRewards1': {'timestamp': 845483, 'value': 22},\n",
       " 'portProbs1': {'timestamp': 845484, 'value': 90},\n",
       " 'countPokes2': {'timestamp': 845484, 'value': 23},\n",
       " 'countRewards2': {'timestamp': 845485, 'value': 8},\n",
       " 'portProbs2': {'timestamp': 845485, 'value': 50},\n",
       " 'countPokes3': {'timestamp': 845506, 'value': 7},\n",
       " 'countRewards3': {'timestamp': 845507, 'value': 1},\n",
       " 'portProbs3': {'timestamp': 845507, 'value': 10}}"
      ]
     },
     "metadata": {},
     "output_type": "display_data"
    },
    {
     "data": {
      "text/plain": [
       "{'contingency': {'timestamp': 866792, 'value': 0},\n",
       " 'trialThresh': {'timestamp': 866792, 'value': 69},\n",
       " 'totalPokes': {'timestamp': 866793, 'value': 55},\n",
       " 'totalRewards': {'timestamp': 866793, 'value': 31},\n",
       " 'ifDelay': {'timestamp': 866794, 'value': 1},\n",
       " 'countPokes1': {'timestamp': 866794, 'value': 24},\n",
       " 'countRewards1': {'timestamp': 866795, 'value': 22},\n",
       " 'portProbs1': {'timestamp': 866795, 'value': 90},\n",
       " 'countPokes2': {'timestamp': 866796, 'value': 24},\n",
       " 'countRewards2': {'timestamp': 866796, 'value': 8},\n",
       " 'portProbs2': {'timestamp': 866797, 'value': 50},\n",
       " 'countPokes3': {'timestamp': 866818, 'value': 7},\n",
       " 'countRewards3': {'timestamp': 866818, 'value': 1},\n",
       " 'portProbs3': {'timestamp': 866819, 'value': 10}}"
      ]
     },
     "metadata": {},
     "output_type": "display_data"
    },
    {
     "data": {
      "text/plain": [
       "{'contingency': {'timestamp': 874832, 'value': 0},\n",
       " 'trialThresh': {'timestamp': 874832, 'value': 69},\n",
       " 'totalPokes': {'timestamp': 874833, 'value': 56},\n",
       " 'totalRewards': {'timestamp': 874833, 'value': 32},\n",
       " 'ifDelay': {'timestamp': 874834, 'value': 1},\n",
       " 'countPokes1': {'timestamp': 874834, 'value': 25},\n",
       " 'countRewards1': {'timestamp': 874834, 'value': 23},\n",
       " 'portProbs1': {'timestamp': 874835, 'value': 90},\n",
       " 'countPokes2': {'timestamp': 874835, 'value': 24},\n",
       " 'countRewards2': {'timestamp': 874836, 'value': 8},\n",
       " 'portProbs2': {'timestamp': 874836, 'value': 50},\n",
       " 'countPokes3': {'timestamp': 874857, 'value': 7},\n",
       " 'countRewards3': {'timestamp': 874858, 'value': 1},\n",
       " 'portProbs3': {'timestamp': 874858, 'value': 10}}"
      ]
     },
     "metadata": {},
     "output_type": "display_data"
    },
    {
     "data": {
      "text/plain": [
       "{'contingency': {'timestamp': 893700, 'value': 0},\n",
       " 'trialThresh': {'timestamp': 893701, 'value': 69},\n",
       " 'totalPokes': {'timestamp': 893701, 'value': 57},\n",
       " 'totalRewards': {'timestamp': 893702, 'value': 33},\n",
       " 'ifDelay': {'timestamp': 893702, 'value': 0},\n",
       " 'countPokes1': {'timestamp': 893703, 'value': 25},\n",
       " 'countRewards1': {'timestamp': 893703, 'value': 23},\n",
       " 'portProbs1': {'timestamp': 893704, 'value': 90},\n",
       " 'countPokes2': {'timestamp': 893704, 'value': 25},\n",
       " 'countRewards2': {'timestamp': 893705, 'value': 9},\n",
       " 'portProbs2': {'timestamp': 893705, 'value': 50},\n",
       " 'countPokes3': {'timestamp': 893726, 'value': 7},\n",
       " 'countRewards3': {'timestamp': 893727, 'value': 1},\n",
       " 'portProbs3': {'timestamp': 893727, 'value': 10}}"
      ]
     },
     "metadata": {},
     "output_type": "display_data"
    },
    {
     "data": {
      "text/plain": [
       "{'contingency': {'timestamp': 912698, 'value': 0},\n",
       " 'trialThresh': {'timestamp': 912699, 'value': 69},\n",
       " 'totalPokes': {'timestamp': 912699, 'value': 58},\n",
       " 'totalRewards': {'timestamp': 912700, 'value': 34},\n",
       " 'ifDelay': {'timestamp': 912700, 'value': 1},\n",
       " 'countPokes1': {'timestamp': 912701, 'value': 26},\n",
       " 'countRewards1': {'timestamp': 912701, 'value': 24},\n",
       " 'portProbs1': {'timestamp': 912702, 'value': 90},\n",
       " 'countPokes2': {'timestamp': 912702, 'value': 25},\n",
       " 'countRewards2': {'timestamp': 912703, 'value': 9},\n",
       " 'portProbs2': {'timestamp': 912703, 'value': 50},\n",
       " 'countPokes3': {'timestamp': 912724, 'value': 7},\n",
       " 'countRewards3': {'timestamp': 912725, 'value': 1},\n",
       " 'portProbs3': {'timestamp': 912725, 'value': 10}}"
      ]
     },
     "metadata": {},
     "output_type": "display_data"
    },
    {
     "data": {
      "text/plain": [
       "{'contingency': {'timestamp': 931219, 'value': 0},\n",
       " 'trialThresh': {'timestamp': 931220, 'value': 69},\n",
       " 'totalPokes': {'timestamp': 931220, 'value': 59},\n",
       " 'totalRewards': {'timestamp': 931221, 'value': 35},\n",
       " 'ifDelay': {'timestamp': 931221, 'value': 1},\n",
       " 'countPokes1': {'timestamp': 931222, 'value': 26},\n",
       " 'countRewards1': {'timestamp': 931222, 'value': 24},\n",
       " 'portProbs1': {'timestamp': 931223, 'value': 90},\n",
       " 'countPokes2': {'timestamp': 931223, 'value': 26},\n",
       " 'countRewards2': {'timestamp': 931224, 'value': 10},\n",
       " 'portProbs2': {'timestamp': 931224, 'value': 50},\n",
       " 'countPokes3': {'timestamp': 931245, 'value': 7},\n",
       " 'countRewards3': {'timestamp': 931246, 'value': 1},\n",
       " 'portProbs3': {'timestamp': 931246, 'value': 10}}"
      ]
     },
     "metadata": {},
     "output_type": "display_data"
    },
    {
     "data": {
      "text/plain": [
       "{'contingency': {'timestamp': 951342, 'value': 0},\n",
       " 'trialThresh': {'timestamp': 951342, 'value': 69},\n",
       " 'totalPokes': {'timestamp': 951343, 'value': 60},\n",
       " 'totalRewards': {'timestamp': 951343, 'value': 36},\n",
       " 'ifDelay': {'timestamp': 951344, 'value': 1},\n",
       " 'countPokes1': {'timestamp': 951344, 'value': 27},\n",
       " 'countRewards1': {'timestamp': 951345, 'value': 25},\n",
       " 'portProbs1': {'timestamp': 951345, 'value': 90},\n",
       " 'countPokes2': {'timestamp': 951346, 'value': 26},\n",
       " 'countRewards2': {'timestamp': 951346, 'value': 10},\n",
       " 'portProbs2': {'timestamp': 951347, 'value': 50},\n",
       " 'countPokes3': {'timestamp': 951368, 'value': 7},\n",
       " 'countRewards3': {'timestamp': 951368, 'value': 1},\n",
       " 'portProbs3': {'timestamp': 951369, 'value': 10}}"
      ]
     },
     "metadata": {},
     "output_type": "display_data"
    },
    {
     "data": {
      "text/plain": [
       "{'contingency': {'timestamp': 974294, 'value': 0},\n",
       " 'trialThresh': {'timestamp': 974294, 'value': 69},\n",
       " 'totalPokes': {'timestamp': 974295, 'value': 61},\n",
       " 'totalRewards': {'timestamp': 974295, 'value': 36},\n",
       " 'ifDelay': {'timestamp': 974296, 'value': 1},\n",
       " 'countPokes1': {'timestamp': 974296, 'value': 27},\n",
       " 'countRewards1': {'timestamp': 974297, 'value': 25},\n",
       " 'portProbs1': {'timestamp': 974297, 'value': 90},\n",
       " 'countPokes2': {'timestamp': 974298, 'value': 27},\n",
       " 'countRewards2': {'timestamp': 974298, 'value': 10},\n",
       " 'portProbs2': {'timestamp': 974299, 'value': 50},\n",
       " 'countPokes3': {'timestamp': 974320, 'value': 7},\n",
       " 'countRewards3': {'timestamp': 974320, 'value': 1},\n",
       " 'portProbs3': {'timestamp': 974321, 'value': 10}}"
      ]
     },
     "metadata": {},
     "output_type": "display_data"
    },
    {
     "data": {
      "text/plain": [
       "{'contingency': {'timestamp': 982386, 'value': 0},\n",
       " 'trialThresh': {'timestamp': 982387, 'value': 69},\n",
       " 'totalPokes': {'timestamp': 982387, 'value': 62},\n",
       " 'totalRewards': {'timestamp': 982388, 'value': 37},\n",
       " 'ifDelay': {'timestamp': 982388, 'value': 1},\n",
       " 'countPokes1': {'timestamp': 982389, 'value': 28},\n",
       " 'countRewards1': {'timestamp': 982389, 'value': 26},\n",
       " 'portProbs1': {'timestamp': 982390, 'value': 90},\n",
       " 'countPokes2': {'timestamp': 982390, 'value': 27},\n",
       " 'countRewards2': {'timestamp': 982391, 'value': 10},\n",
       " 'portProbs2': {'timestamp': 982391, 'value': 50},\n",
       " 'countPokes3': {'timestamp': 982412, 'value': 7},\n",
       " 'countRewards3': {'timestamp': 982413, 'value': 1},\n",
       " 'portProbs3': {'timestamp': 982413, 'value': 10}}"
      ]
     },
     "metadata": {},
     "output_type": "display_data"
    },
    {
     "data": {
      "text/plain": [
       "{'contingency': {'timestamp': 1001084, 'value': 0},\n",
       " 'trialThresh': {'timestamp': 1001085, 'value': 69},\n",
       " 'totalPokes': {'timestamp': 1001085, 'value': 63},\n",
       " 'totalRewards': {'timestamp': 1001085, 'value': 37},\n",
       " 'ifDelay': {'timestamp': 1001086, 'value': 1},\n",
       " 'countPokes1': {'timestamp': 1001086, 'value': 28},\n",
       " 'countRewards1': {'timestamp': 1001087, 'value': 26},\n",
       " 'portProbs1': {'timestamp': 1001087, 'value': 90},\n",
       " 'countPokes2': {'timestamp': 1001088, 'value': 28},\n",
       " 'countRewards2': {'timestamp': 1001088, 'value': 10},\n",
       " 'portProbs2': {'timestamp': 1001110, 'value': 50},\n",
       " 'countPokes3': {'timestamp': 1001110, 'value': 7},\n",
       " 'countRewards3': {'timestamp': 1001110, 'value': 1},\n",
       " 'portProbs3': {'timestamp': 1001111, 'value': 10}}"
      ]
     },
     "metadata": {},
     "output_type": "display_data"
    },
    {
     "data": {
      "text/plain": [
       "{'contingency': {'timestamp': 1009323, 'value': 0},\n",
       " 'trialThresh': {'timestamp': 1009324, 'value': 69},\n",
       " 'totalPokes': {'timestamp': 1009324, 'value': 64},\n",
       " 'totalRewards': {'timestamp': 1009325, 'value': 38},\n",
       " 'ifDelay': {'timestamp': 1009325, 'value': 1},\n",
       " 'countPokes1': {'timestamp': 1009326, 'value': 29},\n",
       " 'countRewards1': {'timestamp': 1009326, 'value': 27},\n",
       " 'portProbs1': {'timestamp': 1009327, 'value': 90},\n",
       " 'countPokes2': {'timestamp': 1009327, 'value': 28},\n",
       " 'countRewards2': {'timestamp': 1009328, 'value': 10},\n",
       " 'portProbs2': {'timestamp': 1009349, 'value': 50},\n",
       " 'countPokes3': {'timestamp': 1009349, 'value': 7},\n",
       " 'countRewards3': {'timestamp': 1009350, 'value': 1},\n",
       " 'portProbs3': {'timestamp': 1009350, 'value': 10}}"
      ]
     },
     "metadata": {},
     "output_type": "display_data"
    },
    {
     "data": {
      "text/plain": [
       "{'contingency': {'timestamp': 1029860, 'value': 0},\n",
       " 'trialThresh': {'timestamp': 1029860, 'value': 69},\n",
       " 'totalPokes': {'timestamp': 1029861, 'value': 65},\n",
       " 'totalRewards': {'timestamp': 1029861, 'value': 38},\n",
       " 'ifDelay': {'timestamp': 1029862, 'value': 0},\n",
       " 'countPokes1': {'timestamp': 1029862, 'value': 29},\n",
       " 'countRewards1': {'timestamp': 1029863, 'value': 27},\n",
       " 'portProbs1': {'timestamp': 1029863, 'value': 90},\n",
       " 'countPokes2': {'timestamp': 1029864, 'value': 29},\n",
       " 'countRewards2': {'timestamp': 1029864, 'value': 10},\n",
       " 'portProbs2': {'timestamp': 1029885, 'value': 50},\n",
       " 'countPokes3': {'timestamp': 1029886, 'value': 7},\n",
       " 'countRewards3': {'timestamp': 1029886, 'value': 1},\n",
       " 'portProbs3': {'timestamp': 1029887, 'value': 10}}"
      ]
     },
     "metadata": {},
     "output_type": "display_data"
    },
    {
     "data": {
      "text/plain": [
       "{'contingency': {'timestamp': 1037449, 'value': 0},\n",
       " 'trialThresh': {'timestamp': 1037449, 'value': 69},\n",
       " 'totalPokes': {'timestamp': 1037450, 'value': 66},\n",
       " 'totalRewards': {'timestamp': 1037450, 'value': 39},\n",
       " 'ifDelay': {'timestamp': 1037451, 'value': 0},\n",
       " 'countPokes1': {'timestamp': 1037451, 'value': 30},\n",
       " 'countRewards1': {'timestamp': 1037452, 'value': 28},\n",
       " 'portProbs1': {'timestamp': 1037452, 'value': 90},\n",
       " 'countPokes2': {'timestamp': 1037453, 'value': 29},\n",
       " 'countRewards2': {'timestamp': 1037453, 'value': 10},\n",
       " 'portProbs2': {'timestamp': 1037475, 'value': 50},\n",
       " 'countPokes3': {'timestamp': 1037475, 'value': 7},\n",
       " 'countRewards3': {'timestamp': 1037475, 'value': 1},\n",
       " 'portProbs3': {'timestamp': 1037476, 'value': 10}}"
      ]
     },
     "metadata": {},
     "output_type": "display_data"
    },
    {
     "data": {
      "text/plain": [
       "{'contingency': {'timestamp': 1057417, 'value': 0},\n",
       " 'trialThresh': {'timestamp': 1057418, 'value': 69},\n",
       " 'totalPokes': {'timestamp': 1057418, 'value': 67},\n",
       " 'totalRewards': {'timestamp': 1057419, 'value': 39},\n",
       " 'ifDelay': {'timestamp': 1057419, 'value': 1},\n",
       " 'countPokes1': {'timestamp': 1057420, 'value': 30},\n",
       " 'countRewards1': {'timestamp': 1057420, 'value': 28},\n",
       " 'portProbs1': {'timestamp': 1057421, 'value': 90},\n",
       " 'countPokes2': {'timestamp': 1057421, 'value': 30},\n",
       " 'countRewards2': {'timestamp': 1057422, 'value': 10},\n",
       " 'portProbs2': {'timestamp': 1057443, 'value': 50},\n",
       " 'countPokes3': {'timestamp': 1057443, 'value': 7},\n",
       " 'countRewards3': {'timestamp': 1057444, 'value': 1},\n",
       " 'portProbs3': {'timestamp': 1057444, 'value': 10}}"
      ]
     },
     "metadata": {},
     "output_type": "display_data"
    },
    {
     "data": {
      "text/plain": [
       "{'contingency': {'timestamp': 1065077, 'value': 0},\n",
       " 'trialThresh': {'timestamp': 1065078, 'value': 69},\n",
       " 'totalPokes': {'timestamp': 1065078, 'value': 68},\n",
       " 'totalRewards': {'timestamp': 1065079, 'value': 39},\n",
       " 'ifDelay': {'timestamp': 1065079, 'value': 1},\n",
       " 'countPokes1': {'timestamp': 1065080, 'value': 31},\n",
       " 'countRewards1': {'timestamp': 1065080, 'value': 28},\n",
       " 'portProbs1': {'timestamp': 1065081, 'value': 90},\n",
       " 'countPokes2': {'timestamp': 1065081, 'value': 30},\n",
       " 'countRewards2': {'timestamp': 1065082, 'value': 10},\n",
       " 'portProbs2': {'timestamp': 1065103, 'value': 50},\n",
       " 'countPokes3': {'timestamp': 1065103, 'value': 7},\n",
       " 'countRewards3': {'timestamp': 1065104, 'value': 1},\n",
       " 'portProbs3': {'timestamp': 1065104, 'value': 10}}"
      ]
     },
     "metadata": {},
     "output_type": "display_data"
    },
    {
     "data": {
      "text/plain": [
       "{'contingency': {'timestamp': 1073777, 'value': 0},\n",
       " 'trialThresh': {'timestamp': 1073777, 'value': 69},\n",
       " 'totalPokes': {'timestamp': 1073778, 'value': 69},\n",
       " 'totalRewards': {'timestamp': 1073778, 'value': 40},\n",
       " 'ifDelay': {'timestamp': 1073779, 'value': 1},\n",
       " 'countPokes1': {'timestamp': 1073779, 'value': 31},\n",
       " 'countRewards1': {'timestamp': 1073780, 'value': 28},\n",
       " 'portProbs1': {'timestamp': 1073780, 'value': 90},\n",
       " 'countPokes2': {'timestamp': 1073781, 'value': 31},\n",
       " 'countRewards2': {'timestamp': 1073781, 'value': 11},\n",
       " 'portProbs2': {'timestamp': 1073802, 'value': 50},\n",
       " 'countPokes3': {'timestamp': 1073803, 'value': 7},\n",
       " 'countRewards3': {'timestamp': 1073803, 'value': 1},\n",
       " 'portProbs3': {'timestamp': 1073804, 'value': 10}}"
      ]
     },
     "metadata": {},
     "output_type": "display_data"
    },
    {
     "data": {
      "text/plain": [
       "{'contingency': {'timestamp': 1093683, 'value': 1},\n",
       " 'trialThresh': {'timestamp': 1093684, 'value': 69},\n",
       " 'totalPokes': {'timestamp': 1093684, 'value': 1},\n",
       " 'totalRewards': {'timestamp': 1093685, 'value': 0},\n",
       " 'ifDelay': {'timestamp': 1093685, 'value': 0},\n",
       " 'countPokes1': {'timestamp': 1093686, 'value': 1},\n",
       " 'countRewards1': {'timestamp': 1093686, 'value': 0},\n",
       " 'portProbs1': {'timestamp': 1093687, 'value': 50},\n",
       " 'countPokes2': {'timestamp': 1093687, 'value': 0},\n",
       " 'countRewards2': {'timestamp': 1093688, 'value': 0},\n",
       " 'portProbs2': {'timestamp': 1093688, 'value': 10},\n",
       " 'countPokes3': {'timestamp': 1093709, 'value': 0},\n",
       " 'countRewards3': {'timestamp': 1093709, 'value': 0},\n",
       " 'portProbs3': {'timestamp': 1093710, 'value': 90}}"
      ]
     },
     "metadata": {},
     "output_type": "display_data"
    },
    {
     "data": {
      "text/plain": [
       "{'contingency': {'timestamp': 1101802, 'value': 1},\n",
       " 'trialThresh': {'timestamp': 1101803, 'value': 69},\n",
       " 'totalPokes': {'timestamp': 1101803, 'value': 2},\n",
       " 'totalRewards': {'timestamp': 1101804, 'value': 0},\n",
       " 'ifDelay': {'timestamp': 1101804, 'value': 0},\n",
       " 'countPokes1': {'timestamp': 1101804, 'value': 1},\n",
       " 'countRewards1': {'timestamp': 1101805, 'value': 0},\n",
       " 'portProbs1': {'timestamp': 1101805, 'value': 50},\n",
       " 'countPokes2': {'timestamp': 1101806, 'value': 1},\n",
       " 'countRewards2': {'timestamp': 1101806, 'value': 0},\n",
       " 'portProbs2': {'timestamp': 1101807, 'value': 10},\n",
       " 'countPokes3': {'timestamp': 1101828, 'value': 0},\n",
       " 'countRewards3': {'timestamp': 1101828, 'value': 0},\n",
       " 'portProbs3': {'timestamp': 1101829, 'value': 90}}"
      ]
     },
     "metadata": {},
     "output_type": "display_data"
    },
    {
     "data": {
      "text/plain": [
       "{'contingency': {'timestamp': 1119980, 'value': 1},\n",
       " 'trialThresh': {'timestamp': 1119981, 'value': 69},\n",
       " 'totalPokes': {'timestamp': 1119981, 'value': 3},\n",
       " 'totalRewards': {'timestamp': 1119982, 'value': 1},\n",
       " 'ifDelay': {'timestamp': 1119982, 'value': 0},\n",
       " 'countPokes1': {'timestamp': 1119983, 'value': 1},\n",
       " 'countRewards1': {'timestamp': 1119983, 'value': 0},\n",
       " 'portProbs1': {'timestamp': 1119984, 'value': 50},\n",
       " 'countPokes2': {'timestamp': 1119984, 'value': 1},\n",
       " 'countRewards2': {'timestamp': 1119985, 'value': 0},\n",
       " 'portProbs2': {'timestamp': 1119985, 'value': 10},\n",
       " 'countPokes3': {'timestamp': 1120006, 'value': 1},\n",
       " 'countRewards3': {'timestamp': 1120006, 'value': 1},\n",
       " 'portProbs3': {'timestamp': 1120007, 'value': 90}}"
      ]
     },
     "metadata": {},
     "output_type": "display_data"
    },
    {
     "data": {
      "text/plain": [
       "{'contingency': {'timestamp': 1131849, 'value': 1},\n",
       " 'trialThresh': {'timestamp': 1131850, 'value': 69},\n",
       " 'totalPokes': {'timestamp': 1131850, 'value': 4},\n",
       " 'totalRewards': {'timestamp': 1131851, 'value': 1},\n",
       " 'ifDelay': {'timestamp': 1131851, 'value': 0},\n",
       " 'countPokes1': {'timestamp': 1131852, 'value': 2},\n",
       " 'countRewards1': {'timestamp': 1131852, 'value': 0},\n",
       " 'portProbs1': {'timestamp': 1131853, 'value': 50},\n",
       " 'countPokes2': {'timestamp': 1131853, 'value': 1},\n",
       " 'countRewards2': {'timestamp': 1131854, 'value': 0},\n",
       " 'portProbs2': {'timestamp': 1131854, 'value': 10},\n",
       " 'countPokes3': {'timestamp': 1131875, 'value': 1},\n",
       " 'countRewards3': {'timestamp': 1131875, 'value': 1},\n",
       " 'portProbs3': {'timestamp': 1131876, 'value': 90}}"
      ]
     },
     "metadata": {},
     "output_type": "display_data"
    },
    {
     "data": {
      "text/plain": [
       "{'contingency': {'timestamp': 1140379, 'value': 1},\n",
       " 'trialThresh': {'timestamp': 1140379, 'value': 69},\n",
       " 'totalPokes': {'timestamp': 1140380, 'value': 5},\n",
       " 'totalRewards': {'timestamp': 1140380, 'value': 1},\n",
       " 'ifDelay': {'timestamp': 1140381, 'value': 0},\n",
       " 'countPokes1': {'timestamp': 1140381, 'value': 2},\n",
       " 'countRewards1': {'timestamp': 1140382, 'value': 0},\n",
       " 'portProbs1': {'timestamp': 1140382, 'value': 50},\n",
       " 'countPokes2': {'timestamp': 1140383, 'value': 2},\n",
       " 'countRewards2': {'timestamp': 1140383, 'value': 0},\n",
       " 'portProbs2': {'timestamp': 1140384, 'value': 10},\n",
       " 'countPokes3': {'timestamp': 1140404, 'value': 1},\n",
       " 'countRewards3': {'timestamp': 1140405, 'value': 1},\n",
       " 'portProbs3': {'timestamp': 1140405, 'value': 90}}"
      ]
     },
     "metadata": {},
     "output_type": "display_data"
    },
    {
     "data": {
      "text/plain": [
       "{'contingency': {'timestamp': 1149709, 'value': 1},\n",
       " 'trialThresh': {'timestamp': 1149710, 'value': 69},\n",
       " 'totalPokes': {'timestamp': 1149710, 'value': 6},\n",
       " 'totalRewards': {'timestamp': 1149711, 'value': 1},\n",
       " 'ifDelay': {'timestamp': 1149711, 'value': 0},\n",
       " 'countPokes1': {'timestamp': 1149711, 'value': 3},\n",
       " 'countRewards1': {'timestamp': 1149712, 'value': 0},\n",
       " 'portProbs1': {'timestamp': 1149712, 'value': 50},\n",
       " 'countPokes2': {'timestamp': 1149713, 'value': 2},\n",
       " 'countRewards2': {'timestamp': 1149713, 'value': 0},\n",
       " 'portProbs2': {'timestamp': 1149714, 'value': 10},\n",
       " 'countPokes3': {'timestamp': 1149735, 'value': 1},\n",
       " 'countRewards3': {'timestamp': 1149735, 'value': 1},\n",
       " 'portProbs3': {'timestamp': 1149736, 'value': 90}}"
      ]
     },
     "metadata": {},
     "output_type": "display_data"
    },
    {
     "data": {
      "text/plain": [
       "{'contingency': {'timestamp': 1157909, 'value': 1},\n",
       " 'trialThresh': {'timestamp': 1157909, 'value': 69},\n",
       " 'totalPokes': {'timestamp': 1157910, 'value': 7},\n",
       " 'totalRewards': {'timestamp': 1157910, 'value': 1},\n",
       " 'ifDelay': {'timestamp': 1157911, 'value': 0},\n",
       " 'countPokes1': {'timestamp': 1157911, 'value': 3},\n",
       " 'countRewards1': {'timestamp': 1157912, 'value': 0},\n",
       " 'portProbs1': {'timestamp': 1157912, 'value': 50},\n",
       " 'countPokes2': {'timestamp': 1157913, 'value': 3},\n",
       " 'countRewards2': {'timestamp': 1157913, 'value': 0},\n",
       " 'portProbs2': {'timestamp': 1157914, 'value': 10},\n",
       " 'countPokes3': {'timestamp': 1157935, 'value': 1},\n",
       " 'countRewards3': {'timestamp': 1157935, 'value': 1},\n",
       " 'portProbs3': {'timestamp': 1157935, 'value': 90}}"
      ]
     },
     "metadata": {},
     "output_type": "display_data"
    },
    {
     "data": {
      "text/plain": [
       "{'contingency': {'timestamp': 1179882, 'value': 1},\n",
       " 'trialThresh': {'timestamp': 1179883, 'value': 69},\n",
       " 'totalPokes': {'timestamp': 1179883, 'value': 8},\n",
       " 'totalRewards': {'timestamp': 1179884, 'value': 2},\n",
       " 'ifDelay': {'timestamp': 1179884, 'value': 0},\n",
       " 'countPokes1': {'timestamp': 1179885, 'value': 3},\n",
       " 'countRewards1': {'timestamp': 1179885, 'value': 0},\n",
       " 'portProbs1': {'timestamp': 1179886, 'value': 50},\n",
       " 'countPokes2': {'timestamp': 1179886, 'value': 3},\n",
       " 'countRewards2': {'timestamp': 1179887, 'value': 0},\n",
       " 'portProbs2': {'timestamp': 1179887, 'value': 10},\n",
       " 'countPokes3': {'timestamp': 1179908, 'value': 2},\n",
       " 'countRewards3': {'timestamp': 1179908, 'value': 2},\n",
       " 'portProbs3': {'timestamp': 1179909, 'value': 90}}"
      ]
     },
     "metadata": {},
     "output_type": "display_data"
    },
    {
     "data": {
      "text/plain": [
       "{'contingency': {'timestamp': 1194072, 'value': 1},\n",
       " 'trialThresh': {'timestamp': 1194072, 'value': 69},\n",
       " 'totalPokes': {'timestamp': 1194073, 'value': 9},\n",
       " 'totalRewards': {'timestamp': 1194073, 'value': 2},\n",
       " 'ifDelay': {'timestamp': 1194074, 'value': 1},\n",
       " 'countPokes1': {'timestamp': 1194074, 'value': 3},\n",
       " 'countRewards1': {'timestamp': 1194075, 'value': 0},\n",
       " 'portProbs1': {'timestamp': 1194075, 'value': 50},\n",
       " 'countPokes2': {'timestamp': 1194076, 'value': 4},\n",
       " 'countRewards2': {'timestamp': 1194076, 'value': 0},\n",
       " 'portProbs2': {'timestamp': 1194097, 'value': 10},\n",
       " 'countPokes3': {'timestamp': 1194098, 'value': 2},\n",
       " 'countRewards3': {'timestamp': 1194098, 'value': 2},\n",
       " 'portProbs3': {'timestamp': 1194099, 'value': 90}}"
      ]
     },
     "metadata": {},
     "output_type": "display_data"
    },
    {
     "data": {
      "text/plain": [
       "{'contingency': {'timestamp': 1213782, 'value': 1},\n",
       " 'trialThresh': {'timestamp': 1213782, 'value': 69},\n",
       " 'totalPokes': {'timestamp': 1213783, 'value': 10},\n",
       " 'totalRewards': {'timestamp': 1213783, 'value': 3},\n",
       " 'ifDelay': {'timestamp': 1213784, 'value': 1},\n",
       " 'countPokes1': {'timestamp': 1213784, 'value': 4},\n",
       " 'countRewards1': {'timestamp': 1213785, 'value': 1},\n",
       " 'portProbs1': {'timestamp': 1213785, 'value': 50},\n",
       " 'countPokes2': {'timestamp': 1213786, 'value': 4},\n",
       " 'countRewards2': {'timestamp': 1213786, 'value': 0},\n",
       " 'portProbs2': {'timestamp': 1213787, 'value': 10},\n",
       " 'countPokes3': {'timestamp': 1213808, 'value': 2},\n",
       " 'countRewards3': {'timestamp': 1213808, 'value': 2},\n",
       " 'portProbs3': {'timestamp': 1213809, 'value': 90}}"
      ]
     },
     "metadata": {},
     "output_type": "display_data"
    },
    {
     "data": {
      "text/plain": [
       "{'contingency': {'timestamp': 1223670, 'value': 1},\n",
       " 'trialThresh': {'timestamp': 1223670, 'value': 69},\n",
       " 'totalPokes': {'timestamp': 1223671, 'value': 11},\n",
       " 'totalRewards': {'timestamp': 1223671, 'value': 4},\n",
       " 'ifDelay': {'timestamp': 1223672, 'value': 0},\n",
       " 'countPokes1': {'timestamp': 1223672, 'value': 4},\n",
       " 'countRewards1': {'timestamp': 1223673, 'value': 1},\n",
       " 'portProbs1': {'timestamp': 1223673, 'value': 50},\n",
       " 'countPokes2': {'timestamp': 1223673, 'value': 4},\n",
       " 'countRewards2': {'timestamp': 1223674, 'value': 0},\n",
       " 'portProbs2': {'timestamp': 1223674, 'value': 10},\n",
       " 'countPokes3': {'timestamp': 1223696, 'value': 3},\n",
       " 'countRewards3': {'timestamp': 1223696, 'value': 3},\n",
       " 'portProbs3': {'timestamp': 1223697, 'value': 90}}"
      ]
     },
     "metadata": {},
     "output_type": "display_data"
    },
    {
     "data": {
      "text/plain": [
       "{'contingency': {'timestamp': 1242633, 'value': 1},\n",
       " 'trialThresh': {'timestamp': 1242634, 'value': 69},\n",
       " 'totalPokes': {'timestamp': 1242634, 'value': 12},\n",
       " 'totalRewards': {'timestamp': 1242635, 'value': 4},\n",
       " 'ifDelay': {'timestamp': 1242635, 'value': 0},\n",
       " 'countPokes1': {'timestamp': 1242636, 'value': 4},\n",
       " 'countRewards1': {'timestamp': 1242636, 'value': 1},\n",
       " 'portProbs1': {'timestamp': 1242637, 'value': 50},\n",
       " 'countPokes2': {'timestamp': 1242637, 'value': 5},\n",
       " 'countRewards2': {'timestamp': 1242638, 'value': 0},\n",
       " 'portProbs2': {'timestamp': 1242638, 'value': 10},\n",
       " 'countPokes3': {'timestamp': 1242659, 'value': 3},\n",
       " 'countRewards3': {'timestamp': 1242659, 'value': 3},\n",
       " 'portProbs3': {'timestamp': 1242660, 'value': 90}}"
      ]
     },
     "metadata": {},
     "output_type": "display_data"
    },
    {
     "data": {
      "text/plain": [
       "{'contingency': {'timestamp': 1250934, 'value': 1},\n",
       " 'trialThresh': {'timestamp': 1250935, 'value': 69},\n",
       " 'totalPokes': {'timestamp': 1250935, 'value': 13},\n",
       " 'totalRewards': {'timestamp': 1250936, 'value': 5},\n",
       " 'ifDelay': {'timestamp': 1250936, 'value': 0},\n",
       " 'countPokes1': {'timestamp': 1250937, 'value': 5},\n",
       " 'countRewards1': {'timestamp': 1250937, 'value': 2},\n",
       " 'portProbs1': {'timestamp': 1250938, 'value': 50},\n",
       " 'countPokes2': {'timestamp': 1250938, 'value': 5},\n",
       " 'countRewards2': {'timestamp': 1250938, 'value': 0},\n",
       " 'portProbs2': {'timestamp': 1250939, 'value': 10},\n",
       " 'countPokes3': {'timestamp': 1250960, 'value': 3},\n",
       " 'countRewards3': {'timestamp': 1250960, 'value': 3},\n",
       " 'portProbs3': {'timestamp': 1250961, 'value': 90}}"
      ]
     },
     "metadata": {},
     "output_type": "display_data"
    },
    {
     "data": {
      "text/plain": [
       "{'contingency': {'timestamp': 1270418, 'value': 1},\n",
       " 'trialThresh': {'timestamp': 1270418, 'value': 69},\n",
       " 'totalPokes': {'timestamp': 1270419, 'value': 14},\n",
       " 'totalRewards': {'timestamp': 1270419, 'value': 5},\n",
       " 'ifDelay': {'timestamp': 1270420, 'value': 1},\n",
       " 'countPokes1': {'timestamp': 1270420, 'value': 5},\n",
       " 'countRewards1': {'timestamp': 1270421, 'value': 2},\n",
       " 'portProbs1': {'timestamp': 1270421, 'value': 50},\n",
       " 'countPokes2': {'timestamp': 1270422, 'value': 6},\n",
       " 'countRewards2': {'timestamp': 1270422, 'value': 0},\n",
       " 'portProbs2': {'timestamp': 1270423, 'value': 10},\n",
       " 'countPokes3': {'timestamp': 1270444, 'value': 3},\n",
       " 'countRewards3': {'timestamp': 1270444, 'value': 3},\n",
       " 'portProbs3': {'timestamp': 1270445, 'value': 90}}"
      ]
     },
     "metadata": {},
     "output_type": "display_data"
    },
    {
     "data": {
      "text/plain": [
       "{'contingency': {'timestamp': 1286234, 'value': 1},\n",
       " 'trialThresh': {'timestamp': 1286235, 'value': 69},\n",
       " 'totalPokes': {'timestamp': 1286235, 'value': 15},\n",
       " 'totalRewards': {'timestamp': 1286236, 'value': 6},\n",
       " 'ifDelay': {'timestamp': 1286236, 'value': 1},\n",
       " 'countPokes1': {'timestamp': 1286237, 'value': 5},\n",
       " 'countRewards1': {'timestamp': 1286237, 'value': 2},\n",
       " 'portProbs1': {'timestamp': 1286238, 'value': 50},\n",
       " 'countPokes2': {'timestamp': 1286238, 'value': 6},\n",
       " 'countRewards2': {'timestamp': 1286239, 'value': 0},\n",
       " 'portProbs2': {'timestamp': 1286239, 'value': 10},\n",
       " 'countPokes3': {'timestamp': 1286260, 'value': 4},\n",
       " 'countRewards3': {'timestamp': 1286261, 'value': 4},\n",
       " 'portProbs3': {'timestamp': 1286261, 'value': 90}}"
      ]
     },
     "metadata": {},
     "output_type": "display_data"
    },
    {
     "data": {
      "text/plain": [
       "{'contingency': {'timestamp': 1298600, 'value': 1},\n",
       " 'trialThresh': {'timestamp': 1298600, 'value': 69},\n",
       " 'totalPokes': {'timestamp': 1298601, 'value': 16},\n",
       " 'totalRewards': {'timestamp': 1298601, 'value': 7},\n",
       " 'ifDelay': {'timestamp': 1298602, 'value': 0},\n",
       " 'countPokes1': {'timestamp': 1298602, 'value': 6},\n",
       " 'countRewards1': {'timestamp': 1298603, 'value': 3},\n",
       " 'portProbs1': {'timestamp': 1298603, 'value': 50},\n",
       " 'countPokes2': {'timestamp': 1298604, 'value': 6},\n",
       " 'countRewards2': {'timestamp': 1298604, 'value': 0},\n",
       " 'portProbs2': {'timestamp': 1298605, 'value': 10},\n",
       " 'countPokes3': {'timestamp': 1298626, 'value': 4},\n",
       " 'countRewards3': {'timestamp': 1298626, 'value': 4},\n",
       " 'portProbs3': {'timestamp': 1298627, 'value': 90}}"
      ]
     },
     "metadata": {},
     "output_type": "display_data"
    },
    {
     "data": {
      "text/plain": [
       "{'contingency': {'timestamp': 1323646, 'value': 1},\n",
       " 'trialThresh': {'timestamp': 1323647, 'value': 69},\n",
       " 'totalPokes': {'timestamp': 1323647, 'value': 17},\n",
       " 'totalRewards': {'timestamp': 1323648, 'value': 7},\n",
       " 'ifDelay': {'timestamp': 1323648, 'value': 0},\n",
       " 'countPokes1': {'timestamp': 1323649, 'value': 6},\n",
       " 'countRewards1': {'timestamp': 1323649, 'value': 3},\n",
       " 'portProbs1': {'timestamp': 1323650, 'value': 50},\n",
       " 'countPokes2': {'timestamp': 1323650, 'value': 7},\n",
       " 'countRewards2': {'timestamp': 1323651, 'value': 0},\n",
       " 'portProbs2': {'timestamp': 1323651, 'value': 10},\n",
       " 'countPokes3': {'timestamp': 1323672, 'value': 4},\n",
       " 'countRewards3': {'timestamp': 1323672, 'value': 4},\n",
       " 'portProbs3': {'timestamp': 1323673, 'value': 90}}"
      ]
     },
     "metadata": {},
     "output_type": "display_data"
    },
    {
     "data": {
      "text/plain": [
       "{'contingency': {'timestamp': 1343296, 'value': 1},\n",
       " 'trialThresh': {'timestamp': 1343297, 'value': 69},\n",
       " 'totalPokes': {'timestamp': 1343297, 'value': 18},\n",
       " 'totalRewards': {'timestamp': 1343298, 'value': 8},\n",
       " 'ifDelay': {'timestamp': 1343298, 'value': 0},\n",
       " 'countPokes1': {'timestamp': 1343299, 'value': 6},\n",
       " 'countRewards1': {'timestamp': 1343299, 'value': 3},\n",
       " 'portProbs1': {'timestamp': 1343300, 'value': 50},\n",
       " 'countPokes2': {'timestamp': 1343300, 'value': 7},\n",
       " 'countRewards2': {'timestamp': 1343301, 'value': 0},\n",
       " 'portProbs2': {'timestamp': 1343301, 'value': 10},\n",
       " 'countPokes3': {'timestamp': 1343322, 'value': 5},\n",
       " 'countRewards3': {'timestamp': 1343323, 'value': 5},\n",
       " 'portProbs3': {'timestamp': 1343323, 'value': 90}}"
      ]
     },
     "metadata": {},
     "output_type": "display_data"
    },
    {
     "data": {
      "text/plain": [
       "{'contingency': {'timestamp': 1353620, 'value': 1},\n",
       " 'trialThresh': {'timestamp': 1353621, 'value': 69},\n",
       " 'totalPokes': {'timestamp': 1353621, 'value': 19},\n",
       " 'totalRewards': {'timestamp': 1353622, 'value': 8},\n",
       " 'ifDelay': {'timestamp': 1353622, 'value': 0},\n",
       " 'countPokes1': {'timestamp': 1353623, 'value': 7},\n",
       " 'countRewards1': {'timestamp': 1353623, 'value': 3},\n",
       " 'portProbs1': {'timestamp': 1353624, 'value': 50},\n",
       " 'countPokes2': {'timestamp': 1353624, 'value': 7},\n",
       " 'countRewards2': {'timestamp': 1353625, 'value': 0},\n",
       " 'portProbs2': {'timestamp': 1353625, 'value': 10},\n",
       " 'countPokes3': {'timestamp': 1353646, 'value': 5},\n",
       " 'countRewards3': {'timestamp': 1353646, 'value': 5},\n",
       " 'portProbs3': {'timestamp': 1353647, 'value': 90}}"
      ]
     },
     "metadata": {},
     "output_type": "display_data"
    },
    {
     "data": {
      "text/plain": [
       "{'contingency': {'timestamp': 1371244, 'value': 1},\n",
       " 'trialThresh': {'timestamp': 1371244, 'value': 69},\n",
       " 'totalPokes': {'timestamp': 1371245, 'value': 20},\n",
       " 'totalRewards': {'timestamp': 1371245, 'value': 9},\n",
       " 'ifDelay': {'timestamp': 1371246, 'value': 0},\n",
       " 'countPokes1': {'timestamp': 1371246, 'value': 7},\n",
       " 'countRewards1': {'timestamp': 1371247, 'value': 3},\n",
       " 'portProbs1': {'timestamp': 1371247, 'value': 50},\n",
       " 'countPokes2': {'timestamp': 1371248, 'value': 7},\n",
       " 'countRewards2': {'timestamp': 1371248, 'value': 0},\n",
       " 'portProbs2': {'timestamp': 1371249, 'value': 10},\n",
       " 'countPokes3': {'timestamp': 1371270, 'value': 6},\n",
       " 'countRewards3': {'timestamp': 1371270, 'value': 6},\n",
       " 'portProbs3': {'timestamp': 1371271, 'value': 90}}"
      ]
     },
     "metadata": {},
     "output_type": "display_data"
    },
    {
     "data": {
      "text/plain": [
       "{'contingency': {'timestamp': 1381344, 'value': 1},\n",
       " 'trialThresh': {'timestamp': 1381345, 'value': 69},\n",
       " 'totalPokes': {'timestamp': 1381345, 'value': 21},\n",
       " 'totalRewards': {'timestamp': 1381346, 'value': 10},\n",
       " 'ifDelay': {'timestamp': 1381346, 'value': 0},\n",
       " 'countPokes1': {'timestamp': 1381347, 'value': 8},\n",
       " 'countRewards1': {'timestamp': 1381347, 'value': 4},\n",
       " 'portProbs1': {'timestamp': 1381348, 'value': 50},\n",
       " 'countPokes2': {'timestamp': 1381348, 'value': 7},\n",
       " 'countRewards2': {'timestamp': 1381349, 'value': 0},\n",
       " 'portProbs2': {'timestamp': 1381369, 'value': 10},\n",
       " 'countPokes3': {'timestamp': 1381370, 'value': 6},\n",
       " 'countRewards3': {'timestamp': 1381370, 'value': 6},\n",
       " 'portProbs3': {'timestamp': 1381371, 'value': 90}}"
      ]
     },
     "metadata": {},
     "output_type": "display_data"
    },
    {
     "data": {
      "text/plain": [
       "{'contingency': {'timestamp': 1405835, 'value': 1},\n",
       " 'trialThresh': {'timestamp': 1405835, 'value': 69},\n",
       " 'totalPokes': {'timestamp': 1405836, 'value': 22},\n",
       " 'totalRewards': {'timestamp': 1405836, 'value': 10},\n",
       " 'ifDelay': {'timestamp': 1405837, 'value': 1},\n",
       " 'countPokes1': {'timestamp': 1405837, 'value': 8},\n",
       " 'countRewards1': {'timestamp': 1405838, 'value': 4},\n",
       " 'portProbs1': {'timestamp': 1405838, 'value': 50},\n",
       " 'countPokes2': {'timestamp': 1405839, 'value': 8},\n",
       " 'countRewards2': {'timestamp': 1405839, 'value': 0},\n",
       " 'portProbs2': {'timestamp': 1405840, 'value': 10},\n",
       " 'countPokes3': {'timestamp': 1405861, 'value': 6},\n",
       " 'countRewards3': {'timestamp': 1405861, 'value': 6},\n",
       " 'portProbs3': {'timestamp': 1405862, 'value': 90}}"
      ]
     },
     "metadata": {},
     "output_type": "display_data"
    },
    {
     "data": {
      "text/plain": [
       "{'contingency': {'timestamp': 1414204, 'value': 1},\n",
       " 'trialThresh': {'timestamp': 1414204, 'value': 69},\n",
       " 'totalPokes': {'timestamp': 1414205, 'value': 23},\n",
       " 'totalRewards': {'timestamp': 1414205, 'value': 10},\n",
       " 'ifDelay': {'timestamp': 1414206, 'value': 1},\n",
       " 'countPokes1': {'timestamp': 1414206, 'value': 9},\n",
       " 'countRewards1': {'timestamp': 1414207, 'value': 4},\n",
       " 'portProbs1': {'timestamp': 1414207, 'value': 50},\n",
       " 'countPokes2': {'timestamp': 1414208, 'value': 8},\n",
       " 'countRewards2': {'timestamp': 1414208, 'value': 0},\n",
       " 'portProbs2': {'timestamp': 1414209, 'value': 10},\n",
       " 'countPokes3': {'timestamp': 1414230, 'value': 6},\n",
       " 'countRewards3': {'timestamp': 1414230, 'value': 6},\n",
       " 'portProbs3': {'timestamp': 1414231, 'value': 90}}"
      ]
     },
     "metadata": {},
     "output_type": "display_data"
    },
    {
     "data": {
      "text/plain": [
       "{'contingency': {'timestamp': 1422764, 'value': 1},\n",
       " 'trialThresh': {'timestamp': 1422765, 'value': 69},\n",
       " 'totalPokes': {'timestamp': 1422765, 'value': 24},\n",
       " 'totalRewards': {'timestamp': 1422766, 'value': 10},\n",
       " 'ifDelay': {'timestamp': 1422766, 'value': 1},\n",
       " 'countPokes1': {'timestamp': 1422767, 'value': 9},\n",
       " 'countRewards1': {'timestamp': 1422767, 'value': 4},\n",
       " 'portProbs1': {'timestamp': 1422768, 'value': 50},\n",
       " 'countPokes2': {'timestamp': 1422768, 'value': 9},\n",
       " 'countRewards2': {'timestamp': 1422769, 'value': 0},\n",
       " 'portProbs2': {'timestamp': 1422769, 'value': 10},\n",
       " 'countPokes3': {'timestamp': 1422790, 'value': 6},\n",
       " 'countRewards3': {'timestamp': 1422791, 'value': 6},\n",
       " 'portProbs3': {'timestamp': 1422791, 'value': 90}}"
      ]
     },
     "metadata": {},
     "output_type": "display_data"
    },
    {
     "data": {
      "text/plain": [
       "{'contingency': {'timestamp': 1430254, 'value': 1},\n",
       " 'trialThresh': {'timestamp': 1430254, 'value': 69},\n",
       " 'totalPokes': {'timestamp': 1430255, 'value': 25},\n",
       " 'totalRewards': {'timestamp': 1430255, 'value': 11},\n",
       " 'ifDelay': {'timestamp': 1430256, 'value': 1},\n",
       " 'countPokes1': {'timestamp': 1430256, 'value': 9},\n",
       " 'countRewards1': {'timestamp': 1430257, 'value': 4},\n",
       " 'portProbs1': {'timestamp': 1430257, 'value': 50},\n",
       " 'countPokes2': {'timestamp': 1430258, 'value': 9},\n",
       " 'countRewards2': {'timestamp': 1430258, 'value': 0},\n",
       " 'portProbs2': {'timestamp': 1430258, 'value': 10},\n",
       " 'countPokes3': {'timestamp': 1430279, 'value': 7},\n",
       " 'countRewards3': {'timestamp': 1430280, 'value': 7},\n",
       " 'portProbs3': {'timestamp': 1430280, 'value': 90}}"
      ]
     },
     "metadata": {},
     "output_type": "display_data"
    },
    {
     "data": {
      "text/plain": [
       "{'contingency': {'timestamp': 1450076, 'value': 1},\n",
       " 'trialThresh': {'timestamp': 1450076, 'value': 69},\n",
       " 'totalPokes': {'timestamp': 1450077, 'value': 26},\n",
       " 'totalRewards': {'timestamp': 1450077, 'value': 11},\n",
       " 'ifDelay': {'timestamp': 1450078, 'value': 1},\n",
       " 'countPokes1': {'timestamp': 1450078, 'value': 10},\n",
       " 'countRewards1': {'timestamp': 1450079, 'value': 4},\n",
       " 'portProbs1': {'timestamp': 1450079, 'value': 50},\n",
       " 'countPokes2': {'timestamp': 1450080, 'value': 9},\n",
       " 'countRewards2': {'timestamp': 1450080, 'value': 0},\n",
       " 'portProbs2': {'timestamp': 1450081, 'value': 10},\n",
       " 'countPokes3': {'timestamp': 1450102, 'value': 7},\n",
       " 'countRewards3': {'timestamp': 1450102, 'value': 7},\n",
       " 'portProbs3': {'timestamp': 1450103, 'value': 90}}"
      ]
     },
     "metadata": {},
     "output_type": "display_data"
    },
    {
     "data": {
      "text/plain": [
       "{'contingency': {'timestamp': 1458916, 'value': 1},\n",
       " 'trialThresh': {'timestamp': 1458916, 'value': 69},\n",
       " 'totalPokes': {'timestamp': 1458916, 'value': 27},\n",
       " 'totalRewards': {'timestamp': 1458917, 'value': 11},\n",
       " 'ifDelay': {'timestamp': 1458917, 'value': 1},\n",
       " 'countPokes1': {'timestamp': 1458918, 'value': 10},\n",
       " 'countRewards1': {'timestamp': 1458918, 'value': 4},\n",
       " 'portProbs1': {'timestamp': 1458919, 'value': 50},\n",
       " 'countPokes2': {'timestamp': 1458919, 'value': 10},\n",
       " 'countRewards2': {'timestamp': 1458920, 'value': 0},\n",
       " 'portProbs2': {'timestamp': 1458920, 'value': 10},\n",
       " 'countPokes3': {'timestamp': 1458941, 'value': 7},\n",
       " 'countRewards3': {'timestamp': 1458942, 'value': 7},\n",
       " 'portProbs3': {'timestamp': 1458942, 'value': 90}}"
      ]
     },
     "metadata": {},
     "output_type": "display_data"
    },
    {
     "data": {
      "text/plain": [
       "{'contingency': {'timestamp': 1479265, 'value': 1},\n",
       " 'trialThresh': {'timestamp': 1479266, 'value': 69},\n",
       " 'totalPokes': {'timestamp': 1479266, 'value': 28},\n",
       " 'totalRewards': {'timestamp': 1479267, 'value': 12},\n",
       " 'ifDelay': {'timestamp': 1479267, 'value': 1},\n",
       " 'countPokes1': {'timestamp': 1479268, 'value': 10},\n",
       " 'countRewards1': {'timestamp': 1479268, 'value': 4},\n",
       " 'portProbs1': {'timestamp': 1479269, 'value': 50},\n",
       " 'countPokes2': {'timestamp': 1479269, 'value': 10},\n",
       " 'countRewards2': {'timestamp': 1479270, 'value': 0},\n",
       " 'portProbs2': {'timestamp': 1479270, 'value': 10},\n",
       " 'countPokes3': {'timestamp': 1479291, 'value': 8},\n",
       " 'countRewards3': {'timestamp': 1479292, 'value': 8},\n",
       " 'portProbs3': {'timestamp': 1479292, 'value': 90}}"
      ]
     },
     "metadata": {},
     "output_type": "display_data"
    },
    {
     "data": {
      "text/plain": [
       "{'contingency': {'timestamp': 1489865, 'value': 1},\n",
       " 'trialThresh': {'timestamp': 1489866, 'value': 69},\n",
       " 'totalPokes': {'timestamp': 1489866, 'value': 29},\n",
       " 'totalRewards': {'timestamp': 1489867, 'value': 12},\n",
       " 'ifDelay': {'timestamp': 1489867, 'value': 1},\n",
       " 'countPokes1': {'timestamp': 1489868, 'value': 11},\n",
       " 'countRewards1': {'timestamp': 1489868, 'value': 4},\n",
       " 'portProbs1': {'timestamp': 1489868, 'value': 50},\n",
       " 'countPokes2': {'timestamp': 1489869, 'value': 10},\n",
       " 'countRewards2': {'timestamp': 1489869, 'value': 0},\n",
       " 'portProbs2': {'timestamp': 1489870, 'value': 10},\n",
       " 'countPokes3': {'timestamp': 1489891, 'value': 8},\n",
       " 'countRewards3': {'timestamp': 1489892, 'value': 8},\n",
       " 'portProbs3': {'timestamp': 1489892, 'value': 90}}"
      ]
     },
     "metadata": {},
     "output_type": "display_data"
    },
    {
     "data": {
      "text/plain": [
       "{'contingency': {'timestamp': 1499296, 'value': 1},\n",
       " 'trialThresh': {'timestamp': 1499296, 'value': 69},\n",
       " 'totalPokes': {'timestamp': 1499297, 'value': 30},\n",
       " 'totalRewards': {'timestamp': 1499297, 'value': 13},\n",
       " 'ifDelay': {'timestamp': 1499298, 'value': 1},\n",
       " 'countPokes1': {'timestamp': 1499298, 'value': 11},\n",
       " 'countRewards1': {'timestamp': 1499299, 'value': 4},\n",
       " 'portProbs1': {'timestamp': 1499299, 'value': 50},\n",
       " 'countPokes2': {'timestamp': 1499300, 'value': 10},\n",
       " 'countRewards2': {'timestamp': 1499321, 'value': 0},\n",
       " 'portProbs2': {'timestamp': 1499321, 'value': 10},\n",
       " 'countPokes3': {'timestamp': 1499322, 'value': 9},\n",
       " 'countRewards3': {'timestamp': 1499322, 'value': 9},\n",
       " 'portProbs3': {'timestamp': 1499323, 'value': 90}}"
      ]
     },
     "metadata": {},
     "output_type": "display_data"
    },
    {
     "data": {
      "text/plain": [
       "{'contingency': {'timestamp': 1519622, 'value': 1},\n",
       " 'trialThresh': {'timestamp': 1519623, 'value': 69},\n",
       " 'totalPokes': {'timestamp': 1519623, 'value': 31},\n",
       " 'totalRewards': {'timestamp': 1519624, 'value': 13},\n",
       " 'ifDelay': {'timestamp': 1519624, 'value': 1},\n",
       " 'countPokes1': {'timestamp': 1519625, 'value': 12},\n",
       " 'countRewards1': {'timestamp': 1519625, 'value': 4},\n",
       " 'portProbs1': {'timestamp': 1519626, 'value': 50},\n",
       " 'countPokes2': {'timestamp': 1519626, 'value': 10},\n",
       " 'countRewards2': {'timestamp': 1519627, 'value': 0},\n",
       " 'portProbs2': {'timestamp': 1519627, 'value': 10},\n",
       " 'countPokes3': {'timestamp': 1519648, 'value': 9},\n",
       " 'countRewards3': {'timestamp': 1519649, 'value': 9},\n",
       " 'portProbs3': {'timestamp': 1519649, 'value': 90}}"
      ]
     },
     "metadata": {},
     "output_type": "display_data"
    },
    {
     "data": {
      "text/plain": [
       "{'contingency': {'timestamp': 1528682, 'value': 1},\n",
       " 'trialThresh': {'timestamp': 1528682, 'value': 69},\n",
       " 'totalPokes': {'timestamp': 1528683, 'value': 32},\n",
       " 'totalRewards': {'timestamp': 1528683, 'value': 14},\n",
       " 'ifDelay': {'timestamp': 1528684, 'value': 1},\n",
       " 'countPokes1': {'timestamp': 1528684, 'value': 12},\n",
       " 'countRewards1': {'timestamp': 1528685, 'value': 4},\n",
       " 'portProbs1': {'timestamp': 1528685, 'value': 50},\n",
       " 'countPokes2': {'timestamp': 1528686, 'value': 10},\n",
       " 'countRewards2': {'timestamp': 1528707, 'value': 0},\n",
       " 'portProbs2': {'timestamp': 1528707, 'value': 10},\n",
       " 'countPokes3': {'timestamp': 1528708, 'value': 10},\n",
       " 'countRewards3': {'timestamp': 1528708, 'value': 10},\n",
       " 'portProbs3': {'timestamp': 1528709, 'value': 90}}"
      ]
     },
     "metadata": {},
     "output_type": "display_data"
    },
    {
     "data": {
      "text/plain": [
       "{'contingency': {'timestamp': 1551226, 'value': 1},\n",
       " 'trialThresh': {'timestamp': 1551227, 'value': 69},\n",
       " 'totalPokes': {'timestamp': 1551227, 'value': 33},\n",
       " 'totalRewards': {'timestamp': 1551228, 'value': 14},\n",
       " 'ifDelay': {'timestamp': 1551228, 'value': 0},\n",
       " 'countPokes1': {'timestamp': 1551229, 'value': 13},\n",
       " 'countRewards1': {'timestamp': 1551229, 'value': 4},\n",
       " 'portProbs1': {'timestamp': 1551230, 'value': 50},\n",
       " 'countPokes2': {'timestamp': 1551230, 'value': 10},\n",
       " 'countRewards2': {'timestamp': 1551231, 'value': 0},\n",
       " 'portProbs2': {'timestamp': 1551231, 'value': 10},\n",
       " 'countPokes3': {'timestamp': 1551252, 'value': 10},\n",
       " 'countRewards3': {'timestamp': 1551253, 'value': 10},\n",
       " 'portProbs3': {'timestamp': 1551253, 'value': 90}}"
      ]
     },
     "metadata": {},
     "output_type": "display_data"
    },
    {
     "data": {
      "text/plain": [
       "{'contingency': {'timestamp': 1560996, 'value': 1},\n",
       " 'trialThresh': {'timestamp': 1560997, 'value': 69},\n",
       " 'totalPokes': {'timestamp': 1560997, 'value': 34},\n",
       " 'totalRewards': {'timestamp': 1560998, 'value': 14},\n",
       " 'ifDelay': {'timestamp': 1560998, 'value': 0},\n",
       " 'countPokes1': {'timestamp': 1560999, 'value': 13},\n",
       " 'countRewards1': {'timestamp': 1560999, 'value': 4},\n",
       " 'portProbs1': {'timestamp': 1561000, 'value': 50},\n",
       " 'countPokes2': {'timestamp': 1561000, 'value': 10},\n",
       " 'countRewards2': {'timestamp': 1561001, 'value': 0},\n",
       " 'portProbs2': {'timestamp': 1561001, 'value': 10},\n",
       " 'countPokes3': {'timestamp': 1561022, 'value': 11},\n",
       " 'countRewards3': {'timestamp': 1561023, 'value': 10},\n",
       " 'portProbs3': {'timestamp': 1561023, 'value': 90}}"
      ]
     },
     "metadata": {},
     "output_type": "display_data"
    },
    {
     "data": {
      "text/plain": [
       "{'contingency': {'timestamp': 1570247, 'value': 1},\n",
       " 'trialThresh': {'timestamp': 1570247, 'value': 69},\n",
       " 'totalPokes': {'timestamp': 1570248, 'value': 35},\n",
       " 'totalRewards': {'timestamp': 1570248, 'value': 14},\n",
       " 'ifDelay': {'timestamp': 1570249, 'value': 0},\n",
       " 'countPokes1': {'timestamp': 1570249, 'value': 14},\n",
       " 'countRewards1': {'timestamp': 1570249, 'value': 4},\n",
       " 'portProbs1': {'timestamp': 1570250, 'value': 50},\n",
       " 'countPokes2': {'timestamp': 1570250, 'value': 10},\n",
       " 'countRewards2': {'timestamp': 1570251, 'value': 0},\n",
       " 'portProbs2': {'timestamp': 1570251, 'value': 10},\n",
       " 'countPokes3': {'timestamp': 1570273, 'value': 11},\n",
       " 'countRewards3': {'timestamp': 1570273, 'value': 10},\n",
       " 'portProbs3': {'timestamp': 1570274, 'value': 90}}"
      ]
     },
     "metadata": {},
     "output_type": "display_data"
    },
    {
     "data": {
      "text/plain": [
       "{'contingency': {'timestamp': 1579180, 'value': 1},\n",
       " 'trialThresh': {'timestamp': 1579180, 'value': 69},\n",
       " 'totalPokes': {'timestamp': 1579181, 'value': 36},\n",
       " 'totalRewards': {'timestamp': 1579181, 'value': 15},\n",
       " 'ifDelay': {'timestamp': 1579182, 'value': 0},\n",
       " 'countPokes1': {'timestamp': 1579182, 'value': 14},\n",
       " 'countRewards1': {'timestamp': 1579183, 'value': 4},\n",
       " 'portProbs1': {'timestamp': 1579183, 'value': 50},\n",
       " 'countPokes2': {'timestamp': 1579184, 'value': 10},\n",
       " 'countRewards2': {'timestamp': 1579184, 'value': 0},\n",
       " 'portProbs2': {'timestamp': 1579185, 'value': 10},\n",
       " 'countPokes3': {'timestamp': 1579206, 'value': 12},\n",
       " 'countRewards3': {'timestamp': 1579206, 'value': 11},\n",
       " 'portProbs3': {'timestamp': 1579207, 'value': 90}}"
      ]
     },
     "metadata": {},
     "output_type": "display_data"
    },
    {
     "data": {
      "text/plain": [
       "{'contingency': {'timestamp': 1600106, 'value': 1},\n",
       " 'trialThresh': {'timestamp': 1600106, 'value': 69},\n",
       " 'totalPokes': {'timestamp': 1600107, 'value': 37},\n",
       " 'totalRewards': {'timestamp': 1600107, 'value': 15},\n",
       " 'ifDelay': {'timestamp': 1600108, 'value': 0},\n",
       " 'countPokes1': {'timestamp': 1600108, 'value': 14},\n",
       " 'countRewards1': {'timestamp': 1600109, 'value': 4},\n",
       " 'portProbs1': {'timestamp': 1600109, 'value': 50},\n",
       " 'countPokes2': {'timestamp': 1600110, 'value': 11},\n",
       " 'countRewards2': {'timestamp': 1600110, 'value': 0},\n",
       " 'portProbs2': {'timestamp': 1600111, 'value': 10},\n",
       " 'countPokes3': {'timestamp': 1600132, 'value': 12},\n",
       " 'countRewards3': {'timestamp': 1600132, 'value': 11},\n",
       " 'portProbs3': {'timestamp': 1600133, 'value': 90}}"
      ]
     },
     "metadata": {},
     "output_type": "display_data"
    },
    {
     "data": {
      "text/plain": [
       "{'contingency': {'timestamp': 1608414, 'value': 1},\n",
       " 'trialThresh': {'timestamp': 1608415, 'value': 69},\n",
       " 'totalPokes': {'timestamp': 1608415, 'value': 38},\n",
       " 'totalRewards': {'timestamp': 1608415, 'value': 15},\n",
       " 'ifDelay': {'timestamp': 1608416, 'value': 0},\n",
       " 'countPokes1': {'timestamp': 1608416, 'value': 14},\n",
       " 'countRewards1': {'timestamp': 1608417, 'value': 4},\n",
       " 'portProbs1': {'timestamp': 1608417, 'value': 50},\n",
       " 'countPokes2': {'timestamp': 1608418, 'value': 11},\n",
       " 'countRewards2': {'timestamp': 1608418, 'value': 0},\n",
       " 'portProbs2': {'timestamp': 1608419, 'value': 10},\n",
       " 'countPokes3': {'timestamp': 1608440, 'value': 13},\n",
       " 'countRewards3': {'timestamp': 1608440, 'value': 11},\n",
       " 'portProbs3': {'timestamp': 1608441, 'value': 90}}"
      ]
     },
     "metadata": {},
     "output_type": "display_data"
    },
    {
     "data": {
      "text/plain": [
       "{'contingency': {'timestamp': 1616764, 'value': 1},\n",
       " 'trialThresh': {'timestamp': 1616765, 'value': 69},\n",
       " 'totalPokes': {'timestamp': 1616765, 'value': 39},\n",
       " 'totalRewards': {'timestamp': 1616766, 'value': 15},\n",
       " 'ifDelay': {'timestamp': 1616766, 'value': 0},\n",
       " 'countPokes1': {'timestamp': 1616767, 'value': 15},\n",
       " 'countRewards1': {'timestamp': 1616767, 'value': 4},\n",
       " 'portProbs1': {'timestamp': 1616768, 'value': 50},\n",
       " 'countPokes2': {'timestamp': 1616768, 'value': 11},\n",
       " 'countRewards2': {'timestamp': 1616769, 'value': 0},\n",
       " 'portProbs2': {'timestamp': 1616769, 'value': 10},\n",
       " 'countPokes3': {'timestamp': 1616791, 'value': 13},\n",
       " 'countRewards3': {'timestamp': 1616791, 'value': 11},\n",
       " 'portProbs3': {'timestamp': 1616791, 'value': 90}}"
      ]
     },
     "metadata": {},
     "output_type": "display_data"
    },
    {
     "data": {
      "text/plain": [
       "{'contingency': {'timestamp': 1625704, 'value': 1},\n",
       " 'trialThresh': {'timestamp': 1625705, 'value': 69},\n",
       " 'totalPokes': {'timestamp': 1625705, 'value': 40},\n",
       " 'totalRewards': {'timestamp': 1625706, 'value': 16},\n",
       " 'ifDelay': {'timestamp': 1625706, 'value': 0},\n",
       " 'countPokes1': {'timestamp': 1625707, 'value': 15},\n",
       " 'countRewards1': {'timestamp': 1625707, 'value': 4},\n",
       " 'portProbs1': {'timestamp': 1625708, 'value': 50},\n",
       " 'countPokes2': {'timestamp': 1625708, 'value': 11},\n",
       " 'countRewards2': {'timestamp': 1625729, 'value': 0},\n",
       " 'portProbs2': {'timestamp': 1625730, 'value': 10},\n",
       " 'countPokes3': {'timestamp': 1625730, 'value': 14},\n",
       " 'countRewards3': {'timestamp': 1625731, 'value': 12},\n",
       " 'portProbs3': {'timestamp': 1625731, 'value': 90}}"
      ]
     },
     "metadata": {},
     "output_type": "display_data"
    },
    {
     "data": {
      "text/plain": [
       "{'contingency': {'timestamp': 1646839, 'value': 1},\n",
       " 'trialThresh': {'timestamp': 1646840, 'value': 69},\n",
       " 'totalPokes': {'timestamp': 1646840, 'value': 41},\n",
       " 'totalRewards': {'timestamp': 1646841, 'value': 17},\n",
       " 'ifDelay': {'timestamp': 1646841, 'value': 1},\n",
       " 'countPokes1': {'timestamp': 1646842, 'value': 16},\n",
       " 'countRewards1': {'timestamp': 1646842, 'value': 5},\n",
       " 'portProbs1': {'timestamp': 1646843, 'value': 50},\n",
       " 'countPokes2': {'timestamp': 1646843, 'value': 11},\n",
       " 'countRewards2': {'timestamp': 1646844, 'value': 0},\n",
       " 'portProbs2': {'timestamp': 1646844, 'value': 10},\n",
       " 'countPokes3': {'timestamp': 1646865, 'value': 14},\n",
       " 'countRewards3': {'timestamp': 1646866, 'value': 12},\n",
       " 'portProbs3': {'timestamp': 1646866, 'value': 90}}"
      ]
     },
     "metadata": {},
     "output_type": "display_data"
    },
    {
     "data": {
      "text/plain": [
       "{'contingency': {'timestamp': 1668589, 'value': 1},\n",
       " 'trialThresh': {'timestamp': 1668590, 'value': 69},\n",
       " 'totalPokes': {'timestamp': 1668590, 'value': 42},\n",
       " 'totalRewards': {'timestamp': 1668591, 'value': 18},\n",
       " 'ifDelay': {'timestamp': 1668591, 'value': 1},\n",
       " 'countPokes1': {'timestamp': 1668592, 'value': 16},\n",
       " 'countRewards1': {'timestamp': 1668592, 'value': 5},\n",
       " 'portProbs1': {'timestamp': 1668593, 'value': 50},\n",
       " 'countPokes2': {'timestamp': 1668593, 'value': 11},\n",
       " 'countRewards2': {'timestamp': 1668615, 'value': 0},\n",
       " 'portProbs2': {'timestamp': 1668615, 'value': 10},\n",
       " 'countPokes3': {'timestamp': 1668615, 'value': 15},\n",
       " 'countRewards3': {'timestamp': 1668616, 'value': 13},\n",
       " 'portProbs3': {'timestamp': 1668616, 'value': 90}}"
      ]
     },
     "metadata": {},
     "output_type": "display_data"
    },
    {
     "data": {
      "text/plain": [
       "{'contingency': {'timestamp': 1693192, 'value': 1},\n",
       " 'trialThresh': {'timestamp': 1693192, 'value': 69},\n",
       " 'totalPokes': {'timestamp': 1693193, 'value': 43},\n",
       " 'totalRewards': {'timestamp': 1693193, 'value': 19},\n",
       " 'ifDelay': {'timestamp': 1693194, 'value': 0},\n",
       " 'countPokes1': {'timestamp': 1693194, 'value': 17},\n",
       " 'countRewards1': {'timestamp': 1693195, 'value': 6},\n",
       " 'portProbs1': {'timestamp': 1693195, 'value': 50},\n",
       " 'countPokes2': {'timestamp': 1693196, 'value': 11},\n",
       " 'countRewards2': {'timestamp': 1693196, 'value': 0},\n",
       " 'portProbs2': {'timestamp': 1693197, 'value': 10},\n",
       " 'countPokes3': {'timestamp': 1693218, 'value': 15},\n",
       " 'countRewards3': {'timestamp': 1693218, 'value': 13},\n",
       " 'portProbs3': {'timestamp': 1693219, 'value': 90}}"
      ]
     },
     "metadata": {},
     "output_type": "display_data"
    },
    {
     "data": {
      "text/plain": [
       "{'contingency': {'timestamp': 1717504, 'value': 1},\n",
       " 'trialThresh': {'timestamp': 1717504, 'value': 69},\n",
       " 'totalPokes': {'timestamp': 1717505, 'value': 44},\n",
       " 'totalRewards': {'timestamp': 1717505, 'value': 20},\n",
       " 'ifDelay': {'timestamp': 1717506, 'value': 1},\n",
       " 'countPokes1': {'timestamp': 1717506, 'value': 17},\n",
       " 'countRewards1': {'timestamp': 1717506, 'value': 6},\n",
       " 'portProbs1': {'timestamp': 1717507, 'value': 50},\n",
       " 'countPokes2': {'timestamp': 1717507, 'value': 11},\n",
       " 'countRewards2': {'timestamp': 1717508, 'value': 0},\n",
       " 'portProbs2': {'timestamp': 1717508, 'value': 10},\n",
       " 'countPokes3': {'timestamp': 1717530, 'value': 16},\n",
       " 'countRewards3': {'timestamp': 1717530, 'value': 14},\n",
       " 'portProbs3': {'timestamp': 1717531, 'value': 90}}"
      ]
     },
     "metadata": {},
     "output_type": "display_data"
    },
    {
     "data": {
      "text/plain": [
       "{'contingency': {'timestamp': 1739854, 'value': 1},\n",
       " 'trialThresh': {'timestamp': 1739855, 'value': 69},\n",
       " 'totalPokes': {'timestamp': 1739855, 'value': 45},\n",
       " 'totalRewards': {'timestamp': 1739856, 'value': 20},\n",
       " 'ifDelay': {'timestamp': 1739856, 'value': 0},\n",
       " 'countPokes1': {'timestamp': 1739856, 'value': 17},\n",
       " 'countRewards1': {'timestamp': 1739857, 'value': 6},\n",
       " 'portProbs1': {'timestamp': 1739857, 'value': 50},\n",
       " 'countPokes2': {'timestamp': 1739858, 'value': 12},\n",
       " 'countRewards2': {'timestamp': 1739858, 'value': 0},\n",
       " 'portProbs2': {'timestamp': 1739859, 'value': 10},\n",
       " 'countPokes3': {'timestamp': 1739880, 'value': 16},\n",
       " 'countRewards3': {'timestamp': 1739881, 'value': 14},\n",
       " 'portProbs3': {'timestamp': 1739881, 'value': 90}}"
      ]
     },
     "metadata": {},
     "output_type": "display_data"
    },
    {
     "data": {
      "text/plain": [
       "{'contingency': {'timestamp': 1748094, 'value': 1},\n",
       " 'trialThresh': {'timestamp': 1748094, 'value': 69},\n",
       " 'totalPokes': {'timestamp': 1748095, 'value': 46},\n",
       " 'totalRewards': {'timestamp': 1748095, 'value': 20},\n",
       " 'ifDelay': {'timestamp': 1748096, 'value': 0},\n",
       " 'countPokes1': {'timestamp': 1748096, 'value': 18},\n",
       " 'countRewards1': {'timestamp': 1748097, 'value': 6},\n",
       " 'portProbs1': {'timestamp': 1748097, 'value': 50},\n",
       " 'countPokes2': {'timestamp': 1748098, 'value': 12},\n",
       " 'countRewards2': {'timestamp': 1748098, 'value': 0},\n",
       " 'portProbs2': {'timestamp': 1748099, 'value': 10},\n",
       " 'countPokes3': {'timestamp': 1748120, 'value': 16},\n",
       " 'countRewards3': {'timestamp': 1748120, 'value': 14},\n",
       " 'portProbs3': {'timestamp': 1748121, 'value': 90}}"
      ]
     },
     "metadata": {},
     "output_type": "display_data"
    },
    {
     "data": {
      "text/plain": [
       "{'contingency': {'timestamp': 1763566, 'value': 1},\n",
       " 'trialThresh': {'timestamp': 1763566, 'value': 69},\n",
       " 'totalPokes': {'timestamp': 1763567, 'value': 47},\n",
       " 'totalRewards': {'timestamp': 1763567, 'value': 21},\n",
       " 'ifDelay': {'timestamp': 1763568, 'value': 0},\n",
       " 'countPokes1': {'timestamp': 1763568, 'value': 18},\n",
       " 'countRewards1': {'timestamp': 1763568, 'value': 6},\n",
       " 'portProbs1': {'timestamp': 1763569, 'value': 50},\n",
       " 'countPokes2': {'timestamp': 1763569, 'value': 12},\n",
       " 'countRewards2': {'timestamp': 1763570, 'value': 0},\n",
       " 'portProbs2': {'timestamp': 1763570, 'value': 10},\n",
       " 'countPokes3': {'timestamp': 1763592, 'value': 17},\n",
       " 'countRewards3': {'timestamp': 1763592, 'value': 15},\n",
       " 'portProbs3': {'timestamp': 1763593, 'value': 90}}"
      ]
     },
     "metadata": {},
     "output_type": "display_data"
    },
    {
     "data": {
      "text/plain": [
       "{'contingency': {'timestamp': 1780288, 'value': 1},\n",
       " 'trialThresh': {'timestamp': 1780288, 'value': 69},\n",
       " 'totalPokes': {'timestamp': 1780289, 'value': 48},\n",
       " 'totalRewards': {'timestamp': 1780289, 'value': 21},\n",
       " 'ifDelay': {'timestamp': 1780290, 'value': 0},\n",
       " 'countPokes1': {'timestamp': 1780290, 'value': 19},\n",
       " 'countRewards1': {'timestamp': 1780291, 'value': 6},\n",
       " 'portProbs1': {'timestamp': 1780291, 'value': 50},\n",
       " 'countPokes2': {'timestamp': 1780292, 'value': 12},\n",
       " 'countRewards2': {'timestamp': 1780292, 'value': 0},\n",
       " 'portProbs2': {'timestamp': 1780293, 'value': 10},\n",
       " 'countPokes3': {'timestamp': 1780314, 'value': 17},\n",
       " 'countRewards3': {'timestamp': 1780314, 'value': 15},\n",
       " 'portProbs3': {'timestamp': 1780315, 'value': 90}}"
      ]
     },
     "metadata": {},
     "output_type": "display_data"
    },
    {
     "data": {
      "text/plain": [
       "{'contingency': {'timestamp': 1791304, 'value': 1},\n",
       " 'trialThresh': {'timestamp': 1791304, 'value': 69},\n",
       " 'totalPokes': {'timestamp': 1791305, 'value': 49},\n",
       " 'totalRewards': {'timestamp': 1791305, 'value': 22},\n",
       " 'ifDelay': {'timestamp': 1791305, 'value': 0},\n",
       " 'countPokes1': {'timestamp': 1791306, 'value': 19},\n",
       " 'countRewards1': {'timestamp': 1791306, 'value': 6},\n",
       " 'portProbs1': {'timestamp': 1791307, 'value': 50},\n",
       " 'countPokes2': {'timestamp': 1791307, 'value': 12},\n",
       " 'countRewards2': {'timestamp': 1791308, 'value': 0},\n",
       " 'portProbs2': {'timestamp': 1791308, 'value': 10},\n",
       " 'countPokes3': {'timestamp': 1791330, 'value': 18},\n",
       " 'countRewards3': {'timestamp': 1791330, 'value': 16},\n",
       " 'portProbs3': {'timestamp': 1791331, 'value': 90}}"
      ]
     },
     "metadata": {},
     "output_type": "display_data"
    },
    {
     "data": {
      "text/plain": [
       "{'contingency': {'timestamp': 1815453, 'value': 1},\n",
       " 'trialThresh': {'timestamp': 1815453, 'value': 69},\n",
       " 'totalPokes': {'timestamp': 1815454, 'value': 50},\n",
       " 'totalRewards': {'timestamp': 1815454, 'value': 23},\n",
       " 'ifDelay': {'timestamp': 1815455, 'value': 1},\n",
       " 'countPokes1': {'timestamp': 1815455, 'value': 20},\n",
       " 'countRewards1': {'timestamp': 1815456, 'value': 7},\n",
       " 'portProbs1': {'timestamp': 1815456, 'value': 50},\n",
       " 'countPokes2': {'timestamp': 1815457, 'value': 12},\n",
       " 'countRewards2': {'timestamp': 1815457, 'value': 0},\n",
       " 'portProbs2': {'timestamp': 1815478, 'value': 10},\n",
       " 'countPokes3': {'timestamp': 1815479, 'value': 18},\n",
       " 'countRewards3': {'timestamp': 1815479, 'value': 16},\n",
       " 'portProbs3': {'timestamp': 1815480, 'value': 90}}"
      ]
     },
     "metadata": {},
     "output_type": "display_data"
    },
    {
     "data": {
      "text/plain": [
       "{'contingency': {'timestamp': 1839205, 'value': 1},\n",
       " 'trialThresh': {'timestamp': 1839205, 'value': 69},\n",
       " 'totalPokes': {'timestamp': 1839205, 'value': 51},\n",
       " 'totalRewards': {'timestamp': 1839206, 'value': 24},\n",
       " 'ifDelay': {'timestamp': 1839206, 'value': 0},\n",
       " 'countPokes1': {'timestamp': 1839207, 'value': 20},\n",
       " 'countRewards1': {'timestamp': 1839207, 'value': 7},\n",
       " 'portProbs1': {'timestamp': 1839208, 'value': 50},\n",
       " 'countPokes2': {'timestamp': 1839208, 'value': 12},\n",
       " 'countRewards2': {'timestamp': 1839209, 'value': 0},\n",
       " 'portProbs2': {'timestamp': 1839209, 'value': 10},\n",
       " 'countPokes3': {'timestamp': 1839231, 'value': 19},\n",
       " 'countRewards3': {'timestamp': 1839231, 'value': 17},\n",
       " 'portProbs3': {'timestamp': 1839232, 'value': 90}}"
      ]
     },
     "metadata": {},
     "output_type": "display_data"
    },
    {
     "data": {
      "text/plain": [
       "{'contingency': {'timestamp': 1865475, 'value': 1},\n",
       " 'trialThresh': {'timestamp': 1865475, 'value': 69},\n",
       " 'totalPokes': {'timestamp': 1865476, 'value': 52},\n",
       " 'totalRewards': {'timestamp': 1865476, 'value': 25},\n",
       " 'ifDelay': {'timestamp': 1865477, 'value': 0},\n",
       " 'countPokes1': {'timestamp': 1865477, 'value': 21},\n",
       " 'countRewards1': {'timestamp': 1865478, 'value': 8},\n",
       " 'portProbs1': {'timestamp': 1865478, 'value': 50},\n",
       " 'countPokes2': {'timestamp': 1865479, 'value': 12},\n",
       " 'countRewards2': {'timestamp': 1865479, 'value': 0},\n",
       " 'portProbs2': {'timestamp': 1865480, 'value': 10},\n",
       " 'countPokes3': {'timestamp': 1865501, 'value': 19},\n",
       " 'countRewards3': {'timestamp': 1865501, 'value': 17},\n",
       " 'portProbs3': {'timestamp': 1865502, 'value': 90}}"
      ]
     },
     "metadata": {},
     "output_type": "display_data"
    },
    {
     "data": {
      "text/plain": [
       "{'contingency': {'timestamp': 1897845, 'value': 1},\n",
       " 'trialThresh': {'timestamp': 1897845, 'value': 69},\n",
       " 'totalPokes': {'timestamp': 1897846, 'value': 53},\n",
       " 'totalRewards': {'timestamp': 1897846, 'value': 26},\n",
       " 'ifDelay': {'timestamp': 1897847, 'value': 0},\n",
       " 'countPokes1': {'timestamp': 1897847, 'value': 21},\n",
       " 'countRewards1': {'timestamp': 1897847, 'value': 8},\n",
       " 'portProbs1': {'timestamp': 1897848, 'value': 50},\n",
       " 'countPokes2': {'timestamp': 1897848, 'value': 12},\n",
       " 'countRewards2': {'timestamp': 1897849, 'value': 0},\n",
       " 'portProbs2': {'timestamp': 1897849, 'value': 10},\n",
       " 'countPokes3': {'timestamp': 1897871, 'value': 20},\n",
       " 'countRewards3': {'timestamp': 1897871, 'value': 18},\n",
       " 'portProbs3': {'timestamp': 1897872, 'value': 90}}"
      ]
     },
     "metadata": {},
     "output_type": "display_data"
    },
    {
     "data": {
      "text/plain": [
       "{'contingency': {'timestamp': 1913024, 'value': 1},\n",
       " 'trialThresh': {'timestamp': 1913024, 'value': 69},\n",
       " 'totalPokes': {'timestamp': 1913025, 'value': 54},\n",
       " 'totalRewards': {'timestamp': 1913025, 'value': 26},\n",
       " 'ifDelay': {'timestamp': 1913026, 'value': 0},\n",
       " 'countPokes1': {'timestamp': 1913026, 'value': 22},\n",
       " 'countRewards1': {'timestamp': 1913027, 'value': 8},\n",
       " 'portProbs1': {'timestamp': 1913027, 'value': 50},\n",
       " 'countPokes2': {'timestamp': 1913028, 'value': 12},\n",
       " 'countRewards2': {'timestamp': 1913028, 'value': 0},\n",
       " 'portProbs2': {'timestamp': 1913029, 'value': 10},\n",
       " 'countPokes3': {'timestamp': 1913050, 'value': 20},\n",
       " 'countRewards3': {'timestamp': 1913050, 'value': 18},\n",
       " 'portProbs3': {'timestamp': 1913051, 'value': 90}}"
      ]
     },
     "metadata": {},
     "output_type": "display_data"
    },
    {
     "data": {
      "text/plain": [
       "{'contingency': {'timestamp': 1922035, 'value': 1},\n",
       " 'trialThresh': {'timestamp': 1922036, 'value': 69},\n",
       " 'totalPokes': {'timestamp': 1922036, 'value': 55},\n",
       " 'totalRewards': {'timestamp': 1922037, 'value': 27},\n",
       " 'ifDelay': {'timestamp': 1922037, 'value': 0},\n",
       " 'countPokes1': {'timestamp': 1922038, 'value': 22},\n",
       " 'countRewards1': {'timestamp': 1922038, 'value': 8},\n",
       " 'portProbs1': {'timestamp': 1922039, 'value': 50},\n",
       " 'countPokes2': {'timestamp': 1922039, 'value': 12},\n",
       " 'countRewards2': {'timestamp': 1922040, 'value': 0},\n",
       " 'portProbs2': {'timestamp': 1922040, 'value': 10},\n",
       " 'countPokes3': {'timestamp': 1922061, 'value': 21},\n",
       " 'countRewards3': {'timestamp': 1922062, 'value': 19},\n",
       " 'portProbs3': {'timestamp': 1922062, 'value': 90}}"
      ]
     },
     "metadata": {},
     "output_type": "display_data"
    },
    {
     "data": {
      "text/plain": [
       "{'contingency': {'timestamp': 1946144, 'value': 1},\n",
       " 'trialThresh': {'timestamp': 1946145, 'value': 69},\n",
       " 'totalPokes': {'timestamp': 1946145, 'value': 56},\n",
       " 'totalRewards': {'timestamp': 1946146, 'value': 27},\n",
       " 'ifDelay': {'timestamp': 1946146, 'value': 1},\n",
       " 'countPokes1': {'timestamp': 1946147, 'value': 23},\n",
       " 'countRewards1': {'timestamp': 1946147, 'value': 8},\n",
       " 'portProbs1': {'timestamp': 1946148, 'value': 50},\n",
       " 'countPokes2': {'timestamp': 1946148, 'value': 12},\n",
       " 'countRewards2': {'timestamp': 1946149, 'value': 0},\n",
       " 'portProbs2': {'timestamp': 1946149, 'value': 10},\n",
       " 'countPokes3': {'timestamp': 1946170, 'value': 21},\n",
       " 'countRewards3': {'timestamp': 1946171, 'value': 19},\n",
       " 'portProbs3': {'timestamp': 1946171, 'value': 90}}"
      ]
     },
     "metadata": {},
     "output_type": "display_data"
    },
    {
     "data": {
      "text/plain": [
       "{'contingency': {'timestamp': 1955644, 'value': 1},\n",
       " 'trialThresh': {'timestamp': 1955645, 'value': 69},\n",
       " 'totalPokes': {'timestamp': 1955645, 'value': 57},\n",
       " 'totalRewards': {'timestamp': 1955646, 'value': 27},\n",
       " 'ifDelay': {'timestamp': 1955646, 'value': 1},\n",
       " 'countPokes1': {'timestamp': 1955647, 'value': 23},\n",
       " 'countRewards1': {'timestamp': 1955647, 'value': 8},\n",
       " 'portProbs1': {'timestamp': 1955648, 'value': 50},\n",
       " 'countPokes2': {'timestamp': 1955648, 'value': 12},\n",
       " 'countRewards2': {'timestamp': 1955649, 'value': 0},\n",
       " 'portProbs2': {'timestamp': 1955670, 'value': 10},\n",
       " 'countPokes3': {'timestamp': 1955671, 'value': 22},\n",
       " 'countRewards3': {'timestamp': 1955671, 'value': 19},\n",
       " 'portProbs3': {'timestamp': 1955671, 'value': 90}}"
      ]
     },
     "metadata": {},
     "output_type": "display_data"
    },
    {
     "data": {
      "text/plain": [
       "{'contingency': {'timestamp': 1965655, 'value': 1},\n",
       " 'trialThresh': {'timestamp': 1965655, 'value': 69},\n",
       " 'totalPokes': {'timestamp': 1965656, 'value': 58},\n",
       " 'totalRewards': {'timestamp': 1965656, 'value': 28},\n",
       " 'ifDelay': {'timestamp': 1965657, 'value': 1},\n",
       " 'countPokes1': {'timestamp': 1965657, 'value': 24},\n",
       " 'countRewards1': {'timestamp': 1965658, 'value': 9},\n",
       " 'portProbs1': {'timestamp': 1965658, 'value': 50},\n",
       " 'countPokes2': {'timestamp': 1965658, 'value': 12},\n",
       " 'countRewards2': {'timestamp': 1965659, 'value': 0},\n",
       " 'portProbs2': {'timestamp': 1965659, 'value': 10},\n",
       " 'countPokes3': {'timestamp': 1965681, 'value': 22},\n",
       " 'countRewards3': {'timestamp': 1965681, 'value': 19},\n",
       " 'portProbs3': {'timestamp': 1965682, 'value': 90}}"
      ]
     },
     "metadata": {},
     "output_type": "display_data"
    },
    {
     "data": {
      "text/plain": [
       "{'contingency': {'timestamp': 1986973, 'value': 1},\n",
       " 'trialThresh': {'timestamp': 1986974, 'value': 69},\n",
       " 'totalPokes': {'timestamp': 1986974, 'value': 59},\n",
       " 'totalRewards': {'timestamp': 1986975, 'value': 29},\n",
       " 'ifDelay': {'timestamp': 1986975, 'value': 0},\n",
       " 'countPokes1': {'timestamp': 1986976, 'value': 24},\n",
       " 'countRewards1': {'timestamp': 1986976, 'value': 9},\n",
       " 'portProbs1': {'timestamp': 1986977, 'value': 50},\n",
       " 'countPokes2': {'timestamp': 1986977, 'value': 12},\n",
       " 'countRewards2': {'timestamp': 1986978, 'value': 0},\n",
       " 'portProbs2': {'timestamp': 1986978, 'value': 10},\n",
       " 'countPokes3': {'timestamp': 1986999, 'value': 23},\n",
       " 'countRewards3': {'timestamp': 1987000, 'value': 20},\n",
       " 'portProbs3': {'timestamp': 1987000, 'value': 90}}"
      ]
     },
     "metadata": {},
     "output_type": "display_data"
    },
    {
     "data": {
      "text/plain": [
       "{'contingency': {'timestamp': 2012963, 'value': 1},\n",
       " 'trialThresh': {'timestamp': 2012964, 'value': 69},\n",
       " 'totalPokes': {'timestamp': 2012964, 'value': 60},\n",
       " 'totalRewards': {'timestamp': 2012965, 'value': 29},\n",
       " 'ifDelay': {'timestamp': 2012965, 'value': 1},\n",
       " 'countPokes1': {'timestamp': 2012965, 'value': 25},\n",
       " 'countRewards1': {'timestamp': 2012966, 'value': 9},\n",
       " 'portProbs1': {'timestamp': 2012966, 'value': 50},\n",
       " 'countPokes2': {'timestamp': 2012967, 'value': 12},\n",
       " 'countRewards2': {'timestamp': 2012967, 'value': 0},\n",
       " 'portProbs2': {'timestamp': 2012968, 'value': 10},\n",
       " 'countPokes3': {'timestamp': 2012989, 'value': 23},\n",
       " 'countRewards3': {'timestamp': 2012990, 'value': 20},\n",
       " 'portProbs3': {'timestamp': 2012990, 'value': 90}}"
      ]
     },
     "metadata": {},
     "output_type": "display_data"
    },
    {
     "data": {
      "text/plain": [
       "{'contingency': {'timestamp': 2022194, 'value': 1},\n",
       " 'trialThresh': {'timestamp': 2022194, 'value': 69},\n",
       " 'totalPokes': {'timestamp': 2022195, 'value': 61},\n",
       " 'totalRewards': {'timestamp': 2022195, 'value': 30},\n",
       " 'ifDelay': {'timestamp': 2022196, 'value': 1},\n",
       " 'countPokes1': {'timestamp': 2022196, 'value': 25},\n",
       " 'countRewards1': {'timestamp': 2022197, 'value': 9},\n",
       " 'portProbs1': {'timestamp': 2022197, 'value': 50},\n",
       " 'countPokes2': {'timestamp': 2022198, 'value': 12},\n",
       " 'countRewards2': {'timestamp': 2022198, 'value': 0},\n",
       " 'portProbs2': {'timestamp': 2022198, 'value': 10},\n",
       " 'countPokes3': {'timestamp': 2022220, 'value': 24},\n",
       " 'countRewards3': {'timestamp': 2022220, 'value': 21},\n",
       " 'portProbs3': {'timestamp': 2022221, 'value': 90}}"
      ]
     },
     "metadata": {},
     "output_type": "display_data"
    },
    {
     "data": {
      "text/plain": [
       "{'contingency': {'timestamp': 2045781, 'value': 1},\n",
       " 'trialThresh': {'timestamp': 2045782, 'value': 69},\n",
       " 'totalPokes': {'timestamp': 2045782, 'value': 62},\n",
       " 'totalRewards': {'timestamp': 2045783, 'value': 31},\n",
       " 'ifDelay': {'timestamp': 2045783, 'value': 1},\n",
       " 'countPokes1': {'timestamp': 2045784, 'value': 26},\n",
       " 'countRewards1': {'timestamp': 2045784, 'value': 10},\n",
       " 'portProbs1': {'timestamp': 2045785, 'value': 50},\n",
       " 'countPokes2': {'timestamp': 2045785, 'value': 12},\n",
       " 'countRewards2': {'timestamp': 2045786, 'value': 0},\n",
       " 'portProbs2': {'timestamp': 2045786, 'value': 10},\n",
       " 'countPokes3': {'timestamp': 2045807, 'value': 24},\n",
       " 'countRewards3': {'timestamp': 2045808, 'value': 21},\n",
       " 'portProbs3': {'timestamp': 2045808, 'value': 90}}"
      ]
     },
     "metadata": {},
     "output_type": "display_data"
    },
    {
     "data": {
      "text/plain": [
       "{'contingency': {'timestamp': 2069270, 'value': 1},\n",
       " 'trialThresh': {'timestamp': 2069270, 'value': 69},\n",
       " 'totalPokes': {'timestamp': 2069271, 'value': 63},\n",
       " 'totalRewards': {'timestamp': 2069271, 'value': 32},\n",
       " 'ifDelay': {'timestamp': 2069272, 'value': 1},\n",
       " 'countPokes1': {'timestamp': 2069272, 'value': 26},\n",
       " 'countRewards1': {'timestamp': 2069273, 'value': 10},\n",
       " 'portProbs1': {'timestamp': 2069273, 'value': 50},\n",
       " 'countPokes2': {'timestamp': 2069274, 'value': 12},\n",
       " 'countRewards2': {'timestamp': 2069274, 'value': 0},\n",
       " 'portProbs2': {'timestamp': 2069275, 'value': 10},\n",
       " 'countPokes3': {'timestamp': 2069296, 'value': 25},\n",
       " 'countRewards3': {'timestamp': 2069296, 'value': 22},\n",
       " 'portProbs3': {'timestamp': 2069297, 'value': 90}}"
      ]
     },
     "metadata": {},
     "output_type": "display_data"
    },
    {
     "data": {
      "text/plain": [
       "{'contingency': {'timestamp': 2093841, 'value': 1},\n",
       " 'trialThresh': {'timestamp': 2093842, 'value': 69},\n",
       " 'totalPokes': {'timestamp': 2093842, 'value': 64},\n",
       " 'totalRewards': {'timestamp': 2093843, 'value': 32},\n",
       " 'ifDelay': {'timestamp': 2093843, 'value': 0},\n",
       " 'countPokes1': {'timestamp': 2093844, 'value': 27},\n",
       " 'countRewards1': {'timestamp': 2093844, 'value': 10},\n",
       " 'portProbs1': {'timestamp': 2093845, 'value': 50},\n",
       " 'countPokes2': {'timestamp': 2093845, 'value': 12},\n",
       " 'countRewards2': {'timestamp': 2093846, 'value': 0},\n",
       " 'portProbs2': {'timestamp': 2093846, 'value': 10},\n",
       " 'countPokes3': {'timestamp': 2093867, 'value': 25},\n",
       " 'countRewards3': {'timestamp': 2093868, 'value': 22},\n",
       " 'portProbs3': {'timestamp': 2093868, 'value': 90}}"
      ]
     },
     "metadata": {},
     "output_type": "display_data"
    },
    {
     "data": {
      "text/plain": [
       "{'contingency': {'timestamp': 2102942, 'value': 1},\n",
       " 'trialThresh': {'timestamp': 2102943, 'value': 69},\n",
       " 'totalPokes': {'timestamp': 2102943, 'value': 65},\n",
       " 'totalRewards': {'timestamp': 2102944, 'value': 33},\n",
       " 'ifDelay': {'timestamp': 2102944, 'value': 0},\n",
       " 'countPokes1': {'timestamp': 2102945, 'value': 27},\n",
       " 'countRewards1': {'timestamp': 2102945, 'value': 10},\n",
       " 'portProbs1': {'timestamp': 2102946, 'value': 50},\n",
       " 'countPokes2': {'timestamp': 2102946, 'value': 12},\n",
       " 'countRewards2': {'timestamp': 2102947, 'value': 0},\n",
       " 'portProbs2': {'timestamp': 2102947, 'value': 10},\n",
       " 'countPokes3': {'timestamp': 2102968, 'value': 26},\n",
       " 'countRewards3': {'timestamp': 2102969, 'value': 23},\n",
       " 'portProbs3': {'timestamp': 2102969, 'value': 90}}"
      ]
     },
     "metadata": {},
     "output_type": "display_data"
    },
    {
     "data": {
      "text/plain": [
       "{'contingency': {'timestamp': 2132457, 'value': 1},\n",
       " 'trialThresh': {'timestamp': 2132457, 'value': 69},\n",
       " 'totalPokes': {'timestamp': 2132458, 'value': 66},\n",
       " 'totalRewards': {'timestamp': 2132458, 'value': 34},\n",
       " 'ifDelay': {'timestamp': 2132459, 'value': 1},\n",
       " 'countPokes1': {'timestamp': 2132459, 'value': 28},\n",
       " 'countRewards1': {'timestamp': 2132460, 'value': 11},\n",
       " 'portProbs1': {'timestamp': 2132460, 'value': 50},\n",
       " 'countPokes2': {'timestamp': 2132461, 'value': 12},\n",
       " 'countRewards2': {'timestamp': 2132461, 'value': 0},\n",
       " 'portProbs2': {'timestamp': 2132462, 'value': 10},\n",
       " 'countPokes3': {'timestamp': 2132483, 'value': 26},\n",
       " 'countRewards3': {'timestamp': 2132483, 'value': 23},\n",
       " 'portProbs3': {'timestamp': 2132484, 'value': 90}}"
      ]
     },
     "metadata": {},
     "output_type": "display_data"
    },
    {
     "data": {
      "text/plain": [
       "{'contingency': {'timestamp': 2173615, 'value': 1},\n",
       " 'trialThresh': {'timestamp': 2173615, 'value': 69},\n",
       " 'totalPokes': {'timestamp': 2173616, 'value': 67},\n",
       " 'totalRewards': {'timestamp': 2173616, 'value': 35},\n",
       " 'ifDelay': {'timestamp': 2173617, 'value': 0},\n",
       " 'countPokes1': {'timestamp': 2173617, 'value': 28},\n",
       " 'countRewards1': {'timestamp': 2173618, 'value': 11},\n",
       " 'portProbs1': {'timestamp': 2173618, 'value': 50},\n",
       " 'countPokes2': {'timestamp': 2173619, 'value': 12},\n",
       " 'countRewards2': {'timestamp': 2173619, 'value': 0},\n",
       " 'portProbs2': {'timestamp': 2173619, 'value': 10},\n",
       " 'countPokes3': {'timestamp': 2173641, 'value': 27},\n",
       " 'countRewards3': {'timestamp': 2173641, 'value': 24},\n",
       " 'portProbs3': {'timestamp': 2173642, 'value': 90}}"
      ]
     },
     "metadata": {},
     "output_type": "display_data"
    },
    {
     "data": {
      "text/plain": [
       "{'contingency': {'timestamp': 2184826, 'value': 1},\n",
       " 'trialThresh': {'timestamp': 2184826, 'value': 69},\n",
       " 'totalPokes': {'timestamp': 2184827, 'value': 68},\n",
       " 'totalRewards': {'timestamp': 2184827, 'value': 35},\n",
       " 'ifDelay': {'timestamp': 2184828, 'value': 1},\n",
       " 'countPokes1': {'timestamp': 2184828, 'value': 29},\n",
       " 'countRewards1': {'timestamp': 2184829, 'value': 11},\n",
       " 'portProbs1': {'timestamp': 2184829, 'value': 50},\n",
       " 'countPokes2': {'timestamp': 2184830, 'value': 12},\n",
       " 'countRewards2': {'timestamp': 2184830, 'value': 0},\n",
       " 'portProbs2': {'timestamp': 2184831, 'value': 10},\n",
       " 'countPokes3': {'timestamp': 2184852, 'value': 27},\n",
       " 'countRewards3': {'timestamp': 2184853, 'value': 24},\n",
       " 'portProbs3': {'timestamp': 2184853, 'value': 90}}"
      ]
     },
     "metadata": {},
     "output_type": "display_data"
    },
    {
     "data": {
      "text/plain": [
       "{'contingency': {'timestamp': 2202438, 'value': 1},\n",
       " 'trialThresh': {'timestamp': 2202438, 'value': 69},\n",
       " 'totalPokes': {'timestamp': 2202439, 'value': 69},\n",
       " 'totalRewards': {'timestamp': 2202439, 'value': 36},\n",
       " 'ifDelay': {'timestamp': 2202440, 'value': 1},\n",
       " 'countPokes1': {'timestamp': 2202440, 'value': 29},\n",
       " 'countRewards1': {'timestamp': 2202441, 'value': 11},\n",
       " 'portProbs1': {'timestamp': 2202441, 'value': 50},\n",
       " 'countPokes2': {'timestamp': 2202442, 'value': 12},\n",
       " 'countRewards2': {'timestamp': 2202442, 'value': 0},\n",
       " 'portProbs2': {'timestamp': 2202443, 'value': 10},\n",
       " 'countPokes3': {'timestamp': 2202464, 'value': 28},\n",
       " 'countRewards3': {'timestamp': 2202464, 'value': 25},\n",
       " 'portProbs3': {'timestamp': 2202465, 'value': 90}}"
      ]
     },
     "metadata": {},
     "output_type": "display_data"
    },
    {
     "data": {
      "text/plain": [
       "{'contingency': {'timestamp': 2218879, 'value': 2},\n",
       " 'trialThresh': {'timestamp': 2218880, 'value': 69},\n",
       " 'totalPokes': {'timestamp': 2218880, 'value': 1},\n",
       " 'totalRewards': {'timestamp': 2218881, 'value': 0},\n",
       " 'ifDelay': {'timestamp': 2218881, 'value': 0},\n",
       " 'countPokes1': {'timestamp': 2218882, 'value': 1},\n",
       " 'countRewards1': {'timestamp': 2218882, 'value': 0},\n",
       " 'portProbs1': {'timestamp': 2218883, 'value': 10},\n",
       " 'countPokes2': {'timestamp': 2218883, 'value': 0},\n",
       " 'countRewards2': {'timestamp': 2218883, 'value': 0},\n",
       " 'portProbs2': {'timestamp': 2218884, 'value': 90},\n",
       " 'countPokes3': {'timestamp': 2218905, 'value': 0},\n",
       " 'countRewards3': {'timestamp': 2218905, 'value': 0},\n",
       " 'portProbs3': {'timestamp': 2218906, 'value': 50}}"
      ]
     },
     "metadata": {},
     "output_type": "display_data"
    },
    {
     "data": {
      "text/plain": [
       "{'contingency': {'timestamp': 2228122, 'value': 2},\n",
       " 'trialThresh': {'timestamp': 2228122, 'value': 69},\n",
       " 'totalPokes': {'timestamp': 2228123, 'value': 2},\n",
       " 'totalRewards': {'timestamp': 2228123, 'value': 1},\n",
       " 'ifDelay': {'timestamp': 2228124, 'value': 0},\n",
       " 'countPokes1': {'timestamp': 2228124, 'value': 1},\n",
       " 'countRewards1': {'timestamp': 2228125, 'value': 0},\n",
       " 'portProbs1': {'timestamp': 2228125, 'value': 10},\n",
       " 'countPokes2': {'timestamp': 2228126, 'value': 0},\n",
       " 'countRewards2': {'timestamp': 2228147, 'value': 0},\n",
       " 'portProbs2': {'timestamp': 2228147, 'value': 90},\n",
       " 'countPokes3': {'timestamp': 2228148, 'value': 1},\n",
       " 'countRewards3': {'timestamp': 2228148, 'value': 1},\n",
       " 'portProbs3': {'timestamp': 2228149, 'value': 50}}"
      ]
     },
     "metadata": {},
     "output_type": "display_data"
    },
    {
     "data": {
      "text/plain": [
       "{'contingency': {'timestamp': 2258073, 'value': 2},\n",
       " 'trialThresh': {'timestamp': 2258074, 'value': 69},\n",
       " 'totalPokes': {'timestamp': 2258074, 'value': 3},\n",
       " 'totalRewards': {'timestamp': 2258075, 'value': 1},\n",
       " 'ifDelay': {'timestamp': 2258075, 'value': 0},\n",
       " 'countPokes1': {'timestamp': 2258076, 'value': 2},\n",
       " 'countRewards1': {'timestamp': 2258076, 'value': 0},\n",
       " 'portProbs1': {'timestamp': 2258077, 'value': 10},\n",
       " 'countPokes2': {'timestamp': 2258077, 'value': 0},\n",
       " 'countRewards2': {'timestamp': 2258078, 'value': 0},\n",
       " 'portProbs2': {'timestamp': 2258078, 'value': 90},\n",
       " 'countPokes3': {'timestamp': 2258099, 'value': 1},\n",
       " 'countRewards3': {'timestamp': 2258099, 'value': 1},\n",
       " 'portProbs3': {'timestamp': 2258100, 'value': 50}}"
      ]
     },
     "metadata": {},
     "output_type": "display_data"
    },
    {
     "data": {
      "text/plain": [
       "{'contingency': {'timestamp': 2267806, 'value': 2},\n",
       " 'trialThresh': {'timestamp': 2267806, 'value': 69},\n",
       " 'totalPokes': {'timestamp': 2267807, 'value': 4},\n",
       " 'totalRewards': {'timestamp': 2267807, 'value': 1},\n",
       " 'ifDelay': {'timestamp': 2267807, 'value': 0},\n",
       " 'countPokes1': {'timestamp': 2267808, 'value': 2},\n",
       " 'countRewards1': {'timestamp': 2267808, 'value': 0},\n",
       " 'portProbs1': {'timestamp': 2267809, 'value': 10},\n",
       " 'countPokes2': {'timestamp': 2267809, 'value': 0},\n",
       " 'countRewards2': {'timestamp': 2267810, 'value': 0},\n",
       " 'portProbs2': {'timestamp': 2267810, 'value': 90},\n",
       " 'countPokes3': {'timestamp': 2267831, 'value': 2},\n",
       " 'countRewards3': {'timestamp': 2267832, 'value': 1},\n",
       " 'portProbs3': {'timestamp': 2267832, 'value': 50}}"
      ]
     },
     "metadata": {},
     "output_type": "display_data"
    },
    {
     "data": {
      "text/plain": [
       "{'contingency': {'timestamp': 2297724, 'value': 2},\n",
       " 'trialThresh': {'timestamp': 2297725, 'value': 69},\n",
       " 'totalPokes': {'timestamp': 2297725, 'value': 5},\n",
       " 'totalRewards': {'timestamp': 2297726, 'value': 1},\n",
       " 'ifDelay': {'timestamp': 2297726, 'value': 0},\n",
       " 'countPokes1': {'timestamp': 2297727, 'value': 3},\n",
       " 'countRewards1': {'timestamp': 2297727, 'value': 0},\n",
       " 'portProbs1': {'timestamp': 2297727, 'value': 10},\n",
       " 'countPokes2': {'timestamp': 2297728, 'value': 0},\n",
       " 'countRewards2': {'timestamp': 2297728, 'value': 0},\n",
       " 'portProbs2': {'timestamp': 2297729, 'value': 90},\n",
       " 'countPokes3': {'timestamp': 2297750, 'value': 2},\n",
       " 'countRewards3': {'timestamp': 2297750, 'value': 1},\n",
       " 'portProbs3': {'timestamp': 2297751, 'value': 50}}"
      ]
     },
     "metadata": {},
     "output_type": "display_data"
    },
    {
     "data": {
      "text/plain": [
       "{'contingency': {'timestamp': 2313268, 'value': 2},\n",
       " 'trialThresh': {'timestamp': 2313268, 'value': 69},\n",
       " 'totalPokes': {'timestamp': 2313269, 'value': 6},\n",
       " 'totalRewards': {'timestamp': 2313269, 'value': 2},\n",
       " 'ifDelay': {'timestamp': 2313270, 'value': 0},\n",
       " 'countPokes1': {'timestamp': 2313270, 'value': 3},\n",
       " 'countRewards1': {'timestamp': 2313271, 'value': 0},\n",
       " 'portProbs1': {'timestamp': 2313271, 'value': 10},\n",
       " 'countPokes2': {'timestamp': 2313272, 'value': 0},\n",
       " 'countRewards2': {'timestamp': 2313272, 'value': 0},\n",
       " 'portProbs2': {'timestamp': 2313273, 'value': 90},\n",
       " 'countPokes3': {'timestamp': 2313293, 'value': 3},\n",
       " 'countRewards3': {'timestamp': 2313294, 'value': 2},\n",
       " 'portProbs3': {'timestamp': 2313294, 'value': 50}}"
      ]
     },
     "metadata": {},
     "output_type": "display_data"
    },
    {
     "data": {
      "text/plain": [
       "{'contingency': {'timestamp': 2332952, 'value': 2},\n",
       " 'trialThresh': {'timestamp': 2332953, 'value': 69},\n",
       " 'totalPokes': {'timestamp': 2332953, 'value': 7},\n",
       " 'totalRewards': {'timestamp': 2332954, 'value': 2},\n",
       " 'ifDelay': {'timestamp': 2332954, 'value': 1},\n",
       " 'countPokes1': {'timestamp': 2332955, 'value': 4},\n",
       " 'countRewards1': {'timestamp': 2332955, 'value': 0},\n",
       " 'portProbs1': {'timestamp': 2332956, 'value': 10},\n",
       " 'countPokes2': {'timestamp': 2332956, 'value': 0},\n",
       " 'countRewards2': {'timestamp': 2332977, 'value': 0},\n",
       " 'portProbs2': {'timestamp': 2332978, 'value': 90},\n",
       " 'countPokes3': {'timestamp': 2332978, 'value': 3},\n",
       " 'countRewards3': {'timestamp': 2332979, 'value': 2},\n",
       " 'portProbs3': {'timestamp': 2332979, 'value': 50}}"
      ]
     },
     "metadata": {},
     "output_type": "display_data"
    },
    {
     "data": {
      "text/plain": [
       "{'contingency': {'timestamp': 2342794, 'value': 2},\n",
       " 'trialThresh': {'timestamp': 2342794, 'value': 69},\n",
       " 'totalPokes': {'timestamp': 2342795, 'value': 8},\n",
       " 'totalRewards': {'timestamp': 2342795, 'value': 2},\n",
       " 'ifDelay': {'timestamp': 2342796, 'value': 1},\n",
       " 'countPokes1': {'timestamp': 2342796, 'value': 4},\n",
       " 'countRewards1': {'timestamp': 2342797, 'value': 0},\n",
       " 'portProbs1': {'timestamp': 2342797, 'value': 10},\n",
       " 'countPokes2': {'timestamp': 2342798, 'value': 0},\n",
       " 'countRewards2': {'timestamp': 2342798, 'value': 0},\n",
       " 'portProbs2': {'timestamp': 2342799, 'value': 90},\n",
       " 'countPokes3': {'timestamp': 2342820, 'value': 4},\n",
       " 'countRewards3': {'timestamp': 2342820, 'value': 2},\n",
       " 'portProbs3': {'timestamp': 2342820, 'value': 50}}"
      ]
     },
     "metadata": {},
     "output_type": "display_data"
    },
    {
     "data": {
      "text/plain": [
       "{'contingency': {'timestamp': 2351633, 'value': 2},\n",
       " 'trialThresh': {'timestamp': 2351633, 'value': 69},\n",
       " 'totalPokes': {'timestamp': 2351634, 'value': 9},\n",
       " 'totalRewards': {'timestamp': 2351634, 'value': 2},\n",
       " 'ifDelay': {'timestamp': 2351635, 'value': 1},\n",
       " 'countPokes1': {'timestamp': 2351635, 'value': 5},\n",
       " 'countRewards1': {'timestamp': 2351636, 'value': 0},\n",
       " 'portProbs1': {'timestamp': 2351636, 'value': 10},\n",
       " 'countPokes2': {'timestamp': 2351637, 'value': 0},\n",
       " 'countRewards2': {'timestamp': 2351637, 'value': 0},\n",
       " 'portProbs2': {'timestamp': 2351638, 'value': 90},\n",
       " 'countPokes3': {'timestamp': 2351659, 'value': 4},\n",
       " 'countRewards3': {'timestamp': 2351659, 'value': 2},\n",
       " 'portProbs3': {'timestamp': 2351660, 'value': 50}}"
      ]
     },
     "metadata": {},
     "output_type": "display_data"
    },
    {
     "data": {
      "text/plain": [
       "{'contingency': {'timestamp': 2360634, 'value': 2},\n",
       " 'trialThresh': {'timestamp': 2360634, 'value': 69},\n",
       " 'totalPokes': {'timestamp': 2360635, 'value': 10},\n",
       " 'totalRewards': {'timestamp': 2360635, 'value': 2},\n",
       " 'ifDelay': {'timestamp': 2360636, 'value': 1},\n",
       " 'countPokes1': {'timestamp': 2360636, 'value': 5},\n",
       " 'countRewards1': {'timestamp': 2360637, 'value': 0},\n",
       " 'portProbs1': {'timestamp': 2360637, 'value': 10},\n",
       " 'countPokes2': {'timestamp': 2360638, 'value': 0},\n",
       " 'countRewards2': {'timestamp': 2360638, 'value': 0},\n",
       " 'portProbs2': {'timestamp': 2360639, 'value': 90},\n",
       " 'countPokes3': {'timestamp': 2360660, 'value': 5},\n",
       " 'countRewards3': {'timestamp': 2360660, 'value': 2},\n",
       " 'portProbs3': {'timestamp': 2360660, 'value': 50}}"
      ]
     },
     "metadata": {},
     "output_type": "display_data"
    },
    {
     "data": {
      "text/plain": [
       "{'contingency': {'timestamp': 2369013, 'value': 2},\n",
       " 'trialThresh': {'timestamp': 2369014, 'value': 69},\n",
       " 'totalPokes': {'timestamp': 2369014, 'value': 11},\n",
       " 'totalRewards': {'timestamp': 2369015, 'value': 2},\n",
       " 'ifDelay': {'timestamp': 2369015, 'value': 1},\n",
       " 'countPokes1': {'timestamp': 2369016, 'value': 6},\n",
       " 'countRewards1': {'timestamp': 2369016, 'value': 0},\n",
       " 'portProbs1': {'timestamp': 2369017, 'value': 10},\n",
       " 'countPokes2': {'timestamp': 2369017, 'value': 0},\n",
       " 'countRewards2': {'timestamp': 2369018, 'value': 0},\n",
       " 'portProbs2': {'timestamp': 2369018, 'value': 90},\n",
       " 'countPokes3': {'timestamp': 2369039, 'value': 5},\n",
       " 'countRewards3': {'timestamp': 2369039, 'value': 2},\n",
       " 'portProbs3': {'timestamp': 2369040, 'value': 50}}"
      ]
     },
     "metadata": {},
     "output_type": "display_data"
    },
    {
     "data": {
      "text/plain": [
       "{'contingency': {'timestamp': 2379703, 'value': 2},\n",
       " 'trialThresh': {'timestamp': 2379703, 'value': 69},\n",
       " 'totalPokes': {'timestamp': 2379704, 'value': 12},\n",
       " 'totalRewards': {'timestamp': 2379704, 'value': 2},\n",
       " 'ifDelay': {'timestamp': 2379705, 'value': 1},\n",
       " 'countPokes1': {'timestamp': 2379705, 'value': 6},\n",
       " 'countRewards1': {'timestamp': 2379706, 'value': 0},\n",
       " 'portProbs1': {'timestamp': 2379706, 'value': 10},\n",
       " 'countPokes2': {'timestamp': 2379707, 'value': 1},\n",
       " 'countRewards2': {'timestamp': 2379707, 'value': 0},\n",
       " 'portProbs2': {'timestamp': 2379708, 'value': 90},\n",
       " 'countPokes3': {'timestamp': 2379729, 'value': 5},\n",
       " 'countRewards3': {'timestamp': 2379729, 'value': 2},\n",
       " 'portProbs3': {'timestamp': 2379730, 'value': 50}}"
      ]
     },
     "metadata": {},
     "output_type": "display_data"
    },
    {
     "data": {
      "text/plain": [
       "{'contingency': {'timestamp': 2388263, 'value': 2},\n",
       " 'trialThresh': {'timestamp': 2388264, 'value': 69},\n",
       " 'totalPokes': {'timestamp': 2388264, 'value': 13},\n",
       " 'totalRewards': {'timestamp': 2388265, 'value': 2},\n",
       " 'ifDelay': {'timestamp': 2388265, 'value': 1},\n",
       " 'countPokes1': {'timestamp': 2388266, 'value': 6},\n",
       " 'countRewards1': {'timestamp': 2388266, 'value': 0},\n",
       " 'portProbs1': {'timestamp': 2388267, 'value': 10},\n",
       " 'countPokes2': {'timestamp': 2388267, 'value': 1},\n",
       " 'countRewards2': {'timestamp': 2388268, 'value': 0},\n",
       " 'portProbs2': {'timestamp': 2388268, 'value': 90},\n",
       " 'countPokes3': {'timestamp': 2388289, 'value': 6},\n",
       " 'countRewards3': {'timestamp': 2388290, 'value': 2},\n",
       " 'portProbs3': {'timestamp': 2388290, 'value': 50}}"
      ]
     },
     "metadata": {},
     "output_type": "display_data"
    },
    {
     "data": {
      "text/plain": [
       "{'contingency': {'timestamp': 2396753, 'value': 2},\n",
       " 'trialThresh': {'timestamp': 2396753, 'value': 69},\n",
       " 'totalPokes': {'timestamp': 2396754, 'value': 14},\n",
       " 'totalRewards': {'timestamp': 2396754, 'value': 2},\n",
       " 'ifDelay': {'timestamp': 2396755, 'value': 1},\n",
       " 'countPokes1': {'timestamp': 2396755, 'value': 7},\n",
       " 'countRewards1': {'timestamp': 2396756, 'value': 0},\n",
       " 'portProbs1': {'timestamp': 2396756, 'value': 10},\n",
       " 'countPokes2': {'timestamp': 2396757, 'value': 1},\n",
       " 'countRewards2': {'timestamp': 2396757, 'value': 0},\n",
       " 'portProbs2': {'timestamp': 2396758, 'value': 90},\n",
       " 'countPokes3': {'timestamp': 2396778, 'value': 6},\n",
       " 'countRewards3': {'timestamp': 2396779, 'value': 2},\n",
       " 'portProbs3': {'timestamp': 2396779, 'value': 50}}"
      ]
     },
     "metadata": {},
     "output_type": "display_data"
    },
    {
     "data": {
      "text/plain": [
       "{'contingency': {'timestamp': 2407983, 'value': 2},\n",
       " 'trialThresh': {'timestamp': 2407984, 'value': 69},\n",
       " 'totalPokes': {'timestamp': 2407984, 'value': 15},\n",
       " 'totalRewards': {'timestamp': 2407985, 'value': 2},\n",
       " 'ifDelay': {'timestamp': 2407985, 'value': 1},\n",
       " 'countPokes1': {'timestamp': 2407986, 'value': 7},\n",
       " 'countRewards1': {'timestamp': 2407986, 'value': 0},\n",
       " 'portProbs1': {'timestamp': 2407987, 'value': 10},\n",
       " 'countPokes2': {'timestamp': 2407987, 'value': 1},\n",
       " 'countRewards2': {'timestamp': 2407988, 'value': 0},\n",
       " 'portProbs2': {'timestamp': 2407988, 'value': 90},\n",
       " 'countPokes3': {'timestamp': 2408009, 'value': 7},\n",
       " 'countRewards3': {'timestamp': 2408009, 'value': 2},\n",
       " 'portProbs3': {'timestamp': 2408010, 'value': 50}}"
      ]
     },
     "metadata": {},
     "output_type": "display_data"
    },
    {
     "data": {
      "text/plain": [
       "{'contingency': {'timestamp': 2416981, 'value': 2},\n",
       " 'trialThresh': {'timestamp': 2416982, 'value': 69},\n",
       " 'totalPokes': {'timestamp': 2416982, 'value': 16},\n",
       " 'totalRewards': {'timestamp': 2416983, 'value': 3},\n",
       " 'ifDelay': {'timestamp': 2416983, 'value': 1},\n",
       " 'countPokes1': {'timestamp': 2416984, 'value': 7},\n",
       " 'countRewards1': {'timestamp': 2416984, 'value': 0},\n",
       " 'portProbs1': {'timestamp': 2416985, 'value': 10},\n",
       " 'countPokes2': {'timestamp': 2416985, 'value': 2},\n",
       " 'countRewards2': {'timestamp': 2416986, 'value': 1},\n",
       " 'portProbs2': {'timestamp': 2417006, 'value': 90},\n",
       " 'countPokes3': {'timestamp': 2417007, 'value': 7},\n",
       " 'countRewards3': {'timestamp': 2417007, 'value': 2},\n",
       " 'portProbs3': {'timestamp': 2417008, 'value': 50}}"
      ]
     },
     "metadata": {},
     "output_type": "display_data"
    },
    {
     "data": {
      "text/plain": [
       "{'contingency': {'timestamp': 2449840, 'value': 2},\n",
       " 'trialThresh': {'timestamp': 2449841, 'value': 69},\n",
       " 'totalPokes': {'timestamp': 2449841, 'value': 17},\n",
       " 'totalRewards': {'timestamp': 2449842, 'value': 4},\n",
       " 'ifDelay': {'timestamp': 2449842, 'value': 0},\n",
       " 'countPokes1': {'timestamp': 2449843, 'value': 7},\n",
       " 'countRewards1': {'timestamp': 2449843, 'value': 0},\n",
       " 'portProbs1': {'timestamp': 2449844, 'value': 10},\n",
       " 'countPokes2': {'timestamp': 2449844, 'value': 2},\n",
       " 'countRewards2': {'timestamp': 2449845, 'value': 1},\n",
       " 'portProbs2': {'timestamp': 2449845, 'value': 90},\n",
       " 'countPokes3': {'timestamp': 2449866, 'value': 8},\n",
       " 'countRewards3': {'timestamp': 2449867, 'value': 3},\n",
       " 'portProbs3': {'timestamp': 2449867, 'value': 50}}"
      ]
     },
     "metadata": {},
     "output_type": "display_data"
    },
    {
     "data": {
      "text/plain": [
       "{'contingency': {'timestamp': 2460997, 'value': 2},\n",
       " 'trialThresh': {'timestamp': 2460998, 'value': 69},\n",
       " 'totalPokes': {'timestamp': 2460998, 'value': 18},\n",
       " 'totalRewards': {'timestamp': 2460999, 'value': 5},\n",
       " 'ifDelay': {'timestamp': 2460999, 'value': 0},\n",
       " 'countPokes1': {'timestamp': 2461000, 'value': 7},\n",
       " 'countRewards1': {'timestamp': 2461000, 'value': 0},\n",
       " 'portProbs1': {'timestamp': 2461001, 'value': 10},\n",
       " 'countPokes2': {'timestamp': 2461001, 'value': 3},\n",
       " 'countRewards2': {'timestamp': 2461001, 'value': 2},\n",
       " 'portProbs2': {'timestamp': 2461022, 'value': 90},\n",
       " 'countPokes3': {'timestamp': 2461023, 'value': 8},\n",
       " 'countRewards3': {'timestamp': 2461023, 'value': 3},\n",
       " 'portProbs3': {'timestamp': 2461024, 'value': 50}}"
      ]
     },
     "metadata": {},
     "output_type": "display_data"
    },
    {
     "data": {
      "text/plain": [
       "{'contingency': {'timestamp': 2486170, 'value': 2},\n",
       " 'trialThresh': {'timestamp': 2486170, 'value': 69},\n",
       " 'totalPokes': {'timestamp': 2486171, 'value': 19},\n",
       " 'totalRewards': {'timestamp': 2486171, 'value': 5},\n",
       " 'ifDelay': {'timestamp': 2486172, 'value': 1},\n",
       " 'countPokes1': {'timestamp': 2486172, 'value': 8},\n",
       " 'countRewards1': {'timestamp': 2486173, 'value': 0},\n",
       " 'portProbs1': {'timestamp': 2486173, 'value': 10},\n",
       " 'countPokes2': {'timestamp': 2486173, 'value': 3},\n",
       " 'countRewards2': {'timestamp': 2486174, 'value': 2},\n",
       " 'portProbs2': {'timestamp': 2486174, 'value': 90},\n",
       " 'countPokes3': {'timestamp': 2486195, 'value': 8},\n",
       " 'countRewards3': {'timestamp': 2486196, 'value': 3},\n",
       " 'portProbs3': {'timestamp': 2486196, 'value': 50}}"
      ]
     },
     "metadata": {},
     "output_type": "display_data"
    },
    {
     "data": {
      "text/plain": [
       "{'contingency': {'timestamp': 2495464, 'value': 2},\n",
       " 'trialThresh': {'timestamp': 2495464, 'value': 69},\n",
       " 'totalPokes': {'timestamp': 2495465, 'value': 20},\n",
       " 'totalRewards': {'timestamp': 2495465, 'value': 6},\n",
       " 'ifDelay': {'timestamp': 2495466, 'value': 1},\n",
       " 'countPokes1': {'timestamp': 2495466, 'value': 8},\n",
       " 'countRewards1': {'timestamp': 2495466, 'value': 0},\n",
       " 'portProbs1': {'timestamp': 2495467, 'value': 10},\n",
       " 'countPokes2': {'timestamp': 2495467, 'value': 4},\n",
       " 'countRewards2': {'timestamp': 2495468, 'value': 3},\n",
       " 'portProbs2': {'timestamp': 2495468, 'value': 90},\n",
       " 'countPokes3': {'timestamp': 2495489, 'value': 8},\n",
       " 'countRewards3': {'timestamp': 2495490, 'value': 3},\n",
       " 'portProbs3': {'timestamp': 2495490, 'value': 50}}"
      ]
     },
     "metadata": {},
     "output_type": "display_data"
    },
    {
     "data": {
      "text/plain": [
       "{'contingency': {'timestamp': 2516704, 'value': 2},\n",
       " 'trialThresh': {'timestamp': 2516705, 'value': 69},\n",
       " 'totalPokes': {'timestamp': 2516705, 'value': 21},\n",
       " 'totalRewards': {'timestamp': 2516706, 'value': 7},\n",
       " 'ifDelay': {'timestamp': 2516706, 'value': 1},\n",
       " 'countPokes1': {'timestamp': 2516707, 'value': 8},\n",
       " 'countRewards1': {'timestamp': 2516707, 'value': 0},\n",
       " 'portProbs1': {'timestamp': 2516708, 'value': 10},\n",
       " 'countPokes2': {'timestamp': 2516708, 'value': 4},\n",
       " 'countRewards2': {'timestamp': 2516709, 'value': 3},\n",
       " 'portProbs2': {'timestamp': 2516709, 'value': 90},\n",
       " 'countPokes3': {'timestamp': 2516730, 'value': 9},\n",
       " 'countRewards3': {'timestamp': 2516730, 'value': 4},\n",
       " 'portProbs3': {'timestamp': 2516731, 'value': 50}}"
      ]
     },
     "metadata": {},
     "output_type": "display_data"
    },
    {
     "data": {
      "text/plain": [
       "{'contingency': {'timestamp': 2545672, 'value': 2},\n",
       " 'trialThresh': {'timestamp': 2545672, 'value': 69},\n",
       " 'totalPokes': {'timestamp': 2545673, 'value': 22},\n",
       " 'totalRewards': {'timestamp': 2545673, 'value': 8},\n",
       " 'ifDelay': {'timestamp': 2545674, 'value': 0},\n",
       " 'countPokes1': {'timestamp': 2545674, 'value': 8},\n",
       " 'countRewards1': {'timestamp': 2545675, 'value': 0},\n",
       " 'portProbs1': {'timestamp': 2545675, 'value': 10},\n",
       " 'countPokes2': {'timestamp': 2545675, 'value': 5},\n",
       " 'countRewards2': {'timestamp': 2545676, 'value': 4},\n",
       " 'portProbs2': {'timestamp': 2545676, 'value': 90},\n",
       " 'countPokes3': {'timestamp': 2545698, 'value': 9},\n",
       " 'countRewards3': {'timestamp': 2545698, 'value': 4},\n",
       " 'portProbs3': {'timestamp': 2545699, 'value': 50}}"
      ]
     },
     "metadata": {},
     "output_type": "display_data"
    },
    {
     "data": {
      "text/plain": [
       "{'contingency': {'timestamp': 2575036, 'value': 2},\n",
       " 'trialThresh': {'timestamp': 2575037, 'value': 69},\n",
       " 'totalPokes': {'timestamp': 2575037, 'value': 23},\n",
       " 'totalRewards': {'timestamp': 2575038, 'value': 8},\n",
       " 'ifDelay': {'timestamp': 2575038, 'value': 1},\n",
       " 'countPokes1': {'timestamp': 2575039, 'value': 9},\n",
       " 'countRewards1': {'timestamp': 2575039, 'value': 0},\n",
       " 'portProbs1': {'timestamp': 2575039, 'value': 10},\n",
       " 'countPokes2': {'timestamp': 2575040, 'value': 5},\n",
       " 'countRewards2': {'timestamp': 2575040, 'value': 4},\n",
       " 'portProbs2': {'timestamp': 2575041, 'value': 90},\n",
       " 'countPokes3': {'timestamp': 2575062, 'value': 9},\n",
       " 'countRewards3': {'timestamp': 2575062, 'value': 4},\n",
       " 'portProbs3': {'timestamp': 2575063, 'value': 50}}"
      ]
     },
     "metadata": {},
     "output_type": "display_data"
    },
    {
     "data": {
      "text/plain": [
       "{'contingency': {'timestamp': 2584695, 'value': 2},\n",
       " 'trialThresh': {'timestamp': 2584695, 'value': 69},\n",
       " 'totalPokes': {'timestamp': 2584696, 'value': 24},\n",
       " 'totalRewards': {'timestamp': 2584696, 'value': 9},\n",
       " 'ifDelay': {'timestamp': 2584697, 'value': 1},\n",
       " 'countPokes1': {'timestamp': 2584697, 'value': 9},\n",
       " 'countRewards1': {'timestamp': 2584698, 'value': 0},\n",
       " 'portProbs1': {'timestamp': 2584698, 'value': 10},\n",
       " 'countPokes2': {'timestamp': 2584699, 'value': 6},\n",
       " 'countRewards2': {'timestamp': 2584699, 'value': 5},\n",
       " 'portProbs2': {'timestamp': 2584700, 'value': 90},\n",
       " 'countPokes3': {'timestamp': 2584721, 'value': 9},\n",
       " 'countRewards3': {'timestamp': 2584721, 'value': 4},\n",
       " 'portProbs3': {'timestamp': 2584722, 'value': 50}}"
      ]
     },
     "metadata": {},
     "output_type": "display_data"
    },
    {
     "data": {
      "text/plain": [
       "{'contingency': {'timestamp': 2605918, 'value': 2},\n",
       " 'trialThresh': {'timestamp': 2605918, 'value': 69},\n",
       " 'totalPokes': {'timestamp': 2605919, 'value': 25},\n",
       " 'totalRewards': {'timestamp': 2605919, 'value': 10},\n",
       " 'ifDelay': {'timestamp': 2605920, 'value': 1},\n",
       " 'countPokes1': {'timestamp': 2605920, 'value': 9},\n",
       " 'countRewards1': {'timestamp': 2605921, 'value': 0},\n",
       " 'portProbs1': {'timestamp': 2605921, 'value': 10},\n",
       " 'countPokes2': {'timestamp': 2605922, 'value': 6},\n",
       " 'countRewards2': {'timestamp': 2605922, 'value': 5},\n",
       " 'portProbs2': {'timestamp': 2605923, 'value': 90},\n",
       " 'countPokes3': {'timestamp': 2605944, 'value': 10},\n",
       " 'countRewards3': {'timestamp': 2605944, 'value': 5},\n",
       " 'portProbs3': {'timestamp': 2605945, 'value': 50}}"
      ]
     },
     "metadata": {},
     "output_type": "display_data"
    },
    {
     "data": {
      "text/plain": [
       "{'contingency': {'timestamp': 2629421, 'value': 2},\n",
       " 'trialThresh': {'timestamp': 2629421, 'value': 69},\n",
       " 'totalPokes': {'timestamp': 2629422, 'value': 26},\n",
       " 'totalRewards': {'timestamp': 2629422, 'value': 11},\n",
       " 'ifDelay': {'timestamp': 2629423, 'value': 0},\n",
       " 'countPokes1': {'timestamp': 2629423, 'value': 9},\n",
       " 'countRewards1': {'timestamp': 2629424, 'value': 0},\n",
       " 'portProbs1': {'timestamp': 2629424, 'value': 10},\n",
       " 'countPokes2': {'timestamp': 2629425, 'value': 7},\n",
       " 'countRewards2': {'timestamp': 2629425, 'value': 6},\n",
       " 'portProbs2': {'timestamp': 2629425, 'value': 90},\n",
       " 'countPokes3': {'timestamp': 2629446, 'value': 10},\n",
       " 'countRewards3': {'timestamp': 2629447, 'value': 5},\n",
       " 'portProbs3': {'timestamp': 2629447, 'value': 50}}"
      ]
     },
     "metadata": {},
     "output_type": "display_data"
    },
    {
     "data": {
      "text/plain": [
       "{'contingency': {'timestamp': 2654194, 'value': 2},\n",
       " 'trialThresh': {'timestamp': 2654195, 'value': 69},\n",
       " 'totalPokes': {'timestamp': 2654195, 'value': 27},\n",
       " 'totalRewards': {'timestamp': 2654196, 'value': 11},\n",
       " 'ifDelay': {'timestamp': 2654196, 'value': 0},\n",
       " 'countPokes1': {'timestamp': 2654196, 'value': 9},\n",
       " 'countRewards1': {'timestamp': 2654197, 'value': 0},\n",
       " 'portProbs1': {'timestamp': 2654197, 'value': 10},\n",
       " 'countPokes2': {'timestamp': 2654198, 'value': 7},\n",
       " 'countRewards2': {'timestamp': 2654198, 'value': 6},\n",
       " 'portProbs2': {'timestamp': 2654199, 'value': 90},\n",
       " 'countPokes3': {'timestamp': 2654220, 'value': 11},\n",
       " 'countRewards3': {'timestamp': 2654220, 'value': 5},\n",
       " 'portProbs3': {'timestamp': 2654221, 'value': 50}}"
      ]
     },
     "metadata": {},
     "output_type": "display_data"
    },
    {
     "data": {
      "text/plain": [
       "{'contingency': {'timestamp': 2662762, 'value': 2},\n",
       " 'trialThresh': {'timestamp': 2662762, 'value': 69},\n",
       " 'totalPokes': {'timestamp': 2662763, 'value': 28},\n",
       " 'totalRewards': {'timestamp': 2662763, 'value': 12},\n",
       " 'ifDelay': {'timestamp': 2662763, 'value': 0},\n",
       " 'countPokes1': {'timestamp': 2662764, 'value': 9},\n",
       " 'countRewards1': {'timestamp': 2662764, 'value': 0},\n",
       " 'portProbs1': {'timestamp': 2662765, 'value': 10},\n",
       " 'countPokes2': {'timestamp': 2662765, 'value': 8},\n",
       " 'countRewards2': {'timestamp': 2662786, 'value': 7},\n",
       " 'portProbs2': {'timestamp': 2662786, 'value': 90},\n",
       " 'countPokes3': {'timestamp': 2662787, 'value': 11},\n",
       " 'countRewards3': {'timestamp': 2662787, 'value': 5},\n",
       " 'portProbs3': {'timestamp': 2662788, 'value': 50}}"
      ]
     },
     "metadata": {},
     "output_type": "display_data"
    },
    {
     "data": {
      "text/plain": [
       "{'contingency': {'timestamp': 2702292, 'value': 2},\n",
       " 'trialThresh': {'timestamp': 2702292, 'value': 69},\n",
       " 'totalPokes': {'timestamp': 2702293, 'value': 29},\n",
       " 'totalRewards': {'timestamp': 2702293, 'value': 13},\n",
       " 'ifDelay': {'timestamp': 2702294, 'value': 1},\n",
       " 'countPokes1': {'timestamp': 2702294, 'value': 9},\n",
       " 'countRewards1': {'timestamp': 2702295, 'value': 0},\n",
       " 'portProbs1': {'timestamp': 2702295, 'value': 10},\n",
       " 'countPokes2': {'timestamp': 2702296, 'value': 8},\n",
       " 'countRewards2': {'timestamp': 2702296, 'value': 7},\n",
       " 'portProbs2': {'timestamp': 2702297, 'value': 90},\n",
       " 'countPokes3': {'timestamp': 2702318, 'value': 12},\n",
       " 'countRewards3': {'timestamp': 2702318, 'value': 6},\n",
       " 'portProbs3': {'timestamp': 2702319, 'value': 50}}"
      ]
     },
     "metadata": {},
     "output_type": "display_data"
    },
    {
     "data": {
      "text/plain": [
       "{'contingency': {'timestamp': 2711870, 'value': 2},\n",
       " 'trialThresh': {'timestamp': 2711871, 'value': 69},\n",
       " 'totalPokes': {'timestamp': 2711871, 'value': 30},\n",
       " 'totalRewards': {'timestamp': 2711872, 'value': 14},\n",
       " 'ifDelay': {'timestamp': 2711872, 'value': 1},\n",
       " 'countPokes1': {'timestamp': 2711873, 'value': 9},\n",
       " 'countRewards1': {'timestamp': 2711873, 'value': 0},\n",
       " 'portProbs1': {'timestamp': 2711874, 'value': 10},\n",
       " 'countPokes2': {'timestamp': 2711874, 'value': 9},\n",
       " 'countRewards2': {'timestamp': 2711875, 'value': 8},\n",
       " 'portProbs2': {'timestamp': 2711875, 'value': 90},\n",
       " 'countPokes3': {'timestamp': 2711896, 'value': 12},\n",
       " 'countRewards3': {'timestamp': 2711897, 'value': 6},\n",
       " 'portProbs3': {'timestamp': 2711897, 'value': 50}}"
      ]
     },
     "metadata": {},
     "output_type": "display_data"
    },
    {
     "data": {
      "text/plain": [
       "{'contingency': {'timestamp': 2733906, 'value': 2},\n",
       " 'trialThresh': {'timestamp': 2733907, 'value': 69},\n",
       " 'totalPokes': {'timestamp': 2733907, 'value': 31},\n",
       " 'totalRewards': {'timestamp': 2733908, 'value': 14},\n",
       " 'ifDelay': {'timestamp': 2733908, 'value': 1},\n",
       " 'countPokes1': {'timestamp': 2733909, 'value': 9},\n",
       " 'countRewards1': {'timestamp': 2733909, 'value': 0},\n",
       " 'portProbs1': {'timestamp': 2733910, 'value': 10},\n",
       " 'countPokes2': {'timestamp': 2733910, 'value': 9},\n",
       " 'countRewards2': {'timestamp': 2733911, 'value': 8},\n",
       " 'portProbs2': {'timestamp': 2733911, 'value': 90},\n",
       " 'countPokes3': {'timestamp': 2733932, 'value': 13},\n",
       " 'countRewards3': {'timestamp': 2733933, 'value': 6},\n",
       " 'portProbs3': {'timestamp': 2733933, 'value': 50}}"
      ]
     },
     "metadata": {},
     "output_type": "display_data"
    },
    {
     "data": {
      "text/plain": [
       "{'contingency': {'timestamp': 2742346, 'value': 2},\n",
       " 'trialThresh': {'timestamp': 2742346, 'value': 69},\n",
       " 'totalPokes': {'timestamp': 2742347, 'value': 32},\n",
       " 'totalRewards': {'timestamp': 2742347, 'value': 15},\n",
       " 'ifDelay': {'timestamp': 2742348, 'value': 1},\n",
       " 'countPokes1': {'timestamp': 2742348, 'value': 9},\n",
       " 'countRewards1': {'timestamp': 2742349, 'value': 0},\n",
       " 'portProbs1': {'timestamp': 2742349, 'value': 10},\n",
       " 'countPokes2': {'timestamp': 2742350, 'value': 10},\n",
       " 'countRewards2': {'timestamp': 2742350, 'value': 9},\n",
       " 'portProbs2': {'timestamp': 2742351, 'value': 90},\n",
       " 'countPokes3': {'timestamp': 2742372, 'value': 13},\n",
       " 'countRewards3': {'timestamp': 2742372, 'value': 6},\n",
       " 'portProbs3': {'timestamp': 2742373, 'value': 50}}"
      ]
     },
     "metadata": {},
     "output_type": "display_data"
    },
    {
     "data": {
      "text/plain": [
       "{'contingency': {'timestamp': 2779321, 'value': 2},\n",
       " 'trialThresh': {'timestamp': 2779322, 'value': 69},\n",
       " 'totalPokes': {'timestamp': 2779322, 'value': 33},\n",
       " 'totalRewards': {'timestamp': 2779323, 'value': 16},\n",
       " 'ifDelay': {'timestamp': 2779323, 'value': 0},\n",
       " 'countPokes1': {'timestamp': 2779324, 'value': 9},\n",
       " 'countRewards1': {'timestamp': 2779324, 'value': 0},\n",
       " 'portProbs1': {'timestamp': 2779325, 'value': 10},\n",
       " 'countPokes2': {'timestamp': 2779325, 'value': 10},\n",
       " 'countRewards2': {'timestamp': 2779326, 'value': 9},\n",
       " 'portProbs2': {'timestamp': 2779326, 'value': 90},\n",
       " 'countPokes3': {'timestamp': 2779347, 'value': 14},\n",
       " 'countRewards3': {'timestamp': 2779348, 'value': 7},\n",
       " 'portProbs3': {'timestamp': 2779348, 'value': 50}}"
      ]
     },
     "metadata": {},
     "output_type": "display_data"
    },
    {
     "data": {
      "text/plain": [
       "{'contingency': {'timestamp': 2791646, 'value': 2},\n",
       " 'trialThresh': {'timestamp': 2791646, 'value': 69},\n",
       " 'totalPokes': {'timestamp': 2791647, 'value': 34},\n",
       " 'totalRewards': {'timestamp': 2791647, 'value': 17},\n",
       " 'ifDelay': {'timestamp': 2791648, 'value': 0},\n",
       " 'countPokes1': {'timestamp': 2791648, 'value': 9},\n",
       " 'countRewards1': {'timestamp': 2791649, 'value': 0},\n",
       " 'portProbs1': {'timestamp': 2791649, 'value': 10},\n",
       " 'countPokes2': {'timestamp': 2791650, 'value': 11},\n",
       " 'countRewards2': {'timestamp': 2791650, 'value': 10},\n",
       " 'portProbs2': {'timestamp': 2791651, 'value': 90},\n",
       " 'countPokes3': {'timestamp': 2791672, 'value': 14},\n",
       " 'countRewards3': {'timestamp': 2791672, 'value': 7},\n",
       " 'portProbs3': {'timestamp': 2791673, 'value': 50}}"
      ]
     },
     "metadata": {},
     "output_type": "display_data"
    },
    {
     "data": {
      "text/plain": [
       "{'contingency': {'timestamp': 2814360, 'value': 2},\n",
       " 'trialThresh': {'timestamp': 2814360, 'value': 69},\n",
       " 'totalPokes': {'timestamp': 2814361, 'value': 35},\n",
       " 'totalRewards': {'timestamp': 2814361, 'value': 17},\n",
       " 'ifDelay': {'timestamp': 2814362, 'value': 0},\n",
       " 'countPokes1': {'timestamp': 2814362, 'value': 9},\n",
       " 'countRewards1': {'timestamp': 2814363, 'value': 0},\n",
       " 'portProbs1': {'timestamp': 2814363, 'value': 10},\n",
       " 'countPokes2': {'timestamp': 2814364, 'value': 11},\n",
       " 'countRewards2': {'timestamp': 2814364, 'value': 10},\n",
       " 'portProbs2': {'timestamp': 2814365, 'value': 90},\n",
       " 'countPokes3': {'timestamp': 2814386, 'value': 15},\n",
       " 'countRewards3': {'timestamp': 2814386, 'value': 7},\n",
       " 'portProbs3': {'timestamp': 2814387, 'value': 50}}"
      ]
     },
     "metadata": {},
     "output_type": "display_data"
    },
    {
     "data": {
      "text/plain": [
       "{'contingency': {'timestamp': 2822042, 'value': 2},\n",
       " 'trialThresh': {'timestamp': 2822042, 'value': 69},\n",
       " 'totalPokes': {'timestamp': 2822043, 'value': 36},\n",
       " 'totalRewards': {'timestamp': 2822043, 'value': 18},\n",
       " 'ifDelay': {'timestamp': 2822044, 'value': 0},\n",
       " 'countPokes1': {'timestamp': 2822044, 'value': 9},\n",
       " 'countRewards1': {'timestamp': 2822045, 'value': 0},\n",
       " 'portProbs1': {'timestamp': 2822045, 'value': 10},\n",
       " 'countPokes2': {'timestamp': 2822046, 'value': 12},\n",
       " 'countRewards2': {'timestamp': 2822046, 'value': 11},\n",
       " 'portProbs2': {'timestamp': 2822047, 'value': 90},\n",
       " 'countPokes3': {'timestamp': 2822068, 'value': 15},\n",
       " 'countRewards3': {'timestamp': 2822068, 'value': 7},\n",
       " 'portProbs3': {'timestamp': 2822069, 'value': 50}}"
      ]
     },
     "metadata": {},
     "output_type": "display_data"
    },
    {
     "data": {
      "text/plain": [
       "{'contingency': {'timestamp': 2844119, 'value': 2},\n",
       " 'trialThresh': {'timestamp': 2844120, 'value': 69},\n",
       " 'totalPokes': {'timestamp': 2844120, 'value': 37},\n",
       " 'totalRewards': {'timestamp': 2844121, 'value': 19},\n",
       " 'ifDelay': {'timestamp': 2844121, 'value': 1},\n",
       " 'countPokes1': {'timestamp': 2844122, 'value': 9},\n",
       " 'countRewards1': {'timestamp': 2844122, 'value': 0},\n",
       " 'portProbs1': {'timestamp': 2844123, 'value': 10},\n",
       " 'countPokes2': {'timestamp': 2844123, 'value': 12},\n",
       " 'countRewards2': {'timestamp': 2844124, 'value': 11},\n",
       " 'portProbs2': {'timestamp': 2844124, 'value': 90},\n",
       " 'countPokes3': {'timestamp': 2844145, 'value': 16},\n",
       " 'countRewards3': {'timestamp': 2844146, 'value': 8},\n",
       " 'portProbs3': {'timestamp': 2844146, 'value': 50}}"
      ]
     },
     "metadata": {},
     "output_type": "display_data"
    },
    {
     "data": {
      "text/plain": [
       "{'contingency': {'timestamp': 2869420, 'value': 2},\n",
       " 'trialThresh': {'timestamp': 2869421, 'value': 69},\n",
       " 'totalPokes': {'timestamp': 2869421, 'value': 38},\n",
       " 'totalRewards': {'timestamp': 2869422, 'value': 20},\n",
       " 'ifDelay': {'timestamp': 2869422, 'value': 1},\n",
       " 'countPokes1': {'timestamp': 2869423, 'value': 9},\n",
       " 'countRewards1': {'timestamp': 2869423, 'value': 0},\n",
       " 'portProbs1': {'timestamp': 2869424, 'value': 10},\n",
       " 'countPokes2': {'timestamp': 2869424, 'value': 13},\n",
       " 'countRewards2': {'timestamp': 2869425, 'value': 12},\n",
       " 'portProbs2': {'timestamp': 2869425, 'value': 90},\n",
       " 'countPokes3': {'timestamp': 2869446, 'value': 16},\n",
       " 'countRewards3': {'timestamp': 2869447, 'value': 8},\n",
       " 'portProbs3': {'timestamp': 2869447, 'value': 50}}"
      ]
     },
     "metadata": {},
     "output_type": "display_data"
    },
    {
     "data": {
      "text/plain": [
       "{'contingency': {'timestamp': 2891494, 'value': 2},\n",
       " 'trialThresh': {'timestamp': 2891494, 'value': 69},\n",
       " 'totalPokes': {'timestamp': 2891495, 'value': 39},\n",
       " 'totalRewards': {'timestamp': 2891495, 'value': 20},\n",
       " 'ifDelay': {'timestamp': 2891495, 'value': 0},\n",
       " 'countPokes1': {'timestamp': 2891496, 'value': 9},\n",
       " 'countRewards1': {'timestamp': 2891496, 'value': 0},\n",
       " 'portProbs1': {'timestamp': 2891497, 'value': 10},\n",
       " 'countPokes2': {'timestamp': 2891497, 'value': 13},\n",
       " 'countRewards2': {'timestamp': 2891498, 'value': 12},\n",
       " 'portProbs2': {'timestamp': 2891498, 'value': 90},\n",
       " 'countPokes3': {'timestamp': 2891520, 'value': 17},\n",
       " 'countRewards3': {'timestamp': 2891520, 'value': 8},\n",
       " 'portProbs3': {'timestamp': 2891521, 'value': 50}}"
      ]
     },
     "metadata": {},
     "output_type": "display_data"
    },
    {
     "data": {
      "text/plain": [
       "{'contingency': {'timestamp': 2899455, 'value': 2},\n",
       " 'trialThresh': {'timestamp': 2899455, 'value': 69},\n",
       " 'totalPokes': {'timestamp': 2899456, 'value': 40},\n",
       " 'totalRewards': {'timestamp': 2899456, 'value': 21},\n",
       " 'ifDelay': {'timestamp': 2899457, 'value': 0},\n",
       " 'countPokes1': {'timestamp': 2899457, 'value': 9},\n",
       " 'countRewards1': {'timestamp': 2899458, 'value': 0},\n",
       " 'portProbs1': {'timestamp': 2899458, 'value': 10},\n",
       " 'countPokes2': {'timestamp': 2899459, 'value': 14},\n",
       " 'countRewards2': {'timestamp': 2899459, 'value': 13},\n",
       " 'portProbs2': {'timestamp': 2899480, 'value': 90},\n",
       " 'countPokes3': {'timestamp': 2899481, 'value': 17},\n",
       " 'countRewards3': {'timestamp': 2899481, 'value': 8},\n",
       " 'portProbs3': {'timestamp': 2899481, 'value': 50}}"
      ]
     },
     "metadata": {},
     "output_type": "display_data"
    },
    {
     "data": {
      "text/plain": [
       "{'contingency': {'timestamp': 2920296, 'value': 2},\n",
       " 'trialThresh': {'timestamp': 2920297, 'value': 69},\n",
       " 'totalPokes': {'timestamp': 2920297, 'value': 41},\n",
       " 'totalRewards': {'timestamp': 2920298, 'value': 21},\n",
       " 'ifDelay': {'timestamp': 2920298, 'value': 0},\n",
       " 'countPokes1': {'timestamp': 2920298, 'value': 9},\n",
       " 'countRewards1': {'timestamp': 2920299, 'value': 0},\n",
       " 'portProbs1': {'timestamp': 2920299, 'value': 10},\n",
       " 'countPokes2': {'timestamp': 2920300, 'value': 14},\n",
       " 'countRewards2': {'timestamp': 2920300, 'value': 13},\n",
       " 'portProbs2': {'timestamp': 2920301, 'value': 90},\n",
       " 'countPokes3': {'timestamp': 2920322, 'value': 18},\n",
       " 'countRewards3': {'timestamp': 2920323, 'value': 8},\n",
       " 'portProbs3': {'timestamp': 2920323, 'value': 50}}"
      ]
     },
     "metadata": {},
     "output_type": "display_data"
    },
    {
     "data": {
      "text/plain": [
       "{'contingency': {'timestamp': 2928169, 'value': 2},\n",
       " 'trialThresh': {'timestamp': 2928169, 'value': 69},\n",
       " 'totalPokes': {'timestamp': 2928170, 'value': 42},\n",
       " 'totalRewards': {'timestamp': 2928170, 'value': 22},\n",
       " 'ifDelay': {'timestamp': 2928171, 'value': 0},\n",
       " 'countPokes1': {'timestamp': 2928171, 'value': 9},\n",
       " 'countRewards1': {'timestamp': 2928171, 'value': 0},\n",
       " 'portProbs1': {'timestamp': 2928172, 'value': 10},\n",
       " 'countPokes2': {'timestamp': 2928172, 'value': 15},\n",
       " 'countRewards2': {'timestamp': 2928173, 'value': 14},\n",
       " 'portProbs2': {'timestamp': 2928193, 'value': 90},\n",
       " 'countPokes3': {'timestamp': 2928194, 'value': 18},\n",
       " 'countRewards3': {'timestamp': 2928194, 'value': 8},\n",
       " 'portProbs3': {'timestamp': 2928195, 'value': 50}}"
      ]
     },
     "metadata": {},
     "output_type": "display_data"
    },
    {
     "data": {
      "text/plain": [
       "{'contingency': {'timestamp': 2949934, 'value': 2},\n",
       " 'trialThresh': {'timestamp': 2949934, 'value': 69},\n",
       " 'totalPokes': {'timestamp': 2949934, 'value': 43},\n",
       " 'totalRewards': {'timestamp': 2949935, 'value': 23},\n",
       " 'ifDelay': {'timestamp': 2949935, 'value': 1},\n",
       " 'countPokes1': {'timestamp': 2949936, 'value': 9},\n",
       " 'countRewards1': {'timestamp': 2949936, 'value': 0},\n",
       " 'portProbs1': {'timestamp': 2949937, 'value': 10},\n",
       " 'countPokes2': {'timestamp': 2949937, 'value': 15},\n",
       " 'countRewards2': {'timestamp': 2949938, 'value': 14},\n",
       " 'portProbs2': {'timestamp': 2949959, 'value': 90},\n",
       " 'countPokes3': {'timestamp': 2949959, 'value': 19},\n",
       " 'countRewards3': {'timestamp': 2949960, 'value': 9},\n",
       " 'portProbs3': {'timestamp': 2949960, 'value': 50}}"
      ]
     },
     "metadata": {},
     "output_type": "display_data"
    },
    {
     "data": {
      "text/plain": [
       "{'contingency': {'timestamp': 2971343, 'value': 2},\n",
       " 'trialThresh': {'timestamp': 2971343, 'value': 69},\n",
       " 'totalPokes': {'timestamp': 2971344, 'value': 44},\n",
       " 'totalRewards': {'timestamp': 2971344, 'value': 24},\n",
       " 'ifDelay': {'timestamp': 2971345, 'value': 0},\n",
       " 'countPokes1': {'timestamp': 2971345, 'value': 9},\n",
       " 'countRewards1': {'timestamp': 2971346, 'value': 0},\n",
       " 'portProbs1': {'timestamp': 2971346, 'value': 10},\n",
       " 'countPokes2': {'timestamp': 2971347, 'value': 16},\n",
       " 'countRewards2': {'timestamp': 2971347, 'value': 15},\n",
       " 'portProbs2': {'timestamp': 2971368, 'value': 90},\n",
       " 'countPokes3': {'timestamp': 2971368, 'value': 19},\n",
       " 'countRewards3': {'timestamp': 2971369, 'value': 9},\n",
       " 'portProbs3': {'timestamp': 2971369, 'value': 50}}"
      ]
     },
     "metadata": {},
     "output_type": "display_data"
    },
    {
     "data": {
      "text/plain": [
       "{'contingency': {'timestamp': 2996020, 'value': 2},\n",
       " 'trialThresh': {'timestamp': 2996020, 'value': 69},\n",
       " 'totalPokes': {'timestamp': 2996021, 'value': 45},\n",
       " 'totalRewards': {'timestamp': 2996021, 'value': 24},\n",
       " 'ifDelay': {'timestamp': 2996022, 'value': 1},\n",
       " 'countPokes1': {'timestamp': 2996022, 'value': 9},\n",
       " 'countRewards1': {'timestamp': 2996023, 'value': 0},\n",
       " 'portProbs1': {'timestamp': 2996023, 'value': 10},\n",
       " 'countPokes2': {'timestamp': 2996024, 'value': 16},\n",
       " 'countRewards2': {'timestamp': 2996024, 'value': 15},\n",
       " 'portProbs2': {'timestamp': 2996025, 'value': 90},\n",
       " 'countPokes3': {'timestamp': 2996046, 'value': 20},\n",
       " 'countRewards3': {'timestamp': 2996046, 'value': 9},\n",
       " 'portProbs3': {'timestamp': 2996047, 'value': 50}}"
      ]
     },
     "metadata": {},
     "output_type": "display_data"
    },
    {
     "data": {
      "text/plain": [
       "{'contingency': {'timestamp': 3003679, 'value': 2},\n",
       " 'trialThresh': {'timestamp': 3003679, 'value': 69},\n",
       " 'totalPokes': {'timestamp': 3003680, 'value': 46},\n",
       " 'totalRewards': {'timestamp': 3003680, 'value': 24},\n",
       " 'ifDelay': {'timestamp': 3003681, 'value': 1},\n",
       " 'countPokes1': {'timestamp': 3003681, 'value': 9},\n",
       " 'countRewards1': {'timestamp': 3003682, 'value': 0},\n",
       " 'portProbs1': {'timestamp': 3003682, 'value': 10},\n",
       " 'countPokes2': {'timestamp': 3003683, 'value': 17},\n",
       " 'countRewards2': {'timestamp': 3003683, 'value': 15},\n",
       " 'portProbs2': {'timestamp': 3003684, 'value': 90},\n",
       " 'countPokes3': {'timestamp': 3003705, 'value': 20},\n",
       " 'countRewards3': {'timestamp': 3003705, 'value': 9},\n",
       " 'portProbs3': {'timestamp': 3003706, 'value': 50}}"
      ]
     },
     "metadata": {},
     "output_type": "display_data"
    },
    {
     "data": {
      "text/plain": [
       "{'contingency': {'timestamp': 3013670, 'value': 2},\n",
       " 'trialThresh': {'timestamp': 3013670, 'value': 69},\n",
       " 'totalPokes': {'timestamp': 3013671, 'value': 47},\n",
       " 'totalRewards': {'timestamp': 3013671, 'value': 24},\n",
       " 'ifDelay': {'timestamp': 3013672, 'value': 1},\n",
       " 'countPokes1': {'timestamp': 3013672, 'value': 9},\n",
       " 'countRewards1': {'timestamp': 3013673, 'value': 0},\n",
       " 'portProbs1': {'timestamp': 3013673, 'value': 10},\n",
       " 'countPokes2': {'timestamp': 3013674, 'value': 17},\n",
       " 'countRewards2': {'timestamp': 3013674, 'value': 15},\n",
       " 'portProbs2': {'timestamp': 3013675, 'value': 90},\n",
       " 'countPokes3': {'timestamp': 3013696, 'value': 21},\n",
       " 'countRewards3': {'timestamp': 3013696, 'value': 9},\n",
       " 'portProbs3': {'timestamp': 3013697, 'value': 50}}"
      ]
     },
     "metadata": {},
     "output_type": "display_data"
    },
    {
     "data": {
      "text/plain": [
       "{'contingency': {'timestamp': 3021312, 'value': 2},\n",
       " 'trialThresh': {'timestamp': 3021312, 'value': 69},\n",
       " 'totalPokes': {'timestamp': 3021313, 'value': 48},\n",
       " 'totalRewards': {'timestamp': 3021313, 'value': 25},\n",
       " 'ifDelay': {'timestamp': 3021314, 'value': 1},\n",
       " 'countPokes1': {'timestamp': 3021314, 'value': 9},\n",
       " 'countRewards1': {'timestamp': 3021315, 'value': 0},\n",
       " 'portProbs1': {'timestamp': 3021315, 'value': 10},\n",
       " 'countPokes2': {'timestamp': 3021315, 'value': 18},\n",
       " 'countRewards2': {'timestamp': 3021316, 'value': 16},\n",
       " 'portProbs2': {'timestamp': 3021316, 'value': 90},\n",
       " 'countPokes3': {'timestamp': 3021338, 'value': 21},\n",
       " 'countRewards3': {'timestamp': 3021338, 'value': 9},\n",
       " 'portProbs3': {'timestamp': 3021339, 'value': 50}}"
      ]
     },
     "metadata": {},
     "output_type": "display_data"
    },
    {
     "data": {
      "text/plain": [
       "{'contingency': {'timestamp': 3046599, 'value': 2},\n",
       " 'trialThresh': {'timestamp': 3046599, 'value': 69},\n",
       " 'totalPokes': {'timestamp': 3046600, 'value': 49},\n",
       " 'totalRewards': {'timestamp': 3046600, 'value': 25},\n",
       " 'ifDelay': {'timestamp': 3046601, 'value': 0},\n",
       " 'countPokes1': {'timestamp': 3046601, 'value': 9},\n",
       " 'countRewards1': {'timestamp': 3046602, 'value': 0},\n",
       " 'portProbs1': {'timestamp': 3046602, 'value': 10},\n",
       " 'countPokes2': {'timestamp': 3046603, 'value': 18},\n",
       " 'countRewards2': {'timestamp': 3046603, 'value': 16},\n",
       " 'portProbs2': {'timestamp': 3046604, 'value': 90},\n",
       " 'countPokes3': {'timestamp': 3046625, 'value': 22},\n",
       " 'countRewards3': {'timestamp': 3046625, 'value': 9},\n",
       " 'portProbs3': {'timestamp': 3046626, 'value': 50}}"
      ]
     },
     "metadata": {},
     "output_type": "display_data"
    },
    {
     "data": {
      "text/plain": [
       "{'contingency': {'timestamp': 3056817, 'value': 2},\n",
       " 'trialThresh': {'timestamp': 3056818, 'value': 69},\n",
       " 'totalPokes': {'timestamp': 3056818, 'value': 50},\n",
       " 'totalRewards': {'timestamp': 3056819, 'value': 26},\n",
       " 'ifDelay': {'timestamp': 3056819, 'value': 0},\n",
       " 'countPokes1': {'timestamp': 3056820, 'value': 9},\n",
       " 'countRewards1': {'timestamp': 3056820, 'value': 0},\n",
       " 'portProbs1': {'timestamp': 3056821, 'value': 10},\n",
       " 'countPokes2': {'timestamp': 3056821, 'value': 19},\n",
       " 'countRewards2': {'timestamp': 3056822, 'value': 17},\n",
       " 'portProbs2': {'timestamp': 3056842, 'value': 90},\n",
       " 'countPokes3': {'timestamp': 3056843, 'value': 22},\n",
       " 'countRewards3': {'timestamp': 3056843, 'value': 9},\n",
       " 'portProbs3': {'timestamp': 3056844, 'value': 50}}"
      ]
     },
     "metadata": {},
     "output_type": "display_data"
    },
    {
     "data": {
      "text/plain": [
       "{'contingency': {'timestamp': 3083856, 'value': 2},\n",
       " 'trialThresh': {'timestamp': 3083856, 'value': 69},\n",
       " 'totalPokes': {'timestamp': 3083857, 'value': 51},\n",
       " 'totalRewards': {'timestamp': 3083857, 'value': 26},\n",
       " 'ifDelay': {'timestamp': 3083858, 'value': 1},\n",
       " 'countPokes1': {'timestamp': 3083858, 'value': 10},\n",
       " 'countRewards1': {'timestamp': 3083859, 'value': 0},\n",
       " 'portProbs1': {'timestamp': 3083859, 'value': 10},\n",
       " 'countPokes2': {'timestamp': 3083859, 'value': 19},\n",
       " 'countRewards2': {'timestamp': 3083860, 'value': 17},\n",
       " 'portProbs2': {'timestamp': 3083860, 'value': 90},\n",
       " 'countPokes3': {'timestamp': 3083882, 'value': 22},\n",
       " 'countRewards3': {'timestamp': 3083882, 'value': 9},\n",
       " 'portProbs3': {'timestamp': 3083883, 'value': 50}}"
      ]
     },
     "metadata": {},
     "output_type": "display_data"
    },
    {
     "data": {
      "text/plain": [
       "{'contingency': {'timestamp': 3093895, 'value': 2},\n",
       " 'trialThresh': {'timestamp': 3093895, 'value': 69},\n",
       " 'totalPokes': {'timestamp': 3093896, 'value': 52},\n",
       " 'totalRewards': {'timestamp': 3093896, 'value': 27},\n",
       " 'ifDelay': {'timestamp': 3093897, 'value': 1},\n",
       " 'countPokes1': {'timestamp': 3093897, 'value': 10},\n",
       " 'countRewards1': {'timestamp': 3093898, 'value': 0},\n",
       " 'portProbs1': {'timestamp': 3093898, 'value': 10},\n",
       " 'countPokes2': {'timestamp': 3093899, 'value': 20},\n",
       " 'countRewards2': {'timestamp': 3093899, 'value': 18},\n",
       " 'portProbs2': {'timestamp': 3093900, 'value': 90},\n",
       " 'countPokes3': {'timestamp': 3093921, 'value': 22},\n",
       " 'countRewards3': {'timestamp': 3093921, 'value': 9},\n",
       " 'portProbs3': {'timestamp': 3093922, 'value': 50}}"
      ]
     },
     "metadata": {},
     "output_type": "display_data"
    },
    {
     "data": {
      "text/plain": [
       "{'contingency': {'timestamp': 3119817, 'value': 2},\n",
       " 'trialThresh': {'timestamp': 3119817, 'value': 69},\n",
       " 'totalPokes': {'timestamp': 3119818, 'value': 53},\n",
       " 'totalRewards': {'timestamp': 3119818, 'value': 27},\n",
       " 'ifDelay': {'timestamp': 3119819, 'value': 1},\n",
       " 'countPokes1': {'timestamp': 3119819, 'value': 10},\n",
       " 'countRewards1': {'timestamp': 3119820, 'value': 0},\n",
       " 'portProbs1': {'timestamp': 3119820, 'value': 10},\n",
       " 'countPokes2': {'timestamp': 3119821, 'value': 20},\n",
       " 'countRewards2': {'timestamp': 3119821, 'value': 18},\n",
       " 'portProbs2': {'timestamp': 3119822, 'value': 90},\n",
       " 'countPokes3': {'timestamp': 3119843, 'value': 23},\n",
       " 'countRewards3': {'timestamp': 3119843, 'value': 9},\n",
       " 'portProbs3': {'timestamp': 3119844, 'value': 50}}"
      ]
     },
     "metadata": {},
     "output_type": "display_data"
    },
    {
     "data": {
      "text/plain": [
       "{'contingency': {'timestamp': 3127767, 'value': 2},\n",
       " 'trialThresh': {'timestamp': 3127768, 'value': 69},\n",
       " 'totalPokes': {'timestamp': 3127768, 'value': 54},\n",
       " 'totalRewards': {'timestamp': 3127769, 'value': 28},\n",
       " 'ifDelay': {'timestamp': 3127769, 'value': 1},\n",
       " 'countPokes1': {'timestamp': 3127770, 'value': 10},\n",
       " 'countRewards1': {'timestamp': 3127770, 'value': 0},\n",
       " 'portProbs1': {'timestamp': 3127771, 'value': 10},\n",
       " 'countPokes2': {'timestamp': 3127771, 'value': 21},\n",
       " 'countRewards2': {'timestamp': 3127772, 'value': 19},\n",
       " 'portProbs2': {'timestamp': 3127772, 'value': 90},\n",
       " 'countPokes3': {'timestamp': 3127793, 'value': 23},\n",
       " 'countRewards3': {'timestamp': 3127794, 'value': 9},\n",
       " 'portProbs3': {'timestamp': 3127794, 'value': 50}}"
      ]
     },
     "metadata": {},
     "output_type": "display_data"
    },
    {
     "data": {
      "text/plain": [
       "{'contingency': {'timestamp': 3156574, 'value': 2},\n",
       " 'trialThresh': {'timestamp': 3156574, 'value': 69},\n",
       " 'totalPokes': {'timestamp': 3156575, 'value': 55},\n",
       " 'totalRewards': {'timestamp': 3156575, 'value': 28},\n",
       " 'ifDelay': {'timestamp': 3156576, 'value': 0},\n",
       " 'countPokes1': {'timestamp': 3156576, 'value': 10},\n",
       " 'countRewards1': {'timestamp': 3156577, 'value': 0},\n",
       " 'portProbs1': {'timestamp': 3156577, 'value': 10},\n",
       " 'countPokes2': {'timestamp': 3156578, 'value': 21},\n",
       " 'countRewards2': {'timestamp': 3156578, 'value': 19},\n",
       " 'portProbs2': {'timestamp': 3156579, 'value': 90},\n",
       " 'countPokes3': {'timestamp': 3156600, 'value': 24},\n",
       " 'countRewards3': {'timestamp': 3156600, 'value': 9},\n",
       " 'portProbs3': {'timestamp': 3156601, 'value': 50}}"
      ]
     },
     "metadata": {},
     "output_type": "display_data"
    },
    {
     "data": {
      "text/plain": [
       "{'contingency': {'timestamp': 3164769, 'value': 2},\n",
       " 'trialThresh': {'timestamp': 3164769, 'value': 69},\n",
       " 'totalPokes': {'timestamp': 3164770, 'value': 56},\n",
       " 'totalRewards': {'timestamp': 3164770, 'value': 29},\n",
       " 'ifDelay': {'timestamp': 3164771, 'value': 0},\n",
       " 'countPokes1': {'timestamp': 3164771, 'value': 10},\n",
       " 'countRewards1': {'timestamp': 3164772, 'value': 0},\n",
       " 'portProbs1': {'timestamp': 3164772, 'value': 10},\n",
       " 'countPokes2': {'timestamp': 3164773, 'value': 22},\n",
       " 'countRewards2': {'timestamp': 3164773, 'value': 20},\n",
       " 'portProbs2': {'timestamp': 3164774, 'value': 90},\n",
       " 'countPokes3': {'timestamp': 3164795, 'value': 24},\n",
       " 'countRewards3': {'timestamp': 3164795, 'value': 9},\n",
       " 'portProbs3': {'timestamp': 3164796, 'value': 50}}"
      ]
     },
     "metadata": {},
     "output_type": "display_data"
    },
    {
     "data": {
      "text/plain": [
       "{'contingency': {'timestamp': 3187972, 'value': 2},\n",
       " 'trialThresh': {'timestamp': 3187972, 'value': 69},\n",
       " 'totalPokes': {'timestamp': 3187973, 'value': 57},\n",
       " 'totalRewards': {'timestamp': 3187973, 'value': 29},\n",
       " 'ifDelay': {'timestamp': 3187974, 'value': 0},\n",
       " 'countPokes1': {'timestamp': 3187974, 'value': 10},\n",
       " 'countRewards1': {'timestamp': 3187975, 'value': 0},\n",
       " 'portProbs1': {'timestamp': 3187975, 'value': 10},\n",
       " 'countPokes2': {'timestamp': 3187975, 'value': 22},\n",
       " 'countRewards2': {'timestamp': 3187976, 'value': 20},\n",
       " 'portProbs2': {'timestamp': 3187976, 'value': 90},\n",
       " 'countPokes3': {'timestamp': 3187998, 'value': 25},\n",
       " 'countRewards3': {'timestamp': 3187998, 'value': 9},\n",
       " 'portProbs3': {'timestamp': 3187999, 'value': 50}}"
      ]
     },
     "metadata": {},
     "output_type": "display_data"
    },
    {
     "data": {
      "text/plain": [
       "{'contingency': {'timestamp': 3196263, 'value': 2},\n",
       " 'trialThresh': {'timestamp': 3196264, 'value': 69},\n",
       " 'totalPokes': {'timestamp': 3196264, 'value': 58},\n",
       " 'totalRewards': {'timestamp': 3196265, 'value': 30},\n",
       " 'ifDelay': {'timestamp': 3196265, 'value': 0},\n",
       " 'countPokes1': {'timestamp': 3196265, 'value': 10},\n",
       " 'countRewards1': {'timestamp': 3196266, 'value': 0},\n",
       " 'portProbs1': {'timestamp': 3196266, 'value': 10},\n",
       " 'countPokes2': {'timestamp': 3196267, 'value': 23},\n",
       " 'countRewards2': {'timestamp': 3196267, 'value': 21},\n",
       " 'portProbs2': {'timestamp': 3196288, 'value': 90},\n",
       " 'countPokes3': {'timestamp': 3196289, 'value': 25},\n",
       " 'countRewards3': {'timestamp': 3196289, 'value': 9},\n",
       " 'portProbs3': {'timestamp': 3196290, 'value': 50}}"
      ]
     },
     "metadata": {},
     "output_type": "display_data"
    },
    {
     "data": {
      "text/plain": [
       "{'contingency': {'timestamp': 3228573, 'value': 2},\n",
       " 'trialThresh': {'timestamp': 3228574, 'value': 69},\n",
       " 'totalPokes': {'timestamp': 3228574, 'value': 59},\n",
       " 'totalRewards': {'timestamp': 3228575, 'value': 31},\n",
       " 'ifDelay': {'timestamp': 3228575, 'value': 0},\n",
       " 'countPokes1': {'timestamp': 3228576, 'value': 10},\n",
       " 'countRewards1': {'timestamp': 3228576, 'value': 0},\n",
       " 'portProbs1': {'timestamp': 3228577, 'value': 10},\n",
       " 'countPokes2': {'timestamp': 3228577, 'value': 23},\n",
       " 'countRewards2': {'timestamp': 3228598, 'value': 21},\n",
       " 'portProbs2': {'timestamp': 3228599, 'value': 90},\n",
       " 'countPokes3': {'timestamp': 3228599, 'value': 26},\n",
       " 'countRewards3': {'timestamp': 3228600, 'value': 10},\n",
       " 'portProbs3': {'timestamp': 3228600, 'value': 50}}"
      ]
     },
     "metadata": {},
     "output_type": "display_data"
    },
    {
     "data": {
      "text/plain": [
       "{'contingency': {'timestamp': 3240698, 'value': 2},\n",
       " 'trialThresh': {'timestamp': 3240698, 'value': 69},\n",
       " 'totalPokes': {'timestamp': 3240699, 'value': 60},\n",
       " 'totalRewards': {'timestamp': 3240699, 'value': 32},\n",
       " 'ifDelay': {'timestamp': 3240700, 'value': 0},\n",
       " 'countPokes1': {'timestamp': 3240700, 'value': 10},\n",
       " 'countRewards1': {'timestamp': 3240701, 'value': 0},\n",
       " 'portProbs1': {'timestamp': 3240701, 'value': 10},\n",
       " 'countPokes2': {'timestamp': 3240702, 'value': 24},\n",
       " 'countRewards2': {'timestamp': 3240702, 'value': 22},\n",
       " 'portProbs2': {'timestamp': 3240703, 'value': 90},\n",
       " 'countPokes3': {'timestamp': 3240724, 'value': 26},\n",
       " 'countRewards3': {'timestamp': 3240724, 'value': 10},\n",
       " 'portProbs3': {'timestamp': 3240725, 'value': 50}}"
      ]
     },
     "metadata": {},
     "output_type": "display_data"
    },
    {
     "data": {
      "text/plain": [
       "{'contingency': {'timestamp': 3263628, 'value': 2},\n",
       " 'trialThresh': {'timestamp': 3263629, 'value': 69},\n",
       " 'totalPokes': {'timestamp': 3263629, 'value': 61},\n",
       " 'totalRewards': {'timestamp': 3263630, 'value': 32},\n",
       " 'ifDelay': {'timestamp': 3263630, 'value': 1},\n",
       " 'countPokes1': {'timestamp': 3263631, 'value': 10},\n",
       " 'countRewards1': {'timestamp': 3263631, 'value': 0},\n",
       " 'portProbs1': {'timestamp': 3263632, 'value': 10},\n",
       " 'countPokes2': {'timestamp': 3263632, 'value': 24},\n",
       " 'countRewards2': {'timestamp': 3263633, 'value': 22},\n",
       " 'portProbs2': {'timestamp': 3263633, 'value': 90},\n",
       " 'countPokes3': {'timestamp': 3263655, 'value': 27},\n",
       " 'countRewards3': {'timestamp': 3263655, 'value': 10},\n",
       " 'portProbs3': {'timestamp': 3263656, 'value': 50}}"
      ]
     },
     "metadata": {},
     "output_type": "display_data"
    },
    {
     "data": {
      "text/plain": [
       "{'contingency': {'timestamp': 3271418, 'value': 2},\n",
       " 'trialThresh': {'timestamp': 3271418, 'value': 69},\n",
       " 'totalPokes': {'timestamp': 3271419, 'value': 62},\n",
       " 'totalRewards': {'timestamp': 3271419, 'value': 33},\n",
       " 'ifDelay': {'timestamp': 3271420, 'value': 1},\n",
       " 'countPokes1': {'timestamp': 3271420, 'value': 10},\n",
       " 'countRewards1': {'timestamp': 3271421, 'value': 0},\n",
       " 'portProbs1': {'timestamp': 3271421, 'value': 10},\n",
       " 'countPokes2': {'timestamp': 3271422, 'value': 25},\n",
       " 'countRewards2': {'timestamp': 3271422, 'value': 23},\n",
       " 'portProbs2': {'timestamp': 3271423, 'value': 90},\n",
       " 'countPokes3': {'timestamp': 3271444, 'value': 27},\n",
       " 'countRewards3': {'timestamp': 3271444, 'value': 10},\n",
       " 'portProbs3': {'timestamp': 3271445, 'value': 50}}"
      ]
     },
     "metadata": {},
     "output_type": "display_data"
    },
    {
     "data": {
      "text/plain": [
       "{'contingency': {'timestamp': 3295361, 'value': 2},\n",
       " 'trialThresh': {'timestamp': 3295361, 'value': 69},\n",
       " 'totalPokes': {'timestamp': 3295362, 'value': 63},\n",
       " 'totalRewards': {'timestamp': 3295362, 'value': 33},\n",
       " 'ifDelay': {'timestamp': 3295363, 'value': 0},\n",
       " 'countPokes1': {'timestamp': 3295363, 'value': 10},\n",
       " 'countRewards1': {'timestamp': 3295364, 'value': 0},\n",
       " 'portProbs1': {'timestamp': 3295364, 'value': 10},\n",
       " 'countPokes2': {'timestamp': 3295365, 'value': 25},\n",
       " 'countRewards2': {'timestamp': 3295365, 'value': 23},\n",
       " 'portProbs2': {'timestamp': 3295366, 'value': 90},\n",
       " 'countPokes3': {'timestamp': 3295387, 'value': 28},\n",
       " 'countRewards3': {'timestamp': 3295387, 'value': 10},\n",
       " 'portProbs3': {'timestamp': 3295388, 'value': 50}}"
      ]
     },
     "metadata": {},
     "output_type": "display_data"
    },
    {
     "data": {
      "text/plain": [
       "{'contingency': {'timestamp': 3303000, 'value': 2},\n",
       " 'trialThresh': {'timestamp': 3303001, 'value': 69},\n",
       " 'totalPokes': {'timestamp': 3303001, 'value': 64},\n",
       " 'totalRewards': {'timestamp': 3303002, 'value': 33},\n",
       " 'ifDelay': {'timestamp': 3303002, 'value': 0},\n",
       " 'countPokes1': {'timestamp': 3303003, 'value': 10},\n",
       " 'countRewards1': {'timestamp': 3303003, 'value': 0},\n",
       " 'portProbs1': {'timestamp': 3303004, 'value': 10},\n",
       " 'countPokes2': {'timestamp': 3303004, 'value': 26},\n",
       " 'countRewards2': {'timestamp': 3303005, 'value': 23},\n",
       " 'portProbs2': {'timestamp': 3303005, 'value': 90},\n",
       " 'countPokes3': {'timestamp': 3303026, 'value': 28},\n",
       " 'countRewards3': {'timestamp': 3303027, 'value': 10},\n",
       " 'portProbs3': {'timestamp': 3303027, 'value': 50}}"
      ]
     },
     "metadata": {},
     "output_type": "display_data"
    },
    {
     "data": {
      "text/plain": [
       "{'contingency': {'timestamp': 3326405, 'value': 2},\n",
       " 'trialThresh': {'timestamp': 3326406, 'value': 69},\n",
       " 'totalPokes': {'timestamp': 3326406, 'value': 65},\n",
       " 'totalRewards': {'timestamp': 3326407, 'value': 34},\n",
       " 'ifDelay': {'timestamp': 3326407, 'value': 0},\n",
       " 'countPokes1': {'timestamp': 3326408, 'value': 10},\n",
       " 'countRewards1': {'timestamp': 3326408, 'value': 0},\n",
       " 'portProbs1': {'timestamp': 3326409, 'value': 10},\n",
       " 'countPokes2': {'timestamp': 3326409, 'value': 26},\n",
       " 'countRewards2': {'timestamp': 3326410, 'value': 23},\n",
       " 'portProbs2': {'timestamp': 3326410, 'value': 90},\n",
       " 'countPokes3': {'timestamp': 3326431, 'value': 29},\n",
       " 'countRewards3': {'timestamp': 3326432, 'value': 11},\n",
       " 'portProbs3': {'timestamp': 3326432, 'value': 50}}"
      ]
     },
     "metadata": {},
     "output_type": "display_data"
    },
    {
     "data": {
      "text/plain": [
       "{'contingency': {'timestamp': 3340188, 'value': 2},\n",
       " 'trialThresh': {'timestamp': 3340188, 'value': 69},\n",
       " 'totalPokes': {'timestamp': 3340189, 'value': 66},\n",
       " 'totalRewards': {'timestamp': 3340189, 'value': 35},\n",
       " 'ifDelay': {'timestamp': 3340190, 'value': 1},\n",
       " 'countPokes1': {'timestamp': 3340190, 'value': 10},\n",
       " 'countRewards1': {'timestamp': 3340191, 'value': 0},\n",
       " 'portProbs1': {'timestamp': 3340191, 'value': 10},\n",
       " 'countPokes2': {'timestamp': 3340192, 'value': 27},\n",
       " 'countRewards2': {'timestamp': 3340192, 'value': 24},\n",
       " 'portProbs2': {'timestamp': 3340193, 'value': 90},\n",
       " 'countPokes3': {'timestamp': 3340214, 'value': 29},\n",
       " 'countRewards3': {'timestamp': 3340214, 'value': 11},\n",
       " 'portProbs3': {'timestamp': 3340215, 'value': 50}}"
      ]
     },
     "metadata": {},
     "output_type": "display_data"
    },
    {
     "data": {
      "text/plain": [
       "{'contingency': {'timestamp': 3366203, 'value': 2},\n",
       " 'trialThresh': {'timestamp': 3366203, 'value': 69},\n",
       " 'totalPokes': {'timestamp': 3366204, 'value': 67},\n",
       " 'totalRewards': {'timestamp': 3366204, 'value': 35},\n",
       " 'ifDelay': {'timestamp': 3366205, 'value': 1},\n",
       " 'countPokes1': {'timestamp': 3366205, 'value': 10},\n",
       " 'countRewards1': {'timestamp': 3366206, 'value': 0},\n",
       " 'portProbs1': {'timestamp': 3366206, 'value': 10},\n",
       " 'countPokes2': {'timestamp': 3366207, 'value': 27},\n",
       " 'countRewards2': {'timestamp': 3366207, 'value': 24},\n",
       " 'portProbs2': {'timestamp': 3366208, 'value': 90},\n",
       " 'countPokes3': {'timestamp': 3366229, 'value': 30},\n",
       " 'countRewards3': {'timestamp': 3366229, 'value': 11},\n",
       " 'portProbs3': {'timestamp': 3366230, 'value': 50}}"
      ]
     },
     "metadata": {},
     "output_type": "display_data"
    },
    {
     "data": {
      "text/plain": [
       "{'contingency': {'timestamp': 3374084, 'value': 2},\n",
       " 'trialThresh': {'timestamp': 3374084, 'value': 69},\n",
       " 'totalPokes': {'timestamp': 3374085, 'value': 68},\n",
       " 'totalRewards': {'timestamp': 3374085, 'value': 36},\n",
       " 'ifDelay': {'timestamp': 3374086, 'value': 1},\n",
       " 'countPokes1': {'timestamp': 3374086, 'value': 10},\n",
       " 'countRewards1': {'timestamp': 3374087, 'value': 0},\n",
       " 'portProbs1': {'timestamp': 3374087, 'value': 10},\n",
       " 'countPokes2': {'timestamp': 3374088, 'value': 28},\n",
       " 'countRewards2': {'timestamp': 3374088, 'value': 25},\n",
       " 'portProbs2': {'timestamp': 3374089, 'value': 90},\n",
       " 'countPokes3': {'timestamp': 3374110, 'value': 30},\n",
       " 'countRewards3': {'timestamp': 3374110, 'value': 11},\n",
       " 'portProbs3': {'timestamp': 3374111, 'value': 50}}"
      ]
     },
     "metadata": {},
     "output_type": "display_data"
    },
    {
     "data": {
      "text/plain": [
       "{'contingency': {'timestamp': 3392669, 'value': 2},\n",
       " 'trialThresh': {'timestamp': 3392669, 'value': 69},\n",
       " 'totalPokes': {'timestamp': 3392670, 'value': 69},\n",
       " 'totalRewards': {'timestamp': 3392670, 'value': 36},\n",
       " 'ifDelay': {'timestamp': 3392671, 'value': 0},\n",
       " 'countPokes1': {'timestamp': 3392671, 'value': 10},\n",
       " 'countRewards1': {'timestamp': 3392672, 'value': 0},\n",
       " 'portProbs1': {'timestamp': 3392672, 'value': 10},\n",
       " 'countPokes2': {'timestamp': 3392673, 'value': 28},\n",
       " 'countRewards2': {'timestamp': 3392673, 'value': 25},\n",
       " 'portProbs2': {'timestamp': 3392674, 'value': 90},\n",
       " 'countPokes3': {'timestamp': 3392695, 'value': 31},\n",
       " 'countRewards3': {'timestamp': 3392696, 'value': 11},\n",
       " 'portProbs3': {'timestamp': 3392696, 'value': 50}}"
      ]
     },
     "metadata": {},
     "output_type": "display_data"
    },
    {
     "name": "stdout",
     "output_type": "stream",
     "text": [
      "1998 nosepokes from the DIOs: {'B': 918, 'A': 570, 'C': 510}\n",
      "1996 nosepokes from the statescript: {'B': 916, 'A': 570, 'C': 510}\n",
      "/var/folders/4y/j2yklrvj7z96v7h6ww30_knc0000gp/T/ipykernel_82401/2478407372.py:237: UserWarning: Length mismatch: 1998 nosepokes from DIOs, but only 1996 nosepokes from statescript.\n",
      "The DIO may have more pokes because it keeps recording after the statescript has been stopped (this is ok).\n",
      "Mismatched rows:\n",
      "      timestamp_DIO event_name port  index  timestamp_statescript\n",
      "743      1716157698    poke_in    B    458                    NaN\n",
      "1742     1716157699   poke_out    B    458                    NaN\n",
      "This is a probability change session.\n",
      "/var/folders/4y/j2yklrvj7z96v7h6ww30_knc0000gp/T/ipykernel_82401/2478407372.py:668: FutureWarning: DataFrame.applymap has been deprecated. Use DataFrame.map instead.\n",
      "/var/folders/4y/j2yklrvj7z96v7h6ww30_knc0000gp/T/ipykernel_82401/2478407372.py:785: UserWarning: Trial 182: DIO poke_in at 2895815.3 and statescript poke_in at 2896364 are 548.7 ms apart, exceeds warning tolerance of 100 ms\n",
      "/var/folders/4y/j2yklrvj7z96v7h6ww30_knc0000gp/T/ipykernel_82401/2478407372.py:785: UserWarning: Trial 184: DIO poke_in at 2928285.6 and statescript poke_in at 2928700 are 414.4 ms apart, exceeds warning tolerance of 100 ms\n",
      "/var/folders/4y/j2yklrvj7z96v7h6ww30_knc0000gp/T/ipykernel_82401/2478407372.py:785: UserWarning: Trial 186: DIO poke_in at 2945794.6 and statescript poke_in at 2946292 are 497.4 ms apart, exceeds warning tolerance of 100 ms\n",
      "/var/folders/4y/j2yklrvj7z96v7h6ww30_knc0000gp/T/ipykernel_82401/2478407372.py:785: UserWarning: Trial 188: DIO poke_in at 2981323.2 and statescript poke_in at 2981798 are 474.8 ms apart, exceeds warning tolerance of 100 ms\n",
      "/var/folders/4y/j2yklrvj7z96v7h6ww30_knc0000gp/T/ipykernel_82401/2478407372.py:785: UserWarning: Trial 190: DIO poke_in at 3018443.0 and statescript poke_in at 3018871 are 428.0 ms apart, exceeds warning tolerance of 100 ms\n",
      "/var/folders/4y/j2yklrvj7z96v7h6ww30_knc0000gp/T/ipykernel_82401/2478407372.py:785: UserWarning: Trial 192: DIO poke_in at 3052366.2 and statescript poke_in at 3052776 are 409.8 ms apart, exceeds warning tolerance of 100 ms\n",
      "/var/folders/4y/j2yklrvj7z96v7h6ww30_knc0000gp/T/ipykernel_82401/2478407372.py:785: UserWarning: Trial 194: DIO poke_in at 3089268.9 and statescript poke_in at 3089745 are 476.1 ms apart, exceeds warning tolerance of 100 ms\n",
      "/var/folders/4y/j2yklrvj7z96v7h6ww30_knc0000gp/T/ipykernel_82401/2478407372.py:785: UserWarning: Trial 196: DIO poke_in at 3120837.4 and statescript poke_in at 3121239 are 401.6 ms apart, exceeds warning tolerance of 100 ms\n",
      "/var/folders/4y/j2yklrvj7z96v7h6ww30_knc0000gp/T/ipykernel_82401/2478407372.py:785: UserWarning: Trial 198: DIO poke_in at 3165180.1 and statescript poke_in at 3165674 are 493.9 ms apart, exceeds warning tolerance of 100 ms\n",
      "/var/folders/4y/j2yklrvj7z96v7h6ww30_knc0000gp/T/ipykernel_82401/2478407372.py:785: UserWarning: Trial 200: DIO poke_in at 3195979.3 and statescript poke_in at 3196412 are 432.7 ms apart, exceeds warning tolerance of 100 ms\n",
      "/var/folders/4y/j2yklrvj7z96v7h6ww30_knc0000gp/T/ipykernel_82401/2478407372.py:785: UserWarning: Trial 202: DIO poke_in at 3227523.8 and statescript poke_in at 3228006 are 482.2 ms apart, exceeds warning tolerance of 100 ms\n",
      "/var/folders/4y/j2yklrvj7z96v7h6ww30_knc0000gp/T/ipykernel_82401/2478407372.py:785: UserWarning: Trial 204: DIO poke_in at 3264574.8 and statescript poke_in at 3265200 are 625.2 ms apart, exceeds warning tolerance of 100 ms\n",
      "/var/folders/4y/j2yklrvj7z96v7h6ww30_knc0000gp/T/ipykernel_82401/2478407372.py:785: UserWarning: Trial 206: DIO poke_in at 3298285.8 and statescript poke_in at 3299238 are 952.2 ms apart, exceeds warning tolerance of 100 ms\n",
      "/var/folders/4y/j2yklrvj7z96v7h6ww30_knc0000gp/T/ipykernel_82401/2478407372.py:793: UserWarning: Trial 180: DIO poke_out at 2864518.0 and statescript poke_out at 2896269 are 31751.0 ms apart, exceeds warning tolerance of 100 ms\n",
      "/var/folders/4y/j2yklrvj7z96v7h6ww30_knc0000gp/T/ipykernel_82401/2478407372.py:793: UserWarning: Trial 182: DIO poke_out at 2911082.6 and statescript poke_out at 2928610 are 17527.4 ms apart, exceeds warning tolerance of 100 ms\n",
      "/var/folders/4y/j2yklrvj7z96v7h6ww30_knc0000gp/T/ipykernel_82401/2478407372.py:793: UserWarning: Trial 184: DIO poke_out at 2929409.0 and statescript poke_out at 2946224 are 16815.0 ms apart, exceeds warning tolerance of 100 ms\n",
      "/var/folders/4y/j2yklrvj7z96v7h6ww30_knc0000gp/T/ipykernel_82401/2478407372.py:793: UserWarning: Trial 186: DIO poke_out at 2957873.2 and statescript poke_out at 2981733 are 23859.8 ms apart, exceeds warning tolerance of 100 ms\n",
      "/var/folders/4y/j2yklrvj7z96v7h6ww30_knc0000gp/T/ipykernel_82401/2478407372.py:793: UserWarning: Trial 188: DIO poke_out at 2994284.0 and statescript poke_out at 3018825 are 24541.0 ms apart, exceeds warning tolerance of 100 ms\n",
      "/var/folders/4y/j2yklrvj7z96v7h6ww30_knc0000gp/T/ipykernel_82401/2478407372.py:793: UserWarning: Trial 190: DIO poke_out at 3033127.3 and statescript poke_out at 3052692 are 19564.7 ms apart, exceeds warning tolerance of 100 ms\n",
      "/var/folders/4y/j2yklrvj7z96v7h6ww30_knc0000gp/T/ipykernel_82401/2478407372.py:793: UserWarning: Trial 192: DIO poke_out at 3067150.6 and statescript poke_out at 3089692 are 22541.4 ms apart, exceeds warning tolerance of 100 ms\n",
      "/var/folders/4y/j2yklrvj7z96v7h6ww30_knc0000gp/T/ipykernel_82401/2478407372.py:793: UserWarning: Trial 194: DIO poke_out at 3101027.6 and statescript poke_out at 3121183 are 20155.4 ms apart, exceeds warning tolerance of 100 ms\n",
      "/var/folders/4y/j2yklrvj7z96v7h6ww30_knc0000gp/T/ipykernel_82401/2478407372.py:793: UserWarning: Trial 196: DIO poke_out at 3132391.4 and statescript poke_out at 3165616 are 33224.6 ms apart, exceeds warning tolerance of 100 ms\n",
      "/var/folders/4y/j2yklrvj7z96v7h6ww30_knc0000gp/T/ipykernel_82401/2478407372.py:793: UserWarning: Trial 198: DIO poke_out at 3178640.6 and statescript poke_out at 3196344 are 17703.4 ms apart, exceeds warning tolerance of 100 ms\n",
      "/var/folders/4y/j2yklrvj7z96v7h6ww30_knc0000gp/T/ipykernel_82401/2478407372.py:793: UserWarning: Trial 200: DIO poke_out at 3210194.7 and statescript poke_out at 3227930 are 17735.3 ms apart, exceeds warning tolerance of 100 ms\n",
      "/var/folders/4y/j2yklrvj7z96v7h6ww30_knc0000gp/T/ipykernel_82401/2478407372.py:793: UserWarning: Trial 202: DIO poke_out at 3228625.7 and statescript poke_out at 3265117 are 36491.3 ms apart, exceeds warning tolerance of 100 ms\n",
      "/var/folders/4y/j2yklrvj7z96v7h6ww30_knc0000gp/T/ipykernel_82401/2478407372.py:793: UserWarning: Trial 204: DIO poke_out at 3280477.1 and statescript poke_out at 3298998 are 18520.9 ms apart, exceeds warning tolerance of 100 ms\n",
      "Trial and block data for epoch 3:\n"
     ]
    },
    {
     "data": {
      "text/html": [
       "<div>\n",
       "<style scoped>\n",
       "    .dataframe tbody tr th:only-of-type {\n",
       "        vertical-align: middle;\n",
       "    }\n",
       "\n",
       "    .dataframe tbody tr th {\n",
       "        vertical-align: top;\n",
       "    }\n",
       "\n",
       "    .dataframe thead th {\n",
       "        text-align: right;\n",
       "    }\n",
       "</style>\n",
       "<table border=\"1\" class=\"dataframe\">\n",
       "  <thead>\n",
       "    <tr style=\"text-align: right;\">\n",
       "      <th></th>\n",
       "      <th>epoch</th>\n",
       "      <th>trial_within_block</th>\n",
       "      <th>trial_within_session</th>\n",
       "      <th>block</th>\n",
       "      <th>start_port</th>\n",
       "      <th>end_port</th>\n",
       "      <th>reward</th>\n",
       "      <th>delay</th>\n",
       "      <th>statescript_reference_timestamp</th>\n",
       "      <th>poke_in_time_statescript</th>\n",
       "      <th>poke_out_time_statescript</th>\n",
       "      <th>poke_in_time</th>\n",
       "      <th>poke_out_time</th>\n",
       "      <th>start_time</th>\n",
       "      <th>end_time</th>\n",
       "      <th>duration</th>\n",
       "      <th>pump_on_time</th>\n",
       "      <th>pump_off_time</th>\n",
       "    </tr>\n",
       "  </thead>\n",
       "  <tbody>\n",
       "    <tr>\n",
       "      <th>0</th>\n",
       "      <td>3</td>\n",
       "      <td>1</td>\n",
       "      <td>1</td>\n",
       "      <td>1</td>\n",
       "      <td>None</td>\n",
       "      <td>C</td>\n",
       "      <td>0</td>\n",
       "      <td>N/A</td>\n",
       "      <td>75363</td>\n",
       "      <td>75051</td>\n",
       "      <td>76248</td>\n",
       "      <td>1716154390</td>\n",
       "      <td>1716154391</td>\n",
       "      <td>1716154387</td>\n",
       "      <td>1716154391</td>\n",
       "      <td>4</td>\n",
       "      <td>N/A</td>\n",
       "      <td>N/A</td>\n",
       "    </tr>\n",
       "    <tr>\n",
       "      <th>1</th>\n",
       "      <td>3</td>\n",
       "      <td>2</td>\n",
       "      <td>2</td>\n",
       "      <td>1</td>\n",
       "      <td>C</td>\n",
       "      <td>B</td>\n",
       "      <td>1</td>\n",
       "      <td>N/A</td>\n",
       "      <td>85874</td>\n",
       "      <td>85544</td>\n",
       "      <td>98981</td>\n",
       "      <td>1716154400</td>\n",
       "      <td>1716154414</td>\n",
       "      <td>1716154391</td>\n",
       "      <td>1716154414</td>\n",
       "      <td>23</td>\n",
       "      <td>1716154400</td>\n",
       "      <td>1716154401</td>\n",
       "    </tr>\n",
       "    <tr>\n",
       "      <th>2</th>\n",
       "      <td>3</td>\n",
       "      <td>3</td>\n",
       "      <td>3</td>\n",
       "      <td>1</td>\n",
       "      <td>B</td>\n",
       "      <td>C</td>\n",
       "      <td>1</td>\n",
       "      <td>N/A</td>\n",
       "      <td>107835</td>\n",
       "      <td>107317</td>\n",
       "      <td>117084</td>\n",
       "      <td>1716154422</td>\n",
       "      <td>1716154432</td>\n",
       "      <td>1716154414</td>\n",
       "      <td>1716154432</td>\n",
       "      <td>18</td>\n",
       "      <td>1716154422</td>\n",
       "      <td>1716154423</td>\n",
       "    </tr>\n",
       "    <tr>\n",
       "      <th>3</th>\n",
       "      <td>3</td>\n",
       "      <td>4</td>\n",
       "      <td>4</td>\n",
       "      <td>1</td>\n",
       "      <td>C</td>\n",
       "      <td>B</td>\n",
       "      <td>0</td>\n",
       "      <td>N/A</td>\n",
       "      <td>125859</td>\n",
       "      <td>125274</td>\n",
       "      <td>126299</td>\n",
       "      <td>1716154440</td>\n",
       "      <td>1716154441</td>\n",
       "      <td>1716154432</td>\n",
       "      <td>1716154441</td>\n",
       "      <td>9</td>\n",
       "      <td>N/A</td>\n",
       "      <td>N/A</td>\n",
       "    </tr>\n",
       "    <tr>\n",
       "      <th>4</th>\n",
       "      <td>3</td>\n",
       "      <td>5</td>\n",
       "      <td>5</td>\n",
       "      <td>1</td>\n",
       "      <td>B</td>\n",
       "      <td>A</td>\n",
       "      <td>1</td>\n",
       "      <td>N/A</td>\n",
       "      <td>134591</td>\n",
       "      <td>134552</td>\n",
       "      <td>149164</td>\n",
       "      <td>1716154449</td>\n",
       "      <td>1716154464</td>\n",
       "      <td>1716154441</td>\n",
       "      <td>1716154464</td>\n",
       "      <td>23</td>\n",
       "      <td>1716154449</td>\n",
       "      <td>1716154450</td>\n",
       "    </tr>\n",
       "    <tr>\n",
       "      <th>...</th>\n",
       "      <td>...</td>\n",
       "      <td>...</td>\n",
       "      <td>...</td>\n",
       "      <td>...</td>\n",
       "      <td>...</td>\n",
       "      <td>...</td>\n",
       "      <td>...</td>\n",
       "      <td>...</td>\n",
       "      <td>...</td>\n",
       "      <td>...</td>\n",
       "      <td>...</td>\n",
       "      <td>...</td>\n",
       "      <td>...</td>\n",
       "      <td>...</td>\n",
       "      <td>...</td>\n",
       "      <td>...</td>\n",
       "      <td>...</td>\n",
       "      <td>...</td>\n",
       "    </tr>\n",
       "    <tr>\n",
       "      <th>202</th>\n",
       "      <td>3</td>\n",
       "      <td>65</td>\n",
       "      <td>203</td>\n",
       "      <td>3</td>\n",
       "      <td>B</td>\n",
       "      <td>C</td>\n",
       "      <td>1</td>\n",
       "      <td>N/A</td>\n",
       "      <td>3326405</td>\n",
       "      <td>3313873</td>\n",
       "      <td>3326773</td>\n",
       "      <td>1716157629</td>\n",
       "      <td>1716157642</td>\n",
       "      <td>1716157619</td>\n",
       "      <td>1716157642</td>\n",
       "      <td>23</td>\n",
       "      <td>1716157629</td>\n",
       "      <td>1716157629</td>\n",
       "    </tr>\n",
       "    <tr>\n",
       "      <th>203</th>\n",
       "      <td>3</td>\n",
       "      <td>66</td>\n",
       "      <td>204</td>\n",
       "      <td>3</td>\n",
       "      <td>C</td>\n",
       "      <td>B</td>\n",
       "      <td>1</td>\n",
       "      <td>N/A</td>\n",
       "      <td>3340188</td>\n",
       "      <td>3340251</td>\n",
       "      <td>3374049</td>\n",
       "      <td>1716157655</td>\n",
       "      <td>1716157670</td>\n",
       "      <td>1716157642</td>\n",
       "      <td>1716157670</td>\n",
       "      <td>29</td>\n",
       "      <td>1716157655</td>\n",
       "      <td>1716157655</td>\n",
       "    </tr>\n",
       "    <tr>\n",
       "      <th>204</th>\n",
       "      <td>3</td>\n",
       "      <td>67</td>\n",
       "      <td>205</td>\n",
       "      <td>3</td>\n",
       "      <td>B</td>\n",
       "      <td>C</td>\n",
       "      <td>0</td>\n",
       "      <td>N/A</td>\n",
       "      <td>3366203</td>\n",
       "      <td>3365182</td>\n",
       "      <td>3366177</td>\n",
       "      <td>1716157680</td>\n",
       "      <td>1716157681</td>\n",
       "      <td>1716157670</td>\n",
       "      <td>1716157681</td>\n",
       "      <td>11</td>\n",
       "      <td>N/A</td>\n",
       "      <td>N/A</td>\n",
       "    </tr>\n",
       "    <tr>\n",
       "      <th>205</th>\n",
       "      <td>3</td>\n",
       "      <td>68</td>\n",
       "      <td>206</td>\n",
       "      <td>3</td>\n",
       "      <td>C</td>\n",
       "      <td>B</td>\n",
       "      <td>1</td>\n",
       "      <td>N/A</td>\n",
       "      <td>3374084</td>\n",
       "      <td>3374289</td>\n",
       "      <td>3383567</td>\n",
       "      <td>1716157688</td>\n",
       "      <td>1716157698</td>\n",
       "      <td>1716157681</td>\n",
       "      <td>1716157698</td>\n",
       "      <td>17</td>\n",
       "      <td>1716157688</td>\n",
       "      <td>1716157689</td>\n",
       "    </tr>\n",
       "    <tr>\n",
       "      <th>206</th>\n",
       "      <td>3</td>\n",
       "      <td>69</td>\n",
       "      <td>207</td>\n",
       "      <td>3</td>\n",
       "      <td>B</td>\n",
       "      <td>C</td>\n",
       "      <td>0</td>\n",
       "      <td>N/A</td>\n",
       "      <td>3392669</td>\n",
       "      <td>3392594</td>\n",
       "      <td>3393554</td>\n",
       "      <td>1716157708</td>\n",
       "      <td>1716157709</td>\n",
       "      <td>1716157698</td>\n",
       "      <td>1716157709</td>\n",
       "      <td>10</td>\n",
       "      <td>N/A</td>\n",
       "      <td>N/A</td>\n",
       "    </tr>\n",
       "  </tbody>\n",
       "</table>\n",
       "<p>207 rows × 18 columns</p>\n",
       "</div>"
      ],
      "text/plain": [
       "     epoch  trial_within_block  trial_within_session  block start_port  \\\n",
       "0        3                   1                     1      1       None   \n",
       "1        3                   2                     2      1          C   \n",
       "2        3                   3                     3      1          B   \n",
       "3        3                   4                     4      1          C   \n",
       "4        3                   5                     5      1          B   \n",
       "..     ...                 ...                   ...    ...        ...   \n",
       "202      3                  65                   203      3          B   \n",
       "203      3                  66                   204      3          C   \n",
       "204      3                  67                   205      3          B   \n",
       "205      3                  68                   206      3          C   \n",
       "206      3                  69                   207      3          B   \n",
       "\n",
       "    end_port  reward delay  statescript_reference_timestamp  \\\n",
       "0          C       0   N/A                            75363   \n",
       "1          B       1   N/A                            85874   \n",
       "2          C       1   N/A                           107835   \n",
       "3          B       0   N/A                           125859   \n",
       "4          A       1   N/A                           134591   \n",
       "..       ...     ...   ...                              ...   \n",
       "202        C       1   N/A                          3326405   \n",
       "203        B       1   N/A                          3340188   \n",
       "204        C       0   N/A                          3366203   \n",
       "205        B       1   N/A                          3374084   \n",
       "206        C       0   N/A                          3392669   \n",
       "\n",
       "    poke_in_time_statescript poke_out_time_statescript poke_in_time  \\\n",
       "0                      75051                     76248   1716154390   \n",
       "1                      85544                     98981   1716154400   \n",
       "2                     107317                    117084   1716154422   \n",
       "3                     125274                    126299   1716154440   \n",
       "4                     134552                    149164   1716154449   \n",
       "..                       ...                       ...          ...   \n",
       "202                  3313873                   3326773   1716157629   \n",
       "203                  3340251                   3374049   1716157655   \n",
       "204                  3365182                   3366177   1716157680   \n",
       "205                  3374289                   3383567   1716157688   \n",
       "206                  3392594                   3393554   1716157708   \n",
       "\n",
       "    poke_out_time start_time   end_time duration pump_on_time pump_off_time  \n",
       "0      1716154391 1716154387 1716154391        4          N/A           N/A  \n",
       "1      1716154414 1716154391 1716154414       23   1716154400    1716154401  \n",
       "2      1716154432 1716154414 1716154432       18   1716154422    1716154423  \n",
       "3      1716154441 1716154432 1716154441        9          N/A           N/A  \n",
       "4      1716154464 1716154441 1716154464       23   1716154449    1716154450  \n",
       "..            ...        ...        ...      ...          ...           ...  \n",
       "202    1716157642 1716157619 1716157642       23   1716157629    1716157629  \n",
       "203    1716157670 1716157642 1716157670       29   1716157655    1716157655  \n",
       "204    1716157681 1716157670 1716157681       11          N/A           N/A  \n",
       "205    1716157698 1716157681 1716157698       17   1716157688    1716157689  \n",
       "206    1716157709 1716157698 1716157709       10          N/A           N/A  \n",
       "\n",
       "[207 rows x 18 columns]"
      ]
     },
     "metadata": {},
     "output_type": "display_data"
    },
    {
     "data": {
      "text/html": [
       "<div>\n",
       "<style scoped>\n",
       "    .dataframe tbody tr th:only-of-type {\n",
       "        vertical-align: middle;\n",
       "    }\n",
       "\n",
       "    .dataframe tbody tr th {\n",
       "        vertical-align: top;\n",
       "    }\n",
       "\n",
       "    .dataframe thead th {\n",
       "        text-align: right;\n",
       "    }\n",
       "</style>\n",
       "<table border=\"1\" class=\"dataframe\">\n",
       "  <thead>\n",
       "    <tr style=\"text-align: right;\">\n",
       "      <th></th>\n",
       "      <th>epoch</th>\n",
       "      <th>block</th>\n",
       "      <th>pA</th>\n",
       "      <th>pB</th>\n",
       "      <th>pC</th>\n",
       "      <th>statescript_end_timestamp</th>\n",
       "      <th>start_trial</th>\n",
       "      <th>end_trial</th>\n",
       "      <th>num_trials</th>\n",
       "      <th>task_type</th>\n",
       "      <th>start_time</th>\n",
       "      <th>end_time</th>\n",
       "      <th>maze_configuration</th>\n",
       "    </tr>\n",
       "  </thead>\n",
       "  <tbody>\n",
       "    <tr>\n",
       "      <th>0</th>\n",
       "      <td>3</td>\n",
       "      <td>1</td>\n",
       "      <td>90</td>\n",
       "      <td>50</td>\n",
       "      <td>10</td>\n",
       "      <td>1073804</td>\n",
       "      <td>1</td>\n",
       "      <td>69</td>\n",
       "      <td>69</td>\n",
       "      <td>probability change</td>\n",
       "      <td>1716154387</td>\n",
       "      <td>1716155400</td>\n",
       "      <td>9,10,18,19,21,29,37,41,43</td>\n",
       "    </tr>\n",
       "    <tr>\n",
       "      <th>1</th>\n",
       "      <td>3</td>\n",
       "      <td>2</td>\n",
       "      <td>50</td>\n",
       "      <td>10</td>\n",
       "      <td>90</td>\n",
       "      <td>2202466</td>\n",
       "      <td>70</td>\n",
       "      <td>138</td>\n",
       "      <td>69</td>\n",
       "      <td>probability change</td>\n",
       "      <td>1716155400</td>\n",
       "      <td>1716156522</td>\n",
       "      <td>9,10,18,19,21,29,37,41,43</td>\n",
       "    </tr>\n",
       "    <tr>\n",
       "      <th>2</th>\n",
       "      <td>3</td>\n",
       "      <td>3</td>\n",
       "      <td>10</td>\n",
       "      <td>90</td>\n",
       "      <td>50</td>\n",
       "      <td>3392697</td>\n",
       "      <td>139</td>\n",
       "      <td>207</td>\n",
       "      <td>69</td>\n",
       "      <td>probability change</td>\n",
       "      <td>1716156522</td>\n",
       "      <td>1716157709</td>\n",
       "      <td>9,10,18,19,21,29,37,41,43</td>\n",
       "    </tr>\n",
       "  </tbody>\n",
       "</table>\n",
       "</div>"
      ],
      "text/plain": [
       "   epoch  block  pA  pB  pC  statescript_end_timestamp  start_trial  \\\n",
       "0      3      1  90  50  10                    1073804            1   \n",
       "1      3      2  50  10  90                    2202466           70   \n",
       "2      3      3  10  90  50                    3392697          139   \n",
       "\n",
       "   end_trial  num_trials           task_type  start_time   end_time  \\\n",
       "0         69          69  probability change  1716154387 1716155400   \n",
       "1        138          69  probability change  1716155400 1716156522   \n",
       "2        207          69  probability change  1716156522 1716157709   \n",
       "\n",
       "          maze_configuration  \n",
       "0  9,10,18,19,21,29,37,41,43  \n",
       "1  9,10,18,19,21,29,37,41,43  \n",
       "2  9,10,18,19,21,29,37,41,43  "
      ]
     },
     "metadata": {},
     "output_type": "display_data"
    },
    {
     "name": "stdout",
     "output_type": "stream",
     "text": [
      "Parsing statescript for epoch 5 ...\n",
      "\n"
     ]
    },
    {
     "data": {
      "text/plain": [
       "{'contingency': {'timestamp': 119187, 'value': 0},\n",
       " 'trialThresh': {'timestamp': 119187, 'value': 66},\n",
       " 'totalPokes': {'timestamp': 119188, 'value': 1},\n",
       " 'totalRewards': {'timestamp': 119188, 'value': 1},\n",
       " 'ifDelay': {'timestamp': 119189, 'value': 0},\n",
       " 'countPokes1': {'timestamp': 119189, 'value': 0},\n",
       " 'countRewards1': {'timestamp': 119190, 'value': 0},\n",
       " 'portProbs1': {'timestamp': 119190, 'value': 50},\n",
       " 'countPokes2': {'timestamp': 119191, 'value': 1},\n",
       " 'countRewards2': {'timestamp': 119191, 'value': 1},\n",
       " 'portProbs2': {'timestamp': 119192, 'value': 90},\n",
       " 'countPokes3': {'timestamp': 119212, 'value': 0},\n",
       " 'countRewards3': {'timestamp': 119213, 'value': 0},\n",
       " 'portProbs3': {'timestamp': 119213, 'value': 10}}"
      ]
     },
     "metadata": {},
     "output_type": "display_data"
    },
    {
     "data": {
      "text/plain": [
       "{'contingency': {'timestamp': 141553, 'value': 0},\n",
       " 'trialThresh': {'timestamp': 141554, 'value': 66},\n",
       " 'totalPokes': {'timestamp': 141554, 'value': 2},\n",
       " 'totalRewards': {'timestamp': 141555, 'value': 1},\n",
       " 'ifDelay': {'timestamp': 141555, 'value': 1},\n",
       " 'countPokes1': {'timestamp': 141556, 'value': 1},\n",
       " 'countRewards1': {'timestamp': 141556, 'value': 0},\n",
       " 'portProbs1': {'timestamp': 141557, 'value': 50},\n",
       " 'countPokes2': {'timestamp': 141557, 'value': 1},\n",
       " 'countRewards2': {'timestamp': 141558, 'value': 1},\n",
       " 'portProbs2': {'timestamp': 141558, 'value': 90},\n",
       " 'countPokes3': {'timestamp': 141579, 'value': 0},\n",
       " 'countRewards3': {'timestamp': 141579, 'value': 0},\n",
       " 'portProbs3': {'timestamp': 141580, 'value': 10}}"
      ]
     },
     "metadata": {},
     "output_type": "display_data"
    },
    {
     "data": {
      "text/plain": [
       "{'contingency': {'timestamp': 157063, 'value': 0},\n",
       " 'trialThresh': {'timestamp': 157063, 'value': 66},\n",
       " 'totalPokes': {'timestamp': 157064, 'value': 3},\n",
       " 'totalRewards': {'timestamp': 157064, 'value': 2},\n",
       " 'ifDelay': {'timestamp': 157065, 'value': 1},\n",
       " 'countPokes1': {'timestamp': 157065, 'value': 1},\n",
       " 'countRewards1': {'timestamp': 157066, 'value': 0},\n",
       " 'portProbs1': {'timestamp': 157066, 'value': 50},\n",
       " 'countPokes2': {'timestamp': 157067, 'value': 2},\n",
       " 'countRewards2': {'timestamp': 157067, 'value': 2},\n",
       " 'portProbs2': {'timestamp': 157068, 'value': 90},\n",
       " 'countPokes3': {'timestamp': 157088, 'value': 0},\n",
       " 'countRewards3': {'timestamp': 157089, 'value': 0},\n",
       " 'portProbs3': {'timestamp': 157089, 'value': 10}}"
      ]
     },
     "metadata": {},
     "output_type": "display_data"
    },
    {
     "data": {
      "text/plain": [
       "{'contingency': {'timestamp': 185988, 'value': 0},\n",
       " 'trialThresh': {'timestamp': 185988, 'value': 66},\n",
       " 'totalPokes': {'timestamp': 185989, 'value': 4},\n",
       " 'totalRewards': {'timestamp': 185989, 'value': 2},\n",
       " 'ifDelay': {'timestamp': 185990, 'value': 0},\n",
       " 'countPokes1': {'timestamp': 185990, 'value': 1},\n",
       " 'countRewards1': {'timestamp': 185990, 'value': 0},\n",
       " 'portProbs1': {'timestamp': 185991, 'value': 50},\n",
       " 'countPokes2': {'timestamp': 185991, 'value': 2},\n",
       " 'countRewards2': {'timestamp': 185992, 'value': 2},\n",
       " 'portProbs2': {'timestamp': 186013, 'value': 90},\n",
       " 'countPokes3': {'timestamp': 186013, 'value': 1},\n",
       " 'countRewards3': {'timestamp': 186014, 'value': 0},\n",
       " 'portProbs3': {'timestamp': 186014, 'value': 10}}"
      ]
     },
     "metadata": {},
     "output_type": "display_data"
    },
    {
     "data": {
      "text/plain": [
       "{'contingency': {'timestamp': 194394, 'value': 0},\n",
       " 'trialThresh': {'timestamp': 194395, 'value': 66},\n",
       " 'totalPokes': {'timestamp': 194395, 'value': 5},\n",
       " 'totalRewards': {'timestamp': 194396, 'value': 3},\n",
       " 'ifDelay': {'timestamp': 194396, 'value': 0},\n",
       " 'countPokes1': {'timestamp': 194397, 'value': 1},\n",
       " 'countRewards1': {'timestamp': 194397, 'value': 0},\n",
       " 'portProbs1': {'timestamp': 194397, 'value': 50},\n",
       " 'countPokes2': {'timestamp': 194398, 'value': 3},\n",
       " 'countRewards2': {'timestamp': 194398, 'value': 3},\n",
       " 'portProbs2': {'timestamp': 194399, 'value': 90},\n",
       " 'countPokes3': {'timestamp': 194419, 'value': 1},\n",
       " 'countRewards3': {'timestamp': 194420, 'value': 0},\n",
       " 'portProbs3': {'timestamp': 194420, 'value': 10}}"
      ]
     },
     "metadata": {},
     "output_type": "display_data"
    },
    {
     "data": {
      "text/plain": [
       "{'contingency': {'timestamp': 209157, 'value': 0},\n",
       " 'trialThresh': {'timestamp': 209158, 'value': 66},\n",
       " 'totalPokes': {'timestamp': 209158, 'value': 6},\n",
       " 'totalRewards': {'timestamp': 209159, 'value': 4},\n",
       " 'ifDelay': {'timestamp': 209159, 'value': 1},\n",
       " 'countPokes1': {'timestamp': 209159, 'value': 2},\n",
       " 'countRewards1': {'timestamp': 209160, 'value': 1},\n",
       " 'portProbs1': {'timestamp': 209160, 'value': 50},\n",
       " 'countPokes2': {'timestamp': 209161, 'value': 3},\n",
       " 'countRewards2': {'timestamp': 209161, 'value': 3},\n",
       " 'portProbs2': {'timestamp': 209162, 'value': 90},\n",
       " 'countPokes3': {'timestamp': 209182, 'value': 1},\n",
       " 'countRewards3': {'timestamp': 209183, 'value': 0},\n",
       " 'portProbs3': {'timestamp': 209183, 'value': 10}}"
      ]
     },
     "metadata": {},
     "output_type": "display_data"
    },
    {
     "data": {
      "text/plain": [
       "{'contingency': {'timestamp': 225468, 'value': 0},\n",
       " 'trialThresh': {'timestamp': 225468, 'value': 66},\n",
       " 'totalPokes': {'timestamp': 225469, 'value': 7},\n",
       " 'totalRewards': {'timestamp': 225469, 'value': 5},\n",
       " 'ifDelay': {'timestamp': 225470, 'value': 0},\n",
       " 'countPokes1': {'timestamp': 225470, 'value': 2},\n",
       " 'countRewards1': {'timestamp': 225471, 'value': 1},\n",
       " 'portProbs1': {'timestamp': 225471, 'value': 50},\n",
       " 'countPokes2': {'timestamp': 225472, 'value': 4},\n",
       " 'countRewards2': {'timestamp': 225472, 'value': 4},\n",
       " 'portProbs2': {'timestamp': 225472, 'value': 90},\n",
       " 'countPokes3': {'timestamp': 225493, 'value': 1},\n",
       " 'countRewards3': {'timestamp': 225493, 'value': 0},\n",
       " 'portProbs3': {'timestamp': 225494, 'value': 10}}"
      ]
     },
     "metadata": {},
     "output_type": "display_data"
    },
    {
     "data": {
      "text/plain": [
       "{'contingency': {'timestamp': 241124, 'value': 0},\n",
       " 'trialThresh': {'timestamp': 241124, 'value': 66},\n",
       " 'totalPokes': {'timestamp': 241125, 'value': 8},\n",
       " 'totalRewards': {'timestamp': 241125, 'value': 6},\n",
       " 'ifDelay': {'timestamp': 241125, 'value': 1},\n",
       " 'countPokes1': {'timestamp': 241126, 'value': 3},\n",
       " 'countRewards1': {'timestamp': 241126, 'value': 2},\n",
       " 'portProbs1': {'timestamp': 241127, 'value': 50},\n",
       " 'countPokes2': {'timestamp': 241127, 'value': 4},\n",
       " 'countRewards2': {'timestamp': 241128, 'value': 4},\n",
       " 'portProbs2': {'timestamp': 241128, 'value': 90},\n",
       " 'countPokes3': {'timestamp': 241149, 'value': 1},\n",
       " 'countRewards3': {'timestamp': 241149, 'value': 0},\n",
       " 'portProbs3': {'timestamp': 241150, 'value': 10}}"
      ]
     },
     "metadata": {},
     "output_type": "display_data"
    },
    {
     "data": {
      "text/plain": [
       "{'contingency': {'timestamp': 255766, 'value': 0},\n",
       " 'trialThresh': {'timestamp': 255767, 'value': 66},\n",
       " 'totalPokes': {'timestamp': 255767, 'value': 9},\n",
       " 'totalRewards': {'timestamp': 255768, 'value': 7},\n",
       " 'ifDelay': {'timestamp': 255768, 'value': 0},\n",
       " 'countPokes1': {'timestamp': 255769, 'value': 3},\n",
       " 'countRewards1': {'timestamp': 255769, 'value': 2},\n",
       " 'portProbs1': {'timestamp': 255770, 'value': 50},\n",
       " 'countPokes2': {'timestamp': 255770, 'value': 5},\n",
       " 'countRewards2': {'timestamp': 255771, 'value': 5},\n",
       " 'portProbs2': {'timestamp': 255771, 'value': 90},\n",
       " 'countPokes3': {'timestamp': 255792, 'value': 1},\n",
       " 'countRewards3': {'timestamp': 255792, 'value': 0},\n",
       " 'portProbs3': {'timestamp': 255793, 'value': 10}}"
      ]
     },
     "metadata": {},
     "output_type": "display_data"
    },
    {
     "data": {
      "text/plain": [
       "{'contingency': {'timestamp': 270868, 'value': 0},\n",
       " 'trialThresh': {'timestamp': 270869, 'value': 66},\n",
       " 'totalPokes': {'timestamp': 270869, 'value': 10},\n",
       " 'totalRewards': {'timestamp': 270870, 'value': 8},\n",
       " 'ifDelay': {'timestamp': 270870, 'value': 1},\n",
       " 'countPokes1': {'timestamp': 270870, 'value': 4},\n",
       " 'countRewards1': {'timestamp': 270871, 'value': 3},\n",
       " 'portProbs1': {'timestamp': 270871, 'value': 50},\n",
       " 'countPokes2': {'timestamp': 270872, 'value': 5},\n",
       " 'countRewards2': {'timestamp': 270872, 'value': 5},\n",
       " 'portProbs2': {'timestamp': 270873, 'value': 90},\n",
       " 'countPokes3': {'timestamp': 270893, 'value': 1},\n",
       " 'countRewards3': {'timestamp': 270894, 'value': 0},\n",
       " 'portProbs3': {'timestamp': 270894, 'value': 10}}"
      ]
     },
     "metadata": {},
     "output_type": "display_data"
    },
    {
     "data": {
      "text/plain": [
       "{'contingency': {'timestamp': 287129, 'value': 0},\n",
       " 'trialThresh': {'timestamp': 287129, 'value': 66},\n",
       " 'totalPokes': {'timestamp': 287130, 'value': 11},\n",
       " 'totalRewards': {'timestamp': 287130, 'value': 9},\n",
       " 'ifDelay': {'timestamp': 287131, 'value': 1},\n",
       " 'countPokes1': {'timestamp': 287131, 'value': 4},\n",
       " 'countRewards1': {'timestamp': 287132, 'value': 3},\n",
       " 'portProbs1': {'timestamp': 287132, 'value': 50},\n",
       " 'countPokes2': {'timestamp': 287133, 'value': 6},\n",
       " 'countRewards2': {'timestamp': 287133, 'value': 6},\n",
       " 'portProbs2': {'timestamp': 287134, 'value': 90},\n",
       " 'countPokes3': {'timestamp': 287154, 'value': 1},\n",
       " 'countRewards3': {'timestamp': 287155, 'value': 0},\n",
       " 'portProbs3': {'timestamp': 287155, 'value': 10}}"
      ]
     },
     "metadata": {},
     "output_type": "display_data"
    },
    {
     "data": {
      "text/plain": [
       "{'contingency': {'timestamp': 301042, 'value': 0},\n",
       " 'trialThresh': {'timestamp': 301042, 'value': 66},\n",
       " 'totalPokes': {'timestamp': 301043, 'value': 12},\n",
       " 'totalRewards': {'timestamp': 301043, 'value': 9},\n",
       " 'ifDelay': {'timestamp': 301044, 'value': 0},\n",
       " 'countPokes1': {'timestamp': 301044, 'value': 5},\n",
       " 'countRewards1': {'timestamp': 301045, 'value': 3},\n",
       " 'portProbs1': {'timestamp': 301045, 'value': 50},\n",
       " 'countPokes2': {'timestamp': 301046, 'value': 6},\n",
       " 'countRewards2': {'timestamp': 301046, 'value': 6},\n",
       " 'portProbs2': {'timestamp': 301047, 'value': 90},\n",
       " 'countPokes3': {'timestamp': 301067, 'value': 1},\n",
       " 'countRewards3': {'timestamp': 301068, 'value': 0},\n",
       " 'portProbs3': {'timestamp': 301068, 'value': 10}}"
      ]
     },
     "metadata": {},
     "output_type": "display_data"
    },
    {
     "data": {
      "text/plain": [
       "{'contingency': {'timestamp': 307220, 'value': 0},\n",
       " 'trialThresh': {'timestamp': 307221, 'value': 66},\n",
       " 'totalPokes': {'timestamp': 307221, 'value': 13},\n",
       " 'totalRewards': {'timestamp': 307222, 'value': 10},\n",
       " 'ifDelay': {'timestamp': 307222, 'value': 0},\n",
       " 'countPokes1': {'timestamp': 307223, 'value': 5},\n",
       " 'countRewards1': {'timestamp': 307223, 'value': 3},\n",
       " 'portProbs1': {'timestamp': 307224, 'value': 50},\n",
       " 'countPokes2': {'timestamp': 307224, 'value': 7},\n",
       " 'countRewards2': {'timestamp': 307225, 'value': 7},\n",
       " 'portProbs2': {'timestamp': 307225, 'value': 90},\n",
       " 'countPokes3': {'timestamp': 307246, 'value': 1},\n",
       " 'countRewards3': {'timestamp': 307246, 'value': 0},\n",
       " 'portProbs3': {'timestamp': 307247, 'value': 10}}"
      ]
     },
     "metadata": {},
     "output_type": "display_data"
    },
    {
     "data": {
      "text/plain": [
       "{'contingency': {'timestamp': 323073, 'value': 0},\n",
       " 'trialThresh': {'timestamp': 323074, 'value': 66},\n",
       " 'totalPokes': {'timestamp': 323074, 'value': 14},\n",
       " 'totalRewards': {'timestamp': 323075, 'value': 10},\n",
       " 'ifDelay': {'timestamp': 323075, 'value': 0},\n",
       " 'countPokes1': {'timestamp': 323076, 'value': 6},\n",
       " 'countRewards1': {'timestamp': 323076, 'value': 3},\n",
       " 'portProbs1': {'timestamp': 323077, 'value': 50},\n",
       " 'countPokes2': {'timestamp': 323077, 'value': 7},\n",
       " 'countRewards2': {'timestamp': 323078, 'value': 7},\n",
       " 'portProbs2': {'timestamp': 323078, 'value': 90},\n",
       " 'countPokes3': {'timestamp': 323099, 'value': 1},\n",
       " 'countRewards3': {'timestamp': 323099, 'value': 0},\n",
       " 'portProbs3': {'timestamp': 323100, 'value': 10}}"
      ]
     },
     "metadata": {},
     "output_type": "display_data"
    },
    {
     "data": {
      "text/plain": [
       "{'contingency': {'timestamp': 327813, 'value': 0},\n",
       " 'trialThresh': {'timestamp': 327813, 'value': 66},\n",
       " 'totalPokes': {'timestamp': 327814, 'value': 15},\n",
       " 'totalRewards': {'timestamp': 327814, 'value': 10},\n",
       " 'ifDelay': {'timestamp': 327815, 'value': 0},\n",
       " 'countPokes1': {'timestamp': 327815, 'value': 6},\n",
       " 'countRewards1': {'timestamp': 327816, 'value': 3},\n",
       " 'portProbs1': {'timestamp': 327816, 'value': 50},\n",
       " 'countPokes2': {'timestamp': 327817, 'value': 8},\n",
       " 'countRewards2': {'timestamp': 327817, 'value': 7},\n",
       " 'portProbs2': {'timestamp': 327818, 'value': 90},\n",
       " 'countPokes3': {'timestamp': 327838, 'value': 1},\n",
       " 'countRewards3': {'timestamp': 327839, 'value': 0},\n",
       " 'portProbs3': {'timestamp': 327839, 'value': 10}}"
      ]
     },
     "metadata": {},
     "output_type": "display_data"
    },
    {
     "data": {
      "text/plain": [
       "{'contingency': {'timestamp': 335322, 'value': 0},\n",
       " 'trialThresh': {'timestamp': 335323, 'value': 66},\n",
       " 'totalPokes': {'timestamp': 335323, 'value': 16},\n",
       " 'totalRewards': {'timestamp': 335324, 'value': 10},\n",
       " 'ifDelay': {'timestamp': 335324, 'value': 0},\n",
       " 'countPokes1': {'timestamp': 335325, 'value': 7},\n",
       " 'countRewards1': {'timestamp': 335325, 'value': 3},\n",
       " 'portProbs1': {'timestamp': 335326, 'value': 50},\n",
       " 'countPokes2': {'timestamp': 335326, 'value': 8},\n",
       " 'countRewards2': {'timestamp': 335327, 'value': 7},\n",
       " 'portProbs2': {'timestamp': 335327, 'value': 90},\n",
       " 'countPokes3': {'timestamp': 335348, 'value': 1},\n",
       " 'countRewards3': {'timestamp': 335348, 'value': 0},\n",
       " 'portProbs3': {'timestamp': 335349, 'value': 10}}"
      ]
     },
     "metadata": {},
     "output_type": "display_data"
    },
    {
     "data": {
      "text/plain": [
       "{'contingency': {'timestamp': 341050, 'value': 0},\n",
       " 'trialThresh': {'timestamp': 341050, 'value': 66},\n",
       " 'totalPokes': {'timestamp': 341051, 'value': 17},\n",
       " 'totalRewards': {'timestamp': 341051, 'value': 11},\n",
       " 'ifDelay': {'timestamp': 341052, 'value': 0},\n",
       " 'countPokes1': {'timestamp': 341052, 'value': 7},\n",
       " 'countRewards1': {'timestamp': 341053, 'value': 3},\n",
       " 'portProbs1': {'timestamp': 341053, 'value': 50},\n",
       " 'countPokes2': {'timestamp': 341054, 'value': 9},\n",
       " 'countRewards2': {'timestamp': 341054, 'value': 8},\n",
       " 'portProbs2': {'timestamp': 341055, 'value': 90},\n",
       " 'countPokes3': {'timestamp': 341075, 'value': 1},\n",
       " 'countRewards3': {'timestamp': 341076, 'value': 0},\n",
       " 'portProbs3': {'timestamp': 341076, 'value': 10}}"
      ]
     },
     "metadata": {},
     "output_type": "display_data"
    },
    {
     "data": {
      "text/plain": [
       "{'contingency': {'timestamp': 355355, 'value': 0},\n",
       " 'trialThresh': {'timestamp': 355356, 'value': 66},\n",
       " 'totalPokes': {'timestamp': 355356, 'value': 18},\n",
       " 'totalRewards': {'timestamp': 355357, 'value': 12},\n",
       " 'ifDelay': {'timestamp': 355357, 'value': 0},\n",
       " 'countPokes1': {'timestamp': 355358, 'value': 8},\n",
       " 'countRewards1': {'timestamp': 355358, 'value': 4},\n",
       " 'portProbs1': {'timestamp': 355359, 'value': 50},\n",
       " 'countPokes2': {'timestamp': 355359, 'value': 9},\n",
       " 'countRewards2': {'timestamp': 355360, 'value': 8},\n",
       " 'portProbs2': {'timestamp': 355360, 'value': 90},\n",
       " 'countPokes3': {'timestamp': 355381, 'value': 1},\n",
       " 'countRewards3': {'timestamp': 355381, 'value': 0},\n",
       " 'portProbs3': {'timestamp': 355382, 'value': 10}}"
      ]
     },
     "metadata": {},
     "output_type": "display_data"
    },
    {
     "data": {
      "text/plain": [
       "{'contingency': {'timestamp': 371059, 'value': 0},\n",
       " 'trialThresh': {'timestamp': 371059, 'value': 66},\n",
       " 'totalPokes': {'timestamp': 371060, 'value': 19},\n",
       " 'totalRewards': {'timestamp': 371060, 'value': 13},\n",
       " 'ifDelay': {'timestamp': 371061, 'value': 0},\n",
       " 'countPokes1': {'timestamp': 371061, 'value': 8},\n",
       " 'countRewards1': {'timestamp': 371062, 'value': 4},\n",
       " 'portProbs1': {'timestamp': 371062, 'value': 50},\n",
       " 'countPokes2': {'timestamp': 371063, 'value': 10},\n",
       " 'countRewards2': {'timestamp': 371063, 'value': 9},\n",
       " 'portProbs2': {'timestamp': 371064, 'value': 90},\n",
       " 'countPokes3': {'timestamp': 371084, 'value': 1},\n",
       " 'countRewards3': {'timestamp': 371085, 'value': 0},\n",
       " 'portProbs3': {'timestamp': 371085, 'value': 10}}"
      ]
     },
     "metadata": {},
     "output_type": "display_data"
    },
    {
     "data": {
      "text/plain": [
       "{'contingency': {'timestamp': 385486, 'value': 0},\n",
       " 'trialThresh': {'timestamp': 385487, 'value': 66},\n",
       " 'totalPokes': {'timestamp': 385487, 'value': 20},\n",
       " 'totalRewards': {'timestamp': 385488, 'value': 14},\n",
       " 'ifDelay': {'timestamp': 385488, 'value': 0},\n",
       " 'countPokes1': {'timestamp': 385489, 'value': 9},\n",
       " 'countRewards1': {'timestamp': 385489, 'value': 5},\n",
       " 'portProbs1': {'timestamp': 385490, 'value': 50},\n",
       " 'countPokes2': {'timestamp': 385490, 'value': 10},\n",
       " 'countRewards2': {'timestamp': 385491, 'value': 9},\n",
       " 'portProbs2': {'timestamp': 385491, 'value': 90},\n",
       " 'countPokes3': {'timestamp': 385512, 'value': 1},\n",
       " 'countRewards3': {'timestamp': 385512, 'value': 0},\n",
       " 'portProbs3': {'timestamp': 385513, 'value': 10}}"
      ]
     },
     "metadata": {},
     "output_type": "display_data"
    },
    {
     "data": {
      "text/plain": [
       "{'contingency': {'timestamp': 401180, 'value': 0},\n",
       " 'trialThresh': {'timestamp': 401181, 'value': 66},\n",
       " 'totalPokes': {'timestamp': 401181, 'value': 21},\n",
       " 'totalRewards': {'timestamp': 401182, 'value': 15},\n",
       " 'ifDelay': {'timestamp': 401182, 'value': 0},\n",
       " 'countPokes1': {'timestamp': 401183, 'value': 9},\n",
       " 'countRewards1': {'timestamp': 401183, 'value': 5},\n",
       " 'portProbs1': {'timestamp': 401183, 'value': 50},\n",
       " 'countPokes2': {'timestamp': 401184, 'value': 11},\n",
       " 'countRewards2': {'timestamp': 401184, 'value': 10},\n",
       " 'portProbs2': {'timestamp': 401206, 'value': 90},\n",
       " 'countPokes3': {'timestamp': 401206, 'value': 1},\n",
       " 'countRewards3': {'timestamp': 401207, 'value': 0},\n",
       " 'portProbs3': {'timestamp': 401207, 'value': 10}}"
      ]
     },
     "metadata": {},
     "output_type": "display_data"
    },
    {
     "data": {
      "text/plain": [
       "{'contingency': {'timestamp': 415443, 'value': 0},\n",
       " 'trialThresh': {'timestamp': 415444, 'value': 66},\n",
       " 'totalPokes': {'timestamp': 415444, 'value': 22},\n",
       " 'totalRewards': {'timestamp': 415444, 'value': 16},\n",
       " 'ifDelay': {'timestamp': 415445, 'value': 0},\n",
       " 'countPokes1': {'timestamp': 415445, 'value': 10},\n",
       " 'countRewards1': {'timestamp': 415446, 'value': 6},\n",
       " 'portProbs1': {'timestamp': 415446, 'value': 50},\n",
       " 'countPokes2': {'timestamp': 415447, 'value': 11},\n",
       " 'countRewards2': {'timestamp': 415447, 'value': 10},\n",
       " 'portProbs2': {'timestamp': 415448, 'value': 90},\n",
       " 'countPokes3': {'timestamp': 415469, 'value': 1},\n",
       " 'countRewards3': {'timestamp': 415469, 'value': 0},\n",
       " 'portProbs3': {'timestamp': 415470, 'value': 10}}"
      ]
     },
     "metadata": {},
     "output_type": "display_data"
    },
    {
     "data": {
      "text/plain": [
       "{'contingency': {'timestamp': 428270, 'value': 0},\n",
       " 'trialThresh': {'timestamp': 428271, 'value': 66},\n",
       " 'totalPokes': {'timestamp': 428271, 'value': 23},\n",
       " 'totalRewards': {'timestamp': 428272, 'value': 17},\n",
       " 'ifDelay': {'timestamp': 428272, 'value': 0},\n",
       " 'countPokes1': {'timestamp': 428273, 'value': 10},\n",
       " 'countRewards1': {'timestamp': 428273, 'value': 6},\n",
       " 'portProbs1': {'timestamp': 428274, 'value': 50},\n",
       " 'countPokes2': {'timestamp': 428274, 'value': 12},\n",
       " 'countRewards2': {'timestamp': 428275, 'value': 11},\n",
       " 'portProbs2': {'timestamp': 428296, 'value': 90},\n",
       " 'countPokes3': {'timestamp': 428296, 'value': 1},\n",
       " 'countRewards3': {'timestamp': 428297, 'value': 0},\n",
       " 'portProbs3': {'timestamp': 428297, 'value': 10}}"
      ]
     },
     "metadata": {},
     "output_type": "display_data"
    },
    {
     "data": {
      "text/plain": [
       "{'contingency': {'timestamp': 441256, 'value': 0},\n",
       " 'trialThresh': {'timestamp': 441257, 'value': 66},\n",
       " 'totalPokes': {'timestamp': 441257, 'value': 24},\n",
       " 'totalRewards': {'timestamp': 441258, 'value': 17},\n",
       " 'ifDelay': {'timestamp': 441258, 'value': 1},\n",
       " 'countPokes1': {'timestamp': 441259, 'value': 11},\n",
       " 'countRewards1': {'timestamp': 441259, 'value': 6},\n",
       " 'portProbs1': {'timestamp': 441260, 'value': 50},\n",
       " 'countPokes2': {'timestamp': 441260, 'value': 12},\n",
       " 'countRewards2': {'timestamp': 441261, 'value': 11},\n",
       " 'portProbs2': {'timestamp': 441261, 'value': 90},\n",
       " 'countPokes3': {'timestamp': 441282, 'value': 1},\n",
       " 'countRewards3': {'timestamp': 441283, 'value': 0},\n",
       " 'portProbs3': {'timestamp': 441283, 'value': 10}}"
      ]
     },
     "metadata": {},
     "output_type": "display_data"
    },
    {
     "data": {
      "text/plain": [
       "{'contingency': {'timestamp': 445935, 'value': 0},\n",
       " 'trialThresh': {'timestamp': 445936, 'value': 66},\n",
       " 'totalPokes': {'timestamp': 445936, 'value': 25},\n",
       " 'totalRewards': {'timestamp': 445937, 'value': 18},\n",
       " 'ifDelay': {'timestamp': 445937, 'value': 1},\n",
       " 'countPokes1': {'timestamp': 445938, 'value': 11},\n",
       " 'countRewards1': {'timestamp': 445938, 'value': 6},\n",
       " 'portProbs1': {'timestamp': 445938, 'value': 50},\n",
       " 'countPokes2': {'timestamp': 445939, 'value': 13},\n",
       " 'countRewards2': {'timestamp': 445939, 'value': 12},\n",
       " 'portProbs2': {'timestamp': 445940, 'value': 90},\n",
       " 'countPokes3': {'timestamp': 445961, 'value': 1},\n",
       " 'countRewards3': {'timestamp': 445961, 'value': 0},\n",
       " 'portProbs3': {'timestamp': 445962, 'value': 10}}"
      ]
     },
     "metadata": {},
     "output_type": "display_data"
    },
    {
     "data": {
      "text/plain": [
       "{'contingency': {'timestamp': 461233, 'value': 0},\n",
       " 'trialThresh': {'timestamp': 461233, 'value': 66},\n",
       " 'totalPokes': {'timestamp': 461233, 'value': 26},\n",
       " 'totalRewards': {'timestamp': 461234, 'value': 19},\n",
       " 'ifDelay': {'timestamp': 461234, 'value': 0},\n",
       " 'countPokes1': {'timestamp': 461235, 'value': 12},\n",
       " 'countRewards1': {'timestamp': 461235, 'value': 7},\n",
       " 'portProbs1': {'timestamp': 461236, 'value': 50},\n",
       " 'countPokes2': {'timestamp': 461236, 'value': 13},\n",
       " 'countRewards2': {'timestamp': 461237, 'value': 12},\n",
       " 'portProbs2': {'timestamp': 461258, 'value': 90},\n",
       " 'countPokes3': {'timestamp': 461258, 'value': 1},\n",
       " 'countRewards3': {'timestamp': 461259, 'value': 0},\n",
       " 'portProbs3': {'timestamp': 461259, 'value': 10}}"
      ]
     },
     "metadata": {},
     "output_type": "display_data"
    },
    {
     "data": {
      "text/plain": [
       "{'contingency': {'timestamp': 475671, 'value': 0},\n",
       " 'trialThresh': {'timestamp': 475671, 'value': 66},\n",
       " 'totalPokes': {'timestamp': 475672, 'value': 27},\n",
       " 'totalRewards': {'timestamp': 475672, 'value': 20},\n",
       " 'ifDelay': {'timestamp': 475673, 'value': 1},\n",
       " 'countPokes1': {'timestamp': 475673, 'value': 12},\n",
       " 'countRewards1': {'timestamp': 475674, 'value': 7},\n",
       " 'portProbs1': {'timestamp': 475674, 'value': 50},\n",
       " 'countPokes2': {'timestamp': 475675, 'value': 14},\n",
       " 'countRewards2': {'timestamp': 475675, 'value': 13},\n",
       " 'portProbs2': {'timestamp': 475676, 'value': 90},\n",
       " 'countPokes3': {'timestamp': 475697, 'value': 1},\n",
       " 'countRewards3': {'timestamp': 475697, 'value': 0},\n",
       " 'portProbs3': {'timestamp': 475698, 'value': 10}}"
      ]
     },
     "metadata": {},
     "output_type": "display_data"
    },
    {
     "data": {
      "text/plain": [
       "{'contingency': {'timestamp': 488943, 'value': 0},\n",
       " 'trialThresh': {'timestamp': 488943, 'value': 66},\n",
       " 'totalPokes': {'timestamp': 488944, 'value': 28},\n",
       " 'totalRewards': {'timestamp': 488944, 'value': 20},\n",
       " 'ifDelay': {'timestamp': 488945, 'value': 0},\n",
       " 'countPokes1': {'timestamp': 488945, 'value': 13},\n",
       " 'countRewards1': {'timestamp': 488946, 'value': 7},\n",
       " 'portProbs1': {'timestamp': 488946, 'value': 50},\n",
       " 'countPokes2': {'timestamp': 488947, 'value': 14},\n",
       " 'countRewards2': {'timestamp': 488947, 'value': 13},\n",
       " 'portProbs2': {'timestamp': 488948, 'value': 90},\n",
       " 'countPokes3': {'timestamp': 488969, 'value': 1},\n",
       " 'countRewards3': {'timestamp': 488969, 'value': 0},\n",
       " 'portProbs3': {'timestamp': 488970, 'value': 10}}"
      ]
     },
     "metadata": {},
     "output_type": "display_data"
    },
    {
     "data": {
      "text/plain": [
       "{'contingency': {'timestamp': 493432, 'value': 0},\n",
       " 'trialThresh': {'timestamp': 493433, 'value': 66},\n",
       " 'totalPokes': {'timestamp': 493433, 'value': 29},\n",
       " 'totalRewards': {'timestamp': 493434, 'value': 21},\n",
       " 'ifDelay': {'timestamp': 493434, 'value': 0},\n",
       " 'countPokes1': {'timestamp': 493435, 'value': 13},\n",
       " 'countRewards1': {'timestamp': 493435, 'value': 7},\n",
       " 'portProbs1': {'timestamp': 493436, 'value': 50},\n",
       " 'countPokes2': {'timestamp': 493436, 'value': 15},\n",
       " 'countRewards2': {'timestamp': 493437, 'value': 14},\n",
       " 'portProbs2': {'timestamp': 493437, 'value': 90},\n",
       " 'countPokes3': {'timestamp': 493458, 'value': 1},\n",
       " 'countRewards3': {'timestamp': 493459, 'value': 0},\n",
       " 'portProbs3': {'timestamp': 493459, 'value': 10}}"
      ]
     },
     "metadata": {},
     "output_type": "display_data"
    },
    {
     "data": {
      "text/plain": [
       "{'contingency': {'timestamp': 507835, 'value': 0},\n",
       " 'trialThresh': {'timestamp': 507836, 'value': 66},\n",
       " 'totalPokes': {'timestamp': 507836, 'value': 30},\n",
       " 'totalRewards': {'timestamp': 507837, 'value': 22},\n",
       " 'ifDelay': {'timestamp': 507837, 'value': 1},\n",
       " 'countPokes1': {'timestamp': 507838, 'value': 14},\n",
       " 'countRewards1': {'timestamp': 507838, 'value': 8},\n",
       " 'portProbs1': {'timestamp': 507839, 'value': 50},\n",
       " 'countPokes2': {'timestamp': 507839, 'value': 15},\n",
       " 'countRewards2': {'timestamp': 507840, 'value': 14},\n",
       " 'portProbs2': {'timestamp': 507840, 'value': 90},\n",
       " 'countPokes3': {'timestamp': 507861, 'value': 1},\n",
       " 'countRewards3': {'timestamp': 507862, 'value': 0},\n",
       " 'portProbs3': {'timestamp': 507862, 'value': 10}}"
      ]
     },
     "metadata": {},
     "output_type": "display_data"
    },
    {
     "data": {
      "text/plain": [
       "{'contingency': {'timestamp': 521200, 'value': 0},\n",
       " 'trialThresh': {'timestamp': 521201, 'value': 66},\n",
       " 'totalPokes': {'timestamp': 521201, 'value': 31},\n",
       " 'totalRewards': {'timestamp': 521202, 'value': 23},\n",
       " 'ifDelay': {'timestamp': 521202, 'value': 0},\n",
       " 'countPokes1': {'timestamp': 521203, 'value': 14},\n",
       " 'countRewards1': {'timestamp': 521203, 'value': 8},\n",
       " 'portProbs1': {'timestamp': 521204, 'value': 50},\n",
       " 'countPokes2': {'timestamp': 521204, 'value': 16},\n",
       " 'countRewards2': {'timestamp': 521205, 'value': 15},\n",
       " 'portProbs2': {'timestamp': 521226, 'value': 90},\n",
       " 'countPokes3': {'timestamp': 521226, 'value': 1},\n",
       " 'countRewards3': {'timestamp': 521227, 'value': 0},\n",
       " 'portProbs3': {'timestamp': 521227, 'value': 10}}"
      ]
     },
     "metadata": {},
     "output_type": "display_data"
    },
    {
     "data": {
      "text/plain": [
       "{'contingency': {'timestamp': 536187, 'value': 0},\n",
       " 'trialThresh': {'timestamp': 536188, 'value': 66},\n",
       " 'totalPokes': {'timestamp': 536188, 'value': 32},\n",
       " 'totalRewards': {'timestamp': 536189, 'value': 24},\n",
       " 'ifDelay': {'timestamp': 536189, 'value': 1},\n",
       " 'countPokes1': {'timestamp': 536190, 'value': 15},\n",
       " 'countRewards1': {'timestamp': 536190, 'value': 9},\n",
       " 'portProbs1': {'timestamp': 536191, 'value': 50},\n",
       " 'countPokes2': {'timestamp': 536191, 'value': 16},\n",
       " 'countRewards2': {'timestamp': 536192, 'value': 15},\n",
       " 'portProbs2': {'timestamp': 536192, 'value': 90},\n",
       " 'countPokes3': {'timestamp': 536213, 'value': 1},\n",
       " 'countRewards3': {'timestamp': 536214, 'value': 0},\n",
       " 'portProbs3': {'timestamp': 536214, 'value': 10}}"
      ]
     },
     "metadata": {},
     "output_type": "display_data"
    },
    {
     "data": {
      "text/plain": [
       "{'contingency': {'timestamp': 549973, 'value': 0},\n",
       " 'trialThresh': {'timestamp': 549973, 'value': 66},\n",
       " 'totalPokes': {'timestamp': 549974, 'value': 33},\n",
       " 'totalRewards': {'timestamp': 549974, 'value': 25},\n",
       " 'ifDelay': {'timestamp': 549975, 'value': 1},\n",
       " 'countPokes1': {'timestamp': 549975, 'value': 15},\n",
       " 'countRewards1': {'timestamp': 549976, 'value': 9},\n",
       " 'portProbs1': {'timestamp': 549976, 'value': 50},\n",
       " 'countPokes2': {'timestamp': 549977, 'value': 17},\n",
       " 'countRewards2': {'timestamp': 549977, 'value': 16},\n",
       " 'portProbs2': {'timestamp': 549978, 'value': 90},\n",
       " 'countPokes3': {'timestamp': 549999, 'value': 1},\n",
       " 'countRewards3': {'timestamp': 549999, 'value': 0},\n",
       " 'portProbs3': {'timestamp': 550000, 'value': 10}}"
      ]
     },
     "metadata": {},
     "output_type": "display_data"
    },
    {
     "data": {
      "text/plain": [
       "{'contingency': {'timestamp': 564638, 'value': 0},\n",
       " 'trialThresh': {'timestamp': 564638, 'value': 66},\n",
       " 'totalPokes': {'timestamp': 564639, 'value': 34},\n",
       " 'totalRewards': {'timestamp': 564639, 'value': 26},\n",
       " 'ifDelay': {'timestamp': 564639, 'value': 0},\n",
       " 'countPokes1': {'timestamp': 564640, 'value': 16},\n",
       " 'countRewards1': {'timestamp': 564640, 'value': 10},\n",
       " 'portProbs1': {'timestamp': 564641, 'value': 50},\n",
       " 'countPokes2': {'timestamp': 564641, 'value': 17},\n",
       " 'countRewards2': {'timestamp': 564642, 'value': 16},\n",
       " 'portProbs2': {'timestamp': 564642, 'value': 90},\n",
       " 'countPokes3': {'timestamp': 564663, 'value': 1},\n",
       " 'countRewards3': {'timestamp': 564664, 'value': 0},\n",
       " 'portProbs3': {'timestamp': 564664, 'value': 10}}"
      ]
     },
     "metadata": {},
     "output_type": "display_data"
    },
    {
     "data": {
      "text/plain": [
       "{'contingency': {'timestamp': 579882, 'value': 0},\n",
       " 'trialThresh': {'timestamp': 579883, 'value': 66},\n",
       " 'totalPokes': {'timestamp': 579883, 'value': 35},\n",
       " 'totalRewards': {'timestamp': 579884, 'value': 27},\n",
       " 'ifDelay': {'timestamp': 579884, 'value': 0},\n",
       " 'countPokes1': {'timestamp': 579885, 'value': 16},\n",
       " 'countRewards1': {'timestamp': 579885, 'value': 10},\n",
       " 'portProbs1': {'timestamp': 579886, 'value': 50},\n",
       " 'countPokes2': {'timestamp': 579886, 'value': 18},\n",
       " 'countRewards2': {'timestamp': 579887, 'value': 17},\n",
       " 'portProbs2': {'timestamp': 579907, 'value': 90},\n",
       " 'countPokes3': {'timestamp': 579907, 'value': 1},\n",
       " 'countRewards3': {'timestamp': 579908, 'value': 0},\n",
       " 'portProbs3': {'timestamp': 579908, 'value': 10}}"
      ]
     },
     "metadata": {},
     "output_type": "display_data"
    },
    {
     "data": {
      "text/plain": [
       "{'contingency': {'timestamp': 593516, 'value': 0},\n",
       " 'trialThresh': {'timestamp': 593516, 'value': 66},\n",
       " 'totalPokes': {'timestamp': 593517, 'value': 36},\n",
       " 'totalRewards': {'timestamp': 593517, 'value': 27},\n",
       " 'ifDelay': {'timestamp': 593518, 'value': 1},\n",
       " 'countPokes1': {'timestamp': 593518, 'value': 17},\n",
       " 'countRewards1': {'timestamp': 593519, 'value': 10},\n",
       " 'portProbs1': {'timestamp': 593519, 'value': 50},\n",
       " 'countPokes2': {'timestamp': 593520, 'value': 18},\n",
       " 'countRewards2': {'timestamp': 593520, 'value': 17},\n",
       " 'portProbs2': {'timestamp': 593520, 'value': 90},\n",
       " 'countPokes3': {'timestamp': 593542, 'value': 1},\n",
       " 'countRewards3': {'timestamp': 593542, 'value': 0},\n",
       " 'portProbs3': {'timestamp': 593543, 'value': 10}}"
      ]
     },
     "metadata": {},
     "output_type": "display_data"
    },
    {
     "data": {
      "text/plain": [
       "{'contingency': {'timestamp': 598195, 'value': 0},\n",
       " 'trialThresh': {'timestamp': 598195, 'value': 66},\n",
       " 'totalPokes': {'timestamp': 598196, 'value': 37},\n",
       " 'totalRewards': {'timestamp': 598196, 'value': 28},\n",
       " 'ifDelay': {'timestamp': 598197, 'value': 1},\n",
       " 'countPokes1': {'timestamp': 598197, 'value': 17},\n",
       " 'countRewards1': {'timestamp': 598198, 'value': 10},\n",
       " 'portProbs1': {'timestamp': 598198, 'value': 50},\n",
       " 'countPokes2': {'timestamp': 598199, 'value': 19},\n",
       " 'countRewards2': {'timestamp': 598199, 'value': 18},\n",
       " 'portProbs2': {'timestamp': 598200, 'value': 90},\n",
       " 'countPokes3': {'timestamp': 598221, 'value': 1},\n",
       " 'countRewards3': {'timestamp': 598221, 'value': 0},\n",
       " 'portProbs3': {'timestamp': 598222, 'value': 10}}"
      ]
     },
     "metadata": {},
     "output_type": "display_data"
    },
    {
     "data": {
      "text/plain": [
       "{'contingency': {'timestamp': 612243, 'value': 0},\n",
       " 'trialThresh': {'timestamp': 612243, 'value': 66},\n",
       " 'totalPokes': {'timestamp': 612244, 'value': 38},\n",
       " 'totalRewards': {'timestamp': 612244, 'value': 29},\n",
       " 'ifDelay': {'timestamp': 612245, 'value': 0},\n",
       " 'countPokes1': {'timestamp': 612245, 'value': 18},\n",
       " 'countRewards1': {'timestamp': 612246, 'value': 11},\n",
       " 'portProbs1': {'timestamp': 612246, 'value': 50},\n",
       " 'countPokes2': {'timestamp': 612247, 'value': 19},\n",
       " 'countRewards2': {'timestamp': 612247, 'value': 18},\n",
       " 'portProbs2': {'timestamp': 612248, 'value': 90},\n",
       " 'countPokes3': {'timestamp': 612269, 'value': 1},\n",
       " 'countRewards3': {'timestamp': 612269, 'value': 0},\n",
       " 'portProbs3': {'timestamp': 612270, 'value': 10}}"
      ]
     },
     "metadata": {},
     "output_type": "display_data"
    },
    {
     "data": {
      "text/plain": [
       "{'contingency': {'timestamp': 626755, 'value': 0},\n",
       " 'trialThresh': {'timestamp': 626756, 'value': 66},\n",
       " 'totalPokes': {'timestamp': 626756, 'value': 39},\n",
       " 'totalRewards': {'timestamp': 626757, 'value': 30},\n",
       " 'ifDelay': {'timestamp': 626757, 'value': 1},\n",
       " 'countPokes1': {'timestamp': 626758, 'value': 18},\n",
       " 'countRewards1': {'timestamp': 626758, 'value': 11},\n",
       " 'portProbs1': {'timestamp': 626759, 'value': 50},\n",
       " 'countPokes2': {'timestamp': 626759, 'value': 20},\n",
       " 'countRewards2': {'timestamp': 626760, 'value': 19},\n",
       " 'portProbs2': {'timestamp': 626760, 'value': 90},\n",
       " 'countPokes3': {'timestamp': 626781, 'value': 1},\n",
       " 'countRewards3': {'timestamp': 626782, 'value': 0},\n",
       " 'portProbs3': {'timestamp': 626782, 'value': 10}}"
      ]
     },
     "metadata": {},
     "output_type": "display_data"
    },
    {
     "data": {
      "text/plain": [
       "{'contingency': {'timestamp': 647245, 'value': 0},\n",
       " 'trialThresh': {'timestamp': 647245, 'value': 66},\n",
       " 'totalPokes': {'timestamp': 647246, 'value': 40},\n",
       " 'totalRewards': {'timestamp': 647246, 'value': 31},\n",
       " 'ifDelay': {'timestamp': 647247, 'value': 1},\n",
       " 'countPokes1': {'timestamp': 647247, 'value': 19},\n",
       " 'countRewards1': {'timestamp': 647248, 'value': 12},\n",
       " 'portProbs1': {'timestamp': 647248, 'value': 50},\n",
       " 'countPokes2': {'timestamp': 647248, 'value': 20},\n",
       " 'countRewards2': {'timestamp': 647249, 'value': 19},\n",
       " 'portProbs2': {'timestamp': 647249, 'value': 90},\n",
       " 'countPokes3': {'timestamp': 647271, 'value': 1},\n",
       " 'countRewards3': {'timestamp': 647271, 'value': 0},\n",
       " 'portProbs3': {'timestamp': 647271, 'value': 10}}"
      ]
     },
     "metadata": {},
     "output_type": "display_data"
    },
    {
     "data": {
      "text/plain": [
       "{'contingency': {'timestamp': 664888, 'value': 0},\n",
       " 'trialThresh': {'timestamp': 664888, 'value': 66},\n",
       " 'totalPokes': {'timestamp': 664889, 'value': 41},\n",
       " 'totalRewards': {'timestamp': 664889, 'value': 32},\n",
       " 'ifDelay': {'timestamp': 664890, 'value': 1},\n",
       " 'countPokes1': {'timestamp': 664890, 'value': 19},\n",
       " 'countRewards1': {'timestamp': 664891, 'value': 12},\n",
       " 'portProbs1': {'timestamp': 664891, 'value': 50},\n",
       " 'countPokes2': {'timestamp': 664892, 'value': 21},\n",
       " 'countRewards2': {'timestamp': 664892, 'value': 20},\n",
       " 'portProbs2': {'timestamp': 664893, 'value': 90},\n",
       " 'countPokes3': {'timestamp': 664914, 'value': 1},\n",
       " 'countRewards3': {'timestamp': 664914, 'value': 0},\n",
       " 'portProbs3': {'timestamp': 664915, 'value': 10}}"
      ]
     },
     "metadata": {},
     "output_type": "display_data"
    },
    {
     "data": {
      "text/plain": [
       "{'contingency': {'timestamp': 678360, 'value': 0},\n",
       " 'trialThresh': {'timestamp': 678360, 'value': 66},\n",
       " 'totalPokes': {'timestamp': 678361, 'value': 42},\n",
       " 'totalRewards': {'timestamp': 678361, 'value': 32},\n",
       " 'ifDelay': {'timestamp': 678362, 'value': 0},\n",
       " 'countPokes1': {'timestamp': 678362, 'value': 20},\n",
       " 'countRewards1': {'timestamp': 678363, 'value': 12},\n",
       " 'portProbs1': {'timestamp': 678363, 'value': 50},\n",
       " 'countPokes2': {'timestamp': 678364, 'value': 21},\n",
       " 'countRewards2': {'timestamp': 678364, 'value': 20},\n",
       " 'portProbs2': {'timestamp': 678365, 'value': 90},\n",
       " 'countPokes3': {'timestamp': 678386, 'value': 1},\n",
       " 'countRewards3': {'timestamp': 678386, 'value': 0},\n",
       " 'portProbs3': {'timestamp': 678387, 'value': 10}}"
      ]
     },
     "metadata": {},
     "output_type": "display_data"
    },
    {
     "data": {
      "text/plain": [
       "{'contingency': {'timestamp': 683340, 'value': 0},\n",
       " 'trialThresh': {'timestamp': 683340, 'value': 66},\n",
       " 'totalPokes': {'timestamp': 683341, 'value': 43},\n",
       " 'totalRewards': {'timestamp': 683341, 'value': 33},\n",
       " 'ifDelay': {'timestamp': 683342, 'value': 0},\n",
       " 'countPokes1': {'timestamp': 683342, 'value': 20},\n",
       " 'countRewards1': {'timestamp': 683343, 'value': 12},\n",
       " 'portProbs1': {'timestamp': 683343, 'value': 50},\n",
       " 'countPokes2': {'timestamp': 683344, 'value': 22},\n",
       " 'countRewards2': {'timestamp': 683344, 'value': 21},\n",
       " 'portProbs2': {'timestamp': 683345, 'value': 90},\n",
       " 'countPokes3': {'timestamp': 683366, 'value': 1},\n",
       " 'countRewards3': {'timestamp': 683366, 'value': 0},\n",
       " 'portProbs3': {'timestamp': 683367, 'value': 10}}"
      ]
     },
     "metadata": {},
     "output_type": "display_data"
    },
    {
     "data": {
      "text/plain": [
       "{'contingency': {'timestamp': 704627, 'value': 0},\n",
       " 'trialThresh': {'timestamp': 704627, 'value': 66},\n",
       " 'totalPokes': {'timestamp': 704628, 'value': 44},\n",
       " 'totalRewards': {'timestamp': 704628, 'value': 34},\n",
       " 'ifDelay': {'timestamp': 704629, 'value': 1},\n",
       " 'countPokes1': {'timestamp': 704629, 'value': 21},\n",
       " 'countRewards1': {'timestamp': 704630, 'value': 13},\n",
       " 'portProbs1': {'timestamp': 704630, 'value': 50},\n",
       " 'countPokes2': {'timestamp': 704631, 'value': 22},\n",
       " 'countRewards2': {'timestamp': 704631, 'value': 21},\n",
       " 'portProbs2': {'timestamp': 704632, 'value': 90},\n",
       " 'countPokes3': {'timestamp': 704653, 'value': 1},\n",
       " 'countRewards3': {'timestamp': 704653, 'value': 0},\n",
       " 'portProbs3': {'timestamp': 704654, 'value': 10}}"
      ]
     },
     "metadata": {},
     "output_type": "display_data"
    },
    {
     "data": {
      "text/plain": [
       "{'contingency': {'timestamp': 721071, 'value': 0},\n",
       " 'trialThresh': {'timestamp': 721071, 'value': 66},\n",
       " 'totalPokes': {'timestamp': 721072, 'value': 45},\n",
       " 'totalRewards': {'timestamp': 721072, 'value': 34},\n",
       " 'ifDelay': {'timestamp': 721073, 'value': 1},\n",
       " 'countPokes1': {'timestamp': 721073, 'value': 21},\n",
       " 'countRewards1': {'timestamp': 721074, 'value': 13},\n",
       " 'portProbs1': {'timestamp': 721074, 'value': 50},\n",
       " 'countPokes2': {'timestamp': 721075, 'value': 22},\n",
       " 'countRewards2': {'timestamp': 721075, 'value': 21},\n",
       " 'portProbs2': {'timestamp': 721076, 'value': 90},\n",
       " 'countPokes3': {'timestamp': 721097, 'value': 2},\n",
       " 'countRewards3': {'timestamp': 721097, 'value': 0},\n",
       " 'portProbs3': {'timestamp': 721098, 'value': 10}}"
      ]
     },
     "metadata": {},
     "output_type": "display_data"
    },
    {
     "data": {
      "text/plain": [
       "{'contingency': {'timestamp': 726680, 'value': 0},\n",
       " 'trialThresh': {'timestamp': 726681, 'value': 66},\n",
       " 'totalPokes': {'timestamp': 726681, 'value': 46},\n",
       " 'totalRewards': {'timestamp': 726682, 'value': 35},\n",
       " 'ifDelay': {'timestamp': 726682, 'value': 1},\n",
       " 'countPokes1': {'timestamp': 726683, 'value': 22},\n",
       " 'countRewards1': {'timestamp': 726683, 'value': 14},\n",
       " 'portProbs1': {'timestamp': 726684, 'value': 50},\n",
       " 'countPokes2': {'timestamp': 726684, 'value': 22},\n",
       " 'countRewards2': {'timestamp': 726685, 'value': 21},\n",
       " 'portProbs2': {'timestamp': 726685, 'value': 90},\n",
       " 'countPokes3': {'timestamp': 726706, 'value': 2},\n",
       " 'countRewards3': {'timestamp': 726707, 'value': 0},\n",
       " 'portProbs3': {'timestamp': 726707, 'value': 10}}"
      ]
     },
     "metadata": {},
     "output_type": "display_data"
    },
    {
     "data": {
      "text/plain": [
       "{'contingency': {'timestamp': 744189, 'value': 0},\n",
       " 'trialThresh': {'timestamp': 744189, 'value': 66},\n",
       " 'totalPokes': {'timestamp': 744190, 'value': 47},\n",
       " 'totalRewards': {'timestamp': 744190, 'value': 36},\n",
       " 'ifDelay': {'timestamp': 744191, 'value': 0},\n",
       " 'countPokes1': {'timestamp': 744191, 'value': 22},\n",
       " 'countRewards1': {'timestamp': 744192, 'value': 14},\n",
       " 'portProbs1': {'timestamp': 744192, 'value': 50},\n",
       " 'countPokes2': {'timestamp': 744193, 'value': 23},\n",
       " 'countRewards2': {'timestamp': 744193, 'value': 22},\n",
       " 'portProbs2': {'timestamp': 744194, 'value': 90},\n",
       " 'countPokes3': {'timestamp': 744215, 'value': 2},\n",
       " 'countRewards3': {'timestamp': 744215, 'value': 0},\n",
       " 'portProbs3': {'timestamp': 744216, 'value': 10}}"
      ]
     },
     "metadata": {},
     "output_type": "display_data"
    },
    {
     "data": {
      "text/plain": [
       "{'contingency': {'timestamp': 764801, 'value': 0},\n",
       " 'trialThresh': {'timestamp': 764802, 'value': 66},\n",
       " 'totalPokes': {'timestamp': 764802, 'value': 48},\n",
       " 'totalRewards': {'timestamp': 764803, 'value': 36},\n",
       " 'ifDelay': {'timestamp': 764803, 'value': 0},\n",
       " 'countPokes1': {'timestamp': 764804, 'value': 23},\n",
       " 'countRewards1': {'timestamp': 764804, 'value': 14},\n",
       " 'portProbs1': {'timestamp': 764805, 'value': 50},\n",
       " 'countPokes2': {'timestamp': 764805, 'value': 23},\n",
       " 'countRewards2': {'timestamp': 764806, 'value': 22},\n",
       " 'portProbs2': {'timestamp': 764806, 'value': 90},\n",
       " 'countPokes3': {'timestamp': 764827, 'value': 2},\n",
       " 'countRewards3': {'timestamp': 764828, 'value': 0},\n",
       " 'portProbs3': {'timestamp': 764828, 'value': 10}}"
      ]
     },
     "metadata": {},
     "output_type": "display_data"
    },
    {
     "data": {
      "text/plain": [
       "{'contingency': {'timestamp': 771124, 'value': 0},\n",
       " 'trialThresh': {'timestamp': 771125, 'value': 66},\n",
       " 'totalPokes': {'timestamp': 771125, 'value': 49},\n",
       " 'totalRewards': {'timestamp': 771126, 'value': 37},\n",
       " 'ifDelay': {'timestamp': 771126, 'value': 0},\n",
       " 'countPokes1': {'timestamp': 771127, 'value': 23},\n",
       " 'countRewards1': {'timestamp': 771127, 'value': 14},\n",
       " 'portProbs1': {'timestamp': 771128, 'value': 50},\n",
       " 'countPokes2': {'timestamp': 771128, 'value': 24},\n",
       " 'countRewards2': {'timestamp': 771129, 'value': 23},\n",
       " 'portProbs2': {'timestamp': 771129, 'value': 90},\n",
       " 'countPokes3': {'timestamp': 771150, 'value': 2},\n",
       " 'countRewards3': {'timestamp': 771151, 'value': 0},\n",
       " 'portProbs3': {'timestamp': 771151, 'value': 10}}"
      ]
     },
     "metadata": {},
     "output_type": "display_data"
    },
    {
     "data": {
      "text/plain": [
       "{'contingency': {'timestamp': 788641, 'value': 0},\n",
       " 'trialThresh': {'timestamp': 788641, 'value': 66},\n",
       " 'totalPokes': {'timestamp': 788642, 'value': 50},\n",
       " 'totalRewards': {'timestamp': 788642, 'value': 38},\n",
       " 'ifDelay': {'timestamp': 788643, 'value': 1},\n",
       " 'countPokes1': {'timestamp': 788643, 'value': 24},\n",
       " 'countRewards1': {'timestamp': 788644, 'value': 15},\n",
       " 'portProbs1': {'timestamp': 788644, 'value': 50},\n",
       " 'countPokes2': {'timestamp': 788645, 'value': 24},\n",
       " 'countRewards2': {'timestamp': 788645, 'value': 23},\n",
       " 'portProbs2': {'timestamp': 788646, 'value': 90},\n",
       " 'countPokes3': {'timestamp': 788667, 'value': 2},\n",
       " 'countRewards3': {'timestamp': 788667, 'value': 0},\n",
       " 'portProbs3': {'timestamp': 788668, 'value': 10}}"
      ]
     },
     "metadata": {},
     "output_type": "display_data"
    },
    {
     "data": {
      "text/plain": [
       "{'contingency': {'timestamp': 803307, 'value': 0},\n",
       " 'trialThresh': {'timestamp': 803308, 'value': 66},\n",
       " 'totalPokes': {'timestamp': 803308, 'value': 51},\n",
       " 'totalRewards': {'timestamp': 803309, 'value': 39},\n",
       " 'ifDelay': {'timestamp': 803309, 'value': 1},\n",
       " 'countPokes1': {'timestamp': 803310, 'value': 24},\n",
       " 'countRewards1': {'timestamp': 803310, 'value': 15},\n",
       " 'portProbs1': {'timestamp': 803311, 'value': 50},\n",
       " 'countPokes2': {'timestamp': 803311, 'value': 25},\n",
       " 'countRewards2': {'timestamp': 803312, 'value': 24},\n",
       " 'portProbs2': {'timestamp': 803312, 'value': 90},\n",
       " 'countPokes3': {'timestamp': 803333, 'value': 2},\n",
       " 'countRewards3': {'timestamp': 803334, 'value': 0},\n",
       " 'portProbs3': {'timestamp': 803334, 'value': 10}}"
      ]
     },
     "metadata": {},
     "output_type": "display_data"
    },
    {
     "data": {
      "text/plain": [
       "{'contingency': {'timestamp': 820811, 'value': 0},\n",
       " 'trialThresh': {'timestamp': 820811, 'value': 66},\n",
       " 'totalPokes': {'timestamp': 820812, 'value': 52},\n",
       " 'totalRewards': {'timestamp': 820812, 'value': 39},\n",
       " 'ifDelay': {'timestamp': 820813, 'value': 0},\n",
       " 'countPokes1': {'timestamp': 820813, 'value': 25},\n",
       " 'countRewards1': {'timestamp': 820814, 'value': 15},\n",
       " 'portProbs1': {'timestamp': 820814, 'value': 50},\n",
       " 'countPokes2': {'timestamp': 820815, 'value': 25},\n",
       " 'countRewards2': {'timestamp': 820815, 'value': 24},\n",
       " 'portProbs2': {'timestamp': 820816, 'value': 90},\n",
       " 'countPokes3': {'timestamp': 820836, 'value': 2},\n",
       " 'countRewards3': {'timestamp': 820836, 'value': 0},\n",
       " 'portProbs3': {'timestamp': 820838, 'value': 10}}"
      ]
     },
     "metadata": {},
     "output_type": "display_data"
    },
    {
     "data": {
      "text/plain": [
       "{'contingency': {'timestamp': 826792, 'value': 0},\n",
       " 'trialThresh': {'timestamp': 826793, 'value': 66},\n",
       " 'totalPokes': {'timestamp': 826793, 'value': 53},\n",
       " 'totalRewards': {'timestamp': 826794, 'value': 40},\n",
       " 'ifDelay': {'timestamp': 826794, 'value': 0},\n",
       " 'countPokes1': {'timestamp': 826795, 'value': 25},\n",
       " 'countRewards1': {'timestamp': 826795, 'value': 15},\n",
       " 'portProbs1': {'timestamp': 826796, 'value': 50},\n",
       " 'countPokes2': {'timestamp': 826796, 'value': 26},\n",
       " 'countRewards2': {'timestamp': 826797, 'value': 25},\n",
       " 'portProbs2': {'timestamp': 826797, 'value': 90},\n",
       " 'countPokes3': {'timestamp': 826818, 'value': 2},\n",
       " 'countRewards3': {'timestamp': 826819, 'value': 0},\n",
       " 'portProbs3': {'timestamp': 826819, 'value': 10}}"
      ]
     },
     "metadata": {},
     "output_type": "display_data"
    },
    {
     "data": {
      "text/plain": [
       "{'contingency': {'timestamp': 841737, 'value': 0},\n",
       " 'trialThresh': {'timestamp': 841737, 'value': 66},\n",
       " 'totalPokes': {'timestamp': 841738, 'value': 54},\n",
       " 'totalRewards': {'timestamp': 841738, 'value': 41},\n",
       " 'ifDelay': {'timestamp': 841739, 'value': 0},\n",
       " 'countPokes1': {'timestamp': 841739, 'value': 26},\n",
       " 'countRewards1': {'timestamp': 841740, 'value': 16},\n",
       " 'portProbs1': {'timestamp': 841740, 'value': 50},\n",
       " 'countPokes2': {'timestamp': 841741, 'value': 26},\n",
       " 'countRewards2': {'timestamp': 841741, 'value': 25},\n",
       " 'portProbs2': {'timestamp': 841742, 'value': 90},\n",
       " 'countPokes3': {'timestamp': 841763, 'value': 2},\n",
       " 'countRewards3': {'timestamp': 841763, 'value': 0},\n",
       " 'portProbs3': {'timestamp': 841764, 'value': 10}}"
      ]
     },
     "metadata": {},
     "output_type": "display_data"
    },
    {
     "data": {
      "text/plain": [
       "{'contingency': {'timestamp': 857456, 'value': 0},\n",
       " 'trialThresh': {'timestamp': 857457, 'value': 66},\n",
       " 'totalPokes': {'timestamp': 857457, 'value': 55},\n",
       " 'totalRewards': {'timestamp': 857458, 'value': 42},\n",
       " 'ifDelay': {'timestamp': 857458, 'value': 0},\n",
       " 'countPokes1': {'timestamp': 857459, 'value': 26},\n",
       " 'countRewards1': {'timestamp': 857459, 'value': 16},\n",
       " 'portProbs1': {'timestamp': 857460, 'value': 50},\n",
       " 'countPokes2': {'timestamp': 857460, 'value': 27},\n",
       " 'countRewards2': {'timestamp': 857461, 'value': 26},\n",
       " 'portProbs2': {'timestamp': 857482, 'value': 90},\n",
       " 'countPokes3': {'timestamp': 857482, 'value': 2},\n",
       " 'countRewards3': {'timestamp': 857483, 'value': 0},\n",
       " 'portProbs3': {'timestamp': 857483, 'value': 10}}"
      ]
     },
     "metadata": {},
     "output_type": "display_data"
    },
    {
     "data": {
      "text/plain": [
       "{'contingency': {'timestamp': 872083, 'value': 0},\n",
       " 'trialThresh': {'timestamp': 872084, 'value': 66},\n",
       " 'totalPokes': {'timestamp': 872084, 'value': 56},\n",
       " 'totalRewards': {'timestamp': 872085, 'value': 42},\n",
       " 'ifDelay': {'timestamp': 872085, 'value': 0},\n",
       " 'countPokes1': {'timestamp': 872086, 'value': 27},\n",
       " 'countRewards1': {'timestamp': 872086, 'value': 16},\n",
       " 'portProbs1': {'timestamp': 872087, 'value': 50},\n",
       " 'countPokes2': {'timestamp': 872087, 'value': 27},\n",
       " 'countRewards2': {'timestamp': 872088, 'value': 26},\n",
       " 'portProbs2': {'timestamp': 872088, 'value': 90},\n",
       " 'countPokes3': {'timestamp': 872109, 'value': 2},\n",
       " 'countRewards3': {'timestamp': 872110, 'value': 0},\n",
       " 'portProbs3': {'timestamp': 872110, 'value': 10}}"
      ]
     },
     "metadata": {},
     "output_type": "display_data"
    },
    {
     "data": {
      "text/plain": [
       "{'contingency': {'timestamp': 878183, 'value': 0},\n",
       " 'trialThresh': {'timestamp': 878184, 'value': 66},\n",
       " 'totalPokes': {'timestamp': 878184, 'value': 57},\n",
       " 'totalRewards': {'timestamp': 878185, 'value': 43},\n",
       " 'ifDelay': {'timestamp': 878185, 'value': 0},\n",
       " 'countPokes1': {'timestamp': 878186, 'value': 27},\n",
       " 'countRewards1': {'timestamp': 878186, 'value': 16},\n",
       " 'portProbs1': {'timestamp': 878187, 'value': 50},\n",
       " 'countPokes2': {'timestamp': 878187, 'value': 28},\n",
       " 'countRewards2': {'timestamp': 878188, 'value': 27},\n",
       " 'portProbs2': {'timestamp': 878188, 'value': 90},\n",
       " 'countPokes3': {'timestamp': 878209, 'value': 2},\n",
       " 'countRewards3': {'timestamp': 878210, 'value': 0},\n",
       " 'portProbs3': {'timestamp': 878210, 'value': 10}}"
      ]
     },
     "metadata": {},
     "output_type": "display_data"
    },
    {
     "data": {
      "text/plain": [
       "{'contingency': {'timestamp': 893438, 'value': 0},\n",
       " 'trialThresh': {'timestamp': 893438, 'value': 66},\n",
       " 'totalPokes': {'timestamp': 893439, 'value': 58},\n",
       " 'totalRewards': {'timestamp': 893439, 'value': 44},\n",
       " 'ifDelay': {'timestamp': 893440, 'value': 1},\n",
       " 'countPokes1': {'timestamp': 893440, 'value': 28},\n",
       " 'countRewards1': {'timestamp': 893441, 'value': 17},\n",
       " 'portProbs1': {'timestamp': 893441, 'value': 50},\n",
       " 'countPokes2': {'timestamp': 893442, 'value': 28},\n",
       " 'countRewards2': {'timestamp': 893442, 'value': 27},\n",
       " 'portProbs2': {'timestamp': 893443, 'value': 90},\n",
       " 'countPokes3': {'timestamp': 893464, 'value': 2},\n",
       " 'countRewards3': {'timestamp': 893464, 'value': 0},\n",
       " 'portProbs3': {'timestamp': 893465, 'value': 10}}"
      ]
     },
     "metadata": {},
     "output_type": "display_data"
    },
    {
     "data": {
      "text/plain": [
       "{'contingency': {'timestamp': 910202, 'value': 0},\n",
       " 'trialThresh': {'timestamp': 910203, 'value': 66},\n",
       " 'totalPokes': {'timestamp': 910203, 'value': 59},\n",
       " 'totalRewards': {'timestamp': 910204, 'value': 45},\n",
       " 'ifDelay': {'timestamp': 910204, 'value': 0},\n",
       " 'countPokes1': {'timestamp': 910205, 'value': 28},\n",
       " 'countRewards1': {'timestamp': 910205, 'value': 17},\n",
       " 'portProbs1': {'timestamp': 910206, 'value': 50},\n",
       " 'countPokes2': {'timestamp': 910206, 'value': 29},\n",
       " 'countRewards2': {'timestamp': 910207, 'value': 28},\n",
       " 'portProbs2': {'timestamp': 910207, 'value': 90},\n",
       " 'countPokes3': {'timestamp': 910228, 'value': 2},\n",
       " 'countRewards3': {'timestamp': 910229, 'value': 0},\n",
       " 'portProbs3': {'timestamp': 910229, 'value': 10}}"
      ]
     },
     "metadata": {},
     "output_type": "display_data"
    },
    {
     "data": {
      "text/plain": [
       "{'contingency': {'timestamp': 929218, 'value': 0},\n",
       " 'trialThresh': {'timestamp': 929219, 'value': 66},\n",
       " 'totalPokes': {'timestamp': 929219, 'value': 60},\n",
       " 'totalRewards': {'timestamp': 929220, 'value': 46},\n",
       " 'ifDelay': {'timestamp': 929220, 'value': 1},\n",
       " 'countPokes1': {'timestamp': 929221, 'value': 29},\n",
       " 'countRewards1': {'timestamp': 929221, 'value': 18},\n",
       " 'portProbs1': {'timestamp': 929222, 'value': 50},\n",
       " 'countPokes2': {'timestamp': 929222, 'value': 29},\n",
       " 'countRewards2': {'timestamp': 929223, 'value': 28},\n",
       " 'portProbs2': {'timestamp': 929223, 'value': 90},\n",
       " 'countPokes3': {'timestamp': 929244, 'value': 2},\n",
       " 'countRewards3': {'timestamp': 929245, 'value': 0},\n",
       " 'portProbs3': {'timestamp': 929245, 'value': 10}}"
      ]
     },
     "metadata": {},
     "output_type": "display_data"
    },
    {
     "data": {
      "text/plain": [
       "{'contingency': {'timestamp': 945966, 'value': 0},\n",
       " 'trialThresh': {'timestamp': 945966, 'value': 66},\n",
       " 'totalPokes': {'timestamp': 945967, 'value': 61},\n",
       " 'totalRewards': {'timestamp': 945967, 'value': 46},\n",
       " 'ifDelay': {'timestamp': 945968, 'value': 1},\n",
       " 'countPokes1': {'timestamp': 945968, 'value': 29},\n",
       " 'countRewards1': {'timestamp': 945969, 'value': 18},\n",
       " 'portProbs1': {'timestamp': 945969, 'value': 50},\n",
       " 'countPokes2': {'timestamp': 945970, 'value': 29},\n",
       " 'countRewards2': {'timestamp': 945970, 'value': 28},\n",
       " 'portProbs2': {'timestamp': 945971, 'value': 90},\n",
       " 'countPokes3': {'timestamp': 945992, 'value': 3},\n",
       " 'countRewards3': {'timestamp': 945992, 'value': 0},\n",
       " 'portProbs3': {'timestamp': 945993, 'value': 10}}"
      ]
     },
     "metadata": {},
     "output_type": "display_data"
    },
    {
     "data": {
      "text/plain": [
       "{'contingency': {'timestamp': 951738, 'value': 0},\n",
       " 'trialThresh': {'timestamp': 951738, 'value': 66},\n",
       " 'totalPokes': {'timestamp': 951739, 'value': 62},\n",
       " 'totalRewards': {'timestamp': 951739, 'value': 46},\n",
       " 'ifDelay': {'timestamp': 951740, 'value': 1},\n",
       " 'countPokes1': {'timestamp': 951740, 'value': 30},\n",
       " 'countRewards1': {'timestamp': 951741, 'value': 18},\n",
       " 'portProbs1': {'timestamp': 951741, 'value': 50},\n",
       " 'countPokes2': {'timestamp': 951742, 'value': 29},\n",
       " 'countRewards2': {'timestamp': 951742, 'value': 28},\n",
       " 'portProbs2': {'timestamp': 951743, 'value': 90},\n",
       " 'countPokes3': {'timestamp': 951764, 'value': 3},\n",
       " 'countRewards3': {'timestamp': 951764, 'value': 0},\n",
       " 'portProbs3': {'timestamp': 951765, 'value': 10}}"
      ]
     },
     "metadata": {},
     "output_type": "display_data"
    },
    {
     "data": {
      "text/plain": [
       "{'contingency': {'timestamp': 958956, 'value': 0},\n",
       " 'trialThresh': {'timestamp': 958957, 'value': 66},\n",
       " 'totalPokes': {'timestamp': 958957, 'value': 63},\n",
       " 'totalRewards': {'timestamp': 958958, 'value': 47},\n",
       " 'ifDelay': {'timestamp': 958958, 'value': 1},\n",
       " 'countPokes1': {'timestamp': 958959, 'value': 30},\n",
       " 'countRewards1': {'timestamp': 958959, 'value': 18},\n",
       " 'portProbs1': {'timestamp': 958960, 'value': 50},\n",
       " 'countPokes2': {'timestamp': 958960, 'value': 30},\n",
       " 'countRewards2': {'timestamp': 958961, 'value': 29},\n",
       " 'portProbs2': {'timestamp': 958961, 'value': 90},\n",
       " 'countPokes3': {'timestamp': 958982, 'value': 3},\n",
       " 'countRewards3': {'timestamp': 958983, 'value': 0},\n",
       " 'portProbs3': {'timestamp': 958983, 'value': 10}}"
      ]
     },
     "metadata": {},
     "output_type": "display_data"
    },
    {
     "data": {
      "text/plain": [
       "{'contingency': {'timestamp': 980204, 'value': 0},\n",
       " 'trialThresh': {'timestamp': 980204, 'value': 66},\n",
       " 'totalPokes': {'timestamp': 980205, 'value': 64},\n",
       " 'totalRewards': {'timestamp': 980205, 'value': 47},\n",
       " 'ifDelay': {'timestamp': 980206, 'value': 0},\n",
       " 'countPokes1': {'timestamp': 980206, 'value': 31},\n",
       " 'countRewards1': {'timestamp': 980207, 'value': 18},\n",
       " 'portProbs1': {'timestamp': 980207, 'value': 50},\n",
       " 'countPokes2': {'timestamp': 980208, 'value': 30},\n",
       " 'countRewards2': {'timestamp': 980208, 'value': 29},\n",
       " 'portProbs2': {'timestamp': 980209, 'value': 90},\n",
       " 'countPokes3': {'timestamp': 980230, 'value': 3},\n",
       " 'countRewards3': {'timestamp': 980230, 'value': 0},\n",
       " 'portProbs3': {'timestamp': 980231, 'value': 10}}"
      ]
     },
     "metadata": {},
     "output_type": "display_data"
    },
    {
     "data": {
      "text/plain": [
       "{'contingency': {'timestamp': 987096, 'value': 0},\n",
       " 'trialThresh': {'timestamp': 987096, 'value': 66},\n",
       " 'totalPokes': {'timestamp': 987097, 'value': 65},\n",
       " 'totalRewards': {'timestamp': 987097, 'value': 48},\n",
       " 'ifDelay': {'timestamp': 987098, 'value': 0},\n",
       " 'countPokes1': {'timestamp': 987098, 'value': 31},\n",
       " 'countRewards1': {'timestamp': 987099, 'value': 18},\n",
       " 'portProbs1': {'timestamp': 987099, 'value': 50},\n",
       " 'countPokes2': {'timestamp': 987100, 'value': 31},\n",
       " 'countRewards2': {'timestamp': 987100, 'value': 30},\n",
       " 'portProbs2': {'timestamp': 987101, 'value': 90},\n",
       " 'countPokes3': {'timestamp': 987122, 'value': 3},\n",
       " 'countRewards3': {'timestamp': 987122, 'value': 0},\n",
       " 'portProbs3': {'timestamp': 987123, 'value': 10}}"
      ]
     },
     "metadata": {},
     "output_type": "display_data"
    },
    {
     "data": {
      "text/plain": [
       "{'contingency': {'timestamp': 1011804, 'value': 0},\n",
       " 'trialThresh': {'timestamp': 1011805, 'value': 66},\n",
       " 'totalPokes': {'timestamp': 1011805, 'value': 66},\n",
       " 'totalRewards': {'timestamp': 1011806, 'value': 49},\n",
       " 'ifDelay': {'timestamp': 1011806, 'value': 1},\n",
       " 'countPokes1': {'timestamp': 1011807, 'value': 32},\n",
       " 'countRewards1': {'timestamp': 1011807, 'value': 19},\n",
       " 'portProbs1': {'timestamp': 1011808, 'value': 50},\n",
       " 'countPokes2': {'timestamp': 1011808, 'value': 31},\n",
       " 'countRewards2': {'timestamp': 1011809, 'value': 30},\n",
       " 'portProbs2': {'timestamp': 1011830, 'value': 90},\n",
       " 'countPokes3': {'timestamp': 1011830, 'value': 3},\n",
       " 'countRewards3': {'timestamp': 1011831, 'value': 0},\n",
       " 'portProbs3': {'timestamp': 1011831, 'value': 10}}"
      ]
     },
     "metadata": {},
     "output_type": "display_data"
    },
    {
     "data": {
      "text/plain": [
       "{'contingency': {'timestamp': 1030987, 'value': 1},\n",
       " 'trialThresh': {'timestamp': 1030987, 'value': 66},\n",
       " 'totalPokes': {'timestamp': 1030988, 'value': 1},\n",
       " 'totalRewards': {'timestamp': 1030988, 'value': 0},\n",
       " 'ifDelay': {'timestamp': 1030989, 'value': 1},\n",
       " 'countPokes1': {'timestamp': 1030989, 'value': 0},\n",
       " 'countRewards1': {'timestamp': 1030990, 'value': 0},\n",
       " 'portProbs1': {'timestamp': 1030990, 'value': 50},\n",
       " 'countPokes2': {'timestamp': 1030991, 'value': 1},\n",
       " 'countRewards2': {'timestamp': 1030991, 'value': 0},\n",
       " 'portProbs2': {'timestamp': 1030992, 'value': 90},\n",
       " 'countPokes3': {'timestamp': 1031013, 'value': 0},\n",
       " 'countRewards3': {'timestamp': 1031013, 'value': 0},\n",
       " 'portProbs3': {'timestamp': 1031013, 'value': 10}}"
      ]
     },
     "metadata": {},
     "output_type": "display_data"
    },
    {
     "data": {
      "text/plain": [
       "{'contingency': {'timestamp': 1039086, 'value': 1},\n",
       " 'trialThresh': {'timestamp': 1039087, 'value': 66},\n",
       " 'totalPokes': {'timestamp': 1039087, 'value': 2},\n",
       " 'totalRewards': {'timestamp': 1039088, 'value': 1},\n",
       " 'ifDelay': {'timestamp': 1039088, 'value': 1},\n",
       " 'countPokes1': {'timestamp': 1039089, 'value': 1},\n",
       " 'countRewards1': {'timestamp': 1039089, 'value': 1},\n",
       " 'portProbs1': {'timestamp': 1039089, 'value': 50},\n",
       " 'countPokes2': {'timestamp': 1039090, 'value': 1},\n",
       " 'countRewards2': {'timestamp': 1039090, 'value': 0},\n",
       " 'portProbs2': {'timestamp': 1039091, 'value': 90},\n",
       " 'countPokes3': {'timestamp': 1039112, 'value': 0},\n",
       " 'countRewards3': {'timestamp': 1039112, 'value': 0},\n",
       " 'portProbs3': {'timestamp': 1039113, 'value': 10}}"
      ]
     },
     "metadata": {},
     "output_type": "display_data"
    },
    {
     "data": {
      "text/plain": [
       "{'contingency': {'timestamp': 1056156, 'value': 1},\n",
       " 'trialThresh': {'timestamp': 1056157, 'value': 66},\n",
       " 'totalPokes': {'timestamp': 1056157, 'value': 3},\n",
       " 'totalRewards': {'timestamp': 1056158, 'value': 2},\n",
       " 'ifDelay': {'timestamp': 1056158, 'value': 0},\n",
       " 'countPokes1': {'timestamp': 1056159, 'value': 1},\n",
       " 'countRewards1': {'timestamp': 1056159, 'value': 1},\n",
       " 'portProbs1': {'timestamp': 1056160, 'value': 50},\n",
       " 'countPokes2': {'timestamp': 1056160, 'value': 2},\n",
       " 'countRewards2': {'timestamp': 1056161, 'value': 1},\n",
       " 'portProbs2': {'timestamp': 1056161, 'value': 90},\n",
       " 'countPokes3': {'timestamp': 1056182, 'value': 0},\n",
       " 'countRewards3': {'timestamp': 1056182, 'value': 0},\n",
       " 'portProbs3': {'timestamp': 1056183, 'value': 10}}"
      ]
     },
     "metadata": {},
     "output_type": "display_data"
    },
    {
     "data": {
      "text/plain": [
       "{'contingency': {'timestamp': 1073170, 'value': 1},\n",
       " 'trialThresh': {'timestamp': 1073171, 'value': 66},\n",
       " 'totalPokes': {'timestamp': 1073171, 'value': 4},\n",
       " 'totalRewards': {'timestamp': 1073172, 'value': 3},\n",
       " 'ifDelay': {'timestamp': 1073172, 'value': 0},\n",
       " 'countPokes1': {'timestamp': 1073173, 'value': 2},\n",
       " 'countRewards1': {'timestamp': 1073173, 'value': 2},\n",
       " 'portProbs1': {'timestamp': 1073173, 'value': 50},\n",
       " 'countPokes2': {'timestamp': 1073174, 'value': 2},\n",
       " 'countRewards2': {'timestamp': 1073174, 'value': 1},\n",
       " 'portProbs2': {'timestamp': 1073195, 'value': 90},\n",
       " 'countPokes3': {'timestamp': 1073196, 'value': 0},\n",
       " 'countRewards3': {'timestamp': 1073196, 'value': 0},\n",
       " 'portProbs3': {'timestamp': 1073196, 'value': 10}}"
      ]
     },
     "metadata": {},
     "output_type": "display_data"
    },
    {
     "data": {
      "text/plain": [
       "{'contingency': {'timestamp': 1088481, 'value': 1},\n",
       " 'trialThresh': {'timestamp': 1088481, 'value': 66},\n",
       " 'totalPokes': {'timestamp': 1088482, 'value': 5},\n",
       " 'totalRewards': {'timestamp': 1088482, 'value': 4},\n",
       " 'ifDelay': {'timestamp': 1088483, 'value': 1},\n",
       " 'countPokes1': {'timestamp': 1088483, 'value': 2},\n",
       " 'countRewards1': {'timestamp': 1088484, 'value': 2},\n",
       " 'portProbs1': {'timestamp': 1088484, 'value': 50},\n",
       " 'countPokes2': {'timestamp': 1088485, 'value': 3},\n",
       " 'countRewards2': {'timestamp': 1088485, 'value': 2},\n",
       " 'portProbs2': {'timestamp': 1088486, 'value': 90},\n",
       " 'countPokes3': {'timestamp': 1088506, 'value': 0},\n",
       " 'countRewards3': {'timestamp': 1088507, 'value': 0},\n",
       " 'portProbs3': {'timestamp': 1088507, 'value': 10}}"
      ]
     },
     "metadata": {},
     "output_type": "display_data"
    },
    {
     "data": {
      "text/plain": [
       "{'contingency': {'timestamp': 1105402, 'value': 1},\n",
       " 'trialThresh': {'timestamp': 1105403, 'value': 66},\n",
       " 'totalPokes': {'timestamp': 1105403, 'value': 6},\n",
       " 'totalRewards': {'timestamp': 1105404, 'value': 5},\n",
       " 'ifDelay': {'timestamp': 1105404, 'value': 0},\n",
       " 'countPokes1': {'timestamp': 1105405, 'value': 3},\n",
       " 'countRewards1': {'timestamp': 1105405, 'value': 3},\n",
       " 'portProbs1': {'timestamp': 1105406, 'value': 50},\n",
       " 'countPokes2': {'timestamp': 1105406, 'value': 3},\n",
       " 'countRewards2': {'timestamp': 1105407, 'value': 2},\n",
       " 'portProbs2': {'timestamp': 1105427, 'value': 90},\n",
       " 'countPokes3': {'timestamp': 1105428, 'value': 0},\n",
       " 'countRewards3': {'timestamp': 1105428, 'value': 0},\n",
       " 'portProbs3': {'timestamp': 1105429, 'value': 10}}"
      ]
     },
     "metadata": {},
     "output_type": "display_data"
    },
    {
     "data": {
      "text/plain": [
       "{'contingency': {'timestamp': 1121042, 'value': 1},\n",
       " 'trialThresh': {'timestamp': 1121043, 'value': 66},\n",
       " 'totalPokes': {'timestamp': 1121043, 'value': 7},\n",
       " 'totalRewards': {'timestamp': 1121044, 'value': 6},\n",
       " 'ifDelay': {'timestamp': 1121044, 'value': 0},\n",
       " 'countPokes1': {'timestamp': 1121045, 'value': 3},\n",
       " 'countRewards1': {'timestamp': 1121045, 'value': 3},\n",
       " 'portProbs1': {'timestamp': 1121046, 'value': 50},\n",
       " 'countPokes2': {'timestamp': 1121046, 'value': 4},\n",
       " 'countRewards2': {'timestamp': 1121047, 'value': 3},\n",
       " 'portProbs2': {'timestamp': 1121047, 'value': 90},\n",
       " 'countPokes3': {'timestamp': 1121068, 'value': 0},\n",
       " 'countRewards3': {'timestamp': 1121068, 'value': 0},\n",
       " 'portProbs3': {'timestamp': 1121069, 'value': 10}}"
      ]
     },
     "metadata": {},
     "output_type": "display_data"
    },
    {
     "data": {
      "text/plain": [
       "{'contingency': {'timestamp': 1144276, 'value': 1},\n",
       " 'trialThresh': {'timestamp': 1144277, 'value': 66},\n",
       " 'totalPokes': {'timestamp': 1144277, 'value': 8},\n",
       " 'totalRewards': {'timestamp': 1144278, 'value': 6},\n",
       " 'ifDelay': {'timestamp': 1144278, 'value': 0},\n",
       " 'countPokes1': {'timestamp': 1144279, 'value': 4},\n",
       " 'countRewards1': {'timestamp': 1144279, 'value': 3},\n",
       " 'portProbs1': {'timestamp': 1144280, 'value': 50},\n",
       " 'countPokes2': {'timestamp': 1144280, 'value': 4},\n",
       " 'countRewards2': {'timestamp': 1144281, 'value': 3},\n",
       " 'portProbs2': {'timestamp': 1144281, 'value': 90},\n",
       " 'countPokes3': {'timestamp': 1144302, 'value': 0},\n",
       " 'countRewards3': {'timestamp': 1144302, 'value': 0},\n",
       " 'portProbs3': {'timestamp': 1144303, 'value': 10}}"
      ]
     },
     "metadata": {},
     "output_type": "display_data"
    },
    {
     "data": {
      "text/plain": [
       "{'contingency': {'timestamp': 1154387, 'value': 1},\n",
       " 'trialThresh': {'timestamp': 1154388, 'value': 66},\n",
       " 'totalPokes': {'timestamp': 1154388, 'value': 9},\n",
       " 'totalRewards': {'timestamp': 1154389, 'value': 7},\n",
       " 'ifDelay': {'timestamp': 1154389, 'value': 0},\n",
       " 'countPokes1': {'timestamp': 1154390, 'value': 4},\n",
       " 'countRewards1': {'timestamp': 1154390, 'value': 3},\n",
       " 'portProbs1': {'timestamp': 1154391, 'value': 50},\n",
       " 'countPokes2': {'timestamp': 1154391, 'value': 5},\n",
       " 'countRewards2': {'timestamp': 1154392, 'value': 4},\n",
       " 'portProbs2': {'timestamp': 1154392, 'value': 90},\n",
       " 'countPokes3': {'timestamp': 1154413, 'value': 0},\n",
       " 'countRewards3': {'timestamp': 1154414, 'value': 0},\n",
       " 'portProbs3': {'timestamp': 1154414, 'value': 10}}"
      ]
     },
     "metadata": {},
     "output_type": "display_data"
    },
    {
     "data": {
      "text/plain": [
       "{'contingency': {'timestamp': 1171183, 'value': 1},\n",
       " 'trialThresh': {'timestamp': 1171183, 'value': 66},\n",
       " 'totalPokes': {'timestamp': 1171184, 'value': 10},\n",
       " 'totalRewards': {'timestamp': 1171184, 'value': 7},\n",
       " 'ifDelay': {'timestamp': 1171184, 'value': 0},\n",
       " 'countPokes1': {'timestamp': 1171185, 'value': 5},\n",
       " 'countRewards1': {'timestamp': 1171185, 'value': 3},\n",
       " 'portProbs1': {'timestamp': 1171186, 'value': 50},\n",
       " 'countPokes2': {'timestamp': 1171186, 'value': 5},\n",
       " 'countRewards2': {'timestamp': 1171187, 'value': 4},\n",
       " 'portProbs2': {'timestamp': 1171187, 'value': 90},\n",
       " 'countPokes3': {'timestamp': 1171208, 'value': 0},\n",
       " 'countRewards3': {'timestamp': 1171209, 'value': 0},\n",
       " 'portProbs3': {'timestamp': 1171209, 'value': 10}}"
      ]
     },
     "metadata": {},
     "output_type": "display_data"
    },
    {
     "data": {
      "text/plain": [
       "{'contingency': {'timestamp': 1177854, 'value': 1},\n",
       " 'trialThresh': {'timestamp': 1177855, 'value': 66},\n",
       " 'totalPokes': {'timestamp': 1177855, 'value': 11},\n",
       " 'totalRewards': {'timestamp': 1177856, 'value': 8},\n",
       " 'ifDelay': {'timestamp': 1177856, 'value': 0},\n",
       " 'countPokes1': {'timestamp': 1177857, 'value': 5},\n",
       " 'countRewards1': {'timestamp': 1177857, 'value': 3},\n",
       " 'portProbs1': {'timestamp': 1177858, 'value': 50},\n",
       " 'countPokes2': {'timestamp': 1177858, 'value': 6},\n",
       " 'countRewards2': {'timestamp': 1177859, 'value': 5},\n",
       " 'portProbs2': {'timestamp': 1177880, 'value': 90},\n",
       " 'countPokes3': {'timestamp': 1177880, 'value': 0},\n",
       " 'countRewards3': {'timestamp': 1177881, 'value': 0},\n",
       " 'portProbs3': {'timestamp': 1177881, 'value': 10}}"
      ]
     },
     "metadata": {},
     "output_type": "display_data"
    },
    {
     "data": {
      "text/plain": [
       "{'contingency': {'timestamp': 1198535, 'value': 1},\n",
       " 'trialThresh': {'timestamp': 1198535, 'value': 66},\n",
       " 'totalPokes': {'timestamp': 1198536, 'value': 12},\n",
       " 'totalRewards': {'timestamp': 1198536, 'value': 8},\n",
       " 'ifDelay': {'timestamp': 1198537, 'value': 1},\n",
       " 'countPokes1': {'timestamp': 1198537, 'value': 6},\n",
       " 'countRewards1': {'timestamp': 1198538, 'value': 3},\n",
       " 'portProbs1': {'timestamp': 1198538, 'value': 50},\n",
       " 'countPokes2': {'timestamp': 1198539, 'value': 6},\n",
       " 'countRewards2': {'timestamp': 1198539, 'value': 5},\n",
       " 'portProbs2': {'timestamp': 1198540, 'value': 90},\n",
       " 'countPokes3': {'timestamp': 1198561, 'value': 0},\n",
       " 'countRewards3': {'timestamp': 1198561, 'value': 0},\n",
       " 'portProbs3': {'timestamp': 1198562, 'value': 10}}"
      ]
     },
     "metadata": {},
     "output_type": "display_data"
    },
    {
     "data": {
      "text/plain": [
       "{'contingency': {'timestamp': 1204754, 'value': 1},\n",
       " 'trialThresh': {'timestamp': 1204754, 'value': 66},\n",
       " 'totalPokes': {'timestamp': 1204755, 'value': 13},\n",
       " 'totalRewards': {'timestamp': 1204755, 'value': 9},\n",
       " 'ifDelay': {'timestamp': 1204756, 'value': 1},\n",
       " 'countPokes1': {'timestamp': 1204756, 'value': 6},\n",
       " 'countRewards1': {'timestamp': 1204757, 'value': 3},\n",
       " 'portProbs1': {'timestamp': 1204757, 'value': 50},\n",
       " 'countPokes2': {'timestamp': 1204758, 'value': 7},\n",
       " 'countRewards2': {'timestamp': 1204758, 'value': 6},\n",
       " 'portProbs2': {'timestamp': 1204758, 'value': 90},\n",
       " 'countPokes3': {'timestamp': 1204779, 'value': 0},\n",
       " 'countRewards3': {'timestamp': 1204780, 'value': 0},\n",
       " 'portProbs3': {'timestamp': 1204780, 'value': 10}}"
      ]
     },
     "metadata": {},
     "output_type": "display_data"
    },
    {
     "data": {
      "text/plain": [
       "{'contingency': {'timestamp': 1224799, 'value': 1},\n",
       " 'trialThresh': {'timestamp': 1224799, 'value': 66},\n",
       " 'totalPokes': {'timestamp': 1224800, 'value': 14},\n",
       " 'totalRewards': {'timestamp': 1224800, 'value': 10},\n",
       " 'ifDelay': {'timestamp': 1224801, 'value': 0},\n",
       " 'countPokes1': {'timestamp': 1224801, 'value': 7},\n",
       " 'countRewards1': {'timestamp': 1224802, 'value': 4},\n",
       " 'portProbs1': {'timestamp': 1224802, 'value': 50},\n",
       " 'countPokes2': {'timestamp': 1224803, 'value': 7},\n",
       " 'countRewards2': {'timestamp': 1224803, 'value': 6},\n",
       " 'portProbs2': {'timestamp': 1224804, 'value': 90},\n",
       " 'countPokes3': {'timestamp': 1224825, 'value': 0},\n",
       " 'countRewards3': {'timestamp': 1224825, 'value': 0},\n",
       " 'portProbs3': {'timestamp': 1224826, 'value': 10}}"
      ]
     },
     "metadata": {},
     "output_type": "display_data"
    },
    {
     "data": {
      "text/plain": [
       "{'contingency': {'timestamp': 1239293, 'value': 1},\n",
       " 'trialThresh': {'timestamp': 1239294, 'value': 66},\n",
       " 'totalPokes': {'timestamp': 1239294, 'value': 15},\n",
       " 'totalRewards': {'timestamp': 1239295, 'value': 11},\n",
       " 'ifDelay': {'timestamp': 1239295, 'value': 0},\n",
       " 'countPokes1': {'timestamp': 1239296, 'value': 7},\n",
       " 'countRewards1': {'timestamp': 1239296, 'value': 4},\n",
       " 'portProbs1': {'timestamp': 1239297, 'value': 50},\n",
       " 'countPokes2': {'timestamp': 1239297, 'value': 8},\n",
       " 'countRewards2': {'timestamp': 1239298, 'value': 7},\n",
       " 'portProbs2': {'timestamp': 1239318, 'value': 90},\n",
       " 'countPokes3': {'timestamp': 1239319, 'value': 0},\n",
       " 'countRewards3': {'timestamp': 1239319, 'value': 0},\n",
       " 'portProbs3': {'timestamp': 1239320, 'value': 10}}"
      ]
     },
     "metadata": {},
     "output_type": "display_data"
    },
    {
     "data": {
      "text/plain": [
       "{'contingency': {'timestamp': 1258021, 'value': 1},\n",
       " 'trialThresh': {'timestamp': 1258021, 'value': 66},\n",
       " 'totalPokes': {'timestamp': 1258022, 'value': 16},\n",
       " 'totalRewards': {'timestamp': 1258022, 'value': 11},\n",
       " 'ifDelay': {'timestamp': 1258023, 'value': 0},\n",
       " 'countPokes1': {'timestamp': 1258023, 'value': 8},\n",
       " 'countRewards1': {'timestamp': 1258023, 'value': 4},\n",
       " 'portProbs1': {'timestamp': 1258024, 'value': 50},\n",
       " 'countPokes2': {'timestamp': 1258024, 'value': 8},\n",
       " 'countRewards2': {'timestamp': 1258025, 'value': 7},\n",
       " 'portProbs2': {'timestamp': 1258025, 'value': 90},\n",
       " 'countPokes3': {'timestamp': 1258046, 'value': 0},\n",
       " 'countRewards3': {'timestamp': 1258047, 'value': 0},\n",
       " 'portProbs3': {'timestamp': 1258047, 'value': 10}}"
      ]
     },
     "metadata": {},
     "output_type": "display_data"
    },
    {
     "data": {
      "text/plain": [
       "{'contingency': {'timestamp': 1264854, 'value': 1},\n",
       " 'trialThresh': {'timestamp': 1264854, 'value': 66},\n",
       " 'totalPokes': {'timestamp': 1264855, 'value': 17},\n",
       " 'totalRewards': {'timestamp': 1264855, 'value': 12},\n",
       " 'ifDelay': {'timestamp': 1264856, 'value': 0},\n",
       " 'countPokes1': {'timestamp': 1264856, 'value': 8},\n",
       " 'countRewards1': {'timestamp': 1264857, 'value': 4},\n",
       " 'portProbs1': {'timestamp': 1264857, 'value': 50},\n",
       " 'countPokes2': {'timestamp': 1264858, 'value': 9},\n",
       " 'countRewards2': {'timestamp': 1264858, 'value': 8},\n",
       " 'portProbs2': {'timestamp': 1264859, 'value': 90},\n",
       " 'countPokes3': {'timestamp': 1264880, 'value': 0},\n",
       " 'countRewards3': {'timestamp': 1264880, 'value': 0},\n",
       " 'portProbs3': {'timestamp': 1264881, 'value': 10}}"
      ]
     },
     "metadata": {},
     "output_type": "display_data"
    },
    {
     "data": {
      "text/plain": [
       "{'contingency': {'timestamp': 1284784, 'value': 1},\n",
       " 'trialThresh': {'timestamp': 1284785, 'value': 66},\n",
       " 'totalPokes': {'timestamp': 1284785, 'value': 18},\n",
       " 'totalRewards': {'timestamp': 1284786, 'value': 12},\n",
       " 'ifDelay': {'timestamp': 1284786, 'value': 1},\n",
       " 'countPokes1': {'timestamp': 1284787, 'value': 9},\n",
       " 'countRewards1': {'timestamp': 1284787, 'value': 4},\n",
       " 'portProbs1': {'timestamp': 1284788, 'value': 50},\n",
       " 'countPokes2': {'timestamp': 1284788, 'value': 9},\n",
       " 'countRewards2': {'timestamp': 1284789, 'value': 8},\n",
       " 'portProbs2': {'timestamp': 1284789, 'value': 90},\n",
       " 'countPokes3': {'timestamp': 1284810, 'value': 0},\n",
       " 'countRewards3': {'timestamp': 1284811, 'value': 0},\n",
       " 'portProbs3': {'timestamp': 1284811, 'value': 10}}"
      ]
     },
     "metadata": {},
     "output_type": "display_data"
    },
    {
     "data": {
      "text/plain": [
       "{'contingency': {'timestamp': 1290926, 'value': 1},\n",
       " 'trialThresh': {'timestamp': 1290926, 'value': 66},\n",
       " 'totalPokes': {'timestamp': 1290927, 'value': 19},\n",
       " 'totalRewards': {'timestamp': 1290927, 'value': 13},\n",
       " 'ifDelay': {'timestamp': 1290928, 'value': 1},\n",
       " 'countPokes1': {'timestamp': 1290928, 'value': 9},\n",
       " 'countRewards1': {'timestamp': 1290929, 'value': 4},\n",
       " 'portProbs1': {'timestamp': 1290929, 'value': 50},\n",
       " 'countPokes2': {'timestamp': 1290930, 'value': 10},\n",
       " 'countRewards2': {'timestamp': 1290930, 'value': 9},\n",
       " 'portProbs2': {'timestamp': 1290931, 'value': 90},\n",
       " 'countPokes3': {'timestamp': 1290952, 'value': 0},\n",
       " 'countRewards3': {'timestamp': 1290952, 'value': 0},\n",
       " 'portProbs3': {'timestamp': 1290953, 'value': 10}}"
      ]
     },
     "metadata": {},
     "output_type": "display_data"
    },
    {
     "data": {
      "text/plain": [
       "{'contingency': {'timestamp': 1309810, 'value': 1},\n",
       " 'trialThresh': {'timestamp': 1309811, 'value': 66},\n",
       " 'totalPokes': {'timestamp': 1309811, 'value': 20},\n",
       " 'totalRewards': {'timestamp': 1309812, 'value': 14},\n",
       " 'ifDelay': {'timestamp': 1309812, 'value': 1},\n",
       " 'countPokes1': {'timestamp': 1309813, 'value': 10},\n",
       " 'countRewards1': {'timestamp': 1309813, 'value': 5},\n",
       " 'portProbs1': {'timestamp': 1309814, 'value': 50},\n",
       " 'countPokes2': {'timestamp': 1309814, 'value': 10},\n",
       " 'countRewards2': {'timestamp': 1309815, 'value': 9},\n",
       " 'portProbs2': {'timestamp': 1309815, 'value': 90},\n",
       " 'countPokes3': {'timestamp': 1309836, 'value': 0},\n",
       " 'countRewards3': {'timestamp': 1309837, 'value': 0},\n",
       " 'portProbs3': {'timestamp': 1309837, 'value': 10}}"
      ]
     },
     "metadata": {},
     "output_type": "display_data"
    },
    {
     "data": {
      "text/plain": [
       "{'contingency': {'timestamp': 1331634, 'value': 1},\n",
       " 'trialThresh': {'timestamp': 1331635, 'value': 66},\n",
       " 'totalPokes': {'timestamp': 1331635, 'value': 21},\n",
       " 'totalRewards': {'timestamp': 1331636, 'value': 15},\n",
       " 'ifDelay': {'timestamp': 1331636, 'value': 0},\n",
       " 'countPokes1': {'timestamp': 1331637, 'value': 10},\n",
       " 'countRewards1': {'timestamp': 1331637, 'value': 5},\n",
       " 'portProbs1': {'timestamp': 1331638, 'value': 50},\n",
       " 'countPokes2': {'timestamp': 1331638, 'value': 11},\n",
       " 'countRewards2': {'timestamp': 1331639, 'value': 10},\n",
       " 'portProbs2': {'timestamp': 1331639, 'value': 90},\n",
       " 'countPokes3': {'timestamp': 1331660, 'value': 0},\n",
       " 'countRewards3': {'timestamp': 1331661, 'value': 0},\n",
       " 'portProbs3': {'timestamp': 1331661, 'value': 10}}"
      ]
     },
     "metadata": {},
     "output_type": "display_data"
    },
    {
     "data": {
      "text/plain": [
       "{'contingency': {'timestamp': 1349738, 'value': 1},\n",
       " 'trialThresh': {'timestamp': 1349739, 'value': 66},\n",
       " 'totalPokes': {'timestamp': 1349739, 'value': 22},\n",
       " 'totalRewards': {'timestamp': 1349740, 'value': 16},\n",
       " 'ifDelay': {'timestamp': 1349740, 'value': 1},\n",
       " 'countPokes1': {'timestamp': 1349741, 'value': 11},\n",
       " 'countRewards1': {'timestamp': 1349741, 'value': 6},\n",
       " 'portProbs1': {'timestamp': 1349742, 'value': 50},\n",
       " 'countPokes2': {'timestamp': 1349742, 'value': 11},\n",
       " 'countRewards2': {'timestamp': 1349743, 'value': 10},\n",
       " 'portProbs2': {'timestamp': 1349743, 'value': 90},\n",
       " 'countPokes3': {'timestamp': 1349764, 'value': 0},\n",
       " 'countRewards3': {'timestamp': 1349765, 'value': 0},\n",
       " 'portProbs3': {'timestamp': 1349765, 'value': 10}}"
      ]
     },
     "metadata": {},
     "output_type": "display_data"
    },
    {
     "data": {
      "text/plain": [
       "{'contingency': {'timestamp': 1365549, 'value': 1},\n",
       " 'trialThresh': {'timestamp': 1365549, 'value': 66},\n",
       " 'totalPokes': {'timestamp': 1365550, 'value': 23},\n",
       " 'totalRewards': {'timestamp': 1365550, 'value': 16},\n",
       " 'ifDelay': {'timestamp': 1365551, 'value': 1},\n",
       " 'countPokes1': {'timestamp': 1365551, 'value': 11},\n",
       " 'countRewards1': {'timestamp': 1365552, 'value': 6},\n",
       " 'portProbs1': {'timestamp': 1365552, 'value': 50},\n",
       " 'countPokes2': {'timestamp': 1365553, 'value': 12},\n",
       " 'countRewards2': {'timestamp': 1365553, 'value': 10},\n",
       " 'portProbs2': {'timestamp': 1365554, 'value': 90},\n",
       " 'countPokes3': {'timestamp': 1365575, 'value': 0},\n",
       " 'countRewards3': {'timestamp': 1365575, 'value': 0},\n",
       " 'portProbs3': {'timestamp': 1365576, 'value': 10}}"
      ]
     },
     "metadata": {},
     "output_type": "display_data"
    },
    {
     "data": {
      "text/plain": [
       "{'contingency': {'timestamp': 1373409, 'value': 1},\n",
       " 'trialThresh': {'timestamp': 1373409, 'value': 66},\n",
       " 'totalPokes': {'timestamp': 1373410, 'value': 24},\n",
       " 'totalRewards': {'timestamp': 1373410, 'value': 17},\n",
       " 'ifDelay': {'timestamp': 1373411, 'value': 1},\n",
       " 'countPokes1': {'timestamp': 1373411, 'value': 12},\n",
       " 'countRewards1': {'timestamp': 1373412, 'value': 7},\n",
       " 'portProbs1': {'timestamp': 1373412, 'value': 50},\n",
       " 'countPokes2': {'timestamp': 1373413, 'value': 12},\n",
       " 'countRewards2': {'timestamp': 1373413, 'value': 10},\n",
       " 'portProbs2': {'timestamp': 1373414, 'value': 90},\n",
       " 'countPokes3': {'timestamp': 1373435, 'value': 0},\n",
       " 'countRewards3': {'timestamp': 1373435, 'value': 0},\n",
       " 'portProbs3': {'timestamp': 1373436, 'value': 10}}"
      ]
     },
     "metadata": {},
     "output_type": "display_data"
    },
    {
     "data": {
      "text/plain": [
       "{'contingency': {'timestamp': 1390046, 'value': 1},\n",
       " 'trialThresh': {'timestamp': 1390046, 'value': 66},\n",
       " 'totalPokes': {'timestamp': 1390047, 'value': 25},\n",
       " 'totalRewards': {'timestamp': 1390047, 'value': 18},\n",
       " 'ifDelay': {'timestamp': 1390048, 'value': 0},\n",
       " 'countPokes1': {'timestamp': 1390048, 'value': 12},\n",
       " 'countRewards1': {'timestamp': 1390049, 'value': 7},\n",
       " 'portProbs1': {'timestamp': 1390049, 'value': 50},\n",
       " 'countPokes2': {'timestamp': 1390050, 'value': 13},\n",
       " 'countRewards2': {'timestamp': 1390050, 'value': 11},\n",
       " 'portProbs2': {'timestamp': 1390051, 'value': 90},\n",
       " 'countPokes3': {'timestamp': 1390072, 'value': 0},\n",
       " 'countRewards3': {'timestamp': 1390072, 'value': 0},\n",
       " 'portProbs3': {'timestamp': 1390073, 'value': 10}}"
      ]
     },
     "metadata": {},
     "output_type": "display_data"
    },
    {
     "data": {
      "text/plain": [
       "{'contingency': {'timestamp': 1427785, 'value': 1},\n",
       " 'trialThresh': {'timestamp': 1427786, 'value': 66},\n",
       " 'totalPokes': {'timestamp': 1427786, 'value': 26},\n",
       " 'totalRewards': {'timestamp': 1427787, 'value': 18},\n",
       " 'ifDelay': {'timestamp': 1427787, 'value': 1},\n",
       " 'countPokes1': {'timestamp': 1427788, 'value': 13},\n",
       " 'countRewards1': {'timestamp': 1427788, 'value': 7},\n",
       " 'portProbs1': {'timestamp': 1427789, 'value': 50},\n",
       " 'countPokes2': {'timestamp': 1427789, 'value': 13},\n",
       " 'countRewards2': {'timestamp': 1427790, 'value': 11},\n",
       " 'portProbs2': {'timestamp': 1427790, 'value': 90},\n",
       " 'countPokes3': {'timestamp': 1427811, 'value': 0},\n",
       " 'countRewards3': {'timestamp': 1427812, 'value': 0},\n",
       " 'portProbs3': {'timestamp': 1427812, 'value': 10}}"
      ]
     },
     "metadata": {},
     "output_type": "display_data"
    },
    {
     "data": {
      "text/plain": [
       "{'contingency': {'timestamp': 1459154, 'value': 1},\n",
       " 'trialThresh': {'timestamp': 1459155, 'value': 66},\n",
       " 'totalPokes': {'timestamp': 1459155, 'value': 27},\n",
       " 'totalRewards': {'timestamp': 1459156, 'value': 18},\n",
       " 'ifDelay': {'timestamp': 1459156, 'value': 1},\n",
       " 'countPokes1': {'timestamp': 1459157, 'value': 13},\n",
       " 'countRewards1': {'timestamp': 1459157, 'value': 7},\n",
       " 'portProbs1': {'timestamp': 1459158, 'value': 50},\n",
       " 'countPokes2': {'timestamp': 1459158, 'value': 13},\n",
       " 'countRewards2': {'timestamp': 1459159, 'value': 11},\n",
       " 'portProbs2': {'timestamp': 1459159, 'value': 90},\n",
       " 'countPokes3': {'timestamp': 1459180, 'value': 1},\n",
       " 'countRewards3': {'timestamp': 1459181, 'value': 0},\n",
       " 'portProbs3': {'timestamp': 1459181, 'value': 10}}"
      ]
     },
     "metadata": {},
     "output_type": "display_data"
    },
    {
     "data": {
      "text/plain": [
       "{'contingency': {'timestamp': 1465983, 'value': 1},\n",
       " 'trialThresh': {'timestamp': 1465983, 'value': 66},\n",
       " 'totalPokes': {'timestamp': 1465984, 'value': 28},\n",
       " 'totalRewards': {'timestamp': 1465984, 'value': 18},\n",
       " 'ifDelay': {'timestamp': 1465985, 'value': 1},\n",
       " 'countPokes1': {'timestamp': 1465985, 'value': 14},\n",
       " 'countRewards1': {'timestamp': 1465986, 'value': 7},\n",
       " 'portProbs1': {'timestamp': 1465986, 'value': 50},\n",
       " 'countPokes2': {'timestamp': 1465987, 'value': 13},\n",
       " 'countRewards2': {'timestamp': 1465987, 'value': 11},\n",
       " 'portProbs2': {'timestamp': 1465988, 'value': 90},\n",
       " 'countPokes3': {'timestamp': 1466009, 'value': 1},\n",
       " 'countRewards3': {'timestamp': 1466009, 'value': 0},\n",
       " 'portProbs3': {'timestamp': 1466010, 'value': 10}}"
      ]
     },
     "metadata": {},
     "output_type": "display_data"
    },
    {
     "data": {
      "text/plain": [
       "{'contingency': {'timestamp': 1482963, 'value': 1},\n",
       " 'trialThresh': {'timestamp': 1482963, 'value': 66},\n",
       " 'totalPokes': {'timestamp': 1482964, 'value': 29},\n",
       " 'totalRewards': {'timestamp': 1482964, 'value': 18},\n",
       " 'ifDelay': {'timestamp': 1482965, 'value': 1},\n",
       " 'countPokes1': {'timestamp': 1482965, 'value': 14},\n",
       " 'countRewards1': {'timestamp': 1482966, 'value': 7},\n",
       " 'portProbs1': {'timestamp': 1482966, 'value': 50},\n",
       " 'countPokes2': {'timestamp': 1482967, 'value': 14},\n",
       " 'countRewards2': {'timestamp': 1482967, 'value': 11},\n",
       " 'portProbs2': {'timestamp': 1482968, 'value': 90},\n",
       " 'countPokes3': {'timestamp': 1482989, 'value': 1},\n",
       " 'countRewards3': {'timestamp': 1482990, 'value': 0},\n",
       " 'portProbs3': {'timestamp': 1482990, 'value': 10}}"
      ]
     },
     "metadata": {},
     "output_type": "display_data"
    },
    {
     "data": {
      "text/plain": [
       "{'contingency': {'timestamp': 1490945, 'value': 1},\n",
       " 'trialThresh': {'timestamp': 1490945, 'value': 66},\n",
       " 'totalPokes': {'timestamp': 1490946, 'value': 30},\n",
       " 'totalRewards': {'timestamp': 1490946, 'value': 19},\n",
       " 'ifDelay': {'timestamp': 1490947, 'value': 1},\n",
       " 'countPokes1': {'timestamp': 1490947, 'value': 15},\n",
       " 'countRewards1': {'timestamp': 1490948, 'value': 8},\n",
       " 'portProbs1': {'timestamp': 1490948, 'value': 50},\n",
       " 'countPokes2': {'timestamp': 1490949, 'value': 14},\n",
       " 'countRewards2': {'timestamp': 1490949, 'value': 11},\n",
       " 'portProbs2': {'timestamp': 1490950, 'value': 90},\n",
       " 'countPokes3': {'timestamp': 1490971, 'value': 1},\n",
       " 'countRewards3': {'timestamp': 1490971, 'value': 0},\n",
       " 'portProbs3': {'timestamp': 1490972, 'value': 10}}"
      ]
     },
     "metadata": {},
     "output_type": "display_data"
    },
    {
     "data": {
      "text/plain": [
       "{'contingency': {'timestamp': 1510127, 'value': 1},\n",
       " 'trialThresh': {'timestamp': 1510127, 'value': 66},\n",
       " 'totalPokes': {'timestamp': 1510128, 'value': 31},\n",
       " 'totalRewards': {'timestamp': 1510128, 'value': 20},\n",
       " 'ifDelay': {'timestamp': 1510129, 'value': 0},\n",
       " 'countPokes1': {'timestamp': 1510129, 'value': 15},\n",
       " 'countRewards1': {'timestamp': 1510130, 'value': 8},\n",
       " 'portProbs1': {'timestamp': 1510130, 'value': 50},\n",
       " 'countPokes2': {'timestamp': 1510131, 'value': 15},\n",
       " 'countRewards2': {'timestamp': 1510131, 'value': 12},\n",
       " 'portProbs2': {'timestamp': 1510132, 'value': 90},\n",
       " 'countPokes3': {'timestamp': 1510153, 'value': 1},\n",
       " 'countRewards3': {'timestamp': 1510154, 'value': 0},\n",
       " 'portProbs3': {'timestamp': 1510154, 'value': 10}}"
      ]
     },
     "metadata": {},
     "output_type": "display_data"
    },
    {
     "data": {
      "text/plain": [
       "{'contingency': {'timestamp': 1529820, 'value': 1},\n",
       " 'trialThresh': {'timestamp': 1529820, 'value': 66},\n",
       " 'totalPokes': {'timestamp': 1529821, 'value': 32},\n",
       " 'totalRewards': {'timestamp': 1529821, 'value': 20},\n",
       " 'ifDelay': {'timestamp': 1529822, 'value': 1},\n",
       " 'countPokes1': {'timestamp': 1529822, 'value': 16},\n",
       " 'countRewards1': {'timestamp': 1529823, 'value': 8},\n",
       " 'portProbs1': {'timestamp': 1529823, 'value': 50},\n",
       " 'countPokes2': {'timestamp': 1529824, 'value': 15},\n",
       " 'countRewards2': {'timestamp': 1529824, 'value': 12},\n",
       " 'portProbs2': {'timestamp': 1529825, 'value': 90},\n",
       " 'countPokes3': {'timestamp': 1529846, 'value': 1},\n",
       " 'countRewards3': {'timestamp': 1529846, 'value': 0},\n",
       " 'portProbs3': {'timestamp': 1529847, 'value': 10}}"
      ]
     },
     "metadata": {},
     "output_type": "display_data"
    },
    {
     "data": {
      "text/plain": [
       "{'contingency': {'timestamp': 1536380, 'value': 1},\n",
       " 'trialThresh': {'timestamp': 1536381, 'value': 66},\n",
       " 'totalPokes': {'timestamp': 1536381, 'value': 33},\n",
       " 'totalRewards': {'timestamp': 1536382, 'value': 21},\n",
       " 'ifDelay': {'timestamp': 1536382, 'value': 1},\n",
       " 'countPokes1': {'timestamp': 1536383, 'value': 16},\n",
       " 'countRewards1': {'timestamp': 1536383, 'value': 8},\n",
       " 'portProbs1': {'timestamp': 1536384, 'value': 50},\n",
       " 'countPokes2': {'timestamp': 1536384, 'value': 16},\n",
       " 'countRewards2': {'timestamp': 1536385, 'value': 13},\n",
       " 'portProbs2': {'timestamp': 1536385, 'value': 90},\n",
       " 'countPokes3': {'timestamp': 1536406, 'value': 1},\n",
       " 'countRewards3': {'timestamp': 1536407, 'value': 0},\n",
       " 'portProbs3': {'timestamp': 1536407, 'value': 10}}"
      ]
     },
     "metadata": {},
     "output_type": "display_data"
    },
    {
     "data": {
      "text/plain": [
       "{'contingency': {'timestamp': 1554554, 'value': 1},\n",
       " 'trialThresh': {'timestamp': 1554555, 'value': 66},\n",
       " 'totalPokes': {'timestamp': 1554555, 'value': 34},\n",
       " 'totalRewards': {'timestamp': 1554556, 'value': 21},\n",
       " 'ifDelay': {'timestamp': 1554556, 'value': 1},\n",
       " 'countPokes1': {'timestamp': 1554557, 'value': 17},\n",
       " 'countRewards1': {'timestamp': 1554557, 'value': 8},\n",
       " 'portProbs1': {'timestamp': 1554558, 'value': 50},\n",
       " 'countPokes2': {'timestamp': 1554558, 'value': 16},\n",
       " 'countRewards2': {'timestamp': 1554559, 'value': 13},\n",
       " 'portProbs2': {'timestamp': 1554559, 'value': 90},\n",
       " 'countPokes3': {'timestamp': 1554581, 'value': 1},\n",
       " 'countRewards3': {'timestamp': 1554581, 'value': 0},\n",
       " 'portProbs3': {'timestamp': 1554581, 'value': 10}}"
      ]
     },
     "metadata": {},
     "output_type": "display_data"
    },
    {
     "data": {
      "text/plain": [
       "{'contingency': {'timestamp': 1560985, 'value': 1},\n",
       " 'trialThresh': {'timestamp': 1560986, 'value': 66},\n",
       " 'totalPokes': {'timestamp': 1560986, 'value': 35},\n",
       " 'totalRewards': {'timestamp': 1560987, 'value': 22},\n",
       " 'ifDelay': {'timestamp': 1560987, 'value': 1},\n",
       " 'countPokes1': {'timestamp': 1560988, 'value': 17},\n",
       " 'countRewards1': {'timestamp': 1560988, 'value': 8},\n",
       " 'portProbs1': {'timestamp': 1560989, 'value': 50},\n",
       " 'countPokes2': {'timestamp': 1560989, 'value': 17},\n",
       " 'countRewards2': {'timestamp': 1560990, 'value': 14},\n",
       " 'portProbs2': {'timestamp': 1560990, 'value': 90},\n",
       " 'countPokes3': {'timestamp': 1561011, 'value': 1},\n",
       " 'countRewards3': {'timestamp': 1561012, 'value': 0},\n",
       " 'portProbs3': {'timestamp': 1561012, 'value': 10}}"
      ]
     },
     "metadata": {},
     "output_type": "display_data"
    },
    {
     "data": {
      "text/plain": [
       "{'contingency': {'timestamp': 1577703, 'value': 1},\n",
       " 'trialThresh': {'timestamp': 1577703, 'value': 66},\n",
       " 'totalPokes': {'timestamp': 1577704, 'value': 36},\n",
       " 'totalRewards': {'timestamp': 1577704, 'value': 22},\n",
       " 'ifDelay': {'timestamp': 1577705, 'value': 1},\n",
       " 'countPokes1': {'timestamp': 1577705, 'value': 18},\n",
       " 'countRewards1': {'timestamp': 1577706, 'value': 8},\n",
       " 'portProbs1': {'timestamp': 1577706, 'value': 50},\n",
       " 'countPokes2': {'timestamp': 1577707, 'value': 17},\n",
       " 'countRewards2': {'timestamp': 1577707, 'value': 14},\n",
       " 'portProbs2': {'timestamp': 1577708, 'value': 90},\n",
       " 'countPokes3': {'timestamp': 1577729, 'value': 1},\n",
       " 'countRewards3': {'timestamp': 1577730, 'value': 0},\n",
       " 'portProbs3': {'timestamp': 1577730, 'value': 10}}"
      ]
     },
     "metadata": {},
     "output_type": "display_data"
    },
    {
     "data": {
      "text/plain": [
       "{'contingency': {'timestamp': 1584294, 'value': 1},\n",
       " 'trialThresh': {'timestamp': 1584294, 'value': 66},\n",
       " 'totalPokes': {'timestamp': 1584295, 'value': 37},\n",
       " 'totalRewards': {'timestamp': 1584295, 'value': 23},\n",
       " 'ifDelay': {'timestamp': 1584296, 'value': 1},\n",
       " 'countPokes1': {'timestamp': 1584296, 'value': 18},\n",
       " 'countRewards1': {'timestamp': 1584297, 'value': 8},\n",
       " 'portProbs1': {'timestamp': 1584297, 'value': 50},\n",
       " 'countPokes2': {'timestamp': 1584298, 'value': 18},\n",
       " 'countRewards2': {'timestamp': 1584298, 'value': 15},\n",
       " 'portProbs2': {'timestamp': 1584299, 'value': 90},\n",
       " 'countPokes3': {'timestamp': 1584320, 'value': 1},\n",
       " 'countRewards3': {'timestamp': 1584320, 'value': 0},\n",
       " 'portProbs3': {'timestamp': 1584321, 'value': 10}}"
      ]
     },
     "metadata": {},
     "output_type": "display_data"
    },
    {
     "data": {
      "text/plain": [
       "{'contingency': {'timestamp': 1637037, 'value': 1},\n",
       " 'trialThresh': {'timestamp': 1637038, 'value': 66},\n",
       " 'totalPokes': {'timestamp': 1637038, 'value': 38},\n",
       " 'totalRewards': {'timestamp': 1637039, 'value': 24},\n",
       " 'ifDelay': {'timestamp': 1637039, 'value': 0},\n",
       " 'countPokes1': {'timestamp': 1637040, 'value': 19},\n",
       " 'countRewards1': {'timestamp': 1637040, 'value': 9},\n",
       " 'portProbs1': {'timestamp': 1637041, 'value': 50},\n",
       " 'countPokes2': {'timestamp': 1637041, 'value': 18},\n",
       " 'countRewards2': {'timestamp': 1637042, 'value': 15},\n",
       " 'portProbs2': {'timestamp': 1637042, 'value': 90},\n",
       " 'countPokes3': {'timestamp': 1637064, 'value': 1},\n",
       " 'countRewards3': {'timestamp': 1637064, 'value': 0},\n",
       " 'portProbs3': {'timestamp': 1637065, 'value': 10}}"
      ]
     },
     "metadata": {},
     "output_type": "display_data"
    },
    {
     "data": {
      "text/plain": [
       "{'contingency': {'timestamp': 1654349, 'value': 1},\n",
       " 'trialThresh': {'timestamp': 1654350, 'value': 66},\n",
       " 'totalPokes': {'timestamp': 1654350, 'value': 39},\n",
       " 'totalRewards': {'timestamp': 1654351, 'value': 25},\n",
       " 'ifDelay': {'timestamp': 1654351, 'value': 0},\n",
       " 'countPokes1': {'timestamp': 1654352, 'value': 19},\n",
       " 'countRewards1': {'timestamp': 1654352, 'value': 9},\n",
       " 'portProbs1': {'timestamp': 1654353, 'value': 50},\n",
       " 'countPokes2': {'timestamp': 1654353, 'value': 19},\n",
       " 'countRewards2': {'timestamp': 1654374, 'value': 16},\n",
       " 'portProbs2': {'timestamp': 1654375, 'value': 90},\n",
       " 'countPokes3': {'timestamp': 1654375, 'value': 1},\n",
       " 'countRewards3': {'timestamp': 1654376, 'value': 0},\n",
       " 'portProbs3': {'timestamp': 1654376, 'value': 10}}"
      ]
     },
     "metadata": {},
     "output_type": "display_data"
    },
    {
     "data": {
      "text/plain": [
       "{'contingency': {'timestamp': 1677899, 'value': 1},\n",
       " 'trialThresh': {'timestamp': 1677900, 'value': 66},\n",
       " 'totalPokes': {'timestamp': 1677900, 'value': 40},\n",
       " 'totalRewards': {'timestamp': 1677901, 'value': 25},\n",
       " 'ifDelay': {'timestamp': 1677901, 'value': 1},\n",
       " 'countPokes1': {'timestamp': 1677902, 'value': 20},\n",
       " 'countRewards1': {'timestamp': 1677902, 'value': 9},\n",
       " 'portProbs1': {'timestamp': 1677903, 'value': 50},\n",
       " 'countPokes2': {'timestamp': 1677903, 'value': 19},\n",
       " 'countRewards2': {'timestamp': 1677904, 'value': 16},\n",
       " 'portProbs2': {'timestamp': 1677904, 'value': 90},\n",
       " 'countPokes3': {'timestamp': 1677926, 'value': 1},\n",
       " 'countRewards3': {'timestamp': 1677926, 'value': 0},\n",
       " 'portProbs3': {'timestamp': 1677927, 'value': 10}}"
      ]
     },
     "metadata": {},
     "output_type": "display_data"
    },
    {
     "data": {
      "text/plain": [
       "{'contingency': {'timestamp': 1685570, 'value': 1},\n",
       " 'trialThresh': {'timestamp': 1685571, 'value': 66},\n",
       " 'totalPokes': {'timestamp': 1685571, 'value': 41},\n",
       " 'totalRewards': {'timestamp': 1685572, 'value': 26},\n",
       " 'ifDelay': {'timestamp': 1685572, 'value': 1},\n",
       " 'countPokes1': {'timestamp': 1685573, 'value': 20},\n",
       " 'countRewards1': {'timestamp': 1685573, 'value': 9},\n",
       " 'portProbs1': {'timestamp': 1685574, 'value': 50},\n",
       " 'countPokes2': {'timestamp': 1685574, 'value': 20},\n",
       " 'countRewards2': {'timestamp': 1685575, 'value': 17},\n",
       " 'portProbs2': {'timestamp': 1685575, 'value': 90},\n",
       " 'countPokes3': {'timestamp': 1685596, 'value': 1},\n",
       " 'countRewards3': {'timestamp': 1685597, 'value': 0},\n",
       " 'portProbs3': {'timestamp': 1685597, 'value': 10}}"
      ]
     },
     "metadata": {},
     "output_type": "display_data"
    },
    {
     "data": {
      "text/plain": [
       "{'contingency': {'timestamp': 1724802, 'value': 1},\n",
       " 'trialThresh': {'timestamp': 1724802, 'value': 66},\n",
       " 'totalPokes': {'timestamp': 1724803, 'value': 42},\n",
       " 'totalRewards': {'timestamp': 1724803, 'value': 26},\n",
       " 'ifDelay': {'timestamp': 1724804, 'value': 0},\n",
       " 'countPokes1': {'timestamp': 1724804, 'value': 20},\n",
       " 'countRewards1': {'timestamp': 1724805, 'value': 9},\n",
       " 'portProbs1': {'timestamp': 1724805, 'value': 50},\n",
       " 'countPokes2': {'timestamp': 1724806, 'value': 20},\n",
       " 'countRewards2': {'timestamp': 1724806, 'value': 17},\n",
       " 'portProbs2': {'timestamp': 1724807, 'value': 90},\n",
       " 'countPokes3': {'timestamp': 1724828, 'value': 2},\n",
       " 'countRewards3': {'timestamp': 1724829, 'value': 0},\n",
       " 'portProbs3': {'timestamp': 1724829, 'value': 10}}"
      ]
     },
     "metadata": {},
     "output_type": "display_data"
    },
    {
     "data": {
      "text/plain": [
       "{'contingency': {'timestamp': 1733382, 'value': 1},\n",
       " 'trialThresh': {'timestamp': 1733383, 'value': 66},\n",
       " 'totalPokes': {'timestamp': 1733383, 'value': 43},\n",
       " 'totalRewards': {'timestamp': 1733384, 'value': 26},\n",
       " 'ifDelay': {'timestamp': 1733384, 'value': 0},\n",
       " 'countPokes1': {'timestamp': 1733385, 'value': 20},\n",
       " 'countRewards1': {'timestamp': 1733385, 'value': 9},\n",
       " 'portProbs1': {'timestamp': 1733386, 'value': 50},\n",
       " 'countPokes2': {'timestamp': 1733386, 'value': 21},\n",
       " 'countRewards2': {'timestamp': 1733387, 'value': 17},\n",
       " 'portProbs2': {'timestamp': 1733387, 'value': 90},\n",
       " 'countPokes3': {'timestamp': 1733408, 'value': 2},\n",
       " 'countRewards3': {'timestamp': 1733409, 'value': 0},\n",
       " 'portProbs3': {'timestamp': 1733409, 'value': 10}}"
      ]
     },
     "metadata": {},
     "output_type": "display_data"
    },
    {
     "data": {
      "text/plain": [
       "{'contingency': {'timestamp': 1744161, 'value': 1},\n",
       " 'trialThresh': {'timestamp': 1744161, 'value': 66},\n",
       " 'totalPokes': {'timestamp': 1744162, 'value': 44},\n",
       " 'totalRewards': {'timestamp': 1744162, 'value': 26},\n",
       " 'ifDelay': {'timestamp': 1744163, 'value': 0},\n",
       " 'countPokes1': {'timestamp': 1744163, 'value': 21},\n",
       " 'countRewards1': {'timestamp': 1744164, 'value': 9},\n",
       " 'portProbs1': {'timestamp': 1744164, 'value': 50},\n",
       " 'countPokes2': {'timestamp': 1744165, 'value': 21},\n",
       " 'countRewards2': {'timestamp': 1744165, 'value': 17},\n",
       " 'portProbs2': {'timestamp': 1744166, 'value': 90},\n",
       " 'countPokes3': {'timestamp': 1744187, 'value': 2},\n",
       " 'countRewards3': {'timestamp': 1744187, 'value': 0},\n",
       " 'portProbs3': {'timestamp': 1744188, 'value': 10}}"
      ]
     },
     "metadata": {},
     "output_type": "display_data"
    },
    {
     "data": {
      "text/plain": [
       "{'contingency': {'timestamp': 1751344, 'value': 1},\n",
       " 'trialThresh': {'timestamp': 1751344, 'value': 66},\n",
       " 'totalPokes': {'timestamp': 1751345, 'value': 45},\n",
       " 'totalRewards': {'timestamp': 1751345, 'value': 26},\n",
       " 'ifDelay': {'timestamp': 1751346, 'value': 0},\n",
       " 'countPokes1': {'timestamp': 1751346, 'value': 21},\n",
       " 'countRewards1': {'timestamp': 1751347, 'value': 9},\n",
       " 'portProbs1': {'timestamp': 1751347, 'value': 50},\n",
       " 'countPokes2': {'timestamp': 1751348, 'value': 21},\n",
       " 'countRewards2': {'timestamp': 1751348, 'value': 17},\n",
       " 'portProbs2': {'timestamp': 1751349, 'value': 90},\n",
       " 'countPokes3': {'timestamp': 1751370, 'value': 3},\n",
       " 'countRewards3': {'timestamp': 1751371, 'value': 0},\n",
       " 'portProbs3': {'timestamp': 1751371, 'value': 10}}"
      ]
     },
     "metadata": {},
     "output_type": "display_data"
    },
    {
     "data": {
      "text/plain": [
       "{'contingency': {'timestamp': 1760306, 'value': 1},\n",
       " 'trialThresh': {'timestamp': 1760307, 'value': 66},\n",
       " 'totalPokes': {'timestamp': 1760307, 'value': 46},\n",
       " 'totalRewards': {'timestamp': 1760308, 'value': 27},\n",
       " 'ifDelay': {'timestamp': 1760308, 'value': 0},\n",
       " 'countPokes1': {'timestamp': 1760309, 'value': 21},\n",
       " 'countRewards1': {'timestamp': 1760309, 'value': 9},\n",
       " 'portProbs1': {'timestamp': 1760310, 'value': 50},\n",
       " 'countPokes2': {'timestamp': 1760310, 'value': 22},\n",
       " 'countRewards2': {'timestamp': 1760311, 'value': 18},\n",
       " 'portProbs2': {'timestamp': 1760311, 'value': 90},\n",
       " 'countPokes3': {'timestamp': 1760332, 'value': 3},\n",
       " 'countRewards3': {'timestamp': 1760333, 'value': 0},\n",
       " 'portProbs3': {'timestamp': 1760333, 'value': 10}}"
      ]
     },
     "metadata": {},
     "output_type": "display_data"
    },
    {
     "data": {
      "text/plain": [
       "{'contingency': {'timestamp': 1783707, 'value': 1},\n",
       " 'trialThresh': {'timestamp': 1783708, 'value': 66},\n",
       " 'totalPokes': {'timestamp': 1783708, 'value': 47},\n",
       " 'totalRewards': {'timestamp': 1783709, 'value': 28},\n",
       " 'ifDelay': {'timestamp': 1783709, 'value': 0},\n",
       " 'countPokes1': {'timestamp': 1783710, 'value': 22},\n",
       " 'countRewards1': {'timestamp': 1783710, 'value': 10},\n",
       " 'portProbs1': {'timestamp': 1783711, 'value': 50},\n",
       " 'countPokes2': {'timestamp': 1783711, 'value': 22},\n",
       " 'countRewards2': {'timestamp': 1783712, 'value': 18},\n",
       " 'portProbs2': {'timestamp': 1783733, 'value': 90},\n",
       " 'countPokes3': {'timestamp': 1783733, 'value': 3},\n",
       " 'countRewards3': {'timestamp': 1783734, 'value': 0},\n",
       " 'portProbs3': {'timestamp': 1783734, 'value': 10}}"
      ]
     },
     "metadata": {},
     "output_type": "display_data"
    },
    {
     "data": {
      "text/plain": [
       "{'contingency': {'timestamp': 1804530, 'value': 1},\n",
       " 'trialThresh': {'timestamp': 1804531, 'value': 66},\n",
       " 'totalPokes': {'timestamp': 1804531, 'value': 48},\n",
       " 'totalRewards': {'timestamp': 1804532, 'value': 28},\n",
       " 'ifDelay': {'timestamp': 1804532, 'value': 1},\n",
       " 'countPokes1': {'timestamp': 1804533, 'value': 22},\n",
       " 'countRewards1': {'timestamp': 1804533, 'value': 10},\n",
       " 'portProbs1': {'timestamp': 1804534, 'value': 50},\n",
       " 'countPokes2': {'timestamp': 1804534, 'value': 22},\n",
       " 'countRewards2': {'timestamp': 1804535, 'value': 18},\n",
       " 'portProbs2': {'timestamp': 1804556, 'value': 90},\n",
       " 'countPokes3': {'timestamp': 1804556, 'value': 4},\n",
       " 'countRewards3': {'timestamp': 1804557, 'value': 0},\n",
       " 'portProbs3': {'timestamp': 1804557, 'value': 10}}"
      ]
     },
     "metadata": {},
     "output_type": "display_data"
    },
    {
     "data": {
      "text/plain": [
       "{'contingency': {'timestamp': 1810961, 'value': 1},\n",
       " 'trialThresh': {'timestamp': 1810961, 'value': 66},\n",
       " 'totalPokes': {'timestamp': 1810962, 'value': 49},\n",
       " 'totalRewards': {'timestamp': 1810962, 'value': 29},\n",
       " 'ifDelay': {'timestamp': 1810963, 'value': 1},\n",
       " 'countPokes1': {'timestamp': 1810963, 'value': 22},\n",
       " 'countRewards1': {'timestamp': 1810964, 'value': 10},\n",
       " 'portProbs1': {'timestamp': 1810964, 'value': 50},\n",
       " 'countPokes2': {'timestamp': 1810964, 'value': 23},\n",
       " 'countRewards2': {'timestamp': 1810965, 'value': 19},\n",
       " 'portProbs2': {'timestamp': 1810986, 'value': 90},\n",
       " 'countPokes3': {'timestamp': 1810987, 'value': 4},\n",
       " 'countRewards3': {'timestamp': 1810987, 'value': 0},\n",
       " 'portProbs3': {'timestamp': 1810988, 'value': 10}}"
      ]
     },
     "metadata": {},
     "output_type": "display_data"
    },
    {
     "data": {
      "text/plain": [
       "{'contingency': {'timestamp': 1831287, 'value': 1},\n",
       " 'trialThresh': {'timestamp': 1831287, 'value': 66},\n",
       " 'totalPokes': {'timestamp': 1831288, 'value': 50},\n",
       " 'totalRewards': {'timestamp': 1831288, 'value': 30},\n",
       " 'ifDelay': {'timestamp': 1831289, 'value': 0},\n",
       " 'countPokes1': {'timestamp': 1831289, 'value': 23},\n",
       " 'countRewards1': {'timestamp': 1831290, 'value': 11},\n",
       " 'portProbs1': {'timestamp': 1831290, 'value': 50},\n",
       " 'countPokes2': {'timestamp': 1831291, 'value': 23},\n",
       " 'countRewards2': {'timestamp': 1831291, 'value': 19},\n",
       " 'portProbs2': {'timestamp': 1831312, 'value': 90},\n",
       " 'countPokes3': {'timestamp': 1831313, 'value': 4},\n",
       " 'countRewards3': {'timestamp': 1831313, 'value': 0},\n",
       " 'portProbs3': {'timestamp': 1831314, 'value': 10}}"
      ]
     },
     "metadata": {},
     "output_type": "display_data"
    },
    {
     "data": {
      "text/plain": [
       "{'contingency': {'timestamp': 1852613, 'value': 1},\n",
       " 'trialThresh': {'timestamp': 1852614, 'value': 66},\n",
       " 'totalPokes': {'timestamp': 1852614, 'value': 51},\n",
       " 'totalRewards': {'timestamp': 1852615, 'value': 31},\n",
       " 'ifDelay': {'timestamp': 1852615, 'value': 1},\n",
       " 'countPokes1': {'timestamp': 1852616, 'value': 23},\n",
       " 'countRewards1': {'timestamp': 1852616, 'value': 11},\n",
       " 'portProbs1': {'timestamp': 1852617, 'value': 50},\n",
       " 'countPokes2': {'timestamp': 1852617, 'value': 24},\n",
       " 'countRewards2': {'timestamp': 1852618, 'value': 20},\n",
       " 'portProbs2': {'timestamp': 1852639, 'value': 90},\n",
       " 'countPokes3': {'timestamp': 1852639, 'value': 4},\n",
       " 'countRewards3': {'timestamp': 1852640, 'value': 0},\n",
       " 'portProbs3': {'timestamp': 1852640, 'value': 10}}"
      ]
     },
     "metadata": {},
     "output_type": "display_data"
    },
    {
     "data": {
      "text/plain": [
       "{'contingency': {'timestamp': 1875243, 'value': 1},\n",
       " 'trialThresh': {'timestamp': 1875243, 'value': 66},\n",
       " 'totalPokes': {'timestamp': 1875244, 'value': 52},\n",
       " 'totalRewards': {'timestamp': 1875244, 'value': 31},\n",
       " 'ifDelay': {'timestamp': 1875245, 'value': 0},\n",
       " 'countPokes1': {'timestamp': 1875245, 'value': 24},\n",
       " 'countRewards1': {'timestamp': 1875246, 'value': 11},\n",
       " 'portProbs1': {'timestamp': 1875246, 'value': 50},\n",
       " 'countPokes2': {'timestamp': 1875247, 'value': 24},\n",
       " 'countRewards2': {'timestamp': 1875247, 'value': 20},\n",
       " 'portProbs2': {'timestamp': 1875268, 'value': 90},\n",
       " 'countPokes3': {'timestamp': 1875269, 'value': 4},\n",
       " 'countRewards3': {'timestamp': 1875269, 'value': 0},\n",
       " 'portProbs3': {'timestamp': 1875270, 'value': 10}}"
      ]
     },
     "metadata": {},
     "output_type": "display_data"
    },
    {
     "data": {
      "text/plain": [
       "{'contingency': {'timestamp': 1884813, 'value': 1},\n",
       " 'trialThresh': {'timestamp': 1884814, 'value': 66},\n",
       " 'totalPokes': {'timestamp': 1884814, 'value': 53},\n",
       " 'totalRewards': {'timestamp': 1884815, 'value': 32},\n",
       " 'ifDelay': {'timestamp': 1884815, 'value': 0},\n",
       " 'countPokes1': {'timestamp': 1884816, 'value': 24},\n",
       " 'countRewards1': {'timestamp': 1884816, 'value': 11},\n",
       " 'portProbs1': {'timestamp': 1884817, 'value': 50},\n",
       " 'countPokes2': {'timestamp': 1884817, 'value': 25},\n",
       " 'countRewards2': {'timestamp': 1884818, 'value': 21},\n",
       " 'portProbs2': {'timestamp': 1884839, 'value': 90},\n",
       " 'countPokes3': {'timestamp': 1884839, 'value': 4},\n",
       " 'countRewards3': {'timestamp': 1884840, 'value': 0},\n",
       " 'portProbs3': {'timestamp': 1884840, 'value': 10}}"
      ]
     },
     "metadata": {},
     "output_type": "display_data"
    },
    {
     "data": {
      "text/plain": [
       "{'contingency': {'timestamp': 1905774, 'value': 1},\n",
       " 'trialThresh': {'timestamp': 1905774, 'value': 66},\n",
       " 'totalPokes': {'timestamp': 1905775, 'value': 54},\n",
       " 'totalRewards': {'timestamp': 1905775, 'value': 33},\n",
       " 'ifDelay': {'timestamp': 1905776, 'value': 0},\n",
       " 'countPokes1': {'timestamp': 1905776, 'value': 25},\n",
       " 'countRewards1': {'timestamp': 1905777, 'value': 12},\n",
       " 'portProbs1': {'timestamp': 1905777, 'value': 50},\n",
       " 'countPokes2': {'timestamp': 1905778, 'value': 25},\n",
       " 'countRewards2': {'timestamp': 1905778, 'value': 21},\n",
       " 'portProbs2': {'timestamp': 1905799, 'value': 90},\n",
       " 'countPokes3': {'timestamp': 1905800, 'value': 4},\n",
       " 'countRewards3': {'timestamp': 1905800, 'value': 0},\n",
       " 'portProbs3': {'timestamp': 1905801, 'value': 10}}"
      ]
     },
     "metadata": {},
     "output_type": "display_data"
    },
    {
     "data": {
      "text/plain": [
       "{'contingency': {'timestamp': 1929430, 'value': 1},\n",
       " 'trialThresh': {'timestamp': 1929430, 'value': 66},\n",
       " 'totalPokes': {'timestamp': 1929431, 'value': 55},\n",
       " 'totalRewards': {'timestamp': 1929431, 'value': 34},\n",
       " 'ifDelay': {'timestamp': 1929432, 'value': 1},\n",
       " 'countPokes1': {'timestamp': 1929432, 'value': 25},\n",
       " 'countRewards1': {'timestamp': 1929433, 'value': 12},\n",
       " 'portProbs1': {'timestamp': 1929433, 'value': 50},\n",
       " 'countPokes2': {'timestamp': 1929434, 'value': 26},\n",
       " 'countRewards2': {'timestamp': 1929434, 'value': 22},\n",
       " 'portProbs2': {'timestamp': 1929455, 'value': 90},\n",
       " 'countPokes3': {'timestamp': 1929456, 'value': 4},\n",
       " 'countRewards3': {'timestamp': 1929456, 'value': 0},\n",
       " 'portProbs3': {'timestamp': 1929457, 'value': 10}}"
      ]
     },
     "metadata": {},
     "output_type": "display_data"
    },
    {
     "data": {
      "text/plain": [
       "{'contingency': {'timestamp': 1951440, 'value': 1},\n",
       " 'trialThresh': {'timestamp': 1951441, 'value': 66},\n",
       " 'totalPokes': {'timestamp': 1951441, 'value': 56},\n",
       " 'totalRewards': {'timestamp': 1951442, 'value': 35},\n",
       " 'ifDelay': {'timestamp': 1951442, 'value': 1},\n",
       " 'countPokes1': {'timestamp': 1951442, 'value': 26},\n",
       " 'countRewards1': {'timestamp': 1951443, 'value': 13},\n",
       " 'portProbs1': {'timestamp': 1951443, 'value': 50},\n",
       " 'countPokes2': {'timestamp': 1951444, 'value': 26},\n",
       " 'countRewards2': {'timestamp': 1951444, 'value': 22},\n",
       " 'portProbs2': {'timestamp': 1951466, 'value': 90},\n",
       " 'countPokes3': {'timestamp': 1951466, 'value': 4},\n",
       " 'countRewards3': {'timestamp': 1951467, 'value': 0},\n",
       " 'portProbs3': {'timestamp': 1951467, 'value': 10}}"
      ]
     },
     "metadata": {},
     "output_type": "display_data"
    },
    {
     "data": {
      "text/plain": [
       "{'contingency': {'timestamp': 1974838, 'value': 1},\n",
       " 'trialThresh': {'timestamp': 1974838, 'value': 66},\n",
       " 'totalPokes': {'timestamp': 1974839, 'value': 57},\n",
       " 'totalRewards': {'timestamp': 1974839, 'value': 36},\n",
       " 'ifDelay': {'timestamp': 1974840, 'value': 1},\n",
       " 'countPokes1': {'timestamp': 1974840, 'value': 26},\n",
       " 'countRewards1': {'timestamp': 1974841, 'value': 13},\n",
       " 'portProbs1': {'timestamp': 1974841, 'value': 50},\n",
       " 'countPokes2': {'timestamp': 1974842, 'value': 27},\n",
       " 'countRewards2': {'timestamp': 1974842, 'value': 23},\n",
       " 'portProbs2': {'timestamp': 1974864, 'value': 90},\n",
       " 'countPokes3': {'timestamp': 1974864, 'value': 4},\n",
       " 'countRewards3': {'timestamp': 1974865, 'value': 0},\n",
       " 'portProbs3': {'timestamp': 1974865, 'value': 10}}"
      ]
     },
     "metadata": {},
     "output_type": "display_data"
    },
    {
     "data": {
      "text/plain": [
       "{'contingency': {'timestamp': 1996868, 'value': 1},\n",
       " 'trialThresh': {'timestamp': 1996869, 'value': 66},\n",
       " 'totalPokes': {'timestamp': 1996869, 'value': 58},\n",
       " 'totalRewards': {'timestamp': 1996870, 'value': 36},\n",
       " 'ifDelay': {'timestamp': 1996870, 'value': 0},\n",
       " 'countPokes1': {'timestamp': 1996870, 'value': 27},\n",
       " 'countRewards1': {'timestamp': 1996871, 'value': 13},\n",
       " 'portProbs1': {'timestamp': 1996871, 'value': 50},\n",
       " 'countPokes2': {'timestamp': 1996872, 'value': 27},\n",
       " 'countRewards2': {'timestamp': 1996872, 'value': 23},\n",
       " 'portProbs2': {'timestamp': 1996894, 'value': 90},\n",
       " 'countPokes3': {'timestamp': 1996894, 'value': 4},\n",
       " 'countRewards3': {'timestamp': 1996895, 'value': 0},\n",
       " 'portProbs3': {'timestamp': 1996895, 'value': 10}}"
      ]
     },
     "metadata": {},
     "output_type": "display_data"
    },
    {
     "data": {
      "text/plain": [
       "{'contingency': {'timestamp': 2008363, 'value': 1},\n",
       " 'trialThresh': {'timestamp': 2008364, 'value': 66},\n",
       " 'totalPokes': {'timestamp': 2008364, 'value': 59},\n",
       " 'totalRewards': {'timestamp': 2008365, 'value': 37},\n",
       " 'ifDelay': {'timestamp': 2008365, 'value': 0},\n",
       " 'countPokes1': {'timestamp': 2008366, 'value': 27},\n",
       " 'countRewards1': {'timestamp': 2008366, 'value': 13},\n",
       " 'portProbs1': {'timestamp': 2008367, 'value': 50},\n",
       " 'countPokes2': {'timestamp': 2008367, 'value': 28},\n",
       " 'countRewards2': {'timestamp': 2008368, 'value': 24},\n",
       " 'portProbs2': {'timestamp': 2008389, 'value': 90},\n",
       " 'countPokes3': {'timestamp': 2008389, 'value': 4},\n",
       " 'countRewards3': {'timestamp': 2008390, 'value': 0},\n",
       " 'portProbs3': {'timestamp': 2008390, 'value': 10}}"
      ]
     },
     "metadata": {},
     "output_type": "display_data"
    },
    {
     "data": {
      "text/plain": [
       "{'contingency': {'timestamp': 2030815, 'value': 1},\n",
       " 'trialThresh': {'timestamp': 2030816, 'value': 66},\n",
       " 'totalPokes': {'timestamp': 2030816, 'value': 60},\n",
       " 'totalRewards': {'timestamp': 2030817, 'value': 38},\n",
       " 'ifDelay': {'timestamp': 2030817, 'value': 1},\n",
       " 'countPokes1': {'timestamp': 2030817, 'value': 28},\n",
       " 'countRewards1': {'timestamp': 2030818, 'value': 14},\n",
       " 'portProbs1': {'timestamp': 2030818, 'value': 50},\n",
       " 'countPokes2': {'timestamp': 2030819, 'value': 28},\n",
       " 'countRewards2': {'timestamp': 2030819, 'value': 24},\n",
       " 'portProbs2': {'timestamp': 2030841, 'value': 90},\n",
       " 'countPokes3': {'timestamp': 2030841, 'value': 4},\n",
       " 'countRewards3': {'timestamp': 2030842, 'value': 0},\n",
       " 'portProbs3': {'timestamp': 2030842, 'value': 10}}"
      ]
     },
     "metadata": {},
     "output_type": "display_data"
    },
    {
     "data": {
      "text/plain": [
       "{'contingency': {'timestamp': 2054028, 'value': 1},\n",
       " 'trialThresh': {'timestamp': 2054029, 'value': 66},\n",
       " 'totalPokes': {'timestamp': 2054029, 'value': 61},\n",
       " 'totalRewards': {'timestamp': 2054030, 'value': 38},\n",
       " 'ifDelay': {'timestamp': 2054030, 'value': 0},\n",
       " 'countPokes1': {'timestamp': 2054031, 'value': 28},\n",
       " 'countRewards1': {'timestamp': 2054031, 'value': 14},\n",
       " 'portProbs1': {'timestamp': 2054032, 'value': 50},\n",
       " 'countPokes2': {'timestamp': 2054032, 'value': 29},\n",
       " 'countRewards2': {'timestamp': 2054033, 'value': 24},\n",
       " 'portProbs2': {'timestamp': 2054054, 'value': 90},\n",
       " 'countPokes3': {'timestamp': 2054054, 'value': 4},\n",
       " 'countRewards3': {'timestamp': 2054055, 'value': 0},\n",
       " 'portProbs3': {'timestamp': 2054055, 'value': 10}}"
      ]
     },
     "metadata": {},
     "output_type": "display_data"
    },
    {
     "data": {
      "text/plain": [
       "{'contingency': {'timestamp': 2064480, 'value': 1},\n",
       " 'trialThresh': {'timestamp': 2064480, 'value': 66},\n",
       " 'totalPokes': {'timestamp': 2064481, 'value': 62},\n",
       " 'totalRewards': {'timestamp': 2064481, 'value': 38},\n",
       " 'ifDelay': {'timestamp': 2064482, 'value': 0},\n",
       " 'countPokes1': {'timestamp': 2064482, 'value': 29},\n",
       " 'countRewards1': {'timestamp': 2064483, 'value': 14},\n",
       " 'portProbs1': {'timestamp': 2064483, 'value': 50},\n",
       " 'countPokes2': {'timestamp': 2064484, 'value': 29},\n",
       " 'countRewards2': {'timestamp': 2064484, 'value': 24},\n",
       " 'portProbs2': {'timestamp': 2064505, 'value': 90},\n",
       " 'countPokes3': {'timestamp': 2064506, 'value': 4},\n",
       " 'countRewards3': {'timestamp': 2064506, 'value': 0},\n",
       " 'portProbs3': {'timestamp': 2064507, 'value': 10}}"
      ]
     },
     "metadata": {},
     "output_type": "display_data"
    },
    {
     "data": {
      "text/plain": [
       "{'contingency': {'timestamp': 2073330, 'value': 1},\n",
       " 'trialThresh': {'timestamp': 2073331, 'value': 66},\n",
       " 'totalPokes': {'timestamp': 2073331, 'value': 63},\n",
       " 'totalRewards': {'timestamp': 2073332, 'value': 39},\n",
       " 'ifDelay': {'timestamp': 2073332, 'value': 0},\n",
       " 'countPokes1': {'timestamp': 2073333, 'value': 29},\n",
       " 'countRewards1': {'timestamp': 2073333, 'value': 14},\n",
       " 'portProbs1': {'timestamp': 2073334, 'value': 50},\n",
       " 'countPokes2': {'timestamp': 2073334, 'value': 30},\n",
       " 'countRewards2': {'timestamp': 2073335, 'value': 25},\n",
       " 'portProbs2': {'timestamp': 2073356, 'value': 90},\n",
       " 'countPokes3': {'timestamp': 2073356, 'value': 4},\n",
       " 'countRewards3': {'timestamp': 2073357, 'value': 0},\n",
       " 'portProbs3': {'timestamp': 2073357, 'value': 10}}"
      ]
     },
     "metadata": {},
     "output_type": "display_data"
    },
    {
     "data": {
      "text/plain": [
       "{'contingency': {'timestamp': 2094327, 'value': 1},\n",
       " 'trialThresh': {'timestamp': 2094327, 'value': 66},\n",
       " 'totalPokes': {'timestamp': 2094328, 'value': 64},\n",
       " 'totalRewards': {'timestamp': 2094328, 'value': 40},\n",
       " 'ifDelay': {'timestamp': 2094329, 'value': 0},\n",
       " 'countPokes1': {'timestamp': 2094329, 'value': 30},\n",
       " 'countRewards1': {'timestamp': 2094330, 'value': 15},\n",
       " 'portProbs1': {'timestamp': 2094330, 'value': 50},\n",
       " 'countPokes2': {'timestamp': 2094331, 'value': 30},\n",
       " 'countRewards2': {'timestamp': 2094331, 'value': 25},\n",
       " 'portProbs2': {'timestamp': 2094352, 'value': 90},\n",
       " 'countPokes3': {'timestamp': 2094353, 'value': 4},\n",
       " 'countRewards3': {'timestamp': 2094353, 'value': 0},\n",
       " 'portProbs3': {'timestamp': 2094354, 'value': 10}}"
      ]
     },
     "metadata": {},
     "output_type": "display_data"
    },
    {
     "data": {
      "text/plain": [
       "{'contingency': {'timestamp': 2116414, 'value': 1},\n",
       " 'trialThresh': {'timestamp': 2116414, 'value': 66},\n",
       " 'totalPokes': {'timestamp': 2116415, 'value': 65},\n",
       " 'totalRewards': {'timestamp': 2116415, 'value': 41},\n",
       " 'ifDelay': {'timestamp': 2116416, 'value': 1},\n",
       " 'countPokes1': {'timestamp': 2116416, 'value': 30},\n",
       " 'countRewards1': {'timestamp': 2116417, 'value': 15},\n",
       " 'portProbs1': {'timestamp': 2116417, 'value': 50},\n",
       " 'countPokes2': {'timestamp': 2116418, 'value': 31},\n",
       " 'countRewards2': {'timestamp': 2116418, 'value': 26},\n",
       " 'portProbs2': {'timestamp': 2116439, 'value': 90},\n",
       " 'countPokes3': {'timestamp': 2116440, 'value': 4},\n",
       " 'countRewards3': {'timestamp': 2116440, 'value': 0},\n",
       " 'portProbs3': {'timestamp': 2116441, 'value': 10}}"
      ]
     },
     "metadata": {},
     "output_type": "display_data"
    },
    {
     "data": {
      "text/plain": [
       "{'contingency': {'timestamp': 2137698, 'value': 1},\n",
       " 'trialThresh': {'timestamp': 2137699, 'value': 66},\n",
       " 'totalPokes': {'timestamp': 2137699, 'value': 66},\n",
       " 'totalRewards': {'timestamp': 2137700, 'value': 42},\n",
       " 'ifDelay': {'timestamp': 2137700, 'value': 1},\n",
       " 'countPokes1': {'timestamp': 2137701, 'value': 31},\n",
       " 'countRewards1': {'timestamp': 2137701, 'value': 16},\n",
       " 'portProbs1': {'timestamp': 2137702, 'value': 50},\n",
       " 'countPokes2': {'timestamp': 2137702, 'value': 31},\n",
       " 'countRewards2': {'timestamp': 2137703, 'value': 26},\n",
       " 'portProbs2': {'timestamp': 2137724, 'value': 90},\n",
       " 'countPokes3': {'timestamp': 2137724, 'value': 4},\n",
       " 'countRewards3': {'timestamp': 2137725, 'value': 0},\n",
       " 'portProbs3': {'timestamp': 2137725, 'value': 10}}"
      ]
     },
     "metadata": {},
     "output_type": "display_data"
    },
    {
     "data": {
      "text/plain": [
       "{'contingency': {'timestamp': 2161498, 'value': 2},\n",
       " 'trialThresh': {'timestamp': 2161499, 'value': 66},\n",
       " 'totalPokes': {'timestamp': 2161499, 'value': 1},\n",
       " 'totalRewards': {'timestamp': 2161500, 'value': 1},\n",
       " 'ifDelay': {'timestamp': 2161500, 'value': 0},\n",
       " 'countPokes1': {'timestamp': 2161501, 'value': 0},\n",
       " 'countRewards1': {'timestamp': 2161501, 'value': 0},\n",
       " 'portProbs1': {'timestamp': 2161502, 'value': 50},\n",
       " 'countPokes2': {'timestamp': 2161502, 'value': 1},\n",
       " 'countRewards2': {'timestamp': 2161503, 'value': 1},\n",
       " 'portProbs2': {'timestamp': 2161503, 'value': 90},\n",
       " 'countPokes3': {'timestamp': 2161524, 'value': 0},\n",
       " 'countRewards3': {'timestamp': 2161524, 'value': 0},\n",
       " 'portProbs3': {'timestamp': 2161525, 'value': 10}}"
      ]
     },
     "metadata": {},
     "output_type": "display_data"
    },
    {
     "data": {
      "text/plain": [
       "{'contingency': {'timestamp': 2184847, 'value': 2},\n",
       " 'trialThresh': {'timestamp': 2184848, 'value': 66},\n",
       " 'totalPokes': {'timestamp': 2184848, 'value': 2},\n",
       " 'totalRewards': {'timestamp': 2184849, 'value': 2},\n",
       " 'ifDelay': {'timestamp': 2184849, 'value': 1},\n",
       " 'countPokes1': {'timestamp': 2184850, 'value': 1},\n",
       " 'countRewards1': {'timestamp': 2184850, 'value': 1},\n",
       " 'portProbs1': {'timestamp': 2184851, 'value': 50},\n",
       " 'countPokes2': {'timestamp': 2184851, 'value': 1},\n",
       " 'countRewards2': {'timestamp': 2184852, 'value': 1},\n",
       " 'portProbs2': {'timestamp': 2184873, 'value': 90},\n",
       " 'countPokes3': {'timestamp': 2184873, 'value': 0},\n",
       " 'countRewards3': {'timestamp': 2184874, 'value': 0},\n",
       " 'portProbs3': {'timestamp': 2184874, 'value': 10}}"
      ]
     },
     "metadata": {},
     "output_type": "display_data"
    },
    {
     "data": {
      "text/plain": [
       "{'contingency': {'timestamp': 2208143, 'value': 2},\n",
       " 'trialThresh': {'timestamp': 2208144, 'value': 66},\n",
       " 'totalPokes': {'timestamp': 2208144, 'value': 3},\n",
       " 'totalRewards': {'timestamp': 2208145, 'value': 3},\n",
       " 'ifDelay': {'timestamp': 2208145, 'value': 0},\n",
       " 'countPokes1': {'timestamp': 2208146, 'value': 1},\n",
       " 'countRewards1': {'timestamp': 2208146, 'value': 1},\n",
       " 'portProbs1': {'timestamp': 2208147, 'value': 50},\n",
       " 'countPokes2': {'timestamp': 2208147, 'value': 2},\n",
       " 'countRewards2': {'timestamp': 2208148, 'value': 2},\n",
       " 'portProbs2': {'timestamp': 2208167, 'value': 90},\n",
       " 'countPokes3': {'timestamp': 2208168, 'value': 0},\n",
       " 'countRewards3': {'timestamp': 2208168, 'value': 0},\n",
       " 'portProbs3': {'timestamp': 2208170, 'value': 10}}"
      ]
     },
     "metadata": {},
     "output_type": "display_data"
    },
    {
     "data": {
      "text/plain": [
       "{'contingency': {'timestamp': 2231108, 'value': 2},\n",
       " 'trialThresh': {'timestamp': 2231109, 'value': 66},\n",
       " 'totalPokes': {'timestamp': 2231109, 'value': 4},\n",
       " 'totalRewards': {'timestamp': 2231110, 'value': 4},\n",
       " 'ifDelay': {'timestamp': 2231110, 'value': 1},\n",
       " 'countPokes1': {'timestamp': 2231111, 'value': 2},\n",
       " 'countRewards1': {'timestamp': 2231111, 'value': 2},\n",
       " 'portProbs1': {'timestamp': 2231112, 'value': 50},\n",
       " 'countPokes2': {'timestamp': 2231112, 'value': 2},\n",
       " 'countRewards2': {'timestamp': 2231113, 'value': 2},\n",
       " 'portProbs2': {'timestamp': 2231113, 'value': 90},\n",
       " 'countPokes3': {'timestamp': 2231134, 'value': 0},\n",
       " 'countRewards3': {'timestamp': 2231134, 'value': 0},\n",
       " 'portProbs3': {'timestamp': 2231135, 'value': 10}}"
      ]
     },
     "metadata": {},
     "output_type": "display_data"
    },
    {
     "data": {
      "text/plain": [
       "{'contingency': {'timestamp': 2253106, 'value': 2},\n",
       " 'trialThresh': {'timestamp': 2253107, 'value': 66},\n",
       " 'totalPokes': {'timestamp': 2253107, 'value': 5},\n",
       " 'totalRewards': {'timestamp': 2253108, 'value': 5},\n",
       " 'ifDelay': {'timestamp': 2253108, 'value': 0},\n",
       " 'countPokes1': {'timestamp': 2253109, 'value': 2},\n",
       " 'countRewards1': {'timestamp': 2253109, 'value': 2},\n",
       " 'portProbs1': {'timestamp': 2253110, 'value': 50},\n",
       " 'countPokes2': {'timestamp': 2253110, 'value': 3},\n",
       " 'countRewards2': {'timestamp': 2253111, 'value': 3},\n",
       " 'portProbs2': {'timestamp': 2253111, 'value': 90},\n",
       " 'countPokes3': {'timestamp': 2253132, 'value': 0},\n",
       " 'countRewards3': {'timestamp': 2253133, 'value': 0},\n",
       " 'portProbs3': {'timestamp': 2253133, 'value': 10}}"
      ]
     },
     "metadata": {},
     "output_type": "display_data"
    },
    {
     "data": {
      "text/plain": [
       "{'contingency': {'timestamp': 2277606, 'value': 2},\n",
       " 'trialThresh': {'timestamp': 2277607, 'value': 66},\n",
       " 'totalPokes': {'timestamp': 2277607, 'value': 6},\n",
       " 'totalRewards': {'timestamp': 2277608, 'value': 6},\n",
       " 'ifDelay': {'timestamp': 2277608, 'value': 0},\n",
       " 'countPokes1': {'timestamp': 2277609, 'value': 3},\n",
       " 'countRewards1': {'timestamp': 2277609, 'value': 3},\n",
       " 'portProbs1': {'timestamp': 2277609, 'value': 50},\n",
       " 'countPokes2': {'timestamp': 2277610, 'value': 3},\n",
       " 'countRewards2': {'timestamp': 2277610, 'value': 3},\n",
       " 'portProbs2': {'timestamp': 2277611, 'value': 90},\n",
       " 'countPokes3': {'timestamp': 2277632, 'value': 0},\n",
       " 'countRewards3': {'timestamp': 2277632, 'value': 0},\n",
       " 'portProbs3': {'timestamp': 2277633, 'value': 10}}"
      ]
     },
     "metadata": {},
     "output_type": "display_data"
    },
    {
     "data": {
      "text/plain": [
       "{'contingency': {'timestamp': 2300312, 'value': 2},\n",
       " 'trialThresh': {'timestamp': 2300313, 'value': 66},\n",
       " 'totalPokes': {'timestamp': 2300313, 'value': 7},\n",
       " 'totalRewards': {'timestamp': 2300313, 'value': 7},\n",
       " 'ifDelay': {'timestamp': 2300314, 'value': 0},\n",
       " 'countPokes1': {'timestamp': 2300314, 'value': 3},\n",
       " 'countRewards1': {'timestamp': 2300315, 'value': 3},\n",
       " 'portProbs1': {'timestamp': 2300315, 'value': 50},\n",
       " 'countPokes2': {'timestamp': 2300316, 'value': 4},\n",
       " 'countRewards2': {'timestamp': 2300316, 'value': 4},\n",
       " 'portProbs2': {'timestamp': 2300317, 'value': 90},\n",
       " 'countPokes3': {'timestamp': 2300338, 'value': 0},\n",
       " 'countRewards3': {'timestamp': 2300338, 'value': 0},\n",
       " 'portProbs3': {'timestamp': 2300339, 'value': 10}}"
      ]
     },
     "metadata": {},
     "output_type": "display_data"
    },
    {
     "name": "stdout",
     "output_type": "stream",
     "text": [
      "1511 nosepokes from the DIOs: {'B': 973, 'A': 516, 'C': 22}\n",
      "1500 nosepokes from the statescript: {'B': 964, 'A': 514, 'C': 22}\n",
      "/var/folders/4y/j2yklrvj7z96v7h6ww30_knc0000gp/T/ipykernel_82401/2478407372.py:237: UserWarning: Length mismatch: 1511 nosepokes from DIOs, but only 1500 nosepokes from statescript.\n",
      "The DIO may have more pokes because it keeps recording after the statescript has been stopped (this is ok).\n",
      "Mismatched rows:\n",
      "      timestamp_DIO event_name port  index  timestamp_statescript\n",
      "257      1716164327    poke_in    A    257                    NaN\n",
      "740      1716164315    poke_in    B    482                    NaN\n",
      "741      1716164315    poke_in    B    483                    NaN\n",
      "742      1716164316    poke_in    B    484                    NaN\n",
      "743      1716164336    poke_in    B    485                    NaN\n",
      "744      1716164337    poke_in    B    486                    NaN\n",
      "1013     1716164327   poke_out    A    257                    NaN\n",
      "1496     1716164315   poke_out    B    482                    NaN\n",
      "1497     1716164315   poke_out    B    483                    NaN\n",
      "1498     1716164317   poke_out    B    484                    NaN\n",
      "1499     1716164337   poke_out    B    485                    NaN\n",
      "/var/folders/4y/j2yklrvj7z96v7h6ww30_knc0000gp/T/ipykernel_82401/2478407372.py:466: UserWarning: Expected 98 reward DIO events for 98 rewarded trials, got 99\n",
      "This is a barrier change session.\n",
      "Adjusting barrier shift times based on barrier_shift DIOs ...\n",
      "Barrier shift DIO pressed 10.33s after poke_in of trial 43.\n",
      "Next poke_in was 10.96s after barrier shift DIO pressed.\n",
      "Trial 44 is the first trial of the new block.\n",
      "Barrier shift DIO pressed 14.97s after poke_in of trial 107.\n",
      "Next poke_in was 23.72s after barrier shift DIO pressed.\n",
      "Trial 108 is the first trial of the new block.\n",
      "/var/folders/4y/j2yklrvj7z96v7h6ww30_knc0000gp/T/ipykernel_82401/2478407372.py:572: UserWarning: Mismatch in barrier shift info between barrier_shift DIOs and data from excel sheet!\n",
      "DIO has barrier shift trials [43, 107], excel sheet has [43, 105]!\n",
      "/var/folders/4y/j2yklrvj7z96v7h6ww30_knc0000gp/T/ipykernel_82401/2478407372.py:668: FutureWarning: DataFrame.applymap has been deprecated. Use DataFrame.map instead.\n",
      "Trial and block data for epoch 5:\n"
     ]
    },
    {
     "data": {
      "text/html": [
       "<div>\n",
       "<style scoped>\n",
       "    .dataframe tbody tr th:only-of-type {\n",
       "        vertical-align: middle;\n",
       "    }\n",
       "\n",
       "    .dataframe tbody tr th {\n",
       "        vertical-align: top;\n",
       "    }\n",
       "\n",
       "    .dataframe thead th {\n",
       "        text-align: right;\n",
       "    }\n",
       "</style>\n",
       "<table border=\"1\" class=\"dataframe\">\n",
       "  <thead>\n",
       "    <tr style=\"text-align: right;\">\n",
       "      <th></th>\n",
       "      <th>epoch</th>\n",
       "      <th>trial_within_block</th>\n",
       "      <th>trial_within_session</th>\n",
       "      <th>block</th>\n",
       "      <th>start_port</th>\n",
       "      <th>end_port</th>\n",
       "      <th>reward</th>\n",
       "      <th>delay</th>\n",
       "      <th>statescript_reference_timestamp</th>\n",
       "      <th>poke_in_time_statescript</th>\n",
       "      <th>poke_out_time_statescript</th>\n",
       "      <th>poke_in_time</th>\n",
       "      <th>poke_out_time</th>\n",
       "      <th>start_time</th>\n",
       "      <th>end_time</th>\n",
       "      <th>duration</th>\n",
       "      <th>pump_on_time</th>\n",
       "      <th>pump_off_time</th>\n",
       "    </tr>\n",
       "  </thead>\n",
       "  <tbody>\n",
       "    <tr>\n",
       "      <th>0</th>\n",
       "      <td>5</td>\n",
       "      <td>1</td>\n",
       "      <td>1</td>\n",
       "      <td>1</td>\n",
       "      <td>None</td>\n",
       "      <td>B</td>\n",
       "      <td>1</td>\n",
       "      <td>N/A</td>\n",
       "      <td>119187</td>\n",
       "      <td>118917</td>\n",
       "      <td>133403</td>\n",
       "      <td>1716162121</td>\n",
       "      <td>1716162136</td>\n",
       "      <td>1716162118</td>\n",
       "      <td>1716162136</td>\n",
       "      <td>17</td>\n",
       "      <td>1716162122</td>\n",
       "      <td>1716162122</td>\n",
       "    </tr>\n",
       "    <tr>\n",
       "      <th>1</th>\n",
       "      <td>5</td>\n",
       "      <td>2</td>\n",
       "      <td>2</td>\n",
       "      <td>1</td>\n",
       "      <td>B</td>\n",
       "      <td>A</td>\n",
       "      <td>0</td>\n",
       "      <td>N/A</td>\n",
       "      <td>141553</td>\n",
       "      <td>141261</td>\n",
       "      <td>151140</td>\n",
       "      <td>1716162144</td>\n",
       "      <td>1716162154</td>\n",
       "      <td>1716162136</td>\n",
       "      <td>1716162154</td>\n",
       "      <td>18</td>\n",
       "      <td>N/A</td>\n",
       "      <td>N/A</td>\n",
       "    </tr>\n",
       "    <tr>\n",
       "      <th>2</th>\n",
       "      <td>5</td>\n",
       "      <td>3</td>\n",
       "      <td>3</td>\n",
       "      <td>1</td>\n",
       "      <td>A</td>\n",
       "      <td>B</td>\n",
       "      <td>1</td>\n",
       "      <td>N/A</td>\n",
       "      <td>157063</td>\n",
       "      <td>156623</td>\n",
       "      <td>167191</td>\n",
       "      <td>1716162159</td>\n",
       "      <td>1716162170</td>\n",
       "      <td>1716162154</td>\n",
       "      <td>1716162170</td>\n",
       "      <td>16</td>\n",
       "      <td>1716162159</td>\n",
       "      <td>1716162159</td>\n",
       "    </tr>\n",
       "    <tr>\n",
       "      <th>3</th>\n",
       "      <td>5</td>\n",
       "      <td>4</td>\n",
       "      <td>4</td>\n",
       "      <td>1</td>\n",
       "      <td>B</td>\n",
       "      <td>C</td>\n",
       "      <td>0</td>\n",
       "      <td>N/A</td>\n",
       "      <td>185988</td>\n",
       "      <td>177136</td>\n",
       "      <td>186217</td>\n",
       "      <td>1716162180</td>\n",
       "      <td>1716162189</td>\n",
       "      <td>1716162170</td>\n",
       "      <td>1716162189</td>\n",
       "      <td>19</td>\n",
       "      <td>N/A</td>\n",
       "      <td>N/A</td>\n",
       "    </tr>\n",
       "    <tr>\n",
       "      <th>4</th>\n",
       "      <td>5</td>\n",
       "      <td>5</td>\n",
       "      <td>5</td>\n",
       "      <td>1</td>\n",
       "      <td>C</td>\n",
       "      <td>B</td>\n",
       "      <td>1</td>\n",
       "      <td>N/A</td>\n",
       "      <td>194394</td>\n",
       "      <td>193973</td>\n",
       "      <td>203613</td>\n",
       "      <td>1716162197</td>\n",
       "      <td>1716162206</td>\n",
       "      <td>1716162189</td>\n",
       "      <td>1716162206</td>\n",
       "      <td>17</td>\n",
       "      <td>1716162197</td>\n",
       "      <td>1716162197</td>\n",
       "    </tr>\n",
       "    <tr>\n",
       "      <th>...</th>\n",
       "      <td>...</td>\n",
       "      <td>...</td>\n",
       "      <td>...</td>\n",
       "      <td>...</td>\n",
       "      <td>...</td>\n",
       "      <td>...</td>\n",
       "      <td>...</td>\n",
       "      <td>...</td>\n",
       "      <td>...</td>\n",
       "      <td>...</td>\n",
       "      <td>...</td>\n",
       "      <td>...</td>\n",
       "      <td>...</td>\n",
       "      <td>...</td>\n",
       "      <td>...</td>\n",
       "      <td>...</td>\n",
       "      <td>...</td>\n",
       "      <td>...</td>\n",
       "    </tr>\n",
       "    <tr>\n",
       "      <th>134</th>\n",
       "      <td>5</td>\n",
       "      <td>28</td>\n",
       "      <td>135</td>\n",
       "      <td>3</td>\n",
       "      <td>A</td>\n",
       "      <td>B</td>\n",
       "      <td>1</td>\n",
       "      <td>N/A</td>\n",
       "      <td>2208143</td>\n",
       "      <td>2207739</td>\n",
       "      <td>2221207</td>\n",
       "      <td>1716164210</td>\n",
       "      <td>1716164224</td>\n",
       "      <td>1716164200</td>\n",
       "      <td>1716164224</td>\n",
       "      <td>24</td>\n",
       "      <td>1716164210</td>\n",
       "      <td>1716164211</td>\n",
       "    </tr>\n",
       "    <tr>\n",
       "      <th>135</th>\n",
       "      <td>5</td>\n",
       "      <td>29</td>\n",
       "      <td>136</td>\n",
       "      <td>3</td>\n",
       "      <td>B</td>\n",
       "      <td>A</td>\n",
       "      <td>1</td>\n",
       "      <td>N/A</td>\n",
       "      <td>2231108</td>\n",
       "      <td>2230547</td>\n",
       "      <td>2242272</td>\n",
       "      <td>1716164233</td>\n",
       "      <td>1716164245</td>\n",
       "      <td>1716164224</td>\n",
       "      <td>1716164245</td>\n",
       "      <td>21</td>\n",
       "      <td>1716164233</td>\n",
       "      <td>1716164233</td>\n",
       "    </tr>\n",
       "    <tr>\n",
       "      <th>136</th>\n",
       "      <td>5</td>\n",
       "      <td>30</td>\n",
       "      <td>137</td>\n",
       "      <td>3</td>\n",
       "      <td>A</td>\n",
       "      <td>B</td>\n",
       "      <td>1</td>\n",
       "      <td>N/A</td>\n",
       "      <td>2253106</td>\n",
       "      <td>2252598</td>\n",
       "      <td>2266679</td>\n",
       "      <td>1716164255</td>\n",
       "      <td>1716164269</td>\n",
       "      <td>1716164245</td>\n",
       "      <td>1716164269</td>\n",
       "      <td>24</td>\n",
       "      <td>1716164255</td>\n",
       "      <td>1716164256</td>\n",
       "    </tr>\n",
       "    <tr>\n",
       "      <th>137</th>\n",
       "      <td>5</td>\n",
       "      <td>31</td>\n",
       "      <td>138</td>\n",
       "      <td>3</td>\n",
       "      <td>B</td>\n",
       "      <td>A</td>\n",
       "      <td>1</td>\n",
       "      <td>N/A</td>\n",
       "      <td>2277606</td>\n",
       "      <td>2277083</td>\n",
       "      <td>2290169</td>\n",
       "      <td>1716164280</td>\n",
       "      <td>1716164293</td>\n",
       "      <td>1716164269</td>\n",
       "      <td>1716164293</td>\n",
       "      <td>23</td>\n",
       "      <td>1716164280</td>\n",
       "      <td>1716164280</td>\n",
       "    </tr>\n",
       "    <tr>\n",
       "      <th>138</th>\n",
       "      <td>5</td>\n",
       "      <td>32</td>\n",
       "      <td>139</td>\n",
       "      <td>3</td>\n",
       "      <td>A</td>\n",
       "      <td>B</td>\n",
       "      <td>1</td>\n",
       "      <td>N/A</td>\n",
       "      <td>2300312</td>\n",
       "      <td>2299906</td>\n",
       "      <td>2312021</td>\n",
       "      <td>1716164303</td>\n",
       "      <td>1716164315</td>\n",
       "      <td>1716164293</td>\n",
       "      <td>1716164315</td>\n",
       "      <td>22</td>\n",
       "      <td>1716164303</td>\n",
       "      <td>1716164303</td>\n",
       "    </tr>\n",
       "  </tbody>\n",
       "</table>\n",
       "<p>139 rows × 18 columns</p>\n",
       "</div>"
      ],
      "text/plain": [
       "     epoch  trial_within_block  trial_within_session  block start_port  \\\n",
       "0        5                   1                     1      1       None   \n",
       "1        5                   2                     2      1          B   \n",
       "2        5                   3                     3      1          A   \n",
       "3        5                   4                     4      1          B   \n",
       "4        5                   5                     5      1          C   \n",
       "..     ...                 ...                   ...    ...        ...   \n",
       "134      5                  28                   135      3          A   \n",
       "135      5                  29                   136      3          B   \n",
       "136      5                  30                   137      3          A   \n",
       "137      5                  31                   138      3          B   \n",
       "138      5                  32                   139      3          A   \n",
       "\n",
       "    end_port  reward delay  statescript_reference_timestamp  \\\n",
       "0          B       1   N/A                           119187   \n",
       "1          A       0   N/A                           141553   \n",
       "2          B       1   N/A                           157063   \n",
       "3          C       0   N/A                           185988   \n",
       "4          B       1   N/A                           194394   \n",
       "..       ...     ...   ...                              ...   \n",
       "134        B       1   N/A                          2208143   \n",
       "135        A       1   N/A                          2231108   \n",
       "136        B       1   N/A                          2253106   \n",
       "137        A       1   N/A                          2277606   \n",
       "138        B       1   N/A                          2300312   \n",
       "\n",
       "    poke_in_time_statescript poke_out_time_statescript poke_in_time  \\\n",
       "0                     118917                    133403   1716162121   \n",
       "1                     141261                    151140   1716162144   \n",
       "2                     156623                    167191   1716162159   \n",
       "3                     177136                    186217   1716162180   \n",
       "4                     193973                    203613   1716162197   \n",
       "..                       ...                       ...          ...   \n",
       "134                  2207739                   2221207   1716164210   \n",
       "135                  2230547                   2242272   1716164233   \n",
       "136                  2252598                   2266679   1716164255   \n",
       "137                  2277083                   2290169   1716164280   \n",
       "138                  2299906                   2312021   1716164303   \n",
       "\n",
       "    poke_out_time start_time   end_time duration pump_on_time pump_off_time  \n",
       "0      1716162136 1716162118 1716162136       17   1716162122    1716162122  \n",
       "1      1716162154 1716162136 1716162154       18          N/A           N/A  \n",
       "2      1716162170 1716162154 1716162170       16   1716162159    1716162159  \n",
       "3      1716162189 1716162170 1716162189       19          N/A           N/A  \n",
       "4      1716162206 1716162189 1716162206       17   1716162197    1716162197  \n",
       "..            ...        ...        ...      ...          ...           ...  \n",
       "134    1716164224 1716164200 1716164224       24   1716164210    1716164211  \n",
       "135    1716164245 1716164224 1716164245       21   1716164233    1716164233  \n",
       "136    1716164269 1716164245 1716164269       24   1716164255    1716164256  \n",
       "137    1716164293 1716164269 1716164293       23   1716164280    1716164280  \n",
       "138    1716164315 1716164293 1716164315       22   1716164303    1716164303  \n",
       "\n",
       "[139 rows x 18 columns]"
      ]
     },
     "metadata": {},
     "output_type": "display_data"
    },
    {
     "data": {
      "text/html": [
       "<div>\n",
       "<style scoped>\n",
       "    .dataframe tbody tr th:only-of-type {\n",
       "        vertical-align: middle;\n",
       "    }\n",
       "\n",
       "    .dataframe tbody tr th {\n",
       "        vertical-align: top;\n",
       "    }\n",
       "\n",
       "    .dataframe thead th {\n",
       "        text-align: right;\n",
       "    }\n",
       "</style>\n",
       "<table border=\"1\" class=\"dataframe\">\n",
       "  <thead>\n",
       "    <tr style=\"text-align: right;\">\n",
       "      <th></th>\n",
       "      <th>epoch</th>\n",
       "      <th>block</th>\n",
       "      <th>pA</th>\n",
       "      <th>pB</th>\n",
       "      <th>pC</th>\n",
       "      <th>statescript_end_timestamp</th>\n",
       "      <th>start_trial</th>\n",
       "      <th>end_trial</th>\n",
       "      <th>num_trials</th>\n",
       "      <th>task_type</th>\n",
       "      <th>start_time</th>\n",
       "      <th>end_time</th>\n",
       "      <th>maze_configuration</th>\n",
       "    </tr>\n",
       "  </thead>\n",
       "  <tbody>\n",
       "    <tr>\n",
       "      <th>0</th>\n",
       "      <td>5</td>\n",
       "      <td>1</td>\n",
       "      <td>50</td>\n",
       "      <td>90</td>\n",
       "      <td>10</td>\n",
       "      <td>N/A</td>\n",
       "      <td>1</td>\n",
       "      <td>43</td>\n",
       "      <td>43</td>\n",
       "      <td>barrier change</td>\n",
       "      <td>1716162118</td>\n",
       "      <td>1716162699</td>\n",
       "      <td>9,11,16,21,29,33,37,44,46</td>\n",
       "    </tr>\n",
       "    <tr>\n",
       "      <th>1</th>\n",
       "      <td>5</td>\n",
       "      <td>2</td>\n",
       "      <td>50</td>\n",
       "      <td>90</td>\n",
       "      <td>10</td>\n",
       "      <td>N/A</td>\n",
       "      <td>44</td>\n",
       "      <td>107</td>\n",
       "      <td>64</td>\n",
       "      <td>barrier change</td>\n",
       "      <td>1716162699</td>\n",
       "      <td>1716163700</td>\n",
       "      <td>9,11,14,21,29,33,37,44,46</td>\n",
       "    </tr>\n",
       "    <tr>\n",
       "      <th>2</th>\n",
       "      <td>5</td>\n",
       "      <td>3</td>\n",
       "      <td>50</td>\n",
       "      <td>90</td>\n",
       "      <td>10</td>\n",
       "      <td>N/A</td>\n",
       "      <td>108</td>\n",
       "      <td>139</td>\n",
       "      <td>32</td>\n",
       "      <td>barrier change</td>\n",
       "      <td>1716163700</td>\n",
       "      <td>1716164315</td>\n",
       "      <td>9,11,14,20,21,33,37,44,46</td>\n",
       "    </tr>\n",
       "  </tbody>\n",
       "</table>\n",
       "</div>"
      ],
      "text/plain": [
       "   epoch  block  pA  pB  pC statescript_end_timestamp  start_trial  end_trial  \\\n",
       "0      5      1  50  90  10                       N/A            1         43   \n",
       "1      5      2  50  90  10                       N/A           44        107   \n",
       "2      5      3  50  90  10                       N/A          108        139   \n",
       "\n",
       "   num_trials       task_type  start_time   end_time  \\\n",
       "0          43  barrier change  1716162118 1716162699   \n",
       "1          64  barrier change  1716162699 1716163700   \n",
       "2          32  barrier change  1716163700 1716164315   \n",
       "\n",
       "          maze_configuration  \n",
       "0  9,11,16,21,29,33,37,44,46  \n",
       "1  9,11,14,21,29,33,37,44,46  \n",
       "2  9,11,14,20,21,33,37,44,46  "
      ]
     },
     "metadata": {},
     "output_type": "display_data"
    },
    {
     "name": "stdout",
     "output_type": "stream",
     "text": [
      "Parsing statescript for epoch 7 ...\n",
      "\n"
     ]
    },
    {
     "data": {
      "text/plain": [
       "{'contingency': {'timestamp': 47867, 'value': 0},\n",
       " 'trialThresh': {'timestamp': 47867, 'value': 72},\n",
       " 'totalPokes': {'timestamp': 47868, 'value': 1},\n",
       " 'totalRewards': {'timestamp': 47868, 'value': 0},\n",
       " 'ifDelay': {'timestamp': 47869, 'value': 0},\n",
       " 'countPokes1': {'timestamp': 47869, 'value': 0},\n",
       " 'countRewards1': {'timestamp': 47870, 'value': 0},\n",
       " 'portProbs1': {'timestamp': 47870, 'value': 10},\n",
       " 'countPokes2': {'timestamp': 47871, 'value': 1},\n",
       " 'countRewards2': {'timestamp': 47871, 'value': 0},\n",
       " 'portProbs2': {'timestamp': 47872, 'value': 50},\n",
       " 'countPokes3': {'timestamp': 47872, 'value': 0},\n",
       " 'countRewards3': {'timestamp': 47893, 'value': 0},\n",
       " 'portProbs3': {'timestamp': 47894, 'value': 90}}"
      ]
     },
     "metadata": {},
     "output_type": "display_data"
    },
    {
     "data": {
      "text/plain": [
       "{'contingency': {'timestamp': 62704, 'value': 0},\n",
       " 'trialThresh': {'timestamp': 62705, 'value': 72},\n",
       " 'totalPokes': {'timestamp': 62705, 'value': 2},\n",
       " 'totalRewards': {'timestamp': 62706, 'value': 0},\n",
       " 'ifDelay': {'timestamp': 62706, 'value': 0},\n",
       " 'countPokes1': {'timestamp': 62707, 'value': 1},\n",
       " 'countRewards1': {'timestamp': 62707, 'value': 0},\n",
       " 'portProbs1': {'timestamp': 62708, 'value': 10},\n",
       " 'countPokes2': {'timestamp': 62708, 'value': 1},\n",
       " 'countRewards2': {'timestamp': 62709, 'value': 0},\n",
       " 'portProbs2': {'timestamp': 62709, 'value': 50},\n",
       " 'countPokes3': {'timestamp': 62710, 'value': 0},\n",
       " 'countRewards3': {'timestamp': 62731, 'value': 0},\n",
       " 'portProbs3': {'timestamp': 62731, 'value': 90}}"
      ]
     },
     "metadata": {},
     "output_type": "display_data"
    },
    {
     "data": {
      "text/plain": [
       "{'contingency': {'timestamp': 80666, 'value': 0},\n",
       " 'trialThresh': {'timestamp': 80667, 'value': 72},\n",
       " 'totalPokes': {'timestamp': 80667, 'value': 3},\n",
       " 'totalRewards': {'timestamp': 80668, 'value': 1},\n",
       " 'ifDelay': {'timestamp': 80668, 'value': 0},\n",
       " 'countPokes1': {'timestamp': 80669, 'value': 1},\n",
       " 'countRewards1': {'timestamp': 80669, 'value': 0},\n",
       " 'portProbs1': {'timestamp': 80670, 'value': 10},\n",
       " 'countPokes2': {'timestamp': 80670, 'value': 1},\n",
       " 'countRewards2': {'timestamp': 80671, 'value': 0},\n",
       " 'portProbs2': {'timestamp': 80671, 'value': 50},\n",
       " 'countPokes3': {'timestamp': 80692, 'value': 1},\n",
       " 'countRewards3': {'timestamp': 80692, 'value': 1},\n",
       " 'portProbs3': {'timestamp': 80693, 'value': 90}}"
      ]
     },
     "metadata": {},
     "output_type": "display_data"
    },
    {
     "data": {
      "text/plain": [
       "{'contingency': {'timestamp': 103493, 'value': 0},\n",
       " 'trialThresh': {'timestamp': 103494, 'value': 72},\n",
       " 'totalPokes': {'timestamp': 103494, 'value': 4},\n",
       " 'totalRewards': {'timestamp': 103495, 'value': 1},\n",
       " 'ifDelay': {'timestamp': 103495, 'value': 0},\n",
       " 'countPokes1': {'timestamp': 103496, 'value': 1},\n",
       " 'countRewards1': {'timestamp': 103496, 'value': 0},\n",
       " 'portProbs1': {'timestamp': 103497, 'value': 10},\n",
       " 'countPokes2': {'timestamp': 103497, 'value': 2},\n",
       " 'countRewards2': {'timestamp': 103498, 'value': 0},\n",
       " 'portProbs2': {'timestamp': 103498, 'value': 50},\n",
       " 'countPokes3': {'timestamp': 103519, 'value': 1},\n",
       " 'countRewards3': {'timestamp': 103519, 'value': 1},\n",
       " 'portProbs3': {'timestamp': 103519, 'value': 90}}"
      ]
     },
     "metadata": {},
     "output_type": "display_data"
    },
    {
     "data": {
      "text/plain": [
       "{'contingency': {'timestamp': 109348, 'value': 0},\n",
       " 'trialThresh': {'timestamp': 109349, 'value': 72},\n",
       " 'totalPokes': {'timestamp': 109349, 'value': 5},\n",
       " 'totalRewards': {'timestamp': 109350, 'value': 1},\n",
       " 'ifDelay': {'timestamp': 109350, 'value': 0},\n",
       " 'countPokes1': {'timestamp': 109351, 'value': 2},\n",
       " 'countRewards1': {'timestamp': 109351, 'value': 0},\n",
       " 'portProbs1': {'timestamp': 109352, 'value': 10},\n",
       " 'countPokes2': {'timestamp': 109352, 'value': 2},\n",
       " 'countRewards2': {'timestamp': 109353, 'value': 0},\n",
       " 'portProbs2': {'timestamp': 109353, 'value': 50},\n",
       " 'countPokes3': {'timestamp': 109374, 'value': 1},\n",
       " 'countRewards3': {'timestamp': 109374, 'value': 1},\n",
       " 'portProbs3': {'timestamp': 109374, 'value': 90}}"
      ]
     },
     "metadata": {},
     "output_type": "display_data"
    },
    {
     "data": {
      "text/plain": [
       "{'contingency': {'timestamp': 116681, 'value': 0},\n",
       " 'trialThresh': {'timestamp': 116682, 'value': 72},\n",
       " 'totalPokes': {'timestamp': 116682, 'value': 6},\n",
       " 'totalRewards': {'timestamp': 116683, 'value': 2},\n",
       " 'ifDelay': {'timestamp': 116683, 'value': 0},\n",
       " 'countPokes1': {'timestamp': 116684, 'value': 2},\n",
       " 'countRewards1': {'timestamp': 116684, 'value': 0},\n",
       " 'portProbs1': {'timestamp': 116685, 'value': 10},\n",
       " 'countPokes2': {'timestamp': 116685, 'value': 2},\n",
       " 'countRewards2': {'timestamp': 116686, 'value': 0},\n",
       " 'portProbs2': {'timestamp': 116707, 'value': 50},\n",
       " 'countPokes3': {'timestamp': 116707, 'value': 2},\n",
       " 'countRewards3': {'timestamp': 116708, 'value': 2},\n",
       " 'portProbs3': {'timestamp': 116708, 'value': 90}}"
      ]
     },
     "metadata": {},
     "output_type": "display_data"
    },
    {
     "data": {
      "text/plain": [
       "{'contingency': {'timestamp': 133876, 'value': 0},\n",
       " 'trialThresh': {'timestamp': 133877, 'value': 72},\n",
       " 'totalPokes': {'timestamp': 133877, 'value': 7},\n",
       " 'totalRewards': {'timestamp': 133877, 'value': 3},\n",
       " 'ifDelay': {'timestamp': 133878, 'value': 0},\n",
       " 'countPokes1': {'timestamp': 133878, 'value': 2},\n",
       " 'countRewards1': {'timestamp': 133879, 'value': 0},\n",
       " 'portProbs1': {'timestamp': 133879, 'value': 10},\n",
       " 'countPokes2': {'timestamp': 133880, 'value': 3},\n",
       " 'countRewards2': {'timestamp': 133880, 'value': 1},\n",
       " 'portProbs2': {'timestamp': 133881, 'value': 50},\n",
       " 'countPokes3': {'timestamp': 133901, 'value': 2},\n",
       " 'countRewards3': {'timestamp': 133902, 'value': 2},\n",
       " 'portProbs3': {'timestamp': 133902, 'value': 90}}"
      ]
     },
     "metadata": {},
     "output_type": "display_data"
    },
    {
     "data": {
      "text/plain": [
       "{'contingency': {'timestamp': 149392, 'value': 0},\n",
       " 'trialThresh': {'timestamp': 149392, 'value': 72},\n",
       " 'totalPokes': {'timestamp': 149393, 'value': 8},\n",
       " 'totalRewards': {'timestamp': 149393, 'value': 3},\n",
       " 'ifDelay': {'timestamp': 149394, 'value': 0},\n",
       " 'countPokes1': {'timestamp': 149394, 'value': 3},\n",
       " 'countRewards1': {'timestamp': 149395, 'value': 0},\n",
       " 'portProbs1': {'timestamp': 149395, 'value': 10},\n",
       " 'countPokes2': {'timestamp': 149396, 'value': 3},\n",
       " 'countRewards2': {'timestamp': 149396, 'value': 1},\n",
       " 'portProbs2': {'timestamp': 149397, 'value': 50},\n",
       " 'countPokes3': {'timestamp': 149417, 'value': 2},\n",
       " 'countRewards3': {'timestamp': 149418, 'value': 2},\n",
       " 'portProbs3': {'timestamp': 149418, 'value': 90}}"
      ]
     },
     "metadata": {},
     "output_type": "display_data"
    },
    {
     "data": {
      "text/plain": [
       "{'contingency': {'timestamp': 167011, 'value': 0},\n",
       " 'trialThresh': {'timestamp': 167012, 'value': 72},\n",
       " 'totalPokes': {'timestamp': 167012, 'value': 9},\n",
       " 'totalRewards': {'timestamp': 167013, 'value': 3},\n",
       " 'ifDelay': {'timestamp': 167013, 'value': 0},\n",
       " 'countPokes1': {'timestamp': 167013, 'value': 3},\n",
       " 'countRewards1': {'timestamp': 167014, 'value': 0},\n",
       " 'portProbs1': {'timestamp': 167014, 'value': 10},\n",
       " 'countPokes2': {'timestamp': 167015, 'value': 3},\n",
       " 'countRewards2': {'timestamp': 167015, 'value': 1},\n",
       " 'portProbs2': {'timestamp': 167016, 'value': 50},\n",
       " 'countPokes3': {'timestamp': 167036, 'value': 3},\n",
       " 'countRewards3': {'timestamp': 167037, 'value': 2},\n",
       " 'portProbs3': {'timestamp': 167037, 'value': 90}}"
      ]
     },
     "metadata": {},
     "output_type": "display_data"
    },
    {
     "data": {
      "text/plain": [
       "{'contingency': {'timestamp': 174600, 'value': 0},\n",
       " 'trialThresh': {'timestamp': 174601, 'value': 72},\n",
       " 'totalPokes': {'timestamp': 174601, 'value': 10},\n",
       " 'totalRewards': {'timestamp': 174602, 'value': 3},\n",
       " 'ifDelay': {'timestamp': 174602, 'value': 0},\n",
       " 'countPokes1': {'timestamp': 174602, 'value': 4},\n",
       " 'countRewards1': {'timestamp': 174603, 'value': 0},\n",
       " 'portProbs1': {'timestamp': 174603, 'value': 10},\n",
       " 'countPokes2': {'timestamp': 174604, 'value': 3},\n",
       " 'countRewards2': {'timestamp': 174604, 'value': 1},\n",
       " 'portProbs2': {'timestamp': 174605, 'value': 50},\n",
       " 'countPokes3': {'timestamp': 174625, 'value': 3},\n",
       " 'countRewards3': {'timestamp': 174626, 'value': 2},\n",
       " 'portProbs3': {'timestamp': 174626, 'value': 90}}"
      ]
     },
     "metadata": {},
     "output_type": "display_data"
    },
    {
     "data": {
      "text/plain": [
       "{'contingency': {'timestamp': 180633, 'value': 0},\n",
       " 'trialThresh': {'timestamp': 180634, 'value': 72},\n",
       " 'totalPokes': {'timestamp': 180634, 'value': 11},\n",
       " 'totalRewards': {'timestamp': 180635, 'value': 4},\n",
       " 'ifDelay': {'timestamp': 180635, 'value': 0},\n",
       " 'countPokes1': {'timestamp': 180636, 'value': 4},\n",
       " 'countRewards1': {'timestamp': 180636, 'value': 0},\n",
       " 'portProbs1': {'timestamp': 180637, 'value': 10},\n",
       " 'countPokes2': {'timestamp': 180637, 'value': 4},\n",
       " 'countRewards2': {'timestamp': 180638, 'value': 2},\n",
       " 'portProbs2': {'timestamp': 180638, 'value': 50},\n",
       " 'countPokes3': {'timestamp': 180659, 'value': 3},\n",
       " 'countRewards3': {'timestamp': 180659, 'value': 2},\n",
       " 'portProbs3': {'timestamp': 180660, 'value': 90}}"
      ]
     },
     "metadata": {},
     "output_type": "display_data"
    },
    {
     "data": {
      "text/plain": [
       "{'contingency': {'timestamp': 196305, 'value': 0},\n",
       " 'trialThresh': {'timestamp': 196306, 'value': 72},\n",
       " 'totalPokes': {'timestamp': 196306, 'value': 12},\n",
       " 'totalRewards': {'timestamp': 196307, 'value': 4},\n",
       " 'ifDelay': {'timestamp': 196307, 'value': 1},\n",
       " 'countPokes1': {'timestamp': 196308, 'value': 5},\n",
       " 'countRewards1': {'timestamp': 196308, 'value': 0},\n",
       " 'portProbs1': {'timestamp': 196309, 'value': 10},\n",
       " 'countPokes2': {'timestamp': 196309, 'value': 4},\n",
       " 'countRewards2': {'timestamp': 196310, 'value': 2},\n",
       " 'portProbs2': {'timestamp': 196310, 'value': 50},\n",
       " 'countPokes3': {'timestamp': 196331, 'value': 3},\n",
       " 'countRewards3': {'timestamp': 196331, 'value': 2},\n",
       " 'portProbs3': {'timestamp': 196332, 'value': 90}}"
      ]
     },
     "metadata": {},
     "output_type": "display_data"
    },
    {
     "data": {
      "text/plain": [
       "{'contingency': {'timestamp': 202455, 'value': 0},\n",
       " 'trialThresh': {'timestamp': 202455, 'value': 72},\n",
       " 'totalPokes': {'timestamp': 202456, 'value': 13},\n",
       " 'totalRewards': {'timestamp': 202456, 'value': 4},\n",
       " 'ifDelay': {'timestamp': 202457, 'value': 1},\n",
       " 'countPokes1': {'timestamp': 202457, 'value': 5},\n",
       " 'countRewards1': {'timestamp': 202457, 'value': 0},\n",
       " 'portProbs1': {'timestamp': 202458, 'value': 10},\n",
       " 'countPokes2': {'timestamp': 202458, 'value': 5},\n",
       " 'countRewards2': {'timestamp': 202459, 'value': 2},\n",
       " 'portProbs2': {'timestamp': 202459, 'value': 50},\n",
       " 'countPokes3': {'timestamp': 202480, 'value': 3},\n",
       " 'countRewards3': {'timestamp': 202480, 'value': 2},\n",
       " 'portProbs3': {'timestamp': 202481, 'value': 90}}"
      ]
     },
     "metadata": {},
     "output_type": "display_data"
    },
    {
     "data": {
      "text/plain": [
       "{'contingency': {'timestamp': 210335, 'value': 0},\n",
       " 'trialThresh': {'timestamp': 210336, 'value': 72},\n",
       " 'totalPokes': {'timestamp': 210336, 'value': 14},\n",
       " 'totalRewards': {'timestamp': 210337, 'value': 5},\n",
       " 'ifDelay': {'timestamp': 210337, 'value': 1},\n",
       " 'countPokes1': {'timestamp': 210338, 'value': 5},\n",
       " 'countRewards1': {'timestamp': 210338, 'value': 0},\n",
       " 'portProbs1': {'timestamp': 210339, 'value': 10},\n",
       " 'countPokes2': {'timestamp': 210339, 'value': 5},\n",
       " 'countRewards2': {'timestamp': 210339, 'value': 2},\n",
       " 'portProbs2': {'timestamp': 210340, 'value': 50},\n",
       " 'countPokes3': {'timestamp': 210361, 'value': 4},\n",
       " 'countRewards3': {'timestamp': 210361, 'value': 3},\n",
       " 'portProbs3': {'timestamp': 210362, 'value': 90}}"
      ]
     },
     "metadata": {},
     "output_type": "display_data"
    },
    {
     "data": {
      "text/plain": [
       "{'contingency': {'timestamp': 225189, 'value': 0},\n",
       " 'trialThresh': {'timestamp': 225190, 'value': 72},\n",
       " 'totalPokes': {'timestamp': 225190, 'value': 15},\n",
       " 'totalRewards': {'timestamp': 225191, 'value': 5},\n",
       " 'ifDelay': {'timestamp': 225191, 'value': 0},\n",
       " 'countPokes1': {'timestamp': 225192, 'value': 6},\n",
       " 'countRewards1': {'timestamp': 225192, 'value': 0},\n",
       " 'portProbs1': {'timestamp': 225193, 'value': 10},\n",
       " 'countPokes2': {'timestamp': 225193, 'value': 5},\n",
       " 'countRewards2': {'timestamp': 225194, 'value': 2},\n",
       " 'portProbs2': {'timestamp': 225194, 'value': 50},\n",
       " 'countPokes3': {'timestamp': 225215, 'value': 4},\n",
       " 'countRewards3': {'timestamp': 225215, 'value': 3},\n",
       " 'portProbs3': {'timestamp': 225216, 'value': 90}}"
      ]
     },
     "metadata": {},
     "output_type": "display_data"
    },
    {
     "data": {
      "text/plain": [
       "{'contingency': {'timestamp': 230910, 'value': 0},\n",
       " 'trialThresh': {'timestamp': 230910, 'value': 72},\n",
       " 'totalPokes': {'timestamp': 230911, 'value': 16},\n",
       " 'totalRewards': {'timestamp': 230911, 'value': 5},\n",
       " 'ifDelay': {'timestamp': 230912, 'value': 0},\n",
       " 'countPokes1': {'timestamp': 230912, 'value': 6},\n",
       " 'countRewards1': {'timestamp': 230913, 'value': 0},\n",
       " 'portProbs1': {'timestamp': 230913, 'value': 10},\n",
       " 'countPokes2': {'timestamp': 230914, 'value': 6},\n",
       " 'countRewards2': {'timestamp': 230914, 'value': 2},\n",
       " 'portProbs2': {'timestamp': 230914, 'value': 50},\n",
       " 'countPokes3': {'timestamp': 230935, 'value': 4},\n",
       " 'countRewards3': {'timestamp': 230936, 'value': 3},\n",
       " 'portProbs3': {'timestamp': 230936, 'value': 90}}"
      ]
     },
     "metadata": {},
     "output_type": "display_data"
    },
    {
     "data": {
      "text/plain": [
       "{'contingency': {'timestamp': 238231, 'value': 0},\n",
       " 'trialThresh': {'timestamp': 238231, 'value': 72},\n",
       " 'totalPokes': {'timestamp': 238232, 'value': 17},\n",
       " 'totalRewards': {'timestamp': 238232, 'value': 6},\n",
       " 'ifDelay': {'timestamp': 238233, 'value': 0},\n",
       " 'countPokes1': {'timestamp': 238233, 'value': 6},\n",
       " 'countRewards1': {'timestamp': 238234, 'value': 0},\n",
       " 'portProbs1': {'timestamp': 238234, 'value': 10},\n",
       " 'countPokes2': {'timestamp': 238235, 'value': 6},\n",
       " 'countRewards2': {'timestamp': 238235, 'value': 2},\n",
       " 'portProbs2': {'timestamp': 238236, 'value': 50},\n",
       " 'countPokes3': {'timestamp': 238256, 'value': 5},\n",
       " 'countRewards3': {'timestamp': 238257, 'value': 4},\n",
       " 'portProbs3': {'timestamp': 238257, 'value': 90}}"
      ]
     },
     "metadata": {},
     "output_type": "display_data"
    },
    {
     "data": {
      "text/plain": [
       "{'contingency': {'timestamp': 253255, 'value': 0},\n",
       " 'trialThresh': {'timestamp': 253255, 'value': 72},\n",
       " 'totalPokes': {'timestamp': 253256, 'value': 18},\n",
       " 'totalRewards': {'timestamp': 253256, 'value': 6},\n",
       " 'ifDelay': {'timestamp': 253257, 'value': 1},\n",
       " 'countPokes1': {'timestamp': 253257, 'value': 7},\n",
       " 'countRewards1': {'timestamp': 253258, 'value': 0},\n",
       " 'portProbs1': {'timestamp': 253258, 'value': 10},\n",
       " 'countPokes2': {'timestamp': 253258, 'value': 6},\n",
       " 'countRewards2': {'timestamp': 253259, 'value': 2},\n",
       " 'portProbs2': {'timestamp': 253259, 'value': 50},\n",
       " 'countPokes3': {'timestamp': 253280, 'value': 5},\n",
       " 'countRewards3': {'timestamp': 253281, 'value': 4},\n",
       " 'portProbs3': {'timestamp': 253281, 'value': 90}}"
      ]
     },
     "metadata": {},
     "output_type": "display_data"
    },
    {
     "data": {
      "text/plain": [
       "{'contingency': {'timestamp': 259695, 'value': 0},\n",
       " 'trialThresh': {'timestamp': 259696, 'value': 72},\n",
       " 'totalPokes': {'timestamp': 259696, 'value': 19},\n",
       " 'totalRewards': {'timestamp': 259697, 'value': 6},\n",
       " 'ifDelay': {'timestamp': 259697, 'value': 1},\n",
       " 'countPokes1': {'timestamp': 259698, 'value': 7},\n",
       " 'countRewards1': {'timestamp': 259698, 'value': 0},\n",
       " 'portProbs1': {'timestamp': 259698, 'value': 10},\n",
       " 'countPokes2': {'timestamp': 259699, 'value': 7},\n",
       " 'countRewards2': {'timestamp': 259699, 'value': 2},\n",
       " 'portProbs2': {'timestamp': 259700, 'value': 50},\n",
       " 'countPokes3': {'timestamp': 259721, 'value': 5},\n",
       " 'countRewards3': {'timestamp': 259721, 'value': 4},\n",
       " 'portProbs3': {'timestamp': 259721, 'value': 90}}"
      ]
     },
     "metadata": {},
     "output_type": "display_data"
    },
    {
     "data": {
      "text/plain": [
       "{'contingency': {'timestamp': 267005, 'value': 0},\n",
       " 'trialThresh': {'timestamp': 267006, 'value': 72},\n",
       " 'totalPokes': {'timestamp': 267006, 'value': 20},\n",
       " 'totalRewards': {'timestamp': 267007, 'value': 7},\n",
       " 'ifDelay': {'timestamp': 267007, 'value': 1},\n",
       " 'countPokes1': {'timestamp': 267008, 'value': 7},\n",
       " 'countRewards1': {'timestamp': 267008, 'value': 0},\n",
       " 'portProbs1': {'timestamp': 267009, 'value': 10},\n",
       " 'countPokes2': {'timestamp': 267009, 'value': 7},\n",
       " 'countRewards2': {'timestamp': 267009, 'value': 2},\n",
       " 'portProbs2': {'timestamp': 267010, 'value': 50},\n",
       " 'countPokes3': {'timestamp': 267031, 'value': 6},\n",
       " 'countRewards3': {'timestamp': 267031, 'value': 5},\n",
       " 'portProbs3': {'timestamp': 267032, 'value': 90}}"
      ]
     },
     "metadata": {},
     "output_type": "display_data"
    },
    {
     "data": {
      "text/plain": [
       "{'contingency': {'timestamp': 280290, 'value': 0},\n",
       " 'trialThresh': {'timestamp': 280291, 'value': 72},\n",
       " 'totalPokes': {'timestamp': 280291, 'value': 21},\n",
       " 'totalRewards': {'timestamp': 280292, 'value': 7},\n",
       " 'ifDelay': {'timestamp': 280292, 'value': 0},\n",
       " 'countPokes1': {'timestamp': 280293, 'value': 8},\n",
       " 'countRewards1': {'timestamp': 280293, 'value': 0},\n",
       " 'portProbs1': {'timestamp': 280294, 'value': 10},\n",
       " 'countPokes2': {'timestamp': 280294, 'value': 7},\n",
       " 'countRewards2': {'timestamp': 280294, 'value': 2},\n",
       " 'portProbs2': {'timestamp': 280295, 'value': 50},\n",
       " 'countPokes3': {'timestamp': 280316, 'value': 6},\n",
       " 'countRewards3': {'timestamp': 280316, 'value': 5},\n",
       " 'portProbs3': {'timestamp': 280317, 'value': 90}}"
      ]
     },
     "metadata": {},
     "output_type": "display_data"
    },
    {
     "data": {
      "text/plain": [
       "{'contingency': {'timestamp': 287641, 'value': 0},\n",
       " 'trialThresh': {'timestamp': 287641, 'value': 72},\n",
       " 'totalPokes': {'timestamp': 287642, 'value': 22},\n",
       " 'totalRewards': {'timestamp': 287642, 'value': 7},\n",
       " 'ifDelay': {'timestamp': 287643, 'value': 0},\n",
       " 'countPokes1': {'timestamp': 287643, 'value': 8},\n",
       " 'countRewards1': {'timestamp': 287644, 'value': 0},\n",
       " 'portProbs1': {'timestamp': 287644, 'value': 10},\n",
       " 'countPokes2': {'timestamp': 287645, 'value': 8},\n",
       " 'countRewards2': {'timestamp': 287645, 'value': 2},\n",
       " 'portProbs2': {'timestamp': 287645, 'value': 50},\n",
       " 'countPokes3': {'timestamp': 287666, 'value': 6},\n",
       " 'countRewards3': {'timestamp': 287667, 'value': 5},\n",
       " 'portProbs3': {'timestamp': 287667, 'value': 90}}"
      ]
     },
     "metadata": {},
     "output_type": "display_data"
    },
    {
     "data": {
      "text/plain": [
       "{'contingency': {'timestamp': 293112, 'value': 0},\n",
       " 'trialThresh': {'timestamp': 293112, 'value': 72},\n",
       " 'totalPokes': {'timestamp': 293113, 'value': 23},\n",
       " 'totalRewards': {'timestamp': 293113, 'value': 7},\n",
       " 'ifDelay': {'timestamp': 293114, 'value': 0},\n",
       " 'countPokes1': {'timestamp': 293114, 'value': 9},\n",
       " 'countRewards1': {'timestamp': 293115, 'value': 0},\n",
       " 'portProbs1': {'timestamp': 293115, 'value': 10},\n",
       " 'countPokes2': {'timestamp': 293116, 'value': 8},\n",
       " 'countRewards2': {'timestamp': 293116, 'value': 2},\n",
       " 'portProbs2': {'timestamp': 293117, 'value': 50},\n",
       " 'countPokes3': {'timestamp': 293137, 'value': 6},\n",
       " 'countRewards3': {'timestamp': 293138, 'value': 5},\n",
       " 'portProbs3': {'timestamp': 293138, 'value': 90}}"
      ]
     },
     "metadata": {},
     "output_type": "display_data"
    },
    {
     "data": {
      "text/plain": [
       "{'contingency': {'timestamp': 304977, 'value': 0},\n",
       " 'trialThresh': {'timestamp': 304977, 'value': 72},\n",
       " 'totalPokes': {'timestamp': 304978, 'value': 24},\n",
       " 'totalRewards': {'timestamp': 304978, 'value': 8},\n",
       " 'ifDelay': {'timestamp': 304979, 'value': 0},\n",
       " 'countPokes1': {'timestamp': 304979, 'value': 9},\n",
       " 'countRewards1': {'timestamp': 304980, 'value': 0},\n",
       " 'portProbs1': {'timestamp': 304980, 'value': 10},\n",
       " 'countPokes2': {'timestamp': 304981, 'value': 8},\n",
       " 'countRewards2': {'timestamp': 304981, 'value': 2},\n",
       " 'portProbs2': {'timestamp': 304982, 'value': 50},\n",
       " 'countPokes3': {'timestamp': 305002, 'value': 7},\n",
       " 'countRewards3': {'timestamp': 305003, 'value': 6},\n",
       " 'portProbs3': {'timestamp': 305003, 'value': 90}}"
      ]
     },
     "metadata": {},
     "output_type": "display_data"
    },
    {
     "data": {
      "text/plain": [
       "{'contingency': {'timestamp': 317757, 'value': 0},\n",
       " 'trialThresh': {'timestamp': 317757, 'value': 72},\n",
       " 'totalPokes': {'timestamp': 317758, 'value': 25},\n",
       " 'totalRewards': {'timestamp': 317758, 'value': 8},\n",
       " 'ifDelay': {'timestamp': 317759, 'value': 0},\n",
       " 'countPokes1': {'timestamp': 317759, 'value': 9},\n",
       " 'countRewards1': {'timestamp': 317760, 'value': 0},\n",
       " 'portProbs1': {'timestamp': 317760, 'value': 10},\n",
       " 'countPokes2': {'timestamp': 317761, 'value': 9},\n",
       " 'countRewards2': {'timestamp': 317761, 'value': 2},\n",
       " 'portProbs2': {'timestamp': 317762, 'value': 50},\n",
       " 'countPokes3': {'timestamp': 317782, 'value': 7},\n",
       " 'countRewards3': {'timestamp': 317783, 'value': 6},\n",
       " 'portProbs3': {'timestamp': 317783, 'value': 90}}"
      ]
     },
     "metadata": {},
     "output_type": "display_data"
    },
    {
     "data": {
      "text/plain": [
       "{'contingency': {'timestamp': 325676, 'value': 0},\n",
       " 'trialThresh': {'timestamp': 325677, 'value': 72},\n",
       " 'totalPokes': {'timestamp': 325677, 'value': 26},\n",
       " 'totalRewards': {'timestamp': 325678, 'value': 9},\n",
       " 'ifDelay': {'timestamp': 325678, 'value': 0},\n",
       " 'countPokes1': {'timestamp': 325679, 'value': 9},\n",
       " 'countRewards1': {'timestamp': 325679, 'value': 0},\n",
       " 'portProbs1': {'timestamp': 325679, 'value': 10},\n",
       " 'countPokes2': {'timestamp': 325680, 'value': 9},\n",
       " 'countRewards2': {'timestamp': 325680, 'value': 2},\n",
       " 'portProbs2': {'timestamp': 325681, 'value': 50},\n",
       " 'countPokes3': {'timestamp': 325702, 'value': 8},\n",
       " 'countRewards3': {'timestamp': 325702, 'value': 7},\n",
       " 'portProbs3': {'timestamp': 325703, 'value': 90}}"
      ]
     },
     "metadata": {},
     "output_type": "display_data"
    },
    {
     "data": {
      "text/plain": [
       "{'contingency': {'timestamp': 338856, 'value': 0},\n",
       " 'trialThresh': {'timestamp': 338856, 'value': 72},\n",
       " 'totalPokes': {'timestamp': 338857, 'value': 27},\n",
       " 'totalRewards': {'timestamp': 338857, 'value': 10},\n",
       " 'ifDelay': {'timestamp': 338858, 'value': 1},\n",
       " 'countPokes1': {'timestamp': 338858, 'value': 10},\n",
       " 'countRewards1': {'timestamp': 338859, 'value': 1},\n",
       " 'portProbs1': {'timestamp': 338859, 'value': 10},\n",
       " 'countPokes2': {'timestamp': 338860, 'value': 9},\n",
       " 'countRewards2': {'timestamp': 338860, 'value': 2},\n",
       " 'portProbs2': {'timestamp': 338861, 'value': 50},\n",
       " 'countPokes3': {'timestamp': 338881, 'value': 8},\n",
       " 'countRewards3': {'timestamp': 338882, 'value': 7},\n",
       " 'portProbs3': {'timestamp': 338882, 'value': 90}}"
      ]
     },
     "metadata": {},
     "output_type": "display_data"
    },
    {
     "data": {
      "text/plain": [
       "{'contingency': {'timestamp': 354572, 'value': 0},\n",
       " 'trialThresh': {'timestamp': 354572, 'value': 72},\n",
       " 'totalPokes': {'timestamp': 354573, 'value': 28},\n",
       " 'totalRewards': {'timestamp': 354573, 'value': 11},\n",
       " 'ifDelay': {'timestamp': 354574, 'value': 1},\n",
       " 'countPokes1': {'timestamp': 354574, 'value': 10},\n",
       " 'countRewards1': {'timestamp': 354575, 'value': 1},\n",
       " 'portProbs1': {'timestamp': 354575, 'value': 10},\n",
       " 'countPokes2': {'timestamp': 354576, 'value': 10},\n",
       " 'countRewards2': {'timestamp': 354576, 'value': 3},\n",
       " 'portProbs2': {'timestamp': 354576, 'value': 50},\n",
       " 'countPokes3': {'timestamp': 354597, 'value': 8},\n",
       " 'countRewards3': {'timestamp': 354598, 'value': 7},\n",
       " 'portProbs3': {'timestamp': 354598, 'value': 90}}"
      ]
     },
     "metadata": {},
     "output_type": "display_data"
    },
    {
     "data": {
      "text/plain": [
       "{'contingency': {'timestamp': 369159, 'value': 0},\n",
       " 'trialThresh': {'timestamp': 369160, 'value': 72},\n",
       " 'totalPokes': {'timestamp': 369160, 'value': 29},\n",
       " 'totalRewards': {'timestamp': 369161, 'value': 11},\n",
       " 'ifDelay': {'timestamp': 369161, 'value': 1},\n",
       " 'countPokes1': {'timestamp': 369162, 'value': 11},\n",
       " 'countRewards1': {'timestamp': 369162, 'value': 1},\n",
       " 'portProbs1': {'timestamp': 369163, 'value': 10},\n",
       " 'countPokes2': {'timestamp': 369163, 'value': 10},\n",
       " 'countRewards2': {'timestamp': 369164, 'value': 3},\n",
       " 'portProbs2': {'timestamp': 369164, 'value': 50},\n",
       " 'countPokes3': {'timestamp': 369185, 'value': 8},\n",
       " 'countRewards3': {'timestamp': 369185, 'value': 7},\n",
       " 'portProbs3': {'timestamp': 369186, 'value': 90}}"
      ]
     },
     "metadata": {},
     "output_type": "display_data"
    },
    {
     "data": {
      "text/plain": [
       "{'contingency': {'timestamp': 375151, 'value': 0},\n",
       " 'trialThresh': {'timestamp': 375151, 'value': 72},\n",
       " 'totalPokes': {'timestamp': 375152, 'value': 30},\n",
       " 'totalRewards': {'timestamp': 375152, 'value': 12},\n",
       " 'ifDelay': {'timestamp': 375153, 'value': 1},\n",
       " 'countPokes1': {'timestamp': 375153, 'value': 11},\n",
       " 'countRewards1': {'timestamp': 375154, 'value': 1},\n",
       " 'portProbs1': {'timestamp': 375154, 'value': 10},\n",
       " 'countPokes2': {'timestamp': 375155, 'value': 11},\n",
       " 'countRewards2': {'timestamp': 375155, 'value': 4},\n",
       " 'portProbs2': {'timestamp': 375156, 'value': 50},\n",
       " 'countPokes3': {'timestamp': 375176, 'value': 8},\n",
       " 'countRewards3': {'timestamp': 375177, 'value': 7},\n",
       " 'portProbs3': {'timestamp': 375177, 'value': 90}}"
      ]
     },
     "metadata": {},
     "output_type": "display_data"
    },
    {
     "data": {
      "text/plain": [
       "{'contingency': {'timestamp': 389437, 'value': 0},\n",
       " 'trialThresh': {'timestamp': 389438, 'value': 72},\n",
       " 'totalPokes': {'timestamp': 389438, 'value': 31},\n",
       " 'totalRewards': {'timestamp': 389439, 'value': 13},\n",
       " 'ifDelay': {'timestamp': 389439, 'value': 0},\n",
       " 'countPokes1': {'timestamp': 389440, 'value': 11},\n",
       " 'countRewards1': {'timestamp': 389440, 'value': 1},\n",
       " 'portProbs1': {'timestamp': 389441, 'value': 10},\n",
       " 'countPokes2': {'timestamp': 389441, 'value': 11},\n",
       " 'countRewards2': {'timestamp': 389442, 'value': 4},\n",
       " 'portProbs2': {'timestamp': 389463, 'value': 50},\n",
       " 'countPokes3': {'timestamp': 389463, 'value': 9},\n",
       " 'countRewards3': {'timestamp': 389464, 'value': 8},\n",
       " 'portProbs3': {'timestamp': 389464, 'value': 90}}"
      ]
     },
     "metadata": {},
     "output_type": "display_data"
    },
    {
     "data": {
      "text/plain": [
       "{'contingency': {'timestamp': 406254, 'value': 0},\n",
       " 'trialThresh': {'timestamp': 406255, 'value': 72},\n",
       " 'totalPokes': {'timestamp': 406255, 'value': 32},\n",
       " 'totalRewards': {'timestamp': 406256, 'value': 13},\n",
       " 'ifDelay': {'timestamp': 406256, 'value': 0},\n",
       " 'countPokes1': {'timestamp': 406257, 'value': 11},\n",
       " 'countRewards1': {'timestamp': 406257, 'value': 1},\n",
       " 'portProbs1': {'timestamp': 406258, 'value': 10},\n",
       " 'countPokes2': {'timestamp': 406258, 'value': 12},\n",
       " 'countRewards2': {'timestamp': 406259, 'value': 4},\n",
       " 'portProbs2': {'timestamp': 406259, 'value': 50},\n",
       " 'countPokes3': {'timestamp': 406280, 'value': 9},\n",
       " 'countRewards3': {'timestamp': 406281, 'value': 8},\n",
       " 'portProbs3': {'timestamp': 406281, 'value': 90}}"
      ]
     },
     "metadata": {},
     "output_type": "display_data"
    },
    {
     "data": {
      "text/plain": [
       "{'contingency': {'timestamp': 414657, 'value': 0},\n",
       " 'trialThresh': {'timestamp': 414658, 'value': 72},\n",
       " 'totalPokes': {'timestamp': 414658, 'value': 33},\n",
       " 'totalRewards': {'timestamp': 414659, 'value': 14},\n",
       " 'ifDelay': {'timestamp': 414659, 'value': 0},\n",
       " 'countPokes1': {'timestamp': 414660, 'value': 11},\n",
       " 'countRewards1': {'timestamp': 414660, 'value': 1},\n",
       " 'portProbs1': {'timestamp': 414661, 'value': 10},\n",
       " 'countPokes2': {'timestamp': 414661, 'value': 12},\n",
       " 'countRewards2': {'timestamp': 414662, 'value': 4},\n",
       " 'portProbs2': {'timestamp': 414662, 'value': 50},\n",
       " 'countPokes3': {'timestamp': 414683, 'value': 10},\n",
       " 'countRewards3': {'timestamp': 414684, 'value': 9},\n",
       " 'portProbs3': {'timestamp': 414684, 'value': 90}}"
      ]
     },
     "metadata": {},
     "output_type": "display_data"
    },
    {
     "data": {
      "text/plain": [
       "{'contingency': {'timestamp': 429254, 'value': 0},\n",
       " 'trialThresh': {'timestamp': 429254, 'value': 72},\n",
       " 'totalPokes': {'timestamp': 429255, 'value': 34},\n",
       " 'totalRewards': {'timestamp': 429255, 'value': 15},\n",
       " 'ifDelay': {'timestamp': 429255, 'value': 0},\n",
       " 'countPokes1': {'timestamp': 429256, 'value': 12},\n",
       " 'countRewards1': {'timestamp': 429256, 'value': 2},\n",
       " 'portProbs1': {'timestamp': 429257, 'value': 10},\n",
       " 'countPokes2': {'timestamp': 429257, 'value': 12},\n",
       " 'countRewards2': {'timestamp': 429258, 'value': 4},\n",
       " 'portProbs2': {'timestamp': 429279, 'value': 50},\n",
       " 'countPokes3': {'timestamp': 429280, 'value': 10},\n",
       " 'countRewards3': {'timestamp': 429280, 'value': 9},\n",
       " 'portProbs3': {'timestamp': 429281, 'value': 90}}"
      ]
     },
     "metadata": {},
     "output_type": "display_data"
    },
    {
     "data": {
      "text/plain": [
       "{'contingency': {'timestamp': 444429, 'value': 0},\n",
       " 'trialThresh': {'timestamp': 444430, 'value': 72},\n",
       " 'totalPokes': {'timestamp': 444430, 'value': 35},\n",
       " 'totalRewards': {'timestamp': 444431, 'value': 16},\n",
       " 'ifDelay': {'timestamp': 444431, 'value': 0},\n",
       " 'countPokes1': {'timestamp': 444432, 'value': 12},\n",
       " 'countRewards1': {'timestamp': 444432, 'value': 2},\n",
       " 'portProbs1': {'timestamp': 444433, 'value': 10},\n",
       " 'countPokes2': {'timestamp': 444433, 'value': 13},\n",
       " 'countRewards2': {'timestamp': 444434, 'value': 5},\n",
       " 'portProbs2': {'timestamp': 444455, 'value': 50},\n",
       " 'countPokes3': {'timestamp': 444455, 'value': 10},\n",
       " 'countRewards3': {'timestamp': 444456, 'value': 9},\n",
       " 'portProbs3': {'timestamp': 444456, 'value': 90}}"
      ]
     },
     "metadata": {},
     "output_type": "display_data"
    },
    {
     "data": {
      "text/plain": [
       "{'contingency': {'timestamp': 461481, 'value': 0},\n",
       " 'trialThresh': {'timestamp': 461481, 'value': 72},\n",
       " 'totalPokes': {'timestamp': 461482, 'value': 36},\n",
       " 'totalRewards': {'timestamp': 461482, 'value': 17},\n",
       " 'ifDelay': {'timestamp': 461483, 'value': 0},\n",
       " 'countPokes1': {'timestamp': 461483, 'value': 13},\n",
       " 'countRewards1': {'timestamp': 461484, 'value': 3},\n",
       " 'portProbs1': {'timestamp': 461484, 'value': 10},\n",
       " 'countPokes2': {'timestamp': 461485, 'value': 13},\n",
       " 'countRewards2': {'timestamp': 461485, 'value': 5},\n",
       " 'portProbs2': {'timestamp': 461486, 'value': 50},\n",
       " 'countPokes3': {'timestamp': 461506, 'value': 10},\n",
       " 'countRewards3': {'timestamp': 461507, 'value': 9},\n",
       " 'portProbs3': {'timestamp': 461507, 'value': 90}}"
      ]
     },
     "metadata": {},
     "output_type": "display_data"
    },
    {
     "data": {
      "text/plain": [
       "{'contingency': {'timestamp': 475932, 'value': 0},\n",
       " 'trialThresh': {'timestamp': 475933, 'value': 72},\n",
       " 'totalPokes': {'timestamp': 475933, 'value': 37},\n",
       " 'totalRewards': {'timestamp': 475934, 'value': 18},\n",
       " 'ifDelay': {'timestamp': 475934, 'value': 1},\n",
       " 'countPokes1': {'timestamp': 475935, 'value': 13},\n",
       " 'countRewards1': {'timestamp': 475935, 'value': 3},\n",
       " 'portProbs1': {'timestamp': 475936, 'value': 10},\n",
       " 'countPokes2': {'timestamp': 475936, 'value': 14},\n",
       " 'countRewards2': {'timestamp': 475937, 'value': 6},\n",
       " 'portProbs2': {'timestamp': 475937, 'value': 50},\n",
       " 'countPokes3': {'timestamp': 475958, 'value': 10},\n",
       " 'countRewards3': {'timestamp': 475958, 'value': 9},\n",
       " 'portProbs3': {'timestamp': 475959, 'value': 90}}"
      ]
     },
     "metadata": {},
     "output_type": "display_data"
    },
    {
     "data": {
      "text/plain": [
       "{'contingency': {'timestamp': 481735, 'value': 0},\n",
       " 'trialThresh': {'timestamp': 481736, 'value': 72},\n",
       " 'totalPokes': {'timestamp': 481736, 'value': 38},\n",
       " 'totalRewards': {'timestamp': 481737, 'value': 18},\n",
       " 'ifDelay': {'timestamp': 481737, 'value': 0},\n",
       " 'countPokes1': {'timestamp': 481737, 'value': 14},\n",
       " 'countRewards1': {'timestamp': 481738, 'value': 3},\n",
       " 'portProbs1': {'timestamp': 481738, 'value': 10},\n",
       " 'countPokes2': {'timestamp': 481739, 'value': 14},\n",
       " 'countRewards2': {'timestamp': 481739, 'value': 6},\n",
       " 'portProbs2': {'timestamp': 481740, 'value': 50},\n",
       " 'countPokes3': {'timestamp': 481761, 'value': 10},\n",
       " 'countRewards3': {'timestamp': 481761, 'value': 9},\n",
       " 'portProbs3': {'timestamp': 481762, 'value': 90}}"
      ]
     },
     "metadata": {},
     "output_type": "display_data"
    },
    {
     "data": {
      "text/plain": [
       "{'contingency': {'timestamp': 488109, 'value': 0},\n",
       " 'trialThresh': {'timestamp': 488109, 'value': 72},\n",
       " 'totalPokes': {'timestamp': 488110, 'value': 39},\n",
       " 'totalRewards': {'timestamp': 488110, 'value': 19},\n",
       " 'ifDelay': {'timestamp': 488111, 'value': 0},\n",
       " 'countPokes1': {'timestamp': 488111, 'value': 14},\n",
       " 'countRewards1': {'timestamp': 488112, 'value': 3},\n",
       " 'portProbs1': {'timestamp': 488112, 'value': 10},\n",
       " 'countPokes2': {'timestamp': 488113, 'value': 14},\n",
       " 'countRewards2': {'timestamp': 488113, 'value': 6},\n",
       " 'portProbs2': {'timestamp': 488134, 'value': 50},\n",
       " 'countPokes3': {'timestamp': 488135, 'value': 11},\n",
       " 'countRewards3': {'timestamp': 488135, 'value': 10},\n",
       " 'portProbs3': {'timestamp': 488136, 'value': 90}}"
      ]
     },
     "metadata": {},
     "output_type": "display_data"
    },
    {
     "data": {
      "text/plain": [
       "{'contingency': {'timestamp': 502751, 'value': 0},\n",
       " 'trialThresh': {'timestamp': 502751, 'value': 72},\n",
       " 'totalPokes': {'timestamp': 502752, 'value': 40},\n",
       " 'totalRewards': {'timestamp': 502752, 'value': 20},\n",
       " 'ifDelay': {'timestamp': 502753, 'value': 1},\n",
       " 'countPokes1': {'timestamp': 502753, 'value': 14},\n",
       " 'countRewards1': {'timestamp': 502754, 'value': 3},\n",
       " 'portProbs1': {'timestamp': 502754, 'value': 10},\n",
       " 'countPokes2': {'timestamp': 502755, 'value': 15},\n",
       " 'countRewards2': {'timestamp': 502755, 'value': 7},\n",
       " 'portProbs2': {'timestamp': 502756, 'value': 50},\n",
       " 'countPokes3': {'timestamp': 502776, 'value': 11},\n",
       " 'countRewards3': {'timestamp': 502777, 'value': 10},\n",
       " 'portProbs3': {'timestamp': 502777, 'value': 90}}"
      ]
     },
     "metadata": {},
     "output_type": "display_data"
    },
    {
     "data": {
      "text/plain": [
       "{'contingency': {'timestamp': 519850, 'value': 0},\n",
       " 'trialThresh': {'timestamp': 519851, 'value': 72},\n",
       " 'totalPokes': {'timestamp': 519851, 'value': 41},\n",
       " 'totalRewards': {'timestamp': 519852, 'value': 20},\n",
       " 'ifDelay': {'timestamp': 519852, 'value': 1},\n",
       " 'countPokes1': {'timestamp': 519853, 'value': 15},\n",
       " 'countRewards1': {'timestamp': 519853, 'value': 3},\n",
       " 'portProbs1': {'timestamp': 519854, 'value': 10},\n",
       " 'countPokes2': {'timestamp': 519854, 'value': 15},\n",
       " 'countRewards2': {'timestamp': 519855, 'value': 7},\n",
       " 'portProbs2': {'timestamp': 519855, 'value': 50},\n",
       " 'countPokes3': {'timestamp': 519876, 'value': 11},\n",
       " 'countRewards3': {'timestamp': 519876, 'value': 10},\n",
       " 'portProbs3': {'timestamp': 519877, 'value': 90}}"
      ]
     },
     "metadata": {},
     "output_type": "display_data"
    },
    {
     "data": {
      "text/plain": [
       "{'contingency': {'timestamp': 535186, 'value': 0},\n",
       " 'trialThresh': {'timestamp': 535187, 'value': 72},\n",
       " 'totalPokes': {'timestamp': 535187, 'value': 42},\n",
       " 'totalRewards': {'timestamp': 535188, 'value': 21},\n",
       " 'ifDelay': {'timestamp': 535188, 'value': 1},\n",
       " 'countPokes1': {'timestamp': 535189, 'value': 15},\n",
       " 'countRewards1': {'timestamp': 535189, 'value': 3},\n",
       " 'portProbs1': {'timestamp': 535190, 'value': 10},\n",
       " 'countPokes2': {'timestamp': 535190, 'value': 15},\n",
       " 'countRewards2': {'timestamp': 535191, 'value': 7},\n",
       " 'portProbs2': {'timestamp': 535191, 'value': 50},\n",
       " 'countPokes3': {'timestamp': 535212, 'value': 12},\n",
       " 'countRewards3': {'timestamp': 535213, 'value': 11},\n",
       " 'portProbs3': {'timestamp': 535213, 'value': 90}}"
      ]
     },
     "metadata": {},
     "output_type": "display_data"
    },
    {
     "data": {
      "text/plain": [
       "{'contingency': {'timestamp': 543208, 'value': 0},\n",
       " 'trialThresh': {'timestamp': 543209, 'value': 72},\n",
       " 'totalPokes': {'timestamp': 543209, 'value': 43},\n",
       " 'totalRewards': {'timestamp': 543210, 'value': 22},\n",
       " 'ifDelay': {'timestamp': 543210, 'value': 0},\n",
       " 'countPokes1': {'timestamp': 543211, 'value': 15},\n",
       " 'countRewards1': {'timestamp': 543211, 'value': 3},\n",
       " 'portProbs1': {'timestamp': 543212, 'value': 10},\n",
       " 'countPokes2': {'timestamp': 543212, 'value': 16},\n",
       " 'countRewards2': {'timestamp': 543213, 'value': 8},\n",
       " 'portProbs2': {'timestamp': 543213, 'value': 50},\n",
       " 'countPokes3': {'timestamp': 543234, 'value': 12},\n",
       " 'countRewards3': {'timestamp': 543234, 'value': 11},\n",
       " 'portProbs3': {'timestamp': 543235, 'value': 90}}"
      ]
     },
     "metadata": {},
     "output_type": "display_data"
    },
    {
     "data": {
      "text/plain": [
       "{'contingency': {'timestamp': 559577, 'value': 0},\n",
       " 'trialThresh': {'timestamp': 559577, 'value': 72},\n",
       " 'totalPokes': {'timestamp': 559578, 'value': 44},\n",
       " 'totalRewards': {'timestamp': 559578, 'value': 22},\n",
       " 'ifDelay': {'timestamp': 559579, 'value': 1},\n",
       " 'countPokes1': {'timestamp': 559579, 'value': 16},\n",
       " 'countRewards1': {'timestamp': 559580, 'value': 3},\n",
       " 'portProbs1': {'timestamp': 559580, 'value': 10},\n",
       " 'countPokes2': {'timestamp': 559581, 'value': 16},\n",
       " 'countRewards2': {'timestamp': 559581, 'value': 8},\n",
       " 'portProbs2': {'timestamp': 559582, 'value': 50},\n",
       " 'countPokes3': {'timestamp': 559602, 'value': 12},\n",
       " 'countRewards3': {'timestamp': 559603, 'value': 11},\n",
       " 'portProbs3': {'timestamp': 559603, 'value': 90}}"
      ]
     },
     "metadata": {},
     "output_type": "display_data"
    },
    {
     "data": {
      "text/plain": [
       "{'contingency': {'timestamp': 565474, 'value': 0},\n",
       " 'trialThresh': {'timestamp': 565474, 'value': 72},\n",
       " 'totalPokes': {'timestamp': 565475, 'value': 45},\n",
       " 'totalRewards': {'timestamp': 565475, 'value': 22},\n",
       " 'ifDelay': {'timestamp': 565476, 'value': 1},\n",
       " 'countPokes1': {'timestamp': 565476, 'value': 16},\n",
       " 'countRewards1': {'timestamp': 565477, 'value': 3},\n",
       " 'portProbs1': {'timestamp': 565477, 'value': 10},\n",
       " 'countPokes2': {'timestamp': 565478, 'value': 17},\n",
       " 'countRewards2': {'timestamp': 565478, 'value': 8},\n",
       " 'portProbs2': {'timestamp': 565479, 'value': 50},\n",
       " 'countPokes3': {'timestamp': 565500, 'value': 12},\n",
       " 'countRewards3': {'timestamp': 565500, 'value': 11},\n",
       " 'portProbs3': {'timestamp': 565501, 'value': 90}}"
      ]
     },
     "metadata": {},
     "output_type": "display_data"
    },
    {
     "data": {
      "text/plain": [
       "{'contingency': {'timestamp': 572045, 'value': 0},\n",
       " 'trialThresh': {'timestamp': 572046, 'value': 72},\n",
       " 'totalPokes': {'timestamp': 572046, 'value': 46},\n",
       " 'totalRewards': {'timestamp': 572047, 'value': 22},\n",
       " 'ifDelay': {'timestamp': 572047, 'value': 1},\n",
       " 'countPokes1': {'timestamp': 572048, 'value': 17},\n",
       " 'countRewards1': {'timestamp': 572048, 'value': 3},\n",
       " 'portProbs1': {'timestamp': 572049, 'value': 10},\n",
       " 'countPokes2': {'timestamp': 572049, 'value': 17},\n",
       " 'countRewards2': {'timestamp': 572050, 'value': 8},\n",
       " 'portProbs2': {'timestamp': 572050, 'value': 50},\n",
       " 'countPokes3': {'timestamp': 572071, 'value': 12},\n",
       " 'countRewards3': {'timestamp': 572072, 'value': 11},\n",
       " 'portProbs3': {'timestamp': 572072, 'value': 90}}"
      ]
     },
     "metadata": {},
     "output_type": "display_data"
    },
    {
     "data": {
      "text/plain": [
       "{'contingency': {'timestamp': 578705, 'value': 0},\n",
       " 'trialThresh': {'timestamp': 578706, 'value': 72},\n",
       " 'totalPokes': {'timestamp': 578706, 'value': 47},\n",
       " 'totalRewards': {'timestamp': 578707, 'value': 23},\n",
       " 'ifDelay': {'timestamp': 578707, 'value': 1},\n",
       " 'countPokes1': {'timestamp': 578708, 'value': 17},\n",
       " 'countRewards1': {'timestamp': 578708, 'value': 3},\n",
       " 'portProbs1': {'timestamp': 578709, 'value': 10},\n",
       " 'countPokes2': {'timestamp': 578709, 'value': 17},\n",
       " 'countRewards2': {'timestamp': 578710, 'value': 8},\n",
       " 'portProbs2': {'timestamp': 578710, 'value': 50},\n",
       " 'countPokes3': {'timestamp': 578731, 'value': 13},\n",
       " 'countRewards3': {'timestamp': 578732, 'value': 12},\n",
       " 'portProbs3': {'timestamp': 578732, 'value': 90}}"
      ]
     },
     "metadata": {},
     "output_type": "display_data"
    },
    {
     "data": {
      "text/plain": [
       "{'contingency': {'timestamp': 595141, 'value': 0},\n",
       " 'trialThresh': {'timestamp': 595142, 'value': 72},\n",
       " 'totalPokes': {'timestamp': 595142, 'value': 48},\n",
       " 'totalRewards': {'timestamp': 595143, 'value': 23},\n",
       " 'ifDelay': {'timestamp': 595143, 'value': 0},\n",
       " 'countPokes1': {'timestamp': 595144, 'value': 18},\n",
       " 'countRewards1': {'timestamp': 595144, 'value': 3},\n",
       " 'portProbs1': {'timestamp': 595145, 'value': 10},\n",
       " 'countPokes2': {'timestamp': 595145, 'value': 17},\n",
       " 'countRewards2': {'timestamp': 595146, 'value': 8},\n",
       " 'portProbs2': {'timestamp': 595146, 'value': 50},\n",
       " 'countPokes3': {'timestamp': 595167, 'value': 13},\n",
       " 'countRewards3': {'timestamp': 595168, 'value': 12},\n",
       " 'portProbs3': {'timestamp': 595168, 'value': 90}}"
      ]
     },
     "metadata": {},
     "output_type": "display_data"
    },
    {
     "data": {
      "text/plain": [
       "{'contingency': {'timestamp': 601055, 'value': 0},\n",
       " 'trialThresh': {'timestamp': 601055, 'value': 72},\n",
       " 'totalPokes': {'timestamp': 601056, 'value': 49},\n",
       " 'totalRewards': {'timestamp': 601056, 'value': 24},\n",
       " 'ifDelay': {'timestamp': 601056, 'value': 0},\n",
       " 'countPokes1': {'timestamp': 601057, 'value': 18},\n",
       " 'countRewards1': {'timestamp': 601057, 'value': 3},\n",
       " 'portProbs1': {'timestamp': 601058, 'value': 10},\n",
       " 'countPokes2': {'timestamp': 601058, 'value': 18},\n",
       " 'countRewards2': {'timestamp': 601059, 'value': 9},\n",
       " 'portProbs2': {'timestamp': 601059, 'value': 50},\n",
       " 'countPokes3': {'timestamp': 601080, 'value': 13},\n",
       " 'countRewards3': {'timestamp': 601081, 'value': 12},\n",
       " 'portProbs3': {'timestamp': 601081, 'value': 90}}"
      ]
     },
     "metadata": {},
     "output_type": "display_data"
    },
    {
     "data": {
      "text/plain": [
       "{'contingency': {'timestamp': 617233, 'value': 0},\n",
       " 'trialThresh': {'timestamp': 617234, 'value': 72},\n",
       " 'totalPokes': {'timestamp': 617234, 'value': 50},\n",
       " 'totalRewards': {'timestamp': 617235, 'value': 24},\n",
       " 'ifDelay': {'timestamp': 617235, 'value': 1},\n",
       " 'countPokes1': {'timestamp': 617236, 'value': 19},\n",
       " 'countRewards1': {'timestamp': 617236, 'value': 3},\n",
       " 'portProbs1': {'timestamp': 617237, 'value': 10},\n",
       " 'countPokes2': {'timestamp': 617237, 'value': 18},\n",
       " 'countRewards2': {'timestamp': 617238, 'value': 9},\n",
       " 'portProbs2': {'timestamp': 617238, 'value': 50},\n",
       " 'countPokes3': {'timestamp': 617259, 'value': 13},\n",
       " 'countRewards3': {'timestamp': 617259, 'value': 12},\n",
       " 'portProbs3': {'timestamp': 617260, 'value': 90}}"
      ]
     },
     "metadata": {},
     "output_type": "display_data"
    },
    {
     "data": {
      "text/plain": [
       "{'contingency': {'timestamp': 632023, 'value': 0},\n",
       " 'trialThresh': {'timestamp': 632024, 'value': 72},\n",
       " 'totalPokes': {'timestamp': 632024, 'value': 51},\n",
       " 'totalRewards': {'timestamp': 632025, 'value': 25},\n",
       " 'ifDelay': {'timestamp': 632025, 'value': 1},\n",
       " 'countPokes1': {'timestamp': 632026, 'value': 19},\n",
       " 'countRewards1': {'timestamp': 632026, 'value': 3},\n",
       " 'portProbs1': {'timestamp': 632027, 'value': 10},\n",
       " 'countPokes2': {'timestamp': 632027, 'value': 18},\n",
       " 'countRewards2': {'timestamp': 632028, 'value': 9},\n",
       " 'portProbs2': {'timestamp': 632028, 'value': 50},\n",
       " 'countPokes3': {'timestamp': 632049, 'value': 14},\n",
       " 'countRewards3': {'timestamp': 632050, 'value': 13},\n",
       " 'portProbs3': {'timestamp': 632050, 'value': 90}}"
      ]
     },
     "metadata": {},
     "output_type": "display_data"
    },
    {
     "data": {
      "text/plain": [
       "{'contingency': {'timestamp': 639484, 'value': 0},\n",
       " 'trialThresh': {'timestamp': 639485, 'value': 72},\n",
       " 'totalPokes': {'timestamp': 639485, 'value': 52},\n",
       " 'totalRewards': {'timestamp': 639486, 'value': 26},\n",
       " 'ifDelay': {'timestamp': 639486, 'value': 0},\n",
       " 'countPokes1': {'timestamp': 639487, 'value': 19},\n",
       " 'countRewards1': {'timestamp': 639487, 'value': 3},\n",
       " 'portProbs1': {'timestamp': 639488, 'value': 10},\n",
       " 'countPokes2': {'timestamp': 639488, 'value': 19},\n",
       " 'countRewards2': {'timestamp': 639489, 'value': 10},\n",
       " 'portProbs2': {'timestamp': 639510, 'value': 50},\n",
       " 'countPokes3': {'timestamp': 639511, 'value': 14},\n",
       " 'countRewards3': {'timestamp': 639511, 'value': 13},\n",
       " 'portProbs3': {'timestamp': 639511, 'value': 90}}"
      ]
     },
     "metadata": {},
     "output_type": "display_data"
    },
    {
     "data": {
      "text/plain": [
       "{'contingency': {'timestamp': 659152, 'value': 0},\n",
       " 'trialThresh': {'timestamp': 659153, 'value': 72},\n",
       " 'totalPokes': {'timestamp': 659153, 'value': 53},\n",
       " 'totalRewards': {'timestamp': 659154, 'value': 26},\n",
       " 'ifDelay': {'timestamp': 659154, 'value': 0},\n",
       " 'countPokes1': {'timestamp': 659155, 'value': 20},\n",
       " 'countRewards1': {'timestamp': 659155, 'value': 3},\n",
       " 'portProbs1': {'timestamp': 659156, 'value': 10},\n",
       " 'countPokes2': {'timestamp': 659156, 'value': 19},\n",
       " 'countRewards2': {'timestamp': 659157, 'value': 10},\n",
       " 'portProbs2': {'timestamp': 659178, 'value': 50},\n",
       " 'countPokes3': {'timestamp': 659178, 'value': 14},\n",
       " 'countRewards3': {'timestamp': 659179, 'value': 13},\n",
       " 'portProbs3': {'timestamp': 659179, 'value': 90}}"
      ]
     },
     "metadata": {},
     "output_type": "display_data"
    },
    {
     "data": {
      "text/plain": [
       "{'contingency': {'timestamp': 673962, 'value': 0},\n",
       " 'trialThresh': {'timestamp': 673962, 'value': 72},\n",
       " 'totalPokes': {'timestamp': 673963, 'value': 54},\n",
       " 'totalRewards': {'timestamp': 673963, 'value': 27},\n",
       " 'ifDelay': {'timestamp': 673964, 'value': 0},\n",
       " 'countPokes1': {'timestamp': 673964, 'value': 20},\n",
       " 'countRewards1': {'timestamp': 673964, 'value': 3},\n",
       " 'portProbs1': {'timestamp': 673965, 'value': 10},\n",
       " 'countPokes2': {'timestamp': 673965, 'value': 19},\n",
       " 'countRewards2': {'timestamp': 673966, 'value': 10},\n",
       " 'portProbs2': {'timestamp': 673966, 'value': 50},\n",
       " 'countPokes3': {'timestamp': 673987, 'value': 15},\n",
       " 'countRewards3': {'timestamp': 673988, 'value': 14},\n",
       " 'portProbs3': {'timestamp': 673988, 'value': 90}}"
      ]
     },
     "metadata": {},
     "output_type": "display_data"
    },
    {
     "data": {
      "text/plain": [
       "{'contingency': {'timestamp': 682292, 'value': 0},\n",
       " 'trialThresh': {'timestamp': 682292, 'value': 72},\n",
       " 'totalPokes': {'timestamp': 682293, 'value': 55},\n",
       " 'totalRewards': {'timestamp': 682293, 'value': 28},\n",
       " 'ifDelay': {'timestamp': 682294, 'value': 1},\n",
       " 'countPokes1': {'timestamp': 682294, 'value': 20},\n",
       " 'countRewards1': {'timestamp': 682295, 'value': 3},\n",
       " 'portProbs1': {'timestamp': 682295, 'value': 10},\n",
       " 'countPokes2': {'timestamp': 682296, 'value': 20},\n",
       " 'countRewards2': {'timestamp': 682296, 'value': 11},\n",
       " 'portProbs2': {'timestamp': 682297, 'value': 50},\n",
       " 'countPokes3': {'timestamp': 682318, 'value': 15},\n",
       " 'countRewards3': {'timestamp': 682318, 'value': 14},\n",
       " 'portProbs3': {'timestamp': 682319, 'value': 90}}"
      ]
     },
     "metadata": {},
     "output_type": "display_data"
    },
    {
     "data": {
      "text/plain": [
       "{'contingency': {'timestamp': 697158, 'value': 0},\n",
       " 'trialThresh': {'timestamp': 697158, 'value': 72},\n",
       " 'totalPokes': {'timestamp': 697159, 'value': 56},\n",
       " 'totalRewards': {'timestamp': 697159, 'value': 28},\n",
       " 'ifDelay': {'timestamp': 697160, 'value': 0},\n",
       " 'countPokes1': {'timestamp': 697160, 'value': 21},\n",
       " 'countRewards1': {'timestamp': 697161, 'value': 3},\n",
       " 'portProbs1': {'timestamp': 697161, 'value': 10},\n",
       " 'countPokes2': {'timestamp': 697162, 'value': 20},\n",
       " 'countRewards2': {'timestamp': 697162, 'value': 11},\n",
       " 'portProbs2': {'timestamp': 697183, 'value': 50},\n",
       " 'countPokes3': {'timestamp': 697183, 'value': 15},\n",
       " 'countRewards3': {'timestamp': 697184, 'value': 14},\n",
       " 'portProbs3': {'timestamp': 697184, 'value': 90}}"
      ]
     },
     "metadata": {},
     "output_type": "display_data"
    },
    {
     "data": {
      "text/plain": [
       "{'contingency': {'timestamp': 704607, 'value': 0},\n",
       " 'trialThresh': {'timestamp': 704607, 'value': 72},\n",
       " 'totalPokes': {'timestamp': 704608, 'value': 57},\n",
       " 'totalRewards': {'timestamp': 704608, 'value': 29},\n",
       " 'ifDelay': {'timestamp': 704609, 'value': 0},\n",
       " 'countPokes1': {'timestamp': 704609, 'value': 21},\n",
       " 'countRewards1': {'timestamp': 704610, 'value': 3},\n",
       " 'portProbs1': {'timestamp': 704610, 'value': 10},\n",
       " 'countPokes2': {'timestamp': 704611, 'value': 20},\n",
       " 'countRewards2': {'timestamp': 704611, 'value': 11},\n",
       " 'portProbs2': {'timestamp': 704612, 'value': 50},\n",
       " 'countPokes3': {'timestamp': 704633, 'value': 16},\n",
       " 'countRewards3': {'timestamp': 704633, 'value': 15},\n",
       " 'portProbs3': {'timestamp': 704634, 'value': 90}}"
      ]
     },
     "metadata": {},
     "output_type": "display_data"
    },
    {
     "data": {
      "text/plain": [
       "{'contingency': {'timestamp': 721936, 'value': 0},\n",
       " 'trialThresh': {'timestamp': 721936, 'value': 72},\n",
       " 'totalPokes': {'timestamp': 721937, 'value': 58},\n",
       " 'totalRewards': {'timestamp': 721937, 'value': 30},\n",
       " 'ifDelay': {'timestamp': 721938, 'value': 0},\n",
       " 'countPokes1': {'timestamp': 721938, 'value': 21},\n",
       " 'countRewards1': {'timestamp': 721939, 'value': 3},\n",
       " 'portProbs1': {'timestamp': 721939, 'value': 10},\n",
       " 'countPokes2': {'timestamp': 721940, 'value': 21},\n",
       " 'countRewards2': {'timestamp': 721940, 'value': 12},\n",
       " 'portProbs2': {'timestamp': 721941, 'value': 50},\n",
       " 'countPokes3': {'timestamp': 721962, 'value': 16},\n",
       " 'countRewards3': {'timestamp': 721962, 'value': 15},\n",
       " 'portProbs3': {'timestamp': 721963, 'value': 90}}"
      ]
     },
     "metadata": {},
     "output_type": "display_data"
    },
    {
     "data": {
      "text/plain": [
       "{'contingency': {'timestamp': 737132, 'value': 0},\n",
       " 'trialThresh': {'timestamp': 737132, 'value': 72},\n",
       " 'totalPokes': {'timestamp': 737133, 'value': 59},\n",
       " 'totalRewards': {'timestamp': 737133, 'value': 31},\n",
       " 'ifDelay': {'timestamp': 737134, 'value': 1},\n",
       " 'countPokes1': {'timestamp': 737134, 'value': 21},\n",
       " 'countRewards1': {'timestamp': 737135, 'value': 3},\n",
       " 'portProbs1': {'timestamp': 737135, 'value': 10},\n",
       " 'countPokes2': {'timestamp': 737136, 'value': 21},\n",
       " 'countRewards2': {'timestamp': 737136, 'value': 12},\n",
       " 'portProbs2': {'timestamp': 737137, 'value': 50},\n",
       " 'countPokes3': {'timestamp': 737157, 'value': 17},\n",
       " 'countRewards3': {'timestamp': 737158, 'value': 16},\n",
       " 'portProbs3': {'timestamp': 737158, 'value': 90}}"
      ]
     },
     "metadata": {},
     "output_type": "display_data"
    },
    {
     "data": {
      "text/plain": [
       "{'contingency': {'timestamp': 755009, 'value': 0},\n",
       " 'trialThresh': {'timestamp': 755010, 'value': 72},\n",
       " 'totalPokes': {'timestamp': 755010, 'value': 60},\n",
       " 'totalRewards': {'timestamp': 755011, 'value': 31},\n",
       " 'ifDelay': {'timestamp': 755011, 'value': 0},\n",
       " 'countPokes1': {'timestamp': 755012, 'value': 21},\n",
       " 'countRewards1': {'timestamp': 755012, 'value': 3},\n",
       " 'portProbs1': {'timestamp': 755013, 'value': 10},\n",
       " 'countPokes2': {'timestamp': 755013, 'value': 22},\n",
       " 'countRewards2': {'timestamp': 755014, 'value': 12},\n",
       " 'portProbs2': {'timestamp': 755014, 'value': 50},\n",
       " 'countPokes3': {'timestamp': 755035, 'value': 17},\n",
       " 'countRewards3': {'timestamp': 755036, 'value': 16},\n",
       " 'portProbs3': {'timestamp': 755036, 'value': 90}}"
      ]
     },
     "metadata": {},
     "output_type": "display_data"
    },
    {
     "data": {
      "text/plain": [
       "{'contingency': {'timestamp': 764481, 'value': 0},\n",
       " 'trialThresh': {'timestamp': 764481, 'value': 72},\n",
       " 'totalPokes': {'timestamp': 764482, 'value': 61},\n",
       " 'totalRewards': {'timestamp': 764482, 'value': 32},\n",
       " 'ifDelay': {'timestamp': 764483, 'value': 0},\n",
       " 'countPokes1': {'timestamp': 764483, 'value': 21},\n",
       " 'countRewards1': {'timestamp': 764484, 'value': 3},\n",
       " 'portProbs1': {'timestamp': 764484, 'value': 10},\n",
       " 'countPokes2': {'timestamp': 764485, 'value': 22},\n",
       " 'countRewards2': {'timestamp': 764485, 'value': 12},\n",
       " 'portProbs2': {'timestamp': 764486, 'value': 50},\n",
       " 'countPokes3': {'timestamp': 764507, 'value': 18},\n",
       " 'countRewards3': {'timestamp': 764507, 'value': 17},\n",
       " 'portProbs3': {'timestamp': 764508, 'value': 90}}"
      ]
     },
     "metadata": {},
     "output_type": "display_data"
    },
    {
     "data": {
      "text/plain": [
       "{'contingency': {'timestamp': 780480, 'value': 0},\n",
       " 'trialThresh': {'timestamp': 780480, 'value': 72},\n",
       " 'totalPokes': {'timestamp': 780481, 'value': 62},\n",
       " 'totalRewards': {'timestamp': 780481, 'value': 32},\n",
       " 'ifDelay': {'timestamp': 780482, 'value': 0},\n",
       " 'countPokes1': {'timestamp': 780482, 'value': 22},\n",
       " 'countRewards1': {'timestamp': 780483, 'value': 3},\n",
       " 'portProbs1': {'timestamp': 780483, 'value': 10},\n",
       " 'countPokes2': {'timestamp': 780484, 'value': 22},\n",
       " 'countRewards2': {'timestamp': 780484, 'value': 12},\n",
       " 'portProbs2': {'timestamp': 780485, 'value': 50},\n",
       " 'countPokes3': {'timestamp': 780506, 'value': 18},\n",
       " 'countRewards3': {'timestamp': 780506, 'value': 17},\n",
       " 'portProbs3': {'timestamp': 780507, 'value': 90}}"
      ]
     },
     "metadata": {},
     "output_type": "display_data"
    },
    {
     "data": {
      "text/plain": [
       "{'contingency': {'timestamp': 798206, 'value': 0},\n",
       " 'trialThresh': {'timestamp': 798206, 'value': 72},\n",
       " 'totalPokes': {'timestamp': 798207, 'value': 63},\n",
       " 'totalRewards': {'timestamp': 798207, 'value': 33},\n",
       " 'ifDelay': {'timestamp': 798208, 'value': 0},\n",
       " 'countPokes1': {'timestamp': 798208, 'value': 22},\n",
       " 'countRewards1': {'timestamp': 798209, 'value': 3},\n",
       " 'portProbs1': {'timestamp': 798209, 'value': 10},\n",
       " 'countPokes2': {'timestamp': 798210, 'value': 22},\n",
       " 'countRewards2': {'timestamp': 798210, 'value': 12},\n",
       " 'portProbs2': {'timestamp': 798211, 'value': 50},\n",
       " 'countPokes3': {'timestamp': 798232, 'value': 19},\n",
       " 'countRewards3': {'timestamp': 798232, 'value': 18},\n",
       " 'portProbs3': {'timestamp': 798233, 'value': 90}}"
      ]
     },
     "metadata": {},
     "output_type": "display_data"
    },
    {
     "data": {
      "text/plain": [
       "{'contingency': {'timestamp': 805756, 'value': 0},\n",
       " 'trialThresh': {'timestamp': 805758, 'value': 72},\n",
       " 'totalPokes': {'timestamp': 805758, 'value': 64},\n",
       " 'totalRewards': {'timestamp': 805758, 'value': 34},\n",
       " 'ifDelay': {'timestamp': 805758, 'value': 0},\n",
       " 'countPokes1': {'timestamp': 805759, 'value': 22},\n",
       " 'countRewards1': {'timestamp': 805759, 'value': 3},\n",
       " 'portProbs1': {'timestamp': 805760, 'value': 10},\n",
       " 'countPokes2': {'timestamp': 805760, 'value': 23},\n",
       " 'countRewards2': {'timestamp': 805761, 'value': 13},\n",
       " 'portProbs2': {'timestamp': 805761, 'value': 50},\n",
       " 'countPokes3': {'timestamp': 805782, 'value': 19},\n",
       " 'countRewards3': {'timestamp': 805783, 'value': 18},\n",
       " 'portProbs3': {'timestamp': 805783, 'value': 90}}"
      ]
     },
     "metadata": {},
     "output_type": "display_data"
    },
    {
     "data": {
      "text/plain": [
       "{'contingency': {'timestamp': 824824, 'value': 0},\n",
       " 'trialThresh': {'timestamp': 824825, 'value': 72},\n",
       " 'totalPokes': {'timestamp': 824825, 'value': 65},\n",
       " 'totalRewards': {'timestamp': 824826, 'value': 34},\n",
       " 'ifDelay': {'timestamp': 824826, 'value': 0},\n",
       " 'countPokes1': {'timestamp': 824827, 'value': 22},\n",
       " 'countRewards1': {'timestamp': 824827, 'value': 3},\n",
       " 'portProbs1': {'timestamp': 824827, 'value': 10},\n",
       " 'countPokes2': {'timestamp': 824828, 'value': 23},\n",
       " 'countRewards2': {'timestamp': 824828, 'value': 13},\n",
       " 'portProbs2': {'timestamp': 824829, 'value': 50},\n",
       " 'countPokes3': {'timestamp': 824850, 'value': 20},\n",
       " 'countRewards3': {'timestamp': 824850, 'value': 18},\n",
       " 'portProbs3': {'timestamp': 824851, 'value': 90}}"
      ]
     },
     "metadata": {},
     "output_type": "display_data"
    },
    {
     "data": {
      "text/plain": [
       "{'contingency': {'timestamp': 833954, 'value': 0},\n",
       " 'trialThresh': {'timestamp': 833955, 'value': 72},\n",
       " 'totalPokes': {'timestamp': 833955, 'value': 66},\n",
       " 'totalRewards': {'timestamp': 833956, 'value': 34},\n",
       " 'ifDelay': {'timestamp': 833956, 'value': 0},\n",
       " 'countPokes1': {'timestamp': 833957, 'value': 22},\n",
       " 'countRewards1': {'timestamp': 833957, 'value': 3},\n",
       " 'portProbs1': {'timestamp': 833958, 'value': 10},\n",
       " 'countPokes2': {'timestamp': 833958, 'value': 24},\n",
       " 'countRewards2': {'timestamp': 833959, 'value': 13},\n",
       " 'portProbs2': {'timestamp': 833959, 'value': 50},\n",
       " 'countPokes3': {'timestamp': 833980, 'value': 20},\n",
       " 'countRewards3': {'timestamp': 833981, 'value': 18},\n",
       " 'portProbs3': {'timestamp': 833981, 'value': 90}}"
      ]
     },
     "metadata": {},
     "output_type": "display_data"
    },
    {
     "data": {
      "text/plain": [
       "{'contingency': {'timestamp': 842055, 'value': 0},\n",
       " 'trialThresh': {'timestamp': 842056, 'value': 72},\n",
       " 'totalPokes': {'timestamp': 842056, 'value': 67},\n",
       " 'totalRewards': {'timestamp': 842057, 'value': 35},\n",
       " 'ifDelay': {'timestamp': 842057, 'value': 0},\n",
       " 'countPokes1': {'timestamp': 842058, 'value': 22},\n",
       " 'countRewards1': {'timestamp': 842058, 'value': 3},\n",
       " 'portProbs1': {'timestamp': 842058, 'value': 10},\n",
       " 'countPokes2': {'timestamp': 842059, 'value': 24},\n",
       " 'countRewards2': {'timestamp': 842059, 'value': 13},\n",
       " 'portProbs2': {'timestamp': 842081, 'value': 50},\n",
       " 'countPokes3': {'timestamp': 842081, 'value': 21},\n",
       " 'countRewards3': {'timestamp': 842082, 'value': 19},\n",
       " 'portProbs3': {'timestamp': 842082, 'value': 90}}"
      ]
     },
     "metadata": {},
     "output_type": "display_data"
    },
    {
     "data": {
      "text/plain": [
       "{'contingency': {'timestamp': 860754, 'value': 0},\n",
       " 'trialThresh': {'timestamp': 860754, 'value': 72},\n",
       " 'totalPokes': {'timestamp': 860755, 'value': 68},\n",
       " 'totalRewards': {'timestamp': 860755, 'value': 36},\n",
       " 'ifDelay': {'timestamp': 860756, 'value': 0},\n",
       " 'countPokes1': {'timestamp': 860756, 'value': 22},\n",
       " 'countRewards1': {'timestamp': 860757, 'value': 3},\n",
       " 'portProbs1': {'timestamp': 860757, 'value': 10},\n",
       " 'countPokes2': {'timestamp': 860758, 'value': 25},\n",
       " 'countRewards2': {'timestamp': 860758, 'value': 14},\n",
       " 'portProbs2': {'timestamp': 860759, 'value': 50},\n",
       " 'countPokes3': {'timestamp': 860780, 'value': 21},\n",
       " 'countRewards3': {'timestamp': 860780, 'value': 19},\n",
       " 'portProbs3': {'timestamp': 860781, 'value': 90}}"
      ]
     },
     "metadata": {},
     "output_type": "display_data"
    },
    {
     "data": {
      "text/plain": [
       "{'contingency': {'timestamp': 882136, 'value': 0},\n",
       " 'trialThresh': {'timestamp': 882137, 'value': 72},\n",
       " 'totalPokes': {'timestamp': 882137, 'value': 69},\n",
       " 'totalRewards': {'timestamp': 882138, 'value': 37},\n",
       " 'ifDelay': {'timestamp': 882138, 'value': 0},\n",
       " 'countPokes1': {'timestamp': 882139, 'value': 22},\n",
       " 'countRewards1': {'timestamp': 882139, 'value': 3},\n",
       " 'portProbs1': {'timestamp': 882140, 'value': 10},\n",
       " 'countPokes2': {'timestamp': 882140, 'value': 25},\n",
       " 'countRewards2': {'timestamp': 882141, 'value': 14},\n",
       " 'portProbs2': {'timestamp': 882141, 'value': 50},\n",
       " 'countPokes3': {'timestamp': 882162, 'value': 22},\n",
       " 'countRewards3': {'timestamp': 882163, 'value': 20},\n",
       " 'portProbs3': {'timestamp': 882163, 'value': 90}}"
      ]
     },
     "metadata": {},
     "output_type": "display_data"
    },
    {
     "data": {
      "text/plain": [
       "{'contingency': {'timestamp': 903652, 'value': 0},\n",
       " 'trialThresh': {'timestamp': 903652, 'value': 72},\n",
       " 'totalPokes': {'timestamp': 903653, 'value': 70},\n",
       " 'totalRewards': {'timestamp': 903653, 'value': 38},\n",
       " 'ifDelay': {'timestamp': 903654, 'value': 0},\n",
       " 'countPokes1': {'timestamp': 903654, 'value': 22},\n",
       " 'countRewards1': {'timestamp': 903655, 'value': 3},\n",
       " 'portProbs1': {'timestamp': 903655, 'value': 10},\n",
       " 'countPokes2': {'timestamp': 903656, 'value': 26},\n",
       " 'countRewards2': {'timestamp': 903656, 'value': 15},\n",
       " 'portProbs2': {'timestamp': 903657, 'value': 50},\n",
       " 'countPokes3': {'timestamp': 903678, 'value': 22},\n",
       " 'countRewards3': {'timestamp': 903678, 'value': 20},\n",
       " 'portProbs3': {'timestamp': 903679, 'value': 90}}"
      ]
     },
     "metadata": {},
     "output_type": "display_data"
    },
    {
     "data": {
      "text/plain": [
       "{'contingency': {'timestamp': 922363, 'value': 0},\n",
       " 'trialThresh': {'timestamp': 922363, 'value': 72},\n",
       " 'totalPokes': {'timestamp': 922364, 'value': 71},\n",
       " 'totalRewards': {'timestamp': 922364, 'value': 39},\n",
       " 'ifDelay': {'timestamp': 922365, 'value': 1},\n",
       " 'countPokes1': {'timestamp': 922365, 'value': 22},\n",
       " 'countRewards1': {'timestamp': 922366, 'value': 3},\n",
       " 'portProbs1': {'timestamp': 922366, 'value': 10},\n",
       " 'countPokes2': {'timestamp': 922367, 'value': 26},\n",
       " 'countRewards2': {'timestamp': 922367, 'value': 15},\n",
       " 'portProbs2': {'timestamp': 922368, 'value': 50},\n",
       " 'countPokes3': {'timestamp': 922389, 'value': 23},\n",
       " 'countRewards3': {'timestamp': 922389, 'value': 21},\n",
       " 'portProbs3': {'timestamp': 922390, 'value': 90}}"
      ]
     },
     "metadata": {},
     "output_type": "display_data"
    },
    {
     "data": {
      "text/plain": [
       "{'contingency': {'timestamp': 939549, 'value': 0},\n",
       " 'trialThresh': {'timestamp': 939550, 'value': 72},\n",
       " 'totalPokes': {'timestamp': 939550, 'value': 72},\n",
       " 'totalRewards': {'timestamp': 939551, 'value': 40},\n",
       " 'ifDelay': {'timestamp': 939551, 'value': 0},\n",
       " 'countPokes1': {'timestamp': 939552, 'value': 22},\n",
       " 'countRewards1': {'timestamp': 939552, 'value': 3},\n",
       " 'portProbs1': {'timestamp': 939553, 'value': 10},\n",
       " 'countPokes2': {'timestamp': 939553, 'value': 27},\n",
       " 'countRewards2': {'timestamp': 939554, 'value': 16},\n",
       " 'portProbs2': {'timestamp': 939554, 'value': 50},\n",
       " 'countPokes3': {'timestamp': 939575, 'value': 23},\n",
       " 'countRewards3': {'timestamp': 939576, 'value': 21},\n",
       " 'portProbs3': {'timestamp': 939576, 'value': 90}}"
      ]
     },
     "metadata": {},
     "output_type": "display_data"
    },
    {
     "data": {
      "text/plain": [
       "{'contingency': {'timestamp': 964348, 'value': 1},\n",
       " 'trialThresh': {'timestamp': 964348, 'value': 72},\n",
       " 'totalPokes': {'timestamp': 964349, 'value': 1},\n",
       " 'totalRewards': {'timestamp': 964349, 'value': 1},\n",
       " 'ifDelay': {'timestamp': 964349, 'value': 0},\n",
       " 'countPokes1': {'timestamp': 964350, 'value': 0},\n",
       " 'countRewards1': {'timestamp': 964350, 'value': 0},\n",
       " 'portProbs1': {'timestamp': 964351, 'value': 10},\n",
       " 'countPokes2': {'timestamp': 964351, 'value': 0},\n",
       " 'countRewards2': {'timestamp': 964352, 'value': 0},\n",
       " 'portProbs2': {'timestamp': 964352, 'value': 50},\n",
       " 'countPokes3': {'timestamp': 964373, 'value': 1},\n",
       " 'countRewards3': {'timestamp': 964373, 'value': 1},\n",
       " 'portProbs3': {'timestamp': 964374, 'value': 90}}"
      ]
     },
     "metadata": {},
     "output_type": "display_data"
    },
    {
     "data": {
      "text/plain": [
       "{'contingency': {'timestamp': 982162, 'value': 1},\n",
       " 'trialThresh': {'timestamp': 982163, 'value': 72},\n",
       " 'totalPokes': {'timestamp': 982163, 'value': 2},\n",
       " 'totalRewards': {'timestamp': 982164, 'value': 1},\n",
       " 'ifDelay': {'timestamp': 982164, 'value': 1},\n",
       " 'countPokes1': {'timestamp': 982165, 'value': 1},\n",
       " 'countRewards1': {'timestamp': 982165, 'value': 0},\n",
       " 'portProbs1': {'timestamp': 982166, 'value': 10},\n",
       " 'countPokes2': {'timestamp': 982166, 'value': 0},\n",
       " 'countRewards2': {'timestamp': 982167, 'value': 0},\n",
       " 'portProbs2': {'timestamp': 982167, 'value': 50},\n",
       " 'countPokes3': {'timestamp': 982188, 'value': 1},\n",
       " 'countRewards3': {'timestamp': 982188, 'value': 1},\n",
       " 'portProbs3': {'timestamp': 982188, 'value': 90}}"
      ]
     },
     "metadata": {},
     "output_type": "display_data"
    },
    {
     "data": {
      "text/plain": [
       "{'contingency': {'timestamp': 988883, 'value': 1},\n",
       " 'trialThresh': {'timestamp': 988883, 'value': 72},\n",
       " 'totalPokes': {'timestamp': 988884, 'value': 3},\n",
       " 'totalRewards': {'timestamp': 988884, 'value': 2},\n",
       " 'ifDelay': {'timestamp': 988885, 'value': 1},\n",
       " 'countPokes1': {'timestamp': 988885, 'value': 1},\n",
       " 'countRewards1': {'timestamp': 988886, 'value': 0},\n",
       " 'portProbs1': {'timestamp': 988886, 'value': 10},\n",
       " 'countPokes2': {'timestamp': 988887, 'value': 0},\n",
       " 'countRewards2': {'timestamp': 988887, 'value': 0},\n",
       " 'portProbs2': {'timestamp': 988908, 'value': 50},\n",
       " 'countPokes3': {'timestamp': 988908, 'value': 2},\n",
       " 'countRewards3': {'timestamp': 988909, 'value': 2},\n",
       " 'portProbs3': {'timestamp': 988909, 'value': 90}}"
      ]
     },
     "metadata": {},
     "output_type": "display_data"
    },
    {
     "data": {
      "text/plain": [
       "{'contingency': {'timestamp': 1006391, 'value': 1},\n",
       " 'trialThresh': {'timestamp': 1006391, 'value': 72},\n",
       " 'totalPokes': {'timestamp': 1006392, 'value': 4},\n",
       " 'totalRewards': {'timestamp': 1006392, 'value': 2},\n",
       " 'ifDelay': {'timestamp': 1006393, 'value': 1},\n",
       " 'countPokes1': {'timestamp': 1006393, 'value': 1},\n",
       " 'countRewards1': {'timestamp': 1006394, 'value': 0},\n",
       " 'portProbs1': {'timestamp': 1006394, 'value': 10},\n",
       " 'countPokes2': {'timestamp': 1006395, 'value': 1},\n",
       " 'countRewards2': {'timestamp': 1006395, 'value': 0},\n",
       " 'portProbs2': {'timestamp': 1006395, 'value': 50},\n",
       " 'countPokes3': {'timestamp': 1006416, 'value': 2},\n",
       " 'countRewards3': {'timestamp': 1006417, 'value': 2},\n",
       " 'portProbs3': {'timestamp': 1006417, 'value': 90}}"
      ]
     },
     "metadata": {},
     "output_type": "display_data"
    },
    {
     "data": {
      "text/plain": [
       "{'contingency': {'timestamp': 1013032, 'value': 1},\n",
       " 'trialThresh': {'timestamp': 1013032, 'value': 72},\n",
       " 'totalPokes': {'timestamp': 1013033, 'value': 5},\n",
       " 'totalRewards': {'timestamp': 1013033, 'value': 3},\n",
       " 'ifDelay': {'timestamp': 1013034, 'value': 1},\n",
       " 'countPokes1': {'timestamp': 1013034, 'value': 1},\n",
       " 'countRewards1': {'timestamp': 1013034, 'value': 0},\n",
       " 'portProbs1': {'timestamp': 1013035, 'value': 10},\n",
       " 'countPokes2': {'timestamp': 1013035, 'value': 1},\n",
       " 'countRewards2': {'timestamp': 1013036, 'value': 0},\n",
       " 'portProbs2': {'timestamp': 1013036, 'value': 50},\n",
       " 'countPokes3': {'timestamp': 1013057, 'value': 3},\n",
       " 'countRewards3': {'timestamp': 1013058, 'value': 3},\n",
       " 'portProbs3': {'timestamp': 1013058, 'value': 90}}"
      ]
     },
     "metadata": {},
     "output_type": "display_data"
    },
    {
     "data": {
      "text/plain": [
       "{'contingency': {'timestamp': 1030367, 'value': 1},\n",
       " 'trialThresh': {'timestamp': 1030368, 'value': 72},\n",
       " 'totalPokes': {'timestamp': 1030368, 'value': 6},\n",
       " 'totalRewards': {'timestamp': 1030369, 'value': 3},\n",
       " 'ifDelay': {'timestamp': 1030369, 'value': 1},\n",
       " 'countPokes1': {'timestamp': 1030370, 'value': 1},\n",
       " 'countRewards1': {'timestamp': 1030370, 'value': 0},\n",
       " 'portProbs1': {'timestamp': 1030370, 'value': 10},\n",
       " 'countPokes2': {'timestamp': 1030371, 'value': 2},\n",
       " 'countRewards2': {'timestamp': 1030371, 'value': 0},\n",
       " 'portProbs2': {'timestamp': 1030372, 'value': 50},\n",
       " 'countPokes3': {'timestamp': 1030393, 'value': 3},\n",
       " 'countRewards3': {'timestamp': 1030393, 'value': 3},\n",
       " 'portProbs3': {'timestamp': 1030394, 'value': 90}}"
      ]
     },
     "metadata": {},
     "output_type": "display_data"
    },
    {
     "data": {
      "text/plain": [
       "{'contingency': {'timestamp': 1036436, 'value': 1},\n",
       " 'trialThresh': {'timestamp': 1036437, 'value': 72},\n",
       " 'totalPokes': {'timestamp': 1036437, 'value': 7},\n",
       " 'totalRewards': {'timestamp': 1036438, 'value': 4},\n",
       " 'ifDelay': {'timestamp': 1036438, 'value': 1},\n",
       " 'countPokes1': {'timestamp': 1036439, 'value': 1},\n",
       " 'countRewards1': {'timestamp': 1036439, 'value': 0},\n",
       " 'portProbs1': {'timestamp': 1036440, 'value': 10},\n",
       " 'countPokes2': {'timestamp': 1036440, 'value': 2},\n",
       " 'countRewards2': {'timestamp': 1036441, 'value': 0},\n",
       " 'portProbs2': {'timestamp': 1036441, 'value': 50},\n",
       " 'countPokes3': {'timestamp': 1036462, 'value': 4},\n",
       " 'countRewards3': {'timestamp': 1036462, 'value': 4},\n",
       " 'portProbs3': {'timestamp': 1036463, 'value': 90}}"
      ]
     },
     "metadata": {},
     "output_type": "display_data"
    },
    {
     "data": {
      "text/plain": [
       "{'contingency': {'timestamp': 1053253, 'value': 1},\n",
       " 'trialThresh': {'timestamp': 1053253, 'value': 72},\n",
       " 'totalPokes': {'timestamp': 1053254, 'value': 8},\n",
       " 'totalRewards': {'timestamp': 1053254, 'value': 4},\n",
       " 'ifDelay': {'timestamp': 1053255, 'value': 0},\n",
       " 'countPokes1': {'timestamp': 1053255, 'value': 2},\n",
       " 'countRewards1': {'timestamp': 1053255, 'value': 0},\n",
       " 'portProbs1': {'timestamp': 1053256, 'value': 10},\n",
       " 'countPokes2': {'timestamp': 1053256, 'value': 2},\n",
       " 'countRewards2': {'timestamp': 1053257, 'value': 0},\n",
       " 'portProbs2': {'timestamp': 1053257, 'value': 50},\n",
       " 'countPokes3': {'timestamp': 1053278, 'value': 4},\n",
       " 'countRewards3': {'timestamp': 1053279, 'value': 4},\n",
       " 'portProbs3': {'timestamp': 1053279, 'value': 90}}"
      ]
     },
     "metadata": {},
     "output_type": "display_data"
    },
    {
     "data": {
      "text/plain": [
       "{'contingency': {'timestamp': 1059485, 'value': 1},\n",
       " 'trialThresh': {'timestamp': 1059486, 'value': 72},\n",
       " 'totalPokes': {'timestamp': 1059486, 'value': 9},\n",
       " 'totalRewards': {'timestamp': 1059487, 'value': 5},\n",
       " 'ifDelay': {'timestamp': 1059487, 'value': 0},\n",
       " 'countPokes1': {'timestamp': 1059488, 'value': 2},\n",
       " 'countRewards1': {'timestamp': 1059488, 'value': 0},\n",
       " 'portProbs1': {'timestamp': 1059489, 'value': 10},\n",
       " 'countPokes2': {'timestamp': 1059489, 'value': 2},\n",
       " 'countRewards2': {'timestamp': 1059490, 'value': 0},\n",
       " 'portProbs2': {'timestamp': 1059510, 'value': 50},\n",
       " 'countPokes3': {'timestamp': 1059510, 'value': 5},\n",
       " 'countRewards3': {'timestamp': 1059511, 'value': 5},\n",
       " 'portProbs3': {'timestamp': 1059511, 'value': 90}}"
      ]
     },
     "metadata": {},
     "output_type": "display_data"
    },
    {
     "data": {
      "text/plain": [
       "{'contingency': {'timestamp': 1076168, 'value': 1},\n",
       " 'trialThresh': {'timestamp': 1076168, 'value': 72},\n",
       " 'totalPokes': {'timestamp': 1076169, 'value': 10},\n",
       " 'totalRewards': {'timestamp': 1076169, 'value': 5},\n",
       " 'ifDelay': {'timestamp': 1076170, 'value': 0},\n",
       " 'countPokes1': {'timestamp': 1076170, 'value': 2},\n",
       " 'countRewards1': {'timestamp': 1076171, 'value': 0},\n",
       " 'portProbs1': {'timestamp': 1076171, 'value': 10},\n",
       " 'countPokes2': {'timestamp': 1076172, 'value': 3},\n",
       " 'countRewards2': {'timestamp': 1076172, 'value': 0},\n",
       " 'portProbs2': {'timestamp': 1076173, 'value': 50},\n",
       " 'countPokes3': {'timestamp': 1076194, 'value': 5},\n",
       " 'countRewards3': {'timestamp': 1076194, 'value': 5},\n",
       " 'portProbs3': {'timestamp': 1076195, 'value': 90}}"
      ]
     },
     "metadata": {},
     "output_type": "display_data"
    },
    {
     "data": {
      "text/plain": [
       "{'contingency': {'timestamp': 1082392, 'value': 1},\n",
       " 'trialThresh': {'timestamp': 1082393, 'value': 72},\n",
       " 'totalPokes': {'timestamp': 1082393, 'value': 11},\n",
       " 'totalRewards': {'timestamp': 1082394, 'value': 6},\n",
       " 'ifDelay': {'timestamp': 1082394, 'value': 0},\n",
       " 'countPokes1': {'timestamp': 1082395, 'value': 2},\n",
       " 'countRewards1': {'timestamp': 1082395, 'value': 0},\n",
       " 'portProbs1': {'timestamp': 1082396, 'value': 10},\n",
       " 'countPokes2': {'timestamp': 1082396, 'value': 3},\n",
       " 'countRewards2': {'timestamp': 1082397, 'value': 0},\n",
       " 'portProbs2': {'timestamp': 1082397, 'value': 50},\n",
       " 'countPokes3': {'timestamp': 1082418, 'value': 6},\n",
       " 'countRewards3': {'timestamp': 1082418, 'value': 6},\n",
       " 'portProbs3': {'timestamp': 1082419, 'value': 90}}"
      ]
     },
     "metadata": {},
     "output_type": "display_data"
    },
    {
     "data": {
      "text/plain": [
       "{'contingency': {'timestamp': 1099452, 'value': 1},\n",
       " 'trialThresh': {'timestamp': 1099453, 'value': 72},\n",
       " 'totalPokes': {'timestamp': 1099453, 'value': 12},\n",
       " 'totalRewards': {'timestamp': 1099454, 'value': 6},\n",
       " 'ifDelay': {'timestamp': 1099454, 'value': 1},\n",
       " 'countPokes1': {'timestamp': 1099455, 'value': 2},\n",
       " 'countRewards1': {'timestamp': 1099455, 'value': 0},\n",
       " 'portProbs1': {'timestamp': 1099456, 'value': 10},\n",
       " 'countPokes2': {'timestamp': 1099456, 'value': 4},\n",
       " 'countRewards2': {'timestamp': 1099457, 'value': 0},\n",
       " 'portProbs2': {'timestamp': 1099457, 'value': 50},\n",
       " 'countPokes3': {'timestamp': 1099478, 'value': 6},\n",
       " 'countRewards3': {'timestamp': 1099479, 'value': 6},\n",
       " 'portProbs3': {'timestamp': 1099479, 'value': 90}}"
      ]
     },
     "metadata": {},
     "output_type": "display_data"
    },
    {
     "data": {
      "text/plain": [
       "{'contingency': {'timestamp': 1106963, 'value': 1},\n",
       " 'trialThresh': {'timestamp': 1106963, 'value': 72},\n",
       " 'totalPokes': {'timestamp': 1106964, 'value': 13},\n",
       " 'totalRewards': {'timestamp': 1106964, 'value': 7},\n",
       " 'ifDelay': {'timestamp': 1106965, 'value': 1},\n",
       " 'countPokes1': {'timestamp': 1106965, 'value': 2},\n",
       " 'countRewards1': {'timestamp': 1106966, 'value': 0},\n",
       " 'portProbs1': {'timestamp': 1106966, 'value': 10},\n",
       " 'countPokes2': {'timestamp': 1106967, 'value': 4},\n",
       " 'countRewards2': {'timestamp': 1106967, 'value': 0},\n",
       " 'portProbs2': {'timestamp': 1106968, 'value': 50},\n",
       " 'countPokes3': {'timestamp': 1106989, 'value': 7},\n",
       " 'countRewards3': {'timestamp': 1106989, 'value': 7},\n",
       " 'portProbs3': {'timestamp': 1106990, 'value': 90}}"
      ]
     },
     "metadata": {},
     "output_type": "display_data"
    },
    {
     "data": {
      "text/plain": [
       "{'contingency': {'timestamp': 1125039, 'value': 1},\n",
       " 'trialThresh': {'timestamp': 1125039, 'value': 72},\n",
       " 'totalPokes': {'timestamp': 1125040, 'value': 14},\n",
       " 'totalRewards': {'timestamp': 1125040, 'value': 7},\n",
       " 'ifDelay': {'timestamp': 1125041, 'value': 0},\n",
       " 'countPokes1': {'timestamp': 1125041, 'value': 2},\n",
       " 'countRewards1': {'timestamp': 1125042, 'value': 0},\n",
       " 'portProbs1': {'timestamp': 1125042, 'value': 10},\n",
       " 'countPokes2': {'timestamp': 1125043, 'value': 5},\n",
       " 'countRewards2': {'timestamp': 1125043, 'value': 0},\n",
       " 'portProbs2': {'timestamp': 1125044, 'value': 50},\n",
       " 'countPokes3': {'timestamp': 1125065, 'value': 7},\n",
       " 'countRewards3': {'timestamp': 1125065, 'value': 7},\n",
       " 'portProbs3': {'timestamp': 1125066, 'value': 90}}"
      ]
     },
     "metadata": {},
     "output_type": "display_data"
    },
    {
     "data": {
      "text/plain": [
       "{'contingency': {'timestamp': 1130349, 'value': 1},\n",
       " 'trialThresh': {'timestamp': 1130349, 'value': 72},\n",
       " 'totalPokes': {'timestamp': 1130350, 'value': 15},\n",
       " 'totalRewards': {'timestamp': 1130350, 'value': 8},\n",
       " 'ifDelay': {'timestamp': 1130351, 'value': 0},\n",
       " 'countPokes1': {'timestamp': 1130351, 'value': 2},\n",
       " 'countRewards1': {'timestamp': 1130352, 'value': 0},\n",
       " 'portProbs1': {'timestamp': 1130352, 'value': 10},\n",
       " 'countPokes2': {'timestamp': 1130353, 'value': 5},\n",
       " 'countRewards2': {'timestamp': 1130353, 'value': 0},\n",
       " 'portProbs2': {'timestamp': 1130354, 'value': 50},\n",
       " 'countPokes3': {'timestamp': 1130374, 'value': 8},\n",
       " 'countRewards3': {'timestamp': 1130375, 'value': 8},\n",
       " 'portProbs3': {'timestamp': 1130375, 'value': 90}}"
      ]
     },
     "metadata": {},
     "output_type": "display_data"
    },
    {
     "data": {
      "text/plain": [
       "{'contingency': {'timestamp': 1147129, 'value': 1},\n",
       " 'trialThresh': {'timestamp': 1147129, 'value': 72},\n",
       " 'totalPokes': {'timestamp': 1147130, 'value': 16},\n",
       " 'totalRewards': {'timestamp': 1147130, 'value': 9},\n",
       " 'ifDelay': {'timestamp': 1147131, 'value': 0},\n",
       " 'countPokes1': {'timestamp': 1147131, 'value': 2},\n",
       " 'countRewards1': {'timestamp': 1147132, 'value': 0},\n",
       " 'portProbs1': {'timestamp': 1147132, 'value': 10},\n",
       " 'countPokes2': {'timestamp': 1147133, 'value': 6},\n",
       " 'countRewards2': {'timestamp': 1147133, 'value': 1},\n",
       " 'portProbs2': {'timestamp': 1147134, 'value': 50},\n",
       " 'countPokes3': {'timestamp': 1147155, 'value': 8},\n",
       " 'countRewards3': {'timestamp': 1147155, 'value': 8},\n",
       " 'portProbs3': {'timestamp': 1147156, 'value': 90}}"
      ]
     },
     "metadata": {},
     "output_type": "display_data"
    },
    {
     "data": {
      "text/plain": [
       "{'contingency': {'timestamp': 1162984, 'value': 1},\n",
       " 'trialThresh': {'timestamp': 1162985, 'value': 72},\n",
       " 'totalPokes': {'timestamp': 1162985, 'value': 17},\n",
       " 'totalRewards': {'timestamp': 1162986, 'value': 10},\n",
       " 'ifDelay': {'timestamp': 1162986, 'value': 0},\n",
       " 'countPokes1': {'timestamp': 1162987, 'value': 2},\n",
       " 'countRewards1': {'timestamp': 1162987, 'value': 0},\n",
       " 'portProbs1': {'timestamp': 1162988, 'value': 10},\n",
       " 'countPokes2': {'timestamp': 1162988, 'value': 6},\n",
       " 'countRewards2': {'timestamp': 1162989, 'value': 1},\n",
       " 'portProbs2': {'timestamp': 1162989, 'value': 50},\n",
       " 'countPokes3': {'timestamp': 1163010, 'value': 9},\n",
       " 'countRewards3': {'timestamp': 1163010, 'value': 9},\n",
       " 'portProbs3': {'timestamp': 1163011, 'value': 90}}"
      ]
     },
     "metadata": {},
     "output_type": "display_data"
    },
    {
     "data": {
      "text/plain": [
       "{'contingency': {'timestamp': 1180086, 'value': 1},\n",
       " 'trialThresh': {'timestamp': 1180087, 'value': 72},\n",
       " 'totalPokes': {'timestamp': 1180087, 'value': 18},\n",
       " 'totalRewards': {'timestamp': 1180088, 'value': 11},\n",
       " 'ifDelay': {'timestamp': 1180088, 'value': 1},\n",
       " 'countPokes1': {'timestamp': 1180089, 'value': 2},\n",
       " 'countRewards1': {'timestamp': 1180089, 'value': 0},\n",
       " 'portProbs1': {'timestamp': 1180090, 'value': 10},\n",
       " 'countPokes2': {'timestamp': 1180090, 'value': 7},\n",
       " 'countRewards2': {'timestamp': 1180091, 'value': 2},\n",
       " 'portProbs2': {'timestamp': 1180091, 'value': 50},\n",
       " 'countPokes3': {'timestamp': 1180112, 'value': 9},\n",
       " 'countRewards3': {'timestamp': 1180112, 'value': 9},\n",
       " 'portProbs3': {'timestamp': 1180113, 'value': 90}}"
      ]
     },
     "metadata": {},
     "output_type": "display_data"
    },
    {
     "data": {
      "text/plain": [
       "{'contingency': {'timestamp': 1196537, 'value': 1},\n",
       " 'trialThresh': {'timestamp': 1196537, 'value': 72},\n",
       " 'totalPokes': {'timestamp': 1196538, 'value': 19},\n",
       " 'totalRewards': {'timestamp': 1196538, 'value': 12},\n",
       " 'ifDelay': {'timestamp': 1196539, 'value': 1},\n",
       " 'countPokes1': {'timestamp': 1196539, 'value': 2},\n",
       " 'countRewards1': {'timestamp': 1196540, 'value': 0},\n",
       " 'portProbs1': {'timestamp': 1196540, 'value': 10},\n",
       " 'countPokes2': {'timestamp': 1196541, 'value': 7},\n",
       " 'countRewards2': {'timestamp': 1196541, 'value': 2},\n",
       " 'portProbs2': {'timestamp': 1196542, 'value': 50},\n",
       " 'countPokes3': {'timestamp': 1196563, 'value': 10},\n",
       " 'countRewards3': {'timestamp': 1196563, 'value': 10},\n",
       " 'portProbs3': {'timestamp': 1196564, 'value': 90}}"
      ]
     },
     "metadata": {},
     "output_type": "display_data"
    },
    {
     "data": {
      "text/plain": [
       "{'contingency': {'timestamp': 1211784, 'value': 1},\n",
       " 'trialThresh': {'timestamp': 1211784, 'value': 72},\n",
       " 'totalPokes': {'timestamp': 1211785, 'value': 20},\n",
       " 'totalRewards': {'timestamp': 1211785, 'value': 13},\n",
       " 'ifDelay': {'timestamp': 1211786, 'value': 0},\n",
       " 'countPokes1': {'timestamp': 1211786, 'value': 2},\n",
       " 'countRewards1': {'timestamp': 1211787, 'value': 0},\n",
       " 'portProbs1': {'timestamp': 1211787, 'value': 10},\n",
       " 'countPokes2': {'timestamp': 1211788, 'value': 8},\n",
       " 'countRewards2': {'timestamp': 1211788, 'value': 3},\n",
       " 'portProbs2': {'timestamp': 1211789, 'value': 50},\n",
       " 'countPokes3': {'timestamp': 1211810, 'value': 10},\n",
       " 'countRewards3': {'timestamp': 1211810, 'value': 10},\n",
       " 'portProbs3': {'timestamp': 1211811, 'value': 90}}"
      ]
     },
     "metadata": {},
     "output_type": "display_data"
    },
    {
     "data": {
      "text/plain": [
       "{'contingency': {'timestamp': 1229952, 'value': 1},\n",
       " 'trialThresh': {'timestamp': 1229952, 'value': 72},\n",
       " 'totalPokes': {'timestamp': 1229953, 'value': 21},\n",
       " 'totalRewards': {'timestamp': 1229953, 'value': 14},\n",
       " 'ifDelay': {'timestamp': 1229954, 'value': 0},\n",
       " 'countPokes1': {'timestamp': 1229954, 'value': 2},\n",
       " 'countRewards1': {'timestamp': 1229955, 'value': 0},\n",
       " 'portProbs1': {'timestamp': 1229955, 'value': 10},\n",
       " 'countPokes2': {'timestamp': 1229956, 'value': 8},\n",
       " 'countRewards2': {'timestamp': 1229956, 'value': 3},\n",
       " 'portProbs2': {'timestamp': 1229957, 'value': 50},\n",
       " 'countPokes3': {'timestamp': 1229978, 'value': 11},\n",
       " 'countRewards3': {'timestamp': 1229978, 'value': 11},\n",
       " 'portProbs3': {'timestamp': 1229979, 'value': 90}}"
      ]
     },
     "metadata": {},
     "output_type": "display_data"
    },
    {
     "data": {
      "text/plain": [
       "{'contingency': {'timestamp': 1246263, 'value': 1},\n",
       " 'trialThresh': {'timestamp': 1246263, 'value': 72},\n",
       " 'totalPokes': {'timestamp': 1246264, 'value': 22},\n",
       " 'totalRewards': {'timestamp': 1246264, 'value': 14},\n",
       " 'ifDelay': {'timestamp': 1246265, 'value': 1},\n",
       " 'countPokes1': {'timestamp': 1246265, 'value': 2},\n",
       " 'countRewards1': {'timestamp': 1246266, 'value': 0},\n",
       " 'portProbs1': {'timestamp': 1246266, 'value': 10},\n",
       " 'countPokes2': {'timestamp': 1246267, 'value': 9},\n",
       " 'countRewards2': {'timestamp': 1246267, 'value': 3},\n",
       " 'portProbs2': {'timestamp': 1246268, 'value': 50},\n",
       " 'countPokes3': {'timestamp': 1246289, 'value': 11},\n",
       " 'countRewards3': {'timestamp': 1246289, 'value': 11},\n",
       " 'portProbs3': {'timestamp': 1246289, 'value': 90}}"
      ]
     },
     "metadata": {},
     "output_type": "display_data"
    },
    {
     "data": {
      "text/plain": [
       "{'contingency': {'timestamp': 1252454, 'value': 1},\n",
       " 'trialThresh': {'timestamp': 1252455, 'value': 72},\n",
       " 'totalPokes': {'timestamp': 1252455, 'value': 23},\n",
       " 'totalRewards': {'timestamp': 1252456, 'value': 15},\n",
       " 'ifDelay': {'timestamp': 1252456, 'value': 1},\n",
       " 'countPokes1': {'timestamp': 1252456, 'value': 2},\n",
       " 'countRewards1': {'timestamp': 1252457, 'value': 0},\n",
       " 'portProbs1': {'timestamp': 1252457, 'value': 10},\n",
       " 'countPokes2': {'timestamp': 1252458, 'value': 9},\n",
       " 'countRewards2': {'timestamp': 1252479, 'value': 3},\n",
       " 'portProbs2': {'timestamp': 1252480, 'value': 50},\n",
       " 'countPokes3': {'timestamp': 1252480, 'value': 12},\n",
       " 'countRewards3': {'timestamp': 1252481, 'value': 12},\n",
       " 'portProbs3': {'timestamp': 1252481, 'value': 90}}"
      ]
     },
     "metadata": {},
     "output_type": "display_data"
    },
    {
     "data": {
      "text/plain": [
       "{'contingency': {'timestamp': 1268746, 'value': 1},\n",
       " 'trialThresh': {'timestamp': 1268746, 'value': 72},\n",
       " 'totalPokes': {'timestamp': 1268747, 'value': 24},\n",
       " 'totalRewards': {'timestamp': 1268747, 'value': 16},\n",
       " 'ifDelay': {'timestamp': 1268748, 'value': 0},\n",
       " 'countPokes1': {'timestamp': 1268748, 'value': 2},\n",
       " 'countRewards1': {'timestamp': 1268749, 'value': 0},\n",
       " 'portProbs1': {'timestamp': 1268749, 'value': 10},\n",
       " 'countPokes2': {'timestamp': 1268750, 'value': 10},\n",
       " 'countRewards2': {'timestamp': 1268750, 'value': 4},\n",
       " 'portProbs2': {'timestamp': 1268771, 'value': 50},\n",
       " 'countPokes3': {'timestamp': 1268772, 'value': 12},\n",
       " 'countRewards3': {'timestamp': 1268772, 'value': 12},\n",
       " 'portProbs3': {'timestamp': 1268773, 'value': 90}}"
      ]
     },
     "metadata": {},
     "output_type": "display_data"
    },
    {
     "data": {
      "text/plain": [
       "{'contingency': {'timestamp': 1285692, 'value': 1},\n",
       " 'trialThresh': {'timestamp': 1285692, 'value': 72},\n",
       " 'totalPokes': {'timestamp': 1285693, 'value': 25},\n",
       " 'totalRewards': {'timestamp': 1285693, 'value': 17},\n",
       " 'ifDelay': {'timestamp': 1285694, 'value': 0},\n",
       " 'countPokes1': {'timestamp': 1285694, 'value': 2},\n",
       " 'countRewards1': {'timestamp': 1285695, 'value': 0},\n",
       " 'portProbs1': {'timestamp': 1285695, 'value': 10},\n",
       " 'countPokes2': {'timestamp': 1285696, 'value': 10},\n",
       " 'countRewards2': {'timestamp': 1285696, 'value': 4},\n",
       " 'portProbs2': {'timestamp': 1285697, 'value': 50},\n",
       " 'countPokes3': {'timestamp': 1285718, 'value': 13},\n",
       " 'countRewards3': {'timestamp': 1285718, 'value': 13},\n",
       " 'portProbs3': {'timestamp': 1285719, 'value': 90}}"
      ]
     },
     "metadata": {},
     "output_type": "display_data"
    },
    {
     "data": {
      "text/plain": [
       "{'contingency': {'timestamp': 1301558, 'value': 1},\n",
       " 'trialThresh': {'timestamp': 1301559, 'value': 72},\n",
       " 'totalPokes': {'timestamp': 1301559, 'value': 26},\n",
       " 'totalRewards': {'timestamp': 1301560, 'value': 17},\n",
       " 'ifDelay': {'timestamp': 1301560, 'value': 0},\n",
       " 'countPokes1': {'timestamp': 1301561, 'value': 2},\n",
       " 'countRewards1': {'timestamp': 1301561, 'value': 0},\n",
       " 'portProbs1': {'timestamp': 1301562, 'value': 10},\n",
       " 'countPokes2': {'timestamp': 1301562, 'value': 11},\n",
       " 'countRewards2': {'timestamp': 1301563, 'value': 4},\n",
       " 'portProbs2': {'timestamp': 1301563, 'value': 50},\n",
       " 'countPokes3': {'timestamp': 1301584, 'value': 13},\n",
       " 'countRewards3': {'timestamp': 1301585, 'value': 13},\n",
       " 'portProbs3': {'timestamp': 1301585, 'value': 90}}"
      ]
     },
     "metadata": {},
     "output_type": "display_data"
    },
    {
     "data": {
      "text/plain": [
       "{'contingency': {'timestamp': 1307890, 'value': 1},\n",
       " 'trialThresh': {'timestamp': 1307890, 'value': 72},\n",
       " 'totalPokes': {'timestamp': 1307891, 'value': 27},\n",
       " 'totalRewards': {'timestamp': 1307891, 'value': 18},\n",
       " 'ifDelay': {'timestamp': 1307891, 'value': 0},\n",
       " 'countPokes1': {'timestamp': 1307892, 'value': 2},\n",
       " 'countRewards1': {'timestamp': 1307892, 'value': 0},\n",
       " 'portProbs1': {'timestamp': 1307893, 'value': 10},\n",
       " 'countPokes2': {'timestamp': 1307893, 'value': 11},\n",
       " 'countRewards2': {'timestamp': 1307894, 'value': 4},\n",
       " 'portProbs2': {'timestamp': 1307894, 'value': 50},\n",
       " 'countPokes3': {'timestamp': 1307915, 'value': 14},\n",
       " 'countRewards3': {'timestamp': 1307916, 'value': 14},\n",
       " 'portProbs3': {'timestamp': 1307916, 'value': 90}}"
      ]
     },
     "metadata": {},
     "output_type": "display_data"
    },
    {
     "data": {
      "text/plain": [
       "{'contingency': {'timestamp': 1327066, 'value': 1},\n",
       " 'trialThresh': {'timestamp': 1327066, 'value': 72},\n",
       " 'totalPokes': {'timestamp': 1327067, 'value': 28},\n",
       " 'totalRewards': {'timestamp': 1327067, 'value': 19},\n",
       " 'ifDelay': {'timestamp': 1327068, 'value': 0},\n",
       " 'countPokes1': {'timestamp': 1327068, 'value': 2},\n",
       " 'countRewards1': {'timestamp': 1327069, 'value': 0},\n",
       " 'portProbs1': {'timestamp': 1327069, 'value': 10},\n",
       " 'countPokes2': {'timestamp': 1327070, 'value': 12},\n",
       " 'countRewards2': {'timestamp': 1327070, 'value': 5},\n",
       " 'portProbs2': {'timestamp': 1327071, 'value': 50},\n",
       " 'countPokes3': {'timestamp': 1327092, 'value': 14},\n",
       " 'countRewards3': {'timestamp': 1327092, 'value': 14},\n",
       " 'portProbs3': {'timestamp': 1327093, 'value': 90}}"
      ]
     },
     "metadata": {},
     "output_type": "display_data"
    },
    {
     "data": {
      "text/plain": [
       "{'contingency': {'timestamp': 1348098, 'value': 1},\n",
       " 'trialThresh': {'timestamp': 1348099, 'value': 72},\n",
       " 'totalPokes': {'timestamp': 1348099, 'value': 29},\n",
       " 'totalRewards': {'timestamp': 1348100, 'value': 20},\n",
       " 'ifDelay': {'timestamp': 1348100, 'value': 0},\n",
       " 'countPokes1': {'timestamp': 1348101, 'value': 2},\n",
       " 'countRewards1': {'timestamp': 1348101, 'value': 0},\n",
       " 'portProbs1': {'timestamp': 1348102, 'value': 10},\n",
       " 'countPokes2': {'timestamp': 1348102, 'value': 12},\n",
       " 'countRewards2': {'timestamp': 1348103, 'value': 5},\n",
       " 'portProbs2': {'timestamp': 1348123, 'value': 50},\n",
       " 'countPokes3': {'timestamp': 1348124, 'value': 15},\n",
       " 'countRewards3': {'timestamp': 1348124, 'value': 15},\n",
       " 'portProbs3': {'timestamp': 1348125, 'value': 90}}"
      ]
     },
     "metadata": {},
     "output_type": "display_data"
    },
    {
     "data": {
      "text/plain": [
       "{'contingency': {'timestamp': 1364688, 'value': 1},\n",
       " 'trialThresh': {'timestamp': 1364688, 'value': 72},\n",
       " 'totalPokes': {'timestamp': 1364689, 'value': 30},\n",
       " 'totalRewards': {'timestamp': 1364689, 'value': 20},\n",
       " 'ifDelay': {'timestamp': 1364690, 'value': 1},\n",
       " 'countPokes1': {'timestamp': 1364690, 'value': 3},\n",
       " 'countRewards1': {'timestamp': 1364691, 'value': 0},\n",
       " 'portProbs1': {'timestamp': 1364691, 'value': 10},\n",
       " 'countPokes2': {'timestamp': 1364692, 'value': 12},\n",
       " 'countRewards2': {'timestamp': 1364692, 'value': 5},\n",
       " 'portProbs2': {'timestamp': 1364693, 'value': 50},\n",
       " 'countPokes3': {'timestamp': 1364714, 'value': 15},\n",
       " 'countRewards3': {'timestamp': 1364714, 'value': 15},\n",
       " 'portProbs3': {'timestamp': 1364715, 'value': 90}}"
      ]
     },
     "metadata": {},
     "output_type": "display_data"
    },
    {
     "data": {
      "text/plain": [
       "{'contingency': {'timestamp': 1372439, 'value': 1},\n",
       " 'trialThresh': {'timestamp': 1372439, 'value': 72},\n",
       " 'totalPokes': {'timestamp': 1372440, 'value': 31},\n",
       " 'totalRewards': {'timestamp': 1372440, 'value': 20},\n",
       " 'ifDelay': {'timestamp': 1372441, 'value': 1},\n",
       " 'countPokes1': {'timestamp': 1372441, 'value': 3},\n",
       " 'countRewards1': {'timestamp': 1372442, 'value': 0},\n",
       " 'portProbs1': {'timestamp': 1372442, 'value': 10},\n",
       " 'countPokes2': {'timestamp': 1372443, 'value': 13},\n",
       " 'countRewards2': {'timestamp': 1372443, 'value': 5},\n",
       " 'portProbs2': {'timestamp': 1372444, 'value': 50},\n",
       " 'countPokes3': {'timestamp': 1372465, 'value': 15},\n",
       " 'countRewards3': {'timestamp': 1372465, 'value': 15},\n",
       " 'portProbs3': {'timestamp': 1372466, 'value': 90}}"
      ]
     },
     "metadata": {},
     "output_type": "display_data"
    },
    {
     "data": {
      "text/plain": [
       "{'contingency': {'timestamp': 1379708, 'value': 1},\n",
       " 'trialThresh': {'timestamp': 1379709, 'value': 72},\n",
       " 'totalPokes': {'timestamp': 1379709, 'value': 32},\n",
       " 'totalRewards': {'timestamp': 1379710, 'value': 21},\n",
       " 'ifDelay': {'timestamp': 1379710, 'value': 1},\n",
       " 'countPokes1': {'timestamp': 1379711, 'value': 3},\n",
       " 'countRewards1': {'timestamp': 1379711, 'value': 0},\n",
       " 'portProbs1': {'timestamp': 1379712, 'value': 10},\n",
       " 'countPokes2': {'timestamp': 1379712, 'value': 13},\n",
       " 'countRewards2': {'timestamp': 1379713, 'value': 5},\n",
       " 'portProbs2': {'timestamp': 1379713, 'value': 50},\n",
       " 'countPokes3': {'timestamp': 1379734, 'value': 16},\n",
       " 'countRewards3': {'timestamp': 1379735, 'value': 16},\n",
       " 'portProbs3': {'timestamp': 1379735, 'value': 90}}"
      ]
     },
     "metadata": {},
     "output_type": "display_data"
    },
    {
     "data": {
      "text/plain": [
       "{'contingency': {'timestamp': 1400572, 'value': 1},\n",
       " 'trialThresh': {'timestamp': 1400572, 'value': 72},\n",
       " 'totalPokes': {'timestamp': 1400573, 'value': 33},\n",
       " 'totalRewards': {'timestamp': 1400573, 'value': 22},\n",
       " 'ifDelay': {'timestamp': 1400574, 'value': 0},\n",
       " 'countPokes1': {'timestamp': 1400574, 'value': 3},\n",
       " 'countRewards1': {'timestamp': 1400575, 'value': 0},\n",
       " 'portProbs1': {'timestamp': 1400575, 'value': 10},\n",
       " 'countPokes2': {'timestamp': 1400576, 'value': 14},\n",
       " 'countRewards2': {'timestamp': 1400576, 'value': 6},\n",
       " 'portProbs2': {'timestamp': 1400577, 'value': 50},\n",
       " 'countPokes3': {'timestamp': 1400598, 'value': 16},\n",
       " 'countRewards3': {'timestamp': 1400598, 'value': 16},\n",
       " 'portProbs3': {'timestamp': 1400599, 'value': 90}}"
      ]
     },
     "metadata": {},
     "output_type": "display_data"
    },
    {
     "data": {
      "text/plain": [
       "{'contingency': {'timestamp': 1421824, 'value': 1},\n",
       " 'trialThresh': {'timestamp': 1421825, 'value': 72},\n",
       " 'totalPokes': {'timestamp': 1421825, 'value': 34},\n",
       " 'totalRewards': {'timestamp': 1421826, 'value': 23},\n",
       " 'ifDelay': {'timestamp': 1421826, 'value': 0},\n",
       " 'countPokes1': {'timestamp': 1421827, 'value': 3},\n",
       " 'countRewards1': {'timestamp': 1421827, 'value': 0},\n",
       " 'portProbs1': {'timestamp': 1421828, 'value': 10},\n",
       " 'countPokes2': {'timestamp': 1421828, 'value': 14},\n",
       " 'countRewards2': {'timestamp': 1421829, 'value': 6},\n",
       " 'portProbs2': {'timestamp': 1421829, 'value': 50},\n",
       " 'countPokes3': {'timestamp': 1421850, 'value': 17},\n",
       " 'countRewards3': {'timestamp': 1421851, 'value': 17},\n",
       " 'portProbs3': {'timestamp': 1421851, 'value': 90}}"
      ]
     },
     "metadata": {},
     "output_type": "display_data"
    },
    {
     "data": {
      "text/plain": [
       "{'contingency': {'timestamp': 1441639, 'value': 1},\n",
       " 'trialThresh': {'timestamp': 1441640, 'value': 72},\n",
       " 'totalPokes': {'timestamp': 1441640, 'value': 35},\n",
       " 'totalRewards': {'timestamp': 1441641, 'value': 23},\n",
       " 'ifDelay': {'timestamp': 1441641, 'value': 1},\n",
       " 'countPokes1': {'timestamp': 1441642, 'value': 3},\n",
       " 'countRewards1': {'timestamp': 1441642, 'value': 0},\n",
       " 'portProbs1': {'timestamp': 1441643, 'value': 10},\n",
       " 'countPokes2': {'timestamp': 1441643, 'value': 15},\n",
       " 'countRewards2': {'timestamp': 1441644, 'value': 6},\n",
       " 'portProbs2': {'timestamp': 1441644, 'value': 50},\n",
       " 'countPokes3': {'timestamp': 1441665, 'value': 17},\n",
       " 'countRewards3': {'timestamp': 1441666, 'value': 17},\n",
       " 'portProbs3': {'timestamp': 1441666, 'value': 90}}"
      ]
     },
     "metadata": {},
     "output_type": "display_data"
    },
    {
     "data": {
      "text/plain": [
       "{'contingency': {'timestamp': 1449332, 'value': 1},\n",
       " 'trialThresh': {'timestamp': 1449332, 'value': 72},\n",
       " 'totalPokes': {'timestamp': 1449333, 'value': 36},\n",
       " 'totalRewards': {'timestamp': 1449333, 'value': 24},\n",
       " 'ifDelay': {'timestamp': 1449334, 'value': 1},\n",
       " 'countPokes1': {'timestamp': 1449334, 'value': 3},\n",
       " 'countRewards1': {'timestamp': 1449335, 'value': 0},\n",
       " 'portProbs1': {'timestamp': 1449335, 'value': 10},\n",
       " 'countPokes2': {'timestamp': 1449336, 'value': 15},\n",
       " 'countRewards2': {'timestamp': 1449336, 'value': 6},\n",
       " 'portProbs2': {'timestamp': 1449337, 'value': 50},\n",
       " 'countPokes3': {'timestamp': 1449358, 'value': 18},\n",
       " 'countRewards3': {'timestamp': 1449358, 'value': 18},\n",
       " 'portProbs3': {'timestamp': 1449359, 'value': 90}}"
      ]
     },
     "metadata": {},
     "output_type": "display_data"
    },
    {
     "data": {
      "text/plain": [
       "{'contingency': {'timestamp': 1465680, 'value': 1},\n",
       " 'trialThresh': {'timestamp': 1465680, 'value': 72},\n",
       " 'totalPokes': {'timestamp': 1465681, 'value': 37},\n",
       " 'totalRewards': {'timestamp': 1465681, 'value': 24},\n",
       " 'ifDelay': {'timestamp': 1465682, 'value': 1},\n",
       " 'countPokes1': {'timestamp': 1465682, 'value': 3},\n",
       " 'countRewards1': {'timestamp': 1465682, 'value': 0},\n",
       " 'portProbs1': {'timestamp': 1465683, 'value': 10},\n",
       " 'countPokes2': {'timestamp': 1465683, 'value': 16},\n",
       " 'countRewards2': {'timestamp': 1465684, 'value': 6},\n",
       " 'portProbs2': {'timestamp': 1465684, 'value': 50},\n",
       " 'countPokes3': {'timestamp': 1465705, 'value': 18},\n",
       " 'countRewards3': {'timestamp': 1465706, 'value': 18},\n",
       " 'portProbs3': {'timestamp': 1465706, 'value': 90}}"
      ]
     },
     "metadata": {},
     "output_type": "display_data"
    },
    {
     "data": {
      "text/plain": [
       "{'contingency': {'timestamp': 1472900, 'value': 1},\n",
       " 'trialThresh': {'timestamp': 1472901, 'value': 72},\n",
       " 'totalPokes': {'timestamp': 1472901, 'value': 38},\n",
       " 'totalRewards': {'timestamp': 1472902, 'value': 25},\n",
       " 'ifDelay': {'timestamp': 1472902, 'value': 1},\n",
       " 'countPokes1': {'timestamp': 1472903, 'value': 3},\n",
       " 'countRewards1': {'timestamp': 1472903, 'value': 0},\n",
       " 'portProbs1': {'timestamp': 1472903, 'value': 10},\n",
       " 'countPokes2': {'timestamp': 1472904, 'value': 16},\n",
       " 'countRewards2': {'timestamp': 1472904, 'value': 6},\n",
       " 'portProbs2': {'timestamp': 1472905, 'value': 50},\n",
       " 'countPokes3': {'timestamp': 1472926, 'value': 19},\n",
       " 'countRewards3': {'timestamp': 1472927, 'value': 19},\n",
       " 'portProbs3': {'timestamp': 1472927, 'value': 90}}"
      ]
     },
     "metadata": {},
     "output_type": "display_data"
    },
    {
     "data": {
      "text/plain": [
       "{'contingency': {'timestamp': 1489539, 'value': 1},\n",
       " 'trialThresh': {'timestamp': 1489539, 'value': 72},\n",
       " 'totalPokes': {'timestamp': 1489540, 'value': 39},\n",
       " 'totalRewards': {'timestamp': 1489540, 'value': 25},\n",
       " 'ifDelay': {'timestamp': 1489541, 'value': 0},\n",
       " 'countPokes1': {'timestamp': 1489541, 'value': 4},\n",
       " 'countRewards1': {'timestamp': 1489542, 'value': 0},\n",
       " 'portProbs1': {'timestamp': 1489542, 'value': 10},\n",
       " 'countPokes2': {'timestamp': 1489543, 'value': 16},\n",
       " 'countRewards2': {'timestamp': 1489543, 'value': 6},\n",
       " 'portProbs2': {'timestamp': 1489544, 'value': 50},\n",
       " 'countPokes3': {'timestamp': 1489565, 'value': 19},\n",
       " 'countRewards3': {'timestamp': 1489565, 'value': 19},\n",
       " 'portProbs3': {'timestamp': 1489566, 'value': 90}}"
      ]
     },
     "metadata": {},
     "output_type": "display_data"
    },
    {
     "data": {
      "text/plain": [
       "{'contingency': {'timestamp': 1495443, 'value': 1},\n",
       " 'trialThresh': {'timestamp': 1495444, 'value': 72},\n",
       " 'totalPokes': {'timestamp': 1495444, 'value': 40},\n",
       " 'totalRewards': {'timestamp': 1495445, 'value': 26},\n",
       " 'ifDelay': {'timestamp': 1495445, 'value': 0},\n",
       " 'countPokes1': {'timestamp': 1495446, 'value': 4},\n",
       " 'countRewards1': {'timestamp': 1495446, 'value': 0},\n",
       " 'portProbs1': {'timestamp': 1495447, 'value': 10},\n",
       " 'countPokes2': {'timestamp': 1495447, 'value': 16},\n",
       " 'countRewards2': {'timestamp': 1495448, 'value': 6},\n",
       " 'portProbs2': {'timestamp': 1495448, 'value': 50},\n",
       " 'countPokes3': {'timestamp': 1495469, 'value': 20},\n",
       " 'countRewards3': {'timestamp': 1495470, 'value': 20},\n",
       " 'portProbs3': {'timestamp': 1495470, 'value': 90}}"
      ]
     },
     "metadata": {},
     "output_type": "display_data"
    },
    {
     "data": {
      "text/plain": [
       "{'contingency': {'timestamp': 1513920, 'value': 1},\n",
       " 'trialThresh': {'timestamp': 1513920, 'value': 72},\n",
       " 'totalPokes': {'timestamp': 1513921, 'value': 41},\n",
       " 'totalRewards': {'timestamp': 1513921, 'value': 26},\n",
       " 'ifDelay': {'timestamp': 1513922, 'value': 1},\n",
       " 'countPokes1': {'timestamp': 1513922, 'value': 4},\n",
       " 'countRewards1': {'timestamp': 1513923, 'value': 0},\n",
       " 'portProbs1': {'timestamp': 1513923, 'value': 10},\n",
       " 'countPokes2': {'timestamp': 1513923, 'value': 17},\n",
       " 'countRewards2': {'timestamp': 1513924, 'value': 6},\n",
       " 'portProbs2': {'timestamp': 1513924, 'value': 50},\n",
       " 'countPokes3': {'timestamp': 1513946, 'value': 20},\n",
       " 'countRewards3': {'timestamp': 1513946, 'value': 20},\n",
       " 'portProbs3': {'timestamp': 1513947, 'value': 90}}"
      ]
     },
     "metadata": {},
     "output_type": "display_data"
    },
    {
     "data": {
      "text/plain": [
       "{'contingency': {'timestamp': 1521279, 'value': 1},\n",
       " 'trialThresh': {'timestamp': 1521279, 'value': 72},\n",
       " 'totalPokes': {'timestamp': 1521280, 'value': 42},\n",
       " 'totalRewards': {'timestamp': 1521280, 'value': 27},\n",
       " 'ifDelay': {'timestamp': 1521281, 'value': 1},\n",
       " 'countPokes1': {'timestamp': 1521281, 'value': 4},\n",
       " 'countRewards1': {'timestamp': 1521282, 'value': 0},\n",
       " 'portProbs1': {'timestamp': 1521282, 'value': 10},\n",
       " 'countPokes2': {'timestamp': 1521283, 'value': 17},\n",
       " 'countRewards2': {'timestamp': 1521283, 'value': 6},\n",
       " 'portProbs2': {'timestamp': 1521284, 'value': 50},\n",
       " 'countPokes3': {'timestamp': 1521305, 'value': 21},\n",
       " 'countRewards3': {'timestamp': 1521305, 'value': 21},\n",
       " 'portProbs3': {'timestamp': 1521306, 'value': 90}}"
      ]
     },
     "metadata": {},
     "output_type": "display_data"
    },
    {
     "data": {
      "text/plain": [
       "{'contingency': {'timestamp': 1542459, 'value': 1},\n",
       " 'trialThresh': {'timestamp': 1542459, 'value': 72},\n",
       " 'totalPokes': {'timestamp': 1542460, 'value': 43},\n",
       " 'totalRewards': {'timestamp': 1542460, 'value': 28},\n",
       " 'ifDelay': {'timestamp': 1542461, 'value': 0},\n",
       " 'countPokes1': {'timestamp': 1542461, 'value': 4},\n",
       " 'countRewards1': {'timestamp': 1542462, 'value': 0},\n",
       " 'portProbs1': {'timestamp': 1542462, 'value': 10},\n",
       " 'countPokes2': {'timestamp': 1542463, 'value': 18},\n",
       " 'countRewards2': {'timestamp': 1542463, 'value': 7},\n",
       " 'portProbs2': {'timestamp': 1542484, 'value': 50},\n",
       " 'countPokes3': {'timestamp': 1542485, 'value': 21},\n",
       " 'countRewards3': {'timestamp': 1542485, 'value': 21},\n",
       " 'portProbs3': {'timestamp': 1542486, 'value': 90}}"
      ]
     },
     "metadata": {},
     "output_type": "display_data"
    },
    {
     "data": {
      "text/plain": [
       "{'contingency': {'timestamp': 1567167, 'value': 1},\n",
       " 'trialThresh': {'timestamp': 1567167, 'value': 72},\n",
       " 'totalPokes': {'timestamp': 1567168, 'value': 44},\n",
       " 'totalRewards': {'timestamp': 1567168, 'value': 28},\n",
       " 'ifDelay': {'timestamp': 1567169, 'value': 0},\n",
       " 'countPokes1': {'timestamp': 1567169, 'value': 4},\n",
       " 'countRewards1': {'timestamp': 1567170, 'value': 0},\n",
       " 'portProbs1': {'timestamp': 1567170, 'value': 10},\n",
       " 'countPokes2': {'timestamp': 1567171, 'value': 18},\n",
       " 'countRewards2': {'timestamp': 1567171, 'value': 7},\n",
       " 'portProbs2': {'timestamp': 1567172, 'value': 50},\n",
       " 'countPokes3': {'timestamp': 1567193, 'value': 22},\n",
       " 'countRewards3': {'timestamp': 1567193, 'value': 21},\n",
       " 'portProbs3': {'timestamp': 1567194, 'value': 90}}"
      ]
     },
     "metadata": {},
     "output_type": "display_data"
    },
    {
     "data": {
      "text/plain": [
       "{'contingency': {'timestamp': 1576896, 'value': 1},\n",
       " 'trialThresh': {'timestamp': 1576897, 'value': 72},\n",
       " 'totalPokes': {'timestamp': 1576897, 'value': 45},\n",
       " 'totalRewards': {'timestamp': 1576898, 'value': 28},\n",
       " 'ifDelay': {'timestamp': 1576898, 'value': 0},\n",
       " 'countPokes1': {'timestamp': 1576899, 'value': 4},\n",
       " 'countRewards1': {'timestamp': 1576899, 'value': 0},\n",
       " 'portProbs1': {'timestamp': 1576900, 'value': 10},\n",
       " 'countPokes2': {'timestamp': 1576900, 'value': 19},\n",
       " 'countRewards2': {'timestamp': 1576901, 'value': 7},\n",
       " 'portProbs2': {'timestamp': 1576901, 'value': 50},\n",
       " 'countPokes3': {'timestamp': 1576922, 'value': 22},\n",
       " 'countRewards3': {'timestamp': 1576923, 'value': 21},\n",
       " 'portProbs3': {'timestamp': 1576923, 'value': 90}}"
      ]
     },
     "metadata": {},
     "output_type": "display_data"
    },
    {
     "data": {
      "text/plain": [
       "{'contingency': {'timestamp': 1584697, 'value': 1},\n",
       " 'trialThresh': {'timestamp': 1584697, 'value': 72},\n",
       " 'totalPokes': {'timestamp': 1584698, 'value': 46},\n",
       " 'totalRewards': {'timestamp': 1584698, 'value': 29},\n",
       " 'ifDelay': {'timestamp': 1584699, 'value': 0},\n",
       " 'countPokes1': {'timestamp': 1584699, 'value': 4},\n",
       " 'countRewards1': {'timestamp': 1584700, 'value': 0},\n",
       " 'portProbs1': {'timestamp': 1584700, 'value': 10},\n",
       " 'countPokes2': {'timestamp': 1584701, 'value': 19},\n",
       " 'countRewards2': {'timestamp': 1584701, 'value': 7},\n",
       " 'portProbs2': {'timestamp': 1584702, 'value': 50},\n",
       " 'countPokes3': {'timestamp': 1584723, 'value': 23},\n",
       " 'countRewards3': {'timestamp': 1584723, 'value': 22},\n",
       " 'portProbs3': {'timestamp': 1584724, 'value': 90}}"
      ]
     },
     "metadata": {},
     "output_type": "display_data"
    },
    {
     "data": {
      "text/plain": [
       "{'contingency': {'timestamp': 1600127, 'value': 1},\n",
       " 'trialThresh': {'timestamp': 1600128, 'value': 72},\n",
       " 'totalPokes': {'timestamp': 1600128, 'value': 47},\n",
       " 'totalRewards': {'timestamp': 1600129, 'value': 29},\n",
       " 'ifDelay': {'timestamp': 1600129, 'value': 1},\n",
       " 'countPokes1': {'timestamp': 1600130, 'value': 5},\n",
       " 'countRewards1': {'timestamp': 1600130, 'value': 0},\n",
       " 'portProbs1': {'timestamp': 1600131, 'value': 10},\n",
       " 'countPokes2': {'timestamp': 1600131, 'value': 19},\n",
       " 'countRewards2': {'timestamp': 1600132, 'value': 7},\n",
       " 'portProbs2': {'timestamp': 1600132, 'value': 50},\n",
       " 'countPokes3': {'timestamp': 1600153, 'value': 23},\n",
       " 'countRewards3': {'timestamp': 1600154, 'value': 22},\n",
       " 'portProbs3': {'timestamp': 1600154, 'value': 90}}"
      ]
     },
     "metadata": {},
     "output_type": "display_data"
    },
    {
     "data": {
      "text/plain": [
       "{'contingency': {'timestamp': 1606737, 'value': 1},\n",
       " 'trialThresh': {'timestamp': 1606738, 'value': 72},\n",
       " 'totalPokes': {'timestamp': 1606738, 'value': 48},\n",
       " 'totalRewards': {'timestamp': 1606739, 'value': 30},\n",
       " 'ifDelay': {'timestamp': 1606739, 'value': 1},\n",
       " 'countPokes1': {'timestamp': 1606740, 'value': 5},\n",
       " 'countRewards1': {'timestamp': 1606740, 'value': 0},\n",
       " 'portProbs1': {'timestamp': 1606741, 'value': 10},\n",
       " 'countPokes2': {'timestamp': 1606741, 'value': 19},\n",
       " 'countRewards2': {'timestamp': 1606742, 'value': 7},\n",
       " 'portProbs2': {'timestamp': 1606742, 'value': 50},\n",
       " 'countPokes3': {'timestamp': 1606763, 'value': 24},\n",
       " 'countRewards3': {'timestamp': 1606764, 'value': 23},\n",
       " 'portProbs3': {'timestamp': 1606764, 'value': 90}}"
      ]
     },
     "metadata": {},
     "output_type": "display_data"
    },
    {
     "data": {
      "text/plain": [
       "{'contingency': {'timestamp': 1625260, 'value': 1},\n",
       " 'trialThresh': {'timestamp': 1625260, 'value': 72},\n",
       " 'totalPokes': {'timestamp': 1625261, 'value': 49},\n",
       " 'totalRewards': {'timestamp': 1625261, 'value': 30},\n",
       " 'ifDelay': {'timestamp': 1625262, 'value': 0},\n",
       " 'countPokes1': {'timestamp': 1625262, 'value': 6},\n",
       " 'countRewards1': {'timestamp': 1625263, 'value': 0},\n",
       " 'portProbs1': {'timestamp': 1625263, 'value': 10},\n",
       " 'countPokes2': {'timestamp': 1625263, 'value': 19},\n",
       " 'countRewards2': {'timestamp': 1625264, 'value': 7},\n",
       " 'portProbs2': {'timestamp': 1625264, 'value': 50},\n",
       " 'countPokes3': {'timestamp': 1625286, 'value': 24},\n",
       " 'countRewards3': {'timestamp': 1625286, 'value': 23},\n",
       " 'portProbs3': {'timestamp': 1625287, 'value': 90}}"
      ]
     },
     "metadata": {},
     "output_type": "display_data"
    },
    {
     "data": {
      "text/plain": [
       "{'contingency': {'timestamp': 1630990, 'value': 1},\n",
       " 'trialThresh': {'timestamp': 1630990, 'value': 72},\n",
       " 'totalPokes': {'timestamp': 1630991, 'value': 50},\n",
       " 'totalRewards': {'timestamp': 1630991, 'value': 31},\n",
       " 'ifDelay': {'timestamp': 1630992, 'value': 0},\n",
       " 'countPokes1': {'timestamp': 1630992, 'value': 6},\n",
       " 'countRewards1': {'timestamp': 1630993, 'value': 0},\n",
       " 'portProbs1': {'timestamp': 1630993, 'value': 10},\n",
       " 'countPokes2': {'timestamp': 1630994, 'value': 19},\n",
       " 'countRewards2': {'timestamp': 1630994, 'value': 7},\n",
       " 'portProbs2': {'timestamp': 1630995, 'value': 50},\n",
       " 'countPokes3': {'timestamp': 1631016, 'value': 25},\n",
       " 'countRewards3': {'timestamp': 1631016, 'value': 24},\n",
       " 'portProbs3': {'timestamp': 1631017, 'value': 90}}"
      ]
     },
     "metadata": {},
     "output_type": "display_data"
    },
    {
     "data": {
      "text/plain": [
       "{'contingency': {'timestamp': 1648623, 'value': 1},\n",
       " 'trialThresh': {'timestamp': 1648623, 'value': 72},\n",
       " 'totalPokes': {'timestamp': 1648623, 'value': 51},\n",
       " 'totalRewards': {'timestamp': 1648624, 'value': 31},\n",
       " 'ifDelay': {'timestamp': 1648624, 'value': 0},\n",
       " 'countPokes1': {'timestamp': 1648625, 'value': 7},\n",
       " 'countRewards1': {'timestamp': 1648625, 'value': 0},\n",
       " 'portProbs1': {'timestamp': 1648626, 'value': 10},\n",
       " 'countPokes2': {'timestamp': 1648626, 'value': 19},\n",
       " 'countRewards2': {'timestamp': 1648627, 'value': 7},\n",
       " 'portProbs2': {'timestamp': 1648627, 'value': 50},\n",
       " 'countPokes3': {'timestamp': 1648648, 'value': 25},\n",
       " 'countRewards3': {'timestamp': 1648649, 'value': 24},\n",
       " 'portProbs3': {'timestamp': 1648649, 'value': 90}}"
      ]
     },
     "metadata": {},
     "output_type": "display_data"
    },
    {
     "data": {
      "text/plain": [
       "{'contingency': {'timestamp': 1655812, 'value': 1},\n",
       " 'trialThresh': {'timestamp': 1655813, 'value': 72},\n",
       " 'totalPokes': {'timestamp': 1655813, 'value': 52},\n",
       " 'totalRewards': {'timestamp': 1655814, 'value': 32},\n",
       " 'ifDelay': {'timestamp': 1655814, 'value': 0},\n",
       " 'countPokes1': {'timestamp': 1655815, 'value': 7},\n",
       " 'countRewards1': {'timestamp': 1655815, 'value': 0},\n",
       " 'portProbs1': {'timestamp': 1655816, 'value': 10},\n",
       " 'countPokes2': {'timestamp': 1655816, 'value': 19},\n",
       " 'countRewards2': {'timestamp': 1655817, 'value': 7},\n",
       " 'portProbs2': {'timestamp': 1655817, 'value': 50},\n",
       " 'countPokes3': {'timestamp': 1655838, 'value': 26},\n",
       " 'countRewards3': {'timestamp': 1655839, 'value': 25},\n",
       " 'portProbs3': {'timestamp': 1655839, 'value': 90}}"
      ]
     },
     "metadata": {},
     "output_type": "display_data"
    },
    {
     "data": {
      "text/plain": [
       "{'contingency': {'timestamp': 1675737, 'value': 1},\n",
       " 'trialThresh': {'timestamp': 1675738, 'value': 72},\n",
       " 'totalPokes': {'timestamp': 1675738, 'value': 53},\n",
       " 'totalRewards': {'timestamp': 1675739, 'value': 32},\n",
       " 'ifDelay': {'timestamp': 1675739, 'value': 0},\n",
       " 'countPokes1': {'timestamp': 1675740, 'value': 8},\n",
       " 'countRewards1': {'timestamp': 1675740, 'value': 0},\n",
       " 'portProbs1': {'timestamp': 1675741, 'value': 10},\n",
       " 'countPokes2': {'timestamp': 1675741, 'value': 19},\n",
       " 'countRewards2': {'timestamp': 1675742, 'value': 7},\n",
       " 'portProbs2': {'timestamp': 1675742, 'value': 50},\n",
       " 'countPokes3': {'timestamp': 1675763, 'value': 26},\n",
       " 'countRewards3': {'timestamp': 1675764, 'value': 25},\n",
       " 'portProbs3': {'timestamp': 1675764, 'value': 90}}"
      ]
     },
     "metadata": {},
     "output_type": "display_data"
    },
    {
     "data": {
      "text/plain": [
       "{'contingency': {'timestamp': 1681297, 'value': 1},\n",
       " 'trialThresh': {'timestamp': 1681298, 'value': 72},\n",
       " 'totalPokes': {'timestamp': 1681298, 'value': 54},\n",
       " 'totalRewards': {'timestamp': 1681299, 'value': 33},\n",
       " 'ifDelay': {'timestamp': 1681299, 'value': 0},\n",
       " 'countPokes1': {'timestamp': 1681300, 'value': 8},\n",
       " 'countRewards1': {'timestamp': 1681300, 'value': 0},\n",
       " 'portProbs1': {'timestamp': 1681301, 'value': 10},\n",
       " 'countPokes2': {'timestamp': 1681301, 'value': 19},\n",
       " 'countRewards2': {'timestamp': 1681302, 'value': 7},\n",
       " 'portProbs2': {'timestamp': 1681302, 'value': 50},\n",
       " 'countPokes3': {'timestamp': 1681323, 'value': 27},\n",
       " 'countRewards3': {'timestamp': 1681324, 'value': 26},\n",
       " 'portProbs3': {'timestamp': 1681324, 'value': 90}}"
      ]
     },
     "metadata": {},
     "output_type": "display_data"
    },
    {
     "data": {
      "text/plain": [
       "{'contingency': {'timestamp': 1697553, 'value': 1},\n",
       " 'trialThresh': {'timestamp': 1697553, 'value': 72},\n",
       " 'totalPokes': {'timestamp': 1697554, 'value': 55},\n",
       " 'totalRewards': {'timestamp': 1697554, 'value': 33},\n",
       " 'ifDelay': {'timestamp': 1697555, 'value': 0},\n",
       " 'countPokes1': {'timestamp': 1697555, 'value': 9},\n",
       " 'countRewards1': {'timestamp': 1697556, 'value': 0},\n",
       " 'portProbs1': {'timestamp': 1697556, 'value': 10},\n",
       " 'countPokes2': {'timestamp': 1697557, 'value': 19},\n",
       " 'countRewards2': {'timestamp': 1697557, 'value': 7},\n",
       " 'portProbs2': {'timestamp': 1697558, 'value': 50},\n",
       " 'countPokes3': {'timestamp': 1697579, 'value': 27},\n",
       " 'countRewards3': {'timestamp': 1697579, 'value': 26},\n",
       " 'portProbs3': {'timestamp': 1697580, 'value': 90}}"
      ]
     },
     "metadata": {},
     "output_type": "display_data"
    },
    {
     "data": {
      "text/plain": [
       "{'contingency': {'timestamp': 1703483, 'value': 1},\n",
       " 'trialThresh': {'timestamp': 1703483, 'value': 72},\n",
       " 'totalPokes': {'timestamp': 1703484, 'value': 56},\n",
       " 'totalRewards': {'timestamp': 1703484, 'value': 34},\n",
       " 'ifDelay': {'timestamp': 1703485, 'value': 0},\n",
       " 'countPokes1': {'timestamp': 1703485, 'value': 9},\n",
       " 'countRewards1': {'timestamp': 1703486, 'value': 0},\n",
       " 'portProbs1': {'timestamp': 1703486, 'value': 10},\n",
       " 'countPokes2': {'timestamp': 1703487, 'value': 19},\n",
       " 'countRewards2': {'timestamp': 1703487, 'value': 7},\n",
       " 'portProbs2': {'timestamp': 1703488, 'value': 50},\n",
       " 'countPokes3': {'timestamp': 1703509, 'value': 28},\n",
       " 'countRewards3': {'timestamp': 1703509, 'value': 27},\n",
       " 'portProbs3': {'timestamp': 1703510, 'value': 90}}"
      ]
     },
     "metadata": {},
     "output_type": "display_data"
    },
    {
     "data": {
      "text/plain": [
       "{'contingency': {'timestamp': 1720424, 'value': 1},\n",
       " 'trialThresh': {'timestamp': 1720425, 'value': 72},\n",
       " 'totalPokes': {'timestamp': 1720425, 'value': 57},\n",
       " 'totalRewards': {'timestamp': 1720426, 'value': 34},\n",
       " 'ifDelay': {'timestamp': 1720426, 'value': 1},\n",
       " 'countPokes1': {'timestamp': 1720427, 'value': 10},\n",
       " 'countRewards1': {'timestamp': 1720427, 'value': 0},\n",
       " 'portProbs1': {'timestamp': 1720428, 'value': 10},\n",
       " 'countPokes2': {'timestamp': 1720428, 'value': 19},\n",
       " 'countRewards2': {'timestamp': 1720428, 'value': 7},\n",
       " 'portProbs2': {'timestamp': 1720429, 'value': 50},\n",
       " 'countPokes3': {'timestamp': 1720450, 'value': 28},\n",
       " 'countRewards3': {'timestamp': 1720451, 'value': 27},\n",
       " 'portProbs3': {'timestamp': 1720451, 'value': 90}}"
      ]
     },
     "metadata": {},
     "output_type": "display_data"
    },
    {
     "data": {
      "text/plain": [
       "{'contingency': {'timestamp': 1726755, 'value': 1},\n",
       " 'trialThresh': {'timestamp': 1726755, 'value': 72},\n",
       " 'totalPokes': {'timestamp': 1726756, 'value': 58},\n",
       " 'totalRewards': {'timestamp': 1726756, 'value': 35},\n",
       " 'ifDelay': {'timestamp': 1726757, 'value': 1},\n",
       " 'countPokes1': {'timestamp': 1726757, 'value': 10},\n",
       " 'countRewards1': {'timestamp': 1726758, 'value': 0},\n",
       " 'portProbs1': {'timestamp': 1726758, 'value': 10},\n",
       " 'countPokes2': {'timestamp': 1726759, 'value': 19},\n",
       " 'countRewards2': {'timestamp': 1726759, 'value': 7},\n",
       " 'portProbs2': {'timestamp': 1726760, 'value': 50},\n",
       " 'countPokes3': {'timestamp': 1726781, 'value': 29},\n",
       " 'countRewards3': {'timestamp': 1726781, 'value': 28},\n",
       " 'portProbs3': {'timestamp': 1726782, 'value': 90}}"
      ]
     },
     "metadata": {},
     "output_type": "display_data"
    },
    {
     "data": {
      "text/plain": [
       "{'contingency': {'timestamp': 1745604, 'value': 1},\n",
       " 'trialThresh': {'timestamp': 1745604, 'value': 72},\n",
       " 'totalPokes': {'timestamp': 1745605, 'value': 59},\n",
       " 'totalRewards': {'timestamp': 1745605, 'value': 35},\n",
       " 'ifDelay': {'timestamp': 1745606, 'value': 1},\n",
       " 'countPokes1': {'timestamp': 1745606, 'value': 11},\n",
       " 'countRewards1': {'timestamp': 1745607, 'value': 0},\n",
       " 'portProbs1': {'timestamp': 1745607, 'value': 10},\n",
       " 'countPokes2': {'timestamp': 1745608, 'value': 19},\n",
       " 'countRewards2': {'timestamp': 1745608, 'value': 7},\n",
       " 'portProbs2': {'timestamp': 1745608, 'value': 50},\n",
       " 'countPokes3': {'timestamp': 1745630, 'value': 29},\n",
       " 'countRewards3': {'timestamp': 1745630, 'value': 28},\n",
       " 'portProbs3': {'timestamp': 1745631, 'value': 90}}"
      ]
     },
     "metadata": {},
     "output_type": "display_data"
    },
    {
     "data": {
      "text/plain": [
       "{'contingency': {'timestamp': 1750614, 'value': 1},\n",
       " 'trialThresh': {'timestamp': 1750615, 'value': 72},\n",
       " 'totalPokes': {'timestamp': 1750615, 'value': 60},\n",
       " 'totalRewards': {'timestamp': 1750616, 'value': 36},\n",
       " 'ifDelay': {'timestamp': 1750616, 'value': 1},\n",
       " 'countPokes1': {'timestamp': 1750617, 'value': 11},\n",
       " 'countRewards1': {'timestamp': 1750617, 'value': 0},\n",
       " 'portProbs1': {'timestamp': 1750618, 'value': 10},\n",
       " 'countPokes2': {'timestamp': 1750618, 'value': 19},\n",
       " 'countRewards2': {'timestamp': 1750619, 'value': 7},\n",
       " 'portProbs2': {'timestamp': 1750619, 'value': 50},\n",
       " 'countPokes3': {'timestamp': 1750640, 'value': 30},\n",
       " 'countRewards3': {'timestamp': 1750641, 'value': 29},\n",
       " 'portProbs3': {'timestamp': 1750641, 'value': 90}}"
      ]
     },
     "metadata": {},
     "output_type": "display_data"
    },
    {
     "data": {
      "text/plain": [
       "{'contingency': {'timestamp': 1773325, 'value': 1},\n",
       " 'trialThresh': {'timestamp': 1773326, 'value': 72},\n",
       " 'totalPokes': {'timestamp': 1773326, 'value': 61},\n",
       " 'totalRewards': {'timestamp': 1773327, 'value': 36},\n",
       " 'ifDelay': {'timestamp': 1773327, 'value': 0},\n",
       " 'countPokes1': {'timestamp': 1773328, 'value': 12},\n",
       " 'countRewards1': {'timestamp': 1773328, 'value': 0},\n",
       " 'portProbs1': {'timestamp': 1773329, 'value': 10},\n",
       " 'countPokes2': {'timestamp': 1773329, 'value': 19},\n",
       " 'countRewards2': {'timestamp': 1773330, 'value': 7},\n",
       " 'portProbs2': {'timestamp': 1773330, 'value': 50},\n",
       " 'countPokes3': {'timestamp': 1773351, 'value': 30},\n",
       " 'countRewards3': {'timestamp': 1773352, 'value': 29},\n",
       " 'portProbs3': {'timestamp': 1773352, 'value': 90}}"
      ]
     },
     "metadata": {},
     "output_type": "display_data"
    },
    {
     "data": {
      "text/plain": [
       "{'contingency': {'timestamp': 1779753, 'value': 1},\n",
       " 'trialThresh': {'timestamp': 1779754, 'value': 72},\n",
       " 'totalPokes': {'timestamp': 1779754, 'value': 62},\n",
       " 'totalRewards': {'timestamp': 1779755, 'value': 37},\n",
       " 'ifDelay': {'timestamp': 1779755, 'value': 0},\n",
       " 'countPokes1': {'timestamp': 1779756, 'value': 12},\n",
       " 'countRewards1': {'timestamp': 1779756, 'value': 0},\n",
       " 'portProbs1': {'timestamp': 1779757, 'value': 10},\n",
       " 'countPokes2': {'timestamp': 1779757, 'value': 19},\n",
       " 'countRewards2': {'timestamp': 1779758, 'value': 7},\n",
       " 'portProbs2': {'timestamp': 1779779, 'value': 50},\n",
       " 'countPokes3': {'timestamp': 1779779, 'value': 31},\n",
       " 'countRewards3': {'timestamp': 1779780, 'value': 30},\n",
       " 'portProbs3': {'timestamp': 1779780, 'value': 90}}"
      ]
     },
     "metadata": {},
     "output_type": "display_data"
    },
    {
     "data": {
      "text/plain": [
       "{'contingency': {'timestamp': 1798323, 'value': 1},\n",
       " 'trialThresh': {'timestamp': 1798323, 'value': 72},\n",
       " 'totalPokes': {'timestamp': 1798324, 'value': 63},\n",
       " 'totalRewards': {'timestamp': 1798324, 'value': 37},\n",
       " 'ifDelay': {'timestamp': 1798325, 'value': 1},\n",
       " 'countPokes1': {'timestamp': 1798325, 'value': 13},\n",
       " 'countRewards1': {'timestamp': 1798325, 'value': 0},\n",
       " 'portProbs1': {'timestamp': 1798326, 'value': 10},\n",
       " 'countPokes2': {'timestamp': 1798326, 'value': 19},\n",
       " 'countRewards2': {'timestamp': 1798327, 'value': 7},\n",
       " 'portProbs2': {'timestamp': 1798327, 'value': 50},\n",
       " 'countPokes3': {'timestamp': 1798349, 'value': 31},\n",
       " 'countRewards3': {'timestamp': 1798349, 'value': 30},\n",
       " 'portProbs3': {'timestamp': 1798350, 'value': 90}}"
      ]
     },
     "metadata": {},
     "output_type": "display_data"
    },
    {
     "data": {
      "text/plain": [
       "{'contingency': {'timestamp': 1804142, 'value': 1},\n",
       " 'trialThresh': {'timestamp': 1804143, 'value': 72},\n",
       " 'totalPokes': {'timestamp': 1804143, 'value': 64},\n",
       " 'totalRewards': {'timestamp': 1804144, 'value': 38},\n",
       " 'ifDelay': {'timestamp': 1804144, 'value': 1},\n",
       " 'countPokes1': {'timestamp': 1804145, 'value': 13},\n",
       " 'countRewards1': {'timestamp': 1804145, 'value': 0},\n",
       " 'portProbs1': {'timestamp': 1804146, 'value': 10},\n",
       " 'countPokes2': {'timestamp': 1804146, 'value': 19},\n",
       " 'countRewards2': {'timestamp': 1804146, 'value': 7},\n",
       " 'portProbs2': {'timestamp': 1804147, 'value': 50},\n",
       " 'countPokes3': {'timestamp': 1804168, 'value': 32},\n",
       " 'countRewards3': {'timestamp': 1804169, 'value': 31},\n",
       " 'portProbs3': {'timestamp': 1804169, 'value': 90}}"
      ]
     },
     "metadata": {},
     "output_type": "display_data"
    },
    {
     "data": {
      "text/plain": [
       "{'contingency': {'timestamp': 1832093, 'value': 1},\n",
       " 'trialThresh': {'timestamp': 1832093, 'value': 72},\n",
       " 'totalPokes': {'timestamp': 1832094, 'value': 65},\n",
       " 'totalRewards': {'timestamp': 1832094, 'value': 38},\n",
       " 'ifDelay': {'timestamp': 1832095, 'value': 1},\n",
       " 'countPokes1': {'timestamp': 1832095, 'value': 13},\n",
       " 'countRewards1': {'timestamp': 1832096, 'value': 0},\n",
       " 'portProbs1': {'timestamp': 1832096, 'value': 10},\n",
       " 'countPokes2': {'timestamp': 1832097, 'value': 20},\n",
       " 'countRewards2': {'timestamp': 1832097, 'value': 7},\n",
       " 'portProbs2': {'timestamp': 1832098, 'value': 50},\n",
       " 'countPokes3': {'timestamp': 1832119, 'value': 32},\n",
       " 'countRewards3': {'timestamp': 1832119, 'value': 31},\n",
       " 'portProbs3': {'timestamp': 1832120, 'value': 90}}"
      ]
     },
     "metadata": {},
     "output_type": "display_data"
    },
    {
     "data": {
      "text/plain": [
       "{'contingency': {'timestamp': 1839992, 'value': 1},\n",
       " 'trialThresh': {'timestamp': 1839993, 'value': 72},\n",
       " 'totalPokes': {'timestamp': 1839993, 'value': 66},\n",
       " 'totalRewards': {'timestamp': 1839994, 'value': 38},\n",
       " 'ifDelay': {'timestamp': 1839994, 'value': 1},\n",
       " 'countPokes1': {'timestamp': 1839995, 'value': 13},\n",
       " 'countRewards1': {'timestamp': 1839995, 'value': 0},\n",
       " 'portProbs1': {'timestamp': 1839996, 'value': 10},\n",
       " 'countPokes2': {'timestamp': 1839996, 'value': 20},\n",
       " 'countRewards2': {'timestamp': 1839996, 'value': 7},\n",
       " 'portProbs2': {'timestamp': 1839997, 'value': 50},\n",
       " 'countPokes3': {'timestamp': 1840018, 'value': 33},\n",
       " 'countRewards3': {'timestamp': 1840019, 'value': 31},\n",
       " 'portProbs3': {'timestamp': 1840019, 'value': 90}}"
      ]
     },
     "metadata": {},
     "output_type": "display_data"
    },
    {
     "data": {
      "text/plain": [
       "{'contingency': {'timestamp': 1846775, 'value': 1},\n",
       " 'trialThresh': {'timestamp': 1846775, 'value': 72},\n",
       " 'totalPokes': {'timestamp': 1846776, 'value': 67},\n",
       " 'totalRewards': {'timestamp': 1846776, 'value': 38},\n",
       " 'ifDelay': {'timestamp': 1846777, 'value': 1},\n",
       " 'countPokes1': {'timestamp': 1846777, 'value': 14},\n",
       " 'countRewards1': {'timestamp': 1846778, 'value': 0},\n",
       " 'portProbs1': {'timestamp': 1846778, 'value': 10},\n",
       " 'countPokes2': {'timestamp': 1846779, 'value': 20},\n",
       " 'countRewards2': {'timestamp': 1846779, 'value': 7},\n",
       " 'portProbs2': {'timestamp': 1846779, 'value': 50},\n",
       " 'countPokes3': {'timestamp': 1846801, 'value': 33},\n",
       " 'countRewards3': {'timestamp': 1846801, 'value': 31},\n",
       " 'portProbs3': {'timestamp': 1846802, 'value': 90}}"
      ]
     },
     "metadata": {},
     "output_type": "display_data"
    },
    {
     "data": {
      "text/plain": [
       "{'contingency': {'timestamp': 1853506, 'value': 1},\n",
       " 'trialThresh': {'timestamp': 1853506, 'value': 72},\n",
       " 'totalPokes': {'timestamp': 1853507, 'value': 68},\n",
       " 'totalRewards': {'timestamp': 1853507, 'value': 39},\n",
       " 'ifDelay': {'timestamp': 1853508, 'value': 1},\n",
       " 'countPokes1': {'timestamp': 1853508, 'value': 14},\n",
       " 'countRewards1': {'timestamp': 1853509, 'value': 0},\n",
       " 'portProbs1': {'timestamp': 1853509, 'value': 10},\n",
       " 'countPokes2': {'timestamp': 1853510, 'value': 20},\n",
       " 'countRewards2': {'timestamp': 1853510, 'value': 7},\n",
       " 'portProbs2': {'timestamp': 1853511, 'value': 50},\n",
       " 'countPokes3': {'timestamp': 1853532, 'value': 34},\n",
       " 'countRewards3': {'timestamp': 1853532, 'value': 32},\n",
       " 'portProbs3': {'timestamp': 1853533, 'value': 90}}"
      ]
     },
     "metadata": {},
     "output_type": "display_data"
    },
    {
     "data": {
      "text/plain": [
       "{'contingency': {'timestamp': 1876250, 'value': 1},\n",
       " 'trialThresh': {'timestamp': 1876250, 'value': 72},\n",
       " 'totalPokes': {'timestamp': 1876251, 'value': 69},\n",
       " 'totalRewards': {'timestamp': 1876251, 'value': 40},\n",
       " 'ifDelay': {'timestamp': 1876252, 'value': 1},\n",
       " 'countPokes1': {'timestamp': 1876252, 'value': 14},\n",
       " 'countRewards1': {'timestamp': 1876253, 'value': 0},\n",
       " 'portProbs1': {'timestamp': 1876253, 'value': 10},\n",
       " 'countPokes2': {'timestamp': 1876254, 'value': 21},\n",
       " 'countRewards2': {'timestamp': 1876254, 'value': 8},\n",
       " 'portProbs2': {'timestamp': 1876255, 'value': 50},\n",
       " 'countPokes3': {'timestamp': 1876276, 'value': 34},\n",
       " 'countRewards3': {'timestamp': 1876276, 'value': 32},\n",
       " 'portProbs3': {'timestamp': 1876277, 'value': 90}}"
      ]
     },
     "metadata": {},
     "output_type": "display_data"
    },
    {
     "data": {
      "text/plain": [
       "{'contingency': {'timestamp': 1897391, 'value': 1},\n",
       " 'trialThresh': {'timestamp': 1897391, 'value': 72},\n",
       " 'totalPokes': {'timestamp': 1897392, 'value': 70},\n",
       " 'totalRewards': {'timestamp': 1897392, 'value': 41},\n",
       " 'ifDelay': {'timestamp': 1897393, 'value': 1},\n",
       " 'countPokes1': {'timestamp': 1897393, 'value': 14},\n",
       " 'countRewards1': {'timestamp': 1897393, 'value': 0},\n",
       " 'portProbs1': {'timestamp': 1897394, 'value': 10},\n",
       " 'countPokes2': {'timestamp': 1897394, 'value': 21},\n",
       " 'countRewards2': {'timestamp': 1897395, 'value': 8},\n",
       " 'portProbs2': {'timestamp': 1897395, 'value': 50},\n",
       " 'countPokes3': {'timestamp': 1897417, 'value': 35},\n",
       " 'countRewards3': {'timestamp': 1897417, 'value': 33},\n",
       " 'portProbs3': {'timestamp': 1897418, 'value': 90}}"
      ]
     },
     "metadata": {},
     "output_type": "display_data"
    },
    {
     "data": {
      "text/plain": [
       "{'contingency': {'timestamp': 1920389, 'value': 1},\n",
       " 'trialThresh': {'timestamp': 1920389, 'value': 72},\n",
       " 'totalPokes': {'timestamp': 1920390, 'value': 71},\n",
       " 'totalRewards': {'timestamp': 1920390, 'value': 42},\n",
       " 'ifDelay': {'timestamp': 1920391, 'value': 1},\n",
       " 'countPokes1': {'timestamp': 1920391, 'value': 14},\n",
       " 'countRewards1': {'timestamp': 1920392, 'value': 0},\n",
       " 'portProbs1': {'timestamp': 1920392, 'value': 10},\n",
       " 'countPokes2': {'timestamp': 1920393, 'value': 22},\n",
       " 'countRewards2': {'timestamp': 1920393, 'value': 9},\n",
       " 'portProbs2': {'timestamp': 1920393, 'value': 50},\n",
       " 'countPokes3': {'timestamp': 1920415, 'value': 35},\n",
       " 'countRewards3': {'timestamp': 1920415, 'value': 33},\n",
       " 'portProbs3': {'timestamp': 1920416, 'value': 90}}"
      ]
     },
     "metadata": {},
     "output_type": "display_data"
    },
    {
     "data": {
      "text/plain": [
       "{'contingency': {'timestamp': 1943989, 'value': 1},\n",
       " 'trialThresh': {'timestamp': 1943989, 'value': 72},\n",
       " 'totalPokes': {'timestamp': 1943990, 'value': 72},\n",
       " 'totalRewards': {'timestamp': 1943990, 'value': 43},\n",
       " 'ifDelay': {'timestamp': 1943991, 'value': 1},\n",
       " 'countPokes1': {'timestamp': 1943991, 'value': 14},\n",
       " 'countRewards1': {'timestamp': 1943992, 'value': 0},\n",
       " 'portProbs1': {'timestamp': 1943992, 'value': 10},\n",
       " 'countPokes2': {'timestamp': 1943993, 'value': 22},\n",
       " 'countRewards2': {'timestamp': 1943993, 'value': 9},\n",
       " 'portProbs2': {'timestamp': 1943994, 'value': 50},\n",
       " 'countPokes3': {'timestamp': 1944015, 'value': 36},\n",
       " 'countRewards3': {'timestamp': 1944015, 'value': 34},\n",
       " 'portProbs3': {'timestamp': 1944016, 'value': 90}}"
      ]
     },
     "metadata": {},
     "output_type": "display_data"
    },
    {
     "data": {
      "text/plain": [
       "{'contingency': {'timestamp': 1966479, 'value': 2},\n",
       " 'trialThresh': {'timestamp': 1966480, 'value': 72},\n",
       " 'totalPokes': {'timestamp': 1966480, 'value': 1},\n",
       " 'totalRewards': {'timestamp': 1966481, 'value': 1},\n",
       " 'ifDelay': {'timestamp': 1966481, 'value': 0},\n",
       " 'countPokes1': {'timestamp': 1966482, 'value': 0},\n",
       " 'countRewards1': {'timestamp': 1966482, 'value': 0},\n",
       " 'portProbs1': {'timestamp': 1966483, 'value': 10},\n",
       " 'countPokes2': {'timestamp': 1966483, 'value': 1},\n",
       " 'countRewards2': {'timestamp': 1966484, 'value': 1},\n",
       " 'portProbs2': {'timestamp': 1966504, 'value': 50},\n",
       " 'countPokes3': {'timestamp': 1966505, 'value': 0},\n",
       " 'countRewards3': {'timestamp': 1966505, 'value': 0},\n",
       " 'portProbs3': {'timestamp': 1966506, 'value': 90}}"
      ]
     },
     "metadata": {},
     "output_type": "display_data"
    },
    {
     "data": {
      "text/plain": [
       "{'contingency': {'timestamp': 1991657, 'value': 2},\n",
       " 'trialThresh': {'timestamp': 1991658, 'value': 72},\n",
       " 'totalPokes': {'timestamp': 1991658, 'value': 2},\n",
       " 'totalRewards': {'timestamp': 1991659, 'value': 2},\n",
       " 'ifDelay': {'timestamp': 1991659, 'value': 0},\n",
       " 'countPokes1': {'timestamp': 1991660, 'value': 0},\n",
       " 'countRewards1': {'timestamp': 1991660, 'value': 0},\n",
       " 'portProbs1': {'timestamp': 1991661, 'value': 10},\n",
       " 'countPokes2': {'timestamp': 1991661, 'value': 1},\n",
       " 'countRewards2': {'timestamp': 1991661, 'value': 1},\n",
       " 'portProbs2': {'timestamp': 1991682, 'value': 50},\n",
       " 'countPokes3': {'timestamp': 1991683, 'value': 1},\n",
       " 'countRewards3': {'timestamp': 1991683, 'value': 1},\n",
       " 'portProbs3': {'timestamp': 1991684, 'value': 90}}"
      ]
     },
     "metadata": {},
     "output_type": "display_data"
    },
    {
     "data": {
      "text/plain": [
       "{'contingency': {'timestamp': 2012349, 'value': 2},\n",
       " 'trialThresh': {'timestamp': 2012349, 'value': 72},\n",
       " 'totalPokes': {'timestamp': 2012350, 'value': 3},\n",
       " 'totalRewards': {'timestamp': 2012350, 'value': 3},\n",
       " 'ifDelay': {'timestamp': 2012351, 'value': 1},\n",
       " 'countPokes1': {'timestamp': 2012351, 'value': 0},\n",
       " 'countRewards1': {'timestamp': 2012351, 'value': 0},\n",
       " 'portProbs1': {'timestamp': 2012352, 'value': 10},\n",
       " 'countPokes2': {'timestamp': 2012352, 'value': 2},\n",
       " 'countRewards2': {'timestamp': 2012353, 'value': 2},\n",
       " 'portProbs2': {'timestamp': 2012353, 'value': 50},\n",
       " 'countPokes3': {'timestamp': 2012374, 'value': 1},\n",
       " 'countRewards3': {'timestamp': 2012375, 'value': 1},\n",
       " 'portProbs3': {'timestamp': 2012375, 'value': 90}}"
      ]
     },
     "metadata": {},
     "output_type": "display_data"
    },
    {
     "data": {
      "text/plain": [
       "{'contingency': {'timestamp': 2039428, 'value': 2},\n",
       " 'trialThresh': {'timestamp': 2039428, 'value': 72},\n",
       " 'totalPokes': {'timestamp': 2039429, 'value': 4},\n",
       " 'totalRewards': {'timestamp': 2039429, 'value': 4},\n",
       " 'ifDelay': {'timestamp': 2039430, 'value': 0},\n",
       " 'countPokes1': {'timestamp': 2039430, 'value': 0},\n",
       " 'countRewards1': {'timestamp': 2039431, 'value': 0},\n",
       " 'portProbs1': {'timestamp': 2039431, 'value': 10},\n",
       " 'countPokes2': {'timestamp': 2039432, 'value': 2},\n",
       " 'countRewards2': {'timestamp': 2039432, 'value': 2},\n",
       " 'portProbs2': {'timestamp': 2039433, 'value': 50},\n",
       " 'countPokes3': {'timestamp': 2039454, 'value': 2},\n",
       " 'countRewards3': {'timestamp': 2039454, 'value': 2},\n",
       " 'portProbs3': {'timestamp': 2039454, 'value': 90}}"
      ]
     },
     "metadata": {},
     "output_type": "display_data"
    },
    {
     "data": {
      "text/plain": [
       "{'contingency': {'timestamp': 2061008, 'value': 2},\n",
       " 'trialThresh': {'timestamp': 2061008, 'value': 72},\n",
       " 'totalPokes': {'timestamp': 2061009, 'value': 5},\n",
       " 'totalRewards': {'timestamp': 2061009, 'value': 4},\n",
       " 'ifDelay': {'timestamp': 2061010, 'value': 1},\n",
       " 'countPokes1': {'timestamp': 2061010, 'value': 0},\n",
       " 'countRewards1': {'timestamp': 2061011, 'value': 0},\n",
       " 'portProbs1': {'timestamp': 2061011, 'value': 10},\n",
       " 'countPokes2': {'timestamp': 2061012, 'value': 3},\n",
       " 'countRewards2': {'timestamp': 2061012, 'value': 2},\n",
       " 'portProbs2': {'timestamp': 2061013, 'value': 50},\n",
       " 'countPokes3': {'timestamp': 2061034, 'value': 2},\n",
       " 'countRewards3': {'timestamp': 2061034, 'value': 2},\n",
       " 'portProbs3': {'timestamp': 2061034, 'value': 90}}"
      ]
     },
     "metadata": {},
     "output_type": "display_data"
    },
    {
     "data": {
      "text/plain": [
       "{'contingency': {'timestamp': 2071248, 'value': 2},\n",
       " 'trialThresh': {'timestamp': 2071249, 'value': 72},\n",
       " 'totalPokes': {'timestamp': 2071249, 'value': 6},\n",
       " 'totalRewards': {'timestamp': 2071250, 'value': 5},\n",
       " 'ifDelay': {'timestamp': 2071250, 'value': 1},\n",
       " 'countPokes1': {'timestamp': 2071251, 'value': 0},\n",
       " 'countRewards1': {'timestamp': 2071251, 'value': 0},\n",
       " 'portProbs1': {'timestamp': 2071252, 'value': 10},\n",
       " 'countPokes2': {'timestamp': 2071252, 'value': 3},\n",
       " 'countRewards2': {'timestamp': 2071253, 'value': 2},\n",
       " 'portProbs2': {'timestamp': 2071253, 'value': 50},\n",
       " 'countPokes3': {'timestamp': 2071274, 'value': 3},\n",
       " 'countRewards3': {'timestamp': 2071274, 'value': 3},\n",
       " 'portProbs3': {'timestamp': 2071275, 'value': 90}}"
      ]
     },
     "metadata": {},
     "output_type": "display_data"
    },
    {
     "data": {
      "text/plain": [
       "{'contingency': {'timestamp': 2093130, 'value': 2},\n",
       " 'trialThresh': {'timestamp': 2093131, 'value': 72},\n",
       " 'totalPokes': {'timestamp': 2093131, 'value': 7},\n",
       " 'totalRewards': {'timestamp': 2093132, 'value': 5},\n",
       " 'ifDelay': {'timestamp': 2093132, 'value': 0},\n",
       " 'countPokes1': {'timestamp': 2093133, 'value': 0},\n",
       " 'countRewards1': {'timestamp': 2093133, 'value': 0},\n",
       " 'portProbs1': {'timestamp': 2093134, 'value': 10},\n",
       " 'countPokes2': {'timestamp': 2093134, 'value': 4},\n",
       " 'countRewards2': {'timestamp': 2093135, 'value': 2},\n",
       " 'portProbs2': {'timestamp': 2093135, 'value': 50},\n",
       " 'countPokes3': {'timestamp': 2093156, 'value': 3},\n",
       " 'countRewards3': {'timestamp': 2093156, 'value': 3},\n",
       " 'portProbs3': {'timestamp': 2093157, 'value': 90}}"
      ]
     },
     "metadata": {},
     "output_type": "display_data"
    },
    {
     "data": {
      "text/plain": [
       "{'contingency': {'timestamp': 2102369, 'value': 2},\n",
       " 'trialThresh': {'timestamp': 2102370, 'value': 72},\n",
       " 'totalPokes': {'timestamp': 2102370, 'value': 8},\n",
       " 'totalRewards': {'timestamp': 2102371, 'value': 6},\n",
       " 'ifDelay': {'timestamp': 2102371, 'value': 0},\n",
       " 'countPokes1': {'timestamp': 2102372, 'value': 0},\n",
       " 'countRewards1': {'timestamp': 2102372, 'value': 0},\n",
       " 'portProbs1': {'timestamp': 2102373, 'value': 10},\n",
       " 'countPokes2': {'timestamp': 2102373, 'value': 4},\n",
       " 'countRewards2': {'timestamp': 2102374, 'value': 2},\n",
       " 'portProbs2': {'timestamp': 2102374, 'value': 50},\n",
       " 'countPokes3': {'timestamp': 2102395, 'value': 4},\n",
       " 'countRewards3': {'timestamp': 2102396, 'value': 4},\n",
       " 'portProbs3': {'timestamp': 2102396, 'value': 90}}"
      ]
     },
     "metadata": {},
     "output_type": "display_data"
    },
    {
     "data": {
      "text/plain": [
       "{'contingency': {'timestamp': 2127719, 'value': 2},\n",
       " 'trialThresh': {'timestamp': 2127719, 'value': 72},\n",
       " 'totalPokes': {'timestamp': 2127720, 'value': 9},\n",
       " 'totalRewards': {'timestamp': 2127720, 'value': 6},\n",
       " 'ifDelay': {'timestamp': 2127721, 'value': 1},\n",
       " 'countPokes1': {'timestamp': 2127721, 'value': 0},\n",
       " 'countRewards1': {'timestamp': 2127722, 'value': 0},\n",
       " 'portProbs1': {'timestamp': 2127722, 'value': 10},\n",
       " 'countPokes2': {'timestamp': 2127723, 'value': 5},\n",
       " 'countRewards2': {'timestamp': 2127723, 'value': 2},\n",
       " 'portProbs2': {'timestamp': 2127724, 'value': 50},\n",
       " 'countPokes3': {'timestamp': 2127745, 'value': 4},\n",
       " 'countRewards3': {'timestamp': 2127745, 'value': 4},\n",
       " 'portProbs3': {'timestamp': 2127746, 'value': 90}}"
      ]
     },
     "metadata": {},
     "output_type": "display_data"
    },
    {
     "data": {
      "text/plain": [
       "{'contingency': {'timestamp': 2136249, 'value': 2},\n",
       " 'trialThresh': {'timestamp': 2136250, 'value': 72},\n",
       " 'totalPokes': {'timestamp': 2136250, 'value': 10},\n",
       " 'totalRewards': {'timestamp': 2136251, 'value': 7},\n",
       " 'ifDelay': {'timestamp': 2136251, 'value': 1},\n",
       " 'countPokes1': {'timestamp': 2136252, 'value': 0},\n",
       " 'countRewards1': {'timestamp': 2136252, 'value': 0},\n",
       " 'portProbs1': {'timestamp': 2136253, 'value': 10},\n",
       " 'countPokes2': {'timestamp': 2136253, 'value': 5},\n",
       " 'countRewards2': {'timestamp': 2136254, 'value': 2},\n",
       " 'portProbs2': {'timestamp': 2136254, 'value': 50},\n",
       " 'countPokes3': {'timestamp': 2136275, 'value': 5},\n",
       " 'countRewards3': {'timestamp': 2136275, 'value': 5},\n",
       " 'portProbs3': {'timestamp': 2136276, 'value': 90}}"
      ]
     },
     "metadata": {},
     "output_type": "display_data"
    },
    {
     "data": {
      "text/plain": [
       "{'contingency': {'timestamp': 2162202, 'value': 2},\n",
       " 'trialThresh': {'timestamp': 2162203, 'value': 72},\n",
       " 'totalPokes': {'timestamp': 2162203, 'value': 11},\n",
       " 'totalRewards': {'timestamp': 2162204, 'value': 8},\n",
       " 'ifDelay': {'timestamp': 2162204, 'value': 0},\n",
       " 'countPokes1': {'timestamp': 2162205, 'value': 0},\n",
       " 'countRewards1': {'timestamp': 2162205, 'value': 0},\n",
       " 'portProbs1': {'timestamp': 2162206, 'value': 10},\n",
       " 'countPokes2': {'timestamp': 2162206, 'value': 6},\n",
       " 'countRewards2': {'timestamp': 2162207, 'value': 3},\n",
       " 'portProbs2': {'timestamp': 2162207, 'value': 50},\n",
       " 'countPokes3': {'timestamp': 2162228, 'value': 5},\n",
       " 'countRewards3': {'timestamp': 2162229, 'value': 5},\n",
       " 'portProbs3': {'timestamp': 2162229, 'value': 90}}"
      ]
     },
     "metadata": {},
     "output_type": "display_data"
    },
    {
     "data": {
      "text/plain": [
       "{'contingency': {'timestamp': 2183878, 'value': 2},\n",
       " 'trialThresh': {'timestamp': 2183878, 'value': 72},\n",
       " 'totalPokes': {'timestamp': 2183879, 'value': 12},\n",
       " 'totalRewards': {'timestamp': 2183879, 'value': 9},\n",
       " 'ifDelay': {'timestamp': 2183880, 'value': 0},\n",
       " 'countPokes1': {'timestamp': 2183880, 'value': 0},\n",
       " 'countRewards1': {'timestamp': 2183881, 'value': 0},\n",
       " 'portProbs1': {'timestamp': 2183881, 'value': 10},\n",
       " 'countPokes2': {'timestamp': 2183881, 'value': 6},\n",
       " 'countRewards2': {'timestamp': 2183882, 'value': 3},\n",
       " 'portProbs2': {'timestamp': 2183882, 'value': 50},\n",
       " 'countPokes3': {'timestamp': 2183903, 'value': 6},\n",
       " 'countRewards3': {'timestamp': 2183904, 'value': 6},\n",
       " 'portProbs3': {'timestamp': 2183904, 'value': 90}}"
      ]
     },
     "metadata": {},
     "output_type": "display_data"
    },
    {
     "data": {
      "text/plain": [
       "{'contingency': {'timestamp': 2206489, 'value': 2},\n",
       " 'trialThresh': {'timestamp': 2206489, 'value': 72},\n",
       " 'totalPokes': {'timestamp': 2206490, 'value': 13},\n",
       " 'totalRewards': {'timestamp': 2206490, 'value': 10},\n",
       " 'ifDelay': {'timestamp': 2206491, 'value': 1},\n",
       " 'countPokes1': {'timestamp': 2206491, 'value': 0},\n",
       " 'countRewards1': {'timestamp': 2206492, 'value': 0},\n",
       " 'portProbs1': {'timestamp': 2206492, 'value': 10},\n",
       " 'countPokes2': {'timestamp': 2206493, 'value': 7},\n",
       " 'countRewards2': {'timestamp': 2206493, 'value': 4},\n",
       " 'portProbs2': {'timestamp': 2206494, 'value': 50},\n",
       " 'countPokes3': {'timestamp': 2206515, 'value': 6},\n",
       " 'countRewards3': {'timestamp': 2206515, 'value': 6},\n",
       " 'portProbs3': {'timestamp': 2206515, 'value': 90}}"
      ]
     },
     "metadata": {},
     "output_type": "display_data"
    },
    {
     "data": {
      "text/plain": [
       "{'contingency': {'timestamp': 2234096, 'value': 2},\n",
       " 'trialThresh': {'timestamp': 2234097, 'value': 72},\n",
       " 'totalPokes': {'timestamp': 2234097, 'value': 14},\n",
       " 'totalRewards': {'timestamp': 2234098, 'value': 11},\n",
       " 'ifDelay': {'timestamp': 2234098, 'value': 1},\n",
       " 'countPokes1': {'timestamp': 2234099, 'value': 0},\n",
       " 'countRewards1': {'timestamp': 2234099, 'value': 0},\n",
       " 'portProbs1': {'timestamp': 2234100, 'value': 10},\n",
       " 'countPokes2': {'timestamp': 2234100, 'value': 7},\n",
       " 'countRewards2': {'timestamp': 2234101, 'value': 4},\n",
       " 'portProbs2': {'timestamp': 2234101, 'value': 50},\n",
       " 'countPokes3': {'timestamp': 2234122, 'value': 7},\n",
       " 'countRewards3': {'timestamp': 2234122, 'value': 7},\n",
       " 'portProbs3': {'timestamp': 2234123, 'value': 90}}"
      ]
     },
     "metadata": {},
     "output_type": "display_data"
    },
    {
     "data": {
      "text/plain": [
       "{'contingency': {'timestamp': 2255951, 'value': 2},\n",
       " 'trialThresh': {'timestamp': 2255952, 'value': 72},\n",
       " 'totalPokes': {'timestamp': 2255952, 'value': 15},\n",
       " 'totalRewards': {'timestamp': 2255953, 'value': 12},\n",
       " 'ifDelay': {'timestamp': 2255953, 'value': 0},\n",
       " 'countPokes1': {'timestamp': 2255954, 'value': 0},\n",
       " 'countRewards1': {'timestamp': 2255954, 'value': 0},\n",
       " 'portProbs1': {'timestamp': 2255955, 'value': 10},\n",
       " 'countPokes2': {'timestamp': 2255955, 'value': 8},\n",
       " 'countRewards2': {'timestamp': 2255956, 'value': 5},\n",
       " 'portProbs2': {'timestamp': 2255956, 'value': 50},\n",
       " 'countPokes3': {'timestamp': 2255977, 'value': 7},\n",
       " 'countRewards3': {'timestamp': 2255978, 'value': 7},\n",
       " 'portProbs3': {'timestamp': 2255978, 'value': 90}}"
      ]
     },
     "metadata": {},
     "output_type": "display_data"
    },
    {
     "data": {
      "text/plain": [
       "{'contingency': {'timestamp': 2279211, 'value': 2},\n",
       " 'trialThresh': {'timestamp': 2279211, 'value': 72},\n",
       " 'totalPokes': {'timestamp': 2279212, 'value': 16},\n",
       " 'totalRewards': {'timestamp': 2279212, 'value': 13},\n",
       " 'ifDelay': {'timestamp': 2279213, 'value': 0},\n",
       " 'countPokes1': {'timestamp': 2279213, 'value': 0},\n",
       " 'countRewards1': {'timestamp': 2279214, 'value': 0},\n",
       " 'portProbs1': {'timestamp': 2279214, 'value': 10},\n",
       " 'countPokes2': {'timestamp': 2279215, 'value': 8},\n",
       " 'countRewards2': {'timestamp': 2279215, 'value': 5},\n",
       " 'portProbs2': {'timestamp': 2279215, 'value': 50},\n",
       " 'countPokes3': {'timestamp': 2279236, 'value': 8},\n",
       " 'countRewards3': {'timestamp': 2279237, 'value': 8},\n",
       " 'portProbs3': {'timestamp': 2279237, 'value': 90}}"
      ]
     },
     "metadata": {},
     "output_type": "display_data"
    },
    {
     "data": {
      "text/plain": [
       "{'contingency': {'timestamp': 2300373, 'value': 2},\n",
       " 'trialThresh': {'timestamp': 2300374, 'value': 72},\n",
       " 'totalPokes': {'timestamp': 2300374, 'value': 17},\n",
       " 'totalRewards': {'timestamp': 2300375, 'value': 14},\n",
       " 'ifDelay': {'timestamp': 2300375, 'value': 0},\n",
       " 'countPokes1': {'timestamp': 2300376, 'value': 0},\n",
       " 'countRewards1': {'timestamp': 2300376, 'value': 0},\n",
       " 'portProbs1': {'timestamp': 2300377, 'value': 10},\n",
       " 'countPokes2': {'timestamp': 2300377, 'value': 9},\n",
       " 'countRewards2': {'timestamp': 2300377, 'value': 6},\n",
       " 'portProbs2': {'timestamp': 2300378, 'value': 50},\n",
       " 'countPokes3': {'timestamp': 2300399, 'value': 8},\n",
       " 'countRewards3': {'timestamp': 2300399, 'value': 8},\n",
       " 'portProbs3': {'timestamp': 2300400, 'value': 90}}"
      ]
     },
     "metadata": {},
     "output_type": "display_data"
    },
    {
     "data": {
      "text/plain": [
       "{'contingency': {'timestamp': 2321437, 'value': 2},\n",
       " 'trialThresh': {'timestamp': 2321437, 'value': 72},\n",
       " 'totalPokes': {'timestamp': 2321438, 'value': 18},\n",
       " 'totalRewards': {'timestamp': 2321438, 'value': 15},\n",
       " 'ifDelay': {'timestamp': 2321439, 'value': 1},\n",
       " 'countPokes1': {'timestamp': 2321439, 'value': 0},\n",
       " 'countRewards1': {'timestamp': 2321440, 'value': 0},\n",
       " 'portProbs1': {'timestamp': 2321440, 'value': 10},\n",
       " 'countPokes2': {'timestamp': 2321441, 'value': 9},\n",
       " 'countRewards2': {'timestamp': 2321441, 'value': 6},\n",
       " 'portProbs2': {'timestamp': 2321442, 'value': 50},\n",
       " 'countPokes3': {'timestamp': 2321463, 'value': 9},\n",
       " 'countRewards3': {'timestamp': 2321463, 'value': 9},\n",
       " 'portProbs3': {'timestamp': 2321464, 'value': 90}}"
      ]
     },
     "metadata": {},
     "output_type": "display_data"
    },
    {
     "data": {
      "text/plain": [
       "{'contingency': {'timestamp': 2343128, 'value': 2},\n",
       " 'trialThresh': {'timestamp': 2343129, 'value': 72},\n",
       " 'totalPokes': {'timestamp': 2343129, 'value': 19},\n",
       " 'totalRewards': {'timestamp': 2343130, 'value': 15},\n",
       " 'ifDelay': {'timestamp': 2343130, 'value': 1},\n",
       " 'countPokes1': {'timestamp': 2343131, 'value': 0},\n",
       " 'countRewards1': {'timestamp': 2343131, 'value': 0},\n",
       " 'portProbs1': {'timestamp': 2343132, 'value': 10},\n",
       " 'countPokes2': {'timestamp': 2343132, 'value': 10},\n",
       " 'countRewards2': {'timestamp': 2343133, 'value': 6},\n",
       " 'portProbs2': {'timestamp': 2343133, 'value': 50},\n",
       " 'countPokes3': {'timestamp': 2343154, 'value': 9},\n",
       " 'countRewards3': {'timestamp': 2343155, 'value': 9},\n",
       " 'portProbs3': {'timestamp': 2343155, 'value': 90}}"
      ]
     },
     "metadata": {},
     "output_type": "display_data"
    },
    {
     "data": {
      "text/plain": [
       "{'contingency': {'timestamp': 2352938, 'value': 2},\n",
       " 'trialThresh': {'timestamp': 2352939, 'value': 72},\n",
       " 'totalPokes': {'timestamp': 2352939, 'value': 20},\n",
       " 'totalRewards': {'timestamp': 2352940, 'value': 16},\n",
       " 'ifDelay': {'timestamp': 2352940, 'value': 1},\n",
       " 'countPokes1': {'timestamp': 2352941, 'value': 0},\n",
       " 'countRewards1': {'timestamp': 2352941, 'value': 0},\n",
       " 'portProbs1': {'timestamp': 2352942, 'value': 10},\n",
       " 'countPokes2': {'timestamp': 2352942, 'value': 10},\n",
       " 'countRewards2': {'timestamp': 2352943, 'value': 6},\n",
       " 'portProbs2': {'timestamp': 2352943, 'value': 50},\n",
       " 'countPokes3': {'timestamp': 2352964, 'value': 10},\n",
       " 'countRewards3': {'timestamp': 2352965, 'value': 10},\n",
       " 'portProbs3': {'timestamp': 2352965, 'value': 90}}"
      ]
     },
     "metadata": {},
     "output_type": "display_data"
    },
    {
     "data": {
      "text/plain": [
       "{'contingency': {'timestamp': 2375941, 'value': 2},\n",
       " 'trialThresh': {'timestamp': 2375942, 'value': 72},\n",
       " 'totalPokes': {'timestamp': 2375942, 'value': 21},\n",
       " 'totalRewards': {'timestamp': 2375943, 'value': 16},\n",
       " 'ifDelay': {'timestamp': 2375943, 'value': 1},\n",
       " 'countPokes1': {'timestamp': 2375944, 'value': 0},\n",
       " 'countRewards1': {'timestamp': 2375944, 'value': 0},\n",
       " 'portProbs1': {'timestamp': 2375945, 'value': 10},\n",
       " 'countPokes2': {'timestamp': 2375945, 'value': 11},\n",
       " 'countRewards2': {'timestamp': 2375946, 'value': 6},\n",
       " 'portProbs2': {'timestamp': 2375946, 'value': 50},\n",
       " 'countPokes3': {'timestamp': 2375967, 'value': 10},\n",
       " 'countRewards3': {'timestamp': 2375968, 'value': 10},\n",
       " 'portProbs3': {'timestamp': 2375968, 'value': 90}}"
      ]
     },
     "metadata": {},
     "output_type": "display_data"
    },
    {
     "data": {
      "text/plain": [
       "{'contingency': {'timestamp': 2385802, 'value': 2},\n",
       " 'trialThresh': {'timestamp': 2385802, 'value': 72},\n",
       " 'totalPokes': {'timestamp': 2385803, 'value': 22},\n",
       " 'totalRewards': {'timestamp': 2385803, 'value': 17},\n",
       " 'ifDelay': {'timestamp': 2385804, 'value': 1},\n",
       " 'countPokes1': {'timestamp': 2385804, 'value': 0},\n",
       " 'countRewards1': {'timestamp': 2385805, 'value': 0},\n",
       " 'portProbs1': {'timestamp': 2385805, 'value': 10},\n",
       " 'countPokes2': {'timestamp': 2385806, 'value': 11},\n",
       " 'countRewards2': {'timestamp': 2385806, 'value': 6},\n",
       " 'portProbs2': {'timestamp': 2385807, 'value': 50},\n",
       " 'countPokes3': {'timestamp': 2385828, 'value': 11},\n",
       " 'countRewards3': {'timestamp': 2385828, 'value': 11},\n",
       " 'portProbs3': {'timestamp': 2385829, 'value': 90}}"
      ]
     },
     "metadata": {},
     "output_type": "display_data"
    },
    {
     "data": {
      "text/plain": [
       "{'contingency': {'timestamp': 2408134, 'value': 2},\n",
       " 'trialThresh': {'timestamp': 2408134, 'value': 72},\n",
       " 'totalPokes': {'timestamp': 2408135, 'value': 23},\n",
       " 'totalRewards': {'timestamp': 2408135, 'value': 18},\n",
       " 'ifDelay': {'timestamp': 2408136, 'value': 0},\n",
       " 'countPokes1': {'timestamp': 2408136, 'value': 0},\n",
       " 'countRewards1': {'timestamp': 2408137, 'value': 0},\n",
       " 'portProbs1': {'timestamp': 2408137, 'value': 10},\n",
       " 'countPokes2': {'timestamp': 2408138, 'value': 12},\n",
       " 'countRewards2': {'timestamp': 2408138, 'value': 7},\n",
       " 'portProbs2': {'timestamp': 2408139, 'value': 50},\n",
       " 'countPokes3': {'timestamp': 2408160, 'value': 11},\n",
       " 'countRewards3': {'timestamp': 2408160, 'value': 11},\n",
       " 'portProbs3': {'timestamp': 2408161, 'value': 90}}"
      ]
     },
     "metadata": {},
     "output_type": "display_data"
    },
    {
     "data": {
      "text/plain": [
       "{'contingency': {'timestamp': 2429952, 'value': 2},\n",
       " 'trialThresh': {'timestamp': 2429952, 'value': 72},\n",
       " 'totalPokes': {'timestamp': 2429953, 'value': 24},\n",
       " 'totalRewards': {'timestamp': 2429953, 'value': 19},\n",
       " 'ifDelay': {'timestamp': 2429954, 'value': 1},\n",
       " 'countPokes1': {'timestamp': 2429954, 'value': 0},\n",
       " 'countRewards1': {'timestamp': 2429955, 'value': 0},\n",
       " 'portProbs1': {'timestamp': 2429955, 'value': 10},\n",
       " 'countPokes2': {'timestamp': 2429956, 'value': 12},\n",
       " 'countRewards2': {'timestamp': 2429956, 'value': 7},\n",
       " 'portProbs2': {'timestamp': 2429957, 'value': 50},\n",
       " 'countPokes3': {'timestamp': 2429978, 'value': 12},\n",
       " 'countRewards3': {'timestamp': 2429978, 'value': 12},\n",
       " 'portProbs3': {'timestamp': 2429979, 'value': 90}}"
      ]
     },
     "metadata": {},
     "output_type": "display_data"
    },
    {
     "data": {
      "text/plain": [
       "{'contingency': {'timestamp': 2450021, 'value': 2},\n",
       " 'trialThresh': {'timestamp': 2450021, 'value': 72},\n",
       " 'totalPokes': {'timestamp': 2450022, 'value': 25},\n",
       " 'totalRewards': {'timestamp': 2450022, 'value': 19},\n",
       " 'ifDelay': {'timestamp': 2450022, 'value': 0},\n",
       " 'countPokes1': {'timestamp': 2450023, 'value': 0},\n",
       " 'countRewards1': {'timestamp': 2450023, 'value': 0},\n",
       " 'portProbs1': {'timestamp': 2450024, 'value': 10},\n",
       " 'countPokes2': {'timestamp': 2450024, 'value': 13},\n",
       " 'countRewards2': {'timestamp': 2450025, 'value': 7},\n",
       " 'portProbs2': {'timestamp': 2450025, 'value': 50},\n",
       " 'countPokes3': {'timestamp': 2450046, 'value': 12},\n",
       " 'countRewards3': {'timestamp': 2450047, 'value': 12},\n",
       " 'portProbs3': {'timestamp': 2450047, 'value': 90}}"
      ]
     },
     "metadata": {},
     "output_type": "display_data"
    },
    {
     "data": {
      "text/plain": [
       "{'contingency': {'timestamp': 2457920, 'value': 2},\n",
       " 'trialThresh': {'timestamp': 2457921, 'value': 72},\n",
       " 'totalPokes': {'timestamp': 2457921, 'value': 26},\n",
       " 'totalRewards': {'timestamp': 2457922, 'value': 20},\n",
       " 'ifDelay': {'timestamp': 2457922, 'value': 0},\n",
       " 'countPokes1': {'timestamp': 2457922, 'value': 0},\n",
       " 'countRewards1': {'timestamp': 2457923, 'value': 0},\n",
       " 'portProbs1': {'timestamp': 2457923, 'value': 10},\n",
       " 'countPokes2': {'timestamp': 2457924, 'value': 13},\n",
       " 'countRewards2': {'timestamp': 2457925, 'value': 7},\n",
       " 'portProbs2': {'timestamp': 2457925, 'value': 50},\n",
       " 'countPokes3': {'timestamp': 2457946, 'value': 13},\n",
       " 'countRewards3': {'timestamp': 2457947, 'value': 13},\n",
       " 'portProbs3': {'timestamp': 2457947, 'value': 90}}"
      ]
     },
     "metadata": {},
     "output_type": "display_data"
    },
    {
     "data": {
      "text/plain": [
       "{'contingency': {'timestamp': 2481588, 'value': 2},\n",
       " 'trialThresh': {'timestamp': 2481588, 'value': 72},\n",
       " 'totalPokes': {'timestamp': 2481589, 'value': 27},\n",
       " 'totalRewards': {'timestamp': 2481589, 'value': 20},\n",
       " 'ifDelay': {'timestamp': 2481590, 'value': 0},\n",
       " 'countPokes1': {'timestamp': 2481590, 'value': 0},\n",
       " 'countRewards1': {'timestamp': 2481591, 'value': 0},\n",
       " 'portProbs1': {'timestamp': 2481591, 'value': 10},\n",
       " 'countPokes2': {'timestamp': 2481592, 'value': 14},\n",
       " 'countRewards2': {'timestamp': 2481592, 'value': 7},\n",
       " 'portProbs2': {'timestamp': 2481593, 'value': 50},\n",
       " 'countPokes3': {'timestamp': 2481614, 'value': 13},\n",
       " 'countRewards3': {'timestamp': 2481614, 'value': 13},\n",
       " 'portProbs3': {'timestamp': 2481615, 'value': 90}}"
      ]
     },
     "metadata": {},
     "output_type": "display_data"
    },
    {
     "data": {
      "text/plain": [
       "{'contingency': {'timestamp': 2489457, 'value': 2},\n",
       " 'trialThresh': {'timestamp': 2489458, 'value': 72},\n",
       " 'totalPokes': {'timestamp': 2489458, 'value': 28},\n",
       " 'totalRewards': {'timestamp': 2489459, 'value': 21},\n",
       " 'ifDelay': {'timestamp': 2489459, 'value': 0},\n",
       " 'countPokes1': {'timestamp': 2489460, 'value': 0},\n",
       " 'countRewards1': {'timestamp': 2489460, 'value': 0},\n",
       " 'portProbs1': {'timestamp': 2489461, 'value': 10},\n",
       " 'countPokes2': {'timestamp': 2489461, 'value': 14},\n",
       " 'countRewards2': {'timestamp': 2489482, 'value': 7},\n",
       " 'portProbs2': {'timestamp': 2489483, 'value': 50},\n",
       " 'countPokes3': {'timestamp': 2489483, 'value': 14},\n",
       " 'countRewards3': {'timestamp': 2489484, 'value': 14},\n",
       " 'portProbs3': {'timestamp': 2489484, 'value': 90}}"
      ]
     },
     "metadata": {},
     "output_type": "display_data"
    },
    {
     "data": {
      "text/plain": [
       "{'contingency': {'timestamp': 2509922, 'value': 2},\n",
       " 'trialThresh': {'timestamp': 2509922, 'value': 72},\n",
       " 'totalPokes': {'timestamp': 2509923, 'value': 29},\n",
       " 'totalRewards': {'timestamp': 2509923, 'value': 22},\n",
       " 'ifDelay': {'timestamp': 2509924, 'value': 1},\n",
       " 'countPokes1': {'timestamp': 2509924, 'value': 0},\n",
       " 'countRewards1': {'timestamp': 2509925, 'value': 0},\n",
       " 'portProbs1': {'timestamp': 2509925, 'value': 10},\n",
       " 'countPokes2': {'timestamp': 2509926, 'value': 15},\n",
       " 'countRewards2': {'timestamp': 2509926, 'value': 8},\n",
       " 'portProbs2': {'timestamp': 2509927, 'value': 50},\n",
       " 'countPokes3': {'timestamp': 2509948, 'value': 14},\n",
       " 'countRewards3': {'timestamp': 2509948, 'value': 14},\n",
       " 'portProbs3': {'timestamp': 2509949, 'value': 90}}"
      ]
     },
     "metadata": {},
     "output_type": "display_data"
    },
    {
     "data": {
      "text/plain": [
       "{'contingency': {'timestamp': 2534868, 'value': 2},\n",
       " 'trialThresh': {'timestamp': 2534869, 'value': 72},\n",
       " 'totalPokes': {'timestamp': 2534869, 'value': 30},\n",
       " 'totalRewards': {'timestamp': 2534870, 'value': 23},\n",
       " 'ifDelay': {'timestamp': 2534870, 'value': 1},\n",
       " 'countPokes1': {'timestamp': 2534871, 'value': 0},\n",
       " 'countRewards1': {'timestamp': 2534871, 'value': 0},\n",
       " 'portProbs1': {'timestamp': 2534872, 'value': 10},\n",
       " 'countPokes2': {'timestamp': 2534872, 'value': 15},\n",
       " 'countRewards2': {'timestamp': 2534873, 'value': 8},\n",
       " 'portProbs2': {'timestamp': 2534873, 'value': 50},\n",
       " 'countPokes3': {'timestamp': 2534894, 'value': 15},\n",
       " 'countRewards3': {'timestamp': 2534895, 'value': 15},\n",
       " 'portProbs3': {'timestamp': 2534895, 'value': 90}}"
      ]
     },
     "metadata": {},
     "output_type": "display_data"
    },
    {
     "data": {
      "text/plain": [
       "{'contingency': {'timestamp': 2553876, 'value': 2},\n",
       " 'trialThresh': {'timestamp': 2553877, 'value': 72},\n",
       " 'totalPokes': {'timestamp': 2553877, 'value': 31},\n",
       " 'totalRewards': {'timestamp': 2553878, 'value': 24},\n",
       " 'ifDelay': {'timestamp': 2553878, 'value': 0},\n",
       " 'countPokes1': {'timestamp': 2553878, 'value': 0},\n",
       " 'countRewards1': {'timestamp': 2553879, 'value': 0},\n",
       " 'portProbs1': {'timestamp': 2553879, 'value': 10},\n",
       " 'countPokes2': {'timestamp': 2553880, 'value': 16},\n",
       " 'countRewards2': {'timestamp': 2553880, 'value': 9},\n",
       " 'portProbs2': {'timestamp': 2553881, 'value': 50},\n",
       " 'countPokes3': {'timestamp': 2553902, 'value': 15},\n",
       " 'countRewards3': {'timestamp': 2553902, 'value': 15},\n",
       " 'portProbs3': {'timestamp': 2553903, 'value': 90}}"
      ]
     },
     "metadata": {},
     "output_type": "display_data"
    },
    {
     "data": {
      "text/plain": [
       "{'contingency': {'timestamp': 2573508, 'value': 2},\n",
       " 'trialThresh': {'timestamp': 2573508, 'value': 72},\n",
       " 'totalPokes': {'timestamp': 2573509, 'value': 32},\n",
       " 'totalRewards': {'timestamp': 2573509, 'value': 25},\n",
       " 'ifDelay': {'timestamp': 2573510, 'value': 1},\n",
       " 'countPokes1': {'timestamp': 2573510, 'value': 0},\n",
       " 'countRewards1': {'timestamp': 2573511, 'value': 0},\n",
       " 'portProbs1': {'timestamp': 2573511, 'value': 10},\n",
       " 'countPokes2': {'timestamp': 2573512, 'value': 16},\n",
       " 'countRewards2': {'timestamp': 2573533, 'value': 9},\n",
       " 'portProbs2': {'timestamp': 2573533, 'value': 50},\n",
       " 'countPokes3': {'timestamp': 2573534, 'value': 16},\n",
       " 'countRewards3': {'timestamp': 2573534, 'value': 16},\n",
       " 'portProbs3': {'timestamp': 2573535, 'value': 90}}"
      ]
     },
     "metadata": {},
     "output_type": "display_data"
    },
    {
     "data": {
      "text/plain": [
       "{'contingency': {'timestamp': 2592566, 'value': 2},\n",
       " 'trialThresh': {'timestamp': 2592566, 'value': 72},\n",
       " 'totalPokes': {'timestamp': 2592567, 'value': 33},\n",
       " 'totalRewards': {'timestamp': 2592567, 'value': 25},\n",
       " 'ifDelay': {'timestamp': 2592568, 'value': 1},\n",
       " 'countPokes1': {'timestamp': 2592568, 'value': 0},\n",
       " 'countRewards1': {'timestamp': 2592569, 'value': 0},\n",
       " 'portProbs1': {'timestamp': 2592569, 'value': 10},\n",
       " 'countPokes2': {'timestamp': 2592570, 'value': 17},\n",
       " 'countRewards2': {'timestamp': 2592570, 'value': 9},\n",
       " 'portProbs2': {'timestamp': 2592571, 'value': 50},\n",
       " 'countPokes3': {'timestamp': 2592592, 'value': 16},\n",
       " 'countRewards3': {'timestamp': 2592592, 'value': 16},\n",
       " 'portProbs3': {'timestamp': 2592593, 'value': 90}}"
      ]
     },
     "metadata": {},
     "output_type": "display_data"
    },
    {
     "data": {
      "text/plain": [
       "{'contingency': {'timestamp': 2600527, 'value': 2},\n",
       " 'trialThresh': {'timestamp': 2600527, 'value': 72},\n",
       " 'totalPokes': {'timestamp': 2600528, 'value': 34},\n",
       " 'totalRewards': {'timestamp': 2600528, 'value': 26},\n",
       " 'ifDelay': {'timestamp': 2600529, 'value': 1},\n",
       " 'countPokes1': {'timestamp': 2600529, 'value': 0},\n",
       " 'countRewards1': {'timestamp': 2600530, 'value': 0},\n",
       " 'portProbs1': {'timestamp': 2600530, 'value': 10},\n",
       " 'countPokes2': {'timestamp': 2600531, 'value': 17},\n",
       " 'countRewards2': {'timestamp': 2600531, 'value': 9},\n",
       " 'portProbs2': {'timestamp': 2600532, 'value': 50},\n",
       " 'countPokes3': {'timestamp': 2600553, 'value': 17},\n",
       " 'countRewards3': {'timestamp': 2600553, 'value': 17},\n",
       " 'portProbs3': {'timestamp': 2600554, 'value': 90}}"
      ]
     },
     "metadata": {},
     "output_type": "display_data"
    },
    {
     "data": {
      "text/plain": [
       "{'contingency': {'timestamp': 2624148, 'value': 2},\n",
       " 'trialThresh': {'timestamp': 2624148, 'value': 72},\n",
       " 'totalPokes': {'timestamp': 2624149, 'value': 35},\n",
       " 'totalRewards': {'timestamp': 2624149, 'value': 27},\n",
       " 'ifDelay': {'timestamp': 2624150, 'value': 1},\n",
       " 'countPokes1': {'timestamp': 2624150, 'value': 0},\n",
       " 'countRewards1': {'timestamp': 2624151, 'value': 0},\n",
       " 'portProbs1': {'timestamp': 2624151, 'value': 10},\n",
       " 'countPokes2': {'timestamp': 2624152, 'value': 18},\n",
       " 'countRewards2': {'timestamp': 2624152, 'value': 10},\n",
       " 'portProbs2': {'timestamp': 2624152, 'value': 50},\n",
       " 'countPokes3': {'timestamp': 2624174, 'value': 17},\n",
       " 'countRewards3': {'timestamp': 2624174, 'value': 17},\n",
       " 'portProbs3': {'timestamp': 2624175, 'value': 90}}"
      ]
     },
     "metadata": {},
     "output_type": "display_data"
    },
    {
     "data": {
      "text/plain": [
       "{'contingency': {'timestamp': 2646593, 'value': 2},\n",
       " 'trialThresh': {'timestamp': 2646594, 'value': 72},\n",
       " 'totalPokes': {'timestamp': 2646594, 'value': 36},\n",
       " 'totalRewards': {'timestamp': 2646595, 'value': 28},\n",
       " 'ifDelay': {'timestamp': 2646595, 'value': 1},\n",
       " 'countPokes1': {'timestamp': 2646596, 'value': 0},\n",
       " 'countRewards1': {'timestamp': 2646596, 'value': 0},\n",
       " 'portProbs1': {'timestamp': 2646596, 'value': 10},\n",
       " 'countPokes2': {'timestamp': 2646597, 'value': 18},\n",
       " 'countRewards2': {'timestamp': 2646597, 'value': 10},\n",
       " 'portProbs2': {'timestamp': 2646598, 'value': 50},\n",
       " 'countPokes3': {'timestamp': 2646619, 'value': 18},\n",
       " 'countRewards3': {'timestamp': 2646620, 'value': 18},\n",
       " 'portProbs3': {'timestamp': 2646620, 'value': 90}}"
      ]
     },
     "metadata": {},
     "output_type": "display_data"
    },
    {
     "data": {
      "text/plain": [
       "{'contingency': {'timestamp': 2667315, 'value': 2},\n",
       " 'trialThresh': {'timestamp': 2667315, 'value': 72},\n",
       " 'totalPokes': {'timestamp': 2667316, 'value': 37},\n",
       " 'totalRewards': {'timestamp': 2667316, 'value': 29},\n",
       " 'ifDelay': {'timestamp': 2667317, 'value': 0},\n",
       " 'countPokes1': {'timestamp': 2667317, 'value': 0},\n",
       " 'countRewards1': {'timestamp': 2667318, 'value': 0},\n",
       " 'portProbs1': {'timestamp': 2667318, 'value': 10},\n",
       " 'countPokes2': {'timestamp': 2667319, 'value': 19},\n",
       " 'countRewards2': {'timestamp': 2667319, 'value': 11},\n",
       " 'portProbs2': {'timestamp': 2667319, 'value': 50},\n",
       " 'countPokes3': {'timestamp': 2667341, 'value': 18},\n",
       " 'countRewards3': {'timestamp': 2667341, 'value': 18},\n",
       " 'portProbs3': {'timestamp': 2667342, 'value': 90}}"
      ]
     },
     "metadata": {},
     "output_type": "display_data"
    },
    {
     "data": {
      "text/plain": [
       "{'contingency': {'timestamp': 2690253, 'value': 2},\n",
       " 'trialThresh': {'timestamp': 2690253, 'value': 72},\n",
       " 'totalPokes': {'timestamp': 2690254, 'value': 38},\n",
       " 'totalRewards': {'timestamp': 2690254, 'value': 30},\n",
       " 'ifDelay': {'timestamp': 2690255, 'value': 0},\n",
       " 'countPokes1': {'timestamp': 2690255, 'value': 0},\n",
       " 'countRewards1': {'timestamp': 2690256, 'value': 0},\n",
       " 'portProbs1': {'timestamp': 2690256, 'value': 10},\n",
       " 'countPokes2': {'timestamp': 2690257, 'value': 19},\n",
       " 'countRewards2': {'timestamp': 2690257, 'value': 11},\n",
       " 'portProbs2': {'timestamp': 2690257, 'value': 50},\n",
       " 'countPokes3': {'timestamp': 2690279, 'value': 19},\n",
       " 'countRewards3': {'timestamp': 2690279, 'value': 19},\n",
       " 'portProbs3': {'timestamp': 2690280, 'value': 90}}"
      ]
     },
     "metadata": {},
     "output_type": "display_data"
    },
    {
     "data": {
      "text/plain": [
       "{'contingency': {'timestamp': 2709558, 'value': 2},\n",
       " 'trialThresh': {'timestamp': 2709558, 'value': 72},\n",
       " 'totalPokes': {'timestamp': 2709559, 'value': 39},\n",
       " 'totalRewards': {'timestamp': 2709559, 'value': 30},\n",
       " 'ifDelay': {'timestamp': 2709560, 'value': 0},\n",
       " 'countPokes1': {'timestamp': 2709560, 'value': 0},\n",
       " 'countRewards1': {'timestamp': 2709561, 'value': 0},\n",
       " 'portProbs1': {'timestamp': 2709561, 'value': 10},\n",
       " 'countPokes2': {'timestamp': 2709562, 'value': 20},\n",
       " 'countRewards2': {'timestamp': 2709562, 'value': 11},\n",
       " 'portProbs2': {'timestamp': 2709563, 'value': 50},\n",
       " 'countPokes3': {'timestamp': 2709584, 'value': 19},\n",
       " 'countRewards3': {'timestamp': 2709584, 'value': 19},\n",
       " 'portProbs3': {'timestamp': 2709585, 'value': 90}}"
      ]
     },
     "metadata": {},
     "output_type": "display_data"
    },
    {
     "data": {
      "text/plain": [
       "{'contingency': {'timestamp': 2716997, 'value': 2},\n",
       " 'trialThresh': {'timestamp': 2716998, 'value': 72},\n",
       " 'totalPokes': {'timestamp': 2716998, 'value': 40},\n",
       " 'totalRewards': {'timestamp': 2716999, 'value': 31},\n",
       " 'ifDelay': {'timestamp': 2716999, 'value': 0},\n",
       " 'countPokes1': {'timestamp': 2717000, 'value': 0},\n",
       " 'countRewards1': {'timestamp': 2717000, 'value': 0},\n",
       " 'portProbs1': {'timestamp': 2717001, 'value': 10},\n",
       " 'countPokes2': {'timestamp': 2717001, 'value': 20},\n",
       " 'countRewards2': {'timestamp': 2717002, 'value': 11},\n",
       " 'portProbs2': {'timestamp': 2717002, 'value': 50},\n",
       " 'countPokes3': {'timestamp': 2717023, 'value': 20},\n",
       " 'countRewards3': {'timestamp': 2717024, 'value': 20},\n",
       " 'portProbs3': {'timestamp': 2717024, 'value': 90}}"
      ]
     },
     "metadata": {},
     "output_type": "display_data"
    },
    {
     "data": {
      "text/plain": [
       "{'contingency': {'timestamp': 2736669, 'value': 2},\n",
       " 'trialThresh': {'timestamp': 2736670, 'value': 72},\n",
       " 'totalPokes': {'timestamp': 2736670, 'value': 41},\n",
       " 'totalRewards': {'timestamp': 2736671, 'value': 31},\n",
       " 'ifDelay': {'timestamp': 2736671, 'value': 0},\n",
       " 'countPokes1': {'timestamp': 2736672, 'value': 0},\n",
       " 'countRewards1': {'timestamp': 2736672, 'value': 0},\n",
       " 'portProbs1': {'timestamp': 2736672, 'value': 10},\n",
       " 'countPokes2': {'timestamp': 2736673, 'value': 21},\n",
       " 'countRewards2': {'timestamp': 2736673, 'value': 11},\n",
       " 'portProbs2': {'timestamp': 2736674, 'value': 50},\n",
       " 'countPokes3': {'timestamp': 2736695, 'value': 20},\n",
       " 'countRewards3': {'timestamp': 2736696, 'value': 20},\n",
       " 'portProbs3': {'timestamp': 2736696, 'value': 90}}"
      ]
     },
     "metadata": {},
     "output_type": "display_data"
    },
    {
     "data": {
      "text/plain": [
       "{'contingency': {'timestamp': 2745240, 'value': 2},\n",
       " 'trialThresh': {'timestamp': 2745241, 'value': 72},\n",
       " 'totalPokes': {'timestamp': 2745241, 'value': 42},\n",
       " 'totalRewards': {'timestamp': 2745242, 'value': 32},\n",
       " 'ifDelay': {'timestamp': 2745242, 'value': 0},\n",
       " 'countPokes1': {'timestamp': 2745243, 'value': 0},\n",
       " 'countRewards1': {'timestamp': 2745243, 'value': 0},\n",
       " 'portProbs1': {'timestamp': 2745243, 'value': 10},\n",
       " 'countPokes2': {'timestamp': 2745244, 'value': 21},\n",
       " 'countRewards2': {'timestamp': 2745245, 'value': 11},\n",
       " 'portProbs2': {'timestamp': 2745245, 'value': 50},\n",
       " 'countPokes3': {'timestamp': 2745266, 'value': 21},\n",
       " 'countRewards3': {'timestamp': 2745267, 'value': 21},\n",
       " 'portProbs3': {'timestamp': 2745267, 'value': 90}}"
      ]
     },
     "metadata": {},
     "output_type": "display_data"
    },
    {
     "data": {
      "text/plain": [
       "{'contingency': {'timestamp': 2765770, 'value': 2},\n",
       " 'trialThresh': {'timestamp': 2765771, 'value': 72},\n",
       " 'totalPokes': {'timestamp': 2765771, 'value': 43},\n",
       " 'totalRewards': {'timestamp': 2765772, 'value': 33},\n",
       " 'ifDelay': {'timestamp': 2765772, 'value': 1},\n",
       " 'countPokes1': {'timestamp': 2765773, 'value': 0},\n",
       " 'countRewards1': {'timestamp': 2765773, 'value': 0},\n",
       " 'portProbs1': {'timestamp': 2765774, 'value': 10},\n",
       " 'countPokes2': {'timestamp': 2765774, 'value': 22},\n",
       " 'countRewards2': {'timestamp': 2765775, 'value': 12},\n",
       " 'portProbs2': {'timestamp': 2765775, 'value': 50},\n",
       " 'countPokes3': {'timestamp': 2765796, 'value': 21},\n",
       " 'countRewards3': {'timestamp': 2765797, 'value': 21},\n",
       " 'portProbs3': {'timestamp': 2765797, 'value': 90}}"
      ]
     },
     "metadata": {},
     "output_type": "display_data"
    },
    {
     "data": {
      "text/plain": [
       "{'contingency': {'timestamp': 2789123, 'value': 2},\n",
       " 'trialThresh': {'timestamp': 2789123, 'value': 72},\n",
       " 'totalPokes': {'timestamp': 2789124, 'value': 44},\n",
       " 'totalRewards': {'timestamp': 2789124, 'value': 34},\n",
       " 'ifDelay': {'timestamp': 2789125, 'value': 1},\n",
       " 'countPokes1': {'timestamp': 2789125, 'value': 0},\n",
       " 'countRewards1': {'timestamp': 2789126, 'value': 0},\n",
       " 'portProbs1': {'timestamp': 2789126, 'value': 10},\n",
       " 'countPokes2': {'timestamp': 2789127, 'value': 22},\n",
       " 'countRewards2': {'timestamp': 2789127, 'value': 12},\n",
       " 'portProbs2': {'timestamp': 2789128, 'value': 50},\n",
       " 'countPokes3': {'timestamp': 2789149, 'value': 22},\n",
       " 'countRewards3': {'timestamp': 2789149, 'value': 22},\n",
       " 'portProbs3': {'timestamp': 2789150, 'value': 90}}"
      ]
     },
     "metadata": {},
     "output_type": "display_data"
    },
    {
     "data": {
      "text/plain": [
       "{'contingency': {'timestamp': 2809723, 'value': 2},\n",
       " 'trialThresh': {'timestamp': 2809723, 'value': 72},\n",
       " 'totalPokes': {'timestamp': 2809724, 'value': 45},\n",
       " 'totalRewards': {'timestamp': 2809724, 'value': 34},\n",
       " 'ifDelay': {'timestamp': 2809725, 'value': 0},\n",
       " 'countPokes1': {'timestamp': 2809725, 'value': 0},\n",
       " 'countRewards1': {'timestamp': 2809726, 'value': 0},\n",
       " 'portProbs1': {'timestamp': 2809726, 'value': 10},\n",
       " 'countPokes2': {'timestamp': 2809727, 'value': 23},\n",
       " 'countRewards2': {'timestamp': 2809727, 'value': 12},\n",
       " 'portProbs2': {'timestamp': 2809728, 'value': 50},\n",
       " 'countPokes3': {'timestamp': 2809749, 'value': 22},\n",
       " 'countRewards3': {'timestamp': 2809749, 'value': 22},\n",
       " 'portProbs3': {'timestamp': 2809750, 'value': 90}}"
      ]
     },
     "metadata": {},
     "output_type": "display_data"
    },
    {
     "data": {
      "text/plain": [
       "{'contingency': {'timestamp': 2816773, 'value': 2},\n",
       " 'trialThresh': {'timestamp': 2816773, 'value': 72},\n",
       " 'totalPokes': {'timestamp': 2816774, 'value': 46},\n",
       " 'totalRewards': {'timestamp': 2816774, 'value': 35},\n",
       " 'ifDelay': {'timestamp': 2816775, 'value': 0},\n",
       " 'countPokes1': {'timestamp': 2816775, 'value': 0},\n",
       " 'countRewards1': {'timestamp': 2816775, 'value': 0},\n",
       " 'portProbs1': {'timestamp': 2816776, 'value': 10},\n",
       " 'countPokes2': {'timestamp': 2816776, 'value': 23},\n",
       " 'countRewards2': {'timestamp': 2816777, 'value': 12},\n",
       " 'portProbs2': {'timestamp': 2816777, 'value': 50},\n",
       " 'countPokes3': {'timestamp': 2816799, 'value': 23},\n",
       " 'countRewards3': {'timestamp': 2816799, 'value': 23},\n",
       " 'portProbs3': {'timestamp': 2816800, 'value': 90}}"
      ]
     },
     "metadata": {},
     "output_type": "display_data"
    },
    {
     "data": {
      "text/plain": [
       "{'contingency': {'timestamp': 2838024, 'value': 2},\n",
       " 'trialThresh': {'timestamp': 2838025, 'value': 72},\n",
       " 'totalPokes': {'timestamp': 2838025, 'value': 47},\n",
       " 'totalRewards': {'timestamp': 2838026, 'value': 35},\n",
       " 'ifDelay': {'timestamp': 2838026, 'value': 0},\n",
       " 'countPokes1': {'timestamp': 2838027, 'value': 0},\n",
       " 'countRewards1': {'timestamp': 2838027, 'value': 0},\n",
       " 'portProbs1': {'timestamp': 2838028, 'value': 10},\n",
       " 'countPokes2': {'timestamp': 2838028, 'value': 24},\n",
       " 'countRewards2': {'timestamp': 2838029, 'value': 12},\n",
       " 'portProbs2': {'timestamp': 2838029, 'value': 50},\n",
       " 'countPokes3': {'timestamp': 2838050, 'value': 23},\n",
       " 'countRewards3': {'timestamp': 2838051, 'value': 23},\n",
       " 'portProbs3': {'timestamp': 2838051, 'value': 90}}"
      ]
     },
     "metadata": {},
     "output_type": "display_data"
    },
    {
     "data": {
      "text/plain": [
       "{'contingency': {'timestamp': 2846383, 'value': 2},\n",
       " 'trialThresh': {'timestamp': 2846384, 'value': 72},\n",
       " 'totalPokes': {'timestamp': 2846384, 'value': 48},\n",
       " 'totalRewards': {'timestamp': 2846385, 'value': 36},\n",
       " 'ifDelay': {'timestamp': 2846385, 'value': 0},\n",
       " 'countPokes1': {'timestamp': 2846386, 'value': 0},\n",
       " 'countRewards1': {'timestamp': 2846386, 'value': 0},\n",
       " 'portProbs1': {'timestamp': 2846387, 'value': 10},\n",
       " 'countPokes2': {'timestamp': 2846387, 'value': 24},\n",
       " 'countRewards2': {'timestamp': 2846388, 'value': 12},\n",
       " 'portProbs2': {'timestamp': 2846409, 'value': 50},\n",
       " 'countPokes3': {'timestamp': 2846409, 'value': 24},\n",
       " 'countRewards3': {'timestamp': 2846410, 'value': 24},\n",
       " 'portProbs3': {'timestamp': 2846410, 'value': 90}}"
      ]
     },
     "metadata": {},
     "output_type": "display_data"
    },
    {
     "data": {
      "text/plain": [
       "{'contingency': {'timestamp': 2865474, 'value': 2},\n",
       " 'trialThresh': {'timestamp': 2865475, 'value': 72},\n",
       " 'totalPokes': {'timestamp': 2865475, 'value': 49},\n",
       " 'totalRewards': {'timestamp': 2865476, 'value': 37},\n",
       " 'ifDelay': {'timestamp': 2865476, 'value': 1},\n",
       " 'countPokes1': {'timestamp': 2865477, 'value': 0},\n",
       " 'countRewards1': {'timestamp': 2865477, 'value': 0},\n",
       " 'portProbs1': {'timestamp': 2865478, 'value': 10},\n",
       " 'countPokes2': {'timestamp': 2865478, 'value': 25},\n",
       " 'countRewards2': {'timestamp': 2865479, 'value': 13},\n",
       " 'portProbs2': {'timestamp': 2865479, 'value': 50},\n",
       " 'countPokes3': {'timestamp': 2865500, 'value': 24},\n",
       " 'countRewards3': {'timestamp': 2865501, 'value': 24},\n",
       " 'portProbs3': {'timestamp': 2865501, 'value': 90}}"
      ]
     },
     "metadata": {},
     "output_type": "display_data"
    },
    {
     "data": {
      "text/plain": [
       "{'contingency': {'timestamp': 2892818, 'value': 2},\n",
       " 'trialThresh': {'timestamp': 2892819, 'value': 72},\n",
       " 'totalPokes': {'timestamp': 2892819, 'value': 50},\n",
       " 'totalRewards': {'timestamp': 2892820, 'value': 38},\n",
       " 'ifDelay': {'timestamp': 2892820, 'value': 0},\n",
       " 'countPokes1': {'timestamp': 2892821, 'value': 0},\n",
       " 'countRewards1': {'timestamp': 2892821, 'value': 0},\n",
       " 'portProbs1': {'timestamp': 2892822, 'value': 10},\n",
       " 'countPokes2': {'timestamp': 2892822, 'value': 25},\n",
       " 'countRewards2': {'timestamp': 2892823, 'value': 13},\n",
       " 'portProbs2': {'timestamp': 2892823, 'value': 50},\n",
       " 'countPokes3': {'timestamp': 2892844, 'value': 25},\n",
       " 'countRewards3': {'timestamp': 2892845, 'value': 25},\n",
       " 'portProbs3': {'timestamp': 2892845, 'value': 90}}"
      ]
     },
     "metadata": {},
     "output_type": "display_data"
    },
    {
     "data": {
      "text/plain": [
       "{'contingency': {'timestamp': 2913599, 'value': 2},\n",
       " 'trialThresh': {'timestamp': 2913599, 'value': 72},\n",
       " 'totalPokes': {'timestamp': 2913600, 'value': 51},\n",
       " 'totalRewards': {'timestamp': 2913600, 'value': 38},\n",
       " 'ifDelay': {'timestamp': 2913601, 'value': 0},\n",
       " 'countPokes1': {'timestamp': 2913601, 'value': 0},\n",
       " 'countRewards1': {'timestamp': 2913602, 'value': 0},\n",
       " 'portProbs1': {'timestamp': 2913602, 'value': 10},\n",
       " 'countPokes2': {'timestamp': 2913603, 'value': 26},\n",
       " 'countRewards2': {'timestamp': 2913603, 'value': 13},\n",
       " 'portProbs2': {'timestamp': 2913604, 'value': 50},\n",
       " 'countPokes3': {'timestamp': 2913625, 'value': 25},\n",
       " 'countRewards3': {'timestamp': 2913625, 'value': 25},\n",
       " 'portProbs3': {'timestamp': 2913626, 'value': 90}}"
      ]
     },
     "metadata": {},
     "output_type": "display_data"
    },
    {
     "data": {
      "text/plain": [
       "{'contingency': {'timestamp': 2920349, 'value': 2},\n",
       " 'trialThresh': {'timestamp': 2920350, 'value': 72},\n",
       " 'totalPokes': {'timestamp': 2920350, 'value': 52},\n",
       " 'totalRewards': {'timestamp': 2920351, 'value': 39},\n",
       " 'ifDelay': {'timestamp': 2920351, 'value': 0},\n",
       " 'countPokes1': {'timestamp': 2920352, 'value': 0},\n",
       " 'countRewards1': {'timestamp': 2920352, 'value': 0},\n",
       " 'portProbs1': {'timestamp': 2920353, 'value': 10},\n",
       " 'countPokes2': {'timestamp': 2920353, 'value': 26},\n",
       " 'countRewards2': {'timestamp': 2920354, 'value': 13},\n",
       " 'portProbs2': {'timestamp': 2920354, 'value': 50},\n",
       " 'countPokes3': {'timestamp': 2920375, 'value': 26},\n",
       " 'countRewards3': {'timestamp': 2920376, 'value': 26},\n",
       " 'portProbs3': {'timestamp': 2920376, 'value': 90}}"
      ]
     },
     "metadata": {},
     "output_type": "display_data"
    },
    {
     "data": {
      "text/plain": [
       "{'contingency': {'timestamp': 2939492, 'value': 2},\n",
       " 'trialThresh': {'timestamp': 2939492, 'value': 72},\n",
       " 'totalPokes': {'timestamp': 2939493, 'value': 53},\n",
       " 'totalRewards': {'timestamp': 2939493, 'value': 39},\n",
       " 'ifDelay': {'timestamp': 2939494, 'value': 0},\n",
       " 'countPokes1': {'timestamp': 2939494, 'value': 0},\n",
       " 'countRewards1': {'timestamp': 2939495, 'value': 0},\n",
       " 'portProbs1': {'timestamp': 2939495, 'value': 10},\n",
       " 'countPokes2': {'timestamp': 2939496, 'value': 27},\n",
       " 'countRewards2': {'timestamp': 2939496, 'value': 13},\n",
       " 'portProbs2': {'timestamp': 2939497, 'value': 50},\n",
       " 'countPokes3': {'timestamp': 2939518, 'value': 26},\n",
       " 'countRewards3': {'timestamp': 2939518, 'value': 26},\n",
       " 'portProbs3': {'timestamp': 2939519, 'value': 90}}"
      ]
     },
     "metadata": {},
     "output_type": "display_data"
    },
    {
     "data": {
      "text/plain": [
       "{'contingency': {'timestamp': 2946951, 'value': 2},\n",
       " 'trialThresh': {'timestamp': 2946951, 'value': 72},\n",
       " 'totalPokes': {'timestamp': 2946952, 'value': 54},\n",
       " 'totalRewards': {'timestamp': 2946952, 'value': 40},\n",
       " 'ifDelay': {'timestamp': 2946953, 'value': 0},\n",
       " 'countPokes1': {'timestamp': 2946953, 'value': 0},\n",
       " 'countRewards1': {'timestamp': 2946954, 'value': 0},\n",
       " 'portProbs1': {'timestamp': 2946954, 'value': 10},\n",
       " 'countPokes2': {'timestamp': 2946955, 'value': 27},\n",
       " 'countRewards2': {'timestamp': 2946976, 'value': 13},\n",
       " 'portProbs2': {'timestamp': 2946976, 'value': 50},\n",
       " 'countPokes3': {'timestamp': 2946977, 'value': 27},\n",
       " 'countRewards3': {'timestamp': 2946977, 'value': 27},\n",
       " 'portProbs3': {'timestamp': 2946978, 'value': 90}}"
      ]
     },
     "metadata": {},
     "output_type": "display_data"
    },
    {
     "data": {
      "text/plain": [
       "{'contingency': {'timestamp': 2967558, 'value': 2},\n",
       " 'trialThresh': {'timestamp': 2967558, 'value': 72},\n",
       " 'totalPokes': {'timestamp': 2967559, 'value': 55},\n",
       " 'totalRewards': {'timestamp': 2967559, 'value': 41},\n",
       " 'ifDelay': {'timestamp': 2967560, 'value': 1},\n",
       " 'countPokes1': {'timestamp': 2967560, 'value': 0},\n",
       " 'countRewards1': {'timestamp': 2967561, 'value': 0},\n",
       " 'portProbs1': {'timestamp': 2967561, 'value': 10},\n",
       " 'countPokes2': {'timestamp': 2967561, 'value': 28},\n",
       " 'countRewards2': {'timestamp': 2967562, 'value': 14},\n",
       " 'portProbs2': {'timestamp': 2967562, 'value': 50},\n",
       " 'countPokes3': {'timestamp': 2967584, 'value': 27},\n",
       " 'countRewards3': {'timestamp': 2967584, 'value': 27},\n",
       " 'portProbs3': {'timestamp': 2967585, 'value': 90}}"
      ]
     },
     "metadata": {},
     "output_type": "display_data"
    },
    {
     "data": {
      "text/plain": [
       "{'contingency': {'timestamp': 2988950, 'value': 2},\n",
       " 'trialThresh': {'timestamp': 2988950, 'value': 72},\n",
       " 'totalPokes': {'timestamp': 2988951, 'value': 56},\n",
       " 'totalRewards': {'timestamp': 2988951, 'value': 42},\n",
       " 'ifDelay': {'timestamp': 2988952, 'value': 0},\n",
       " 'countPokes1': {'timestamp': 2988952, 'value': 0},\n",
       " 'countRewards1': {'timestamp': 2988953, 'value': 0},\n",
       " 'portProbs1': {'timestamp': 2988953, 'value': 10},\n",
       " 'countPokes2': {'timestamp': 2988954, 'value': 28},\n",
       " 'countRewards2': {'timestamp': 2988954, 'value': 14},\n",
       " 'portProbs2': {'timestamp': 2988955, 'value': 50},\n",
       " 'countPokes3': {'timestamp': 2988976, 'value': 28},\n",
       " 'countRewards3': {'timestamp': 2988976, 'value': 28},\n",
       " 'portProbs3': {'timestamp': 2988977, 'value': 90}}"
      ]
     },
     "metadata": {},
     "output_type": "display_data"
    },
    {
     "data": {
      "text/plain": [
       "{'contingency': {'timestamp': 3012083, 'value': 2},\n",
       " 'trialThresh': {'timestamp': 3012084, 'value': 72},\n",
       " 'totalPokes': {'timestamp': 3012084, 'value': 57},\n",
       " 'totalRewards': {'timestamp': 3012085, 'value': 42},\n",
       " 'ifDelay': {'timestamp': 3012085, 'value': 0},\n",
       " 'countPokes1': {'timestamp': 3012086, 'value': 0},\n",
       " 'countRewards1': {'timestamp': 3012086, 'value': 0},\n",
       " 'portProbs1': {'timestamp': 3012087, 'value': 10},\n",
       " 'countPokes2': {'timestamp': 3012087, 'value': 29},\n",
       " 'countRewards2': {'timestamp': 3012088, 'value': 14},\n",
       " 'portProbs2': {'timestamp': 3012088, 'value': 50},\n",
       " 'countPokes3': {'timestamp': 3012109, 'value': 28},\n",
       " 'countRewards3': {'timestamp': 3012110, 'value': 28},\n",
       " 'portProbs3': {'timestamp': 3012110, 'value': 90}}"
      ]
     },
     "metadata": {},
     "output_type": "display_data"
    },
    {
     "data": {
      "text/plain": [
       "{'contingency': {'timestamp': 3020402, 'value': 2},\n",
       " 'trialThresh': {'timestamp': 3020402, 'value': 72},\n",
       " 'totalPokes': {'timestamp': 3020403, 'value': 58},\n",
       " 'totalRewards': {'timestamp': 3020403, 'value': 43},\n",
       " 'ifDelay': {'timestamp': 3020404, 'value': 0},\n",
       " 'countPokes1': {'timestamp': 3020404, 'value': 0},\n",
       " 'countRewards1': {'timestamp': 3020405, 'value': 0},\n",
       " 'portProbs1': {'timestamp': 3020405, 'value': 10},\n",
       " 'countPokes2': {'timestamp': 3020406, 'value': 29},\n",
       " 'countRewards2': {'timestamp': 3020406, 'value': 14},\n",
       " 'portProbs2': {'timestamp': 3020407, 'value': 50},\n",
       " 'countPokes3': {'timestamp': 3020428, 'value': 29},\n",
       " 'countRewards3': {'timestamp': 3020428, 'value': 29},\n",
       " 'portProbs3': {'timestamp': 3020429, 'value': 90}}"
      ]
     },
     "metadata": {},
     "output_type": "display_data"
    },
    {
     "data": {
      "text/plain": [
       "{'contingency': {'timestamp': 3041265, 'value': 2},\n",
       " 'trialThresh': {'timestamp': 3041265, 'value': 72},\n",
       " 'totalPokes': {'timestamp': 3041266, 'value': 59},\n",
       " 'totalRewards': {'timestamp': 3041266, 'value': 44},\n",
       " 'ifDelay': {'timestamp': 3041267, 'value': 0},\n",
       " 'countPokes1': {'timestamp': 3041267, 'value': 0},\n",
       " 'countRewards1': {'timestamp': 3041268, 'value': 0},\n",
       " 'portProbs1': {'timestamp': 3041268, 'value': 10},\n",
       " 'countPokes2': {'timestamp': 3041269, 'value': 30},\n",
       " 'countRewards2': {'timestamp': 3041269, 'value': 15},\n",
       " 'portProbs2': {'timestamp': 3041270, 'value': 50},\n",
       " 'countPokes3': {'timestamp': 3041291, 'value': 29},\n",
       " 'countRewards3': {'timestamp': 3041291, 'value': 29},\n",
       " 'portProbs3': {'timestamp': 3041292, 'value': 90}}"
      ]
     },
     "metadata": {},
     "output_type": "display_data"
    },
    {
     "data": {
      "text/plain": [
       "{'contingency': {'timestamp': 3063287, 'value': 2},\n",
       " 'trialThresh': {'timestamp': 3063288, 'value': 72},\n",
       " 'totalPokes': {'timestamp': 3063288, 'value': 60},\n",
       " 'totalRewards': {'timestamp': 3063289, 'value': 45},\n",
       " 'ifDelay': {'timestamp': 3063289, 'value': 1},\n",
       " 'countPokes1': {'timestamp': 3063290, 'value': 0},\n",
       " 'countRewards1': {'timestamp': 3063290, 'value': 0},\n",
       " 'portProbs1': {'timestamp': 3063291, 'value': 10},\n",
       " 'countPokes2': {'timestamp': 3063291, 'value': 30},\n",
       " 'countRewards2': {'timestamp': 3063292, 'value': 15},\n",
       " 'portProbs2': {'timestamp': 3063292, 'value': 50},\n",
       " 'countPokes3': {'timestamp': 3063313, 'value': 30},\n",
       " 'countRewards3': {'timestamp': 3063314, 'value': 30},\n",
       " 'portProbs3': {'timestamp': 3063314, 'value': 90}}"
      ]
     },
     "metadata": {},
     "output_type": "display_data"
    },
    {
     "data": {
      "text/plain": [
       "{'contingency': {'timestamp': 3085960, 'value': 2},\n",
       " 'trialThresh': {'timestamp': 3085961, 'value': 72},\n",
       " 'totalPokes': {'timestamp': 3085961, 'value': 61},\n",
       " 'totalRewards': {'timestamp': 3085962, 'value': 46},\n",
       " 'ifDelay': {'timestamp': 3085962, 'value': 1},\n",
       " 'countPokes1': {'timestamp': 3085963, 'value': 0},\n",
       " 'countRewards1': {'timestamp': 3085963, 'value': 0},\n",
       " 'portProbs1': {'timestamp': 3085964, 'value': 10},\n",
       " 'countPokes2': {'timestamp': 3085964, 'value': 31},\n",
       " 'countRewards2': {'timestamp': 3085965, 'value': 16},\n",
       " 'portProbs2': {'timestamp': 3085965, 'value': 50},\n",
       " 'countPokes3': {'timestamp': 3085986, 'value': 30},\n",
       " 'countRewards3': {'timestamp': 3085987, 'value': 30},\n",
       " 'portProbs3': {'timestamp': 3085987, 'value': 90}}"
      ]
     },
     "metadata": {},
     "output_type": "display_data"
    },
    {
     "data": {
      "text/plain": [
       "{'contingency': {'timestamp': 3106499, 'value': 2},\n",
       " 'trialThresh': {'timestamp': 3106499, 'value': 72},\n",
       " 'totalPokes': {'timestamp': 3106500, 'value': 62},\n",
       " 'totalRewards': {'timestamp': 3106500, 'value': 47},\n",
       " 'ifDelay': {'timestamp': 3106501, 'value': 0},\n",
       " 'countPokes1': {'timestamp': 3106501, 'value': 0},\n",
       " 'countRewards1': {'timestamp': 3106502, 'value': 0},\n",
       " 'portProbs1': {'timestamp': 3106502, 'value': 10},\n",
       " 'countPokes2': {'timestamp': 3106503, 'value': 31},\n",
       " 'countRewards2': {'timestamp': 3106503, 'value': 16},\n",
       " 'portProbs2': {'timestamp': 3106504, 'value': 50},\n",
       " 'countPokes3': {'timestamp': 3106525, 'value': 31},\n",
       " 'countRewards3': {'timestamp': 3106525, 'value': 31},\n",
       " 'portProbs3': {'timestamp': 3106526, 'value': 90}}"
      ]
     },
     "metadata": {},
     "output_type": "display_data"
    },
    {
     "data": {
      "text/plain": [
       "{'contingency': {'timestamp': 3125104, 'value': 2},\n",
       " 'trialThresh': {'timestamp': 3125105, 'value': 72},\n",
       " 'totalPokes': {'timestamp': 3125105, 'value': 63},\n",
       " 'totalRewards': {'timestamp': 3125106, 'value': 47},\n",
       " 'ifDelay': {'timestamp': 3125106, 'value': 1},\n",
       " 'countPokes1': {'timestamp': 3125107, 'value': 0},\n",
       " 'countRewards1': {'timestamp': 3125107, 'value': 0},\n",
       " 'portProbs1': {'timestamp': 3125108, 'value': 10},\n",
       " 'countPokes2': {'timestamp': 3125108, 'value': 32},\n",
       " 'countRewards2': {'timestamp': 3125109, 'value': 16},\n",
       " 'portProbs2': {'timestamp': 3125109, 'value': 50},\n",
       " 'countPokes3': {'timestamp': 3125131, 'value': 31},\n",
       " 'countRewards3': {'timestamp': 3125131, 'value': 31},\n",
       " 'portProbs3': {'timestamp': 3125132, 'value': 90}}"
      ]
     },
     "metadata": {},
     "output_type": "display_data"
    },
    {
     "data": {
      "text/plain": [
       "{'contingency': {'timestamp': 3132751, 'value': 2},\n",
       " 'trialThresh': {'timestamp': 3132751, 'value': 72},\n",
       " 'totalPokes': {'timestamp': 3132752, 'value': 64},\n",
       " 'totalRewards': {'timestamp': 3132752, 'value': 48},\n",
       " 'ifDelay': {'timestamp': 3132753, 'value': 1},\n",
       " 'countPokes1': {'timestamp': 3132753, 'value': 0},\n",
       " 'countRewards1': {'timestamp': 3132754, 'value': 0},\n",
       " 'portProbs1': {'timestamp': 3132754, 'value': 10},\n",
       " 'countPokes2': {'timestamp': 3132754, 'value': 32},\n",
       " 'countRewards2': {'timestamp': 3132755, 'value': 16},\n",
       " 'portProbs2': {'timestamp': 3132776, 'value': 50},\n",
       " 'countPokes3': {'timestamp': 3132776, 'value': 32},\n",
       " 'countRewards3': {'timestamp': 3132777, 'value': 32},\n",
       " 'portProbs3': {'timestamp': 3132777, 'value': 90}}"
      ]
     },
     "metadata": {},
     "output_type": "display_data"
    },
    {
     "data": {
      "text/plain": [
       "{'contingency': {'timestamp': 3152611, 'value': 2},\n",
       " 'trialThresh': {'timestamp': 3152612, 'value': 72},\n",
       " 'totalPokes': {'timestamp': 3152612, 'value': 65},\n",
       " 'totalRewards': {'timestamp': 3152612, 'value': 48},\n",
       " 'ifDelay': {'timestamp': 3152613, 'value': 0},\n",
       " 'countPokes1': {'timestamp': 3152613, 'value': 0},\n",
       " 'countRewards1': {'timestamp': 3152614, 'value': 0},\n",
       " 'portProbs1': {'timestamp': 3152614, 'value': 10},\n",
       " 'countPokes2': {'timestamp': 3152615, 'value': 33},\n",
       " 'countRewards2': {'timestamp': 3152615, 'value': 16},\n",
       " 'portProbs2': {'timestamp': 3152616, 'value': 50},\n",
       " 'countPokes3': {'timestamp': 3152637, 'value': 32},\n",
       " 'countRewards3': {'timestamp': 3152638, 'value': 32},\n",
       " 'portProbs3': {'timestamp': 3152638, 'value': 90}}"
      ]
     },
     "metadata": {},
     "output_type": "display_data"
    },
    {
     "data": {
      "text/plain": [
       "{'contingency': {'timestamp': 3161444, 'value': 2},\n",
       " 'trialThresh': {'timestamp': 3161444, 'value': 72},\n",
       " 'totalPokes': {'timestamp': 3161445, 'value': 66},\n",
       " 'totalRewards': {'timestamp': 3161445, 'value': 49},\n",
       " 'ifDelay': {'timestamp': 3161446, 'value': 0},\n",
       " 'countPokes1': {'timestamp': 3161446, 'value': 0},\n",
       " 'countRewards1': {'timestamp': 3161447, 'value': 0},\n",
       " 'portProbs1': {'timestamp': 3161447, 'value': 10},\n",
       " 'countPokes2': {'timestamp': 3161448, 'value': 33},\n",
       " 'countRewards2': {'timestamp': 3161448, 'value': 16},\n",
       " 'portProbs2': {'timestamp': 3161470, 'value': 50},\n",
       " 'countPokes3': {'timestamp': 3161470, 'value': 33},\n",
       " 'countRewards3': {'timestamp': 3161471, 'value': 33},\n",
       " 'portProbs3': {'timestamp': 3161471, 'value': 90}}"
      ]
     },
     "metadata": {},
     "output_type": "display_data"
    },
    {
     "data": {
      "text/plain": [
       "{'contingency': {'timestamp': 3182350, 'value': 2},\n",
       " 'trialThresh': {'timestamp': 3182350, 'value': 72},\n",
       " 'totalPokes': {'timestamp': 3182351, 'value': 67},\n",
       " 'totalRewards': {'timestamp': 3182351, 'value': 50},\n",
       " 'ifDelay': {'timestamp': 3182352, 'value': 1},\n",
       " 'countPokes1': {'timestamp': 3182352, 'value': 0},\n",
       " 'countRewards1': {'timestamp': 3182352, 'value': 0},\n",
       " 'portProbs1': {'timestamp': 3182353, 'value': 10},\n",
       " 'countPokes2': {'timestamp': 3182353, 'value': 34},\n",
       " 'countRewards2': {'timestamp': 3182354, 'value': 17},\n",
       " 'portProbs2': {'timestamp': 3182354, 'value': 50},\n",
       " 'countPokes3': {'timestamp': 3182376, 'value': 33},\n",
       " 'countRewards3': {'timestamp': 3182376, 'value': 33},\n",
       " 'portProbs3': {'timestamp': 3182377, 'value': 90}}"
      ]
     },
     "metadata": {},
     "output_type": "display_data"
    },
    {
     "data": {
      "text/plain": [
       "{'contingency': {'timestamp': 3203537, 'value': 2},\n",
       " 'trialThresh': {'timestamp': 3203538, 'value': 72},\n",
       " 'totalPokes': {'timestamp': 3203538, 'value': 68},\n",
       " 'totalRewards': {'timestamp': 3203539, 'value': 51},\n",
       " 'ifDelay': {'timestamp': 3203539, 'value': 1},\n",
       " 'countPokes1': {'timestamp': 3203540, 'value': 0},\n",
       " 'countRewards1': {'timestamp': 3203540, 'value': 0},\n",
       " 'portProbs1': {'timestamp': 3203541, 'value': 10},\n",
       " 'countPokes2': {'timestamp': 3203541, 'value': 34},\n",
       " 'countRewards2': {'timestamp': 3203542, 'value': 17},\n",
       " 'portProbs2': {'timestamp': 3203542, 'value': 50},\n",
       " 'countPokes3': {'timestamp': 3203563, 'value': 34},\n",
       " 'countRewards3': {'timestamp': 3203564, 'value': 34},\n",
       " 'portProbs3': {'timestamp': 3203564, 'value': 90}}"
      ]
     },
     "metadata": {},
     "output_type": "display_data"
    },
    {
     "data": {
      "text/plain": [
       "{'contingency': {'timestamp': 3222702, 'value': 2},\n",
       " 'trialThresh': {'timestamp': 3222702, 'value': 72},\n",
       " 'totalPokes': {'timestamp': 3222703, 'value': 69},\n",
       " 'totalRewards': {'timestamp': 3222703, 'value': 52},\n",
       " 'ifDelay': {'timestamp': 3222704, 'value': 0},\n",
       " 'countPokes1': {'timestamp': 3222704, 'value': 0},\n",
       " 'countRewards1': {'timestamp': 3222705, 'value': 0},\n",
       " 'portProbs1': {'timestamp': 3222705, 'value': 10},\n",
       " 'countPokes2': {'timestamp': 3222705, 'value': 35},\n",
       " 'countRewards2': {'timestamp': 3222706, 'value': 18},\n",
       " 'portProbs2': {'timestamp': 3222727, 'value': 50},\n",
       " 'countPokes3': {'timestamp': 3222728, 'value': 34},\n",
       " 'countRewards3': {'timestamp': 3222728, 'value': 34},\n",
       " 'portProbs3': {'timestamp': 3222729, 'value': 90}}"
      ]
     },
     "metadata": {},
     "output_type": "display_data"
    },
    {
     "data": {
      "text/plain": [
       "{'contingency': {'timestamp': 3244214, 'value': 2},\n",
       " 'trialThresh': {'timestamp': 3244214, 'value': 72},\n",
       " 'totalPokes': {'timestamp': 3244215, 'value': 70},\n",
       " 'totalRewards': {'timestamp': 3244215, 'value': 53},\n",
       " 'ifDelay': {'timestamp': 3244216, 'value': 1},\n",
       " 'countPokes1': {'timestamp': 3244216, 'value': 0},\n",
       " 'countRewards1': {'timestamp': 3244217, 'value': 0},\n",
       " 'portProbs1': {'timestamp': 3244217, 'value': 10},\n",
       " 'countPokes2': {'timestamp': 3244218, 'value': 35},\n",
       " 'countRewards2': {'timestamp': 3244239, 'value': 18},\n",
       " 'portProbs2': {'timestamp': 3244240, 'value': 50},\n",
       " 'countPokes3': {'timestamp': 3244240, 'value': 35},\n",
       " 'countRewards3': {'timestamp': 3244241, 'value': 35},\n",
       " 'portProbs3': {'timestamp': 3244241, 'value': 90}}"
      ]
     },
     "metadata": {},
     "output_type": "display_data"
    },
    {
     "data": {
      "text/plain": [
       "{'contingency': {'timestamp': 3266362, 'value': 2},\n",
       " 'trialThresh': {'timestamp': 3266362, 'value': 72},\n",
       " 'totalPokes': {'timestamp': 3266363, 'value': 71},\n",
       " 'totalRewards': {'timestamp': 3266363, 'value': 53},\n",
       " 'ifDelay': {'timestamp': 3266364, 'value': 0},\n",
       " 'countPokes1': {'timestamp': 3266364, 'value': 0},\n",
       " 'countRewards1': {'timestamp': 3266365, 'value': 0},\n",
       " 'portProbs1': {'timestamp': 3266365, 'value': 10},\n",
       " 'countPokes2': {'timestamp': 3266366, 'value': 36},\n",
       " 'countRewards2': {'timestamp': 3266366, 'value': 18},\n",
       " 'portProbs2': {'timestamp': 3266367, 'value': 50},\n",
       " 'countPokes3': {'timestamp': 3266388, 'value': 35},\n",
       " 'countRewards3': {'timestamp': 3266388, 'value': 35},\n",
       " 'portProbs3': {'timestamp': 3266389, 'value': 90}}"
      ]
     },
     "metadata": {},
     "output_type": "display_data"
    },
    {
     "data": {
      "text/plain": [
       "{'contingency': {'timestamp': 3274123, 'value': 2},\n",
       " 'trialThresh': {'timestamp': 3274123, 'value': 72},\n",
       " 'totalPokes': {'timestamp': 3274124, 'value': 72},\n",
       " 'totalRewards': {'timestamp': 3274124, 'value': 53},\n",
       " 'ifDelay': {'timestamp': 3274125, 'value': 0},\n",
       " 'countPokes1': {'timestamp': 3274125, 'value': 0},\n",
       " 'countRewards1': {'timestamp': 3274126, 'value': 0},\n",
       " 'portProbs1': {'timestamp': 3274126, 'value': 10},\n",
       " 'countPokes2': {'timestamp': 3274127, 'value': 36},\n",
       " 'countRewards2': {'timestamp': 3274127, 'value': 18},\n",
       " 'portProbs2': {'timestamp': 3274128, 'value': 50},\n",
       " 'countPokes3': {'timestamp': 3274149, 'value': 36},\n",
       " 'countRewards3': {'timestamp': 3274149, 'value': 35},\n",
       " 'portProbs3': {'timestamp': 3274150, 'value': 90}}"
      ]
     },
     "metadata": {},
     "output_type": "display_data"
    },
    {
     "name": "stdout",
     "output_type": "stream",
     "text": [
      "1748 nosepokes from the DIOs: {'B': 878, 'C': 716, 'A': 154}\n",
      "1748 nosepokes from the statescript: {'B': 878, 'C': 716, 'A': 154}\n",
      "All DIO and statescript nosepokes were matched successfully.\n",
      "This is a barrier change session.\n",
      "Adjusting barrier shift times based on barrier_shift DIOs ...\n",
      "Barrier shift DIO pressed 13.35s after poke_in of trial 72.\n",
      "Next poke_in was 11.50s after barrier shift DIO pressed.\n",
      "Trial 73 is the first trial of the new block.\n",
      "Barrier shift DIO pressed 11.64s after poke_in of trial 100.\n",
      "Next poke_in was 9.83s after barrier shift DIO pressed.\n",
      "Trial 101 is the first trial of the new block.\n",
      "Barrier shift DIO pressed 10.01s after poke_in of trial 164.\n",
      "Next poke_in was 12.88s after barrier shift DIO pressed.\n",
      "Trial 165 is the first trial of the new block.\n",
      "Barrier_shift DIOs match data from excel sheet, with barrier shifts at trials [72, 100, 164]\n",
      "/var/folders/4y/j2yklrvj7z96v7h6ww30_knc0000gp/T/ipykernel_82401/2478407372.py:668: FutureWarning: DataFrame.applymap has been deprecated. Use DataFrame.map instead.\n",
      "Trial and block data for epoch 7:\n"
     ]
    },
    {
     "data": {
      "text/html": [
       "<div>\n",
       "<style scoped>\n",
       "    .dataframe tbody tr th:only-of-type {\n",
       "        vertical-align: middle;\n",
       "    }\n",
       "\n",
       "    .dataframe tbody tr th {\n",
       "        vertical-align: top;\n",
       "    }\n",
       "\n",
       "    .dataframe thead th {\n",
       "        text-align: right;\n",
       "    }\n",
       "</style>\n",
       "<table border=\"1\" class=\"dataframe\">\n",
       "  <thead>\n",
       "    <tr style=\"text-align: right;\">\n",
       "      <th></th>\n",
       "      <th>epoch</th>\n",
       "      <th>trial_within_block</th>\n",
       "      <th>trial_within_session</th>\n",
       "      <th>block</th>\n",
       "      <th>start_port</th>\n",
       "      <th>end_port</th>\n",
       "      <th>reward</th>\n",
       "      <th>delay</th>\n",
       "      <th>statescript_reference_timestamp</th>\n",
       "      <th>poke_in_time_statescript</th>\n",
       "      <th>poke_out_time_statescript</th>\n",
       "      <th>poke_in_time</th>\n",
       "      <th>poke_out_time</th>\n",
       "      <th>start_time</th>\n",
       "      <th>end_time</th>\n",
       "      <th>duration</th>\n",
       "      <th>pump_on_time</th>\n",
       "      <th>pump_off_time</th>\n",
       "    </tr>\n",
       "  </thead>\n",
       "  <tbody>\n",
       "    <tr>\n",
       "      <th>0</th>\n",
       "      <td>7</td>\n",
       "      <td>1</td>\n",
       "      <td>1</td>\n",
       "      <td>1</td>\n",
       "      <td>None</td>\n",
       "      <td>B</td>\n",
       "      <td>0</td>\n",
       "      <td>N/A</td>\n",
       "      <td>47867</td>\n",
       "      <td>47791</td>\n",
       "      <td>55020</td>\n",
       "      <td>1716168699</td>\n",
       "      <td>1716168706</td>\n",
       "      <td>1716168696</td>\n",
       "      <td>1716168706</td>\n",
       "      <td>10</td>\n",
       "      <td>N/A</td>\n",
       "      <td>N/A</td>\n",
       "    </tr>\n",
       "    <tr>\n",
       "      <th>1</th>\n",
       "      <td>7</td>\n",
       "      <td>2</td>\n",
       "      <td>2</td>\n",
       "      <td>1</td>\n",
       "      <td>B</td>\n",
       "      <td>A</td>\n",
       "      <td>0</td>\n",
       "      <td>N/A</td>\n",
       "      <td>62704</td>\n",
       "      <td>62364</td>\n",
       "      <td>72285</td>\n",
       "      <td>1716168713</td>\n",
       "      <td>1716168723</td>\n",
       "      <td>1716168706</td>\n",
       "      <td>1716168723</td>\n",
       "      <td>17</td>\n",
       "      <td>N/A</td>\n",
       "      <td>N/A</td>\n",
       "    </tr>\n",
       "    <tr>\n",
       "      <th>2</th>\n",
       "      <td>7</td>\n",
       "      <td>3</td>\n",
       "      <td>3</td>\n",
       "      <td>1</td>\n",
       "      <td>A</td>\n",
       "      <td>C</td>\n",
       "      <td>1</td>\n",
       "      <td>N/A</td>\n",
       "      <td>80666</td>\n",
       "      <td>80278</td>\n",
       "      <td>95623</td>\n",
       "      <td>1716168731</td>\n",
       "      <td>1716168747</td>\n",
       "      <td>1716168723</td>\n",
       "      <td>1716168747</td>\n",
       "      <td>23</td>\n",
       "      <td>1716168731</td>\n",
       "      <td>1716168731</td>\n",
       "    </tr>\n",
       "    <tr>\n",
       "      <th>3</th>\n",
       "      <td>7</td>\n",
       "      <td>4</td>\n",
       "      <td>4</td>\n",
       "      <td>1</td>\n",
       "      <td>C</td>\n",
       "      <td>B</td>\n",
       "      <td>0</td>\n",
       "      <td>N/A</td>\n",
       "      <td>103493</td>\n",
       "      <td>102947</td>\n",
       "      <td>103475</td>\n",
       "      <td>1716168754</td>\n",
       "      <td>1716168754</td>\n",
       "      <td>1716168747</td>\n",
       "      <td>1716168754</td>\n",
       "      <td>8</td>\n",
       "      <td>N/A</td>\n",
       "      <td>N/A</td>\n",
       "    </tr>\n",
       "    <tr>\n",
       "      <th>4</th>\n",
       "      <td>7</td>\n",
       "      <td>5</td>\n",
       "      <td>5</td>\n",
       "      <td>1</td>\n",
       "      <td>B</td>\n",
       "      <td>A</td>\n",
       "      <td>0</td>\n",
       "      <td>N/A</td>\n",
       "      <td>109348</td>\n",
       "      <td>108764</td>\n",
       "      <td>109322</td>\n",
       "      <td>1716168760</td>\n",
       "      <td>1716168760</td>\n",
       "      <td>1716168754</td>\n",
       "      <td>1716168760</td>\n",
       "      <td>6</td>\n",
       "      <td>N/A</td>\n",
       "      <td>N/A</td>\n",
       "    </tr>\n",
       "    <tr>\n",
       "      <th>...</th>\n",
       "      <td>...</td>\n",
       "      <td>...</td>\n",
       "      <td>...</td>\n",
       "      <td>...</td>\n",
       "      <td>...</td>\n",
       "      <td>...</td>\n",
       "      <td>...</td>\n",
       "      <td>...</td>\n",
       "      <td>...</td>\n",
       "      <td>...</td>\n",
       "      <td>...</td>\n",
       "      <td>...</td>\n",
       "      <td>...</td>\n",
       "      <td>...</td>\n",
       "      <td>...</td>\n",
       "      <td>...</td>\n",
       "      <td>...</td>\n",
       "      <td>...</td>\n",
       "    </tr>\n",
       "    <tr>\n",
       "      <th>211</th>\n",
       "      <td>7</td>\n",
       "      <td>48</td>\n",
       "      <td>212</td>\n",
       "      <td>4</td>\n",
       "      <td>B</td>\n",
       "      <td>C</td>\n",
       "      <td>1</td>\n",
       "      <td>N/A</td>\n",
       "      <td>3203537</td>\n",
       "      <td>3203481</td>\n",
       "      <td>3214297</td>\n",
       "      <td>1716171854</td>\n",
       "      <td>1716171865</td>\n",
       "      <td>1716171846</td>\n",
       "      <td>1716171865</td>\n",
       "      <td>19</td>\n",
       "      <td>1716171854</td>\n",
       "      <td>1716171855</td>\n",
       "    </tr>\n",
       "    <tr>\n",
       "      <th>212</th>\n",
       "      <td>7</td>\n",
       "      <td>49</td>\n",
       "      <td>213</td>\n",
       "      <td>4</td>\n",
       "      <td>C</td>\n",
       "      <td>B</td>\n",
       "      <td>1</td>\n",
       "      <td>N/A</td>\n",
       "      <td>3222702</td>\n",
       "      <td>3222069</td>\n",
       "      <td>3235817</td>\n",
       "      <td>1716171873</td>\n",
       "      <td>1716171887</td>\n",
       "      <td>1716171865</td>\n",
       "      <td>1716171887</td>\n",
       "      <td>22</td>\n",
       "      <td>1716171873</td>\n",
       "      <td>1716171873</td>\n",
       "    </tr>\n",
       "    <tr>\n",
       "      <th>213</th>\n",
       "      <td>7</td>\n",
       "      <td>50</td>\n",
       "      <td>214</td>\n",
       "      <td>4</td>\n",
       "      <td>B</td>\n",
       "      <td>C</td>\n",
       "      <td>1</td>\n",
       "      <td>N/A</td>\n",
       "      <td>3244214</td>\n",
       "      <td>3243923</td>\n",
       "      <td>3257944</td>\n",
       "      <td>1716171895</td>\n",
       "      <td>1716171909</td>\n",
       "      <td>1716171887</td>\n",
       "      <td>1716171909</td>\n",
       "      <td>22</td>\n",
       "      <td>1716171895</td>\n",
       "      <td>1716171895</td>\n",
       "    </tr>\n",
       "    <tr>\n",
       "      <th>214</th>\n",
       "      <td>7</td>\n",
       "      <td>51</td>\n",
       "      <td>215</td>\n",
       "      <td>4</td>\n",
       "      <td>C</td>\n",
       "      <td>B</td>\n",
       "      <td>0</td>\n",
       "      <td>N/A</td>\n",
       "      <td>3266362</td>\n",
       "      <td>3265626</td>\n",
       "      <td>3266808</td>\n",
       "      <td>1716171917</td>\n",
       "      <td>1716171918</td>\n",
       "      <td>1716171909</td>\n",
       "      <td>1716171918</td>\n",
       "      <td>9</td>\n",
       "      <td>N/A</td>\n",
       "      <td>N/A</td>\n",
       "    </tr>\n",
       "    <tr>\n",
       "      <th>215</th>\n",
       "      <td>7</td>\n",
       "      <td>52</td>\n",
       "      <td>216</td>\n",
       "      <td>4</td>\n",
       "      <td>B</td>\n",
       "      <td>C</td>\n",
       "      <td>0</td>\n",
       "      <td>N/A</td>\n",
       "      <td>3274123</td>\n",
       "      <td>3273864</td>\n",
       "      <td>3276290</td>\n",
       "      <td>1716171925</td>\n",
       "      <td>1716171927</td>\n",
       "      <td>1716171918</td>\n",
       "      <td>1716171927</td>\n",
       "      <td>9</td>\n",
       "      <td>N/A</td>\n",
       "      <td>N/A</td>\n",
       "    </tr>\n",
       "  </tbody>\n",
       "</table>\n",
       "<p>216 rows × 18 columns</p>\n",
       "</div>"
      ],
      "text/plain": [
       "     epoch  trial_within_block  trial_within_session  block start_port  \\\n",
       "0        7                   1                     1      1       None   \n",
       "1        7                   2                     2      1          B   \n",
       "2        7                   3                     3      1          A   \n",
       "3        7                   4                     4      1          C   \n",
       "4        7                   5                     5      1          B   \n",
       "..     ...                 ...                   ...    ...        ...   \n",
       "211      7                  48                   212      4          B   \n",
       "212      7                  49                   213      4          C   \n",
       "213      7                  50                   214      4          B   \n",
       "214      7                  51                   215      4          C   \n",
       "215      7                  52                   216      4          B   \n",
       "\n",
       "    end_port  reward delay  statescript_reference_timestamp  \\\n",
       "0          B       0   N/A                            47867   \n",
       "1          A       0   N/A                            62704   \n",
       "2          C       1   N/A                            80666   \n",
       "3          B       0   N/A                           103493   \n",
       "4          A       0   N/A                           109348   \n",
       "..       ...     ...   ...                              ...   \n",
       "211        C       1   N/A                          3203537   \n",
       "212        B       1   N/A                          3222702   \n",
       "213        C       1   N/A                          3244214   \n",
       "214        B       0   N/A                          3266362   \n",
       "215        C       0   N/A                          3274123   \n",
       "\n",
       "    poke_in_time_statescript poke_out_time_statescript poke_in_time  \\\n",
       "0                      47791                     55020   1716168699   \n",
       "1                      62364                     72285   1716168713   \n",
       "2                      80278                     95623   1716168731   \n",
       "3                     102947                    103475   1716168754   \n",
       "4                     108764                    109322   1716168760   \n",
       "..                       ...                       ...          ...   \n",
       "211                  3203481                   3214297   1716171854   \n",
       "212                  3222069                   3235817   1716171873   \n",
       "213                  3243923                   3257944   1716171895   \n",
       "214                  3265626                   3266808   1716171917   \n",
       "215                  3273864                   3276290   1716171925   \n",
       "\n",
       "    poke_out_time start_time   end_time duration pump_on_time pump_off_time  \n",
       "0      1716168706 1716168696 1716168706       10          N/A           N/A  \n",
       "1      1716168723 1716168706 1716168723       17          N/A           N/A  \n",
       "2      1716168747 1716168723 1716168747       23   1716168731    1716168731  \n",
       "3      1716168754 1716168747 1716168754        8          N/A           N/A  \n",
       "4      1716168760 1716168754 1716168760        6          N/A           N/A  \n",
       "..            ...        ...        ...      ...          ...           ...  \n",
       "211    1716171865 1716171846 1716171865       19   1716171854    1716171855  \n",
       "212    1716171887 1716171865 1716171887       22   1716171873    1716171873  \n",
       "213    1716171909 1716171887 1716171909       22   1716171895    1716171895  \n",
       "214    1716171918 1716171909 1716171918        9          N/A           N/A  \n",
       "215    1716171927 1716171918 1716171927        9          N/A           N/A  \n",
       "\n",
       "[216 rows x 18 columns]"
      ]
     },
     "metadata": {},
     "output_type": "display_data"
    },
    {
     "data": {
      "text/html": [
       "<div>\n",
       "<style scoped>\n",
       "    .dataframe tbody tr th:only-of-type {\n",
       "        vertical-align: middle;\n",
       "    }\n",
       "\n",
       "    .dataframe tbody tr th {\n",
       "        vertical-align: top;\n",
       "    }\n",
       "\n",
       "    .dataframe thead th {\n",
       "        text-align: right;\n",
       "    }\n",
       "</style>\n",
       "<table border=\"1\" class=\"dataframe\">\n",
       "  <thead>\n",
       "    <tr style=\"text-align: right;\">\n",
       "      <th></th>\n",
       "      <th>epoch</th>\n",
       "      <th>block</th>\n",
       "      <th>pA</th>\n",
       "      <th>pB</th>\n",
       "      <th>pC</th>\n",
       "      <th>statescript_end_timestamp</th>\n",
       "      <th>start_trial</th>\n",
       "      <th>end_trial</th>\n",
       "      <th>num_trials</th>\n",
       "      <th>task_type</th>\n",
       "      <th>start_time</th>\n",
       "      <th>end_time</th>\n",
       "      <th>maze_configuration</th>\n",
       "    </tr>\n",
       "  </thead>\n",
       "  <tbody>\n",
       "    <tr>\n",
       "      <th>0</th>\n",
       "      <td>7</td>\n",
       "      <td>1</td>\n",
       "      <td>10</td>\n",
       "      <td>50</td>\n",
       "      <td>90</td>\n",
       "      <td>N/A</td>\n",
       "      <td>1</td>\n",
       "      <td>72</td>\n",
       "      <td>72</td>\n",
       "      <td>barrier change</td>\n",
       "      <td>1716168696</td>\n",
       "      <td>1716169605</td>\n",
       "      <td>7,11,12,20,26,34,36,38,39,41</td>\n",
       "    </tr>\n",
       "    <tr>\n",
       "      <th>1</th>\n",
       "      <td>7</td>\n",
       "      <td>2</td>\n",
       "      <td>10</td>\n",
       "      <td>50</td>\n",
       "      <td>90</td>\n",
       "      <td>N/A</td>\n",
       "      <td>73</td>\n",
       "      <td>100</td>\n",
       "      <td>28</td>\n",
       "      <td>barrier change</td>\n",
       "      <td>1716169605</td>\n",
       "      <td>1716169989</td>\n",
       "      <td>7,11,12,14,20,26,34,36,38,39</td>\n",
       "    </tr>\n",
       "    <tr>\n",
       "      <th>2</th>\n",
       "      <td>7</td>\n",
       "      <td>3</td>\n",
       "      <td>10</td>\n",
       "      <td>50</td>\n",
       "      <td>90</td>\n",
       "      <td>N/A</td>\n",
       "      <td>101</td>\n",
       "      <td>164</td>\n",
       "      <td>64</td>\n",
       "      <td>barrier change</td>\n",
       "      <td>1716169989</td>\n",
       "      <td>1716171017</td>\n",
       "      <td>7,11,14,20,26,29,34,36,38,39</td>\n",
       "    </tr>\n",
       "    <tr>\n",
       "      <th>3</th>\n",
       "      <td>7</td>\n",
       "      <td>4</td>\n",
       "      <td>10</td>\n",
       "      <td>50</td>\n",
       "      <td>90</td>\n",
       "      <td>N/A</td>\n",
       "      <td>165</td>\n",
       "      <td>216</td>\n",
       "      <td>52</td>\n",
       "      <td>barrier change</td>\n",
       "      <td>1716171017</td>\n",
       "      <td>1716171927</td>\n",
       "      <td>7,11,14,20,29,34,36,38,39,45</td>\n",
       "    </tr>\n",
       "  </tbody>\n",
       "</table>\n",
       "</div>"
      ],
      "text/plain": [
       "   epoch  block  pA  pB  pC statescript_end_timestamp  start_trial  end_trial  \\\n",
       "0      7      1  10  50  90                       N/A            1         72   \n",
       "1      7      2  10  50  90                       N/A           73        100   \n",
       "2      7      3  10  50  90                       N/A          101        164   \n",
       "3      7      4  10  50  90                       N/A          165        216   \n",
       "\n",
       "   num_trials       task_type  start_time   end_time  \\\n",
       "0          72  barrier change  1716168696 1716169605   \n",
       "1          28  barrier change  1716169605 1716169989   \n",
       "2          64  barrier change  1716169989 1716171017   \n",
       "3          52  barrier change  1716171017 1716171927   \n",
       "\n",
       "             maze_configuration  \n",
       "0  7,11,12,20,26,34,36,38,39,41  \n",
       "1  7,11,12,14,20,26,34,36,38,39  \n",
       "2  7,11,14,20,26,29,34,36,38,39  \n",
       "3  7,11,14,20,29,34,36,38,39,45  "
      ]
     },
     "metadata": {},
     "output_type": "display_data"
    },
    {
     "name": "stdout",
     "output_type": "stream",
     "text": [
      "Stopping. Run again with overwrite=True if you wish to overwrite the original block and trials table.\n"
     ]
    }
   ],
   "source": [
    "nwb_path = 'data/BraveLu20240519_copy.nwb'\n",
    "excel_path = 'data/BraveLu_experimental_notes.xlsx'\n",
    "sheet_name = 'Daily configs and notes_Bandit+'\n",
    "\n",
    "# Add trial and block data to the nwb (modifies existing nwb in-place)\n",
    "add_behavioral_data_to_nwb(nwb_path, excel_path, sheet_name=sheet_name, save_type=\"nwb\", overwrite=False)\n",
    "\n",
    "# If needed, delete block and trials table from the nwb\n",
    "# delete_blocks_and_trials_from_nwb(nwb_path)"
   ]
  }
 ],
 "metadata": {
  "kernelspec": {
   "display_name": "jdb_to_nwb",
   "language": "python",
   "name": "python3"
  },
  "language_info": {
   "codemirror_mode": {
    "name": "ipython",
    "version": 3
   },
   "file_extension": ".py",
   "mimetype": "text/x-python",
   "name": "python",
   "nbconvert_exporter": "python",
   "pygments_lexer": "ipython3",
   "version": "3.12.8"
  }
 },
 "nbformat": 4,
 "nbformat_minor": 2
}
