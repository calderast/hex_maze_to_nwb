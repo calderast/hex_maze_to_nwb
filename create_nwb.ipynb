{
 "cells": [
  {
   "cell_type": "code",
   "execution_count": 11,
   "metadata": {},
   "outputs": [],
   "source": [
    "from pynwb import NWBHDF5IO, NWBFile, TimeSeries\n",
    "from pynwb.behavior import Position, SpatialSeries\n",
    "from pynwb.file import Subject\n",
    "from uuid import uuid4\n",
    "import yaml\n",
    "from datetime import datetime\n",
    "import os\n",
    "from neuroconv.datainterfaces import OpenEphysRecordingInterface\n",
    "\n",
    "# Create YAML file for metadata (Maybe using Frank Lab Rec-to-YAML?)\n",
    "\n",
    "# Define some functions here for now\n",
    "\n",
    "def initialize_nwb(metadata: dict):\n",
    "    '''\n",
    "    Constructs an NWBFile with basic session data\n",
    "\n",
    "    Args:\n",
    "    metadata (dict): basic metadata for this session\n",
    "\n",
    "    Returns:\n",
    "    NWBFile: nwb file with basic session information\n",
    "    '''\n",
    "\n",
    "    nwbfile = NWBFile(\n",
    "        session_description=metadata[\"session_description\"], # required\n",
    "        identifier=str(uuid4()), # required, must be unique, need not be human readable\n",
    "        session_start_time=metadata['session_start_time'], # required\n",
    "        experimenter=metadata[\"experimenter\"],\n",
    "        lab=metadata[\"lab\"],\n",
    "        institution=metadata[\"institution\"],\n",
    "        session_id=metadata[\"session_id\"],\n",
    "        experiment_description=metadata[\"experiment_description\"]\n",
    "    )\n",
    "    return nwbfile\n",
    "\n",
    "\n",
    "def get_open_ephys_path(rat, date, directory='/Volumes/Tim/Ephys'):\n",
    "    '''\n",
    "    Attempt to find OpenEphys recording directory for the given rat and date.\n",
    "    The assumed directory structure is {directory}/{rat}/{date}/etc\n",
    "    Complain if no directory is found. \n",
    "\n",
    "    Args:\n",
    "    rat (string): The ID of the rat\n",
    "    date (string): The date to load, in MMDDYYYY format\n",
    "    directory (string): The base directory to load from\n",
    "\n",
    "    Returns:\n",
    "    string: Path to the OpenEphys recording, or None if not found\n",
    "    '''\n",
    "    # Get the path to all data for this session (rat + date)\n",
    "    ephys_session_path = f\"{directory}/{rat}/{date}\"\n",
    "    # Check if the folder exists for this session\n",
    "    if not os.path.exists(ephys_session_path):\n",
    "        return f\"The folder {ephys_session_path} does not exist.\"\n",
    "    \n",
    "    # Convert date string from MMDDYYYY to YYYY-MM-DD\n",
    "    # because this is what the OpenEphys recording folder starts with\n",
    "    date_string = datetime.strptime(date, \"%m%d%Y\").strftime(\"%Y-%m-%d\")\n",
    "\n",
    "    # Search for the OpenEphys recording folder starting with the date\n",
    "    for folder_name in os.listdir(ephys_session_path):\n",
    "        if folder_name.startswith(date_string):\n",
    "            return f\"{ephys_session_path}/{folder_name}\"\n"
   ]
  },
  {
   "cell_type": "code",
   "execution_count": 12,
   "metadata": {},
   "outputs": [
    {
     "name": "stderr",
     "output_type": "stream",
     "text": [
      "/Users/steph/berkelab/jdb_to_nwb/venv/lib/python3.12/site-packages/pynwb/file.py:472: UserWarning: Date is missing timezone information. Updating to local timezone.\n",
      "  args_to_set['session_start_time'] = _add_missing_timezone(session_start_time)\n"
     ]
    },
    {
     "name": "stdout",
     "output_type": "stream",
     "text": [
      "root pynwb.file.NWBFile at 0x5039848720\n",
      "Fields:\n",
      "  experiment_description: Hex maze task\n",
      "  experimenter: ['Tim Krausz']\n",
      "  file_create_date: [datetime.datetime(2024, 7, 11, 17, 12, 23, 850825, tzinfo=tzlocal())]\n",
      "  identifier: 2d3bd02c-f613-4b17-839a-475fa55fd442\n",
      "  institution: UCSF\n",
      "  lab: Berke Lab\n",
      "  session_description: Barrier change session with 3 blocks, ephys and photometry\n",
      "  session_id: IM-1478_07192022\n",
      "  session_start_time: 2022-07-19 00:00:00-07:00\n",
      "  timestamps_reference_time: 2022-07-19 00:00:00-07:00\n",
      "\n"
     ]
    }
   ],
   "source": [
    "# Path to YAML file for basic metadata\n",
    "metadata_file_path = 'berke_lab_metadata.yml'\n",
    "\n",
    "# Session info\n",
    "rat = 'IM-1478'\n",
    "date = '07192022'\n",
    "nwb_name = f'{rat}_{date}.nwb'\n",
    "\n",
    "# Read the metadata from the YAML file into a dictionary\n",
    "with open(metadata_file_path, 'r') as file:\n",
    "    metadata = yaml.safe_load(file)\n",
    "\n",
    "# Create an NWB using this metadata\n",
    "nwbfile = initialize_nwb(metadata)\n",
    "print(nwbfile)\n",
    "\n",
    "# Save it\n",
    "with NWBHDF5IO(nwb_name, \"w\") as io:\n",
    "    io.write(nwbfile)"
   ]
  },
  {
   "cell_type": "code",
   "execution_count": 17,
   "metadata": {},
   "outputs": [
    {
     "name": "stdout",
     "output_type": "stream",
     "text": [
      "/Volumes/Tim/Ephys/IM-1478/07192022/2022-07-19_13-12-30\n",
      "DeepDict: {'NWBFile': {'session_description': '', 'identifier': 'd5f7e30b-af4f-4613-a935-a7026b396e67', 'source_script': 'Created using NeuroConv v0.4.11', 'source_script_file_name': '/Users/steph/berkelab/jdb_to_nwb/venv/lib/python3.12/site-packages/neuroconv/basedatainterface.py', 'session_start_time': datetime.datetime(2022, 7, 19, 13, 12, 30)}, 'Ecephys': {'Device': [{'name': 'DeviceEcephys', 'description': 'no description'}], 'ElectrodeGroup': [{'name': 'ElectrodeGroup', 'description': 'no description', 'location': 'unknown', 'device': 'DeviceEcephys'}], 'ElectricalSeries': {'name': 'ElectricalSeries', 'description': 'Acquisition traces for the ElectricalSeries.'}}}\n"
     ]
    },
    {
     "ename": "AttributeError",
     "evalue": "property of 'NWBFile' object has no setter",
     "output_type": "error",
     "traceback": [
      "\u001b[0;31m---------------------------------------------------------------------------\u001b[0m",
      "\u001b[0;31mAttributeError\u001b[0m                            Traceback (most recent call last)",
      "Cell \u001b[0;32mIn[17], line 19\u001b[0m\n\u001b[1;32m     16\u001b[0m nwbfile \u001b[38;5;241m=\u001b[39m io\u001b[38;5;241m.\u001b[39mread()\n\u001b[1;32m     18\u001b[0m \u001b[38;5;66;03m# Update session start time with exact time from Open Ephys\u001b[39;00m\n\u001b[0;32m---> 19\u001b[0m \u001b[43mnwbfile\u001b[49m\u001b[38;5;241;43m.\u001b[39;49m\u001b[43msession_start_time\u001b[49m \u001b[38;5;241m=\u001b[39m open_ephys_metadata[\u001b[38;5;124m'\u001b[39m\u001b[38;5;124mNWBFile\u001b[39m\u001b[38;5;124m'\u001b[39m]\u001b[38;5;241m.\u001b[39mget(\u001b[38;5;124m'\u001b[39m\u001b[38;5;124msession_start_time\u001b[39m\u001b[38;5;124m'\u001b[39m, nwbfile\u001b[38;5;241m.\u001b[39msession_start_time)\n\u001b[1;32m     21\u001b[0m \u001b[38;5;66;03m# Run the conversion to append data\u001b[39;00m\n\u001b[1;32m     22\u001b[0m interface\u001b[38;5;241m.\u001b[39mrun_conversion(\n\u001b[1;32m     23\u001b[0m     nwbfile\u001b[38;5;241m=\u001b[39mnwbfile,\n\u001b[1;32m     24\u001b[0m     metadata\u001b[38;5;241m=\u001b[39mopen_ephys_metadata,\n\u001b[1;32m     25\u001b[0m     save_to_file\u001b[38;5;241m=\u001b[39m\u001b[38;5;28;01mFalse\u001b[39;00m  \u001b[38;5;66;03m# Modify the existing NWB instead of saving to new file\u001b[39;00m\n\u001b[1;32m     26\u001b[0m )\n",
      "\u001b[0;31mAttributeError\u001b[0m: property of 'NWBFile' object has no setter"
     ]
    }
   ],
   "source": [
    "# Now add ephys stuff to that NWB!\n",
    "\n",
    "# Get path to open ephys recording for the session\n",
    "open_ephys_folder = get_open_ephys_path(rat, date)\n",
    "print(open_ephys_folder)\n",
    "\n",
    "# Read Open Ephys data for this session\n",
    "interface = OpenEphysRecordingInterface(folder_path=open_ephys_folder)\n",
    "# Extract what metadata we can from the source files\n",
    "open_ephys_metadata = interface.get_metadata()\n",
    "print(open_ephys_metadata)\n",
    "\n",
    "# Open the existing NWB file in 'a' mode (append mode)\n",
    "with NWBHDF5IO(nwb_name, 'a') as io:\n",
    "    # Read the existing NWB file\n",
    "    nwbfile = io.read()\n",
    "\n",
    "    # Update session start time with exact time from Open Ephys\n",
    "    nwbfile.session_start_time = open_ephys_metadata['NWBFile'].get('session_start_time', nwbfile.session_start_time)\n",
    "\n",
    "    # Run the conversion to append data\n",
    "    interface.run_conversion(\n",
    "        nwbfile=nwbfile,\n",
    "        metadata=open_ephys_metadata,\n",
    "        save_to_file=False  # Modify the existing NWB instead of saving to new file\n",
    "    )\n",
    "\n",
    "    # Write the changes back to the NWB file\n",
    "    io.write(nwbfile)"
   ]
  },
  {
   "cell_type": "code",
   "execution_count": 16,
   "metadata": {},
   "outputs": [
    {
     "name": "stdout",
     "output_type": "stream",
     "text": [
      "Session description: Barrier change session with 3 blocks, ephys and photometry\n",
      "Identifier: 2d3bd02c-f613-4b17-839a-475fa55fd442\n",
      "Session start time: 2022-07-19 00:00:00-07:00\n",
      "Experimenter: ('Tim Krausz',)\n",
      "\n",
      "Acquisition data:\n",
      "\n",
      "Processing modules:\n",
      "\n",
      "Stimulus presentations:\n"
     ]
    }
   ],
   "source": [
    "# Load the NWB to check it out\n",
    "\n",
    "# Open the NWB file\n",
    "with NWBHDF5IO(nwb_name, 'r') as io:\n",
    "    nwbfile = io.read()\n",
    "\n",
    "    # Print basic metadata\n",
    "    print(f\"Session description: {nwbfile.session_description}\")\n",
    "    print(f\"Identifier: {nwbfile.identifier}\")\n",
    "    print(f\"Session start time: {nwbfile.session_start_time}\")\n",
    "    print(f\"Experimenter: {nwbfile.experimenter}\")\n",
    "    \n",
    "    # List all available data\n",
    "    print(\"\\nAcquisition data:\")\n",
    "    for acquisition in nwbfile.acquisition:\n",
    "        print(f\" - {acquisition}\")\n",
    "\n",
    "    print(\"\\nProcessing modules:\")\n",
    "    for module_name in nwbfile.processing:\n",
    "        print(f\" - {module_name}\")\n",
    "\n",
    "    print(\"\\nStimulus presentations:\")\n",
    "    for stimulus in nwbfile.stimulus:\n",
    "        print(f\" - {stimulus}\")\n",
    "    \n",
    "    # Inspect specific acquisition data (assuming there is at least one)\n",
    "    if nwbfile.acquisition:\n",
    "        acquisition_name = list(nwbfile.acquisition.keys())[0]\n",
    "        acquisition_data = nwbfile.acquisition[acquisition_name]\n",
    "        print(f\"\\nDetails of acquisition data '{acquisition_name}':\")\n",
    "        print(f\" - Data type: {type(acquisition_data)}\")\n",
    "        print(f\" - Description: {acquisition_data.description}\")\n",
    "        print(f\" - Starting time: {acquisition_data.starting_time}\")\n",
    "        print(f\" - Rate: {acquisition_data.rate}\")\n",
    "    \n",
    "    # Inspect electrode data\n",
    "    if nwbfile.electrodes is not None:\n",
    "        print(\"\\nElectrodes table:\")\n",
    "        print(nwbfile.electrodes.to_dataframe())\n"
   ]
  }
 ],
 "metadata": {
  "kernelspec": {
   "display_name": "venv",
   "language": "python",
   "name": "python3"
  },
  "language_info": {
   "codemirror_mode": {
    "name": "ipython",
    "version": 3
   },
   "file_extension": ".py",
   "mimetype": "text/x-python",
   "name": "python",
   "nbconvert_exporter": "python",
   "pygments_lexer": "ipython3",
   "version": "3.12.3"
  }
 },
 "nbformat": 4,
 "nbformat_minor": 2
}
